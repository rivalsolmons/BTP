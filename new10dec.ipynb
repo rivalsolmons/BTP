{
  "cells": [
    {
      "cell_type": "markdown",
      "metadata": {
        "id": "view-in-github",
        "colab_type": "text"
      },
      "source": [
        "<a href=\"https://colab.research.google.com/github/rivalsolmons/BTP/blob/main/new10dec.ipynb\" target=\"_parent\"><img src=\"https://colab.research.google.com/assets/colab-badge.svg\" alt=\"Open In Colab\"/></a>"
      ]
    },
    {
      "cell_type": "markdown",
      "metadata": {
        "id": "Xg-Htvjr-iZl"
      },
      "source": [
        "# Effort and cost Estimation in Agile Software Development"
      ]
    },
    {
      "cell_type": "code",
      "execution_count": 442,
      "metadata": {
        "id": "11ahIf4W9FOI"
      },
      "outputs": [],
      "source": [
        "#@title Effort Estimation on Zia \n",
        "import math\n",
        "import pandas as pd\n",
        "from scipy.stats import pearsonr\n",
        "import matplotlib.pyplot as plt\n",
        "import seaborn as sns\n",
        "from sklearn.model_selection import train_test_split\n",
        "from sklearn.neighbors import KNeighborsRegressor\n",
        "from sklearn.linear_model import LinearRegression\n",
        "from sklearn.svm import SVR\n",
        "from sklearn.svm import SVR\n",
        "from sklearn.model_selection import GridSearchCV\n",
        "from matplotlib.colors import ListedColormap  \n",
        "from sklearn.neighbors import KNeighborsClassifier\n",
        "from sklearn.metrics import confusion_matrix,ConfusionMatrixDisplay\n",
        "\n",
        "from sklearn.metrics import classification_report\n",
        "\n",
        "data_read = pd.read_csv('Zia_upd2.csv')"
      ]
    },
    {
      "cell_type": "code",
      "execution_count": 443,
      "metadata": {
        "colab": {
          "base_uri": "https://localhost:8080/",
          "height": 206
        },
        "id": "3Uq7ZZUf-bOC",
        "outputId": "dcd8b455-9913-49ac-ad4f-5d42810cfb80"
      },
      "outputs": [
        {
          "output_type": "execute_result",
          "data": {
            "text/plain": [
              "   Effort   Vi      D    V  Sprint_Size  Work_days  Team_Salary  Act_Time  \\\n",
              "0     156  4.2  0.687  2.7           10         22       230000        63   \n",
              "1     202  3.7  0.701  2.5           10         21       260000        92   \n",
              "2     173  4.0  0.878  3.3           10         22       250000        56   \n",
              "3     331  4.5  0.886  3.8           10         22       300000        86   \n",
              "4     124  4.9  0.903  4.2           10         22       300000        32   \n",
              "\n",
              "   Actual_Cost  \n",
              "0      1200000  \n",
              "1      1600000  \n",
              "2      1000000  \n",
              "3      2100000  \n",
              "4       750000  "
            ],
            "text/html": [
              "\n",
              "  <div id=\"df-28baf2e3-34d5-43b8-94b0-019563c540f7\">\n",
              "    <div class=\"colab-df-container\">\n",
              "      <div>\n",
              "<style scoped>\n",
              "    .dataframe tbody tr th:only-of-type {\n",
              "        vertical-align: middle;\n",
              "    }\n",
              "\n",
              "    .dataframe tbody tr th {\n",
              "        vertical-align: top;\n",
              "    }\n",
              "\n",
              "    .dataframe thead th {\n",
              "        text-align: right;\n",
              "    }\n",
              "</style>\n",
              "<table border=\"1\" class=\"dataframe\">\n",
              "  <thead>\n",
              "    <tr style=\"text-align: right;\">\n",
              "      <th></th>\n",
              "      <th>Effort</th>\n",
              "      <th>Vi</th>\n",
              "      <th>D</th>\n",
              "      <th>V</th>\n",
              "      <th>Sprint_Size</th>\n",
              "      <th>Work_days</th>\n",
              "      <th>Team_Salary</th>\n",
              "      <th>Act_Time</th>\n",
              "      <th>Actual_Cost</th>\n",
              "    </tr>\n",
              "  </thead>\n",
              "  <tbody>\n",
              "    <tr>\n",
              "      <th>0</th>\n",
              "      <td>156</td>\n",
              "      <td>4.2</td>\n",
              "      <td>0.687</td>\n",
              "      <td>2.7</td>\n",
              "      <td>10</td>\n",
              "      <td>22</td>\n",
              "      <td>230000</td>\n",
              "      <td>63</td>\n",
              "      <td>1200000</td>\n",
              "    </tr>\n",
              "    <tr>\n",
              "      <th>1</th>\n",
              "      <td>202</td>\n",
              "      <td>3.7</td>\n",
              "      <td>0.701</td>\n",
              "      <td>2.5</td>\n",
              "      <td>10</td>\n",
              "      <td>21</td>\n",
              "      <td>260000</td>\n",
              "      <td>92</td>\n",
              "      <td>1600000</td>\n",
              "    </tr>\n",
              "    <tr>\n",
              "      <th>2</th>\n",
              "      <td>173</td>\n",
              "      <td>4.0</td>\n",
              "      <td>0.878</td>\n",
              "      <td>3.3</td>\n",
              "      <td>10</td>\n",
              "      <td>22</td>\n",
              "      <td>250000</td>\n",
              "      <td>56</td>\n",
              "      <td>1000000</td>\n",
              "    </tr>\n",
              "    <tr>\n",
              "      <th>3</th>\n",
              "      <td>331</td>\n",
              "      <td>4.5</td>\n",
              "      <td>0.886</td>\n",
              "      <td>3.8</td>\n",
              "      <td>10</td>\n",
              "      <td>22</td>\n",
              "      <td>300000</td>\n",
              "      <td>86</td>\n",
              "      <td>2100000</td>\n",
              "    </tr>\n",
              "    <tr>\n",
              "      <th>4</th>\n",
              "      <td>124</td>\n",
              "      <td>4.9</td>\n",
              "      <td>0.903</td>\n",
              "      <td>4.2</td>\n",
              "      <td>10</td>\n",
              "      <td>22</td>\n",
              "      <td>300000</td>\n",
              "      <td>32</td>\n",
              "      <td>750000</td>\n",
              "    </tr>\n",
              "  </tbody>\n",
              "</table>\n",
              "</div>\n",
              "      <button class=\"colab-df-convert\" onclick=\"convertToInteractive('df-28baf2e3-34d5-43b8-94b0-019563c540f7')\"\n",
              "              title=\"Convert this dataframe to an interactive table.\"\n",
              "              style=\"display:none;\">\n",
              "        \n",
              "  <svg xmlns=\"http://www.w3.org/2000/svg\" height=\"24px\"viewBox=\"0 0 24 24\"\n",
              "       width=\"24px\">\n",
              "    <path d=\"M0 0h24v24H0V0z\" fill=\"none\"/>\n",
              "    <path d=\"M18.56 5.44l.94 2.06.94-2.06 2.06-.94-2.06-.94-.94-2.06-.94 2.06-2.06.94zm-11 1L8.5 8.5l.94-2.06 2.06-.94-2.06-.94L8.5 2.5l-.94 2.06-2.06.94zm10 10l.94 2.06.94-2.06 2.06-.94-2.06-.94-.94-2.06-.94 2.06-2.06.94z\"/><path d=\"M17.41 7.96l-1.37-1.37c-.4-.4-.92-.59-1.43-.59-.52 0-1.04.2-1.43.59L10.3 9.45l-7.72 7.72c-.78.78-.78 2.05 0 2.83L4 21.41c.39.39.9.59 1.41.59.51 0 1.02-.2 1.41-.59l7.78-7.78 2.81-2.81c.8-.78.8-2.07 0-2.86zM5.41 20L4 18.59l7.72-7.72 1.47 1.35L5.41 20z\"/>\n",
              "  </svg>\n",
              "      </button>\n",
              "      \n",
              "  <style>\n",
              "    .colab-df-container {\n",
              "      display:flex;\n",
              "      flex-wrap:wrap;\n",
              "      gap: 12px;\n",
              "    }\n",
              "\n",
              "    .colab-df-convert {\n",
              "      background-color: #E8F0FE;\n",
              "      border: none;\n",
              "      border-radius: 50%;\n",
              "      cursor: pointer;\n",
              "      display: none;\n",
              "      fill: #1967D2;\n",
              "      height: 32px;\n",
              "      padding: 0 0 0 0;\n",
              "      width: 32px;\n",
              "    }\n",
              "\n",
              "    .colab-df-convert:hover {\n",
              "      background-color: #E2EBFA;\n",
              "      box-shadow: 0px 1px 2px rgba(60, 64, 67, 0.3), 0px 1px 3px 1px rgba(60, 64, 67, 0.15);\n",
              "      fill: #174EA6;\n",
              "    }\n",
              "\n",
              "    [theme=dark] .colab-df-convert {\n",
              "      background-color: #3B4455;\n",
              "      fill: #D2E3FC;\n",
              "    }\n",
              "\n",
              "    [theme=dark] .colab-df-convert:hover {\n",
              "      background-color: #434B5C;\n",
              "      box-shadow: 0px 1px 3px 1px rgba(0, 0, 0, 0.15);\n",
              "      filter: drop-shadow(0px 1px 2px rgba(0, 0, 0, 0.3));\n",
              "      fill: #FFFFFF;\n",
              "    }\n",
              "  </style>\n",
              "\n",
              "      <script>\n",
              "        const buttonEl =\n",
              "          document.querySelector('#df-28baf2e3-34d5-43b8-94b0-019563c540f7 button.colab-df-convert');\n",
              "        buttonEl.style.display =\n",
              "          google.colab.kernel.accessAllowed ? 'block' : 'none';\n",
              "\n",
              "        async function convertToInteractive(key) {\n",
              "          const element = document.querySelector('#df-28baf2e3-34d5-43b8-94b0-019563c540f7');\n",
              "          const dataTable =\n",
              "            await google.colab.kernel.invokeFunction('convertToInteractive',\n",
              "                                                     [key], {});\n",
              "          if (!dataTable) return;\n",
              "\n",
              "          const docLinkHtml = 'Like what you see? Visit the ' +\n",
              "            '<a target=\"_blank\" href=https://colab.research.google.com/notebooks/data_table.ipynb>data table notebook</a>'\n",
              "            + ' to learn more about interactive tables.';\n",
              "          element.innerHTML = '';\n",
              "          dataTable['output_type'] = 'display_data';\n",
              "          await google.colab.output.renderOutput(dataTable, element);\n",
              "          const docLink = document.createElement('div');\n",
              "          docLink.innerHTML = docLinkHtml;\n",
              "          element.appendChild(docLink);\n",
              "        }\n",
              "      </script>\n",
              "    </div>\n",
              "  </div>\n",
              "  "
            ]
          },
          "metadata": {},
          "execution_count": 443
        }
      ],
      "source": [
        "data_read.head()"
      ]
    },
    {
      "cell_type": "code",
      "execution_count": 444,
      "metadata": {
        "id": "1cIKsFp8SkjN"
      },
      "outputs": [],
      "source": [
        "#@title Defining Category 1 and Category 2\n",
        "\n",
        "\n",
        "features = [\t'Vi',\t'D',\t'V',\t'Sprint_Size',\t'Work_days',\t'Team_Salary',\t'Act_Time', 'Actual_Cost']\n",
        "#features = ['Actual_Cost',\t'Vi',\t'D',\t'V',\t'Sprint_Size',\t'Work_days',\t'Act_Time']\n",
        "\n",
        "\n",
        "\n",
        "Cat_1 = data_read[features]\n",
        "Cat_2 = data_read['Effort']"
      ]
    },
    {
      "cell_type": "code",
      "execution_count": 445,
      "metadata": {
        "colab": {
          "base_uri": "https://localhost:8080/",
          "height": 300
        },
        "id": "ZB46SrBPCmES",
        "outputId": "f71a5f6b-9af1-4eec-9d86-fdddb495bc8e"
      },
      "outputs": [
        {
          "output_type": "execute_result",
          "data": {
            "text/plain": [
              "              Vi          D          V  Sprint_Size  Work_days    Team_Salary  \\\n",
              "count  21.000000  21.000000  21.000000         21.0  21.000000      21.000000   \n",
              "mean    4.071429   0.780381   3.023810         10.0  21.952381  246190.476190   \n",
              "std     0.325796   0.071028   0.438069          0.0   0.218218   46419.413016   \n",
              "min     3.700000   0.646000   2.400000         10.0  21.000000  190000.000000   \n",
              "25%     3.900000   0.742000   2.800000         10.0  22.000000  220000.000000   \n",
              "50%     4.000000   0.758000   2.900000         10.0  22.000000  250000.000000   \n",
              "75%     4.200000   0.833000   3.200000         10.0  22.000000  250000.000000   \n",
              "max     4.900000   0.903000   4.200000         10.0  22.000000  400000.000000   \n",
              "\n",
              "         Act_Time   Actual_Cost  \n",
              "count   21.000000  2.100000e+01  \n",
              "mean    56.428571  1.114286e+06  \n",
              "std     26.177417  7.058936e+05  \n",
              "min     21.000000  3.500000e+05  \n",
              "25%     35.000000  6.000000e+05  \n",
              "50%     52.000000  8.000000e+05  \n",
              "75%     80.000000  1.500000e+06  \n",
              "max    112.000000  3.200000e+06  "
            ],
            "text/html": [
              "\n",
              "  <div id=\"df-06dbb564-cfe8-4c6f-8226-0346d91abeb0\">\n",
              "    <div class=\"colab-df-container\">\n",
              "      <div>\n",
              "<style scoped>\n",
              "    .dataframe tbody tr th:only-of-type {\n",
              "        vertical-align: middle;\n",
              "    }\n",
              "\n",
              "    .dataframe tbody tr th {\n",
              "        vertical-align: top;\n",
              "    }\n",
              "\n",
              "    .dataframe thead th {\n",
              "        text-align: right;\n",
              "    }\n",
              "</style>\n",
              "<table border=\"1\" class=\"dataframe\">\n",
              "  <thead>\n",
              "    <tr style=\"text-align: right;\">\n",
              "      <th></th>\n",
              "      <th>Vi</th>\n",
              "      <th>D</th>\n",
              "      <th>V</th>\n",
              "      <th>Sprint_Size</th>\n",
              "      <th>Work_days</th>\n",
              "      <th>Team_Salary</th>\n",
              "      <th>Act_Time</th>\n",
              "      <th>Actual_Cost</th>\n",
              "    </tr>\n",
              "  </thead>\n",
              "  <tbody>\n",
              "    <tr>\n",
              "      <th>count</th>\n",
              "      <td>21.000000</td>\n",
              "      <td>21.000000</td>\n",
              "      <td>21.000000</td>\n",
              "      <td>21.0</td>\n",
              "      <td>21.000000</td>\n",
              "      <td>21.000000</td>\n",
              "      <td>21.000000</td>\n",
              "      <td>2.100000e+01</td>\n",
              "    </tr>\n",
              "    <tr>\n",
              "      <th>mean</th>\n",
              "      <td>4.071429</td>\n",
              "      <td>0.780381</td>\n",
              "      <td>3.023810</td>\n",
              "      <td>10.0</td>\n",
              "      <td>21.952381</td>\n",
              "      <td>246190.476190</td>\n",
              "      <td>56.428571</td>\n",
              "      <td>1.114286e+06</td>\n",
              "    </tr>\n",
              "    <tr>\n",
              "      <th>std</th>\n",
              "      <td>0.325796</td>\n",
              "      <td>0.071028</td>\n",
              "      <td>0.438069</td>\n",
              "      <td>0.0</td>\n",
              "      <td>0.218218</td>\n",
              "      <td>46419.413016</td>\n",
              "      <td>26.177417</td>\n",
              "      <td>7.058936e+05</td>\n",
              "    </tr>\n",
              "    <tr>\n",
              "      <th>min</th>\n",
              "      <td>3.700000</td>\n",
              "      <td>0.646000</td>\n",
              "      <td>2.400000</td>\n",
              "      <td>10.0</td>\n",
              "      <td>21.000000</td>\n",
              "      <td>190000.000000</td>\n",
              "      <td>21.000000</td>\n",
              "      <td>3.500000e+05</td>\n",
              "    </tr>\n",
              "    <tr>\n",
              "      <th>25%</th>\n",
              "      <td>3.900000</td>\n",
              "      <td>0.742000</td>\n",
              "      <td>2.800000</td>\n",
              "      <td>10.0</td>\n",
              "      <td>22.000000</td>\n",
              "      <td>220000.000000</td>\n",
              "      <td>35.000000</td>\n",
              "      <td>6.000000e+05</td>\n",
              "    </tr>\n",
              "    <tr>\n",
              "      <th>50%</th>\n",
              "      <td>4.000000</td>\n",
              "      <td>0.758000</td>\n",
              "      <td>2.900000</td>\n",
              "      <td>10.0</td>\n",
              "      <td>22.000000</td>\n",
              "      <td>250000.000000</td>\n",
              "      <td>52.000000</td>\n",
              "      <td>8.000000e+05</td>\n",
              "    </tr>\n",
              "    <tr>\n",
              "      <th>75%</th>\n",
              "      <td>4.200000</td>\n",
              "      <td>0.833000</td>\n",
              "      <td>3.200000</td>\n",
              "      <td>10.0</td>\n",
              "      <td>22.000000</td>\n",
              "      <td>250000.000000</td>\n",
              "      <td>80.000000</td>\n",
              "      <td>1.500000e+06</td>\n",
              "    </tr>\n",
              "    <tr>\n",
              "      <th>max</th>\n",
              "      <td>4.900000</td>\n",
              "      <td>0.903000</td>\n",
              "      <td>4.200000</td>\n",
              "      <td>10.0</td>\n",
              "      <td>22.000000</td>\n",
              "      <td>400000.000000</td>\n",
              "      <td>112.000000</td>\n",
              "      <td>3.200000e+06</td>\n",
              "    </tr>\n",
              "  </tbody>\n",
              "</table>\n",
              "</div>\n",
              "      <button class=\"colab-df-convert\" onclick=\"convertToInteractive('df-06dbb564-cfe8-4c6f-8226-0346d91abeb0')\"\n",
              "              title=\"Convert this dataframe to an interactive table.\"\n",
              "              style=\"display:none;\">\n",
              "        \n",
              "  <svg xmlns=\"http://www.w3.org/2000/svg\" height=\"24px\"viewBox=\"0 0 24 24\"\n",
              "       width=\"24px\">\n",
              "    <path d=\"M0 0h24v24H0V0z\" fill=\"none\"/>\n",
              "    <path d=\"M18.56 5.44l.94 2.06.94-2.06 2.06-.94-2.06-.94-.94-2.06-.94 2.06-2.06.94zm-11 1L8.5 8.5l.94-2.06 2.06-.94-2.06-.94L8.5 2.5l-.94 2.06-2.06.94zm10 10l.94 2.06.94-2.06 2.06-.94-2.06-.94-.94-2.06-.94 2.06-2.06.94z\"/><path d=\"M17.41 7.96l-1.37-1.37c-.4-.4-.92-.59-1.43-.59-.52 0-1.04.2-1.43.59L10.3 9.45l-7.72 7.72c-.78.78-.78 2.05 0 2.83L4 21.41c.39.39.9.59 1.41.59.51 0 1.02-.2 1.41-.59l7.78-7.78 2.81-2.81c.8-.78.8-2.07 0-2.86zM5.41 20L4 18.59l7.72-7.72 1.47 1.35L5.41 20z\"/>\n",
              "  </svg>\n",
              "      </button>\n",
              "      \n",
              "  <style>\n",
              "    .colab-df-container {\n",
              "      display:flex;\n",
              "      flex-wrap:wrap;\n",
              "      gap: 12px;\n",
              "    }\n",
              "\n",
              "    .colab-df-convert {\n",
              "      background-color: #E8F0FE;\n",
              "      border: none;\n",
              "      border-radius: 50%;\n",
              "      cursor: pointer;\n",
              "      display: none;\n",
              "      fill: #1967D2;\n",
              "      height: 32px;\n",
              "      padding: 0 0 0 0;\n",
              "      width: 32px;\n",
              "    }\n",
              "\n",
              "    .colab-df-convert:hover {\n",
              "      background-color: #E2EBFA;\n",
              "      box-shadow: 0px 1px 2px rgba(60, 64, 67, 0.3), 0px 1px 3px 1px rgba(60, 64, 67, 0.15);\n",
              "      fill: #174EA6;\n",
              "    }\n",
              "\n",
              "    [theme=dark] .colab-df-convert {\n",
              "      background-color: #3B4455;\n",
              "      fill: #D2E3FC;\n",
              "    }\n",
              "\n",
              "    [theme=dark] .colab-df-convert:hover {\n",
              "      background-color: #434B5C;\n",
              "      box-shadow: 0px 1px 3px 1px rgba(0, 0, 0, 0.15);\n",
              "      filter: drop-shadow(0px 1px 2px rgba(0, 0, 0, 0.3));\n",
              "      fill: #FFFFFF;\n",
              "    }\n",
              "  </style>\n",
              "\n",
              "      <script>\n",
              "        const buttonEl =\n",
              "          document.querySelector('#df-06dbb564-cfe8-4c6f-8226-0346d91abeb0 button.colab-df-convert');\n",
              "        buttonEl.style.display =\n",
              "          google.colab.kernel.accessAllowed ? 'block' : 'none';\n",
              "\n",
              "        async function convertToInteractive(key) {\n",
              "          const element = document.querySelector('#df-06dbb564-cfe8-4c6f-8226-0346d91abeb0');\n",
              "          const dataTable =\n",
              "            await google.colab.kernel.invokeFunction('convertToInteractive',\n",
              "                                                     [key], {});\n",
              "          if (!dataTable) return;\n",
              "\n",
              "          const docLinkHtml = 'Like what you see? Visit the ' +\n",
              "            '<a target=\"_blank\" href=https://colab.research.google.com/notebooks/data_table.ipynb>data table notebook</a>'\n",
              "            + ' to learn more about interactive tables.';\n",
              "          element.innerHTML = '';\n",
              "          dataTable['output_type'] = 'display_data';\n",
              "          await google.colab.output.renderOutput(dataTable, element);\n",
              "          const docLink = document.createElement('div');\n",
              "          docLink.innerHTML = docLinkHtml;\n",
              "          element.appendChild(docLink);\n",
              "        }\n",
              "      </script>\n",
              "    </div>\n",
              "  </div>\n",
              "  "
            ]
          },
          "metadata": {},
          "execution_count": 445
        }
      ],
      "source": [
        "#For Debugging Purpose\n",
        " \n",
        "##Cat_1=data_read.drop(['Actual_Cost'],axis=1).values\n",
        "#Cat_1=data_read(db_a).values\n",
        "#Cat_1=data_read['Effort',\t'Vi',\t'D',\t'V',\t'Sprint_Size',\t'Work_days',\t'Team_Salary',\t'Act_Time',\t'Est_time'].values\n",
        "##Cat_2=data_read['Actual_Cost'].values\n",
        "\n",
        "\n",
        "\n",
        "#@title Describing Categorical Data \n",
        "Cat_1.describe()\n"
      ]
    },
    {
      "cell_type": "code",
      "execution_count": 446,
      "metadata": {
        "id": "GEXGsEJbF3oo"
      },
      "outputs": [],
      "source": [
        "#For debugging purpose\n",
        "#print(Cat_1)"
      ]
    },
    {
      "cell_type": "code",
      "execution_count": 447,
      "metadata": {
        "colab": {
          "base_uri": "https://localhost:8080/",
          "height": 708
        },
        "id": "EK8En7n2fnjK",
        "outputId": "5f559557-8894-4359-d5a5-5fb7e215badd"
      },
      "outputs": [
        {
          "output_type": "display_data",
          "data": {
            "text/plain": [
              "     Vi      D    V  Sprint_Size  Work_days  Team_Salary  Act_Time  \\\n",
              "0   4.2  0.687  2.7           10         22       230000        63   \n",
              "1   3.7  0.701  2.5           10         21       260000        92   \n",
              "2   4.0  0.878  3.3           10         22       250000        56   \n",
              "3   4.5  0.886  3.8           10         22       300000        86   \n",
              "4   4.9  0.903  4.2           10         22       300000        32   \n",
              "5   4.1  0.903  3.6           10         22       400000        91   \n",
              "6   4.2  0.859  3.4           10         22       250000        35   \n",
              "7   3.8  0.833  3.0           10         22       250000        93   \n",
              "8   3.9  0.646  2.4           10         22       190000        36   \n",
              "9   4.6  0.758  3.2           10         22       250000        62   \n",
              "10  4.6  0.758  3.2           10         22       250000        45   \n",
              "11  3.9  0.773  2.9           10         22       200000        37   \n",
              "12  3.9  0.773  2.9           10         22       200000        32   \n",
              "13  3.9  0.773  2.9           10         22       200000        30   \n",
              "14  3.9  0.773  2.9           10         22       200000        21   \n",
              "15  4.0  0.742  2.8           10         22       250000       112   \n",
              "16  4.0  0.742  2.8           10         22       250000        39   \n",
              "17  4.0  0.742  2.8           10         22       250000        52   \n",
              "18  4.0  0.742  2.8           10         22       250000        80   \n",
              "19  3.7  0.758  2.7           10         22       220000        56   \n",
              "20  3.7  0.758  2.7           10         22       220000        35   \n",
              "\n",
              "    Actual_Cost  \n",
              "0       1200000  \n",
              "1       1600000  \n",
              "2       1000000  \n",
              "3       2100000  \n",
              "4        750000  \n",
              "5       3200000  \n",
              "6        600000  \n",
              "7       1800000  \n",
              "8        500000  \n",
              "9       1200000  \n",
              "10       800000  \n",
              "11       650000  \n",
              "12       600000  \n",
              "13       400000  \n",
              "14       350000  \n",
              "15      2000000  \n",
              "16       800000  \n",
              "17      1000000  \n",
              "18      1500000  \n",
              "19       800000  \n",
              "20       550000  "
            ],
            "text/html": [
              "\n",
              "  <div id=\"df-d55334f3-2723-4d05-9896-fcb3f6b7826c\">\n",
              "    <div class=\"colab-df-container\">\n",
              "      <div>\n",
              "<style scoped>\n",
              "    .dataframe tbody tr th:only-of-type {\n",
              "        vertical-align: middle;\n",
              "    }\n",
              "\n",
              "    .dataframe tbody tr th {\n",
              "        vertical-align: top;\n",
              "    }\n",
              "\n",
              "    .dataframe thead th {\n",
              "        text-align: right;\n",
              "    }\n",
              "</style>\n",
              "<table border=\"1\" class=\"dataframe\">\n",
              "  <thead>\n",
              "    <tr style=\"text-align: right;\">\n",
              "      <th></th>\n",
              "      <th>Vi</th>\n",
              "      <th>D</th>\n",
              "      <th>V</th>\n",
              "      <th>Sprint_Size</th>\n",
              "      <th>Work_days</th>\n",
              "      <th>Team_Salary</th>\n",
              "      <th>Act_Time</th>\n",
              "      <th>Actual_Cost</th>\n",
              "    </tr>\n",
              "  </thead>\n",
              "  <tbody>\n",
              "    <tr>\n",
              "      <th>0</th>\n",
              "      <td>4.2</td>\n",
              "      <td>0.687</td>\n",
              "      <td>2.7</td>\n",
              "      <td>10</td>\n",
              "      <td>22</td>\n",
              "      <td>230000</td>\n",
              "      <td>63</td>\n",
              "      <td>1200000</td>\n",
              "    </tr>\n",
              "    <tr>\n",
              "      <th>1</th>\n",
              "      <td>3.7</td>\n",
              "      <td>0.701</td>\n",
              "      <td>2.5</td>\n",
              "      <td>10</td>\n",
              "      <td>21</td>\n",
              "      <td>260000</td>\n",
              "      <td>92</td>\n",
              "      <td>1600000</td>\n",
              "    </tr>\n",
              "    <tr>\n",
              "      <th>2</th>\n",
              "      <td>4.0</td>\n",
              "      <td>0.878</td>\n",
              "      <td>3.3</td>\n",
              "      <td>10</td>\n",
              "      <td>22</td>\n",
              "      <td>250000</td>\n",
              "      <td>56</td>\n",
              "      <td>1000000</td>\n",
              "    </tr>\n",
              "    <tr>\n",
              "      <th>3</th>\n",
              "      <td>4.5</td>\n",
              "      <td>0.886</td>\n",
              "      <td>3.8</td>\n",
              "      <td>10</td>\n",
              "      <td>22</td>\n",
              "      <td>300000</td>\n",
              "      <td>86</td>\n",
              "      <td>2100000</td>\n",
              "    </tr>\n",
              "    <tr>\n",
              "      <th>4</th>\n",
              "      <td>4.9</td>\n",
              "      <td>0.903</td>\n",
              "      <td>4.2</td>\n",
              "      <td>10</td>\n",
              "      <td>22</td>\n",
              "      <td>300000</td>\n",
              "      <td>32</td>\n",
              "      <td>750000</td>\n",
              "    </tr>\n",
              "    <tr>\n",
              "      <th>5</th>\n",
              "      <td>4.1</td>\n",
              "      <td>0.903</td>\n",
              "      <td>3.6</td>\n",
              "      <td>10</td>\n",
              "      <td>22</td>\n",
              "      <td>400000</td>\n",
              "      <td>91</td>\n",
              "      <td>3200000</td>\n",
              "    </tr>\n",
              "    <tr>\n",
              "      <th>6</th>\n",
              "      <td>4.2</td>\n",
              "      <td>0.859</td>\n",
              "      <td>3.4</td>\n",
              "      <td>10</td>\n",
              "      <td>22</td>\n",
              "      <td>250000</td>\n",
              "      <td>35</td>\n",
              "      <td>600000</td>\n",
              "    </tr>\n",
              "    <tr>\n",
              "      <th>7</th>\n",
              "      <td>3.8</td>\n",
              "      <td>0.833</td>\n",
              "      <td>3.0</td>\n",
              "      <td>10</td>\n",
              "      <td>22</td>\n",
              "      <td>250000</td>\n",
              "      <td>93</td>\n",
              "      <td>1800000</td>\n",
              "    </tr>\n",
              "    <tr>\n",
              "      <th>8</th>\n",
              "      <td>3.9</td>\n",
              "      <td>0.646</td>\n",
              "      <td>2.4</td>\n",
              "      <td>10</td>\n",
              "      <td>22</td>\n",
              "      <td>190000</td>\n",
              "      <td>36</td>\n",
              "      <td>500000</td>\n",
              "    </tr>\n",
              "    <tr>\n",
              "      <th>9</th>\n",
              "      <td>4.6</td>\n",
              "      <td>0.758</td>\n",
              "      <td>3.2</td>\n",
              "      <td>10</td>\n",
              "      <td>22</td>\n",
              "      <td>250000</td>\n",
              "      <td>62</td>\n",
              "      <td>1200000</td>\n",
              "    </tr>\n",
              "    <tr>\n",
              "      <th>10</th>\n",
              "      <td>4.6</td>\n",
              "      <td>0.758</td>\n",
              "      <td>3.2</td>\n",
              "      <td>10</td>\n",
              "      <td>22</td>\n",
              "      <td>250000</td>\n",
              "      <td>45</td>\n",
              "      <td>800000</td>\n",
              "    </tr>\n",
              "    <tr>\n",
              "      <th>11</th>\n",
              "      <td>3.9</td>\n",
              "      <td>0.773</td>\n",
              "      <td>2.9</td>\n",
              "      <td>10</td>\n",
              "      <td>22</td>\n",
              "      <td>200000</td>\n",
              "      <td>37</td>\n",
              "      <td>650000</td>\n",
              "    </tr>\n",
              "    <tr>\n",
              "      <th>12</th>\n",
              "      <td>3.9</td>\n",
              "      <td>0.773</td>\n",
              "      <td>2.9</td>\n",
              "      <td>10</td>\n",
              "      <td>22</td>\n",
              "      <td>200000</td>\n",
              "      <td>32</td>\n",
              "      <td>600000</td>\n",
              "    </tr>\n",
              "    <tr>\n",
              "      <th>13</th>\n",
              "      <td>3.9</td>\n",
              "      <td>0.773</td>\n",
              "      <td>2.9</td>\n",
              "      <td>10</td>\n",
              "      <td>22</td>\n",
              "      <td>200000</td>\n",
              "      <td>30</td>\n",
              "      <td>400000</td>\n",
              "    </tr>\n",
              "    <tr>\n",
              "      <th>14</th>\n",
              "      <td>3.9</td>\n",
              "      <td>0.773</td>\n",
              "      <td>2.9</td>\n",
              "      <td>10</td>\n",
              "      <td>22</td>\n",
              "      <td>200000</td>\n",
              "      <td>21</td>\n",
              "      <td>350000</td>\n",
              "    </tr>\n",
              "    <tr>\n",
              "      <th>15</th>\n",
              "      <td>4.0</td>\n",
              "      <td>0.742</td>\n",
              "      <td>2.8</td>\n",
              "      <td>10</td>\n",
              "      <td>22</td>\n",
              "      <td>250000</td>\n",
              "      <td>112</td>\n",
              "      <td>2000000</td>\n",
              "    </tr>\n",
              "    <tr>\n",
              "      <th>16</th>\n",
              "      <td>4.0</td>\n",
              "      <td>0.742</td>\n",
              "      <td>2.8</td>\n",
              "      <td>10</td>\n",
              "      <td>22</td>\n",
              "      <td>250000</td>\n",
              "      <td>39</td>\n",
              "      <td>800000</td>\n",
              "    </tr>\n",
              "    <tr>\n",
              "      <th>17</th>\n",
              "      <td>4.0</td>\n",
              "      <td>0.742</td>\n",
              "      <td>2.8</td>\n",
              "      <td>10</td>\n",
              "      <td>22</td>\n",
              "      <td>250000</td>\n",
              "      <td>52</td>\n",
              "      <td>1000000</td>\n",
              "    </tr>\n",
              "    <tr>\n",
              "      <th>18</th>\n",
              "      <td>4.0</td>\n",
              "      <td>0.742</td>\n",
              "      <td>2.8</td>\n",
              "      <td>10</td>\n",
              "      <td>22</td>\n",
              "      <td>250000</td>\n",
              "      <td>80</td>\n",
              "      <td>1500000</td>\n",
              "    </tr>\n",
              "    <tr>\n",
              "      <th>19</th>\n",
              "      <td>3.7</td>\n",
              "      <td>0.758</td>\n",
              "      <td>2.7</td>\n",
              "      <td>10</td>\n",
              "      <td>22</td>\n",
              "      <td>220000</td>\n",
              "      <td>56</td>\n",
              "      <td>800000</td>\n",
              "    </tr>\n",
              "    <tr>\n",
              "      <th>20</th>\n",
              "      <td>3.7</td>\n",
              "      <td>0.758</td>\n",
              "      <td>2.7</td>\n",
              "      <td>10</td>\n",
              "      <td>22</td>\n",
              "      <td>220000</td>\n",
              "      <td>35</td>\n",
              "      <td>550000</td>\n",
              "    </tr>\n",
              "  </tbody>\n",
              "</table>\n",
              "</div>\n",
              "      <button class=\"colab-df-convert\" onclick=\"convertToInteractive('df-d55334f3-2723-4d05-9896-fcb3f6b7826c')\"\n",
              "              title=\"Convert this dataframe to an interactive table.\"\n",
              "              style=\"display:none;\">\n",
              "        \n",
              "  <svg xmlns=\"http://www.w3.org/2000/svg\" height=\"24px\"viewBox=\"0 0 24 24\"\n",
              "       width=\"24px\">\n",
              "    <path d=\"M0 0h24v24H0V0z\" fill=\"none\"/>\n",
              "    <path d=\"M18.56 5.44l.94 2.06.94-2.06 2.06-.94-2.06-.94-.94-2.06-.94 2.06-2.06.94zm-11 1L8.5 8.5l.94-2.06 2.06-.94-2.06-.94L8.5 2.5l-.94 2.06-2.06.94zm10 10l.94 2.06.94-2.06 2.06-.94-2.06-.94-.94-2.06-.94 2.06-2.06.94z\"/><path d=\"M17.41 7.96l-1.37-1.37c-.4-.4-.92-.59-1.43-.59-.52 0-1.04.2-1.43.59L10.3 9.45l-7.72 7.72c-.78.78-.78 2.05 0 2.83L4 21.41c.39.39.9.59 1.41.59.51 0 1.02-.2 1.41-.59l7.78-7.78 2.81-2.81c.8-.78.8-2.07 0-2.86zM5.41 20L4 18.59l7.72-7.72 1.47 1.35L5.41 20z\"/>\n",
              "  </svg>\n",
              "      </button>\n",
              "      \n",
              "  <style>\n",
              "    .colab-df-container {\n",
              "      display:flex;\n",
              "      flex-wrap:wrap;\n",
              "      gap: 12px;\n",
              "    }\n",
              "\n",
              "    .colab-df-convert {\n",
              "      background-color: #E8F0FE;\n",
              "      border: none;\n",
              "      border-radius: 50%;\n",
              "      cursor: pointer;\n",
              "      display: none;\n",
              "      fill: #1967D2;\n",
              "      height: 32px;\n",
              "      padding: 0 0 0 0;\n",
              "      width: 32px;\n",
              "    }\n",
              "\n",
              "    .colab-df-convert:hover {\n",
              "      background-color: #E2EBFA;\n",
              "      box-shadow: 0px 1px 2px rgba(60, 64, 67, 0.3), 0px 1px 3px 1px rgba(60, 64, 67, 0.15);\n",
              "      fill: #174EA6;\n",
              "    }\n",
              "\n",
              "    [theme=dark] .colab-df-convert {\n",
              "      background-color: #3B4455;\n",
              "      fill: #D2E3FC;\n",
              "    }\n",
              "\n",
              "    [theme=dark] .colab-df-convert:hover {\n",
              "      background-color: #434B5C;\n",
              "      box-shadow: 0px 1px 3px 1px rgba(0, 0, 0, 0.15);\n",
              "      filter: drop-shadow(0px 1px 2px rgba(0, 0, 0, 0.3));\n",
              "      fill: #FFFFFF;\n",
              "    }\n",
              "  </style>\n",
              "\n",
              "      <script>\n",
              "        const buttonEl =\n",
              "          document.querySelector('#df-d55334f3-2723-4d05-9896-fcb3f6b7826c button.colab-df-convert');\n",
              "        buttonEl.style.display =\n",
              "          google.colab.kernel.accessAllowed ? 'block' : 'none';\n",
              "\n",
              "        async function convertToInteractive(key) {\n",
              "          const element = document.querySelector('#df-d55334f3-2723-4d05-9896-fcb3f6b7826c');\n",
              "          const dataTable =\n",
              "            await google.colab.kernel.invokeFunction('convertToInteractive',\n",
              "                                                     [key], {});\n",
              "          if (!dataTable) return;\n",
              "\n",
              "          const docLinkHtml = 'Like what you see? Visit the ' +\n",
              "            '<a target=\"_blank\" href=https://colab.research.google.com/notebooks/data_table.ipynb>data table notebook</a>'\n",
              "            + ' to learn more about interactive tables.';\n",
              "          element.innerHTML = '';\n",
              "          dataTable['output_type'] = 'display_data';\n",
              "          await google.colab.output.renderOutput(dataTable, element);\n",
              "          const docLink = document.createElement('div');\n",
              "          docLink.innerHTML = docLinkHtml;\n",
              "          element.appendChild(docLink);\n",
              "        }\n",
              "      </script>\n",
              "    </div>\n",
              "  </div>\n",
              "  "
            ]
          },
          "metadata": {}
        }
      ],
      "source": [
        "#@title Describe the raw Data of splitted trained set from the dataframe\n",
        "display(Cat_1)"
      ]
    },
    {
      "cell_type": "code",
      "execution_count": 447,
      "metadata": {
        "id": "QNqBXkqLxY8T"
      },
      "outputs": [],
      "source": []
    },
    {
      "cell_type": "code",
      "execution_count": 448,
      "metadata": {
        "colab": {
          "base_uri": "https://localhost:8080/"
        },
        "id": "g97XTJ12xXe_",
        "outputId": "c9ab0a45-b75e-458e-f538-4cbf51489262"
      },
      "outputs": [
        {
          "output_type": "stream",
          "name": "stdout",
          "text": [
            "The overall nummber of projects are:  21\n"
          ]
        }
      ],
      "source": [
        "print('The overall nummber of projects are: ',len(Cat_2))"
      ]
    },
    {
      "cell_type": "code",
      "execution_count": 449,
      "metadata": {
        "colab": {
          "base_uri": "https://localhost:8080/",
          "height": 399
        },
        "id": "hDINeKSAF-uO",
        "outputId": "ecec0e46-1992-4d9a-d778-8a2402b18505"
      },
      "outputs": [
        {
          "output_type": "display_data",
          "data": {
            "text/plain": [
              "0     156\n",
              "1     202\n",
              "2     173\n",
              "3     331\n",
              "4     124\n",
              "5     339\n",
              "6      97\n",
              "7     257\n",
              "8      84\n",
              "9     211\n",
              "10    131\n",
              "11    112\n",
              "12    101\n",
              "13     74\n",
              "14     62\n",
              "15    289\n",
              "16    113\n",
              "17    141\n",
              "18    213\n",
              "19    137\n",
              "20     91\n",
              "Name: Effort, dtype: int64"
            ]
          },
          "metadata": {}
        }
      ],
      "source": [
        "display(Cat_2)"
      ]
    },
    {
      "cell_type": "code",
      "execution_count": 450,
      "metadata": {
        "id": "24lr9lwxGEYY"
      },
      "outputs": [],
      "source": [
        "\n",
        "\n",
        "from sklearn.model_selection import train_test_split\n",
        "\n",
        "x_train,x_test,y_train,y_test = train_test_split(Cat_1,Cat_2,test_size=0.20, random_state=0)\n",
        "from sklearn.linear_model import LinearRegression\n",
        "ml = LinearRegression()\n",
        "ml.fit(x_train,y_train)\n",
        "ml.predict(x_test)\n",
        "y_pred1 = ml.predict(x_test)\n",
        "\n",
        "ypredx=len(x_test)\n",
        "## For Debugging Purpose\n",
        "\n",
        "\n",
        "# print(len(y_pred1))\n",
        "# print('xtrain',len(x_train))\n",
        "# print('xtest',len(x_test))"
      ]
    },
    {
      "cell_type": "code",
      "execution_count": 451,
      "metadata": {
        "colab": {
          "base_uri": "https://localhost:8080/"
        },
        "id": "0lSgG170XhmO",
        "outputId": "ba93ac70-248e-4cf3-dded-86c327fba4c7"
      },
      "outputs": [
        {
          "output_type": "stream",
          "name": "stdout",
          "text": [
            "8      84\n",
            "13     74\n",
            "20     91\n",
            "1     202\n",
            "11    112\n",
            "Name: Effort, dtype: int64\n"
          ]
        }
      ],
      "source": [
        "import math\n",
        "print(y_test)\n"
      ]
    },
    {
      "cell_type": "code",
      "execution_count": 452,
      "metadata": {
        "colab": {
          "base_uri": "https://localhost:8080/"
        },
        "id": "OaydKt4JYbMs",
        "outputId": "db3da951-667a-480a-c607-6c3c7af5d1d2"
      },
      "outputs": [
        {
          "output_type": "stream",
          "name": "stdout",
          "text": [
            "[ 74.47682286  80.91188027  75.77505588 205.70522814 113.86072131]\n"
          ]
        }
      ],
      "source": [
        "print(y_pred1)"
      ]
    },
    {
      "cell_type": "code",
      "execution_count": 453,
      "metadata": {
        "id": "MwXmlqdxKkcU"
      },
      "outputs": [],
      "source": [
        "ml.predict(x_train)\n",
        "x_train_pred_lr= ml.predict(x_train)"
      ]
    },
    {
      "cell_type": "code",
      "execution_count": 491,
      "metadata": {
        "colab": {
          "base_uri": "https://localhost:8080/"
        },
        "id": "76pId02oLNmz",
        "outputId": "c0327eed-d1ad-4a14-8a9c-c0948c3052ca"
      },
      "outputs": [
        {
          "output_type": "stream",
          "name": "stdout",
          "text": [
            "r2 Score:: 0.9640152579803739\n",
            "Mean Absolute error::: 7.445190192851681\n",
            "MSE 77.49098285474352\n",
            "Root Mean Squared Error:: 8.802896276495794\n"
          ]
        }
      ],
      "source": [
        "from sklearn.metrics import r2_score\n",
        "\n",
        "\n",
        "import numpy as np\n",
        "from sklearn.metrics import mean_absolute_error\n",
        "from sklearn.metrics import mean_squared_error\n",
        "import math\n",
        "\n",
        "\n",
        "\n",
        "print('r2 Score::',r2_score(y_test,y_pred1))\n",
        "print(\"Mean Absolute error:::\",mean_absolute_error(y_test,y_pred1))\n",
        "print('MSE', mean_squared_error(y_test,y_pred1))\n",
        "xv= math.sqrt(mean_squared_error(y_test,y_pred1))\n",
        "print(\"Root Mean Squared Error::\",xv)"
      ]
    },
    {
      "cell_type": "code",
      "execution_count": 455,
      "metadata": {
        "id": "qviLcRVIQynI"
      },
      "outputs": [],
      "source": [
        "\n",
        "#   diff=np.absolute(y_test-y_pred1)\n",
        "#   MRE=diff/y_test\n",
        "#   MMRE=np.mean(MRE)\n",
        "\n",
        "# print('MMRE :',MMRE)"
      ]
    },
    {
      "cell_type": "code",
      "execution_count": 456,
      "metadata": {
        "colab": {
          "base_uri": "https://localhost:8080/",
          "height": 474
        },
        "id": "Xm0sykHILvFR",
        "outputId": "bf018817-28b1-49d2-9f96-c7c09c56efca"
      },
      "outputs": [
        {
          "output_type": "execute_result",
          "data": {
            "text/plain": [
              "Text(0.5, 1.0, 'Effort Actual vs Predicted Linear Regresssion')"
            ]
          },
          "metadata": {},
          "execution_count": 456
        },
        {
          "output_type": "display_data",
          "data": {
            "text/plain": [
              "<Figure size 504x504 with 1 Axes>"
            ],
            "image/png": "[encoded data removed]"
          },
          "metadata": {}
        }
      ],
      "source": [
        "import matplotlib.pyplot as plt\n",
        "\n",
        "plt.figure(figsize=(7,7))\n",
        "plt.scatter(y_train, x_train_pred_lr ,label='Train Data',color='red' )\n",
        "plt.scatter(y_test, y_pred1)\n",
        "\n",
        "\n",
        "#plt.scatter()\n",
        "plt.xlabel('Actual Effort of the project')\n",
        "plt.ylabel('Predicted Effort of the project')\n",
        "plt.title('Effort Actual vs Predicted Linear Regresssion')\n",
        "\n",
        "\n"
      ]
    },
    {
      "cell_type": "code",
      "execution_count": 457,
      "metadata": {
        "id": "fJOcL_cRxXHO"
      },
      "outputs": [],
      "source": [
        "arr =pd.DataFrame({'Actual  Cost':y_test })\n",
        "arr1 =pd.DataFrame({'Predicted Cost':y_pred1})"
      ]
    },
    {
      "cell_type": "markdown",
      "metadata": {
        "id": "0lPoJ6XOcpfF"
      },
      "source": [
        "# Now calculating Diffrence between actual and predicted Values"
      ]
    },
    {
      "cell_type": "code",
      "execution_count": 458,
      "metadata": {
        "colab": {
          "base_uri": "https://localhost:8080/",
          "height": 206
        },
        "id": "pamvLYhRcEtl",
        "outputId": "a6dac26d-0526-4619-ced4-57e4103caf96"
      },
      "outputs": [
        {
          "output_type": "execute_result",
          "data": {
            "text/plain": [
              "    Actual Values of Cost  Predicted Cost  Difference\n",
              "8                      84       74.476823    9.523177\n",
              "13                     74       80.911880   -6.911880\n",
              "20                     91       75.775056   15.224944\n",
              "1                     202      205.705228   -3.705228\n",
              "11                    112      113.860721   -1.860721"
            ],
            "text/html": [
              "\n",
              "  <div id=\"df-dbf25eef-29f3-4253-971e-e0724d1b97eb\">\n",
              "    <div class=\"colab-df-container\">\n",
              "      <div>\n",
              "<style scoped>\n",
              "    .dataframe tbody tr th:only-of-type {\n",
              "        vertical-align: middle;\n",
              "    }\n",
              "\n",
              "    .dataframe tbody tr th {\n",
              "        vertical-align: top;\n",
              "    }\n",
              "\n",
              "    .dataframe thead th {\n",
              "        text-align: right;\n",
              "    }\n",
              "</style>\n",
              "<table border=\"1\" class=\"dataframe\">\n",
              "  <thead>\n",
              "    <tr style=\"text-align: right;\">\n",
              "      <th></th>\n",
              "      <th>Actual Values of Cost</th>\n",
              "      <th>Predicted Cost</th>\n",
              "      <th>Difference</th>\n",
              "    </tr>\n",
              "  </thead>\n",
              "  <tbody>\n",
              "    <tr>\n",
              "      <th>8</th>\n",
              "      <td>84</td>\n",
              "      <td>74.476823</td>\n",
              "      <td>9.523177</td>\n",
              "    </tr>\n",
              "    <tr>\n",
              "      <th>13</th>\n",
              "      <td>74</td>\n",
              "      <td>80.911880</td>\n",
              "      <td>-6.911880</td>\n",
              "    </tr>\n",
              "    <tr>\n",
              "      <th>20</th>\n",
              "      <td>91</td>\n",
              "      <td>75.775056</td>\n",
              "      <td>15.224944</td>\n",
              "    </tr>\n",
              "    <tr>\n",
              "      <th>1</th>\n",
              "      <td>202</td>\n",
              "      <td>205.705228</td>\n",
              "      <td>-3.705228</td>\n",
              "    </tr>\n",
              "    <tr>\n",
              "      <th>11</th>\n",
              "      <td>112</td>\n",
              "      <td>113.860721</td>\n",
              "      <td>-1.860721</td>\n",
              "    </tr>\n",
              "  </tbody>\n",
              "</table>\n",
              "</div>\n",
              "      <button class=\"colab-df-convert\" onclick=\"convertToInteractive('df-dbf25eef-29f3-4253-971e-e0724d1b97eb')\"\n",
              "              title=\"Convert this dataframe to an interactive table.\"\n",
              "              style=\"display:none;\">\n",
              "        \n",
              "  <svg xmlns=\"http://www.w3.org/2000/svg\" height=\"24px\"viewBox=\"0 0 24 24\"\n",
              "       width=\"24px\">\n",
              "    <path d=\"M0 0h24v24H0V0z\" fill=\"none\"/>\n",
              "    <path d=\"M18.56 5.44l.94 2.06.94-2.06 2.06-.94-2.06-.94-.94-2.06-.94 2.06-2.06.94zm-11 1L8.5 8.5l.94-2.06 2.06-.94-2.06-.94L8.5 2.5l-.94 2.06-2.06.94zm10 10l.94 2.06.94-2.06 2.06-.94-2.06-.94-.94-2.06-.94 2.06-2.06.94z\"/><path d=\"M17.41 7.96l-1.37-1.37c-.4-.4-.92-.59-1.43-.59-.52 0-1.04.2-1.43.59L10.3 9.45l-7.72 7.72c-.78.78-.78 2.05 0 2.83L4 21.41c.39.39.9.59 1.41.59.51 0 1.02-.2 1.41-.59l7.78-7.78 2.81-2.81c.8-.78.8-2.07 0-2.86zM5.41 20L4 18.59l7.72-7.72 1.47 1.35L5.41 20z\"/>\n",
              "  </svg>\n",
              "      </button>\n",
              "      \n",
              "  <style>\n",
              "    .colab-df-container {\n",
              "      display:flex;\n",
              "      flex-wrap:wrap;\n",
              "      gap: 12px;\n",
              "    }\n",
              "\n",
              "    .colab-df-convert {\n",
              "      background-color: #E8F0FE;\n",
              "      border: none;\n",
              "      border-radius: 50%;\n",
              "      cursor: pointer;\n",
              "      display: none;\n",
              "      fill: #1967D2;\n",
              "      height: 32px;\n",
              "      padding: 0 0 0 0;\n",
              "      width: 32px;\n",
              "    }\n",
              "\n",
              "    .colab-df-convert:hover {\n",
              "      background-color: #E2EBFA;\n",
              "      box-shadow: 0px 1px 2px rgba(60, 64, 67, 0.3), 0px 1px 3px 1px rgba(60, 64, 67, 0.15);\n",
              "      fill: #174EA6;\n",
              "    }\n",
              "\n",
              "    [theme=dark] .colab-df-convert {\n",
              "      background-color: #3B4455;\n",
              "      fill: #D2E3FC;\n",
              "    }\n",
              "\n",
              "    [theme=dark] .colab-df-convert:hover {\n",
              "      background-color: #434B5C;\n",
              "      box-shadow: 0px 1px 3px 1px rgba(0, 0, 0, 0.15);\n",
              "      filter: drop-shadow(0px 1px 2px rgba(0, 0, 0, 0.3));\n",
              "      fill: #FFFFFF;\n",
              "    }\n",
              "  </style>\n",
              "\n",
              "      <script>\n",
              "        const buttonEl =\n",
              "          document.querySelector('#df-dbf25eef-29f3-4253-971e-e0724d1b97eb button.colab-df-convert');\n",
              "        buttonEl.style.display =\n",
              "          google.colab.kernel.accessAllowed ? 'block' : 'none';\n",
              "\n",
              "        async function convertToInteractive(key) {\n",
              "          const element = document.querySelector('#df-dbf25eef-29f3-4253-971e-e0724d1b97eb');\n",
              "          const dataTable =\n",
              "            await google.colab.kernel.invokeFunction('convertToInteractive',\n",
              "                                                     [key], {});\n",
              "          if (!dataTable) return;\n",
              "\n",
              "          const docLinkHtml = 'Like what you see? Visit the ' +\n",
              "            '<a target=\"_blank\" href=https://colab.research.google.com/notebooks/data_table.ipynb>data table notebook</a>'\n",
              "            + ' to learn more about interactive tables.';\n",
              "          element.innerHTML = '';\n",
              "          dataTable['output_type'] = 'display_data';\n",
              "          await google.colab.output.renderOutput(dataTable, element);\n",
              "          const docLink = document.createElement('div');\n",
              "          docLink.innerHTML = docLinkHtml;\n",
              "          element.appendChild(docLink);\n",
              "        }\n",
              "      </script>\n",
              "    </div>\n",
              "  </div>\n",
              "  "
            ]
          },
          "metadata": {},
          "execution_count": 458
        }
      ],
      "source": [
        "import pandas as pd\n",
        "pred_y_diff = pd.DataFrame({'Actual Values of Cost':y_test,'Predicted Cost':y_pred1,'Difference':y_test-y_pred1})\n",
        "\n",
        "#print(pred_y_diff.dtypes)\n",
        "#\n",
        "#pred_y_diff= pd.DataFrame(range(3), columns=['y_pred1'])\n",
        "#pred_y_diff.y_pred1 = pred_y_diff.y_pred1.astype(float)\n",
        "\n",
        "\n",
        "pred_y_diff[0:21]\n"
      ]
    },
    {
      "cell_type": "code",
      "execution_count": 459,
      "metadata": {
        "id": "PDj-qc-6rBfy"
      },
      "outputs": [],
      "source": [
        "#arr = pred_y_diff.to_numpy()\n",
        "arr =pd.DataFrame({'Actual  Cost':y_test })\n",
        "arr1 =pd.DataFrame({'Predicted Cost':y_pred1})\n",
        "arr2 =pd.DataFrame({'Difference':y_test-y_pred1})"
      ]
    },
    {
      "cell_type": "code",
      "execution_count": 460,
      "metadata": {
        "colab": {
          "base_uri": "https://localhost:8080/"
        },
        "id": "xI2UkK8zrnkI",
        "outputId": "7dfdc531-7106-4eef-be85-9011156b2b1b"
      },
      "outputs": [
        {
          "output_type": "stream",
          "name": "stdout",
          "text": [
            "    Actual  Cost\n",
            "8             84\n",
            "13            74\n",
            "20            91\n",
            "1            202\n",
            "11           112\n"
          ]
        }
      ],
      "source": [
        "\n",
        "print(arr)"
      ]
    },
    {
      "cell_type": "code",
      "execution_count": 460,
      "metadata": {
        "id": "qA91sNePwbCs"
      },
      "outputs": [],
      "source": [
        "\n"
      ]
    },
    {
      "cell_type": "code",
      "execution_count": 461,
      "metadata": {
        "colab": {
          "base_uri": "https://localhost:8080/"
        },
        "id": "VjQkdeBSU6yK",
        "outputId": "318fb80b-8671-4653-882e-bd674ac03e5d"
      },
      "outputs": [
        {
          "output_type": "stream",
          "name": "stdout",
          "text": [
            "    Difference\n",
            "8     9.523177\n",
            "13    6.911880\n",
            "20   15.224944\n",
            "1     3.705228\n",
            "11    1.860721\n"
          ]
        }
      ],
      "source": [
        "print(np.absolute(arr2))"
      ]
    },
    {
      "cell_type": "code",
      "execution_count": 462,
      "metadata": {
        "id": "T5Mc0NawwfYE"
      },
      "outputs": [],
      "source": [
        "arr22= [];\n",
        "arr11=[];\n",
        "i=1\n",
        "k=1\n",
        "for i in arr:\n",
        "  xx= arr[i]\n",
        "  arr22.append(xx)\n",
        "for k in arr1:\n",
        "  yy= arr1[k]\n",
        "  arr11.append(yy)"
      ]
    },
    {
      "cell_type": "code",
      "execution_count": 463,
      "metadata": {
        "colab": {
          "base_uri": "https://localhost:8080/"
        },
        "id": "aqsnwXDWygPH",
        "outputId": "26095fb8-fd73-49ab-8dea-57a49075bd2a"
      },
      "outputs": [
        {
          "output_type": "stream",
          "name": "stdout",
          "text": [
            "1\n"
          ]
        }
      ],
      "source": [
        "#print(arr22[0][0])\n",
        "#print(arr11[0][0])\n",
        "print(len(arr11))\n",
        "Diff=[];\n",
        "i=0\n",
        "#for i in range(0,5):\n",
        "   # vv=arr22[0][i]-arr11[0][i]\n",
        "#    Diff.append(vv)\n",
        "#    print(vv)"
      ]
    },
    {
      "cell_type": "code",
      "execution_count": 463,
      "metadata": {
        "id": "PwghxyDx5Jgv"
      },
      "outputs": [],
      "source": []
    },
    {
      "cell_type": "code",
      "execution_count": 464,
      "metadata": {
        "id": "Bb4rAWrFtNZy"
      },
      "outputs": [],
      "source": [
        "#pred_y_diff = pd.DataFrame({'Actual  Cost':y_test,'Predicted Cost':y_pred1,'Difference':y_test-y_pred1,'MMRE':1/6((y_test-y_pred1)/y_test) })"
      ]
    },
    {
      "cell_type": "code",
      "execution_count": 475,
      "metadata": {
        "colab": {
          "base_uri": "https://localhost:8080/"
        },
        "id": "4ztrf4Fttk_G",
        "outputId": "580ab63a-1ebc-4fa7-ed77-e970385259a5"
      },
      "outputs": [
        {
          "output_type": "stream",
          "name": "stdout",
          "text": [
            "5\n",
            "Mean Absolute error::: 15.066666666666668\n",
            "The r_sq y_test , y_test_pred is: 0.74\n"
          ]
        }
      ],
      "source": [
        "# @title KNeiboursRegressor \n",
        "from sklearn.neighbors import KNeighborsRegressor\n",
        "from sklearn.model_selection import train_test_split\n",
        "\n",
        "#print('x_train length :',len(x_train))\n",
        "x_train,x_test,y_train,y_test = train_test_split(Cat_1,Cat_2, test_size=0.20, random_state=0)\n",
        "#print(len(y_pred1))\n",
        "#print('x_train length:',len(x_train))\n",
        "#print('x_test length:',len(x_test))\n",
        "\n",
        "neigh = KNeighborsRegressor(n_neighbors=3, weights='uniform')\n",
        "neigh.fit(x_train,y_train)\n",
        "y_pred=neigh.predict(x_test) \n",
        "\n",
        "#print(classification_report(y_test,y_pred))\n",
        "\n",
        "#predict =neigh.predict(y_pred)\n",
        "#print(neigh.score(y_test, y_pred))\n",
        "\n",
        "import numpy as np\n",
        "from sklearn.metrics import mean_absolute_error\n",
        "#\n",
        "\n",
        "print(len(y_pred))\n",
        "print(\"Mean Absolute error:::\",mean_absolute_error(y_test,y_pred))\n",
        "#print(\"Mean Absolute error:::\",np.sqrt(mean_absolute_error(y_test,y_pred)))\n",
        "\n",
        "\n",
        "# The r_sq\n",
        "print('The r_sq  is: %.2f'% r2_score(y_test,y_pred))\n"
      ]
    },
    {
      "cell_type": "code",
      "execution_count": 467,
      "metadata": {
        "colab": {
          "base_uri": "https://localhost:8080/"
        },
        "id": "qbljkfJYXPNQ",
        "outputId": "d2b9ae5c-5992-416d-9398-d84a8851207c"
      },
      "outputs": [
        {
          "output_type": "stream",
          "name": "stdout",
          "text": [
            "Mean Squared Error:: 561.8222222222223\n",
            "Root Mean Squared Error:: 23.702789334215968\n",
            "MMRE : 0.02178712658910679\n"
          ]
        }
      ],
      "source": [
        "print(\"Mean Squared Error::\",mean_squared_error(y_test,y_pred))\n",
        "xv= math.sqrt(mean_squared_error(y_test,y_pred))\n",
        "print(\"Root Mean Squared Error::\",xv)\n",
        "\n",
        "#MMRE USING LOGICAL CALCULATION\n",
        "\n",
        "diff=np.absolute((y_test-y_pred)/y_test)\n",
        "MRE=diff/len(y_test) \n",
        "MMRE=np.mean(MRE)\n",
        "\n",
        "print('MMRE :',MMRE)"
      ]
    },
    {
      "cell_type": "code",
      "execution_count": null,
      "metadata": {
        "id": "6BAGrKGU8kjD"
      },
      "outputs": [],
      "source": [
        "import pandas as pd\n",
        "\n",
        "pred_y_diff = pd.DataFrame({'Actual Values of Cost':y_test,'Predicted Cost':y_pred,'Difference':y_test-y_pred})\n",
        "xyy=pred_y_diff.Difference.abs()\n",
        "pred_y_diff[0:21]"
      ]
    },
    {
      "cell_type": "code",
      "execution_count": null,
      "metadata": {
        "id": "oaXo4IIiYi-a"
      },
      "outputs": [],
      "source": [
        "pred_mre = pd.DataFrame({'Actual Values of Cost':y_test,'Predicted Cost':y_pred,'MRE':(y_test-y_pred)/y_test})\n",
        "\n",
        "\n",
        "pred_mre[0:21]"
      ]
    },
    {
      "cell_type": "markdown",
      "metadata": {
        "id": "CCWxo5JClMQL"
      },
      "source": [
        "----------------------------"
      ]
    },
    {
      "cell_type": "code",
      "execution_count": null,
      "metadata": {
        "id": "Yb-jNcUDby5a"
      },
      "outputs": [],
      "source": [
        "#@title CALCULATING THE MMRE\n",
        "\n",
        "#MAKING THE VALUES ABSOLUTE \n",
        "xyy=pred_mre.MRE.abs()\n",
        "Raw_mean = xyy.sum()/len(pred_mre) #Total Projects in the Dataset are 21\n",
        "#print('MMRE :',Raw_mean)\n",
        "\n",
        "# percentage MMRE \n",
        "print(Raw_mean)\n",
        "#print('Percentage MMRE :',Raw_mean*100)"
      ]
    },
    {
      "cell_type": "markdown",
      "metadata": {
        "id": "86adLKC83Yxt"
      },
      "source": [
        "Decision Tree Implementation"
      ]
    },
    {
      "cell_type": "markdown",
      "metadata": {
        "id": "5oseIRB9gJrB"
      },
      "source": [
        "## Decision Tree Implementation "
      ]
    },
    {
      "cell_type": "code",
      "execution_count": 468,
      "metadata": {
        "colab": {
          "base_uri": "https://localhost:8080/",
          "height": 206
        },
        "id": "AQQvoYbjgICx",
        "outputId": "04899b38-8c30-4b10-b6b2-8938fc59a508"
      },
      "outputs": [
        {
          "output_type": "execute_result",
          "data": {
            "text/plain": [
              "   Effort   Vi      D    V  Sprint_Size  Work_days  Team_Salary  Act_Time  \\\n",
              "0     156  4.2  0.687  2.7           10         22       230000        63   \n",
              "1     202  3.7  0.701  2.5           10         21       260000        92   \n",
              "2     173  4.0  0.878  3.3           10         22       250000        56   \n",
              "3     331  4.5  0.886  3.8           10         22       300000        86   \n",
              "4     124  4.9  0.903  4.2           10         22       300000        32   \n",
              "\n",
              "   Actual_Cost  \n",
              "0      1200000  \n",
              "1      1600000  \n",
              "2      1000000  \n",
              "3      2100000  \n",
              "4       750000  "
            ],
            "text/html": [
              "\n",
              "  <div id=\"df-fe64b451-5aa3-42aa-82d5-60a6898a84c4\">\n",
              "    <div class=\"colab-df-container\">\n",
              "      <div>\n",
              "<style scoped>\n",
              "    .dataframe tbody tr th:only-of-type {\n",
              "        vertical-align: middle;\n",
              "    }\n",
              "\n",
              "    .dataframe tbody tr th {\n",
              "        vertical-align: top;\n",
              "    }\n",
              "\n",
              "    .dataframe thead th {\n",
              "        text-align: right;\n",
              "    }\n",
              "</style>\n",
              "<table border=\"1\" class=\"dataframe\">\n",
              "  <thead>\n",
              "    <tr style=\"text-align: right;\">\n",
              "      <th></th>\n",
              "      <th>Effort</th>\n",
              "      <th>Vi</th>\n",
              "      <th>D</th>\n",
              "      <th>V</th>\n",
              "      <th>Sprint_Size</th>\n",
              "      <th>Work_days</th>\n",
              "      <th>Team_Salary</th>\n",
              "      <th>Act_Time</th>\n",
              "      <th>Actual_Cost</th>\n",
              "    </tr>\n",
              "  </thead>\n",
              "  <tbody>\n",
              "    <tr>\n",
              "      <th>0</th>\n",
              "      <td>156</td>\n",
              "      <td>4.2</td>\n",
              "      <td>0.687</td>\n",
              "      <td>2.7</td>\n",
              "      <td>10</td>\n",
              "      <td>22</td>\n",
              "      <td>230000</td>\n",
              "      <td>63</td>\n",
              "      <td>1200000</td>\n",
              "    </tr>\n",
              "    <tr>\n",
              "      <th>1</th>\n",
              "      <td>202</td>\n",
              "      <td>3.7</td>\n",
              "      <td>0.701</td>\n",
              "      <td>2.5</td>\n",
              "      <td>10</td>\n",
              "      <td>21</td>\n",
              "      <td>260000</td>\n",
              "      <td>92</td>\n",
              "      <td>1600000</td>\n",
              "    </tr>\n",
              "    <tr>\n",
              "      <th>2</th>\n",
              "      <td>173</td>\n",
              "      <td>4.0</td>\n",
              "      <td>0.878</td>\n",
              "      <td>3.3</td>\n",
              "      <td>10</td>\n",
              "      <td>22</td>\n",
              "      <td>250000</td>\n",
              "      <td>56</td>\n",
              "      <td>1000000</td>\n",
              "    </tr>\n",
              "    <tr>\n",
              "      <th>3</th>\n",
              "      <td>331</td>\n",
              "      <td>4.5</td>\n",
              "      <td>0.886</td>\n",
              "      <td>3.8</td>\n",
              "      <td>10</td>\n",
              "      <td>22</td>\n",
              "      <td>300000</td>\n",
              "      <td>86</td>\n",
              "      <td>2100000</td>\n",
              "    </tr>\n",
              "    <tr>\n",
              "      <th>4</th>\n",
              "      <td>124</td>\n",
              "      <td>4.9</td>\n",
              "      <td>0.903</td>\n",
              "      <td>4.2</td>\n",
              "      <td>10</td>\n",
              "      <td>22</td>\n",
              "      <td>300000</td>\n",
              "      <td>32</td>\n",
              "      <td>750000</td>\n",
              "    </tr>\n",
              "  </tbody>\n",
              "</table>\n",
              "</div>\n",
              "      <button class=\"colab-df-convert\" onclick=\"convertToInteractive('df-fe64b451-5aa3-42aa-82d5-60a6898a84c4')\"\n",
              "              title=\"Convert this dataframe to an interactive table.\"\n",
              "              style=\"display:none;\">\n",
              "        \n",
              "  <svg xmlns=\"http://www.w3.org/2000/svg\" height=\"24px\"viewBox=\"0 0 24 24\"\n",
              "       width=\"24px\">\n",
              "    <path d=\"M0 0h24v24H0V0z\" fill=\"none\"/>\n",
              "    <path d=\"M18.56 5.44l.94 2.06.94-2.06 2.06-.94-2.06-.94-.94-2.06-.94 2.06-2.06.94zm-11 1L8.5 8.5l.94-2.06 2.06-.94-2.06-.94L8.5 2.5l-.94 2.06-2.06.94zm10 10l.94 2.06.94-2.06 2.06-.94-2.06-.94-.94-2.06-.94 2.06-2.06.94z\"/><path d=\"M17.41 7.96l-1.37-1.37c-.4-.4-.92-.59-1.43-.59-.52 0-1.04.2-1.43.59L10.3 9.45l-7.72 7.72c-.78.78-.78 2.05 0 2.83L4 21.41c.39.39.9.59 1.41.59.51 0 1.02-.2 1.41-.59l7.78-7.78 2.81-2.81c.8-.78.8-2.07 0-2.86zM5.41 20L4 18.59l7.72-7.72 1.47 1.35L5.41 20z\"/>\n",
              "  </svg>\n",
              "      </button>\n",
              "      \n",
              "  <style>\n",
              "    .colab-df-container {\n",
              "      display:flex;\n",
              "      flex-wrap:wrap;\n",
              "      gap: 12px;\n",
              "    }\n",
              "\n",
              "    .colab-df-convert {\n",
              "      background-color: #E8F0FE;\n",
              "      border: none;\n",
              "      border-radius: 50%;\n",
              "      cursor: pointer;\n",
              "      display: none;\n",
              "      fill: #1967D2;\n",
              "      height: 32px;\n",
              "      padding: 0 0 0 0;\n",
              "      width: 32px;\n",
              "    }\n",
              "\n",
              "    .colab-df-convert:hover {\n",
              "      background-color: #E2EBFA;\n",
              "      box-shadow: 0px 1px 2px rgba(60, 64, 67, 0.3), 0px 1px 3px 1px rgba(60, 64, 67, 0.15);\n",
              "      fill: #174EA6;\n",
              "    }\n",
              "\n",
              "    [theme=dark] .colab-df-convert {\n",
              "      background-color: #3B4455;\n",
              "      fill: #D2E3FC;\n",
              "    }\n",
              "\n",
              "    [theme=dark] .colab-df-convert:hover {\n",
              "      background-color: #434B5C;\n",
              "      box-shadow: 0px 1px 3px 1px rgba(0, 0, 0, 0.15);\n",
              "      filter: drop-shadow(0px 1px 2px rgba(0, 0, 0, 0.3));\n",
              "      fill: #FFFFFF;\n",
              "    }\n",
              "  </style>\n",
              "\n",
              "      <script>\n",
              "        const buttonEl =\n",
              "          document.querySelector('#df-fe64b451-5aa3-42aa-82d5-60a6898a84c4 button.colab-df-convert');\n",
              "        buttonEl.style.display =\n",
              "          google.colab.kernel.accessAllowed ? 'block' : 'none';\n",
              "\n",
              "        async function convertToInteractive(key) {\n",
              "          const element = document.querySelector('#df-fe64b451-5aa3-42aa-82d5-60a6898a84c4');\n",
              "          const dataTable =\n",
              "            await google.colab.kernel.invokeFunction('convertToInteractive',\n",
              "                                                     [key], {});\n",
              "          if (!dataTable) return;\n",
              "\n",
              "          const docLinkHtml = 'Like what you see? Visit the ' +\n",
              "            '<a target=\"_blank\" href=https://colab.research.google.com/notebooks/data_table.ipynb>data table notebook</a>'\n",
              "            + ' to learn more about interactive tables.';\n",
              "          element.innerHTML = '';\n",
              "          dataTable['output_type'] = 'display_data';\n",
              "          await google.colab.output.renderOutput(dataTable, element);\n",
              "          const docLink = document.createElement('div');\n",
              "          docLink.innerHTML = docLinkHtml;\n",
              "          element.appendChild(docLink);\n",
              "        }\n",
              "      </script>\n",
              "    </div>\n",
              "  </div>\n",
              "  "
            ]
          },
          "metadata": {},
          "execution_count": 468
        }
      ],
      "source": [
        "data_read.head()"
      ]
    },
    {
      "cell_type": "code",
      "execution_count": null,
      "metadata": {
        "id": "4v0RFhlXlQT5"
      },
      "outputs": [],
      "source": [
        "#Now to Prepare the Input and Output Features\n",
        "X= data_read.drop(['Effort'],axis=1)\n",
        "X.shape"
      ]
    },
    {
      "cell_type": "code",
      "execution_count": 469,
      "metadata": {
        "id": "AzRe_yB8mbev"
      },
      "outputs": [],
      "source": [
        "#Splitting the dataset into Trainingfset and test set\n",
        "\n",
        "#Splitting the dataset\n",
        "X_train,X_test,y_train,y_test = train_test_split(Cat_1,Cat_2, test_size=0.20 ,random_state=0)\n"
      ]
    },
    {
      "cell_type": "code",
      "execution_count": 470,
      "metadata": {
        "id": "bDmoXMWDnT1i"
      },
      "outputs": [],
      "source": [
        "from sklearn.tree import DecisionTreeRegressor\n",
        "from sklearn.model_selection import train_test_split\n",
        "import pandas as pd\n",
        "#Creating and Fitting the model\n",
        "regressor1 = DecisionTreeRegressor().fit(X_train,y_train)"
      ]
    },
    {
      "cell_type": "code",
      "execution_count": 471,
      "metadata": {
        "colab": {
          "base_uri": "https://localhost:8080/"
        },
        "id": "6Zq7ZjMentIn",
        "outputId": "f5db3e5f-99b5-4c56-d19e-a77f0c533363"
      },
      "outputs": [
        {
          "output_type": "stream",
          "name": "stdout",
          "text": [
            "Training R_sq is : 1.00\n"
          ]
        }
      ],
      "source": [
        "#The Coeffitient of Detern=mination \n",
        "print('Training R_sq is : %.2f'% regressor1.score(X_train,y_train))"
      ]
    },
    {
      "cell_type": "code",
      "execution_count": null,
      "metadata": {
        "id": "wE5QYOZRntm8"
      },
      "outputs": [],
      "source": []
    },
    {
      "cell_type": "code",
      "execution_count": 476,
      "metadata": {
        "id": "YzkecUyJo3B5"
      },
      "outputs": [],
      "source": [
        "# For the training model EVALUATION\n",
        "from  sklearn.metrics import mean_absolute_error , mean_squared_error, explained_variance_score , r2_score"
      ]
    },
    {
      "cell_type": "code",
      "execution_count": 477,
      "metadata": {
        "id": "oSTfOuIjoDoP"
      },
      "outputs": [],
      "source": [
        "#prediction on the training Dataset\n",
        "y_train_pred = regressor1.predict(X_train)\n",
        "\n"
      ]
    },
    {
      "cell_type": "code",
      "execution_count": 478,
      "metadata": {
        "colab": {
          "base_uri": "https://localhost:8080/"
        },
        "id": "THzjL519r1BL",
        "outputId": "e0e34be3-8a0b-4722-8ea9-060b205a93bd"
      },
      "outputs": [
        {
          "output_type": "stream",
          "name": "stdout",
          "text": [
            "The r_sq y_test , y_test_pred is: 1.00\n"
          ]
        }
      ],
      "source": [
        "\n",
        "# The r_sq\n",
        "print('The r_sq  is: %.2f'% r2_score(y_train,y_train_pred))"
      ]
    },
    {
      "cell_type": "code",
      "execution_count": null,
      "metadata": {
        "id": "YGpfe7bOrWs2"
      },
      "outputs": [],
      "source": []
    },
    {
      "cell_type": "code",
      "execution_count": 488,
      "metadata": {
        "id": "sD4p0K1grSXP",
        "colab": {
          "base_uri": "https://localhost:8080/"
        },
        "outputId": "4dd4c202-c641-4eba-c25c-882f08334f77"
      },
      "outputs": [
        {
          "output_type": "stream",
          "name": "stdout",
          "text": [
            "Mean Squared Error:: 155.0\n",
            "Mean Absolute Error:: 12.2\n",
            "Root Mean Squared Error:: 12.449899597988733\n"
          ]
        }
      ],
      "source": [
        "#prediction on testing the data\n",
        "y_test_pred_dt = regressor1.predict(X_test)\n",
        "print(\"Mean Squared Error::\",mean_squared_error(y_test,y_test_pred_dt))\n",
        "print(\"Mean Absolute Error::\",mean_absolute_error(y_test,y_test_pred_dt))\n",
        "xv= math.sqrt(mean_squared_error(y_test,y_test_pred_dt))\n",
        "print(\"Root Mean Squared Error::\",xv)"
      ]
    },
    {
      "cell_type": "code",
      "execution_count": 480,
      "metadata": {
        "colab": {
          "base_uri": "https://localhost:8080/"
        },
        "id": "bJZV9cB2rkWA",
        "outputId": "cf91e073-7d79-43e5-e157-315422808db8"
      },
      "outputs": [
        {
          "output_type": "stream",
          "name": "stdout",
          "text": [
            "The r Score on the predictrd trained Set: 0.93\n"
          ]
        }
      ],
      "source": [
        "# The r_sq\n",
        "print('The r Score on the predictrd trained Set: %.2f'% r2_score(y_test,y_test_pred_dt))\n",
        "\n"
      ]
    },
    {
      "cell_type": "code",
      "execution_count": 481,
      "metadata": {
        "colab": {
          "base_uri": "https://localhost:8080/",
          "height": 477
        },
        "id": "f9r28Y3hQV2l",
        "outputId": "d256b0d0-a601-44e7-f5ce-0cf5632e2a96"
      },
      "outputs": [
        {
          "output_type": "execute_result",
          "data": {
            "text/plain": [
              "<function matplotlib.pyplot.show(*args, **kw)>"
            ]
          },
          "metadata": {},
          "execution_count": 481
        },
        {
          "output_type": "display_data",
          "data": {
            "text/plain": [
              "<Figure size 720x432 with 1 Axes>"
            ],
            "image/png": "[encoded data removed]"
          },
          "metadata": {}
        }
      ],
      "source": [
        "# plotting the observed and predicted values \n",
        "\n",
        "\n",
        "# Setting the boundaries and parameters\n",
        "\n",
        "plt.rcParams['figure.figsize'] = (10,6)\n",
        "x_ax =range(len(X_test))\n",
        "#x_ax2 =range(len(y_test))\n",
        "#plotting \n",
        "plt.plot(x_ax, y_test , label='Actual Observed Value', color='yellow',linestyle='-')\n",
        "plt.plot(x_ax,y_test_pred_dt , label='Predicted values ' , color='red' , linestyle ='--')\n",
        "plt.grid()\n",
        "plt.xlabel('Agile Projects')\n",
        "plt.ylabel('Effort')\n",
        "plt.title('Effort Prediction witn Decision Tree Regression')\n",
        "plt.legend(bbox_to_anchor =(0.5,-0.2), loc= 'upper center',ncol=2, frameon = True)\n",
        "\n",
        "plt.show"
      ]
    },
    {
      "cell_type": "code",
      "execution_count": null,
      "metadata": {
        "id": "mye5sB4hkdDW"
      },
      "outputs": [],
      "source": [
        "pred_mre = pd.DataFrame({'Actual Values of Effort':y_test,'Predicted Effort':y_test_pred_dt,'MRE':(y_test-y_test_pred_dt)/y_test})\n",
        "#rel=(xyy/5)\n",
        "#print(sum(rel)/5)\n",
        "pred_mre[0:21]"
      ]
    },
    {
      "cell_type": "markdown",
      "metadata": {
        "id": "0vCgKq63i8Eg"
      },
      "source": []
    },
    {
      "cell_type": "code",
      "execution_count": 483,
      "metadata": {
        "colab": {
          "base_uri": "https://localhost:8080/"
        },
        "id": "3EanyzhYjJaz",
        "outputId": "a3c50f31-5736-4681-a17c-3440a171795d"
      },
      "outputs": [
        {
          "output_type": "stream",
          "name": "stdout",
          "text": [
            "MMRE : 0.13268015526678892\n"
          ]
        }
      ],
      "source": [
        "#@title CALCULATING THE MMRE\n",
        "\n",
        "#MAKING THE VALUES ABSOLUTE \n",
        "xyy=pred_mre.MRE.abs()\n",
        "Raw_mean = xyy.sum()/ypredx #Total Projects in the Dataset are 21\n",
        "print('MMRE :',Raw_mean)\n",
        "\n",
        "# percentage MMRE \n",
        "#print('Percentage MMRE :',Raw_mean*100)"
      ]
    },
    {
      "cell_type": "code",
      "execution_count": null,
      "metadata": {
        "id": "P5qZ0k9Nr5aK"
      },
      "outputs": [],
      "source": []
    },
    {
      "cell_type": "code",
      "execution_count": null,
      "metadata": {
        "id": "XpqelMtISdhw"
      },
      "outputs": [],
      "source": [
        "import pandas as pd\n",
        "pred_y_diff = pd.DataFrame({'Actual Values of Effort':y_test,'Predicted Effort':y_test_pred_dt,'Difference':y_test-y_test_pred_dt})\n",
        "\n",
        "pred_y_diff[0:21]"
      ]
    },
    {
      "cell_type": "code",
      "execution_count": 492,
      "metadata": {
        "id": "fJeqxV19fax7"
      },
      "outputs": [],
      "source": [
        "#@title Random Forest Implementation\n",
        "from sklearn.model_selection  import train_test_split\n",
        "X_train,X_test,y_train,y_test = train_test_split(Cat_1,Cat_2, test_size=0.20 ,random_state=0)"
      ]
    },
    {
      "cell_type": "code",
      "execution_count": 493,
      "metadata": {
        "id": "70cl5VRGkF0m"
      },
      "outputs": [],
      "source": [
        "from sklearn.ensemble import RandomForestRegressor\n",
        "model2= RandomForestRegressor(n_estimators=30, random_state=30)"
      ]
    },
    {
      "cell_type": "code",
      "execution_count": 494,
      "metadata": {
        "id": "1IkSjieqkrfY"
      },
      "outputs": [],
      "source": [
        "#Fitting the  model \n",
        "LL_rf = model2.fit(X_train,y_train)\n"
      ]
    },
    {
      "cell_type": "code",
      "execution_count": 495,
      "metadata": {
        "id": "cWg9LDnG7yrX"
      },
      "outputs": [],
      "source": [
        "#prediction on testing the data\n",
        "y_test_pred_rf = model2.predict(X_test)"
      ]
    },
    {
      "cell_type": "code",
      "execution_count": 504,
      "metadata": {
        "colab": {
          "base_uri": "https://localhost:8080/"
        },
        "id": "CvcUXMCmlQXO",
        "outputId": "04c58f08-faed-4c9a-964c-feb5c8aede74"
      },
      "outputs": [
        {
          "output_type": "stream",
          "name": "stdout",
          "text": [
            "The Model Score on the predictrd training Set: 0.98\n",
            "r2 Score  0.7928419438459189\n"
          ]
        }
      ],
      "source": [
        "#Training Model Evaluation\n",
        "\n",
        "\n",
        "print('The Model Score on the predictrd training Set: %.2f'% LL_rf.score(X_train,y_train))\n",
        "print('r2 Score ', r2_score(y_test,y_test_pred_rf))"
      ]
    },
    {
      "cell_type": "code",
      "execution_count": 501,
      "metadata": {
        "id": "o_-j_NeZmZIV",
        "colab": {
          "base_uri": "https://localhost:8080/"
        },
        "outputId": "1cca522b-aeca-480f-8a7a-86ffb5b9e1d4"
      },
      "outputs": [
        {
          "output_type": "stream",
          "name": "stdout",
          "text": [
            "Mean Squared Error:: 446.10244444444436\n",
            "Mean Absolute Error:: 16.526666666666664\n",
            "Root Mean Squared Error:: 21.121137385198846\n"
          ]
        }
      ],
      "source": [
        "print(\"Mean Squared Error::\",mean_squared_error(y_test,y_test_pred_rf))\n",
        "print(\"Mean Absolute Error::\",mean_absolute_error(y_test,y_test_pred_rf))\n",
        "xv= math.sqrt(mean_squared_error(y_test,y_test_pred_rf))\n",
        "print(\"Root Mean Squared Error::\",xv)"
      ]
    },
    {
      "cell_type": "code",
      "execution_count": 497,
      "metadata": {
        "colab": {
          "base_uri": "https://localhost:8080/",
          "height": 477
        },
        "id": "rfPaPzj4mMYN",
        "outputId": "0e90da15-6872-4a38-84d2-0a3cd31c6cbe"
      },
      "outputs": [
        {
          "output_type": "execute_result",
          "data": {
            "text/plain": [
              "<matplotlib.legend.Legend at 0x7f8396748e50>"
            ]
          },
          "metadata": {},
          "execution_count": 497
        },
        {
          "output_type": "display_data",
          "data": {
            "text/plain": [
              "<Figure size 720x432 with 1 Axes>"
            ],
            "image/png": "[encoded data removed]"
          },
          "metadata": {}
        }
      ],
      "source": [
        "# plotting the observed and predicted values \n",
        "\n",
        "\n",
        "# Setting the boundaries and parameters\n",
        "\n",
        "plt.rcParams['figure.figsize'] = (10,6)\n",
        "x_ax =range(len(X_test))\n",
        "\n",
        "#plotting \n",
        "plt.plot(x_ax, y_test , label='Actual Observed Value', color='yellow',linestyle='-')\n",
        "plt.plot(x_ax,y_test_pred_rf , label='Predicted values ' , color='red' , linestyle ='--')\n",
        "plt.grid()\n",
        "plt.xlabel('Agile Projects')\n",
        "plt.ylabel('Effort')\n",
        "plt.title('Effort Prediction with Random Forest')\n",
        "plt.legend(bbox_to_anchor =(0.5,-0.2), loc= 'upper center',ncol=2, frameon = True)"
      ]
    },
    {
      "cell_type": "code",
      "execution_count": 498,
      "metadata": {
        "colab": {
          "base_uri": "https://localhost:8080/",
          "height": 206
        },
        "id": "sNu3gUwClavx",
        "outputId": "4015a032-05db-4d87-ebdc-716e11b47c42"
      },
      "outputs": [
        {
          "output_type": "execute_result",
          "data": {
            "text/plain": [
              "    Actual Values of Cost  Predicted Cost       MRE\n",
              "8                      84       92.833333 -0.105159\n",
              "13                     74       86.233333 -0.165315\n",
              "20                     91       93.233333 -0.024542\n",
              "1                     202      242.566667 -0.200825\n",
              "11                    112       93.233333  0.167560"
            ],
            "text/html": [
              "\n",
              "  <div id=\"df-41aece45-a2c7-46ae-a829-3a33bf5c5574\">\n",
              "    <div class=\"colab-df-container\">\n",
              "      <div>\n",
              "<style scoped>\n",
              "    .dataframe tbody tr th:only-of-type {\n",
              "        vertical-align: middle;\n",
              "    }\n",
              "\n",
              "    .dataframe tbody tr th {\n",
              "        vertical-align: top;\n",
              "    }\n",
              "\n",
              "    .dataframe thead th {\n",
              "        text-align: right;\n",
              "    }\n",
              "</style>\n",
              "<table border=\"1\" class=\"dataframe\">\n",
              "  <thead>\n",
              "    <tr style=\"text-align: right;\">\n",
              "      <th></th>\n",
              "      <th>Actual Values of Cost</th>\n",
              "      <th>Predicted Cost</th>\n",
              "      <th>MRE</th>\n",
              "    </tr>\n",
              "  </thead>\n",
              "  <tbody>\n",
              "    <tr>\n",
              "      <th>8</th>\n",
              "      <td>84</td>\n",
              "      <td>92.833333</td>\n",
              "      <td>-0.105159</td>\n",
              "    </tr>\n",
              "    <tr>\n",
              "      <th>13</th>\n",
              "      <td>74</td>\n",
              "      <td>86.233333</td>\n",
              "      <td>-0.165315</td>\n",
              "    </tr>\n",
              "    <tr>\n",
              "      <th>20</th>\n",
              "      <td>91</td>\n",
              "      <td>93.233333</td>\n",
              "      <td>-0.024542</td>\n",
              "    </tr>\n",
              "    <tr>\n",
              "      <th>1</th>\n",
              "      <td>202</td>\n",
              "      <td>242.566667</td>\n",
              "      <td>-0.200825</td>\n",
              "    </tr>\n",
              "    <tr>\n",
              "      <th>11</th>\n",
              "      <td>112</td>\n",
              "      <td>93.233333</td>\n",
              "      <td>0.167560</td>\n",
              "    </tr>\n",
              "  </tbody>\n",
              "</table>\n",
              "</div>\n",
              "      <button class=\"colab-df-convert\" onclick=\"convertToInteractive('df-41aece45-a2c7-46ae-a829-3a33bf5c5574')\"\n",
              "              title=\"Convert this dataframe to an interactive table.\"\n",
              "              style=\"display:none;\">\n",
              "        \n",
              "  <svg xmlns=\"http://www.w3.org/2000/svg\" height=\"24px\"viewBox=\"0 0 24 24\"\n",
              "       width=\"24px\">\n",
              "    <path d=\"M0 0h24v24H0V0z\" fill=\"none\"/>\n",
              "    <path d=\"M18.56 5.44l.94 2.06.94-2.06 2.06-.94-2.06-.94-.94-2.06-.94 2.06-2.06.94zm-11 1L8.5 8.5l.94-2.06 2.06-.94-2.06-.94L8.5 2.5l-.94 2.06-2.06.94zm10 10l.94 2.06.94-2.06 2.06-.94-2.06-.94-.94-2.06-.94 2.06-2.06.94z\"/><path d=\"M17.41 7.96l-1.37-1.37c-.4-.4-.92-.59-1.43-.59-.52 0-1.04.2-1.43.59L10.3 9.45l-7.72 7.72c-.78.78-.78 2.05 0 2.83L4 21.41c.39.39.9.59 1.41.59.51 0 1.02-.2 1.41-.59l7.78-7.78 2.81-2.81c.8-.78.8-2.07 0-2.86zM5.41 20L4 18.59l7.72-7.72 1.47 1.35L5.41 20z\"/>\n",
              "  </svg>\n",
              "      </button>\n",
              "      \n",
              "  <style>\n",
              "    .colab-df-container {\n",
              "      display:flex;\n",
              "      flex-wrap:wrap;\n",
              "      gap: 12px;\n",
              "    }\n",
              "\n",
              "    .colab-df-convert {\n",
              "      background-color: #E8F0FE;\n",
              "      border: none;\n",
              "      border-radius: 50%;\n",
              "      cursor: pointer;\n",
              "      display: none;\n",
              "      fill: #1967D2;\n",
              "      height: 32px;\n",
              "      padding: 0 0 0 0;\n",
              "      width: 32px;\n",
              "    }\n",
              "\n",
              "    .colab-df-convert:hover {\n",
              "      background-color: #E2EBFA;\n",
              "      box-shadow: 0px 1px 2px rgba(60, 64, 67, 0.3), 0px 1px 3px 1px rgba(60, 64, 67, 0.15);\n",
              "      fill: #174EA6;\n",
              "    }\n",
              "\n",
              "    [theme=dark] .colab-df-convert {\n",
              "      background-color: #3B4455;\n",
              "      fill: #D2E3FC;\n",
              "    }\n",
              "\n",
              "    [theme=dark] .colab-df-convert:hover {\n",
              "      background-color: #434B5C;\n",
              "      box-shadow: 0px 1px 3px 1px rgba(0, 0, 0, 0.15);\n",
              "      filter: drop-shadow(0px 1px 2px rgba(0, 0, 0, 0.3));\n",
              "      fill: #FFFFFF;\n",
              "    }\n",
              "  </style>\n",
              "\n",
              "      <script>\n",
              "        const buttonEl =\n",
              "          document.querySelector('#df-41aece45-a2c7-46ae-a829-3a33bf5c5574 button.colab-df-convert');\n",
              "        buttonEl.style.display =\n",
              "          google.colab.kernel.accessAllowed ? 'block' : 'none';\n",
              "\n",
              "        async function convertToInteractive(key) {\n",
              "          const element = document.querySelector('#df-41aece45-a2c7-46ae-a829-3a33bf5c5574');\n",
              "          const dataTable =\n",
              "            await google.colab.kernel.invokeFunction('convertToInteractive',\n",
              "                                                     [key], {});\n",
              "          if (!dataTable) return;\n",
              "\n",
              "          const docLinkHtml = 'Like what you see? Visit the ' +\n",
              "            '<a target=\"_blank\" href=https://colab.research.google.com/notebooks/data_table.ipynb>data table notebook</a>'\n",
              "            + ' to learn more about interactive tables.';\n",
              "          element.innerHTML = '';\n",
              "          dataTable['output_type'] = 'display_data';\n",
              "          await google.colab.output.renderOutput(dataTable, element);\n",
              "          const docLink = document.createElement('div');\n",
              "          docLink.innerHTML = docLinkHtml;\n",
              "          element.appendChild(docLink);\n",
              "        }\n",
              "      </script>\n",
              "    </div>\n",
              "  </div>\n",
              "  "
            ]
          },
          "metadata": {},
          "execution_count": 498
        }
      ],
      "source": [
        "pred_mre = pd.DataFrame({'Actual Values of Cost':y_test,'Predicted Cost':y_test_pred_rf,'MRE':(y_test-y_test_pred_rf)/y_test})\n",
        "#rel=(xyy/5)\n",
        "#print(sum(rel)/5)\n",
        "pred_mre[0:21]"
      ]
    },
    {
      "cell_type": "code",
      "execution_count": 505,
      "metadata": {
        "colab": {
          "base_uri": "https://localhost:8080/"
        },
        "id": "b5YUSaUVlVMc",
        "outputId": "53b8d221-47f9-439b-9bd7-b02f7cc1757f"
      },
      "outputs": [
        {
          "output_type": "stream",
          "name": "stdout",
          "text": [
            "MMRE : 0.13268015526678892\n"
          ]
        }
      ],
      "source": [
        "#@title CALCULATING THE MMRE\n",
        "\n",
        "#MAKING THE VALUES ABSOLUTE \n",
        "xyy=pred_mre.MRE.abs()\n",
        "Raw_mean = xyy.sum()/ypredx #Total Projects in the Dataset are 21\n",
        "print('MMRE :',Raw_mean)\n",
        "\n",
        "MMRE_RF = Raw_mean*100\n",
        "# percentage MMRE \n",
        "###print(' MMRE in Percentage :',Raw_mean*100,'%')"
      ]
    },
    {
      "cell_type": "code",
      "execution_count": null,
      "metadata": {
        "id": "d3HFXFgtlcfF"
      },
      "outputs": [],
      "source": []
    },
    {
      "cell_type": "markdown",
      "metadata": {
        "id": "glXd2erg2WB0"
      },
      "source": [
        "# Support Vector Machine"
      ]
    },
    {
      "cell_type": "code",
      "execution_count": null,
      "metadata": {
        "id": "NQQ_gzr9sNr6"
      },
      "outputs": [],
      "source": []
    },
    {
      "cell_type": "code",
      "execution_count": null,
      "metadata": {
        "id": "BtVrYQ_wwzL7"
      },
      "outputs": [],
      "source": [
        "#@title Support Vector\n",
        "#import warnings\n",
        "from sklearn import svm\n",
        "from sklearn.svm import SVC\n",
        "from sklearn.model_selection import train_test_split\n",
        "import pandas as pd\n",
        "from sklearn.model_selection import GridSearchCV\n",
        "\n",
        "\n",
        "# Categorical To continious \n",
        "X_train,X_test,y_train,y_test = train_test_split(Cat_1,Cat_2, test_size=0.20, random_state=0)\n",
        "\n",
        "\n",
        "svm = SVC(kernel=\"linear\",C=1)\n",
        "svm.fit(X_train,y_train)\n",
        "\n",
        "#clf = svm.SVC()\n",
        "#clf.fit(Cat_1, Cat_2)\n",
        "\n",
        "y_pred_svm=svm.predict(X_test)\n",
        "import numpy as np\n",
        "from sklearn.metrics import mean_absolute_error\n",
        "from sklearn.metrics import mean_squared_error\n",
        "#\n",
        "print(\"Mean Absolute error:::\",np.sqrt(mean_absolute_error(y_test,y_pred_svm)))\n",
        "\n",
        "print(\"Mean Squared Error::\",mean_squared_error(y_test,y_pred_svm))\n",
        "xv= math.sqrt(mean_squared_error(y_test,y_pred_svm))\n",
        "print(\"Root Mean Squared Error::\",xv)\n"
      ]
    },
    {
      "cell_type": "code",
      "execution_count": null,
      "metadata": {
        "id": "74lnbked_FaZ"
      },
      "outputs": [],
      "source": [
        "#prediction on testing the data\n",
        "#y_test_pred_svm = y_pred111.predict(y_test,y_test_pred_svm)"
      ]
    },
    {
      "cell_type": "code",
      "execution_count": null,
      "metadata": {
        "id": "r2jxfZrG9qhV"
      },
      "outputs": [],
      "source": [
        "import pandas as pd\n",
        "pred_y_diff = pd.DataFrame({'Actual Values of Effort':y_test,'Predicted Effort':y_pred_svm,'Difference':y_test-y_pred_svm})\n",
        "\n",
        "pred_y_diff[0:21]"
      ]
    },
    {
      "cell_type": "code",
      "execution_count": null,
      "metadata": {
        "id": "URwB6qyE8vCV"
      },
      "outputs": [],
      "source": [
        "# plotting the observed and predicted values \n",
        "\n",
        "\n",
        "# Setting the boundaries and parameters\n",
        "\n",
        "plt.rcParams['figure.figsize'] = (10,6)\n",
        "x_ax =range(len(X_test))\n",
        "\n",
        "#plotting \n",
        "plt.plot(x_ax, y_test , label='Actual Observed Value', color='yellow',linestyle='-')\n",
        "plt.plot(x_ax,y_pred_svm , label='Predicted values ' , color='red' , linestyle ='--')\n",
        "plt.grid()\n",
        "\n",
        "plt.legend(bbox_to_anchor =(0.5,-0.2), loc= 'upper center',ncol=2, frameon = True)\n",
        "plt.show()"
      ]
    },
    {
      "cell_type": "code",
      "execution_count": null,
      "metadata": {
        "id": "9J3ckdlWseCG"
      },
      "outputs": [],
      "source": []
    },
    {
      "cell_type": "code",
      "execution_count": null,
      "metadata": {
        "id": "UWHyyiQGmQ4O"
      },
      "outputs": [],
      "source": [
        "#@title Decision tree\n",
        "# from sklearn import svm\n",
        "# from sklearn.tree import DecisionTreeRegressor\n",
        "\n",
        "# #from sklearn.model_selection import train_test_split\n",
        "# import pandas as pd\n",
        "# import numpy as np\n",
        "# import matplotlib.pyplot as plt\n",
        "\n",
        "\n",
        "# data_read = pd.read_csv('Zia_upd22.csv')\n",
        "\n",
        "# X = data_read.iloc[:,0:8].values\n",
        "# y = data_read.iloc[:,:-1].values\n",
        "# regressor = DecisionTreeRegressor(random_state =0)\n",
        "# regressor.fit(X, y)\n",
        "\n",
        "\n"
      ]
    },
    {
      "cell_type": "code",
      "execution_count": null,
      "metadata": {
        "id": "p7fAwTYQdI9Y"
      },
      "outputs": [],
      "source": []
    },
    {
      "cell_type": "code",
      "execution_count": null,
      "metadata": {
        "id": "KLqR7yFudqCR"
      },
      "outputs": [],
      "source": []
    },
    {
      "cell_type": "code",
      "execution_count": null,
      "metadata": {
        "id": "le8Yk9F05Wvl"
      },
      "outputs": [],
      "source": [
        "# # @title Let Us calculate Estimated Cost With Raw Data\n",
        "# x=regressor.predict([[154,4.2,0.77,2.7,12,22,310000,63]])\n",
        "# print(\"Estimated Cost:\",x[0]*100000)\n",
        "\n"
      ]
    },
    {
      "cell_type": "code",
      "execution_count": null,
      "metadata": {
        "id": "tlJBjlMgGs_l"
      },
      "outputs": [],
      "source": [
        "# #@title Decision Tree Regression \n",
        "# from sklearn.model_selection import train_test_split\n",
        "# from sklearn import svm\n",
        "# from sklearn.tree import DecisionTreeRegressor\n",
        "\n",
        "# #from sklearn.model_selection import train_test_split\n",
        "# import pandas as pd\n",
        "# import numpy as np\n",
        "# import matplotlib.pyplot as plt\n",
        "\n",
        "\n",
        "# #data_read = pd.read_csv('Zia_upd22.csv')\n",
        "\n",
        "# #X = data_read.iloc[:,1:8].values\n",
        "# #y = data_read.iloc[:,-1].values\n",
        "# #X_train,X_test,y_train,y_test = train_test_split(X,y, test_size=0.20 )\n",
        "\n"
      ]
    },
    {
      "cell_type": "code",
      "execution_count": null,
      "metadata": {
        "id": "t8lbAs_LbZSo"
      },
      "outputs": [],
      "source": [
        "# X.shape"
      ]
    },
    {
      "cell_type": "code",
      "execution_count": null,
      "metadata": {
        "id": "ElDZpJn4oAig"
      },
      "outputs": [],
      "source": [
        "# print(X_train.shape,X_test.shape,y_train.shape,y_test.shape)"
      ]
    },
    {
      "cell_type": "code",
      "execution_count": null,
      "metadata": {
        "id": "UZHkrzd_oeJy"
      },
      "outputs": [],
      "source": [
        "# regressor1 = DecisionTreeRegressor().fit(X_train,y_train)\n",
        "\n",
        "#coefficient of determination \n",
        "# print('Training R_sq is : %.2f'% regressor1.score(X_train,y_train))"
      ]
    },
    {
      "cell_type": "code",
      "execution_count": null,
      "metadata": {
        "id": "BK7ybo6DpyFy"
      },
      "outputs": [],
      "source": [
        "# For the training model EVALUATION\n",
        "# from  sklearn.metrics import mean_absolute_error , mean_squared_error, explained_variance_score , r2_score"
      ]
    },
    {
      "cell_type": "code",
      "execution_count": null,
      "metadata": {
        "id": "eW4d-VMmqy6n"
      },
      "outputs": [],
      "source": [
        "#Prediction on the training dataset\n",
        "y_train_pred= regressor1.predict(X_train)\n",
        "#y_train= regressor1.predict(X_train)"
      ]
    },
    {
      "cell_type": "code",
      "execution_count": null,
      "metadata": {
        "id": "1cnhe1TjrP27"
      },
      "outputs": [],
      "source": [
        "# The r_sq\n",
        "# print('The r_sq ,is :',r2_score(y_train,y_train_pred))"
      ]
    },
    {
      "cell_type": "code",
      "execution_count": null,
      "metadata": {
        "id": "4NLZvWxjsNPk"
      },
      "outputs": [],
      "source": [
        "# The MAE\n",
        "print('The MAE is :  ', mean_absolute_error(y_train,y_train_pred))"
      ]
    },
    {
      "cell_type": "code",
      "execution_count": null,
      "metadata": {
        "id": "rRUisXfnsjx0"
      },
      "outputs": [],
      "source": [
        "  # MSE \n",
        "  print('The MSE is :  ', mean_squared_error(y_train,y_train_pred))"
      ]
    },
    {
      "cell_type": "code",
      "execution_count": null,
      "metadata": {
        "id": "wlRPHdzotCoz"
      },
      "outputs": [],
      "source": [
        "# RMSE \n",
        "print('The RMSE is :', np.sqrt(mean_squared_error(y_train,y_train_pred)))"
      ]
    },
    {
      "cell_type": "code",
      "execution_count": null,
      "metadata": {
        "id": "Fa36TOlEtXx8"
      },
      "outputs": [],
      "source": [
        "#Prediction on the testing Data\n",
        "y_test_pred = regressor1.predict(X_test)\n",
        "y_test = regressor1.predict(X_test)"
      ]
    },
    {
      "cell_type": "code",
      "execution_count": null,
      "metadata": {
        "id": "qMwdu1FS_I8m"
      },
      "outputs": [],
      "source": []
    },
    {
      "cell_type": "markdown",
      "metadata": {
        "id": "_S2MXlnpxsdq"
      },
      "source": [
        "Now Calculating r_score "
      ]
    },
    {
      "cell_type": "code",
      "execution_count": null,
      "metadata": {
        "id": "oeu3Ewduxr7X"
      },
      "outputs": [],
      "source": [
        "# The r_sq\n",
        "print('The r_sq y_test , y_test_pred is: %.2f'% r2_score(y_test,y_test_pred))"
      ]
    },
    {
      "cell_type": "code",
      "execution_count": null,
      "metadata": {
        "id": "lI8AeiO9zrtA"
      },
      "outputs": [],
      "source": [
        "# # plotting the observed and predicted values \n",
        "\n",
        "\n",
        "# # Setting the boundaries and parameters\n",
        "\n",
        "# plt.rcParams['figure.figsize'] = (10,6)\n",
        "# x_ax =range(len(X_test))\n",
        "\n",
        "# #plotting \n",
        "# plt.plot(x_ax, y_test , label='Actual Observed Value', color='yellow',linestyle='-')\n",
        "# plt.plot(x_ax,y_test_pred , label='Predicted values ' , color='red' , linestyle ='--')\n",
        "# plt.grid()\n",
        "# plt.ylabel('dcscfvfdscd')\n",
        "# plt.xlabel('fffdcdcscfvfdscd')\n",
        "# plt.legend(bbox_to_anchor =(0.5,-0.2), loc= 'upper center',ncol=2, frameon = True)"
      ]
    },
    {
      "cell_type": "code",
      "execution_count": null,
      "metadata": {
        "id": "VbEcibp6JDVH"
      },
      "outputs": [],
      "source": [
        "from yellowbrick.regressor import PredictionError \n",
        "visualizer = PredictionError(regressor1)\n",
        "visualizer.fit(X_train, y_train)\n",
        "visualizer.fit(X_test,y_test)\n",
        "visualizer.score(X_test,y_test)\n",
        "visualizer.poof()"
      ]
    },
    {
      "cell_type": "markdown",
      "metadata": {
        "id": "eiLDU6jGQFxB"
      },
      "source": []
    },
    {
      "cell_type": "code",
      "execution_count": null,
      "metadata": {
        "id": "KseWX0L0zsTk"
      },
      "outputs": [],
      "source": [
        "# The MAE\n",
        "print('The MAE is :  ', mean_absolute_error(y_test,y_test_pred ))"
      ]
    },
    {
      "cell_type": "code",
      "execution_count": null,
      "metadata": {
        "id": "QbnJkEVEI5Ok"
      },
      "outputs": [],
      "source": [
        "#pip install yellowbrick"
      ]
    },
    {
      "cell_type": "code",
      "execution_count": null,
      "metadata": {
        "id": "B_BeharmKH2f"
      },
      "outputs": [],
      "source": [
        "# Residuals plot \n",
        "from yellowbrick.regressor import ResidualsPlot\n",
        "visualizer = ResidualsPlot(regressor1)\n",
        "visualizer.fit(X_train,y_train)\n",
        "visualizer.score(X_test,y_test)\n",
        "visualizer.poof()"
      ]
    },
    {
      "cell_type": "code",
      "execution_count": null,
      "metadata": {
        "id": "wK1NQhJ4LD23"
      },
      "outputs": [],
      "source": [
        "# testing the Model Evaluation\n",
        "\n"
      ]
    },
    {
      "cell_type": "code",
      "execution_count": null,
      "metadata": {
        "id": "tUFEVxKNLuBN"
      },
      "outputs": [],
      "source": [
        "# MAE \n",
        "print('The MAE is :%.2f'% mean_absolute_error(y_test,y_test_pred))"
      ]
    },
    {
      "cell_type": "code",
      "execution_count": null,
      "metadata": {
        "id": "voJqYfSYMSoB"
      },
      "outputs": [],
      "source": [
        "# The MSE \n",
        "print('The MSE is : %.2f'% mean_squared_error(y_test,y_test_pred))"
      ]
    },
    {
      "cell_type": "code",
      "execution_count": null,
      "metadata": {
        "id": "89T3EjETMwDO"
      },
      "outputs": [],
      "source": [
        "print('The RMSE is : %.2f'% np.sqrt(mean_squared_error(y_test,y_test_pred)))"
      ]
    },
    {
      "cell_type": "code",
      "execution_count": null,
      "metadata": {
        "id": "b0rWyVHUN6GF"
      },
      "outputs": [],
      "source": [
        "# k-fold cross-validation\n",
        "from sklearn.model_selection import cross_val_score"
      ]
    },
    {
      "cell_type": "code",
      "execution_count": null,
      "metadata": {
        "id": "3NJLR-nwOLSu"
      },
      "outputs": [],
      "source": [
        "#On the training Dataset\n",
        "from sklearn.model_selection import cross_val_score\n",
        "score_train = cross_val_score(regressor1,X_train,y_train,scoring = 'neg_mean_squared_error' , cv= 10)"
      ]
    },
    {
      "cell_type": "code",
      "execution_count": null,
      "metadata": {
        "id": "12nkAoQpPivF"
      },
      "outputs": [],
      "source": [
        "score_train"
      ]
    },
    {
      "cell_type": "code",
      "execution_count": null,
      "metadata": {
        "id": "rsAZEcGjP7Ju"
      },
      "outputs": [],
      "source": [
        "score_train = np.mean(score_train)\n",
        "print(score_train)"
      ]
    },
    {
      "cell_type": "code",
      "execution_count": null,
      "metadata": {
        "id": "5xRMubWuRE7T"
      },
      "outputs": [],
      "source": [
        "# To make make it Positivme \n",
        "from numpy import absolute\n",
        "score_train = absolute(score_train)\n",
        "score_train"
      ]
    },
    {
      "cell_type": "code",
      "execution_count": null,
      "metadata": {
        "id": "AUQpfnkyRdOT"
      },
      "outputs": [],
      "source": [
        "# CV on thee testing data \n",
        "score_test = cross_val_score(regressor1, X_test, y_test, scoring ='neg_mean_squared_error' , cv= 5)"
      ]
    },
    {
      "cell_type": "code",
      "execution_count": null,
      "metadata": {
        "id": "8tKJC670SeNo"
      },
      "outputs": [],
      "source": [
        "print(score_test)"
      ]
    },
    {
      "cell_type": "code",
      "execution_count": null,
      "metadata": {
        "id": "w_TkkypySm0_"
      },
      "outputs": [],
      "source": [
        "#The Mean sCORE \n",
        "score_test = np.mean(score_test)\n",
        "score_test"
      ]
    },
    {
      "cell_type": "code",
      "execution_count": null,
      "metadata": {
        "id": "bX71DdHN-A56"
      },
      "outputs": [],
      "source": [
        "import pandas as pd\n",
        "pred_y_diff = pd.DataFrame({'Actual Values of Cost':y_test,'Predicted Cost':y_test_pred,'Difference':y_test-y_test_pred})\n",
        "\n",
        "pred_y_diff[0:21]"
      ]
    },
    {
      "cell_type": "markdown",
      "metadata": {
        "id": "2XY7zQz5c6wI"
      },
      "source": [
        "# Random Forest Regression"
      ]
    },
    {
      "cell_type": "code",
      "execution_count": null,
      "metadata": {
        "id": "Jq3-_QjtdJsK"
      },
      "outputs": [],
      "source": [
        "# Let us first import The\n",
        "\n"
      ]
    }
  ],
  "metadata": {
    "colab": {
      "collapsed_sections": [
        "2XY7zQz5c6wI"
      ],
      "provenance": [],
      "include_colab_link": true
    },
    "kernelspec": {
      "display_name": "Python 3",
      "name": "python3"
    },
    "language_info": {
      "name": "python"
    }
  },
  "nbformat": 4,
  "nbformat_minor": 0
}
