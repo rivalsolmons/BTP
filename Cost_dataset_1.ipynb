{
  "cells": [
    {
      "cell_type": "markdown",
      "metadata": {
        "id": "view-in-github",
        "colab_type": "text"
      },
      "source": [
        "<a href=\"https://colab.research.google.com/github/rivalsolmons/BTP/blob/main/Cost_dataset_1.ipynb\" target=\"_parent\"><img src=\"https://colab.research.google.com/assets/colab-badge.svg\" alt=\"Open In Colab\"/></a>"
      ]
    },
    {
      "cell_type": "markdown",
      "metadata": {
        "id": "Xg-Htvjr-iZl"
      },
      "source": [
        "# Effort and cost Estimation in Agile Software Development"
      ]
    },
    {
      "cell_type": "code",
      "execution_count": 4,
      "metadata": {
        "id": "11ahIf4W9FOI"
      },
      "outputs": [],
      "source": [
        "#@title Cost Estimation on Zia \n",
        "import math\n",
        "import pandas as pd\n",
        "from scipy.stats import pearsonr\n",
        "import matplotlib.pyplot as plt\n",
        "import seaborn as sns\n",
        "from sklearn.model_selection import train_test_split\n",
        "from sklearn.neighbors import KNeighborsRegressor\n",
        "from sklearn.linear_model import LinearRegression\n",
        "from sklearn.svm import SVR\n",
        "from sklearn.model_selection import GridSearchCV\n",
        "from matplotlib.colors import ListedColormap  \n",
        "from sklearn.neighbors import KNeighborsClassifier\n",
        "from sklearn.metrics import confusion_matrix,ConfusionMatrixDisplay\n",
        "\n",
        "from sklearn.metrics import classification_report\n",
        "\n"
      ]
    },
    {
      "cell_type": "code",
      "execution_count": 5,
      "metadata": {
        "colab": {
          "base_uri": "https://localhost:8080/"
        },
        "id": "XmfjGo-K5E8J",
        "outputId": "93ca27d0-da0b-40d6-f01f-ab3b3c0b4eda"
      },
      "outputs": [
        {
          "output_type": "stream",
          "name": "stdout",
          "text": [
            "Mounted at /content/drive\n"
          ]
        }
      ],
      "source": [
        "from google.colab import drive\n",
        "drive.mount('/content/drive')\n",
        "\n",
        "data_read = pd.read_csv('/content/drive/MyDrive/Btp/Ultra/Zia_upd2.csv')"
      ]
    },
    {
      "cell_type": "code",
      "execution_count": 6,
      "metadata": {
        "colab": {
          "base_uri": "https://localhost:8080/",
          "height": 206
        },
        "id": "3Uq7ZZUf-bOC",
        "outputId": "a566e967-3099-4dcd-87ce-5dc9d4e63734"
      },
      "outputs": [
        {
          "output_type": "execute_result",
          "data": {
            "text/plain": [
              "   Effort   Vi      D    V  Sprint_Size  Work_days  Team_Salary  Act_Time  \\\n",
              "0     156  4.2  0.687  2.7           10         22       230000        63   \n",
              "1     202  3.7  0.701  2.5           10         21       260000        92   \n",
              "2     173  4.0  0.878  3.3           10         22       250000        56   \n",
              "3     331  4.5  0.886  3.8           10         22       300000        86   \n",
              "4     124  4.9  0.903  4.2           10         22       300000        32   \n",
              "\n",
              "   Actual_Cost  \n",
              "0      1200000  \n",
              "1      1600000  \n",
              "2      1000000  \n",
              "3      2100000  \n",
              "4       750000  "
            ],
            "text/html": [
              "\n",
              "  <div id=\"df-24d048a6-7259-4eb7-9ca5-921321bef178\">\n",
              "    <div class=\"colab-df-container\">\n",
              "      <div>\n",
              "<style scoped>\n",
              "    .dataframe tbody tr th:only-of-type {\n",
              "        vertical-align: middle;\n",
              "    }\n",
              "\n",
              "    .dataframe tbody tr th {\n",
              "        vertical-align: top;\n",
              "    }\n",
              "\n",
              "    .dataframe thead th {\n",
              "        text-align: right;\n",
              "    }\n",
              "</style>\n",
              "<table border=\"1\" class=\"dataframe\">\n",
              "  <thead>\n",
              "    <tr style=\"text-align: right;\">\n",
              "      <th></th>\n",
              "      <th>Effort</th>\n",
              "      <th>Vi</th>\n",
              "      <th>D</th>\n",
              "      <th>V</th>\n",
              "      <th>Sprint_Size</th>\n",
              "      <th>Work_days</th>\n",
              "      <th>Team_Salary</th>\n",
              "      <th>Act_Time</th>\n",
              "      <th>Actual_Cost</th>\n",
              "    </tr>\n",
              "  </thead>\n",
              "  <tbody>\n",
              "    <tr>\n",
              "      <th>0</th>\n",
              "      <td>156</td>\n",
              "      <td>4.2</td>\n",
              "      <td>0.687</td>\n",
              "      <td>2.7</td>\n",
              "      <td>10</td>\n",
              "      <td>22</td>\n",
              "      <td>230000</td>\n",
              "      <td>63</td>\n",
              "      <td>1200000</td>\n",
              "    </tr>\n",
              "    <tr>\n",
              "      <th>1</th>\n",
              "      <td>202</td>\n",
              "      <td>3.7</td>\n",
              "      <td>0.701</td>\n",
              "      <td>2.5</td>\n",
              "      <td>10</td>\n",
              "      <td>21</td>\n",
              "      <td>260000</td>\n",
              "      <td>92</td>\n",
              "      <td>1600000</td>\n",
              "    </tr>\n",
              "    <tr>\n",
              "      <th>2</th>\n",
              "      <td>173</td>\n",
              "      <td>4.0</td>\n",
              "      <td>0.878</td>\n",
              "      <td>3.3</td>\n",
              "      <td>10</td>\n",
              "      <td>22</td>\n",
              "      <td>250000</td>\n",
              "      <td>56</td>\n",
              "      <td>1000000</td>\n",
              "    </tr>\n",
              "    <tr>\n",
              "      <th>3</th>\n",
              "      <td>331</td>\n",
              "      <td>4.5</td>\n",
              "      <td>0.886</td>\n",
              "      <td>3.8</td>\n",
              "      <td>10</td>\n",
              "      <td>22</td>\n",
              "      <td>300000</td>\n",
              "      <td>86</td>\n",
              "      <td>2100000</td>\n",
              "    </tr>\n",
              "    <tr>\n",
              "      <th>4</th>\n",
              "      <td>124</td>\n",
              "      <td>4.9</td>\n",
              "      <td>0.903</td>\n",
              "      <td>4.2</td>\n",
              "      <td>10</td>\n",
              "      <td>22</td>\n",
              "      <td>300000</td>\n",
              "      <td>32</td>\n",
              "      <td>750000</td>\n",
              "    </tr>\n",
              "  </tbody>\n",
              "</table>\n",
              "</div>\n",
              "      <button class=\"colab-df-convert\" onclick=\"convertToInteractive('df-24d048a6-7259-4eb7-9ca5-921321bef178')\"\n",
              "              title=\"Convert this dataframe to an interactive table.\"\n",
              "              style=\"display:none;\">\n",
              "        \n",
              "  <svg xmlns=\"http://www.w3.org/2000/svg\" height=\"24px\"viewBox=\"0 0 24 24\"\n",
              "       width=\"24px\">\n",
              "    <path d=\"M0 0h24v24H0V0z\" fill=\"none\"/>\n",
              "    <path d=\"M18.56 5.44l.94 2.06.94-2.06 2.06-.94-2.06-.94-.94-2.06-.94 2.06-2.06.94zm-11 1L8.5 8.5l.94-2.06 2.06-.94-2.06-.94L8.5 2.5l-.94 2.06-2.06.94zm10 10l.94 2.06.94-2.06 2.06-.94-2.06-.94-.94-2.06-.94 2.06-2.06.94z\"/><path d=\"M17.41 7.96l-1.37-1.37c-.4-.4-.92-.59-1.43-.59-.52 0-1.04.2-1.43.59L10.3 9.45l-7.72 7.72c-.78.78-.78 2.05 0 2.83L4 21.41c.39.39.9.59 1.41.59.51 0 1.02-.2 1.41-.59l7.78-7.78 2.81-2.81c.8-.78.8-2.07 0-2.86zM5.41 20L4 18.59l7.72-7.72 1.47 1.35L5.41 20z\"/>\n",
              "  </svg>\n",
              "      </button>\n",
              "      \n",
              "  <style>\n",
              "    .colab-df-container {\n",
              "      display:flex;\n",
              "      flex-wrap:wrap;\n",
              "      gap: 12px;\n",
              "    }\n",
              "\n",
              "    .colab-df-convert {\n",
              "      background-color: #E8F0FE;\n",
              "      border: none;\n",
              "      border-radius: 50%;\n",
              "      cursor: pointer;\n",
              "      display: none;\n",
              "      fill: #1967D2;\n",
              "      height: 32px;\n",
              "      padding: 0 0 0 0;\n",
              "      width: 32px;\n",
              "    }\n",
              "\n",
              "    .colab-df-convert:hover {\n",
              "      background-color: #E2EBFA;\n",
              "      box-shadow: 0px 1px 2px rgba(60, 64, 67, 0.3), 0px 1px 3px 1px rgba(60, 64, 67, 0.15);\n",
              "      fill: #174EA6;\n",
              "    }\n",
              "\n",
              "    [theme=dark] .colab-df-convert {\n",
              "      background-color: #3B4455;\n",
              "      fill: #D2E3FC;\n",
              "    }\n",
              "\n",
              "    [theme=dark] .colab-df-convert:hover {\n",
              "      background-color: #434B5C;\n",
              "      box-shadow: 0px 1px 3px 1px rgba(0, 0, 0, 0.15);\n",
              "      filter: drop-shadow(0px 1px 2px rgba(0, 0, 0, 0.3));\n",
              "      fill: #FFFFFF;\n",
              "    }\n",
              "  </style>\n",
              "\n",
              "      <script>\n",
              "        const buttonEl =\n",
              "          document.querySelector('#df-24d048a6-7259-4eb7-9ca5-921321bef178 button.colab-df-convert');\n",
              "        buttonEl.style.display =\n",
              "          google.colab.kernel.accessAllowed ? 'block' : 'none';\n",
              "\n",
              "        async function convertToInteractive(key) {\n",
              "          const element = document.querySelector('#df-24d048a6-7259-4eb7-9ca5-921321bef178');\n",
              "          const dataTable =\n",
              "            await google.colab.kernel.invokeFunction('convertToInteractive',\n",
              "                                                     [key], {});\n",
              "          if (!dataTable) return;\n",
              "\n",
              "          const docLinkHtml = 'Like what you see? Visit the ' +\n",
              "            '<a target=\"_blank\" href=https://colab.research.google.com/notebooks/data_table.ipynb>data table notebook</a>'\n",
              "            + ' to learn more about interactive tables.';\n",
              "          element.innerHTML = '';\n",
              "          dataTable['output_type'] = 'display_data';\n",
              "          await google.colab.output.renderOutput(dataTable, element);\n",
              "          const docLink = document.createElement('div');\n",
              "          docLink.innerHTML = docLinkHtml;\n",
              "          element.appendChild(docLink);\n",
              "        }\n",
              "      </script>\n",
              "    </div>\n",
              "  </div>\n",
              "  "
            ]
          },
          "metadata": {},
          "execution_count": 6
        }
      ],
      "source": [
        "data_read.head()"
      ]
    },
    {
      "cell_type": "code",
      "execution_count": 7,
      "metadata": {
        "id": "zHu2XEHaHcGh"
      },
      "outputs": [],
      "source": [
        "#@title Improving The data Qualitity \n",
        "#@markdown  "
      ]
    },
    {
      "cell_type": "code",
      "execution_count": 8,
      "metadata": {
        "id": "1cIKsFp8SkjN"
      },
      "outputs": [],
      "source": [
        "#@title Defining Category 1 and Category 2\n",
        "\n",
        "\n",
        "features = ['Effort'\t,'Vi',\t'D',\t'V',\t'Sprint_Size',\t'Work_days',\t'Team_Salary',\t'Act_Time']\n",
        "#features = ['Actual_Cost',\t'Vi',\t'D',\t'V',\t'Sprint_Size',\t'Work_days',\t'Act_Time']\n",
        "\n",
        "\n",
        "\n",
        "Cat_1 = data_read[features]\n",
        "Cat_2 = data_read['Actual_Cost']"
      ]
    },
    {
      "cell_type": "code",
      "execution_count": 9,
      "metadata": {
        "colab": {
          "base_uri": "https://localhost:8080/",
          "height": 300
        },
        "id": "ZB46SrBPCmES",
        "outputId": "bd993c93-9b60-4f26-c116-447b91702578"
      },
      "outputs": [
        {
          "output_type": "execute_result",
          "data": {
            "text/plain": [
              "           Effort         Vi          D          V  Sprint_Size  Work_days  \\\n",
              "count   21.000000  21.000000  21.000000  21.000000         21.0  21.000000   \n",
              "mean   163.714286   4.071429   0.780381   3.023810         10.0  21.952381   \n",
              "std     82.743062   0.325796   0.071028   0.438069          0.0   0.218218   \n",
              "min     62.000000   3.700000   0.646000   2.400000         10.0  21.000000   \n",
              "25%    101.000000   3.900000   0.742000   2.800000         10.0  22.000000   \n",
              "50%    137.000000   4.000000   0.758000   2.900000         10.0  22.000000   \n",
              "75%    211.000000   4.200000   0.833000   3.200000         10.0  22.000000   \n",
              "max    339.000000   4.900000   0.903000   4.200000         10.0  22.000000   \n",
              "\n",
              "         Team_Salary    Act_Time  \n",
              "count      21.000000   21.000000  \n",
              "mean   246190.476190   56.428571  \n",
              "std     46419.413016   26.177417  \n",
              "min    190000.000000   21.000000  \n",
              "25%    220000.000000   35.000000  \n",
              "50%    250000.000000   52.000000  \n",
              "75%    250000.000000   80.000000  \n",
              "max    400000.000000  112.000000  "
            ],
            "text/html": [
              "\n",
              "  <div id=\"df-68fac6db-437d-4452-9797-3a95541353ae\">\n",
              "    <div class=\"colab-df-container\">\n",
              "      <div>\n",
              "<style scoped>\n",
              "    .dataframe tbody tr th:only-of-type {\n",
              "        vertical-align: middle;\n",
              "    }\n",
              "\n",
              "    .dataframe tbody tr th {\n",
              "        vertical-align: top;\n",
              "    }\n",
              "\n",
              "    .dataframe thead th {\n",
              "        text-align: right;\n",
              "    }\n",
              "</style>\n",
              "<table border=\"1\" class=\"dataframe\">\n",
              "  <thead>\n",
              "    <tr style=\"text-align: right;\">\n",
              "      <th></th>\n",
              "      <th>Effort</th>\n",
              "      <th>Vi</th>\n",
              "      <th>D</th>\n",
              "      <th>V</th>\n",
              "      <th>Sprint_Size</th>\n",
              "      <th>Work_days</th>\n",
              "      <th>Team_Salary</th>\n",
              "      <th>Act_Time</th>\n",
              "    </tr>\n",
              "  </thead>\n",
              "  <tbody>\n",
              "    <tr>\n",
              "      <th>count</th>\n",
              "      <td>21.000000</td>\n",
              "      <td>21.000000</td>\n",
              "      <td>21.000000</td>\n",
              "      <td>21.000000</td>\n",
              "      <td>21.0</td>\n",
              "      <td>21.000000</td>\n",
              "      <td>21.000000</td>\n",
              "      <td>21.000000</td>\n",
              "    </tr>\n",
              "    <tr>\n",
              "      <th>mean</th>\n",
              "      <td>163.714286</td>\n",
              "      <td>4.071429</td>\n",
              "      <td>0.780381</td>\n",
              "      <td>3.023810</td>\n",
              "      <td>10.0</td>\n",
              "      <td>21.952381</td>\n",
              "      <td>246190.476190</td>\n",
              "      <td>56.428571</td>\n",
              "    </tr>\n",
              "    <tr>\n",
              "      <th>std</th>\n",
              "      <td>82.743062</td>\n",
              "      <td>0.325796</td>\n",
              "      <td>0.071028</td>\n",
              "      <td>0.438069</td>\n",
              "      <td>0.0</td>\n",
              "      <td>0.218218</td>\n",
              "      <td>46419.413016</td>\n",
              "      <td>26.177417</td>\n",
              "    </tr>\n",
              "    <tr>\n",
              "      <th>min</th>\n",
              "      <td>62.000000</td>\n",
              "      <td>3.700000</td>\n",
              "      <td>0.646000</td>\n",
              "      <td>2.400000</td>\n",
              "      <td>10.0</td>\n",
              "      <td>21.000000</td>\n",
              "      <td>190000.000000</td>\n",
              "      <td>21.000000</td>\n",
              "    </tr>\n",
              "    <tr>\n",
              "      <th>25%</th>\n",
              "      <td>101.000000</td>\n",
              "      <td>3.900000</td>\n",
              "      <td>0.742000</td>\n",
              "      <td>2.800000</td>\n",
              "      <td>10.0</td>\n",
              "      <td>22.000000</td>\n",
              "      <td>220000.000000</td>\n",
              "      <td>35.000000</td>\n",
              "    </tr>\n",
              "    <tr>\n",
              "      <th>50%</th>\n",
              "      <td>137.000000</td>\n",
              "      <td>4.000000</td>\n",
              "      <td>0.758000</td>\n",
              "      <td>2.900000</td>\n",
              "      <td>10.0</td>\n",
              "      <td>22.000000</td>\n",
              "      <td>250000.000000</td>\n",
              "      <td>52.000000</td>\n",
              "    </tr>\n",
              "    <tr>\n",
              "      <th>75%</th>\n",
              "      <td>211.000000</td>\n",
              "      <td>4.200000</td>\n",
              "      <td>0.833000</td>\n",
              "      <td>3.200000</td>\n",
              "      <td>10.0</td>\n",
              "      <td>22.000000</td>\n",
              "      <td>250000.000000</td>\n",
              "      <td>80.000000</td>\n",
              "    </tr>\n",
              "    <tr>\n",
              "      <th>max</th>\n",
              "      <td>339.000000</td>\n",
              "      <td>4.900000</td>\n",
              "      <td>0.903000</td>\n",
              "      <td>4.200000</td>\n",
              "      <td>10.0</td>\n",
              "      <td>22.000000</td>\n",
              "      <td>400000.000000</td>\n",
              "      <td>112.000000</td>\n",
              "    </tr>\n",
              "  </tbody>\n",
              "</table>\n",
              "</div>\n",
              "      <button class=\"colab-df-convert\" onclick=\"convertToInteractive('df-68fac6db-437d-4452-9797-3a95541353ae')\"\n",
              "              title=\"Convert this dataframe to an interactive table.\"\n",
              "              style=\"display:none;\">\n",
              "        \n",
              "  <svg xmlns=\"http://www.w3.org/2000/svg\" height=\"24px\"viewBox=\"0 0 24 24\"\n",
              "       width=\"24px\">\n",
              "    <path d=\"M0 0h24v24H0V0z\" fill=\"none\"/>\n",
              "    <path d=\"M18.56 5.44l.94 2.06.94-2.06 2.06-.94-2.06-.94-.94-2.06-.94 2.06-2.06.94zm-11 1L8.5 8.5l.94-2.06 2.06-.94-2.06-.94L8.5 2.5l-.94 2.06-2.06.94zm10 10l.94 2.06.94-2.06 2.06-.94-2.06-.94-.94-2.06-.94 2.06-2.06.94z\"/><path d=\"M17.41 7.96l-1.37-1.37c-.4-.4-.92-.59-1.43-.59-.52 0-1.04.2-1.43.59L10.3 9.45l-7.72 7.72c-.78.78-.78 2.05 0 2.83L4 21.41c.39.39.9.59 1.41.59.51 0 1.02-.2 1.41-.59l7.78-7.78 2.81-2.81c.8-.78.8-2.07 0-2.86zM5.41 20L4 18.59l7.72-7.72 1.47 1.35L5.41 20z\"/>\n",
              "  </svg>\n",
              "      </button>\n",
              "      \n",
              "  <style>\n",
              "    .colab-df-container {\n",
              "      display:flex;\n",
              "      flex-wrap:wrap;\n",
              "      gap: 12px;\n",
              "    }\n",
              "\n",
              "    .colab-df-convert {\n",
              "      background-color: #E8F0FE;\n",
              "      border: none;\n",
              "      border-radius: 50%;\n",
              "      cursor: pointer;\n",
              "      display: none;\n",
              "      fill: #1967D2;\n",
              "      height: 32px;\n",
              "      padding: 0 0 0 0;\n",
              "      width: 32px;\n",
              "    }\n",
              "\n",
              "    .colab-df-convert:hover {\n",
              "      background-color: #E2EBFA;\n",
              "      box-shadow: 0px 1px 2px rgba(60, 64, 67, 0.3), 0px 1px 3px 1px rgba(60, 64, 67, 0.15);\n",
              "      fill: #174EA6;\n",
              "    }\n",
              "\n",
              "    [theme=dark] .colab-df-convert {\n",
              "      background-color: #3B4455;\n",
              "      fill: #D2E3FC;\n",
              "    }\n",
              "\n",
              "    [theme=dark] .colab-df-convert:hover {\n",
              "      background-color: #434B5C;\n",
              "      box-shadow: 0px 1px 3px 1px rgba(0, 0, 0, 0.15);\n",
              "      filter: drop-shadow(0px 1px 2px rgba(0, 0, 0, 0.3));\n",
              "      fill: #FFFFFF;\n",
              "    }\n",
              "  </style>\n",
              "\n",
              "      <script>\n",
              "        const buttonEl =\n",
              "          document.querySelector('#df-68fac6db-437d-4452-9797-3a95541353ae button.colab-df-convert');\n",
              "        buttonEl.style.display =\n",
              "          google.colab.kernel.accessAllowed ? 'block' : 'none';\n",
              "\n",
              "        async function convertToInteractive(key) {\n",
              "          const element = document.querySelector('#df-68fac6db-437d-4452-9797-3a95541353ae');\n",
              "          const dataTable =\n",
              "            await google.colab.kernel.invokeFunction('convertToInteractive',\n",
              "                                                     [key], {});\n",
              "          if (!dataTable) return;\n",
              "\n",
              "          const docLinkHtml = 'Like what you see? Visit the ' +\n",
              "            '<a target=\"_blank\" href=https://colab.research.google.com/notebooks/data_table.ipynb>data table notebook</a>'\n",
              "            + ' to learn more about interactive tables.';\n",
              "          element.innerHTML = '';\n",
              "          dataTable['output_type'] = 'display_data';\n",
              "          await google.colab.output.renderOutput(dataTable, element);\n",
              "          const docLink = document.createElement('div');\n",
              "          docLink.innerHTML = docLinkHtml;\n",
              "          element.appendChild(docLink);\n",
              "        }\n",
              "      </script>\n",
              "    </div>\n",
              "  </div>\n",
              "  "
            ]
          },
          "metadata": {},
          "execution_count": 9
        }
      ],
      "source": [
        "\n",
        "#@title Describing Categorical Data \n",
        "Cat_1.describe()\n"
      ]
    },
    {
      "cell_type": "code",
      "execution_count": 9,
      "metadata": {
        "id": "ZoPPEu0MTb4q"
      },
      "outputs": [],
      "source": []
    },
    {
      "cell_type": "code",
      "execution_count": 10,
      "metadata": {
        "id": "GEXGsEJbF3oo"
      },
      "outputs": [],
      "source": [
        "#For debugging purpose\n",
        "#print(Cat_1)"
      ]
    },
    {
      "cell_type": "code",
      "execution_count": 11,
      "metadata": {
        "colab": {
          "base_uri": "https://localhost:8080/",
          "height": 708
        },
        "id": "EK8En7n2fnjK",
        "outputId": "d7979080-f63e-45a8-c7c1-c859a09916df"
      },
      "outputs": [
        {
          "output_type": "display_data",
          "data": {
            "text/plain": [
              "    Effort   Vi      D    V  Sprint_Size  Work_days  Team_Salary  Act_Time\n",
              "0      156  4.2  0.687  2.7           10         22       230000        63\n",
              "1      202  3.7  0.701  2.5           10         21       260000        92\n",
              "2      173  4.0  0.878  3.3           10         22       250000        56\n",
              "3      331  4.5  0.886  3.8           10         22       300000        86\n",
              "4      124  4.9  0.903  4.2           10         22       300000        32\n",
              "5      339  4.1  0.903  3.6           10         22       400000        91\n",
              "6       97  4.2  0.859  3.4           10         22       250000        35\n",
              "7      257  3.8  0.833  3.0           10         22       250000        93\n",
              "8       84  3.9  0.646  2.4           10         22       190000        36\n",
              "9      211  4.6  0.758  3.2           10         22       250000        62\n",
              "10     131  4.6  0.758  3.2           10         22       250000        45\n",
              "11     112  3.9  0.773  2.9           10         22       200000        37\n",
              "12     101  3.9  0.773  2.9           10         22       200000        32\n",
              "13      74  3.9  0.773  2.9           10         22       200000        30\n",
              "14      62  3.9  0.773  2.9           10         22       200000        21\n",
              "15     289  4.0  0.742  2.8           10         22       250000       112\n",
              "16     113  4.0  0.742  2.8           10         22       250000        39\n",
              "17     141  4.0  0.742  2.8           10         22       250000        52\n",
              "18     213  4.0  0.742  2.8           10         22       250000        80\n",
              "19     137  3.7  0.758  2.7           10         22       220000        56\n",
              "20      91  3.7  0.758  2.7           10         22       220000        35"
            ],
            "text/html": [
              "\n",
              "  <div id=\"df-648b5b71-f840-4341-9107-3a3aff4640b8\">\n",
              "    <div class=\"colab-df-container\">\n",
              "      <div>\n",
              "<style scoped>\n",
              "    .dataframe tbody tr th:only-of-type {\n",
              "        vertical-align: middle;\n",
              "    }\n",
              "\n",
              "    .dataframe tbody tr th {\n",
              "        vertical-align: top;\n",
              "    }\n",
              "\n",
              "    .dataframe thead th {\n",
              "        text-align: right;\n",
              "    }\n",
              "</style>\n",
              "<table border=\"1\" class=\"dataframe\">\n",
              "  <thead>\n",
              "    <tr style=\"text-align: right;\">\n",
              "      <th></th>\n",
              "      <th>Effort</th>\n",
              "      <th>Vi</th>\n",
              "      <th>D</th>\n",
              "      <th>V</th>\n",
              "      <th>Sprint_Size</th>\n",
              "      <th>Work_days</th>\n",
              "      <th>Team_Salary</th>\n",
              "      <th>Act_Time</th>\n",
              "    </tr>\n",
              "  </thead>\n",
              "  <tbody>\n",
              "    <tr>\n",
              "      <th>0</th>\n",
              "      <td>156</td>\n",
              "      <td>4.2</td>\n",
              "      <td>0.687</td>\n",
              "      <td>2.7</td>\n",
              "      <td>10</td>\n",
              "      <td>22</td>\n",
              "      <td>230000</td>\n",
              "      <td>63</td>\n",
              "    </tr>\n",
              "    <tr>\n",
              "      <th>1</th>\n",
              "      <td>202</td>\n",
              "      <td>3.7</td>\n",
              "      <td>0.701</td>\n",
              "      <td>2.5</td>\n",
              "      <td>10</td>\n",
              "      <td>21</td>\n",
              "      <td>260000</td>\n",
              "      <td>92</td>\n",
              "    </tr>\n",
              "    <tr>\n",
              "      <th>2</th>\n",
              "      <td>173</td>\n",
              "      <td>4.0</td>\n",
              "      <td>0.878</td>\n",
              "      <td>3.3</td>\n",
              "      <td>10</td>\n",
              "      <td>22</td>\n",
              "      <td>250000</td>\n",
              "      <td>56</td>\n",
              "    </tr>\n",
              "    <tr>\n",
              "      <th>3</th>\n",
              "      <td>331</td>\n",
              "      <td>4.5</td>\n",
              "      <td>0.886</td>\n",
              "      <td>3.8</td>\n",
              "      <td>10</td>\n",
              "      <td>22</td>\n",
              "      <td>300000</td>\n",
              "      <td>86</td>\n",
              "    </tr>\n",
              "    <tr>\n",
              "      <th>4</th>\n",
              "      <td>124</td>\n",
              "      <td>4.9</td>\n",
              "      <td>0.903</td>\n",
              "      <td>4.2</td>\n",
              "      <td>10</td>\n",
              "      <td>22</td>\n",
              "      <td>300000</td>\n",
              "      <td>32</td>\n",
              "    </tr>\n",
              "    <tr>\n",
              "      <th>5</th>\n",
              "      <td>339</td>\n",
              "      <td>4.1</td>\n",
              "      <td>0.903</td>\n",
              "      <td>3.6</td>\n",
              "      <td>10</td>\n",
              "      <td>22</td>\n",
              "      <td>400000</td>\n",
              "      <td>91</td>\n",
              "    </tr>\n",
              "    <tr>\n",
              "      <th>6</th>\n",
              "      <td>97</td>\n",
              "      <td>4.2</td>\n",
              "      <td>0.859</td>\n",
              "      <td>3.4</td>\n",
              "      <td>10</td>\n",
              "      <td>22</td>\n",
              "      <td>250000</td>\n",
              "      <td>35</td>\n",
              "    </tr>\n",
              "    <tr>\n",
              "      <th>7</th>\n",
              "      <td>257</td>\n",
              "      <td>3.8</td>\n",
              "      <td>0.833</td>\n",
              "      <td>3.0</td>\n",
              "      <td>10</td>\n",
              "      <td>22</td>\n",
              "      <td>250000</td>\n",
              "      <td>93</td>\n",
              "    </tr>\n",
              "    <tr>\n",
              "      <th>8</th>\n",
              "      <td>84</td>\n",
              "      <td>3.9</td>\n",
              "      <td>0.646</td>\n",
              "      <td>2.4</td>\n",
              "      <td>10</td>\n",
              "      <td>22</td>\n",
              "      <td>190000</td>\n",
              "      <td>36</td>\n",
              "    </tr>\n",
              "    <tr>\n",
              "      <th>9</th>\n",
              "      <td>211</td>\n",
              "      <td>4.6</td>\n",
              "      <td>0.758</td>\n",
              "      <td>3.2</td>\n",
              "      <td>10</td>\n",
              "      <td>22</td>\n",
              "      <td>250000</td>\n",
              "      <td>62</td>\n",
              "    </tr>\n",
              "    <tr>\n",
              "      <th>10</th>\n",
              "      <td>131</td>\n",
              "      <td>4.6</td>\n",
              "      <td>0.758</td>\n",
              "      <td>3.2</td>\n",
              "      <td>10</td>\n",
              "      <td>22</td>\n",
              "      <td>250000</td>\n",
              "      <td>45</td>\n",
              "    </tr>\n",
              "    <tr>\n",
              "      <th>11</th>\n",
              "      <td>112</td>\n",
              "      <td>3.9</td>\n",
              "      <td>0.773</td>\n",
              "      <td>2.9</td>\n",
              "      <td>10</td>\n",
              "      <td>22</td>\n",
              "      <td>200000</td>\n",
              "      <td>37</td>\n",
              "    </tr>\n",
              "    <tr>\n",
              "      <th>12</th>\n",
              "      <td>101</td>\n",
              "      <td>3.9</td>\n",
              "      <td>0.773</td>\n",
              "      <td>2.9</td>\n",
              "      <td>10</td>\n",
              "      <td>22</td>\n",
              "      <td>200000</td>\n",
              "      <td>32</td>\n",
              "    </tr>\n",
              "    <tr>\n",
              "      <th>13</th>\n",
              "      <td>74</td>\n",
              "      <td>3.9</td>\n",
              "      <td>0.773</td>\n",
              "      <td>2.9</td>\n",
              "      <td>10</td>\n",
              "      <td>22</td>\n",
              "      <td>200000</td>\n",
              "      <td>30</td>\n",
              "    </tr>\n",
              "    <tr>\n",
              "      <th>14</th>\n",
              "      <td>62</td>\n",
              "      <td>3.9</td>\n",
              "      <td>0.773</td>\n",
              "      <td>2.9</td>\n",
              "      <td>10</td>\n",
              "      <td>22</td>\n",
              "      <td>200000</td>\n",
              "      <td>21</td>\n",
              "    </tr>\n",
              "    <tr>\n",
              "      <th>15</th>\n",
              "      <td>289</td>\n",
              "      <td>4.0</td>\n",
              "      <td>0.742</td>\n",
              "      <td>2.8</td>\n",
              "      <td>10</td>\n",
              "      <td>22</td>\n",
              "      <td>250000</td>\n",
              "      <td>112</td>\n",
              "    </tr>\n",
              "    <tr>\n",
              "      <th>16</th>\n",
              "      <td>113</td>\n",
              "      <td>4.0</td>\n",
              "      <td>0.742</td>\n",
              "      <td>2.8</td>\n",
              "      <td>10</td>\n",
              "      <td>22</td>\n",
              "      <td>250000</td>\n",
              "      <td>39</td>\n",
              "    </tr>\n",
              "    <tr>\n",
              "      <th>17</th>\n",
              "      <td>141</td>\n",
              "      <td>4.0</td>\n",
              "      <td>0.742</td>\n",
              "      <td>2.8</td>\n",
              "      <td>10</td>\n",
              "      <td>22</td>\n",
              "      <td>250000</td>\n",
              "      <td>52</td>\n",
              "    </tr>\n",
              "    <tr>\n",
              "      <th>18</th>\n",
              "      <td>213</td>\n",
              "      <td>4.0</td>\n",
              "      <td>0.742</td>\n",
              "      <td>2.8</td>\n",
              "      <td>10</td>\n",
              "      <td>22</td>\n",
              "      <td>250000</td>\n",
              "      <td>80</td>\n",
              "    </tr>\n",
              "    <tr>\n",
              "      <th>19</th>\n",
              "      <td>137</td>\n",
              "      <td>3.7</td>\n",
              "      <td>0.758</td>\n",
              "      <td>2.7</td>\n",
              "      <td>10</td>\n",
              "      <td>22</td>\n",
              "      <td>220000</td>\n",
              "      <td>56</td>\n",
              "    </tr>\n",
              "    <tr>\n",
              "      <th>20</th>\n",
              "      <td>91</td>\n",
              "      <td>3.7</td>\n",
              "      <td>0.758</td>\n",
              "      <td>2.7</td>\n",
              "      <td>10</td>\n",
              "      <td>22</td>\n",
              "      <td>220000</td>\n",
              "      <td>35</td>\n",
              "    </tr>\n",
              "  </tbody>\n",
              "</table>\n",
              "</div>\n",
              "      <button class=\"colab-df-convert\" onclick=\"convertToInteractive('df-648b5b71-f840-4341-9107-3a3aff4640b8')\"\n",
              "              title=\"Convert this dataframe to an interactive table.\"\n",
              "              style=\"display:none;\">\n",
              "        \n",
              "  <svg xmlns=\"http://www.w3.org/2000/svg\" height=\"24px\"viewBox=\"0 0 24 24\"\n",
              "       width=\"24px\">\n",
              "    <path d=\"M0 0h24v24H0V0z\" fill=\"none\"/>\n",
              "    <path d=\"M18.56 5.44l.94 2.06.94-2.06 2.06-.94-2.06-.94-.94-2.06-.94 2.06-2.06.94zm-11 1L8.5 8.5l.94-2.06 2.06-.94-2.06-.94L8.5 2.5l-.94 2.06-2.06.94zm10 10l.94 2.06.94-2.06 2.06-.94-2.06-.94-.94-2.06-.94 2.06-2.06.94z\"/><path d=\"M17.41 7.96l-1.37-1.37c-.4-.4-.92-.59-1.43-.59-.52 0-1.04.2-1.43.59L10.3 9.45l-7.72 7.72c-.78.78-.78 2.05 0 2.83L4 21.41c.39.39.9.59 1.41.59.51 0 1.02-.2 1.41-.59l7.78-7.78 2.81-2.81c.8-.78.8-2.07 0-2.86zM5.41 20L4 18.59l7.72-7.72 1.47 1.35L5.41 20z\"/>\n",
              "  </svg>\n",
              "      </button>\n",
              "      \n",
              "  <style>\n",
              "    .colab-df-container {\n",
              "      display:flex;\n",
              "      flex-wrap:wrap;\n",
              "      gap: 12px;\n",
              "    }\n",
              "\n",
              "    .colab-df-convert {\n",
              "      background-color: #E8F0FE;\n",
              "      border: none;\n",
              "      border-radius: 50%;\n",
              "      cursor: pointer;\n",
              "      display: none;\n",
              "      fill: #1967D2;\n",
              "      height: 32px;\n",
              "      padding: 0 0 0 0;\n",
              "      width: 32px;\n",
              "    }\n",
              "\n",
              "    .colab-df-convert:hover {\n",
              "      background-color: #E2EBFA;\n",
              "      box-shadow: 0px 1px 2px rgba(60, 64, 67, 0.3), 0px 1px 3px 1px rgba(60, 64, 67, 0.15);\n",
              "      fill: #174EA6;\n",
              "    }\n",
              "\n",
              "    [theme=dark] .colab-df-convert {\n",
              "      background-color: #3B4455;\n",
              "      fill: #D2E3FC;\n",
              "    }\n",
              "\n",
              "    [theme=dark] .colab-df-convert:hover {\n",
              "      background-color: #434B5C;\n",
              "      box-shadow: 0px 1px 3px 1px rgba(0, 0, 0, 0.15);\n",
              "      filter: drop-shadow(0px 1px 2px rgba(0, 0, 0, 0.3));\n",
              "      fill: #FFFFFF;\n",
              "    }\n",
              "  </style>\n",
              "\n",
              "      <script>\n",
              "        const buttonEl =\n",
              "          document.querySelector('#df-648b5b71-f840-4341-9107-3a3aff4640b8 button.colab-df-convert');\n",
              "        buttonEl.style.display =\n",
              "          google.colab.kernel.accessAllowed ? 'block' : 'none';\n",
              "\n",
              "        async function convertToInteractive(key) {\n",
              "          const element = document.querySelector('#df-648b5b71-f840-4341-9107-3a3aff4640b8');\n",
              "          const dataTable =\n",
              "            await google.colab.kernel.invokeFunction('convertToInteractive',\n",
              "                                                     [key], {});\n",
              "          if (!dataTable) return;\n",
              "\n",
              "          const docLinkHtml = 'Like what you see? Visit the ' +\n",
              "            '<a target=\"_blank\" href=https://colab.research.google.com/notebooks/data_table.ipynb>data table notebook</a>'\n",
              "            + ' to learn more about interactive tables.';\n",
              "          element.innerHTML = '';\n",
              "          dataTable['output_type'] = 'display_data';\n",
              "          await google.colab.output.renderOutput(dataTable, element);\n",
              "          const docLink = document.createElement('div');\n",
              "          docLink.innerHTML = docLinkHtml;\n",
              "          element.appendChild(docLink);\n",
              "        }\n",
              "      </script>\n",
              "    </div>\n",
              "  </div>\n",
              "  "
            ]
          },
          "metadata": {}
        }
      ],
      "source": [
        "#@title Describe the raw Data of splitted trained set from the dataframe\n",
        "display(Cat_1)"
      ]
    },
    {
      "cell_type": "code",
      "execution_count": 11,
      "metadata": {
        "id": "QNqBXkqLxY8T"
      },
      "outputs": [],
      "source": []
    },
    {
      "cell_type": "code",
      "execution_count": 12,
      "metadata": {
        "colab": {
          "base_uri": "https://localhost:8080/"
        },
        "id": "g97XTJ12xXe_",
        "outputId": "d239e5fc-fadc-4218-db60-929c7381ed5c"
      },
      "outputs": [
        {
          "output_type": "stream",
          "name": "stdout",
          "text": [
            "The overall nummber of projects are:  21\n"
          ]
        }
      ],
      "source": [
        "print('The overall nummber of projects are: ',len(Cat_2))"
      ]
    },
    {
      "cell_type": "code",
      "execution_count": 13,
      "metadata": {
        "colab": {
          "base_uri": "https://localhost:8080/",
          "height": 399
        },
        "id": "hDINeKSAF-uO",
        "outputId": "a514bf90-3a61-4b7e-df11-86811e224662"
      },
      "outputs": [
        {
          "output_type": "display_data",
          "data": {
            "text/plain": [
              "0     1200000\n",
              "1     1600000\n",
              "2     1000000\n",
              "3     2100000\n",
              "4      750000\n",
              "5     3200000\n",
              "6      600000\n",
              "7     1800000\n",
              "8      500000\n",
              "9     1200000\n",
              "10     800000\n",
              "11     650000\n",
              "12     600000\n",
              "13     400000\n",
              "14     350000\n",
              "15    2000000\n",
              "16     800000\n",
              "17    1000000\n",
              "18    1500000\n",
              "19     800000\n",
              "20     550000\n",
              "Name: Actual_Cost, dtype: int64"
            ]
          },
          "metadata": {}
        }
      ],
      "source": [
        "display(Cat_2)"
      ]
    },
    {
      "cell_type": "code",
      "execution_count": 14,
      "metadata": {
        "id": "24lr9lwxGEYY"
      },
      "outputs": [],
      "source": [
        "\n",
        "\n",
        "from sklearn.model_selection import train_test_split\n",
        "\n",
        "x_train,x_test,y_train,y_test = train_test_split(Cat_1,Cat_2,test_size=0.20, random_state=0)\n",
        "from sklearn.linear_model import LinearRegression\n",
        "ml = LinearRegression()\n",
        "ml.fit(x_train,y_train)\n",
        "ml.predict(x_test)\n",
        "y_pred1 = ml.predict(x_test)\n",
        "\n",
        "ypredx=len(x_test)\n",
        "## For Debugging Purpose\n",
        "\n",
        "\n",
        "# print(len(y_pred1))\n",
        "# print('xtrain',len(x_train))\n",
        "# print('xtest',len(x_test))"
      ]
    },
    {
      "cell_type": "code",
      "execution_count": 15,
      "metadata": {
        "colab": {
          "base_uri": "https://localhost:8080/"
        },
        "id": "0lSgG170XhmO",
        "outputId": "06212438-8fd9-4ec6-bbfd-fa36addc87a9"
      },
      "outputs": [
        {
          "output_type": "stream",
          "name": "stdout",
          "text": [
            "8      500000\n",
            "13     400000\n",
            "20     550000\n",
            "1     1600000\n",
            "11     650000\n",
            "Name: Actual_Cost, dtype: int64\n"
          ]
        }
      ],
      "source": [
        "import math\n",
        "print(y_test)\n"
      ]
    },
    {
      "cell_type": "code",
      "execution_count": 16,
      "metadata": {
        "colab": {
          "base_uri": "https://localhost:8080/"
        },
        "id": "OaydKt4JYbMs",
        "outputId": "e1f6979a-782f-4c01-eb66-c489bdf2e00a"
      },
      "outputs": [
        {
          "output_type": "stream",
          "name": "stdout",
          "text": [
            "[ 519105.92988322  324019.47957282  678543.59988735 1752066.93586321\n",
            "  547413.02801057]\n"
          ]
        }
      ],
      "source": [
        "print(y_pred1)"
      ]
    },
    {
      "cell_type": "code",
      "execution_count": 17,
      "metadata": {
        "id": "MwXmlqdxKkcU"
      },
      "outputs": [],
      "source": [
        "ml.predict(x_train)\n",
        "x_train_pred_lr= ml.predict(x_train)"
      ]
    },
    {
      "cell_type": "code",
      "execution_count": 18,
      "metadata": {
        "colab": {
          "base_uri": "https://localhost:8080/"
        },
        "id": "76pId02oLNmz",
        "outputId": "65789de6-5139-4c0c-9840-87cc100cdc5d"
      },
      "outputs": [
        {
          "output_type": "stream",
          "name": "stdout",
          "text": [
            "r2 Score:: 0.9411599029071359\n",
            "Mean Absolute Diffrence::: 95656.79161007726\n",
            "MAE 95656.79161007726\n",
            "MSE 11261994583.574192\n",
            "Root Mean Squared Error:: 106122.5451239\n"
          ]
        }
      ],
      "source": [
        "\n",
        "from sklearn.metrics import r2_score\n",
        "\n",
        "\n",
        "import numpy as np\n",
        "from sklearn.metrics import mean_absolute_error\n",
        "from sklearn.metrics import mean_squared_error\n",
        "import math\n",
        "\n",
        "\n",
        "\n",
        "print('r2 Score::',r2_score(y_test,y_pred1))\n",
        "print(\"Mean Absolute Diffrence:::\",np.mean(abs(y_test-y_pred1)))\n",
        "print('MAE', mean_absolute_error(y_test,y_pred1))\n",
        "print('MSE', mean_squared_error(y_test,y_pred1))\n",
        "xv= math.sqrt(mean_squared_error(y_test,y_pred1))\n",
        "print(\"Root Mean Squared Error::\",xv)"
      ]
    },
    {
      "cell_type": "code",
      "execution_count": 18,
      "metadata": {
        "id": "-ov7f1apS7T1"
      },
      "outputs": [],
      "source": []
    },
    {
      "cell_type": "code",
      "execution_count": 19,
      "metadata": {
        "colab": {
          "base_uri": "https://localhost:8080/",
          "height": 658
        },
        "id": "Xm0sykHILvFR",
        "outputId": "d474fdea-8c02-40c9-c808-10f2115c5ed6"
      },
      "outputs": [
        {
          "output_type": "execute_result",
          "data": {
            "text/plain": [
              "Text(0.5, 1.0, 'Cost Actual vs Predicted Linear Regresssion')"
            ]
          },
          "metadata": {},
          "execution_count": 19
        },
        {
          "output_type": "display_data",
          "data": {
            "text/plain": [
              "<Figure size 700x700 with 1 Axes>"
            ],
            "image/png": "[encoded data removed]"
          },
          "metadata": {}
        }
      ],
      "source": [
        "import matplotlib.pyplot as plt\n",
        "\n",
        "plt.figure(figsize=(7,7))\n",
        "plt.scatter(y_train, x_train_pred_lr ,label='Train Data',color='red' )\n",
        "plt.scatter(y_test, y_pred1)\n",
        "\n",
        "\n",
        "#plt.scatter()\n",
        "plt.xlabel('Actual Cost of the project')\n",
        "plt.ylabel('Predicted Cost of the project')\n",
        "plt.title('Cost Actual vs Predicted Linear Regresssion')\n",
        "\n",
        "\n"
      ]
    },
    {
      "cell_type": "code",
      "execution_count": 20,
      "metadata": {
        "id": "fJOcL_cRxXHO"
      },
      "outputs": [],
      "source": [
        "arr =pd.DataFrame({'Actual  Cost':y_test })\n",
        "arr1 =pd.DataFrame({'Predicted Cost':y_pred1})"
      ]
    },
    {
      "cell_type": "markdown",
      "metadata": {
        "id": "0lPoJ6XOcpfF"
      },
      "source": [
        "# Now calculating Diffrence between actual and predicted Values"
      ]
    },
    {
      "cell_type": "code",
      "execution_count": 21,
      "metadata": {
        "colab": {
          "base_uri": "https://localhost:8080/",
          "height": 206
        },
        "id": "pamvLYhRcEtl",
        "outputId": "7ad5406c-a208-4677-d2c5-bb3013783e95"
      },
      "outputs": [
        {
          "output_type": "execute_result",
          "data": {
            "text/plain": [
              "    Actual Values of Cost  Predicted Cost     Difference\n",
              "8                  500000    19105.929883  -19105.929883\n",
              "13                 400000    24019.479573   75980.520427\n",
              "20                 550000    78543.599887 -128543.599887\n",
              "1                 1600000    52066.935863 -152066.935863\n",
              "11                 650000    47413.028011  102586.971989"
            ],
            "text/html": [
              "\n",
              "  <div id=\"df-631259e2-7365-4efb-bfa6-40e206528881\">\n",
              "    <div class=\"colab-df-container\">\n",
              "      <div>\n",
              "<style scoped>\n",
              "    .dataframe tbody tr th:only-of-type {\n",
              "        vertical-align: middle;\n",
              "    }\n",
              "\n",
              "    .dataframe tbody tr th {\n",
              "        vertical-align: top;\n",
              "    }\n",
              "\n",
              "    .dataframe thead th {\n",
              "        text-align: right;\n",
              "    }\n",
              "</style>\n",
              "<table border=\"1\" class=\"dataframe\">\n",
              "  <thead>\n",
              "    <tr style=\"text-align: right;\">\n",
              "      <th></th>\n",
              "      <th>Actual Values of Cost</th>\n",
              "      <th>Predicted Cost</th>\n",
              "      <th>Difference</th>\n",
              "    </tr>\n",
              "  </thead>\n",
              "  <tbody>\n",
              "    <tr>\n",
              "      <th>8</th>\n",
              "      <td>500000</td>\n",
              "      <td>19105.929883</td>\n",
              "      <td>-19105.929883</td>\n",
              "    </tr>\n",
              "    <tr>\n",
              "      <th>13</th>\n",
              "      <td>400000</td>\n",
              "      <td>24019.479573</td>\n",
              "      <td>75980.520427</td>\n",
              "    </tr>\n",
              "    <tr>\n",
              "      <th>20</th>\n",
              "      <td>550000</td>\n",
              "      <td>78543.599887</td>\n",
              "      <td>-128543.599887</td>\n",
              "    </tr>\n",
              "    <tr>\n",
              "      <th>1</th>\n",
              "      <td>1600000</td>\n",
              "      <td>52066.935863</td>\n",
              "      <td>-152066.935863</td>\n",
              "    </tr>\n",
              "    <tr>\n",
              "      <th>11</th>\n",
              "      <td>650000</td>\n",
              "      <td>47413.028011</td>\n",
              "      <td>102586.971989</td>\n",
              "    </tr>\n",
              "  </tbody>\n",
              "</table>\n",
              "</div>\n",
              "      <button class=\"colab-df-convert\" onclick=\"convertToInteractive('df-631259e2-7365-4efb-bfa6-40e206528881')\"\n",
              "              title=\"Convert this dataframe to an interactive table.\"\n",
              "              style=\"display:none;\">\n",
              "        \n",
              "  <svg xmlns=\"http://www.w3.org/2000/svg\" height=\"24px\"viewBox=\"0 0 24 24\"\n",
              "       width=\"24px\">\n",
              "    <path d=\"M0 0h24v24H0V0z\" fill=\"none\"/>\n",
              "    <path d=\"M18.56 5.44l.94 2.06.94-2.06 2.06-.94-2.06-.94-.94-2.06-.94 2.06-2.06.94zm-11 1L8.5 8.5l.94-2.06 2.06-.94-2.06-.94L8.5 2.5l-.94 2.06-2.06.94zm10 10l.94 2.06.94-2.06 2.06-.94-2.06-.94-.94-2.06-.94 2.06-2.06.94z\"/><path d=\"M17.41 7.96l-1.37-1.37c-.4-.4-.92-.59-1.43-.59-.52 0-1.04.2-1.43.59L10.3 9.45l-7.72 7.72c-.78.78-.78 2.05 0 2.83L4 21.41c.39.39.9.59 1.41.59.51 0 1.02-.2 1.41-.59l7.78-7.78 2.81-2.81c.8-.78.8-2.07 0-2.86zM5.41 20L4 18.59l7.72-7.72 1.47 1.35L5.41 20z\"/>\n",
              "  </svg>\n",
              "      </button>\n",
              "      \n",
              "  <style>\n",
              "    .colab-df-container {\n",
              "      display:flex;\n",
              "      flex-wrap:wrap;\n",
              "      gap: 12px;\n",
              "    }\n",
              "\n",
              "    .colab-df-convert {\n",
              "      background-color: #E8F0FE;\n",
              "      border: none;\n",
              "      border-radius: 50%;\n",
              "      cursor: pointer;\n",
              "      display: none;\n",
              "      fill: #1967D2;\n",
              "      height: 32px;\n",
              "      padding: 0 0 0 0;\n",
              "      width: 32px;\n",
              "    }\n",
              "\n",
              "    .colab-df-convert:hover {\n",
              "      background-color: #E2EBFA;\n",
              "      box-shadow: 0px 1px 2px rgba(60, 64, 67, 0.3), 0px 1px 3px 1px rgba(60, 64, 67, 0.15);\n",
              "      fill: #174EA6;\n",
              "    }\n",
              "\n",
              "    [theme=dark] .colab-df-convert {\n",
              "      background-color: #3B4455;\n",
              "      fill: #D2E3FC;\n",
              "    }\n",
              "\n",
              "    [theme=dark] .colab-df-convert:hover {\n",
              "      background-color: #434B5C;\n",
              "      box-shadow: 0px 1px 3px 1px rgba(0, 0, 0, 0.15);\n",
              "      filter: drop-shadow(0px 1px 2px rgba(0, 0, 0, 0.3));\n",
              "      fill: #FFFFFF;\n",
              "    }\n",
              "  </style>\n",
              "\n",
              "      <script>\n",
              "        const buttonEl =\n",
              "          document.querySelector('#df-631259e2-7365-4efb-bfa6-40e206528881 button.colab-df-convert');\n",
              "        buttonEl.style.display =\n",
              "          google.colab.kernel.accessAllowed ? 'block' : 'none';\n",
              "\n",
              "        async function convertToInteractive(key) {\n",
              "          const element = document.querySelector('#df-631259e2-7365-4efb-bfa6-40e206528881');\n",
              "          const dataTable =\n",
              "            await google.colab.kernel.invokeFunction('convertToInteractive',\n",
              "                                                     [key], {});\n",
              "          if (!dataTable) return;\n",
              "\n",
              "          const docLinkHtml = 'Like what you see? Visit the ' +\n",
              "            '<a target=\"_blank\" href=https://colab.research.google.com/notebooks/data_table.ipynb>data table notebook</a>'\n",
              "            + ' to learn more about interactive tables.';\n",
              "          element.innerHTML = '';\n",
              "          dataTable['output_type'] = 'display_data';\n",
              "          await google.colab.output.renderOutput(dataTable, element);\n",
              "          const docLink = document.createElement('div');\n",
              "          docLink.innerHTML = docLinkHtml;\n",
              "          element.appendChild(docLink);\n",
              "        }\n",
              "      </script>\n",
              "    </div>\n",
              "  </div>\n",
              "  "
            ]
          },
          "metadata": {},
          "execution_count": 21
        }
      ],
      "source": [
        "import pandas as pd\n",
        "pred_y_diff = pd.DataFrame({'Actual Values of Cost':y_test,'Predicted Cost':y_pred1%10**5,'Difference':y_test-y_pred1})\n",
        "\n",
        "\n",
        "\n",
        "pred_y_diff[0:21]\n"
      ]
    },
    {
      "cell_type": "code",
      "execution_count": 22,
      "metadata": {
        "id": "PDj-qc-6rBfy"
      },
      "outputs": [],
      "source": [
        "#arr = pred_y_diff.to_numpy()\n",
        "arr =pd.DataFrame({'Actual  Cost':y_test })\n",
        "arr1 =pd.DataFrame({'Predicted Cost':y_pred1})\n",
        "arr2 =pd.DataFrame({'Difference':y_test-y_pred1})"
      ]
    },
    {
      "cell_type": "code",
      "execution_count": 23,
      "metadata": {
        "colab": {
          "base_uri": "https://localhost:8080/"
        },
        "id": "xI2UkK8zrnkI",
        "outputId": "cdd02b85-33a8-473b-aca3-a1ed789b6453"
      },
      "outputs": [
        {
          "output_type": "stream",
          "name": "stdout",
          "text": [
            "    Actual  Cost\n",
            "8         500000\n",
            "13        400000\n",
            "20        550000\n",
            "1        1600000\n",
            "11        650000\n"
          ]
        }
      ],
      "source": [
        "\n",
        "print(arr)"
      ]
    },
    {
      "cell_type": "code",
      "execution_count": 24,
      "metadata": {
        "colab": {
          "base_uri": "https://localhost:8080/"
        },
        "id": "qA91sNePwbCs",
        "outputId": "5b8c390c-d7af-49f0-942a-ffe24397088c"
      },
      "outputs": [
        {
          "output_type": "stream",
          "name": "stdout",
          "text": [
            "[ 519105.92988322  324019.47957282  678543.59988735 1752066.93586321\n",
            "  547413.02801057]\n"
          ]
        }
      ],
      "source": [
        "print(y_pred1)\n"
      ]
    },
    {
      "cell_type": "code",
      "execution_count": 25,
      "metadata": {
        "colab": {
          "base_uri": "https://localhost:8080/"
        },
        "id": "VjQkdeBSU6yK",
        "outputId": "d4812af1-06b7-4caf-af2a-55f498f6acf9"
      },
      "outputs": [
        {
          "output_type": "stream",
          "name": "stdout",
          "text": [
            "       Difference\n",
            "8    19105.929883\n",
            "13   75980.520427\n",
            "20  128543.599887\n",
            "1   152066.935863\n",
            "11  102586.971989\n"
          ]
        }
      ],
      "source": [
        "print(np.absolute(arr2))"
      ]
    },
    {
      "cell_type": "code",
      "execution_count": 26,
      "metadata": {
        "colab": {
          "base_uri": "https://localhost:8080/"
        },
        "id": "c3EDOg25w9Gk",
        "outputId": "809a1983-2bfc-44ed-ab3f-de9facaa5716"
      },
      "outputs": [
        {
          "output_type": "stream",
          "name": "stdout",
          "text": [
            "The r Score on the predictrd trained Set: 0.94\n",
            "MMRE 0.1429493485321353\n",
            "MdMRE 0.15782611075296318\n",
            "PRED 25% 100.0\n"
          ]
        }
      ],
      "source": [
        "# The r_sq\n",
        "print('The r Score on the predictrd trained Set: %.2f'% r2_score(y_test,y_pred1))\n",
        "\n",
        "diff=np.absolute(y_test-y_pred1)\n",
        "MRE=diff/y_test\n",
        "MMRE=np.mean(MRE)\n",
        "MdMRE=np.median(MRE)\n",
        "P=MRE[MRE<.25]\n",
        "Pred=(P.size/MRE.size) * 100\n",
        "print(\"MMRE\",MMRE)\n",
        "print(\"MdMRE\",MdMRE)\n",
        "print(\"PRED 25%\",Pred)\n",
        "\n",
        "#linear"
      ]
    },
    {
      "cell_type": "code",
      "execution_count": 27,
      "metadata": {
        "colab": {
          "base_uri": "https://localhost:8080/"
        },
        "id": "4ztrf4Fttk_G",
        "outputId": "20f9daff-70e3-42c8-c8ab-6158648ae270"
      },
      "outputs": [
        {
          "output_type": "stream",
          "name": "stdout",
          "text": [
            "5\n",
            "Mean Absolute error::: 195000.0\n",
            "The r Score on the predictrd trained Set: 0.68\n"
          ]
        }
      ],
      "source": [
        "# @title KNeiboursRegressor \n",
        "from sklearn.neighbors import KNeighborsRegressor\n",
        "from sklearn.model_selection import train_test_split\n",
        "\n",
        "#print('x_train length :',len(x_train))\n",
        "x_train,x_test,y_train,y_test = train_test_split(Cat_1,Cat_2, test_size=0.20, random_state=0)\n",
        "#print(len(y_pred1))\n",
        "#print('x_train length:',len(x_train))\n",
        "#print('x_test length:',len(x_test))\n",
        "\n",
        "neigh = KNeighborsRegressor(n_neighbors=2, weights='uniform')\n",
        "neigh.fit(x_train,y_train)\n",
        "y_pred=neigh.predict(x_test) \n",
        "\n",
        "#print(classification_report(y_test,y_pred))\n",
        "\n",
        "#predict =neigh.predict(y_pred)\n",
        "#print(neigh.score(y_test, y_pred))\n",
        "\n",
        "import numpy as np\n",
        "from sklearn.metrics import mean_absolute_error\n",
        "#\n",
        "\n",
        "print(len(y_pred))\n",
        "print(\"Mean Absolute error:::\",mean_absolute_error(y_test,y_pred))\n",
        "#print(\"Mean Absolute error:::\",np.sqrt(mean_absolute_error(y_test,y_pred)))\n",
        "\n",
        "\n",
        "# The r_sq\n",
        "print('The r Score on the predictrd trained Set: %.2f'% r2_score(y_test,y_pred))\n",
        "\n",
        "\n",
        "\n",
        "#knn"
      ]
    },
    {
      "cell_type": "code",
      "execution_count": 28,
      "metadata": {
        "colab": {
          "base_uri": "https://localhost:8080/",
          "height": 662
        },
        "id": "Nz8O0an64kM1",
        "outputId": "d503ce53-5958-493a-a3b7-87d85a2ca356"
      },
      "outputs": [
        {
          "output_type": "execute_result",
          "data": {
            "text/plain": [
              "<function matplotlib.pyplot.show(close=None, block=None)>"
            ]
          },
          "metadata": {},
          "execution_count": 28
        },
        {
          "output_type": "display_data",
          "data": {
            "text/plain": [
              "<Figure size 1000x600 with 1 Axes>"
            ],
            "image/png": "[encoded data removed]"
          },
          "metadata": {}
        }
      ],
      "source": [
        " #plotting the observed and predicted values \n",
        "\n",
        "\n",
        "# Setting the boundaries and parameters\n",
        "\n",
        "plt.rcParams['figure.figsize'] = (10,6)\n",
        "x_ax =range(len(x_test))\n",
        "#x_ax2 =range(len(y_test))\n",
        "#plotting \n",
        "plt.plot(x_ax, y_test , label='Actual Observed Value', color='yellow',linestyle='-')\n",
        "plt.plot(x_ax,y_pred , label='Predicted values ' , color='red' , linestyle ='--')\n",
        "plt.grid()\n",
        "plt.xlabel('Agile Projects')\n",
        "plt.ylabel('Cost of the project')\n",
        "plt.title('Cost Prediction with KNeighbors Regressor')\n",
        "plt.legend(bbox_to_anchor =(0.5,-0.2), loc= 'upper center',ncol=2, frameon = True)\n",
        "\n",
        "plt.show"
      ]
    },
    {
      "cell_type": "code",
      "execution_count": 29,
      "metadata": {
        "colab": {
          "base_uri": "https://localhost:8080/"
        },
        "id": "rX7F4TJY30z1",
        "outputId": "8b00286c-1894-4304-d8d3-3a1ce9295f1e"
      },
      "outputs": [
        {
          "output_type": "stream",
          "name": "stdout",
          "text": [
            "MMRE 0.29623251748251744\n",
            "MdMRE 0.1875\n",
            "PRED 25% 60.0\n"
          ]
        }
      ],
      "source": [
        "#\n",
        "diff=np.absolute(y_test-y_pred)\n",
        "MRE=diff/y_test\n",
        "MMRE=np.mean(MRE)\n",
        "MdMRE=np.median(MRE)\n",
        "P=MRE[MRE<.25]\n",
        "Pred=(P.size/MRE.size) * 100\n",
        "print(\"MMRE\",MMRE)\n",
        "print(\"MdMRE\",MdMRE)\n",
        "print(\"PRED 25%\",Pred)"
      ]
    },
    {
      "cell_type": "code",
      "execution_count": 30,
      "metadata": {
        "colab": {
          "base_uri": "https://localhost:8080/",
          "height": 206
        },
        "id": "6BAGrKGU8kjD",
        "outputId": "0637c836-2f7f-402b-885e-9834b79da58f"
      },
      "outputs": [
        {
          "output_type": "execute_result",
          "data": {
            "text/plain": [
              "    Actual Values of Cost  Predicted Cost  Difference\n",
              "8                  500000        475000.0     25000.0\n",
              "13                 400000        475000.0    -75000.0\n",
              "20                 550000       1000000.0   -450000.0\n",
              "1                 1600000       1350000.0    250000.0\n",
              "11                 650000        475000.0    175000.0"
            ],
            "text/html": [
              "\n",
              "  <div id=\"df-1bc95624-d565-46d1-8756-c6c9a825c619\">\n",
              "    <div class=\"colab-df-container\">\n",
              "      <div>\n",
              "<style scoped>\n",
              "    .dataframe tbody tr th:only-of-type {\n",
              "        vertical-align: middle;\n",
              "    }\n",
              "\n",
              "    .dataframe tbody tr th {\n",
              "        vertical-align: top;\n",
              "    }\n",
              "\n",
              "    .dataframe thead th {\n",
              "        text-align: right;\n",
              "    }\n",
              "</style>\n",
              "<table border=\"1\" class=\"dataframe\">\n",
              "  <thead>\n",
              "    <tr style=\"text-align: right;\">\n",
              "      <th></th>\n",
              "      <th>Actual Values of Cost</th>\n",
              "      <th>Predicted Cost</th>\n",
              "      <th>Difference</th>\n",
              "    </tr>\n",
              "  </thead>\n",
              "  <tbody>\n",
              "    <tr>\n",
              "      <th>8</th>\n",
              "      <td>500000</td>\n",
              "      <td>475000.0</td>\n",
              "      <td>25000.0</td>\n",
              "    </tr>\n",
              "    <tr>\n",
              "      <th>13</th>\n",
              "      <td>400000</td>\n",
              "      <td>475000.0</td>\n",
              "      <td>-75000.0</td>\n",
              "    </tr>\n",
              "    <tr>\n",
              "      <th>20</th>\n",
              "      <td>550000</td>\n",
              "      <td>1000000.0</td>\n",
              "      <td>-450000.0</td>\n",
              "    </tr>\n",
              "    <tr>\n",
              "      <th>1</th>\n",
              "      <td>1600000</td>\n",
              "      <td>1350000.0</td>\n",
              "      <td>250000.0</td>\n",
              "    </tr>\n",
              "    <tr>\n",
              "      <th>11</th>\n",
              "      <td>650000</td>\n",
              "      <td>475000.0</td>\n",
              "      <td>175000.0</td>\n",
              "    </tr>\n",
              "  </tbody>\n",
              "</table>\n",
              "</div>\n",
              "      <button class=\"colab-df-convert\" onclick=\"convertToInteractive('df-1bc95624-d565-46d1-8756-c6c9a825c619')\"\n",
              "              title=\"Convert this dataframe to an interactive table.\"\n",
              "              style=\"display:none;\">\n",
              "        \n",
              "  <svg xmlns=\"http://www.w3.org/2000/svg\" height=\"24px\"viewBox=\"0 0 24 24\"\n",
              "       width=\"24px\">\n",
              "    <path d=\"M0 0h24v24H0V0z\" fill=\"none\"/>\n",
              "    <path d=\"M18.56 5.44l.94 2.06.94-2.06 2.06-.94-2.06-.94-.94-2.06-.94 2.06-2.06.94zm-11 1L8.5 8.5l.94-2.06 2.06-.94-2.06-.94L8.5 2.5l-.94 2.06-2.06.94zm10 10l.94 2.06.94-2.06 2.06-.94-2.06-.94-.94-2.06-.94 2.06-2.06.94z\"/><path d=\"M17.41 7.96l-1.37-1.37c-.4-.4-.92-.59-1.43-.59-.52 0-1.04.2-1.43.59L10.3 9.45l-7.72 7.72c-.78.78-.78 2.05 0 2.83L4 21.41c.39.39.9.59 1.41.59.51 0 1.02-.2 1.41-.59l7.78-7.78 2.81-2.81c.8-.78.8-2.07 0-2.86zM5.41 20L4 18.59l7.72-7.72 1.47 1.35L5.41 20z\"/>\n",
              "  </svg>\n",
              "      </button>\n",
              "      \n",
              "  <style>\n",
              "    .colab-df-container {\n",
              "      display:flex;\n",
              "      flex-wrap:wrap;\n",
              "      gap: 12px;\n",
              "    }\n",
              "\n",
              "    .colab-df-convert {\n",
              "      background-color: #E8F0FE;\n",
              "      border: none;\n",
              "      border-radius: 50%;\n",
              "      cursor: pointer;\n",
              "      display: none;\n",
              "      fill: #1967D2;\n",
              "      height: 32px;\n",
              "      padding: 0 0 0 0;\n",
              "      width: 32px;\n",
              "    }\n",
              "\n",
              "    .colab-df-convert:hover {\n",
              "      background-color: #E2EBFA;\n",
              "      box-shadow: 0px 1px 2px rgba(60, 64, 67, 0.3), 0px 1px 3px 1px rgba(60, 64, 67, 0.15);\n",
              "      fill: #174EA6;\n",
              "    }\n",
              "\n",
              "    [theme=dark] .colab-df-convert {\n",
              "      background-color: #3B4455;\n",
              "      fill: #D2E3FC;\n",
              "    }\n",
              "\n",
              "    [theme=dark] .colab-df-convert:hover {\n",
              "      background-color: #434B5C;\n",
              "      box-shadow: 0px 1px 3px 1px rgba(0, 0, 0, 0.15);\n",
              "      filter: drop-shadow(0px 1px 2px rgba(0, 0, 0, 0.3));\n",
              "      fill: #FFFFFF;\n",
              "    }\n",
              "  </style>\n",
              "\n",
              "      <script>\n",
              "        const buttonEl =\n",
              "          document.querySelector('#df-1bc95624-d565-46d1-8756-c6c9a825c619 button.colab-df-convert');\n",
              "        buttonEl.style.display =\n",
              "          google.colab.kernel.accessAllowed ? 'block' : 'none';\n",
              "\n",
              "        async function convertToInteractive(key) {\n",
              "          const element = document.querySelector('#df-1bc95624-d565-46d1-8756-c6c9a825c619');\n",
              "          const dataTable =\n",
              "            await google.colab.kernel.invokeFunction('convertToInteractive',\n",
              "                                                     [key], {});\n",
              "          if (!dataTable) return;\n",
              "\n",
              "          const docLinkHtml = 'Like what you see? Visit the ' +\n",
              "            '<a target=\"_blank\" href=https://colab.research.google.com/notebooks/data_table.ipynb>data table notebook</a>'\n",
              "            + ' to learn more about interactive tables.';\n",
              "          element.innerHTML = '';\n",
              "          dataTable['output_type'] = 'display_data';\n",
              "          await google.colab.output.renderOutput(dataTable, element);\n",
              "          const docLink = document.createElement('div');\n",
              "          docLink.innerHTML = docLinkHtml;\n",
              "          element.appendChild(docLink);\n",
              "        }\n",
              "      </script>\n",
              "    </div>\n",
              "  </div>\n",
              "  "
            ]
          },
          "metadata": {},
          "execution_count": 30
        }
      ],
      "source": [
        "import pandas as pd\n",
        "\n",
        "pred_y_diff = pd.DataFrame({'Actual Values of Cost':y_test,'Predicted Cost':y_pred,'Difference':y_test-y_pred})\n",
        "xyy=pred_y_diff.Difference.abs()\n",
        "pred_y_diff[0:21]"
      ]
    },
    {
      "cell_type": "code",
      "execution_count": 31,
      "metadata": {
        "colab": {
          "base_uri": "https://localhost:8080/",
          "height": 206
        },
        "id": "oaXo4IIiYi-a",
        "outputId": "19fe58c9-67eb-493e-e31e-f74b26007924"
      },
      "outputs": [
        {
          "output_type": "execute_result",
          "data": {
            "text/plain": [
              "    Actual Values of Cost  Predicted Cost       MRE\n",
              "8                  500000        475000.0  0.050000\n",
              "13                 400000        475000.0 -0.187500\n",
              "20                 550000       1000000.0 -0.818182\n",
              "1                 1600000       1350000.0  0.156250\n",
              "11                 650000        475000.0  0.269231"
            ],
            "text/html": [
              "\n",
              "  <div id=\"df-6502b1ec-1651-423e-8900-19bab3139c23\">\n",
              "    <div class=\"colab-df-container\">\n",
              "      <div>\n",
              "<style scoped>\n",
              "    .dataframe tbody tr th:only-of-type {\n",
              "        vertical-align: middle;\n",
              "    }\n",
              "\n",
              "    .dataframe tbody tr th {\n",
              "        vertical-align: top;\n",
              "    }\n",
              "\n",
              "    .dataframe thead th {\n",
              "        text-align: right;\n",
              "    }\n",
              "</style>\n",
              "<table border=\"1\" class=\"dataframe\">\n",
              "  <thead>\n",
              "    <tr style=\"text-align: right;\">\n",
              "      <th></th>\n",
              "      <th>Actual Values of Cost</th>\n",
              "      <th>Predicted Cost</th>\n",
              "      <th>MRE</th>\n",
              "    </tr>\n",
              "  </thead>\n",
              "  <tbody>\n",
              "    <tr>\n",
              "      <th>8</th>\n",
              "      <td>500000</td>\n",
              "      <td>475000.0</td>\n",
              "      <td>0.050000</td>\n",
              "    </tr>\n",
              "    <tr>\n",
              "      <th>13</th>\n",
              "      <td>400000</td>\n",
              "      <td>475000.0</td>\n",
              "      <td>-0.187500</td>\n",
              "    </tr>\n",
              "    <tr>\n",
              "      <th>20</th>\n",
              "      <td>550000</td>\n",
              "      <td>1000000.0</td>\n",
              "      <td>-0.818182</td>\n",
              "    </tr>\n",
              "    <tr>\n",
              "      <th>1</th>\n",
              "      <td>1600000</td>\n",
              "      <td>1350000.0</td>\n",
              "      <td>0.156250</td>\n",
              "    </tr>\n",
              "    <tr>\n",
              "      <th>11</th>\n",
              "      <td>650000</td>\n",
              "      <td>475000.0</td>\n",
              "      <td>0.269231</td>\n",
              "    </tr>\n",
              "  </tbody>\n",
              "</table>\n",
              "</div>\n",
              "      <button class=\"colab-df-convert\" onclick=\"convertToInteractive('df-6502b1ec-1651-423e-8900-19bab3139c23')\"\n",
              "              title=\"Convert this dataframe to an interactive table.\"\n",
              "              style=\"display:none;\">\n",
              "        \n",
              "  <svg xmlns=\"http://www.w3.org/2000/svg\" height=\"24px\"viewBox=\"0 0 24 24\"\n",
              "       width=\"24px\">\n",
              "    <path d=\"M0 0h24v24H0V0z\" fill=\"none\"/>\n",
              "    <path d=\"M18.56 5.44l.94 2.06.94-2.06 2.06-.94-2.06-.94-.94-2.06-.94 2.06-2.06.94zm-11 1L8.5 8.5l.94-2.06 2.06-.94-2.06-.94L8.5 2.5l-.94 2.06-2.06.94zm10 10l.94 2.06.94-2.06 2.06-.94-2.06-.94-.94-2.06-.94 2.06-2.06.94z\"/><path d=\"M17.41 7.96l-1.37-1.37c-.4-.4-.92-.59-1.43-.59-.52 0-1.04.2-1.43.59L10.3 9.45l-7.72 7.72c-.78.78-.78 2.05 0 2.83L4 21.41c.39.39.9.59 1.41.59.51 0 1.02-.2 1.41-.59l7.78-7.78 2.81-2.81c.8-.78.8-2.07 0-2.86zM5.41 20L4 18.59l7.72-7.72 1.47 1.35L5.41 20z\"/>\n",
              "  </svg>\n",
              "      </button>\n",
              "      \n",
              "  <style>\n",
              "    .colab-df-container {\n",
              "      display:flex;\n",
              "      flex-wrap:wrap;\n",
              "      gap: 12px;\n",
              "    }\n",
              "\n",
              "    .colab-df-convert {\n",
              "      background-color: #E8F0FE;\n",
              "      border: none;\n",
              "      border-radius: 50%;\n",
              "      cursor: pointer;\n",
              "      display: none;\n",
              "      fill: #1967D2;\n",
              "      height: 32px;\n",
              "      padding: 0 0 0 0;\n",
              "      width: 32px;\n",
              "    }\n",
              "\n",
              "    .colab-df-convert:hover {\n",
              "      background-color: #E2EBFA;\n",
              "      box-shadow: 0px 1px 2px rgba(60, 64, 67, 0.3), 0px 1px 3px 1px rgba(60, 64, 67, 0.15);\n",
              "      fill: #174EA6;\n",
              "    }\n",
              "\n",
              "    [theme=dark] .colab-df-convert {\n",
              "      background-color: #3B4455;\n",
              "      fill: #D2E3FC;\n",
              "    }\n",
              "\n",
              "    [theme=dark] .colab-df-convert:hover {\n",
              "      background-color: #434B5C;\n",
              "      box-shadow: 0px 1px 3px 1px rgba(0, 0, 0, 0.15);\n",
              "      filter: drop-shadow(0px 1px 2px rgba(0, 0, 0, 0.3));\n",
              "      fill: #FFFFFF;\n",
              "    }\n",
              "  </style>\n",
              "\n",
              "      <script>\n",
              "        const buttonEl =\n",
              "          document.querySelector('#df-6502b1ec-1651-423e-8900-19bab3139c23 button.colab-df-convert');\n",
              "        buttonEl.style.display =\n",
              "          google.colab.kernel.accessAllowed ? 'block' : 'none';\n",
              "\n",
              "        async function convertToInteractive(key) {\n",
              "          const element = document.querySelector('#df-6502b1ec-1651-423e-8900-19bab3139c23');\n",
              "          const dataTable =\n",
              "            await google.colab.kernel.invokeFunction('convertToInteractive',\n",
              "                                                     [key], {});\n",
              "          if (!dataTable) return;\n",
              "\n",
              "          const docLinkHtml = 'Like what you see? Visit the ' +\n",
              "            '<a target=\"_blank\" href=https://colab.research.google.com/notebooks/data_table.ipynb>data table notebook</a>'\n",
              "            + ' to learn more about interactive tables.';\n",
              "          element.innerHTML = '';\n",
              "          dataTable['output_type'] = 'display_data';\n",
              "          await google.colab.output.renderOutput(dataTable, element);\n",
              "          const docLink = document.createElement('div');\n",
              "          docLink.innerHTML = docLinkHtml;\n",
              "          element.appendChild(docLink);\n",
              "        }\n",
              "      </script>\n",
              "    </div>\n",
              "  </div>\n",
              "  "
            ]
          },
          "metadata": {},
          "execution_count": 31
        }
      ],
      "source": [
        "pred_mre = pd.DataFrame({'Actual Values of Cost':y_test,'Predicted Cost':y_pred,'MRE':(y_test-y_pred)/y_test})\n",
        "\n",
        "\n",
        "pred_mre[0:21]"
      ]
    },
    {
      "cell_type": "markdown",
      "metadata": {
        "id": "CCWxo5JClMQL"
      },
      "source": [
        "----------------------------"
      ]
    },
    {
      "cell_type": "markdown",
      "metadata": {
        "id": "86adLKC83Yxt"
      },
      "source": [
        "Decision Tree Implementation"
      ]
    },
    {
      "cell_type": "markdown",
      "metadata": {
        "id": "5oseIRB9gJrB"
      },
      "source": [
        "## Decision Tree Implementation "
      ]
    },
    {
      "cell_type": "code",
      "execution_count": 32,
      "metadata": {
        "colab": {
          "base_uri": "https://localhost:8080/",
          "height": 206
        },
        "id": "AQQvoYbjgICx",
        "outputId": "12ee9e16-ba89-4da3-98cb-1a9f02f05ead"
      },
      "outputs": [
        {
          "output_type": "execute_result",
          "data": {
            "text/plain": [
              "   Effort   Vi      D    V  Sprint_Size  Work_days  Team_Salary  Act_Time  \\\n",
              "0     156  4.2  0.687  2.7           10         22       230000        63   \n",
              "1     202  3.7  0.701  2.5           10         21       260000        92   \n",
              "2     173  4.0  0.878  3.3           10         22       250000        56   \n",
              "3     331  4.5  0.886  3.8           10         22       300000        86   \n",
              "4     124  4.9  0.903  4.2           10         22       300000        32   \n",
              "\n",
              "   Actual_Cost  \n",
              "0      1200000  \n",
              "1      1600000  \n",
              "2      1000000  \n",
              "3      2100000  \n",
              "4       750000  "
            ],
            "text/html": [
              "\n",
              "  <div id=\"df-3aef8324-c2ea-4c8d-8367-9b37056b8245\">\n",
              "    <div class=\"colab-df-container\">\n",
              "      <div>\n",
              "<style scoped>\n",
              "    .dataframe tbody tr th:only-of-type {\n",
              "        vertical-align: middle;\n",
              "    }\n",
              "\n",
              "    .dataframe tbody tr th {\n",
              "        vertical-align: top;\n",
              "    }\n",
              "\n",
              "    .dataframe thead th {\n",
              "        text-align: right;\n",
              "    }\n",
              "</style>\n",
              "<table border=\"1\" class=\"dataframe\">\n",
              "  <thead>\n",
              "    <tr style=\"text-align: right;\">\n",
              "      <th></th>\n",
              "      <th>Effort</th>\n",
              "      <th>Vi</th>\n",
              "      <th>D</th>\n",
              "      <th>V</th>\n",
              "      <th>Sprint_Size</th>\n",
              "      <th>Work_days</th>\n",
              "      <th>Team_Salary</th>\n",
              "      <th>Act_Time</th>\n",
              "      <th>Actual_Cost</th>\n",
              "    </tr>\n",
              "  </thead>\n",
              "  <tbody>\n",
              "    <tr>\n",
              "      <th>0</th>\n",
              "      <td>156</td>\n",
              "      <td>4.2</td>\n",
              "      <td>0.687</td>\n",
              "      <td>2.7</td>\n",
              "      <td>10</td>\n",
              "      <td>22</td>\n",
              "      <td>230000</td>\n",
              "      <td>63</td>\n",
              "      <td>1200000</td>\n",
              "    </tr>\n",
              "    <tr>\n",
              "      <th>1</th>\n",
              "      <td>202</td>\n",
              "      <td>3.7</td>\n",
              "      <td>0.701</td>\n",
              "      <td>2.5</td>\n",
              "      <td>10</td>\n",
              "      <td>21</td>\n",
              "      <td>260000</td>\n",
              "      <td>92</td>\n",
              "      <td>1600000</td>\n",
              "    </tr>\n",
              "    <tr>\n",
              "      <th>2</th>\n",
              "      <td>173</td>\n",
              "      <td>4.0</td>\n",
              "      <td>0.878</td>\n",
              "      <td>3.3</td>\n",
              "      <td>10</td>\n",
              "      <td>22</td>\n",
              "      <td>250000</td>\n",
              "      <td>56</td>\n",
              "      <td>1000000</td>\n",
              "    </tr>\n",
              "    <tr>\n",
              "      <th>3</th>\n",
              "      <td>331</td>\n",
              "      <td>4.5</td>\n",
              "      <td>0.886</td>\n",
              "      <td>3.8</td>\n",
              "      <td>10</td>\n",
              "      <td>22</td>\n",
              "      <td>300000</td>\n",
              "      <td>86</td>\n",
              "      <td>2100000</td>\n",
              "    </tr>\n",
              "    <tr>\n",
              "      <th>4</th>\n",
              "      <td>124</td>\n",
              "      <td>4.9</td>\n",
              "      <td>0.903</td>\n",
              "      <td>4.2</td>\n",
              "      <td>10</td>\n",
              "      <td>22</td>\n",
              "      <td>300000</td>\n",
              "      <td>32</td>\n",
              "      <td>750000</td>\n",
              "    </tr>\n",
              "  </tbody>\n",
              "</table>\n",
              "</div>\n",
              "      <button class=\"colab-df-convert\" onclick=\"convertToInteractive('df-3aef8324-c2ea-4c8d-8367-9b37056b8245')\"\n",
              "              title=\"Convert this dataframe to an interactive table.\"\n",
              "              style=\"display:none;\">\n",
              "        \n",
              "  <svg xmlns=\"http://www.w3.org/2000/svg\" height=\"24px\"viewBox=\"0 0 24 24\"\n",
              "       width=\"24px\">\n",
              "    <path d=\"M0 0h24v24H0V0z\" fill=\"none\"/>\n",
              "    <path d=\"M18.56 5.44l.94 2.06.94-2.06 2.06-.94-2.06-.94-.94-2.06-.94 2.06-2.06.94zm-11 1L8.5 8.5l.94-2.06 2.06-.94-2.06-.94L8.5 2.5l-.94 2.06-2.06.94zm10 10l.94 2.06.94-2.06 2.06-.94-2.06-.94-.94-2.06-.94 2.06-2.06.94z\"/><path d=\"M17.41 7.96l-1.37-1.37c-.4-.4-.92-.59-1.43-.59-.52 0-1.04.2-1.43.59L10.3 9.45l-7.72 7.72c-.78.78-.78 2.05 0 2.83L4 21.41c.39.39.9.59 1.41.59.51 0 1.02-.2 1.41-.59l7.78-7.78 2.81-2.81c.8-.78.8-2.07 0-2.86zM5.41 20L4 18.59l7.72-7.72 1.47 1.35L5.41 20z\"/>\n",
              "  </svg>\n",
              "      </button>\n",
              "      \n",
              "  <style>\n",
              "    .colab-df-container {\n",
              "      display:flex;\n",
              "      flex-wrap:wrap;\n",
              "      gap: 12px;\n",
              "    }\n",
              "\n",
              "    .colab-df-convert {\n",
              "      background-color: #E8F0FE;\n",
              "      border: none;\n",
              "      border-radius: 50%;\n",
              "      cursor: pointer;\n",
              "      display: none;\n",
              "      fill: #1967D2;\n",
              "      height: 32px;\n",
              "      padding: 0 0 0 0;\n",
              "      width: 32px;\n",
              "    }\n",
              "\n",
              "    .colab-df-convert:hover {\n",
              "      background-color: #E2EBFA;\n",
              "      box-shadow: 0px 1px 2px rgba(60, 64, 67, 0.3), 0px 1px 3px 1px rgba(60, 64, 67, 0.15);\n",
              "      fill: #174EA6;\n",
              "    }\n",
              "\n",
              "    [theme=dark] .colab-df-convert {\n",
              "      background-color: #3B4455;\n",
              "      fill: #D2E3FC;\n",
              "    }\n",
              "\n",
              "    [theme=dark] .colab-df-convert:hover {\n",
              "      background-color: #434B5C;\n",
              "      box-shadow: 0px 1px 3px 1px rgba(0, 0, 0, 0.15);\n",
              "      filter: drop-shadow(0px 1px 2px rgba(0, 0, 0, 0.3));\n",
              "      fill: #FFFFFF;\n",
              "    }\n",
              "  </style>\n",
              "\n",
              "      <script>\n",
              "        const buttonEl =\n",
              "          document.querySelector('#df-3aef8324-c2ea-4c8d-8367-9b37056b8245 button.colab-df-convert');\n",
              "        buttonEl.style.display =\n",
              "          google.colab.kernel.accessAllowed ? 'block' : 'none';\n",
              "\n",
              "        async function convertToInteractive(key) {\n",
              "          const element = document.querySelector('#df-3aef8324-c2ea-4c8d-8367-9b37056b8245');\n",
              "          const dataTable =\n",
              "            await google.colab.kernel.invokeFunction('convertToInteractive',\n",
              "                                                     [key], {});\n",
              "          if (!dataTable) return;\n",
              "\n",
              "          const docLinkHtml = 'Like what you see? Visit the ' +\n",
              "            '<a target=\"_blank\" href=https://colab.research.google.com/notebooks/data_table.ipynb>data table notebook</a>'\n",
              "            + ' to learn more about interactive tables.';\n",
              "          element.innerHTML = '';\n",
              "          dataTable['output_type'] = 'display_data';\n",
              "          await google.colab.output.renderOutput(dataTable, element);\n",
              "          const docLink = document.createElement('div');\n",
              "          docLink.innerHTML = docLinkHtml;\n",
              "          element.appendChild(docLink);\n",
              "        }\n",
              "      </script>\n",
              "    </div>\n",
              "  </div>\n",
              "  "
            ]
          },
          "metadata": {},
          "execution_count": 32
        }
      ],
      "source": [
        "data_read.head()"
      ]
    },
    {
      "cell_type": "code",
      "execution_count": 33,
      "metadata": {
        "colab": {
          "base_uri": "https://localhost:8080/"
        },
        "id": "4v0RFhlXlQT5",
        "outputId": "f5da9931-a996-4f89-9b60-b11a9faabcc9"
      },
      "outputs": [
        {
          "output_type": "execute_result",
          "data": {
            "text/plain": [
              "(21, 8)"
            ]
          },
          "metadata": {},
          "execution_count": 33
        }
      ],
      "source": [
        "#Now to Prepare the Input and Output Features\n",
        "X= data_read.drop(['Effort'],axis=1)\n",
        "X.shape"
      ]
    },
    {
      "cell_type": "code",
      "execution_count": 34,
      "metadata": {
        "id": "AzRe_yB8mbev"
      },
      "outputs": [],
      "source": [
        "#Splitting the dataset into Trainingfset and test set\n",
        "\n",
        "#Splitting the dataset\n",
        "X_train,X_test,y_train,y_test = train_test_split(Cat_1,Cat_2, test_size=0.20 ,random_state=0)\n"
      ]
    },
    {
      "cell_type": "code",
      "execution_count": 35,
      "metadata": {
        "id": "bDmoXMWDnT1i"
      },
      "outputs": [],
      "source": [
        "from sklearn.tree import DecisionTreeRegressor\n",
        "from sklearn.model_selection import train_test_split\n",
        "import pandas as pd\n",
        "#Creating and Fitting the model\n",
        "regressor1 = DecisionTreeRegressor().fit(X_train,y_train)"
      ]
    },
    {
      "cell_type": "code",
      "execution_count": 36,
      "metadata": {
        "colab": {
          "base_uri": "https://localhost:8080/"
        },
        "id": "6Zq7ZjMentIn",
        "outputId": "857e8114-83f1-465c-e0a2-6194fac16d06"
      },
      "outputs": [
        {
          "output_type": "stream",
          "name": "stdout",
          "text": [
            "Training R_sq is : 1.00\n"
          ]
        }
      ],
      "source": [
        "#The Coeffitient of Detern=mination \n",
        "print('Training R_sq is : %.2f'% regressor1.score(X_train,y_train))"
      ]
    },
    {
      "cell_type": "code",
      "execution_count": 36,
      "metadata": {
        "id": "wE5QYOZRntm8"
      },
      "outputs": [],
      "source": []
    },
    {
      "cell_type": "code",
      "execution_count": 37,
      "metadata": {
        "id": "YzkecUyJo3B5"
      },
      "outputs": [],
      "source": [
        "# For the training model EVALUATION\n",
        "from  sklearn.metrics import mean_absolute_error , mean_squared_error, explained_variance_score , r2_score"
      ]
    },
    {
      "cell_type": "code",
      "execution_count": 38,
      "metadata": {
        "id": "oSTfOuIjoDoP"
      },
      "outputs": [],
      "source": [
        "#prediction on the training Dataset\n",
        "y_train_pred = regressor1.predict(X_train)\n",
        "\n"
      ]
    },
    {
      "cell_type": "code",
      "execution_count": 39,
      "metadata": {
        "colab": {
          "base_uri": "https://localhost:8080/"
        },
        "id": "THzjL519r1BL",
        "outputId": "7df41fa0-cf4d-4f37-8cd1-0885b0664726"
      },
      "outputs": [
        {
          "output_type": "stream",
          "name": "stdout",
          "text": [
            "The r_sq  is: 1.00\n"
          ]
        }
      ],
      "source": [
        "\n",
        "# The r_sq\n",
        "print('The r_sq  is: %.2f'% r2_score(y_train,y_train_pred))"
      ]
    },
    {
      "cell_type": "code",
      "execution_count": 39,
      "metadata": {
        "id": "YGpfe7bOrWs2"
      },
      "outputs": [],
      "source": []
    },
    {
      "cell_type": "code",
      "execution_count": 40,
      "metadata": {
        "colab": {
          "base_uri": "https://localhost:8080/"
        },
        "id": "sD4p0K1grSXP",
        "outputId": "9ae32794-b8d4-4a2e-c51a-d363728f186c"
      },
      "outputs": [
        {
          "output_type": "stream",
          "name": "stdout",
          "text": [
            "Mean Squared Error:: 15500000000.0\n",
            "Mean Absolute Error:: 110000.0\n",
            "Root Mean Squared Error:: 124498.99597988732\n"
          ]
        }
      ],
      "source": [
        "#prediction on testing the data\n",
        "y_test_pred_dt = regressor1.predict(X_test)\n",
        "print(\"Mean Squared Error::\",mean_squared_error(y_test,y_test_pred_dt))\n",
        "print(\"Mean Absolute Error::\",mean_absolute_error(y_test,y_test_pred_dt))\n",
        "xv= math.sqrt(mean_squared_error(y_test,y_test_pred_dt))\n",
        "print(\"Root Mean Squared Error::\",xv)"
      ]
    },
    {
      "cell_type": "code",
      "execution_count": 41,
      "metadata": {
        "colab": {
          "base_uri": "https://localhost:8080/"
        },
        "id": "bJZV9cB2rkWA",
        "outputId": "f75b5177-8618-4518-8eea-e74349a53b4d"
      },
      "outputs": [
        {
          "output_type": "stream",
          "name": "stdout",
          "text": [
            "The r Score on the predictrd trained Set: 0.92\n",
            "MMRE 0.1543356643356643\n",
            "MdMRE 0.125\n",
            "PRED 25% 100.0\n"
          ]
        }
      ],
      "source": [
        "# The r_sq\n",
        "print('The r Score on the predictrd trained Set: %.2f'% r2_score(y_test,y_test_pred_dt))\n",
        "\n",
        "diff=np.absolute(y_test-y_test_pred_dt)\n",
        "MRE=diff/y_test\n",
        "MMRE=np.mean(MRE)\n",
        "MdMRE=np.median(MRE)\n",
        "P=MRE[MRE<.25]\n",
        "Pred=(P.size/MRE.size) * 100\n",
        "print(\"MMRE\",MMRE)\n",
        "print(\"MdMRE\",MdMRE)\n",
        "print(\"PRED 25%\",Pred)\n",
        "\n"
      ]
    },
    {
      "cell_type": "code",
      "execution_count": 41,
      "metadata": {
        "id": "9J98XTCblvJD"
      },
      "outputs": [],
      "source": []
    },
    {
      "cell_type": "code",
      "execution_count": 41,
      "metadata": {
        "id": "GG7AuhqvlvN7"
      },
      "outputs": [],
      "source": []
    },
    {
      "cell_type": "code",
      "execution_count": 42,
      "metadata": {
        "colab": {
          "base_uri": "https://localhost:8080/",
          "height": 662
        },
        "id": "f9r28Y3hQV2l",
        "outputId": "b34d4c2c-9360-4bee-ffcf-76480134ea57"
      },
      "outputs": [
        {
          "output_type": "execute_result",
          "data": {
            "text/plain": [
              "<function matplotlib.pyplot.show(close=None, block=None)>"
            ]
          },
          "metadata": {},
          "execution_count": 42
        },
        {
          "output_type": "display_data",
          "data": {
            "text/plain": [
              "<Figure size 1000x600 with 1 Axes>"
            ],
            "image/png": "[encoded data removed]"
          },
          "metadata": {}
        }
      ],
      "source": [
        "# plotting the observed and predicted values \n",
        "\n",
        "\n",
        "# Setting the boundaries and parameters\n",
        "\n",
        "plt.rcParams['figure.figsize'] = (10,6)\n",
        "x_ax =range(len(X_test))\n",
        "#x_ax2 =range(len(y_test))\n",
        "#plotting \n",
        "plt.plot(x_ax, y_test , label='Actual Observed Value', color='yellow',linestyle='-')\n",
        "plt.plot(x_ax,y_test_pred_dt , label='Predicted values ' , color='red' , linestyle ='--')\n",
        "plt.grid()\n",
        "plt.xlabel('Agile Projects')\n",
        "plt.ylabel('Cost Parameter')\n",
        "plt.title('Effort Prediction witn Decision Tree Regression')\n",
        "plt.legend(bbox_to_anchor =(0.5,-0.2), loc= 'upper center',ncol=2, frameon = True)\n",
        "\n",
        "plt.show"
      ]
    },
    {
      "cell_type": "code",
      "execution_count": 43,
      "metadata": {
        "colab": {
          "base_uri": "https://localhost:8080/",
          "height": 206
        },
        "id": "mye5sB4hkdDW",
        "outputId": "38d8d851-5e15-4584-a183-2109ec807b28"
      },
      "outputs": [
        {
          "output_type": "execute_result",
          "data": {
            "text/plain": [
              "    Actual Values of Effort  Predicted Effort       MRE\n",
              "8                    500000          600000.0 -0.200000\n",
              "13                   400000          350000.0  0.125000\n",
              "20                   550000          600000.0 -0.090909\n",
              "1                   1600000         1800000.0 -0.125000\n",
              "11                   650000          800000.0 -0.230769"
            ],
            "text/html": [
              "\n",
              "  <div id=\"df-9c16acdf-e8dc-4447-9513-81d121c883aa\">\n",
              "    <div class=\"colab-df-container\">\n",
              "      <div>\n",
              "<style scoped>\n",
              "    .dataframe tbody tr th:only-of-type {\n",
              "        vertical-align: middle;\n",
              "    }\n",
              "\n",
              "    .dataframe tbody tr th {\n",
              "        vertical-align: top;\n",
              "    }\n",
              "\n",
              "    .dataframe thead th {\n",
              "        text-align: right;\n",
              "    }\n",
              "</style>\n",
              "<table border=\"1\" class=\"dataframe\">\n",
              "  <thead>\n",
              "    <tr style=\"text-align: right;\">\n",
              "      <th></th>\n",
              "      <th>Actual Values of Effort</th>\n",
              "      <th>Predicted Effort</th>\n",
              "      <th>MRE</th>\n",
              "    </tr>\n",
              "  </thead>\n",
              "  <tbody>\n",
              "    <tr>\n",
              "      <th>8</th>\n",
              "      <td>500000</td>\n",
              "      <td>600000.0</td>\n",
              "      <td>-0.200000</td>\n",
              "    </tr>\n",
              "    <tr>\n",
              "      <th>13</th>\n",
              "      <td>400000</td>\n",
              "      <td>350000.0</td>\n",
              "      <td>0.125000</td>\n",
              "    </tr>\n",
              "    <tr>\n",
              "      <th>20</th>\n",
              "      <td>550000</td>\n",
              "      <td>600000.0</td>\n",
              "      <td>-0.090909</td>\n",
              "    </tr>\n",
              "    <tr>\n",
              "      <th>1</th>\n",
              "      <td>1600000</td>\n",
              "      <td>1800000.0</td>\n",
              "      <td>-0.125000</td>\n",
              "    </tr>\n",
              "    <tr>\n",
              "      <th>11</th>\n",
              "      <td>650000</td>\n",
              "      <td>800000.0</td>\n",
              "      <td>-0.230769</td>\n",
              "    </tr>\n",
              "  </tbody>\n",
              "</table>\n",
              "</div>\n",
              "      <button class=\"colab-df-convert\" onclick=\"convertToInteractive('df-9c16acdf-e8dc-4447-9513-81d121c883aa')\"\n",
              "              title=\"Convert this dataframe to an interactive table.\"\n",
              "              style=\"display:none;\">\n",
              "        \n",
              "  <svg xmlns=\"http://www.w3.org/2000/svg\" height=\"24px\"viewBox=\"0 0 24 24\"\n",
              "       width=\"24px\">\n",
              "    <path d=\"M0 0h24v24H0V0z\" fill=\"none\"/>\n",
              "    <path d=\"M18.56 5.44l.94 2.06.94-2.06 2.06-.94-2.06-.94-.94-2.06-.94 2.06-2.06.94zm-11 1L8.5 8.5l.94-2.06 2.06-.94-2.06-.94L8.5 2.5l-.94 2.06-2.06.94zm10 10l.94 2.06.94-2.06 2.06-.94-2.06-.94-.94-2.06-.94 2.06-2.06.94z\"/><path d=\"M17.41 7.96l-1.37-1.37c-.4-.4-.92-.59-1.43-.59-.52 0-1.04.2-1.43.59L10.3 9.45l-7.72 7.72c-.78.78-.78 2.05 0 2.83L4 21.41c.39.39.9.59 1.41.59.51 0 1.02-.2 1.41-.59l7.78-7.78 2.81-2.81c.8-.78.8-2.07 0-2.86zM5.41 20L4 18.59l7.72-7.72 1.47 1.35L5.41 20z\"/>\n",
              "  </svg>\n",
              "      </button>\n",
              "      \n",
              "  <style>\n",
              "    .colab-df-container {\n",
              "      display:flex;\n",
              "      flex-wrap:wrap;\n",
              "      gap: 12px;\n",
              "    }\n",
              "\n",
              "    .colab-df-convert {\n",
              "      background-color: #E8F0FE;\n",
              "      border: none;\n",
              "      border-radius: 50%;\n",
              "      cursor: pointer;\n",
              "      display: none;\n",
              "      fill: #1967D2;\n",
              "      height: 32px;\n",
              "      padding: 0 0 0 0;\n",
              "      width: 32px;\n",
              "    }\n",
              "\n",
              "    .colab-df-convert:hover {\n",
              "      background-color: #E2EBFA;\n",
              "      box-shadow: 0px 1px 2px rgba(60, 64, 67, 0.3), 0px 1px 3px 1px rgba(60, 64, 67, 0.15);\n",
              "      fill: #174EA6;\n",
              "    }\n",
              "\n",
              "    [theme=dark] .colab-df-convert {\n",
              "      background-color: #3B4455;\n",
              "      fill: #D2E3FC;\n",
              "    }\n",
              "\n",
              "    [theme=dark] .colab-df-convert:hover {\n",
              "      background-color: #434B5C;\n",
              "      box-shadow: 0px 1px 3px 1px rgba(0, 0, 0, 0.15);\n",
              "      filter: drop-shadow(0px 1px 2px rgba(0, 0, 0, 0.3));\n",
              "      fill: #FFFFFF;\n",
              "    }\n",
              "  </style>\n",
              "\n",
              "      <script>\n",
              "        const buttonEl =\n",
              "          document.querySelector('#df-9c16acdf-e8dc-4447-9513-81d121c883aa button.colab-df-convert');\n",
              "        buttonEl.style.display =\n",
              "          google.colab.kernel.accessAllowed ? 'block' : 'none';\n",
              "\n",
              "        async function convertToInteractive(key) {\n",
              "          const element = document.querySelector('#df-9c16acdf-e8dc-4447-9513-81d121c883aa');\n",
              "          const dataTable =\n",
              "            await google.colab.kernel.invokeFunction('convertToInteractive',\n",
              "                                                     [key], {});\n",
              "          if (!dataTable) return;\n",
              "\n",
              "          const docLinkHtml = 'Like what you see? Visit the ' +\n",
              "            '<a target=\"_blank\" href=https://colab.research.google.com/notebooks/data_table.ipynb>data table notebook</a>'\n",
              "            + ' to learn more about interactive tables.';\n",
              "          element.innerHTML = '';\n",
              "          dataTable['output_type'] = 'display_data';\n",
              "          await google.colab.output.renderOutput(dataTable, element);\n",
              "          const docLink = document.createElement('div');\n",
              "          docLink.innerHTML = docLinkHtml;\n",
              "          element.appendChild(docLink);\n",
              "        }\n",
              "      </script>\n",
              "    </div>\n",
              "  </div>\n",
              "  "
            ]
          },
          "metadata": {},
          "execution_count": 43
        }
      ],
      "source": [
        "pred_mre = pd.DataFrame({'Actual Values of Effort':y_test,'Predicted Effort':y_test_pred_dt,'MRE':(y_test-y_test_pred_dt)/y_test})\n",
        "#rel=(xyy/5)\n",
        "#print(sum(rel)/5)\n",
        "pred_mre[0:21]"
      ]
    },
    {
      "cell_type": "markdown",
      "metadata": {
        "id": "0vCgKq63i8Eg"
      },
      "source": []
    },
    {
      "cell_type": "code",
      "execution_count": 44,
      "metadata": {
        "colab": {
          "base_uri": "https://localhost:8080/",
          "height": 206
        },
        "id": "XpqelMtISdhw",
        "outputId": "d794bf70-e7b0-437c-a35b-d7f17f6c5282"
      },
      "outputs": [
        {
          "output_type": "execute_result",
          "data": {
            "text/plain": [
              "    Actual Values of Effort  Predicted Effort  Difference\n",
              "8                    500000          600000.0   -100000.0\n",
              "13                   400000          350000.0     50000.0\n",
              "20                   550000          600000.0    -50000.0\n",
              "1                   1600000         1800000.0   -200000.0\n",
              "11                   650000          800000.0   -150000.0"
            ],
            "text/html": [
              "\n",
              "  <div id=\"df-bce4a33c-9ffb-4643-9841-cf8a00b9cd9c\">\n",
              "    <div class=\"colab-df-container\">\n",
              "      <div>\n",
              "<style scoped>\n",
              "    .dataframe tbody tr th:only-of-type {\n",
              "        vertical-align: middle;\n",
              "    }\n",
              "\n",
              "    .dataframe tbody tr th {\n",
              "        vertical-align: top;\n",
              "    }\n",
              "\n",
              "    .dataframe thead th {\n",
              "        text-align: right;\n",
              "    }\n",
              "</style>\n",
              "<table border=\"1\" class=\"dataframe\">\n",
              "  <thead>\n",
              "    <tr style=\"text-align: right;\">\n",
              "      <th></th>\n",
              "      <th>Actual Values of Effort</th>\n",
              "      <th>Predicted Effort</th>\n",
              "      <th>Difference</th>\n",
              "    </tr>\n",
              "  </thead>\n",
              "  <tbody>\n",
              "    <tr>\n",
              "      <th>8</th>\n",
              "      <td>500000</td>\n",
              "      <td>600000.0</td>\n",
              "      <td>-100000.0</td>\n",
              "    </tr>\n",
              "    <tr>\n",
              "      <th>13</th>\n",
              "      <td>400000</td>\n",
              "      <td>350000.0</td>\n",
              "      <td>50000.0</td>\n",
              "    </tr>\n",
              "    <tr>\n",
              "      <th>20</th>\n",
              "      <td>550000</td>\n",
              "      <td>600000.0</td>\n",
              "      <td>-50000.0</td>\n",
              "    </tr>\n",
              "    <tr>\n",
              "      <th>1</th>\n",
              "      <td>1600000</td>\n",
              "      <td>1800000.0</td>\n",
              "      <td>-200000.0</td>\n",
              "    </tr>\n",
              "    <tr>\n",
              "      <th>11</th>\n",
              "      <td>650000</td>\n",
              "      <td>800000.0</td>\n",
              "      <td>-150000.0</td>\n",
              "    </tr>\n",
              "  </tbody>\n",
              "</table>\n",
              "</div>\n",
              "      <button class=\"colab-df-convert\" onclick=\"convertToInteractive('df-bce4a33c-9ffb-4643-9841-cf8a00b9cd9c')\"\n",
              "              title=\"Convert this dataframe to an interactive table.\"\n",
              "              style=\"display:none;\">\n",
              "        \n",
              "  <svg xmlns=\"http://www.w3.org/2000/svg\" height=\"24px\"viewBox=\"0 0 24 24\"\n",
              "       width=\"24px\">\n",
              "    <path d=\"M0 0h24v24H0V0z\" fill=\"none\"/>\n",
              "    <path d=\"M18.56 5.44l.94 2.06.94-2.06 2.06-.94-2.06-.94-.94-2.06-.94 2.06-2.06.94zm-11 1L8.5 8.5l.94-2.06 2.06-.94-2.06-.94L8.5 2.5l-.94 2.06-2.06.94zm10 10l.94 2.06.94-2.06 2.06-.94-2.06-.94-.94-2.06-.94 2.06-2.06.94z\"/><path d=\"M17.41 7.96l-1.37-1.37c-.4-.4-.92-.59-1.43-.59-.52 0-1.04.2-1.43.59L10.3 9.45l-7.72 7.72c-.78.78-.78 2.05 0 2.83L4 21.41c.39.39.9.59 1.41.59.51 0 1.02-.2 1.41-.59l7.78-7.78 2.81-2.81c.8-.78.8-2.07 0-2.86zM5.41 20L4 18.59l7.72-7.72 1.47 1.35L5.41 20z\"/>\n",
              "  </svg>\n",
              "      </button>\n",
              "      \n",
              "  <style>\n",
              "    .colab-df-container {\n",
              "      display:flex;\n",
              "      flex-wrap:wrap;\n",
              "      gap: 12px;\n",
              "    }\n",
              "\n",
              "    .colab-df-convert {\n",
              "      background-color: #E8F0FE;\n",
              "      border: none;\n",
              "      border-radius: 50%;\n",
              "      cursor: pointer;\n",
              "      display: none;\n",
              "      fill: #1967D2;\n",
              "      height: 32px;\n",
              "      padding: 0 0 0 0;\n",
              "      width: 32px;\n",
              "    }\n",
              "\n",
              "    .colab-df-convert:hover {\n",
              "      background-color: #E2EBFA;\n",
              "      box-shadow: 0px 1px 2px rgba(60, 64, 67, 0.3), 0px 1px 3px 1px rgba(60, 64, 67, 0.15);\n",
              "      fill: #174EA6;\n",
              "    }\n",
              "\n",
              "    [theme=dark] .colab-df-convert {\n",
              "      background-color: #3B4455;\n",
              "      fill: #D2E3FC;\n",
              "    }\n",
              "\n",
              "    [theme=dark] .colab-df-convert:hover {\n",
              "      background-color: #434B5C;\n",
              "      box-shadow: 0px 1px 3px 1px rgba(0, 0, 0, 0.15);\n",
              "      filter: drop-shadow(0px 1px 2px rgba(0, 0, 0, 0.3));\n",
              "      fill: #FFFFFF;\n",
              "    }\n",
              "  </style>\n",
              "\n",
              "      <script>\n",
              "        const buttonEl =\n",
              "          document.querySelector('#df-bce4a33c-9ffb-4643-9841-cf8a00b9cd9c button.colab-df-convert');\n",
              "        buttonEl.style.display =\n",
              "          google.colab.kernel.accessAllowed ? 'block' : 'none';\n",
              "\n",
              "        async function convertToInteractive(key) {\n",
              "          const element = document.querySelector('#df-bce4a33c-9ffb-4643-9841-cf8a00b9cd9c');\n",
              "          const dataTable =\n",
              "            await google.colab.kernel.invokeFunction('convertToInteractive',\n",
              "                                                     [key], {});\n",
              "          if (!dataTable) return;\n",
              "\n",
              "          const docLinkHtml = 'Like what you see? Visit the ' +\n",
              "            '<a target=\"_blank\" href=https://colab.research.google.com/notebooks/data_table.ipynb>data table notebook</a>'\n",
              "            + ' to learn more about interactive tables.';\n",
              "          element.innerHTML = '';\n",
              "          dataTable['output_type'] = 'display_data';\n",
              "          await google.colab.output.renderOutput(dataTable, element);\n",
              "          const docLink = document.createElement('div');\n",
              "          docLink.innerHTML = docLinkHtml;\n",
              "          element.appendChild(docLink);\n",
              "        }\n",
              "      </script>\n",
              "    </div>\n",
              "  </div>\n",
              "  "
            ]
          },
          "metadata": {},
          "execution_count": 44
        }
      ],
      "source": [
        "import pandas as pd\n",
        "pred_y_diff = pd.DataFrame({'Actual Values of Effort':y_test,'Predicted Effort':y_test_pred_dt,'Difference':y_test-y_test_pred_dt})\n",
        "\n",
        "pred_y_diff[0:21]"
      ]
    },
    {
      "cell_type": "code",
      "execution_count": 45,
      "metadata": {
        "id": "fJeqxV19fax7"
      },
      "outputs": [],
      "source": [
        "#@title Random Forest Regresssor Implementation\n",
        "from sklearn.model_selection  import train_test_split\n",
        "X_train,X_test,y_train,y_test = train_test_split(Cat_1,Cat_2, test_size=0.20 ,random_state=0)"
      ]
    },
    {
      "cell_type": "code",
      "execution_count": 46,
      "metadata": {
        "id": "70cl5VRGkF0m"
      },
      "outputs": [],
      "source": [
        "from sklearn.ensemble import RandomForestRegressor\n",
        "model2= RandomForestRegressor(n_estimators=30, random_state=30)"
      ]
    },
    {
      "cell_type": "code",
      "execution_count": 47,
      "metadata": {
        "id": "1IkSjieqkrfY"
      },
      "outputs": [],
      "source": [
        "#Fitting the  model \n",
        "LL_rf = model2.fit(X_train,y_train)\n"
      ]
    },
    {
      "cell_type": "code",
      "execution_count": 48,
      "metadata": {
        "id": "cWg9LDnG7yrX"
      },
      "outputs": [],
      "source": [
        "#prediction on testing the data\n",
        "y_test_pred_rf = model2.predict(X_test)"
      ]
    },
    {
      "cell_type": "code",
      "execution_count": 49,
      "metadata": {
        "colab": {
          "base_uri": "https://localhost:8080/"
        },
        "id": "CvcUXMCmlQXO",
        "outputId": "456c6e49-565a-4440-a3a4-3c49e538a340"
      },
      "outputs": [
        {
          "output_type": "stream",
          "name": "stdout",
          "text": [
            "The Model Score on the predictrd training Set: 0.97\n",
            "r2 Score  0.9819110646696854\n"
          ]
        }
      ],
      "source": [
        "#Training Model Evaluation\n",
        "\n",
        "\n",
        "print('The Model Score on the predictrd training Set: %.2f'% LL_rf.score(X_train,y_train))\n",
        "print('r2 Score ', r2_score(y_test,y_test_pred_rf))"
      ]
    },
    {
      "cell_type": "code",
      "execution_count": 50,
      "metadata": {
        "id": "o_-j_NeZmZIV"
      },
      "outputs": [],
      "source": [
        "# print(\"Mean Squared Error::\",mean_squared_error(y_test,y_test_pred_rf))\n",
        "# print(\"Mean Absolute Error::\",mean_absolute_error(y_test,y_test_pred_rf))\n",
        "# xv= math.sqrt(mean_squared_error(y_test,y_test_pred_rf))\n",
        "# print(\"Root Mean Squared Error::\",xv)"
      ]
    },
    {
      "cell_type": "code",
      "execution_count": 51,
      "metadata": {
        "colab": {
          "base_uri": "https://localhost:8080/",
          "height": 662
        },
        "id": "rfPaPzj4mMYN",
        "outputId": "e340aab9-e215-45cc-e90b-3680e15efc90"
      },
      "outputs": [
        {
          "output_type": "execute_result",
          "data": {
            "text/plain": [
              "<matplotlib.legend.Legend at 0x7fd6d0b7dd90>"
            ]
          },
          "metadata": {},
          "execution_count": 51
        },
        {
          "output_type": "display_data",
          "data": {
            "text/plain": [
              "<Figure size 1000x600 with 1 Axes>"
            ],
            "image/png": "[encoded data removed]"
          },
          "metadata": {}
        }
      ],
      "source": [
        "# plotting the observed and predicted values \n",
        "\n",
        "\n",
        "# Setting the boundaries and parameters\n",
        "\n",
        "plt.rcParams['figure.figsize'] = (10,6)\n",
        "x_ax =range(len(X_test))\n",
        "\n",
        "#plotting \n",
        "plt.plot(x_ax, y_test , label='Actual Observed Value', color='yellow',linestyle='-')\n",
        "plt.plot(x_ax,y_test_pred_rf , label='Predicted values ' , color='red' , linestyle ='--')\n",
        "plt.grid()\n",
        "plt.xlabel('Agile Projects')\n",
        "plt.ylabel('Cost Parameter')\n",
        "plt.title('Cost Prediction with Random Forest')\n",
        "plt.legend(bbox_to_anchor =(0.5,-0.2), loc= 'upper center',ncol=2, frameon = True)"
      ]
    },
    {
      "cell_type": "code",
      "execution_count": 52,
      "metadata": {
        "colab": {
          "base_uri": "https://localhost:8080/",
          "height": 206
        },
        "id": "sNu3gUwClavx",
        "outputId": "c3c23508-cd23-4d97-c8a0-7f027e94d0a7"
      },
      "outputs": [
        {
          "output_type": "execute_result",
          "data": {
            "text/plain": [
              "    Actual Values of Cost  Predicted Cost       MRE\n",
              "8                  500000    5.616667e+05 -0.123333\n",
              "13                 400000    4.550000e+05 -0.137500\n",
              "20                 550000    5.783333e+05 -0.051515\n",
              "1                 1600000    1.503333e+06  0.060417\n",
              "11                 650000    6.683333e+05 -0.028205"
            ],
            "text/html": [
              "\n",
              "  <div id=\"df-62b70bef-ddcf-4c72-974e-6fa3a7d88fe8\">\n",
              "    <div class=\"colab-df-container\">\n",
              "      <div>\n",
              "<style scoped>\n",
              "    .dataframe tbody tr th:only-of-type {\n",
              "        vertical-align: middle;\n",
              "    }\n",
              "\n",
              "    .dataframe tbody tr th {\n",
              "        vertical-align: top;\n",
              "    }\n",
              "\n",
              "    .dataframe thead th {\n",
              "        text-align: right;\n",
              "    }\n",
              "</style>\n",
              "<table border=\"1\" class=\"dataframe\">\n",
              "  <thead>\n",
              "    <tr style=\"text-align: right;\">\n",
              "      <th></th>\n",
              "      <th>Actual Values of Cost</th>\n",
              "      <th>Predicted Cost</th>\n",
              "      <th>MRE</th>\n",
              "    </tr>\n",
              "  </thead>\n",
              "  <tbody>\n",
              "    <tr>\n",
              "      <th>8</th>\n",
              "      <td>500000</td>\n",
              "      <td>5.616667e+05</td>\n",
              "      <td>-0.123333</td>\n",
              "    </tr>\n",
              "    <tr>\n",
              "      <th>13</th>\n",
              "      <td>400000</td>\n",
              "      <td>4.550000e+05</td>\n",
              "      <td>-0.137500</td>\n",
              "    </tr>\n",
              "    <tr>\n",
              "      <th>20</th>\n",
              "      <td>550000</td>\n",
              "      <td>5.783333e+05</td>\n",
              "      <td>-0.051515</td>\n",
              "    </tr>\n",
              "    <tr>\n",
              "      <th>1</th>\n",
              "      <td>1600000</td>\n",
              "      <td>1.503333e+06</td>\n",
              "      <td>0.060417</td>\n",
              "    </tr>\n",
              "    <tr>\n",
              "      <th>11</th>\n",
              "      <td>650000</td>\n",
              "      <td>6.683333e+05</td>\n",
              "      <td>-0.028205</td>\n",
              "    </tr>\n",
              "  </tbody>\n",
              "</table>\n",
              "</div>\n",
              "      <button class=\"colab-df-convert\" onclick=\"convertToInteractive('df-62b70bef-ddcf-4c72-974e-6fa3a7d88fe8')\"\n",
              "              title=\"Convert this dataframe to an interactive table.\"\n",
              "              style=\"display:none;\">\n",
              "        \n",
              "  <svg xmlns=\"http://www.w3.org/2000/svg\" height=\"24px\"viewBox=\"0 0 24 24\"\n",
              "       width=\"24px\">\n",
              "    <path d=\"M0 0h24v24H0V0z\" fill=\"none\"/>\n",
              "    <path d=\"M18.56 5.44l.94 2.06.94-2.06 2.06-.94-2.06-.94-.94-2.06-.94 2.06-2.06.94zm-11 1L8.5 8.5l.94-2.06 2.06-.94-2.06-.94L8.5 2.5l-.94 2.06-2.06.94zm10 10l.94 2.06.94-2.06 2.06-.94-2.06-.94-.94-2.06-.94 2.06-2.06.94z\"/><path d=\"M17.41 7.96l-1.37-1.37c-.4-.4-.92-.59-1.43-.59-.52 0-1.04.2-1.43.59L10.3 9.45l-7.72 7.72c-.78.78-.78 2.05 0 2.83L4 21.41c.39.39.9.59 1.41.59.51 0 1.02-.2 1.41-.59l7.78-7.78 2.81-2.81c.8-.78.8-2.07 0-2.86zM5.41 20L4 18.59l7.72-7.72 1.47 1.35L5.41 20z\"/>\n",
              "  </svg>\n",
              "      </button>\n",
              "      \n",
              "  <style>\n",
              "    .colab-df-container {\n",
              "      display:flex;\n",
              "      flex-wrap:wrap;\n",
              "      gap: 12px;\n",
              "    }\n",
              "\n",
              "    .colab-df-convert {\n",
              "      background-color: #E8F0FE;\n",
              "      border: none;\n",
              "      border-radius: 50%;\n",
              "      cursor: pointer;\n",
              "      display: none;\n",
              "      fill: #1967D2;\n",
              "      height: 32px;\n",
              "      padding: 0 0 0 0;\n",
              "      width: 32px;\n",
              "    }\n",
              "\n",
              "    .colab-df-convert:hover {\n",
              "      background-color: #E2EBFA;\n",
              "      box-shadow: 0px 1px 2px rgba(60, 64, 67, 0.3), 0px 1px 3px 1px rgba(60, 64, 67, 0.15);\n",
              "      fill: #174EA6;\n",
              "    }\n",
              "\n",
              "    [theme=dark] .colab-df-convert {\n",
              "      background-color: #3B4455;\n",
              "      fill: #D2E3FC;\n",
              "    }\n",
              "\n",
              "    [theme=dark] .colab-df-convert:hover {\n",
              "      background-color: #434B5C;\n",
              "      box-shadow: 0px 1px 3px 1px rgba(0, 0, 0, 0.15);\n",
              "      filter: drop-shadow(0px 1px 2px rgba(0, 0, 0, 0.3));\n",
              "      fill: #FFFFFF;\n",
              "    }\n",
              "  </style>\n",
              "\n",
              "      <script>\n",
              "        const buttonEl =\n",
              "          document.querySelector('#df-62b70bef-ddcf-4c72-974e-6fa3a7d88fe8 button.colab-df-convert');\n",
              "        buttonEl.style.display =\n",
              "          google.colab.kernel.accessAllowed ? 'block' : 'none';\n",
              "\n",
              "        async function convertToInteractive(key) {\n",
              "          const element = document.querySelector('#df-62b70bef-ddcf-4c72-974e-6fa3a7d88fe8');\n",
              "          const dataTable =\n",
              "            await google.colab.kernel.invokeFunction('convertToInteractive',\n",
              "                                                     [key], {});\n",
              "          if (!dataTable) return;\n",
              "\n",
              "          const docLinkHtml = 'Like what you see? Visit the ' +\n",
              "            '<a target=\"_blank\" href=https://colab.research.google.com/notebooks/data_table.ipynb>data table notebook</a>'\n",
              "            + ' to learn more about interactive tables.';\n",
              "          element.innerHTML = '';\n",
              "          dataTable['output_type'] = 'display_data';\n",
              "          await google.colab.output.renderOutput(dataTable, element);\n",
              "          const docLink = document.createElement('div');\n",
              "          docLink.innerHTML = docLinkHtml;\n",
              "          element.appendChild(docLink);\n",
              "        }\n",
              "      </script>\n",
              "    </div>\n",
              "  </div>\n",
              "  "
            ]
          },
          "metadata": {},
          "execution_count": 52
        }
      ],
      "source": [
        "pred_mre = pd.DataFrame({'Actual Values of Cost':y_test,'Predicted Cost':y_test_pred_rf,'MRE':(y_test-y_test_pred_rf)/y_test})\n",
        "#rel=(xyy/5)\n",
        "#print(sum(rel)/5)\n",
        "pred_mre[0:21]"
      ]
    },
    {
      "cell_type": "markdown",
      "metadata": {
        "id": "eS3No_HTChNs"
      },
      "source": [
        "Evaluation Parameters"
      ]
    },
    {
      "cell_type": "code",
      "execution_count": 53,
      "metadata": {
        "colab": {
          "base_uri": "https://localhost:8080/"
        },
        "id": "d3HFXFgtlcfF",
        "outputId": "6a7f9727-f75d-4319-a56b-d59069f277b9"
      },
      "outputs": [
        {
          "output_type": "stream",
          "name": "stdout",
          "text": [
            "The r Score on the predictrd trained Set: 0.98\n",
            "MMRE 0.08019405594405596\n",
            "MdMRE 0.060416666666666716\n",
            "PRED 25% 100.0\n"
          ]
        }
      ],
      "source": [
        "\n",
        "# The r_sq\n",
        "print('The r Score on the predictrd trained Set: %.2f'% r2_score(y_test,y_test_pred_rf))\n",
        "\n",
        "diff=np.absolute(y_test-y_test_pred_rf)\n",
        "MRE=diff/y_test\n",
        "MMRE=np.mean(MRE)\n",
        "MdMRE=np.median(MRE)\n",
        "P=MRE[MRE<.25]\n",
        "Pred=(P.size/MRE.size) * 100\n",
        "print(\"MMRE\",MMRE)\n",
        "print(\"MdMRE\",MdMRE)\n",
        "print(\"PRED 25%\",Pred)\n",
        "\n",
        "#"
      ]
    },
    {
      "cell_type": "markdown",
      "metadata": {
        "id": "glXd2erg2WB0"
      },
      "source": [
        "# Our rbf Kernel"
      ]
    },
    {
      "cell_type": "code",
      "execution_count": 54,
      "metadata": {
        "id": "NQQ_gzr9sNr6"
      },
      "outputs": [],
      "source": [
        "def RBF(X, gamma):\n",
        "    \n",
        "    # Free parameter gamma\n",
        "    if gamma == None:\n",
        "        gamma = 1.0/X.shape[1]\n",
        "        \n",
        "    # RBF kernel Equation\n",
        "    K = np.exp(-gamma * np.sum((X - X[:,np.newaxis])**2, axis = -1))\n",
        "    \n",
        "    return K"
      ]
    },
    {
      "cell_type": "code",
      "execution_count": 55,
      "metadata": {
        "colab": {
          "base_uri": "https://localhost:8080/"
        },
        "id": "BtVrYQ_wwzL7",
        "outputId": "23068f95-7d48-4f8f-a83a-e2caab389512"
      },
      "outputs": [
        {
          "output_type": "stream",
          "name": "stdout",
          "text": [
            "The r Score on the predictrd test Set: 0.93\n",
            "The r Score on the predictrd trained Set: 1.00\n",
            "MMRE 0.20708916083916082\n",
            "MdMRE 0.2\n",
            "PRED 25% 80.0\n"
          ]
        }
      ],
      "source": [
        "#@title ADA BOOST\n",
        "from sklearn.ensemble import AdaBoostRegressor\n",
        "\n",
        "\n",
        "# Categorical To continious \n",
        "X_train_ada,X_test_ada,y_train_ada,y_test_ada = train_test_split(Cat_1,Cat_2, test_size=0.20, random_state=0)\n",
        "\n",
        "\n",
        "ada = AdaBoostRegressor()\n",
        "ada.fit(X_train_ada,y_train_ada)\n",
        "\n",
        "#clf = svm.SVC()\n",
        "#clf.fit(Cat_1, Cat_2)\n",
        "y_train_pred_ada=ada.predict(X_train_ada)\n",
        "y_pred_ada=ada.predict(X_test_ada)\n",
        "\n",
        "\n",
        "\n",
        "# The r_sq\n",
        "print('The r Score on the predictrd test Set: %.2f'% r2_score(y_test_ada,y_pred_ada))\n",
        "print('The r Score on the predictrd trained Set: %.2f'% r2_score(y_train_ada,y_train_pred_ada))\n",
        "\n",
        "diff=np.absolute(y_test_ada-y_pred_ada)\n",
        "MRE=diff/y_test_ada\n",
        "MMRE=np.mean(MRE)\n",
        "MdMRE=np.median(MRE)\n",
        "P=MRE[MRE<.25]\n",
        "Pred=(P.size/MRE.size) * 100\n",
        "print(\"MMRE\",MMRE)\n",
        "print(\"MdMRE\",MdMRE)\n",
        "print(\"PRED 25%\",Pred)\n",
        "\n",
        "#\n"
      ]
    },
    {
      "cell_type": "code",
      "execution_count": 60,
      "metadata": {
        "colab": {
          "base_uri": "https://localhost:8080/",
          "height": 564
        },
        "id": "fAUR20Aa8UT_",
        "outputId": "ec7b05a0-da09-40d5-c7dd-e634a17b567f"
      },
      "outputs": [
        {
          "output_type": "display_data",
          "data": {
            "text/plain": [
              "<Figure size 1000x600 with 1 Axes>"
            ],
            "image/png": "[encoded data removed]"
          },
          "metadata": {}
        }
      ],
      "source": [
        "import matplotlib.pyplot as plt\n",
        "import seaborn as sns\n",
        "\n",
        "colors = sns.color_palette(\"colorblind\")\n",
        "# X_train_ada,X_test_ada,y_train_ada,y_test_ada\n",
        "plt.figure()\n",
        "plt.scatter(y_train_pred_ada,y_train_ada , label=\"training samples\")\n",
        "#plt.plot(X_test_ada,y_test_ada, color=colors[1], label=\"n_estimators=1\", linewidth=2)\n",
        "# plt.plot(X, y_2, color=colors[2], label=\"n_estimators=300\", linewidth=2)\n",
        "plt.xlabel(\"data\")\n",
        "plt.ylabel(\"target\")\n",
        "plt.title(\"ADA BOOST REGRESSOR - Cost\")\n",
        "plt.legend()\n",
        "plt.show()"
      ]
    },
    {
      "cell_type": "code",
      "execution_count": null,
      "metadata": {
        "id": "74lnbked_FaZ"
      },
      "outputs": [],
      "source": [
        "#prediction on testing the data\n",
        "#y_test_pred_svm = y_pred111.predict(y_test,y_test_pred_svm)"
      ]
    },
    {
      "cell_type": "code",
      "execution_count": null,
      "metadata": {
        "id": "r2jxfZrG9qhV"
      },
      "outputs": [],
      "source": [
        "import pandas as pd\n",
        "pred_y_diff = pd.DataFrame({'Actual Values of Effort':y_test,'Predicted Effort':y_pred_svm,'Difference':y_test-y_pred_svm})\n",
        "\n",
        "pred_y_diff[0:21]"
      ]
    },
    {
      "cell_type": "code",
      "execution_count": null,
      "metadata": {
        "id": "URwB6qyE8vCV"
      },
      "outputs": [],
      "source": [
        "# plotting the observed and predicted values \n",
        "\n",
        "\n",
        "# Setting the boundaries and parameters\n",
        "\n",
        "plt.rcParams['figure.figsize'] = (10,6)\n",
        "x_ax =range(len(X_test))\n",
        "\n",
        "#plotting \n",
        "plt.plot(x_ax, y_test , label='Actual Observed Value', color='yellow',linestyle='-')\n",
        "plt.plot(x_ax,y_pred_svm , label='Predicted values ' , color='red' , linestyle ='--')\n",
        "plt.grid()\n",
        "\n",
        "plt.legend(bbox_to_anchor =(0.5,-0.2), loc= 'upper center',ncol=2, frameon = True)\n",
        "plt.show()"
      ]
    },
    {
      "cell_type": "code",
      "execution_count": null,
      "metadata": {
        "id": "9J3ckdlWseCG"
      },
      "outputs": [],
      "source": [
        "#@title Ensemble Learning \n",
        "\n",
        "data_read.head()"
      ]
    },
    {
      "cell_type": "code",
      "execution_count": null,
      "metadata": {
        "id": "Oh5UUBnYhg42"
      },
      "outputs": [],
      "source": [
        "from sklearn.preprocessing import LabelEncoder\n",
        "\n",
        "# encoder = LabelEncoder()\n",
        "\n",
        "# data_read['Actual_Cost'] = encoder.fit_transform(data_read['Actual_Cost'])"
      ]
    },
    {
      "cell_type": "code",
      "execution_count": null,
      "metadata": {
        "id": "Fx56nrLSiLqt"
      },
      "outputs": [],
      "source": [
        "dff = data_read.sample(21)\n",
        "dff_train = dff.iloc[:14,:].sample(10)\n",
        "dff_val = dff.iloc[14:18,:].sample(4)\n",
        "dff_test = dff.iloc[17:,:].sample(3)"
      ]
    },
    {
      "cell_type": "code",
      "execution_count": null,
      "metadata": {
        "id": "zC2bIQUmjwH2"
      },
      "outputs": [],
      "source": [
        "dff_train"
      ]
    },
    {
      "cell_type": "code",
      "execution_count": null,
      "metadata": {
        "id": "_HoZwGwPj816"
      },
      "outputs": [],
      "source": [
        "X_test = dff_val.iloc[:,0:8].values\n",
        "y_test = dff_val.iloc[:-1].values\n",
        "\n",
        "# len(X_test)\n",
        "# len(y_test)\n"
      ]
    },
    {
      "cell_type": "code",
      "execution_count": null,
      "metadata": {
        "id": "oial23drkpAX"
      },
      "outputs": [],
      "source": [
        "#@title Bagging with 3 Decision Trees \n",
        "df_bag = dff_train.sample(7,replace=True) \n",
        "\n",
        "X= df_bag.iloc[:,0:8]\n",
        "Y= df_bag.iloc[:,-1]\n",
        "\n",
        "df_bag"
      ]
    },
    {
      "cell_type": "code",
      "execution_count": null,
      "metadata": {
        "id": "BcYTZC5-y_d7"
      },
      "outputs": [],
      "source": [
        "X"
      ]
    },
    {
      "cell_type": "code",
      "execution_count": null,
      "metadata": {
        "id": "x51TwHX5zFdw"
      },
      "outputs": [],
      "source": [
        "Y"
      ]
    },
    {
      "cell_type": "code",
      "execution_count": null,
      "metadata": {
        "id": "mjdDe75ml46b"
      },
      "outputs": [],
      "source": [
        "from sklearn.tree import DecisionTreeRegressor\n",
        "from sklearn.tree import DecisionTreeClassifier\n",
        "from sklearn.tree import plot_tree\n",
        "from mlxtend.plotting import plot_decision_regions\n",
        "from sklearn.metrics import accuracy_score "
      ]
    },
    {
      "cell_type": "code",
      "execution_count": null,
      "metadata": {
        "id": "n_06AXV_oawg"
      },
      "outputs": [],
      "source": [
        "def evaluate(clf,X,Y):\n",
        "  clf.fit(X,Y)\n",
        "  plot_tree(clf)\n",
        "  plt.show()\n",
        "  # plot_decision_regions(X.values,Y.values, clf=clf , legend=2)\n",
        "  y_pred=clf.predict(X_test)\n",
        "  y_pred\n",
        "  #print(accuracy_score(y_test,y_pred))"
      ]
    },
    {
      "cell_type": "code",
      "execution_count": null,
      "metadata": {
        "id": "BlxoP7gMmuxr"
      },
      "outputs": [],
      "source": [
        "#@title Default title text\n",
        "dt_bag1 = DecisionTreeRegressor()\n",
        "dt_bag11 = DecisionTreeClassifier()\n",
        "#"
      ]
    },
    {
      "cell_type": "markdown",
      "metadata": {
        "id": "vxwyFQWQnEcd"
      },
      "source": [
        "We're adding out Bag 1 to make a low bias and high variance model"
      ]
    },
    {
      "cell_type": "code",
      "execution_count": null,
      "metadata": {
        "id": "0xXx5b46m3CM"
      },
      "outputs": [],
      "source": [
        "# Decision tree Classifier \n",
        "\n",
        "evaluate(dt_bag11,X,Y)"
      ]
    },
    {
      "cell_type": "code",
      "execution_count": null,
      "metadata": {
        "id": "a1rdMS3F17dB"
      },
      "outputs": [],
      "source": [
        "#accuracy_score(y_pred,y_test)"
      ]
    },
    {
      "cell_type": "code",
      "execution_count": null,
      "metadata": {
        "id": "s_2ybwGqpj7_"
      },
      "outputs": [],
      "source": [
        "evaluate(dt_bag1,X,Y)"
      ]
    },
    {
      "cell_type": "code",
      "execution_count": null,
      "metadata": {
        "id": "cbSgefmQq9VA"
      },
      "outputs": [],
      "source": [
        "#@title Bagging with 3 Decision Trees \n",
        "df_bag = dff_train.sample(7,replace=True) \n",
        "\n",
        "X= df_bag.iloc[:,0:8]\n",
        "Y= df_bag.iloc[:,-1]\n",
        "\n",
        "df_bag"
      ]
    },
    {
      "cell_type": "code",
      "execution_count": null,
      "metadata": {
        "id": "VZG666BRrmhX"
      },
      "outputs": [],
      "source": [
        "X"
      ]
    },
    {
      "cell_type": "code",
      "execution_count": null,
      "metadata": {
        "id": "T9aTHmYbrsHL"
      },
      "outputs": [],
      "source": [
        "Y"
      ]
    },
    {
      "cell_type": "code",
      "execution_count": null,
      "metadata": {
        "id": "IJV28Clot9bt"
      },
      "outputs": [],
      "source": [
        "#@title Bagging with 3 Decision Trees 2nd Bag\n",
        "df_bag2 = dff_train.sample(7,replace=True) \n",
        "\n",
        "X= df_bag2.iloc[:,0:8]\n",
        "Y= df_bag2.iloc[:,-1]\n",
        "\n",
        "df_bag"
      ]
    },
    {
      "cell_type": "code",
      "execution_count": null,
      "metadata": {
        "id": "dyEyItLDtDcI"
      },
      "outputs": [],
      "source": [
        "dt_bag2 = DecisionTreeRegressor()\n",
        "evaluate(dt_bag2,X,Y)"
      ]
    },
    {
      "cell_type": "code",
      "execution_count": null,
      "metadata": {
        "id": "RvzAo2NWtY84"
      },
      "outputs": [],
      "source": [
        "dt_bag22 = DecisionTreeClassifier()\n",
        "evaluate(dt_bag22,X,Y)"
      ]
    },
    {
      "cell_type": "code",
      "execution_count": null,
      "metadata": {
        "id": "qj-OW-dTu2-V"
      },
      "outputs": [],
      "source": [
        "#@title Bagging with 3 Decision Trees 3rd Bag\n",
        "df_bag3 = dff_train.sample(7,replace=True) \n",
        "\n",
        "X= df_bag3.iloc[:,0:8]\n",
        "Y= df_bag3.iloc[:,-1]\n",
        "\n",
        "df_bag3"
      ]
    },
    {
      "cell_type": "code",
      "execution_count": null,
      "metadata": {
        "id": "vUDDZqeoxeU2"
      },
      "outputs": [],
      "source": [
        "dt_bag3 = DecisionTreeClassifier()\n",
        "evaluate(dt_bag3,X,Y)"
      ]
    },
    {
      "cell_type": "code",
      "execution_count": null,
      "metadata": {
        "id": "TE0yf9V-0AOP"
      },
      "outputs": [],
      "source": [
        "#@title Using Ensemble Technique 1st set of Algorithms\n",
        "\n",
        "# 1\n",
        "from sklearn.ensemble import BaggingRegressor\n",
        "\n"
      ]
    },
    {
      "cell_type": "code",
      "execution_count": null,
      "metadata": {
        "id": "QSlz9RJL63J7"
      },
      "outputs": [],
      "source": [
        "X_train,X_test,Y_train,Y_test = train_test_split(Cat_1,Cat_2,test_size=0.25,random_state=0)\n",
        "\n",
        "# now printing the overall sizes of our splitted result\n",
        "print(\"Train / Test Sets sizes: \", x_train.shape,x_test.shape,y_train.shape,y_test.shape )"
      ]
    },
    {
      "cell_type": "code",
      "execution_count": null,
      "metadata": {
        "id": "Uo3dRzut7SU5"
      },
      "outputs": [],
      "source": [
        "lr = LinearRegression()\n",
        "dt = DecisionTreeRegressor()\n",
        "knn = KNeighborsRegressor()"
      ]
    },
    {
      "cell_type": "code",
      "execution_count": null,
      "metadata": {
        "id": "Eh0jU5qiBGSg"
      },
      "outputs": [],
      "source": [
        "lr.fit(X_train,Y_train)\n",
        "dt.fit(X_train,Y_train)\n",
        "knn.fit(X_train,Y_train)"
      ]
    },
    {
      "cell_type": "code",
      "execution_count": null,
      "metadata": {
        "id": "I761XdcFBKG_"
      },
      "outputs": [],
      "source": [
        "y_pred1 = lr.predict(X_test)\n",
        "y_pred2 = dt.predict(X_test)\n",
        "y_pred3 = knn.predict(X_test)"
      ]
    },
    {
      "cell_type": "code",
      "execution_count": null,
      "metadata": {
        "id": "rgKpJQq_BOim"
      },
      "outputs": [],
      "source": [
        "print(\"R^2 score for LR\",r2_score(Y_test,y_pred1))\n",
        "print(\"R^2 score for DT\",r2_score(Y_test,y_pred2))\n",
        "print(\"R^2 score for KNN\",r2_score(Y_test,y_pred3))"
      ]
    },
    {
      "cell_type": "code",
      "execution_count": null,
      "metadata": {
        "id": "v3VIOwDGBTsh"
      },
      "outputs": [],
      "source": [
        "from sklearn.ensemble import BaggingRegressor\n",
        "\n",
        "bag_regressor = BaggingRegressor(random_state=1)\n",
        "bag_regressor.fit(X_train, Y_train)"
      ]
    },
    {
      "cell_type": "code",
      "execution_count": null,
      "metadata": {
        "id": "2jh69J_lBX1m"
      },
      "outputs": [],
      "source": [
        "Y_preds = bag_regressor.predict(X_test)\n",
        "\n",
        "print('Training Coefficient of R^2 : %.3f'%bag_regressor.score(X_train, Y_train))\n",
        "print('Test Coefficient of R^2 : %.3f'%bag_regressor.score(X_test, Y_test))"
      ]
    },
    {
      "cell_type": "code",
      "execution_count": null,
      "metadata": {
        "id": "-HQQAY5fzlr5"
      },
      "outputs": [],
      "source": [
        "from sklearn.linear_model import Lasso"
      ]
    },
    {
      "cell_type": "code",
      "execution_count": null,
      "metadata": {
        "id": "rA_Jg0jFBbnz"
      },
      "outputs": [],
      "source": [
        "%%time\n",
        "\n",
        "# n_samples = data_read.data.shape[0]\n",
        "# n_features = data_read.data.shape[1]\n",
        "\n",
        "params = {'base_estimator': [None, LinearRegression(), KNeighborsRegressor()],\n",
        "          'n_estimators': [10,15,21],\n",
        "          'max_samples': [0.5,0.95],\n",
        "          'max_features': [0.5,1.0],\n",
        "          'bootstrap': [True, False],\n",
        "          'bootstrap_features': [True, False]}\n",
        "\n",
        "bagging_regressor_grid = GridSearchCV(BaggingRegressor(random_state=1, n_jobs=-1), param_grid =params, cv=2, n_jobs=-1, verbose=1)\n",
        "bagging_regressor_grid.fit(X_train, Y_train)\n",
        "\n",
        "print('Train R^2 Score : %.3f'%bagging_regressor_grid.best_estimator_.score(X_train, Y_train))\n",
        "print('Test R^2 Score : %.3f'%bagging_regressor_grid.best_estimator_.score(X_test, Y_test))\n",
        "print('Best R^2 Score Through Grid Search : %.3f'%bagging_regressor_grid.best_score_)\n",
        "print('Best Parameters : ',bagging_regressor_grid.best_params_)\n",
        "\n",
        "\n",
        "     "
      ]
    },
    {
      "cell_type": "code",
      "execution_count": null,
      "metadata": {
        "id": "wUVWX3S3BXwl"
      },
      "outputs": [],
      "source": [
        "Y_test_pred_BAGGING= bagging_regressor_grid.predict(X_test)\n",
        "Y_train_pred_BAGGING= bagging_regressor_grid.predict(X_train)"
      ]
    },
    {
      "cell_type": "code",
      "execution_count": null,
      "metadata": {
        "id": "1Q354tg-Dmgg"
      },
      "outputs": [],
      "source": [
        "Y_test_pred_BAGGING"
      ]
    },
    {
      "cell_type": "code",
      "execution_count": null,
      "metadata": {
        "id": "2B3G5BEKDy6-"
      },
      "outputs": [],
      "source": [
        "Y_train_pred_BAGGING"
      ]
    },
    {
      "cell_type": "code",
      "execution_count": null,
      "metadata": {
        "id": "5OzmN8yWD3IV"
      },
      "outputs": [],
      "source": [
        "#@title Evaluation results  Ensemble Learning Bagging - With Our Hybrid Approach using GridSearchCV \n",
        "\n",
        "diff=np.absolute(Y_test-Y_test_pred_BAGGING)\n",
        "MRE=(diff/Y_test)/MRE.size\n",
        "MMRE=np.mean(MRE)\n",
        "MdMRE=np.median(MRE)\n",
        "P=MRE[MRE<.25]\n",
        "Pred=(P.size/MRE.size) * 100\n",
        "print(\"MMRE\",MMRE)\n",
        "print(\"MdMRE\",MdMRE)\n",
        "print(\"PRED 25%\",Pred)"
      ]
    },
    {
      "cell_type": "code",
      "execution_count": null,
      "metadata": {
        "id": "LMYm0ME8E5tf"
      },
      "outputs": [],
      "source": [
        "#@title Third Approach Using Ensemble Learning - Bagging with use of Bootstrapping \n",
        "\n",
        " \n"
      ]
    },
    {
      "cell_type": "code",
      "execution_count": null,
      "metadata": {
        "id": "5_1YtDh-Lkka"
      },
      "outputs": [],
      "source": [
        "#@title Using Ensemble Technique Second set of Algorithms\n",
        "from sklearn.ensemble import BaggingRegressor\n",
        "from sklearn.ensemble import AdaBoostRegressor\n",
        "from sklearn.preprocessing import KBinsDiscretizer"
      ]
    },
    {
      "cell_type": "code",
      "execution_count": null,
      "metadata": {
        "id": "ckzKqH0TLkkc"
      },
      "outputs": [],
      "source": [
        "X_train,X_test,Y_train,Y_test = train_test_split(Cat_1,Cat_2,test_size=0.30,random_state=0)\n",
        "\n",
        "# now printing the overall sizes of our splitted result\n",
        "print(\"Train / Test Sets sizes: \", x_train.shape,x_test.shape,y_train.shape,y_test.shape )"
      ]
    },
    {
      "cell_type": "code",
      "execution_count": null,
      "metadata": {
        "id": "a2cdbrxCLkkd"
      },
      "outputs": [],
      "source": [
        "rkf = RandomForestRegressor()\n",
        "dt = DecisionTreeRegressor()\n",
        "ada = AdaBoostRegressor()"
      ]
    },
    {
      "cell_type": "code",
      "execution_count": null,
      "metadata": {
        "id": "aMjTLDNfLkke"
      },
      "outputs": [],
      "source": [
        "from logging import addLevelName\n",
        "rkf.fit(X_train,Y_train)\n",
        "dt.fit(X_train,Y_train)\n",
        "ada.fit(X_train,Y_train)"
      ]
    },
    {
      "cell_type": "code",
      "execution_count": null,
      "metadata": {
        "id": "RYDmp13QLkkf"
      },
      "outputs": [],
      "source": [
        "y_pred1 = rkf.predict(X_test)\n",
        "y_pred2 = dt.predict(X_test)\n",
        "y_pred3 = ada.predict(X_test)"
      ]
    },
    {
      "cell_type": "code",
      "execution_count": null,
      "metadata": {
        "id": "lObeax9JLkkf"
      },
      "outputs": [],
      "source": [
        "print(\"R^2 score for RF\",r2_score(Y_test,y_pred1))\n",
        "print(\"R^2 score for DT\",r2_score(Y_test,y_pred2))\n",
        "print(\"R^2 score for ADA_B\",r2_score(Y_test,y_pred3))"
      ]
    },
    {
      "cell_type": "code",
      "execution_count": null,
      "metadata": {
        "id": "O5EyNEp0Lkkg"
      },
      "outputs": [],
      "source": [
        "from sklearn.ensemble import BaggingRegressor\n",
        "\n",
        "bag_regressor = BaggingRegressor(random_state=1)\n",
        "bag_regressor.fit(X_train, Y_train)"
      ]
    },
    {
      "cell_type": "code",
      "execution_count": null,
      "metadata": {
        "id": "0sTc1jrtLkkh"
      },
      "outputs": [],
      "source": [
        "Y_preds = bag_regressor.predict(X_test)\n",
        "\n",
        "print('Training Coefficient of R^2 : %.3f'%bag_regressor.score(X_train, Y_train))\n",
        "print('Test Coefficient of R^2 : %.3f'%bag_regressor.score(X_test, Y_test))"
      ]
    },
    {
      "cell_type": "code",
      "execution_count": null,
      "metadata": {
        "id": "XisQmroILkki"
      },
      "outputs": [],
      "source": [
        "%%time\n",
        "\n",
        "# n_samples = data_read.data.shape[0]\n",
        "# n_features = data_read.data.shape[1]\n",
        "\n",
        "params = {'base_estimator': [None, LinearRegression(), KNeighborsRegressor()],\n",
        "          'n_estimators': [10,14,21],\n",
        "          'max_samples': [0.5,1.0],\n",
        "          'max_features': [0.5,1.0],\n",
        "          'bootstrap': [True, False],\n",
        "          'bootstrap_features': [True, False]}\n",
        "\n",
        "bagging_regressor_grid = GridSearchCV(BaggingRegressor(random_state=1, n_jobs=-1), param_grid =params, cv=3, n_jobs=-1, verbose=1)\n",
        "bagging_regressor_grid.fit(X_train, Y_train)\n",
        "\n",
        "print('Train R^2 Score : %.3f'%bagging_regressor_grid.best_estimator_.score(X_train, Y_train))\n",
        "print('Test R^2 Score : %.3f'%bagging_regressor_grid.best_estimator_.score(X_test, Y_test))\n",
        "print('Best R^2 Score Through Grid Search : %.3f'%bagging_regressor_grid.best_score_)\n",
        "print('Best Parameters : ',bagging_regressor_grid.best_params_)\n",
        "\n",
        "\n",
        "     "
      ]
    },
    {
      "cell_type": "code",
      "execution_count": null,
      "metadata": {
        "id": "HfAN8i_jLkkj"
      },
      "outputs": [],
      "source": [
        "Y_test_pred_BAGGING= bagging_regressor_grid.predict(X_test)\n",
        "Y_train_pred_BAGGING= bagging_regressor_grid.predict(X_train)"
      ]
    },
    {
      "cell_type": "code",
      "execution_count": null,
      "metadata": {
        "id": "9nJEQ-vWLkkk"
      },
      "outputs": [],
      "source": [
        "Y_test_pred_BAGGING"
      ]
    },
    {
      "cell_type": "code",
      "execution_count": null,
      "metadata": {
        "id": "I7bBIO6JLkkl"
      },
      "outputs": [],
      "source": [
        "Y_train_pred_BAGGING"
      ]
    },
    {
      "cell_type": "code",
      "execution_count": null,
      "metadata": {
        "id": "AeaqnqwTLkkm"
      },
      "outputs": [],
      "source": [
        "#@title Evaluation results  Ensemble Learning Bagging - With Our Hybrid Approach using GridSearchCV \n",
        "\n",
        "diff=np.absolute(Y_test-Y_test_pred_BAGGING)\n",
        "MRE=diff/Y_test\n",
        "MMRE=np.mean(MRE)\n",
        "MdMRE=np.median(MRE)\n",
        "P=MRE[MRE<.25]\n",
        "Pred=(P.size/MRE.size) * 100\n",
        "print(\"MMRE\",MMRE)\n",
        "print(\"MdMRE\",MdMRE)\n",
        "print(\"PRED 25%\",Pred)"
      ]
    },
    {
      "cell_type": "code",
      "execution_count": null,
      "metadata": {
        "id": "NWbNPEcFTKoF"
      },
      "outputs": [],
      "source": [
        "#@title Our Farzi Title "
      ]
    },
    {
      "cell_type": "code",
      "execution_count": null,
      "metadata": {
        "id": "o6RrBZYmTLby"
      },
      "outputs": [],
      "source": [
        "%%time\n",
        "\n",
        "# n_samples = data_read.data.shape[0]\n",
        "# n_features = data_read.data.shape[1]\n",
        "\n",
        "params = {'base_estimator': [None, LinearRegression(), KNeighborsRegressor()],\n",
        "          'n_estimators': [10,15,21],\n",
        "          'max_samples': [0.5,1.0],\n",
        "          'max_features': [0.5,1.0],\n",
        "          'bootstrap': [True, False],\n",
        "          'bootstrap_features': [True, False]}\n",
        "\n",
        "bagging_regressor_grid = GridSearchCV(BaggingRegressor(random_state=1, n_jobs=-1), param_grid =params, cv=3, n_jobs=-1, verbose=1)\n",
        "bagging_regressor_grid.fit(X_train, Y_train)\n",
        "\n",
        "print('Train R^2 Score : %.3f'%bagging_regressor_grid.best_estimator_.score(X_train, Y_train))\n",
        "print('Test R^2 Score : %.3f'%bagging_regressor_grid.best_estimator_.score(X_test, Y_test))\n",
        "print('Best R^2 Score Through Grid Search : %.3f'%bagging_regressor_grid.best_score_)\n",
        "print('Best Parameters : ',bagging_regressor_grid.best_params_)\n",
        "\n",
        "\n",
        "     "
      ]
    },
    {
      "cell_type": "code",
      "execution_count": null,
      "metadata": {
        "id": "NVCEXAWqTjlq"
      },
      "outputs": [],
      "source": [
        "%%time\n",
        "\n",
        "# n_samples = data_read.data.shape[0]\n",
        "# n_features = data_read.data.shape[1]\n",
        "\n",
        "params = {'base_estimator': [None, LinearRegression(), KNeighborsRegressor()],\n",
        "          'n_estimators': [10,15,21],\n",
        "          'max_samples': [0.5,1.0],\n",
        "          'max_features': [0.5,1.0],\n",
        "          'bootstrap': [True, False],\n",
        "          'bootstrap_features': [True, False]}\n",
        "\n",
        "bagging_regressor_grid = GridSearchCV(BaggingRegressor(random_state=1, n_jobs=-1), param_grid =params, cv=3, n_jobs=-1, verbose=1)\n",
        "bagging_regressor_grid.fit(X_train, Y_train)\n",
        "\n",
        "print('Train R^2 Score : %.3f'%bagging_regressor_grid.best_estimator_.score(X_train, Y_train))\n",
        "print('Test R^2 Score : %.3f'%bagging_regressor_grid.best_estimator_.score(X_test, Y_test))\n",
        "print('Best R^2 Score Through Grid Search : %.3f'%bagging_regressor_grid.best_score_)\n",
        "print('Best Parameters : ',bagging_regressor_grid.best_params_)\n",
        "\n",
        "\n",
        "     "
      ]
    },
    {
      "cell_type": "code",
      "execution_count": null,
      "metadata": {
        "id": "oOVJdwC2Tjls"
      },
      "outputs": [],
      "source": [
        "Y_test_pred_BAGGING= bagging_regressor_grid.predict(X_test)\n",
        "Y_train_pred_BAGGING= bagging_regressor_grid.predict(X_train)"
      ]
    },
    {
      "cell_type": "code",
      "execution_count": null,
      "metadata": {
        "id": "AgRVut4ITjlt"
      },
      "outputs": [],
      "source": [
        "Y_test_pred_BAGGING"
      ]
    },
    {
      "cell_type": "code",
      "execution_count": null,
      "metadata": {
        "id": "s_dOrblVTjlt"
      },
      "outputs": [],
      "source": [
        "Y_train_pred_BAGGING"
      ]
    },
    {
      "cell_type": "code",
      "execution_count": null,
      "metadata": {
        "id": "w1JzSVlHTjlu"
      },
      "outputs": [],
      "source": [
        "#@title Evaluation results  Ensemble Learning Bagging - With Our Hybrid Approach using GridSearchCV \n",
        "\n",
        "diff=np.absolute(Y_test-Y_test_pred_BAGGING)\n",
        "MRE=diff/Y_test\n",
        "MMRE=np.mean(MRE)\n",
        "MdMRE=np.median(MRE)\n",
        "P=MRE[MRE<.25]\n",
        "Pred=(P.size/MRE.size) * 100\n",
        "print(\"MMRE\",MMRE)\n",
        "print(\"MdMRE\",MdMRE)\n",
        "print(\"PRED 25%\",Pred)"
      ]
    },
    {
      "cell_type": "code",
      "execution_count": null,
      "metadata": {
        "id": "K1-Qp6swTT_o"
      },
      "outputs": [],
      "source": [
        "%%time\n",
        "\n",
        "# n_samples = data_read.data.shape[0]\n",
        "# n_features = data_read.data.shape[1]\n",
        "\n",
        "params = {'base_estimator': [None,RandomForestRegressor(), DecisionTreeRegressor(), AdaBoostRegressor()],\n",
        "          'n_estimators': [10,15,21],\n",
        "          'max_samples': [0.5,1.0],\n",
        "          'max_features': [0.5,8],\n",
        "          'bootstrap': [True, False],\n",
        "          'bootstrap_features': [True, False]}\n",
        "\n",
        "bagging_regressor_grid = GridSearchCV(BaggingRegressor(random_state=1, n_jobs=-1), param_grid =params, cv=3, n_jobs=-1, verbose=1)\n",
        "bagging_regressor_grid.fit(X_train, Y_train)\n",
        "\n",
        "print('Train R^2 Score : %.3f'%bagging_regressor_grid.best_estimator_.score(X_train, Y_train))\n",
        "print('Test R^2 Score : %.3f'%bagging_regressor_grid.best_estimator_.score(X_test, Y_test))\n",
        "print('Best R^2 Score Through Grid Search : %.3f'%bagging_regressor_grid.best_score_)\n",
        "print('Best Parameters : ',bagging_regressor_grid.best_params_)\n",
        "\n",
        "\n",
        "     "
      ]
    },
    {
      "cell_type": "code",
      "execution_count": null,
      "metadata": {
        "id": "D6yDznMQTT_q"
      },
      "outputs": [],
      "source": [
        "Y_test_pred_BAGGING= bagging_regressor_grid.predict(X_test)\n",
        "Y_train_pred_BAGGING= bagging_regressor_grid.predict(X_train)"
      ]
    },
    {
      "cell_type": "code",
      "execution_count": null,
      "metadata": {
        "id": "QpHofsYATT_q"
      },
      "outputs": [],
      "source": [
        "Y_test_pred_BAGGING"
      ]
    },
    {
      "cell_type": "code",
      "execution_count": null,
      "metadata": {
        "id": "UIWKniLCTT_r"
      },
      "outputs": [],
      "source": [
        "Y_train_pred_BAGGING"
      ]
    },
    {
      "cell_type": "code",
      "execution_count": null,
      "metadata": {
        "id": "qDu59By0TT_r"
      },
      "outputs": [],
      "source": [
        "#@title Evaluation results  Ensemble Learning Bagging - With Our Hybrid Approach using GridSearchCV \n",
        "\n",
        "diff=np.absolute(Y_test-Y_test_pred_BAGGING)\n",
        "MRE=diff/Y_test\n",
        "MMRE=np.mean(MRE)\n",
        "MdMRE=np.median(MRE)\n",
        "P=MRE[MRE<.25]\n",
        "Pred=(P.size/MRE.size) * 100\n",
        "print(\"MMRE\",MMRE)\n",
        "print(\"MdMRE\",MdMRE)\n",
        "print(\"PRED 25%\",Pred)"
      ]
    },
    {
      "cell_type": "code",
      "execution_count": null,
      "metadata": {
        "id": "UWHyyiQGmQ4O"
      },
      "outputs": [],
      "source": [
        "#@title Decision tree\n",
        "# from sklearn import svm\n",
        "# from sklearn.tree import DecisionTreeRegressor\n",
        "\n",
        "# #from sklearn.model_selection import train_test_split\n",
        "# import pandas as pd\n",
        "# import numpy as np\n",
        "# import matplotlib.pyplot as plt\n",
        "\n",
        "\n",
        "# data_read = pd.read_csv('Zia_upd22.csv')\n",
        "\n",
        "# X = data_read.iloc[:,0:8].values\n",
        "# y = data_read.iloc[:,:-1].values\n",
        "# regressor = DecisionTreeRegressor(random_state =0)\n",
        "# regressor.fit(X, y)\n",
        "\n",
        "\n"
      ]
    },
    {
      "cell_type": "code",
      "execution_count": null,
      "metadata": {
        "id": "p7fAwTYQdI9Y"
      },
      "outputs": [],
      "source": []
    },
    {
      "cell_type": "code",
      "execution_count": null,
      "metadata": {
        "id": "KLqR7yFudqCR"
      },
      "outputs": [],
      "source": []
    },
    {
      "cell_type": "code",
      "execution_count": null,
      "metadata": {
        "id": "le8Yk9F05Wvl"
      },
      "outputs": [],
      "source": [
        "# # @title Let Us calculate Estimated Cost With Raw Data\n",
        "# x=regressor.predict([[154,4.2,0.77,2.7,12,22,310000,63]])\n",
        "# print(\"Estimated Cost:\",x[0]*100000)\n",
        "\n"
      ]
    },
    {
      "cell_type": "code",
      "execution_count": null,
      "metadata": {
        "id": "tlJBjlMgGs_l"
      },
      "outputs": [],
      "source": [
        "# #@title Decision Tree Regression \n",
        "# from sklearn.model_selection import train_test_split\n",
        "# from sklearn import svm\n",
        "# from sklearn.tree import DecisionTreeRegressor\n",
        "\n",
        "# #from sklearn.model_selection import train_test_split\n",
        "# import pandas as pd\n",
        "# import numpy as np\n",
        "# import matplotlib.pyplot as plt\n",
        "\n",
        "\n",
        "# #data_read = pd.read_csv('Zia_upd22.csv')\n",
        "\n",
        "# #X = data_read.iloc[:,1:8].values\n",
        "# #y = data_read.iloc[:,-1].values\n",
        "# #X_train,X_test,y_train,y_test = train_test_split(X,y, test_size=0.20 )\n",
        "\n"
      ]
    },
    {
      "cell_type": "code",
      "execution_count": null,
      "metadata": {
        "id": "t8lbAs_LbZSo"
      },
      "outputs": [],
      "source": [
        "# X.shape"
      ]
    },
    {
      "cell_type": "code",
      "execution_count": null,
      "metadata": {
        "id": "ElDZpJn4oAig"
      },
      "outputs": [],
      "source": [
        "# print(X_train.shape,X_test.shape,y_train.shape,y_test.shape)"
      ]
    },
    {
      "cell_type": "code",
      "execution_count": null,
      "metadata": {
        "id": "UZHkrzd_oeJy"
      },
      "outputs": [],
      "source": [
        "# regressor1 = DecisionTreeRegressor().fit(X_train,y_train)\n",
        "\n",
        "#coefficient of determination \n",
        "# print('Training R_sq is : %.2f'% regressor1.score(X_train,y_train))"
      ]
    },
    {
      "cell_type": "code",
      "execution_count": null,
      "metadata": {
        "id": "BK7ybo6DpyFy"
      },
      "outputs": [],
      "source": [
        "# For the training model EVALUATION\n",
        "# from  sklearn.metrics import mean_absolute_error , mean_squared_error, explained_variance_score , r2_score"
      ]
    },
    {
      "cell_type": "code",
      "execution_count": null,
      "metadata": {
        "id": "eW4d-VMmqy6n"
      },
      "outputs": [],
      "source": [
        "#Prediction on the training dataset\n",
        "y_train_pred= regressor1.predict(X_train)\n",
        "#y_train= regressor1.predict(X_train)"
      ]
    },
    {
      "cell_type": "code",
      "execution_count": null,
      "metadata": {
        "id": "1cnhe1TjrP27"
      },
      "outputs": [],
      "source": [
        "# The r_sq\n",
        "# print('The r_sq ,is :',r2_score(y_train,y_train_pred))"
      ]
    },
    {
      "cell_type": "code",
      "execution_count": null,
      "metadata": {
        "id": "4NLZvWxjsNPk"
      },
      "outputs": [],
      "source": [
        "# The MAE\n",
        "print('The MAE is :  ', mean_absolute_error(y_train,y_train_pred))"
      ]
    },
    {
      "cell_type": "code",
      "execution_count": null,
      "metadata": {
        "id": "rRUisXfnsjx0"
      },
      "outputs": [],
      "source": [
        "  # MSE \n",
        "  print('The MSE is :  ', mean_squared_error(y_train,y_train_pred))"
      ]
    },
    {
      "cell_type": "code",
      "execution_count": null,
      "metadata": {
        "id": "wlRPHdzotCoz"
      },
      "outputs": [],
      "source": [
        "# RMSE \n",
        "print('The RMSE is :', np.sqrt(mean_squared_error(y_train,y_train_pred)))"
      ]
    },
    {
      "cell_type": "code",
      "execution_count": null,
      "metadata": {
        "id": "Fa36TOlEtXx8"
      },
      "outputs": [],
      "source": [
        "#Prediction on the testing Data\n",
        "y_test_pred = regressor1.predict(X_test)\n",
        "y_test = regressor1.predict(X_test)"
      ]
    },
    {
      "cell_type": "code",
      "execution_count": null,
      "metadata": {
        "id": "qMwdu1FS_I8m"
      },
      "outputs": [],
      "source": []
    },
    {
      "cell_type": "markdown",
      "metadata": {
        "id": "_S2MXlnpxsdq"
      },
      "source": [
        "Now Calculating r_score "
      ]
    },
    {
      "cell_type": "code",
      "execution_count": null,
      "metadata": {
        "id": "oeu3Ewduxr7X"
      },
      "outputs": [],
      "source": [
        "# The r_sq\n",
        "print('The r_sq y_test , y_test_pred is: %.2f'% r2_score(y_test,y_test_pred))"
      ]
    },
    {
      "cell_type": "code",
      "execution_count": null,
      "metadata": {
        "id": "lI8AeiO9zrtA"
      },
      "outputs": [],
      "source": [
        "# # plotting the observed and predicted values \n",
        "\n",
        "\n",
        "# # Setting the boundaries and parameters\n",
        "\n",
        "# plt.rcParams['figure.figsize'] = (10,6)\n",
        "# x_ax =range(len(X_test))\n",
        "\n",
        "# #plotting \n",
        "# plt.plot(x_ax, y_test , label='Actual Observed Value', color='yellow',linestyle='-')\n",
        "# plt.plot(x_ax,y_test_pred , label='Predicted values ' , color='red' , linestyle ='--')\n",
        "# plt.grid()\n",
        "# plt.ylabel('dcscfvfdscd')\n",
        "# plt.xlabel('fffdcdcscfvfdscd')\n",
        "# plt.legend(bbox_to_anchor =(0.5,-0.2), loc= 'upper center',ncol=2, frameon = True)"
      ]
    },
    {
      "cell_type": "code",
      "execution_count": null,
      "metadata": {
        "id": "VbEcibp6JDVH"
      },
      "outputs": [],
      "source": [
        "from yellowbrick.regressor import PredictionError \n",
        "visualizer = PredictionError(regressor1)\n",
        "visualizer.fit(X_train, y_train)\n",
        "visualizer.fit(X_test,y_test)\n",
        "visualizer.score(X_test,y_test)\n",
        "visualizer.poof()"
      ]
    },
    {
      "cell_type": "markdown",
      "metadata": {
        "id": "eiLDU6jGQFxB"
      },
      "source": []
    },
    {
      "cell_type": "code",
      "execution_count": null,
      "metadata": {
        "id": "KseWX0L0zsTk"
      },
      "outputs": [],
      "source": [
        "# The MAE\n",
        "print('The MAE is :  ', mean_absolute_error(y_test,y_test_pred ))"
      ]
    },
    {
      "cell_type": "code",
      "execution_count": null,
      "metadata": {
        "id": "QbnJkEVEI5Ok"
      },
      "outputs": [],
      "source": [
        "#pip install yellowbrick"
      ]
    },
    {
      "cell_type": "code",
      "execution_count": null,
      "metadata": {
        "id": "B_BeharmKH2f"
      },
      "outputs": [],
      "source": [
        "# Residuals plot \n",
        "from yellowbrick.regressor import ResidualsPlot\n",
        "visualizer = ResidualsPlot(regressor1)\n",
        "visualizer.fit(X_train,y_train)\n",
        "visualizer.score(X_test,y_test)\n",
        "visualizer.poof()"
      ]
    },
    {
      "cell_type": "code",
      "execution_count": null,
      "metadata": {
        "id": "wK1NQhJ4LD23"
      },
      "outputs": [],
      "source": [
        "# testing the Model Evaluation\n",
        "\n"
      ]
    },
    {
      "cell_type": "code",
      "execution_count": null,
      "metadata": {
        "id": "tUFEVxKNLuBN"
      },
      "outputs": [],
      "source": [
        "# MAE \n",
        "print('The MAE is :%.2f'% mean_absolute_error(y_test,y_test_pred))"
      ]
    },
    {
      "cell_type": "code",
      "execution_count": null,
      "metadata": {
        "id": "voJqYfSYMSoB"
      },
      "outputs": [],
      "source": [
        "# The MSE \n",
        "print('The MSE is : %.2f'% mean_squared_error(y_test,y_test_pred))"
      ]
    },
    {
      "cell_type": "code",
      "execution_count": null,
      "metadata": {
        "id": "89T3EjETMwDO"
      },
      "outputs": [],
      "source": [
        "print('The RMSE is : %.2f'% np.sqrt(mean_squared_error(y_test,y_test_pred)))"
      ]
    },
    {
      "cell_type": "code",
      "execution_count": null,
      "metadata": {
        "id": "b0rWyVHUN6GF"
      },
      "outputs": [],
      "source": [
        "# k-fold cross-validation\n",
        "from sklearn.model_selection import cross_val_score"
      ]
    },
    {
      "cell_type": "code",
      "execution_count": null,
      "metadata": {
        "id": "3NJLR-nwOLSu"
      },
      "outputs": [],
      "source": [
        "#On the training Dataset\n",
        "from sklearn.model_selection import cross_val_score\n",
        "score_train = cross_val_score(regressor1,X_train,y_train,scoring = 'neg_mean_squared_error' , cv= 10)"
      ]
    },
    {
      "cell_type": "code",
      "execution_count": null,
      "metadata": {
        "id": "12nkAoQpPivF"
      },
      "outputs": [],
      "source": [
        "score_train"
      ]
    },
    {
      "cell_type": "code",
      "execution_count": null,
      "metadata": {
        "id": "rsAZEcGjP7Ju"
      },
      "outputs": [],
      "source": [
        "score_train = np.mean(score_train)\n",
        "print(score_train)"
      ]
    },
    {
      "cell_type": "code",
      "execution_count": null,
      "metadata": {
        "id": "5xRMubWuRE7T"
      },
      "outputs": [],
      "source": [
        "# To make make it Positivme \n",
        "from numpy import absolute\n",
        "score_train = absolute(score_train)\n",
        "score_train"
      ]
    },
    {
      "cell_type": "code",
      "execution_count": null,
      "metadata": {
        "id": "AUQpfnkyRdOT"
      },
      "outputs": [],
      "source": [
        "# CV on thee testing data \n",
        "score_test = cross_val_score(regressor1, X_test, y_test, scoring ='neg_mean_squared_error' , cv= 5)"
      ]
    },
    {
      "cell_type": "code",
      "execution_count": null,
      "metadata": {
        "id": "8tKJC670SeNo"
      },
      "outputs": [],
      "source": [
        "print(score_test)"
      ]
    },
    {
      "cell_type": "code",
      "execution_count": null,
      "metadata": {
        "id": "w_TkkypySm0_"
      },
      "outputs": [],
      "source": [
        "#The Mean sCORE \n",
        "score_test = np.mean(score_test)\n",
        "score_test"
      ]
    },
    {
      "cell_type": "code",
      "execution_count": null,
      "metadata": {
        "id": "bX71DdHN-A56"
      },
      "outputs": [],
      "source": [
        "import pandas as pd\n",
        "pred_y_diff = pd.DataFrame({'Actual Values of Cost':y_test,'Predicted Cost':y_test_pred,'Difference':y_test-y_test_pred})\n",
        "\n",
        "pred_y_diff[0:21]"
      ]
    },
    {
      "cell_type": "markdown",
      "metadata": {
        "id": "2XY7zQz5c6wI"
      },
      "source": [
        "# New Work "
      ]
    },
    {
      "cell_type": "code",
      "execution_count": null,
      "metadata": {
        "id": "Jq3-_QjtdJsK"
      },
      "outputs": [],
      "source": [
        "# Let us first import The\n",
        "\n"
      ]
    },
    {
      "cell_type": "code",
      "execution_count": null,
      "metadata": {
        "id": "qviLcRVIQynI"
      },
      "outputs": [],
      "source": [
        "from sklearn.preprocessing import PolynomialFeatures\n",
        "pf=PolynomialFeatures()\n",
        "#linear Equation of Degree two\n",
        "\n",
        "Y=data_read.Actual_Cost\n",
        "X_poly=pf.fit_transform(Cat_1)\n",
        "\n",
        "ml.fit(X_poly,Y)\n",
        "\n",
        "\n",
        "\n",
        "# x_train=data_read.drop('Actual_Cost',axis =1)\n",
        "# y_train=data_read['Actual_Cost']\n",
        "\n",
        "# x_test=test.drop('Actual_Cost',axis =1)\n",
        "# y_test=test['Actual_Cost']\n",
        "\n",
        "\n",
        "# x=x_test.as_matrix()\n",
        "# y=y_test.as_matrix()\n",
        "\n",
        "\n",
        "# yp=ml.predict(X_poly,Y)\n",
        "# mean_absolute_error(y_test,yp)"
      ]
    }
  ],
  "metadata": {
    "accelerator": "GPU",
    "colab": {
      "provenance": [],
      "include_colab_link": true
    },
    "gpuClass": "standard",
    "kernelspec": {
      "display_name": "Python 3",
      "name": "python3"
    },
    "language_info": {
      "name": "python"
    }
  },
  "nbformat": 4,
  "nbformat_minor": 0
}