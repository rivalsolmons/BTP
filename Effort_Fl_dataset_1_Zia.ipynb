{
  "cells": [
    {
      "cell_type": "markdown",
      "metadata": {
        "id": "view-in-github",
        "colab_type": "text"
      },
      "source": [
        "<a href=\"https://colab.research.google.com/github/rivalsolmons/BTP/blob/main/Effort_Fl_dataset_1_Zia.ipynb\" target=\"_parent\"><img src=\"https://colab.research.google.com/assets/colab-badge.svg\" alt=\"Open In Colab\"/></a>"
      ]
    },
    {
      "cell_type": "markdown",
      "metadata": {
        "id": "Xg-Htvjr-iZl"
      },
      "source": [
        "# Effort and cost Estimation in Agile Software Development"
      ]
    },
    {
      "cell_type": "code",
      "execution_count": 183,
      "metadata": {
        "id": "11ahIf4W9FOI"
      },
      "outputs": [],
      "source": [
        "#@title Cost Estimation on Zia \n",
        "import math\n",
        "import pandas as pd\n",
        "import numpy as np\n",
        "\n",
        "from scipy.stats import pearsonr\n",
        "import matplotlib.pyplot as plt\n",
        "import seaborn as sns\n",
        "from sklearn.model_selection import train_test_split\n",
        "from sklearn.neighbors import KNeighborsRegressor\n",
        "from sklearn.linear_model import LinearRegression\n",
        "from sklearn.svm import SVR\n",
        "from sklearn.model_selection import GridSearchCV\n",
        "from matplotlib.colors import ListedColormap  \n",
        "from sklearn.neighbors import KNeighborsClassifier\n",
        "from sklearn.metrics import confusion_matrix,ConfusionMatrixDisplay\n",
        "from sklearn.metrics import r2_score\n",
        "from sklearn.metrics import classification_report\n",
        "\n"
      ]
    },
    {
      "cell_type": "code",
      "execution_count": 184,
      "metadata": {
        "colab": {
          "base_uri": "https://localhost:8080/"
        },
        "id": "XmfjGo-K5E8J",
        "outputId": "980c8018-2c7c-46c7-e631-33b6655a69ae"
      },
      "outputs": [
        {
          "output_type": "stream",
          "name": "stdout",
          "text": [
            "Drive already mounted at /content/drive; to attempt to forcibly remount, call drive.mount(\"/content/drive\", force_remount=True).\n"
          ]
        }
      ],
      "source": [
        "from google.colab import drive\n",
        "drive.mount('/content/drive')\n",
        "\n",
        "data_read = pd.read_csv('/content/drive/MyDrive/Btp/Ultra/Zia_upd2.csv')"
      ]
    },
    {
      "cell_type": "code",
      "execution_count": 185,
      "metadata": {
        "colab": {
          "base_uri": "https://localhost:8080/",
          "height": 270
        },
        "id": "3Uq7ZZUf-bOC",
        "outputId": "d5071aaf-e4c0-45e9-8623-ecdb4aad66b8"
      },
      "outputs": [
        {
          "output_type": "execute_result",
          "data": {
            "text/plain": [
              "   Effort   Vi      D    V  Sprint_Size  Work_days  Team_Salary  Act_Time  \\\n",
              "0     156  4.2  0.687  2.7           10         22       230000        63   \n",
              "1     202  3.7  0.701  2.5           10         21       260000        92   \n",
              "2     173  4.0  0.878  3.3           10         22       250000        56   \n",
              "3     331  4.5  0.886  3.8           10         22       300000        86   \n",
              "4     124  4.9  0.903  4.2           10         22       300000        32   \n",
              "\n",
              "   Actual_Cost  \n",
              "0      1200000  \n",
              "1      1600000  \n",
              "2      1000000  \n",
              "3      2100000  \n",
              "4       750000  "
            ],
            "text/html": [
              "\n",
              "  <div id=\"df-d0779c74-769b-49c1-aa2f-6d86cf47eee5\">\n",
              "    <div class=\"colab-df-container\">\n",
              "      <div>\n",
              "<style scoped>\n",
              "    .dataframe tbody tr th:only-of-type {\n",
              "        vertical-align: middle;\n",
              "    }\n",
              "\n",
              "    .dataframe tbody tr th {\n",
              "        vertical-align: top;\n",
              "    }\n",
              "\n",
              "    .dataframe thead th {\n",
              "        text-align: right;\n",
              "    }\n",
              "</style>\n",
              "<table border=\"1\" class=\"dataframe\">\n",
              "  <thead>\n",
              "    <tr style=\"text-align: right;\">\n",
              "      <th></th>\n",
              "      <th>Effort</th>\n",
              "      <th>Vi</th>\n",
              "      <th>D</th>\n",
              "      <th>V</th>\n",
              "      <th>Sprint_Size</th>\n",
              "      <th>Work_days</th>\n",
              "      <th>Team_Salary</th>\n",
              "      <th>Act_Time</th>\n",
              "      <th>Actual_Cost</th>\n",
              "    </tr>\n",
              "  </thead>\n",
              "  <tbody>\n",
              "    <tr>\n",
              "      <th>0</th>\n",
              "      <td>156</td>\n",
              "      <td>4.2</td>\n",
              "      <td>0.687</td>\n",
              "      <td>2.7</td>\n",
              "      <td>10</td>\n",
              "      <td>22</td>\n",
              "      <td>230000</td>\n",
              "      <td>63</td>\n",
              "      <td>1200000</td>\n",
              "    </tr>\n",
              "    <tr>\n",
              "      <th>1</th>\n",
              "      <td>202</td>\n",
              "      <td>3.7</td>\n",
              "      <td>0.701</td>\n",
              "      <td>2.5</td>\n",
              "      <td>10</td>\n",
              "      <td>21</td>\n",
              "      <td>260000</td>\n",
              "      <td>92</td>\n",
              "      <td>1600000</td>\n",
              "    </tr>\n",
              "    <tr>\n",
              "      <th>2</th>\n",
              "      <td>173</td>\n",
              "      <td>4.0</td>\n",
              "      <td>0.878</td>\n",
              "      <td>3.3</td>\n",
              "      <td>10</td>\n",
              "      <td>22</td>\n",
              "      <td>250000</td>\n",
              "      <td>56</td>\n",
              "      <td>1000000</td>\n",
              "    </tr>\n",
              "    <tr>\n",
              "      <th>3</th>\n",
              "      <td>331</td>\n",
              "      <td>4.5</td>\n",
              "      <td>0.886</td>\n",
              "      <td>3.8</td>\n",
              "      <td>10</td>\n",
              "      <td>22</td>\n",
              "      <td>300000</td>\n",
              "      <td>86</td>\n",
              "      <td>2100000</td>\n",
              "    </tr>\n",
              "    <tr>\n",
              "      <th>4</th>\n",
              "      <td>124</td>\n",
              "      <td>4.9</td>\n",
              "      <td>0.903</td>\n",
              "      <td>4.2</td>\n",
              "      <td>10</td>\n",
              "      <td>22</td>\n",
              "      <td>300000</td>\n",
              "      <td>32</td>\n",
              "      <td>750000</td>\n",
              "    </tr>\n",
              "  </tbody>\n",
              "</table>\n",
              "</div>\n",
              "      <button class=\"colab-df-convert\" onclick=\"convertToInteractive('df-d0779c74-769b-49c1-aa2f-6d86cf47eee5')\"\n",
              "              title=\"Convert this dataframe to an interactive table.\"\n",
              "              style=\"display:none;\">\n",
              "        \n",
              "  <svg xmlns=\"http://www.w3.org/2000/svg\" height=\"24px\"viewBox=\"0 0 24 24\"\n",
              "       width=\"24px\">\n",
              "    <path d=\"M0 0h24v24H0V0z\" fill=\"none\"/>\n",
              "    <path d=\"M18.56 5.44l.94 2.06.94-2.06 2.06-.94-2.06-.94-.94-2.06-.94 2.06-2.06.94zm-11 1L8.5 8.5l.94-2.06 2.06-.94-2.06-.94L8.5 2.5l-.94 2.06-2.06.94zm10 10l.94 2.06.94-2.06 2.06-.94-2.06-.94-.94-2.06-.94 2.06-2.06.94z\"/><path d=\"M17.41 7.96l-1.37-1.37c-.4-.4-.92-.59-1.43-.59-.52 0-1.04.2-1.43.59L10.3 9.45l-7.72 7.72c-.78.78-.78 2.05 0 2.83L4 21.41c.39.39.9.59 1.41.59.51 0 1.02-.2 1.41-.59l7.78-7.78 2.81-2.81c.8-.78.8-2.07 0-2.86zM5.41 20L4 18.59l7.72-7.72 1.47 1.35L5.41 20z\"/>\n",
              "  </svg>\n",
              "      </button>\n",
              "      \n",
              "  <style>\n",
              "    .colab-df-container {\n",
              "      display:flex;\n",
              "      flex-wrap:wrap;\n",
              "      gap: 12px;\n",
              "    }\n",
              "\n",
              "    .colab-df-convert {\n",
              "      background-color: #E8F0FE;\n",
              "      border: none;\n",
              "      border-radius: 50%;\n",
              "      cursor: pointer;\n",
              "      display: none;\n",
              "      fill: #1967D2;\n",
              "      height: 32px;\n",
              "      padding: 0 0 0 0;\n",
              "      width: 32px;\n",
              "    }\n",
              "\n",
              "    .colab-df-convert:hover {\n",
              "      background-color: #E2EBFA;\n",
              "      box-shadow: 0px 1px 2px rgba(60, 64, 67, 0.3), 0px 1px 3px 1px rgba(60, 64, 67, 0.15);\n",
              "      fill: #174EA6;\n",
              "    }\n",
              "\n",
              "    [theme=dark] .colab-df-convert {\n",
              "      background-color: #3B4455;\n",
              "      fill: #D2E3FC;\n",
              "    }\n",
              "\n",
              "    [theme=dark] .colab-df-convert:hover {\n",
              "      background-color: #434B5C;\n",
              "      box-shadow: 0px 1px 3px 1px rgba(0, 0, 0, 0.15);\n",
              "      filter: drop-shadow(0px 1px 2px rgba(0, 0, 0, 0.3));\n",
              "      fill: #FFFFFF;\n",
              "    }\n",
              "  </style>\n",
              "\n",
              "      <script>\n",
              "        const buttonEl =\n",
              "          document.querySelector('#df-d0779c74-769b-49c1-aa2f-6d86cf47eee5 button.colab-df-convert');\n",
              "        buttonEl.style.display =\n",
              "          google.colab.kernel.accessAllowed ? 'block' : 'none';\n",
              "\n",
              "        async function convertToInteractive(key) {\n",
              "          const element = document.querySelector('#df-d0779c74-769b-49c1-aa2f-6d86cf47eee5');\n",
              "          const dataTable =\n",
              "            await google.colab.kernel.invokeFunction('convertToInteractive',\n",
              "                                                     [key], {});\n",
              "          if (!dataTable) return;\n",
              "\n",
              "          const docLinkHtml = 'Like what you see? Visit the ' +\n",
              "            '<a target=\"_blank\" href=https://colab.research.google.com/notebooks/data_table.ipynb>data table notebook</a>'\n",
              "            + ' to learn more about interactive tables.';\n",
              "          element.innerHTML = '';\n",
              "          dataTable['output_type'] = 'display_data';\n",
              "          await google.colab.output.renderOutput(dataTable, element);\n",
              "          const docLink = document.createElement('div');\n",
              "          docLink.innerHTML = docLinkHtml;\n",
              "          element.appendChild(docLink);\n",
              "        }\n",
              "      </script>\n",
              "    </div>\n",
              "  </div>\n",
              "  "
            ]
          },
          "metadata": {},
          "execution_count": 185
        }
      ],
      "source": [
        "data_read.head()"
      ]
    },
    {
      "cell_type": "code",
      "execution_count": 186,
      "metadata": {
        "id": "zHu2XEHaHcGh"
      },
      "outputs": [],
      "source": [
        "#@title Improving The data Qualitity \n",
        "#@markdown  "
      ]
    },
    {
      "cell_type": "code",
      "execution_count": 187,
      "metadata": {
        "id": "1cIKsFp8SkjN"
      },
      "outputs": [],
      "source": [
        "#@title Defining Category 1 and Category 2\n",
        "\n",
        "\n",
        "features = ['Actual_Cost'\t,'Vi',\t'D',\t'V',\t\t'Work_days',\t'Team_Salary',\t'Act_Time']\n",
        "#features = ['Actual_Cost',\t'Vi',\t'D',\t'V',\t'Sprint_Size',\t'Work_days',\t'Act_Time'] \n",
        "\n",
        "\n",
        "\n",
        "Cat_1 = data_read[features]\n",
        "Cat_2 = data_read['Effort']"
      ]
    },
    {
      "cell_type": "code",
      "execution_count": 188,
      "metadata": {
        "colab": {
          "base_uri": "https://localhost:8080/",
          "height": 364
        },
        "id": "ZB46SrBPCmES",
        "outputId": "92f8432c-0099-47dd-b35c-fc82018e7f3b"
      },
      "outputs": [
        {
          "output_type": "execute_result",
          "data": {
            "text/plain": [
              "        Actual_Cost         Vi          D          V  Work_days  \\\n",
              "count  2.100000e+01  21.000000  21.000000  21.000000  21.000000   \n",
              "mean   1.114286e+06   4.071429   0.780381   3.023810  21.952381   \n",
              "std    7.058936e+05   0.325796   0.071028   0.438069   0.218218   \n",
              "min    3.500000e+05   3.700000   0.646000   2.400000  21.000000   \n",
              "25%    6.000000e+05   3.900000   0.742000   2.800000  22.000000   \n",
              "50%    8.000000e+05   4.000000   0.758000   2.900000  22.000000   \n",
              "75%    1.500000e+06   4.200000   0.833000   3.200000  22.000000   \n",
              "max    3.200000e+06   4.900000   0.903000   4.200000  22.000000   \n",
              "\n",
              "         Team_Salary    Act_Time  \n",
              "count      21.000000   21.000000  \n",
              "mean   246190.476190   56.428571  \n",
              "std     46419.413016   26.177417  \n",
              "min    190000.000000   21.000000  \n",
              "25%    220000.000000   35.000000  \n",
              "50%    250000.000000   52.000000  \n",
              "75%    250000.000000   80.000000  \n",
              "max    400000.000000  112.000000  "
            ],
            "text/html": [
              "\n",
              "  <div id=\"df-f674773a-18c1-47de-95fc-c525be44a87d\">\n",
              "    <div class=\"colab-df-container\">\n",
              "      <div>\n",
              "<style scoped>\n",
              "    .dataframe tbody tr th:only-of-type {\n",
              "        vertical-align: middle;\n",
              "    }\n",
              "\n",
              "    .dataframe tbody tr th {\n",
              "        vertical-align: top;\n",
              "    }\n",
              "\n",
              "    .dataframe thead th {\n",
              "        text-align: right;\n",
              "    }\n",
              "</style>\n",
              "<table border=\"1\" class=\"dataframe\">\n",
              "  <thead>\n",
              "    <tr style=\"text-align: right;\">\n",
              "      <th></th>\n",
              "      <th>Actual_Cost</th>\n",
              "      <th>Vi</th>\n",
              "      <th>D</th>\n",
              "      <th>V</th>\n",
              "      <th>Work_days</th>\n",
              "      <th>Team_Salary</th>\n",
              "      <th>Act_Time</th>\n",
              "    </tr>\n",
              "  </thead>\n",
              "  <tbody>\n",
              "    <tr>\n",
              "      <th>count</th>\n",
              "      <td>2.100000e+01</td>\n",
              "      <td>21.000000</td>\n",
              "      <td>21.000000</td>\n",
              "      <td>21.000000</td>\n",
              "      <td>21.000000</td>\n",
              "      <td>21.000000</td>\n",
              "      <td>21.000000</td>\n",
              "    </tr>\n",
              "    <tr>\n",
              "      <th>mean</th>\n",
              "      <td>1.114286e+06</td>\n",
              "      <td>4.071429</td>\n",
              "      <td>0.780381</td>\n",
              "      <td>3.023810</td>\n",
              "      <td>21.952381</td>\n",
              "      <td>246190.476190</td>\n",
              "      <td>56.428571</td>\n",
              "    </tr>\n",
              "    <tr>\n",
              "      <th>std</th>\n",
              "      <td>7.058936e+05</td>\n",
              "      <td>0.325796</td>\n",
              "      <td>0.071028</td>\n",
              "      <td>0.438069</td>\n",
              "      <td>0.218218</td>\n",
              "      <td>46419.413016</td>\n",
              "      <td>26.177417</td>\n",
              "    </tr>\n",
              "    <tr>\n",
              "      <th>min</th>\n",
              "      <td>3.500000e+05</td>\n",
              "      <td>3.700000</td>\n",
              "      <td>0.646000</td>\n",
              "      <td>2.400000</td>\n",
              "      <td>21.000000</td>\n",
              "      <td>190000.000000</td>\n",
              "      <td>21.000000</td>\n",
              "    </tr>\n",
              "    <tr>\n",
              "      <th>25%</th>\n",
              "      <td>6.000000e+05</td>\n",
              "      <td>3.900000</td>\n",
              "      <td>0.742000</td>\n",
              "      <td>2.800000</td>\n",
              "      <td>22.000000</td>\n",
              "      <td>220000.000000</td>\n",
              "      <td>35.000000</td>\n",
              "    </tr>\n",
              "    <tr>\n",
              "      <th>50%</th>\n",
              "      <td>8.000000e+05</td>\n",
              "      <td>4.000000</td>\n",
              "      <td>0.758000</td>\n",
              "      <td>2.900000</td>\n",
              "      <td>22.000000</td>\n",
              "      <td>250000.000000</td>\n",
              "      <td>52.000000</td>\n",
              "    </tr>\n",
              "    <tr>\n",
              "      <th>75%</th>\n",
              "      <td>1.500000e+06</td>\n",
              "      <td>4.200000</td>\n",
              "      <td>0.833000</td>\n",
              "      <td>3.200000</td>\n",
              "      <td>22.000000</td>\n",
              "      <td>250000.000000</td>\n",
              "      <td>80.000000</td>\n",
              "    </tr>\n",
              "    <tr>\n",
              "      <th>max</th>\n",
              "      <td>3.200000e+06</td>\n",
              "      <td>4.900000</td>\n",
              "      <td>0.903000</td>\n",
              "      <td>4.200000</td>\n",
              "      <td>22.000000</td>\n",
              "      <td>400000.000000</td>\n",
              "      <td>112.000000</td>\n",
              "    </tr>\n",
              "  </tbody>\n",
              "</table>\n",
              "</div>\n",
              "      <button class=\"colab-df-convert\" onclick=\"convertToInteractive('df-f674773a-18c1-47de-95fc-c525be44a87d')\"\n",
              "              title=\"Convert this dataframe to an interactive table.\"\n",
              "              style=\"display:none;\">\n",
              "        \n",
              "  <svg xmlns=\"http://www.w3.org/2000/svg\" height=\"24px\"viewBox=\"0 0 24 24\"\n",
              "       width=\"24px\">\n",
              "    <path d=\"M0 0h24v24H0V0z\" fill=\"none\"/>\n",
              "    <path d=\"M18.56 5.44l.94 2.06.94-2.06 2.06-.94-2.06-.94-.94-2.06-.94 2.06-2.06.94zm-11 1L8.5 8.5l.94-2.06 2.06-.94-2.06-.94L8.5 2.5l-.94 2.06-2.06.94zm10 10l.94 2.06.94-2.06 2.06-.94-2.06-.94-.94-2.06-.94 2.06-2.06.94z\"/><path d=\"M17.41 7.96l-1.37-1.37c-.4-.4-.92-.59-1.43-.59-.52 0-1.04.2-1.43.59L10.3 9.45l-7.72 7.72c-.78.78-.78 2.05 0 2.83L4 21.41c.39.39.9.59 1.41.59.51 0 1.02-.2 1.41-.59l7.78-7.78 2.81-2.81c.8-.78.8-2.07 0-2.86zM5.41 20L4 18.59l7.72-7.72 1.47 1.35L5.41 20z\"/>\n",
              "  </svg>\n",
              "      </button>\n",
              "      \n",
              "  <style>\n",
              "    .colab-df-container {\n",
              "      display:flex;\n",
              "      flex-wrap:wrap;\n",
              "      gap: 12px;\n",
              "    }\n",
              "\n",
              "    .colab-df-convert {\n",
              "      background-color: #E8F0FE;\n",
              "      border: none;\n",
              "      border-radius: 50%;\n",
              "      cursor: pointer;\n",
              "      display: none;\n",
              "      fill: #1967D2;\n",
              "      height: 32px;\n",
              "      padding: 0 0 0 0;\n",
              "      width: 32px;\n",
              "    }\n",
              "\n",
              "    .colab-df-convert:hover {\n",
              "      background-color: #E2EBFA;\n",
              "      box-shadow: 0px 1px 2px rgba(60, 64, 67, 0.3), 0px 1px 3px 1px rgba(60, 64, 67, 0.15);\n",
              "      fill: #174EA6;\n",
              "    }\n",
              "\n",
              "    [theme=dark] .colab-df-convert {\n",
              "      background-color: #3B4455;\n",
              "      fill: #D2E3FC;\n",
              "    }\n",
              "\n",
              "    [theme=dark] .colab-df-convert:hover {\n",
              "      background-color: #434B5C;\n",
              "      box-shadow: 0px 1px 3px 1px rgba(0, 0, 0, 0.15);\n",
              "      filter: drop-shadow(0px 1px 2px rgba(0, 0, 0, 0.3));\n",
              "      fill: #FFFFFF;\n",
              "    }\n",
              "  </style>\n",
              "\n",
              "      <script>\n",
              "        const buttonEl =\n",
              "          document.querySelector('#df-f674773a-18c1-47de-95fc-c525be44a87d button.colab-df-convert');\n",
              "        buttonEl.style.display =\n",
              "          google.colab.kernel.accessAllowed ? 'block' : 'none';\n",
              "\n",
              "        async function convertToInteractive(key) {\n",
              "          const element = document.querySelector('#df-f674773a-18c1-47de-95fc-c525be44a87d');\n",
              "          const dataTable =\n",
              "            await google.colab.kernel.invokeFunction('convertToInteractive',\n",
              "                                                     [key], {});\n",
              "          if (!dataTable) return;\n",
              "\n",
              "          const docLinkHtml = 'Like what you see? Visit the ' +\n",
              "            '<a target=\"_blank\" href=https://colab.research.google.com/notebooks/data_table.ipynb>data table notebook</a>'\n",
              "            + ' to learn more about interactive tables.';\n",
              "          element.innerHTML = '';\n",
              "          dataTable['output_type'] = 'display_data';\n",
              "          await google.colab.output.renderOutput(dataTable, element);\n",
              "          const docLink = document.createElement('div');\n",
              "          docLink.innerHTML = docLinkHtml;\n",
              "          element.appendChild(docLink);\n",
              "        }\n",
              "      </script>\n",
              "    </div>\n",
              "  </div>\n",
              "  "
            ]
          },
          "metadata": {},
          "execution_count": 188
        }
      ],
      "source": [
        "\n",
        "#@title Describing Categorical Data \n",
        "Cat_1.describe()\n"
      ]
    },
    {
      "cell_type": "code",
      "execution_count": 188,
      "metadata": {
        "id": "ZoPPEu0MTb4q"
      },
      "outputs": [],
      "source": []
    },
    {
      "cell_type": "code",
      "execution_count": 189,
      "metadata": {
        "id": "GEXGsEJbF3oo"
      },
      "outputs": [],
      "source": [
        "#For debugging purpose\n",
        "#print(Cat_1)"
      ]
    },
    {
      "cell_type": "code",
      "execution_count": 190,
      "metadata": {
        "colab": {
          "base_uri": "https://localhost:8080/",
          "height": 708
        },
        "id": "EK8En7n2fnjK",
        "outputId": "0e24645a-e3db-4619-f96f-0c350bc9b366"
      },
      "outputs": [
        {
          "output_type": "display_data",
          "data": {
            "text/plain": [
              "    Actual_Cost   Vi      D    V  Work_days  Team_Salary  Act_Time\n",
              "0       1200000  4.2  0.687  2.7         22       230000        63\n",
              "1       1600000  3.7  0.701  2.5         21       260000        92\n",
              "2       1000000  4.0  0.878  3.3         22       250000        56\n",
              "3       2100000  4.5  0.886  3.8         22       300000        86\n",
              "4        750000  4.9  0.903  4.2         22       300000        32\n",
              "5       3200000  4.1  0.903  3.6         22       400000        91\n",
              "6        600000  4.2  0.859  3.4         22       250000        35\n",
              "7       1800000  3.8  0.833  3.0         22       250000        93\n",
              "8        500000  3.9  0.646  2.4         22       190000        36\n",
              "9       1200000  4.6  0.758  3.2         22       250000        62\n",
              "10       800000  4.6  0.758  3.2         22       250000        45\n",
              "11       650000  3.9  0.773  2.9         22       200000        37\n",
              "12       600000  3.9  0.773  2.9         22       200000        32\n",
              "13       400000  3.9  0.773  2.9         22       200000        30\n",
              "14       350000  3.9  0.773  2.9         22       200000        21\n",
              "15      2000000  4.0  0.742  2.8         22       250000       112\n",
              "16       800000  4.0  0.742  2.8         22       250000        39\n",
              "17      1000000  4.0  0.742  2.8         22       250000        52\n",
              "18      1500000  4.0  0.742  2.8         22       250000        80\n",
              "19       800000  3.7  0.758  2.7         22       220000        56\n",
              "20       550000  3.7  0.758  2.7         22       220000        35"
            ],
            "text/html": [
              "\n",
              "  <div id=\"df-a78b4b05-cf8e-4de9-b111-51493fb93dfa\">\n",
              "    <div class=\"colab-df-container\">\n",
              "      <div>\n",
              "<style scoped>\n",
              "    .dataframe tbody tr th:only-of-type {\n",
              "        vertical-align: middle;\n",
              "    }\n",
              "\n",
              "    .dataframe tbody tr th {\n",
              "        vertical-align: top;\n",
              "    }\n",
              "\n",
              "    .dataframe thead th {\n",
              "        text-align: right;\n",
              "    }\n",
              "</style>\n",
              "<table border=\"1\" class=\"dataframe\">\n",
              "  <thead>\n",
              "    <tr style=\"text-align: right;\">\n",
              "      <th></th>\n",
              "      <th>Actual_Cost</th>\n",
              "      <th>Vi</th>\n",
              "      <th>D</th>\n",
              "      <th>V</th>\n",
              "      <th>Work_days</th>\n",
              "      <th>Team_Salary</th>\n",
              "      <th>Act_Time</th>\n",
              "    </tr>\n",
              "  </thead>\n",
              "  <tbody>\n",
              "    <tr>\n",
              "      <th>0</th>\n",
              "      <td>1200000</td>\n",
              "      <td>4.2</td>\n",
              "      <td>0.687</td>\n",
              "      <td>2.7</td>\n",
              "      <td>22</td>\n",
              "      <td>230000</td>\n",
              "      <td>63</td>\n",
              "    </tr>\n",
              "    <tr>\n",
              "      <th>1</th>\n",
              "      <td>1600000</td>\n",
              "      <td>3.7</td>\n",
              "      <td>0.701</td>\n",
              "      <td>2.5</td>\n",
              "      <td>21</td>\n",
              "      <td>260000</td>\n",
              "      <td>92</td>\n",
              "    </tr>\n",
              "    <tr>\n",
              "      <th>2</th>\n",
              "      <td>1000000</td>\n",
              "      <td>4.0</td>\n",
              "      <td>0.878</td>\n",
              "      <td>3.3</td>\n",
              "      <td>22</td>\n",
              "      <td>250000</td>\n",
              "      <td>56</td>\n",
              "    </tr>\n",
              "    <tr>\n",
              "      <th>3</th>\n",
              "      <td>2100000</td>\n",
              "      <td>4.5</td>\n",
              "      <td>0.886</td>\n",
              "      <td>3.8</td>\n",
              "      <td>22</td>\n",
              "      <td>300000</td>\n",
              "      <td>86</td>\n",
              "    </tr>\n",
              "    <tr>\n",
              "      <th>4</th>\n",
              "      <td>750000</td>\n",
              "      <td>4.9</td>\n",
              "      <td>0.903</td>\n",
              "      <td>4.2</td>\n",
              "      <td>22</td>\n",
              "      <td>300000</td>\n",
              "      <td>32</td>\n",
              "    </tr>\n",
              "    <tr>\n",
              "      <th>5</th>\n",
              "      <td>3200000</td>\n",
              "      <td>4.1</td>\n",
              "      <td>0.903</td>\n",
              "      <td>3.6</td>\n",
              "      <td>22</td>\n",
              "      <td>400000</td>\n",
              "      <td>91</td>\n",
              "    </tr>\n",
              "    <tr>\n",
              "      <th>6</th>\n",
              "      <td>600000</td>\n",
              "      <td>4.2</td>\n",
              "      <td>0.859</td>\n",
              "      <td>3.4</td>\n",
              "      <td>22</td>\n",
              "      <td>250000</td>\n",
              "      <td>35</td>\n",
              "    </tr>\n",
              "    <tr>\n",
              "      <th>7</th>\n",
              "      <td>1800000</td>\n",
              "      <td>3.8</td>\n",
              "      <td>0.833</td>\n",
              "      <td>3.0</td>\n",
              "      <td>22</td>\n",
              "      <td>250000</td>\n",
              "      <td>93</td>\n",
              "    </tr>\n",
              "    <tr>\n",
              "      <th>8</th>\n",
              "      <td>500000</td>\n",
              "      <td>3.9</td>\n",
              "      <td>0.646</td>\n",
              "      <td>2.4</td>\n",
              "      <td>22</td>\n",
              "      <td>190000</td>\n",
              "      <td>36</td>\n",
              "    </tr>\n",
              "    <tr>\n",
              "      <th>9</th>\n",
              "      <td>1200000</td>\n",
              "      <td>4.6</td>\n",
              "      <td>0.758</td>\n",
              "      <td>3.2</td>\n",
              "      <td>22</td>\n",
              "      <td>250000</td>\n",
              "      <td>62</td>\n",
              "    </tr>\n",
              "    <tr>\n",
              "      <th>10</th>\n",
              "      <td>800000</td>\n",
              "      <td>4.6</td>\n",
              "      <td>0.758</td>\n",
              "      <td>3.2</td>\n",
              "      <td>22</td>\n",
              "      <td>250000</td>\n",
              "      <td>45</td>\n",
              "    </tr>\n",
              "    <tr>\n",
              "      <th>11</th>\n",
              "      <td>650000</td>\n",
              "      <td>3.9</td>\n",
              "      <td>0.773</td>\n",
              "      <td>2.9</td>\n",
              "      <td>22</td>\n",
              "      <td>200000</td>\n",
              "      <td>37</td>\n",
              "    </tr>\n",
              "    <tr>\n",
              "      <th>12</th>\n",
              "      <td>600000</td>\n",
              "      <td>3.9</td>\n",
              "      <td>0.773</td>\n",
              "      <td>2.9</td>\n",
              "      <td>22</td>\n",
              "      <td>200000</td>\n",
              "      <td>32</td>\n",
              "    </tr>\n",
              "    <tr>\n",
              "      <th>13</th>\n",
              "      <td>400000</td>\n",
              "      <td>3.9</td>\n",
              "      <td>0.773</td>\n",
              "      <td>2.9</td>\n",
              "      <td>22</td>\n",
              "      <td>200000</td>\n",
              "      <td>30</td>\n",
              "    </tr>\n",
              "    <tr>\n",
              "      <th>14</th>\n",
              "      <td>350000</td>\n",
              "      <td>3.9</td>\n",
              "      <td>0.773</td>\n",
              "      <td>2.9</td>\n",
              "      <td>22</td>\n",
              "      <td>200000</td>\n",
              "      <td>21</td>\n",
              "    </tr>\n",
              "    <tr>\n",
              "      <th>15</th>\n",
              "      <td>2000000</td>\n",
              "      <td>4.0</td>\n",
              "      <td>0.742</td>\n",
              "      <td>2.8</td>\n",
              "      <td>22</td>\n",
              "      <td>250000</td>\n",
              "      <td>112</td>\n",
              "    </tr>\n",
              "    <tr>\n",
              "      <th>16</th>\n",
              "      <td>800000</td>\n",
              "      <td>4.0</td>\n",
              "      <td>0.742</td>\n",
              "      <td>2.8</td>\n",
              "      <td>22</td>\n",
              "      <td>250000</td>\n",
              "      <td>39</td>\n",
              "    </tr>\n",
              "    <tr>\n",
              "      <th>17</th>\n",
              "      <td>1000000</td>\n",
              "      <td>4.0</td>\n",
              "      <td>0.742</td>\n",
              "      <td>2.8</td>\n",
              "      <td>22</td>\n",
              "      <td>250000</td>\n",
              "      <td>52</td>\n",
              "    </tr>\n",
              "    <tr>\n",
              "      <th>18</th>\n",
              "      <td>1500000</td>\n",
              "      <td>4.0</td>\n",
              "      <td>0.742</td>\n",
              "      <td>2.8</td>\n",
              "      <td>22</td>\n",
              "      <td>250000</td>\n",
              "      <td>80</td>\n",
              "    </tr>\n",
              "    <tr>\n",
              "      <th>19</th>\n",
              "      <td>800000</td>\n",
              "      <td>3.7</td>\n",
              "      <td>0.758</td>\n",
              "      <td>2.7</td>\n",
              "      <td>22</td>\n",
              "      <td>220000</td>\n",
              "      <td>56</td>\n",
              "    </tr>\n",
              "    <tr>\n",
              "      <th>20</th>\n",
              "      <td>550000</td>\n",
              "      <td>3.7</td>\n",
              "      <td>0.758</td>\n",
              "      <td>2.7</td>\n",
              "      <td>22</td>\n",
              "      <td>220000</td>\n",
              "      <td>35</td>\n",
              "    </tr>\n",
              "  </tbody>\n",
              "</table>\n",
              "</div>\n",
              "      <button class=\"colab-df-convert\" onclick=\"convertToInteractive('df-a78b4b05-cf8e-4de9-b111-51493fb93dfa')\"\n",
              "              title=\"Convert this dataframe to an interactive table.\"\n",
              "              style=\"display:none;\">\n",
              "        \n",
              "  <svg xmlns=\"http://www.w3.org/2000/svg\" height=\"24px\"viewBox=\"0 0 24 24\"\n",
              "       width=\"24px\">\n",
              "    <path d=\"M0 0h24v24H0V0z\" fill=\"none\"/>\n",
              "    <path d=\"M18.56 5.44l.94 2.06.94-2.06 2.06-.94-2.06-.94-.94-2.06-.94 2.06-2.06.94zm-11 1L8.5 8.5l.94-2.06 2.06-.94-2.06-.94L8.5 2.5l-.94 2.06-2.06.94zm10 10l.94 2.06.94-2.06 2.06-.94-2.06-.94-.94-2.06-.94 2.06-2.06.94z\"/><path d=\"M17.41 7.96l-1.37-1.37c-.4-.4-.92-.59-1.43-.59-.52 0-1.04.2-1.43.59L10.3 9.45l-7.72 7.72c-.78.78-.78 2.05 0 2.83L4 21.41c.39.39.9.59 1.41.59.51 0 1.02-.2 1.41-.59l7.78-7.78 2.81-2.81c.8-.78.8-2.07 0-2.86zM5.41 20L4 18.59l7.72-7.72 1.47 1.35L5.41 20z\"/>\n",
              "  </svg>\n",
              "      </button>\n",
              "      \n",
              "  <style>\n",
              "    .colab-df-container {\n",
              "      display:flex;\n",
              "      flex-wrap:wrap;\n",
              "      gap: 12px;\n",
              "    }\n",
              "\n",
              "    .colab-df-convert {\n",
              "      background-color: #E8F0FE;\n",
              "      border: none;\n",
              "      border-radius: 50%;\n",
              "      cursor: pointer;\n",
              "      display: none;\n",
              "      fill: #1967D2;\n",
              "      height: 32px;\n",
              "      padding: 0 0 0 0;\n",
              "      width: 32px;\n",
              "    }\n",
              "\n",
              "    .colab-df-convert:hover {\n",
              "      background-color: #E2EBFA;\n",
              "      box-shadow: 0px 1px 2px rgba(60, 64, 67, 0.3), 0px 1px 3px 1px rgba(60, 64, 67, 0.15);\n",
              "      fill: #174EA6;\n",
              "    }\n",
              "\n",
              "    [theme=dark] .colab-df-convert {\n",
              "      background-color: #3B4455;\n",
              "      fill: #D2E3FC;\n",
              "    }\n",
              "\n",
              "    [theme=dark] .colab-df-convert:hover {\n",
              "      background-color: #434B5C;\n",
              "      box-shadow: 0px 1px 3px 1px rgba(0, 0, 0, 0.15);\n",
              "      filter: drop-shadow(0px 1px 2px rgba(0, 0, 0, 0.3));\n",
              "      fill: #FFFFFF;\n",
              "    }\n",
              "  </style>\n",
              "\n",
              "      <script>\n",
              "        const buttonEl =\n",
              "          document.querySelector('#df-a78b4b05-cf8e-4de9-b111-51493fb93dfa button.colab-df-convert');\n",
              "        buttonEl.style.display =\n",
              "          google.colab.kernel.accessAllowed ? 'block' : 'none';\n",
              "\n",
              "        async function convertToInteractive(key) {\n",
              "          const element = document.querySelector('#df-a78b4b05-cf8e-4de9-b111-51493fb93dfa');\n",
              "          const dataTable =\n",
              "            await google.colab.kernel.invokeFunction('convertToInteractive',\n",
              "                                                     [key], {});\n",
              "          if (!dataTable) return;\n",
              "\n",
              "          const docLinkHtml = 'Like what you see? Visit the ' +\n",
              "            '<a target=\"_blank\" href=https://colab.research.google.com/notebooks/data_table.ipynb>data table notebook</a>'\n",
              "            + ' to learn more about interactive tables.';\n",
              "          element.innerHTML = '';\n",
              "          dataTable['output_type'] = 'display_data';\n",
              "          await google.colab.output.renderOutput(dataTable, element);\n",
              "          const docLink = document.createElement('div');\n",
              "          docLink.innerHTML = docLinkHtml;\n",
              "          element.appendChild(docLink);\n",
              "        }\n",
              "      </script>\n",
              "    </div>\n",
              "  </div>\n",
              "  "
            ]
          },
          "metadata": {}
        }
      ],
      "source": [
        "#@title Describe the raw Data of splitted trained set from the dataframe\n",
        "display(Cat_1)"
      ]
    },
    {
      "cell_type": "code",
      "execution_count": 190,
      "metadata": {
        "id": "QNqBXkqLxY8T"
      },
      "outputs": [],
      "source": []
    },
    {
      "cell_type": "code",
      "execution_count": 191,
      "metadata": {
        "colab": {
          "base_uri": "https://localhost:8080/"
        },
        "id": "g97XTJ12xXe_",
        "outputId": "78f84b0b-f6a7-4a8e-8d74-f6acb27ebd0a"
      },
      "outputs": [
        {
          "output_type": "stream",
          "name": "stdout",
          "text": [
            "The overall nummber of projects are:  21\n"
          ]
        }
      ],
      "source": [
        "print('The overall nummber of projects are: ',len(Cat_2))"
      ]
    },
    {
      "cell_type": "code",
      "execution_count": 192,
      "metadata": {
        "colab": {
          "base_uri": "https://localhost:8080/",
          "height": 399
        },
        "id": "hDINeKSAF-uO",
        "outputId": "f31cd438-ba7f-4b64-c82e-5f8b7163a319"
      },
      "outputs": [
        {
          "output_type": "display_data",
          "data": {
            "text/plain": [
              "0     156\n",
              "1     202\n",
              "2     173\n",
              "3     331\n",
              "4     124\n",
              "5     339\n",
              "6      97\n",
              "7     257\n",
              "8      84\n",
              "9     211\n",
              "10    131\n",
              "11    112\n",
              "12    101\n",
              "13     74\n",
              "14     62\n",
              "15    289\n",
              "16    113\n",
              "17    141\n",
              "18    213\n",
              "19    137\n",
              "20     91\n",
              "Name: Effort, dtype: int64"
            ]
          },
          "metadata": {}
        }
      ],
      "source": [
        "display(Cat_2)"
      ]
    },
    {
      "cell_type": "code",
      "execution_count": 193,
      "metadata": {
        "id": "24lr9lwxGEYY"
      },
      "outputs": [],
      "source": [
        "\n",
        "\n",
        "from sklearn.model_selection import train_test_split\n",
        "\n",
        "x_train,x_test,y_train,y_test = train_test_split(Cat_1,Cat_2,test_size=0.20, random_state=0)\n",
        "from sklearn.linear_model import LinearRegression\n",
        "ml = LinearRegression()\n",
        "ml.fit(x_train,y_train)\n",
        "ml.predict(x_test)\n",
        "y_pred1 = ml.predict(x_test)\n",
        "\n",
        "ypredx=len(x_test)\n",
        "## For Debugging Purpose\n",
        "\n",
        "\n",
        "# print(len(y_pred1))\n",
        "# print('xtrain',len(x_train))\n",
        "# print('xtest',len(x_test))"
      ]
    },
    {
      "cell_type": "code",
      "execution_count": 194,
      "metadata": {
        "colab": {
          "base_uri": "https://localhost:8080/"
        },
        "id": "0lSgG170XhmO",
        "outputId": "6deaeda7-7d00-4d1a-d2cd-089ef77c9325"
      },
      "outputs": [
        {
          "output_type": "stream",
          "name": "stdout",
          "text": [
            "8      84\n",
            "13     74\n",
            "20     91\n",
            "1     202\n",
            "11    112\n",
            "Name: Effort, dtype: int64\n"
          ]
        }
      ],
      "source": [
        "import math\n",
        "print(y_test)\n"
      ]
    },
    {
      "cell_type": "code",
      "execution_count": 195,
      "metadata": {
        "colab": {
          "base_uri": "https://localhost:8080/"
        },
        "id": "OaydKt4JYbMs",
        "outputId": "329957b0-4fda-4e8b-ccbe-b859d86d7521"
      },
      "outputs": [
        {
          "output_type": "stream",
          "name": "stdout",
          "text": [
            "[ 74.4768229   80.91188029  75.77505591 205.70522813 113.86072133]\n"
          ]
        }
      ],
      "source": [
        "print(y_pred1)"
      ]
    },
    {
      "cell_type": "code",
      "execution_count": 196,
      "metadata": {
        "id": "MwXmlqdxKkcU"
      },
      "outputs": [],
      "source": [
        "ml.predict(x_train)\n",
        "x_train_pred_lr= ml.predict(x_train)"
      ]
    },
    {
      "cell_type": "code",
      "execution_count": 197,
      "metadata": {
        "colab": {
          "base_uri": "https://localhost:8080/",
          "height": 656
        },
        "id": "Xm0sykHILvFR",
        "outputId": "1885801e-fe9a-4600-d5b6-e8c26fe33382"
      },
      "outputs": [
        {
          "output_type": "execute_result",
          "data": {
            "text/plain": [
              "Text(0.5, 1.0, 'Cost Actual vs Predicted Linear Regresssion')"
            ]
          },
          "metadata": {},
          "execution_count": 197
        },
        {
          "output_type": "display_data",
          "data": {
            "text/plain": [
              "<Figure size 700x700 with 1 Axes>"
            ],
            "image/png": "[encoded data removed]"
          },
          "metadata": {}
        }
      ],
      "source": [
        "import matplotlib.pyplot as plt\n",
        "\n",
        "plt.figure(figsize=(7,7))\n",
        "plt.scatter(y_train, x_train_pred_lr ,label='Train Data',color='red' )\n",
        "plt.scatter(y_test, y_pred1)\n",
        "\n",
        "\n",
        "#plt.scatter()\n",
        "plt.xlabel('Actual Cost of the project')\n",
        "plt.ylabel('Predicted Cost of the project')\n",
        "plt.title('Cost Actual vs Predicted Linear Regresssion')\n",
        "\n",
        "\n"
      ]
    },
    {
      "cell_type": "code",
      "execution_count": 198,
      "metadata": {
        "id": "fJOcL_cRxXHO"
      },
      "outputs": [],
      "source": [
        "arr =pd.DataFrame({'Actual  Cost':y_test })\n",
        "arr1 =pd.DataFrame({'Predicted Cost':y_pred1})"
      ]
    },
    {
      "cell_type": "markdown",
      "metadata": {
        "id": "0lPoJ6XOcpfF"
      },
      "source": [
        "# Now calculating Diffrence between actual and predicted Values"
      ]
    },
    {
      "cell_type": "code",
      "execution_count": 199,
      "metadata": {
        "colab": {
          "base_uri": "https://localhost:8080/",
          "height": 206
        },
        "id": "pamvLYhRcEtl",
        "outputId": "cd6e0c71-b7f1-4953-ab86-34ac0c227f63"
      },
      "outputs": [
        {
          "output_type": "execute_result",
          "data": {
            "text/plain": [
              "    Actual Values of Cost  Predicted Cost  Difference\n",
              "8                      84       74.476823    9.523177\n",
              "13                     74       80.911880   -6.911880\n",
              "20                     91       75.775056   15.224944\n",
              "1                     202      205.705228   -3.705228\n",
              "11                    112      113.860721   -1.860721"
            ],
            "text/html": [
              "\n",
              "  <div id=\"df-b450c3ea-16f2-4ce4-ac2f-53dbfc965eae\">\n",
              "    <div class=\"colab-df-container\">\n",
              "      <div>\n",
              "<style scoped>\n",
              "    .dataframe tbody tr th:only-of-type {\n",
              "        vertical-align: middle;\n",
              "    }\n",
              "\n",
              "    .dataframe tbody tr th {\n",
              "        vertical-align: top;\n",
              "    }\n",
              "\n",
              "    .dataframe thead th {\n",
              "        text-align: right;\n",
              "    }\n",
              "</style>\n",
              "<table border=\"1\" class=\"dataframe\">\n",
              "  <thead>\n",
              "    <tr style=\"text-align: right;\">\n",
              "      <th></th>\n",
              "      <th>Actual Values of Cost</th>\n",
              "      <th>Predicted Cost</th>\n",
              "      <th>Difference</th>\n",
              "    </tr>\n",
              "  </thead>\n",
              "  <tbody>\n",
              "    <tr>\n",
              "      <th>8</th>\n",
              "      <td>84</td>\n",
              "      <td>74.476823</td>\n",
              "      <td>9.523177</td>\n",
              "    </tr>\n",
              "    <tr>\n",
              "      <th>13</th>\n",
              "      <td>74</td>\n",
              "      <td>80.911880</td>\n",
              "      <td>-6.911880</td>\n",
              "    </tr>\n",
              "    <tr>\n",
              "      <th>20</th>\n",
              "      <td>91</td>\n",
              "      <td>75.775056</td>\n",
              "      <td>15.224944</td>\n",
              "    </tr>\n",
              "    <tr>\n",
              "      <th>1</th>\n",
              "      <td>202</td>\n",
              "      <td>205.705228</td>\n",
              "      <td>-3.705228</td>\n",
              "    </tr>\n",
              "    <tr>\n",
              "      <th>11</th>\n",
              "      <td>112</td>\n",
              "      <td>113.860721</td>\n",
              "      <td>-1.860721</td>\n",
              "    </tr>\n",
              "  </tbody>\n",
              "</table>\n",
              "</div>\n",
              "      <button class=\"colab-df-convert\" onclick=\"convertToInteractive('df-b450c3ea-16f2-4ce4-ac2f-53dbfc965eae')\"\n",
              "              title=\"Convert this dataframe to an interactive table.\"\n",
              "              style=\"display:none;\">\n",
              "        \n",
              "  <svg xmlns=\"http://www.w3.org/2000/svg\" height=\"24px\"viewBox=\"0 0 24 24\"\n",
              "       width=\"24px\">\n",
              "    <path d=\"M0 0h24v24H0V0z\" fill=\"none\"/>\n",
              "    <path d=\"M18.56 5.44l.94 2.06.94-2.06 2.06-.94-2.06-.94-.94-2.06-.94 2.06-2.06.94zm-11 1L8.5 8.5l.94-2.06 2.06-.94-2.06-.94L8.5 2.5l-.94 2.06-2.06.94zm10 10l.94 2.06.94-2.06 2.06-.94-2.06-.94-.94-2.06-.94 2.06-2.06.94z\"/><path d=\"M17.41 7.96l-1.37-1.37c-.4-.4-.92-.59-1.43-.59-.52 0-1.04.2-1.43.59L10.3 9.45l-7.72 7.72c-.78.78-.78 2.05 0 2.83L4 21.41c.39.39.9.59 1.41.59.51 0 1.02-.2 1.41-.59l7.78-7.78 2.81-2.81c.8-.78.8-2.07 0-2.86zM5.41 20L4 18.59l7.72-7.72 1.47 1.35L5.41 20z\"/>\n",
              "  </svg>\n",
              "      </button>\n",
              "      \n",
              "  <style>\n",
              "    .colab-df-container {\n",
              "      display:flex;\n",
              "      flex-wrap:wrap;\n",
              "      gap: 12px;\n",
              "    }\n",
              "\n",
              "    .colab-df-convert {\n",
              "      background-color: #E8F0FE;\n",
              "      border: none;\n",
              "      border-radius: 50%;\n",
              "      cursor: pointer;\n",
              "      display: none;\n",
              "      fill: #1967D2;\n",
              "      height: 32px;\n",
              "      padding: 0 0 0 0;\n",
              "      width: 32px;\n",
              "    }\n",
              "\n",
              "    .colab-df-convert:hover {\n",
              "      background-color: #E2EBFA;\n",
              "      box-shadow: 0px 1px 2px rgba(60, 64, 67, 0.3), 0px 1px 3px 1px rgba(60, 64, 67, 0.15);\n",
              "      fill: #174EA6;\n",
              "    }\n",
              "\n",
              "    [theme=dark] .colab-df-convert {\n",
              "      background-color: #3B4455;\n",
              "      fill: #D2E3FC;\n",
              "    }\n",
              "\n",
              "    [theme=dark] .colab-df-convert:hover {\n",
              "      background-color: #434B5C;\n",
              "      box-shadow: 0px 1px 3px 1px rgba(0, 0, 0, 0.15);\n",
              "      filter: drop-shadow(0px 1px 2px rgba(0, 0, 0, 0.3));\n",
              "      fill: #FFFFFF;\n",
              "    }\n",
              "  </style>\n",
              "\n",
              "      <script>\n",
              "        const buttonEl =\n",
              "          document.querySelector('#df-b450c3ea-16f2-4ce4-ac2f-53dbfc965eae button.colab-df-convert');\n",
              "        buttonEl.style.display =\n",
              "          google.colab.kernel.accessAllowed ? 'block' : 'none';\n",
              "\n",
              "        async function convertToInteractive(key) {\n",
              "          const element = document.querySelector('#df-b450c3ea-16f2-4ce4-ac2f-53dbfc965eae');\n",
              "          const dataTable =\n",
              "            await google.colab.kernel.invokeFunction('convertToInteractive',\n",
              "                                                     [key], {});\n",
              "          if (!dataTable) return;\n",
              "\n",
              "          const docLinkHtml = 'Like what you see? Visit the ' +\n",
              "            '<a target=\"_blank\" href=https://colab.research.google.com/notebooks/data_table.ipynb>data table notebook</a>'\n",
              "            + ' to learn more about interactive tables.';\n",
              "          element.innerHTML = '';\n",
              "          dataTable['output_type'] = 'display_data';\n",
              "          await google.colab.output.renderOutput(dataTable, element);\n",
              "          const docLink = document.createElement('div');\n",
              "          docLink.innerHTML = docLinkHtml;\n",
              "          element.appendChild(docLink);\n",
              "        }\n",
              "      </script>\n",
              "    </div>\n",
              "  </div>\n",
              "  "
            ]
          },
          "metadata": {},
          "execution_count": 199
        }
      ],
      "source": [
        "import pandas as pd\n",
        "pred_y_diff = pd.DataFrame({'Actual Values of Cost':y_test,'Predicted Cost':y_pred1%10**5,'Difference':y_test-y_pred1})\n",
        "\n",
        "\n",
        "\n",
        "pred_y_diff[0:21]\n"
      ]
    },
    {
      "cell_type": "code",
      "execution_count": 200,
      "metadata": {
        "id": "PDj-qc-6rBfy"
      },
      "outputs": [],
      "source": [
        "#arr = pred_y_diff.to_numpy()\n",
        "arr =pd.DataFrame({'Actual  Cost':y_test })\n",
        "arr1 =pd.DataFrame({'Predicted Cost':y_pred1})\n",
        "arr2 =pd.DataFrame({'Difference':y_test-y_pred1})"
      ]
    },
    {
      "cell_type": "code",
      "execution_count": 201,
      "metadata": {
        "colab": {
          "base_uri": "https://localhost:8080/"
        },
        "id": "xI2UkK8zrnkI",
        "outputId": "90dc6ebe-b776-424c-f30b-a91bfed6085e"
      },
      "outputs": [
        {
          "output_type": "stream",
          "name": "stdout",
          "text": [
            "    Actual  Cost\n",
            "8             84\n",
            "13            74\n",
            "20            91\n",
            "1            202\n",
            "11           112\n"
          ]
        }
      ],
      "source": [
        "\n",
        "print(arr)"
      ]
    },
    {
      "cell_type": "code",
      "execution_count": 202,
      "metadata": {
        "colab": {
          "base_uri": "https://localhost:8080/"
        },
        "id": "qA91sNePwbCs",
        "outputId": "bf6ff949-3128-4c71-d050-69f534634aed"
      },
      "outputs": [
        {
          "output_type": "stream",
          "name": "stdout",
          "text": [
            "[ 74.4768229   80.91188029  75.77505591 205.70522813 113.86072133]\n"
          ]
        }
      ],
      "source": [
        "print(y_pred1)\n"
      ]
    },
    {
      "cell_type": "code",
      "execution_count": 203,
      "metadata": {
        "colab": {
          "base_uri": "https://localhost:8080/"
        },
        "id": "c3EDOg25w9Gk",
        "outputId": "4e2c37e5-2ef9-4b9c-bc1d-27375436246d"
      },
      "outputs": [
        {
          "output_type": "stream",
          "name": "stdout",
          "text": [
            "The r Score on the predictrd trained Set: 0.96\n",
            "MMRE 0.016361532737116775\n",
            "MdMRE 0.01868075754426117\n",
            "PRED 25% 100.0\n",
            "PRED MMRE 40.0\n",
            "Model Accuracy 91.81923363144162\n"
          ]
        }
      ],
      "source": [
        "# The r_sq\n",
        "print('The r Score on the predictrd trained Set: %.2f'% r2_score(y_test,y_pred1))\n",
        "\n",
        "diff=np.absolute(y_test-y_pred1)\n",
        "MRE=np.absolute(diff)/y_test\n",
        "MMRE=np.mean(MRE)\n",
        "\n",
        "\n",
        "Accuracy=(1-MRE)*100\n",
        "Accuracy=(Accuracy.mean())\n",
        "MRE=(diff/y_test)/MRE.size\n",
        "\n",
        "MMRE=np.mean(MRE)\n",
        "MdMRE=np.median(MRE)\n",
        "P=MRE[MRE<.25]\n",
        "P2=MRE[MRE<MMRE]\n",
        "\n",
        "Pred=(P.size/MRE.size) * 100\n",
        "Pred2=(P2.size/MRE.size) * 100\n",
        "print(\"MMRE\",MMRE)\n",
        "print(\"MdMRE\",MdMRE)\n",
        "print(\"PRED 25%\",Pred)\n",
        "print(\"PRED MMRE\",Pred2)\n",
        "print(\"Model Accuracy\",Accuracy)\n",
        "\n",
        "\n",
        "#linear"
      ]
    },
    {
      "cell_type": "code",
      "execution_count": 204,
      "metadata": {
        "colab": {
          "base_uri": "https://localhost:8080/"
        },
        "id": "4ztrf4Fttk_G",
        "outputId": "637861f6-b80f-451e-bf8f-3820c4ba3287"
      },
      "outputs": [
        {
          "output_type": "stream",
          "name": "stdout",
          "text": [
            "5\n",
            "Mean Absolute error::: 15.3\n",
            "The r Score on the predictrd trained Set: 0.85\n"
          ]
        }
      ],
      "source": [
        "# @title KNeiboursRegressor \n",
        "from sklearn.neighbors import KNeighborsRegressor\n",
        "from sklearn.model_selection import train_test_split\n",
        "\n",
        "#print('x_train length :',len(x_train))\n",
        "x_train,x_test,y_train,y_test = train_test_split(Cat_1,Cat_2, test_size=0.20, random_state=0)\n",
        "#print(len(y_pred1))\n",
        "#print('x_train length:',len(x_train))\n",
        "#print('x_test length:',len(x_test))\n",
        "\n",
        "neigh = KNeighborsRegressor(n_neighbors=2, weights='uniform')\n",
        "neigh.fit(x_train,y_train)\n",
        "y_pred=neigh.predict(x_test) \n",
        "\n",
        "#print(classification_report(y_test,y_pred))\n",
        "\n",
        "#predict =neigh.predict(y_pred)\n",
        "#print(neigh.score(y_test, y_pred))\n",
        "\n",
        "import numpy as np\n",
        "from sklearn.metrics import mean_absolute_error\n",
        "#\n",
        "\n",
        "print(len(y_pred))\n",
        "print(\"Mean Absolute error:::\",mean_absolute_error(y_test,y_pred))\n",
        "#print(\"Mean Absolute error:::\",np.sqrt(mean_absolute_error(y_test,y_pred)))\n",
        "\n",
        "\n",
        "# The r_sq\n",
        "print('The r Score on the predictrd trained Set: %.2f'% r2_score(y_test,y_pred))\n",
        "\n",
        "\n",
        "\n",
        "#knn"
      ]
    },
    {
      "cell_type": "code",
      "execution_count": 205,
      "metadata": {
        "colab": {
          "base_uri": "https://localhost:8080/",
          "height": 499
        },
        "id": "Nz8O0an64kM1",
        "outputId": "72600f4c-188b-45a4-a1d1-6a394d66e38d"
      },
      "outputs": [
        {
          "output_type": "execute_result",
          "data": {
            "text/plain": [
              "<function matplotlib.pyplot.show(close=None, block=None)>"
            ]
          },
          "metadata": {},
          "execution_count": 205
        },
        {
          "output_type": "display_data",
          "data": {
            "text/plain": [
              "<Figure size 1000x600 with 1 Axes>"
            ],
            "image/png": "[encoded data removed]"
          },
          "metadata": {}
        }
      ],
      "source": [
        " #plotting the observed and predicted values \n",
        "\n",
        "\n",
        "# Setting the boundaries and parameters\n",
        "\n",
        "plt.rcParams['figure.figsize'] = (10,6)\n",
        "x_ax =range(len(x_test))\n",
        "#x_ax2 =range(len(y_test))\n",
        "#plotting \n",
        "plt.plot(x_ax, y_test , label='Actual Observed Value', color='yellow',linestyle='-')\n",
        "plt.plot(x_ax,y_pred , label='Predicted values ' , color='red' , linestyle ='--')\n",
        "plt.grid()\n",
        "plt.xlabel('Agile Projects')\n",
        "plt.ylabel('Cost of the project')\n",
        "plt.title('Cost Prediction with KNeighbors Regressor')\n",
        "plt.legend(bbox_to_anchor =(0.5,-0.2), loc= 'upper center',ncol=2, frameon = True)\n",
        "\n",
        "plt.show"
      ]
    },
    {
      "cell_type": "code",
      "execution_count": 206,
      "metadata": {
        "colab": {
          "base_uri": "https://localhost:8080/"
        },
        "id": "rX7F4TJY30z1",
        "outputId": "d85bccc7-b13f-4c06-8775-4978448c37e6"
      },
      "outputs": [
        {
          "output_type": "stream",
          "name": "stdout",
          "text": [
            "MMRE 0.02589090532159839\n",
            "MdMRE 0.023214285714285715\n",
            "PRED 25% 100.0\n"
          ]
        }
      ],
      "source": [
        "#\n",
        "diff=np.absolute(y_test-y_pred)\n",
        "MRE=diff/y_test\n",
        "MRE=(diff/y_test)/MRE.size\n",
        "MMRE=np.mean(MRE)\n",
        "MdMRE=np.median(MRE)\n",
        "P=MRE[MRE<.25]\n",
        "Pred=(P.size/MRE.size) * 100\n",
        "print(\"MMRE\",MMRE)\n",
        "print(\"MdMRE\",MdMRE)\n",
        "print(\"PRED 25%\",Pred)"
      ]
    },
    {
      "cell_type": "code",
      "execution_count": 207,
      "metadata": {
        "colab": {
          "base_uri": "https://localhost:8080/",
          "height": 206
        },
        "id": "6BAGrKGU8kjD",
        "outputId": "f4e77dac-704b-4306-d3bc-be66332a4834"
      },
      "outputs": [
        {
          "output_type": "execute_result",
          "data": {
            "text/plain": [
              "    Actual Values of Cost  Predicted Cost  Difference\n",
              "8                      84            99.0       -15.0\n",
              "13                     74            81.5        -7.5\n",
              "20                     91            99.0        -8.0\n",
              "1                     202           235.0       -33.0\n",
              "11                    112            99.0        13.0"
            ],
            "text/html": [
              "\n",
              "  <div id=\"df-98b691f8-14f8-4588-b8fe-d2c6b5730ff6\">\n",
              "    <div class=\"colab-df-container\">\n",
              "      <div>\n",
              "<style scoped>\n",
              "    .dataframe tbody tr th:only-of-type {\n",
              "        vertical-align: middle;\n",
              "    }\n",
              "\n",
              "    .dataframe tbody tr th {\n",
              "        vertical-align: top;\n",
              "    }\n",
              "\n",
              "    .dataframe thead th {\n",
              "        text-align: right;\n",
              "    }\n",
              "</style>\n",
              "<table border=\"1\" class=\"dataframe\">\n",
              "  <thead>\n",
              "    <tr style=\"text-align: right;\">\n",
              "      <th></th>\n",
              "      <th>Actual Values of Cost</th>\n",
              "      <th>Predicted Cost</th>\n",
              "      <th>Difference</th>\n",
              "    </tr>\n",
              "  </thead>\n",
              "  <tbody>\n",
              "    <tr>\n",
              "      <th>8</th>\n",
              "      <td>84</td>\n",
              "      <td>99.0</td>\n",
              "      <td>-15.0</td>\n",
              "    </tr>\n",
              "    <tr>\n",
              "      <th>13</th>\n",
              "      <td>74</td>\n",
              "      <td>81.5</td>\n",
              "      <td>-7.5</td>\n",
              "    </tr>\n",
              "    <tr>\n",
              "      <th>20</th>\n",
              "      <td>91</td>\n",
              "      <td>99.0</td>\n",
              "      <td>-8.0</td>\n",
              "    </tr>\n",
              "    <tr>\n",
              "      <th>1</th>\n",
              "      <td>202</td>\n",
              "      <td>235.0</td>\n",
              "      <td>-33.0</td>\n",
              "    </tr>\n",
              "    <tr>\n",
              "      <th>11</th>\n",
              "      <td>112</td>\n",
              "      <td>99.0</td>\n",
              "      <td>13.0</td>\n",
              "    </tr>\n",
              "  </tbody>\n",
              "</table>\n",
              "</div>\n",
              "      <button class=\"colab-df-convert\" onclick=\"convertToInteractive('df-98b691f8-14f8-4588-b8fe-d2c6b5730ff6')\"\n",
              "              title=\"Convert this dataframe to an interactive table.\"\n",
              "              style=\"display:none;\">\n",
              "        \n",
              "  <svg xmlns=\"http://www.w3.org/2000/svg\" height=\"24px\"viewBox=\"0 0 24 24\"\n",
              "       width=\"24px\">\n",
              "    <path d=\"M0 0h24v24H0V0z\" fill=\"none\"/>\n",
              "    <path d=\"M18.56 5.44l.94 2.06.94-2.06 2.06-.94-2.06-.94-.94-2.06-.94 2.06-2.06.94zm-11 1L8.5 8.5l.94-2.06 2.06-.94-2.06-.94L8.5 2.5l-.94 2.06-2.06.94zm10 10l.94 2.06.94-2.06 2.06-.94-2.06-.94-.94-2.06-.94 2.06-2.06.94z\"/><path d=\"M17.41 7.96l-1.37-1.37c-.4-.4-.92-.59-1.43-.59-.52 0-1.04.2-1.43.59L10.3 9.45l-7.72 7.72c-.78.78-.78 2.05 0 2.83L4 21.41c.39.39.9.59 1.41.59.51 0 1.02-.2 1.41-.59l7.78-7.78 2.81-2.81c.8-.78.8-2.07 0-2.86zM5.41 20L4 18.59l7.72-7.72 1.47 1.35L5.41 20z\"/>\n",
              "  </svg>\n",
              "      </button>\n",
              "      \n",
              "  <style>\n",
              "    .colab-df-container {\n",
              "      display:flex;\n",
              "      flex-wrap:wrap;\n",
              "      gap: 12px;\n",
              "    }\n",
              "\n",
              "    .colab-df-convert {\n",
              "      background-color: #E8F0FE;\n",
              "      border: none;\n",
              "      border-radius: 50%;\n",
              "      cursor: pointer;\n",
              "      display: none;\n",
              "      fill: #1967D2;\n",
              "      height: 32px;\n",
              "      padding: 0 0 0 0;\n",
              "      width: 32px;\n",
              "    }\n",
              "\n",
              "    .colab-df-convert:hover {\n",
              "      background-color: #E2EBFA;\n",
              "      box-shadow: 0px 1px 2px rgba(60, 64, 67, 0.3), 0px 1px 3px 1px rgba(60, 64, 67, 0.15);\n",
              "      fill: #174EA6;\n",
              "    }\n",
              "\n",
              "    [theme=dark] .colab-df-convert {\n",
              "      background-color: #3B4455;\n",
              "      fill: #D2E3FC;\n",
              "    }\n",
              "\n",
              "    [theme=dark] .colab-df-convert:hover {\n",
              "      background-color: #434B5C;\n",
              "      box-shadow: 0px 1px 3px 1px rgba(0, 0, 0, 0.15);\n",
              "      filter: drop-shadow(0px 1px 2px rgba(0, 0, 0, 0.3));\n",
              "      fill: #FFFFFF;\n",
              "    }\n",
              "  </style>\n",
              "\n",
              "      <script>\n",
              "        const buttonEl =\n",
              "          document.querySelector('#df-98b691f8-14f8-4588-b8fe-d2c6b5730ff6 button.colab-df-convert');\n",
              "        buttonEl.style.display =\n",
              "          google.colab.kernel.accessAllowed ? 'block' : 'none';\n",
              "\n",
              "        async function convertToInteractive(key) {\n",
              "          const element = document.querySelector('#df-98b691f8-14f8-4588-b8fe-d2c6b5730ff6');\n",
              "          const dataTable =\n",
              "            await google.colab.kernel.invokeFunction('convertToInteractive',\n",
              "                                                     [key], {});\n",
              "          if (!dataTable) return;\n",
              "\n",
              "          const docLinkHtml = 'Like what you see? Visit the ' +\n",
              "            '<a target=\"_blank\" href=https://colab.research.google.com/notebooks/data_table.ipynb>data table notebook</a>'\n",
              "            + ' to learn more about interactive tables.';\n",
              "          element.innerHTML = '';\n",
              "          dataTable['output_type'] = 'display_data';\n",
              "          await google.colab.output.renderOutput(dataTable, element);\n",
              "          const docLink = document.createElement('div');\n",
              "          docLink.innerHTML = docLinkHtml;\n",
              "          element.appendChild(docLink);\n",
              "        }\n",
              "      </script>\n",
              "    </div>\n",
              "  </div>\n",
              "  "
            ]
          },
          "metadata": {},
          "execution_count": 207
        }
      ],
      "source": [
        "import pandas as pd\n",
        "\n",
        "pred_y_diff = pd.DataFrame({'Actual Values of Cost':y_test,'Predicted Cost':y_pred,'Difference':y_test-y_pred})\n",
        "xyy=pred_y_diff.Difference.abs()\n",
        "pred_y_diff[0:21]"
      ]
    },
    {
      "cell_type": "code",
      "execution_count": 208,
      "metadata": {
        "colab": {
          "base_uri": "https://localhost:8080/",
          "height": 206
        },
        "id": "oaXo4IIiYi-a",
        "outputId": "940ed7d3-5a54-4471-d842-6a6a2db85734"
      },
      "outputs": [
        {
          "output_type": "execute_result",
          "data": {
            "text/plain": [
              "    Actual Values of Cost  Predicted Cost       MRE\n",
              "8                      84            99.0 -0.178571\n",
              "13                     74            81.5 -0.101351\n",
              "20                     91            99.0 -0.087912\n",
              "1                     202           235.0 -0.163366\n",
              "11                    112            99.0  0.116071"
            ],
            "text/html": [
              "\n",
              "  <div id=\"df-2c085ac5-ad14-4a0f-a740-da8f5c2b71c9\">\n",
              "    <div class=\"colab-df-container\">\n",
              "      <div>\n",
              "<style scoped>\n",
              "    .dataframe tbody tr th:only-of-type {\n",
              "        vertical-align: middle;\n",
              "    }\n",
              "\n",
              "    .dataframe tbody tr th {\n",
              "        vertical-align: top;\n",
              "    }\n",
              "\n",
              "    .dataframe thead th {\n",
              "        text-align: right;\n",
              "    }\n",
              "</style>\n",
              "<table border=\"1\" class=\"dataframe\">\n",
              "  <thead>\n",
              "    <tr style=\"text-align: right;\">\n",
              "      <th></th>\n",
              "      <th>Actual Values of Cost</th>\n",
              "      <th>Predicted Cost</th>\n",
              "      <th>MRE</th>\n",
              "    </tr>\n",
              "  </thead>\n",
              "  <tbody>\n",
              "    <tr>\n",
              "      <th>8</th>\n",
              "      <td>84</td>\n",
              "      <td>99.0</td>\n",
              "      <td>-0.178571</td>\n",
              "    </tr>\n",
              "    <tr>\n",
              "      <th>13</th>\n",
              "      <td>74</td>\n",
              "      <td>81.5</td>\n",
              "      <td>-0.101351</td>\n",
              "    </tr>\n",
              "    <tr>\n",
              "      <th>20</th>\n",
              "      <td>91</td>\n",
              "      <td>99.0</td>\n",
              "      <td>-0.087912</td>\n",
              "    </tr>\n",
              "    <tr>\n",
              "      <th>1</th>\n",
              "      <td>202</td>\n",
              "      <td>235.0</td>\n",
              "      <td>-0.163366</td>\n",
              "    </tr>\n",
              "    <tr>\n",
              "      <th>11</th>\n",
              "      <td>112</td>\n",
              "      <td>99.0</td>\n",
              "      <td>0.116071</td>\n",
              "    </tr>\n",
              "  </tbody>\n",
              "</table>\n",
              "</div>\n",
              "      <button class=\"colab-df-convert\" onclick=\"convertToInteractive('df-2c085ac5-ad14-4a0f-a740-da8f5c2b71c9')\"\n",
              "              title=\"Convert this dataframe to an interactive table.\"\n",
              "              style=\"display:none;\">\n",
              "        \n",
              "  <svg xmlns=\"http://www.w3.org/2000/svg\" height=\"24px\"viewBox=\"0 0 24 24\"\n",
              "       width=\"24px\">\n",
              "    <path d=\"M0 0h24v24H0V0z\" fill=\"none\"/>\n",
              "    <path d=\"M18.56 5.44l.94 2.06.94-2.06 2.06-.94-2.06-.94-.94-2.06-.94 2.06-2.06.94zm-11 1L8.5 8.5l.94-2.06 2.06-.94-2.06-.94L8.5 2.5l-.94 2.06-2.06.94zm10 10l.94 2.06.94-2.06 2.06-.94-2.06-.94-.94-2.06-.94 2.06-2.06.94z\"/><path d=\"M17.41 7.96l-1.37-1.37c-.4-.4-.92-.59-1.43-.59-.52 0-1.04.2-1.43.59L10.3 9.45l-7.72 7.72c-.78.78-.78 2.05 0 2.83L4 21.41c.39.39.9.59 1.41.59.51 0 1.02-.2 1.41-.59l7.78-7.78 2.81-2.81c.8-.78.8-2.07 0-2.86zM5.41 20L4 18.59l7.72-7.72 1.47 1.35L5.41 20z\"/>\n",
              "  </svg>\n",
              "      </button>\n",
              "      \n",
              "  <style>\n",
              "    .colab-df-container {\n",
              "      display:flex;\n",
              "      flex-wrap:wrap;\n",
              "      gap: 12px;\n",
              "    }\n",
              "\n",
              "    .colab-df-convert {\n",
              "      background-color: #E8F0FE;\n",
              "      border: none;\n",
              "      border-radius: 50%;\n",
              "      cursor: pointer;\n",
              "      display: none;\n",
              "      fill: #1967D2;\n",
              "      height: 32px;\n",
              "      padding: 0 0 0 0;\n",
              "      width: 32px;\n",
              "    }\n",
              "\n",
              "    .colab-df-convert:hover {\n",
              "      background-color: #E2EBFA;\n",
              "      box-shadow: 0px 1px 2px rgba(60, 64, 67, 0.3), 0px 1px 3px 1px rgba(60, 64, 67, 0.15);\n",
              "      fill: #174EA6;\n",
              "    }\n",
              "\n",
              "    [theme=dark] .colab-df-convert {\n",
              "      background-color: #3B4455;\n",
              "      fill: #D2E3FC;\n",
              "    }\n",
              "\n",
              "    [theme=dark] .colab-df-convert:hover {\n",
              "      background-color: #434B5C;\n",
              "      box-shadow: 0px 1px 3px 1px rgba(0, 0, 0, 0.15);\n",
              "      filter: drop-shadow(0px 1px 2px rgba(0, 0, 0, 0.3));\n",
              "      fill: #FFFFFF;\n",
              "    }\n",
              "  </style>\n",
              "\n",
              "      <script>\n",
              "        const buttonEl =\n",
              "          document.querySelector('#df-2c085ac5-ad14-4a0f-a740-da8f5c2b71c9 button.colab-df-convert');\n",
              "        buttonEl.style.display =\n",
              "          google.colab.kernel.accessAllowed ? 'block' : 'none';\n",
              "\n",
              "        async function convertToInteractive(key) {\n",
              "          const element = document.querySelector('#df-2c085ac5-ad14-4a0f-a740-da8f5c2b71c9');\n",
              "          const dataTable =\n",
              "            await google.colab.kernel.invokeFunction('convertToInteractive',\n",
              "                                                     [key], {});\n",
              "          if (!dataTable) return;\n",
              "\n",
              "          const docLinkHtml = 'Like what you see? Visit the ' +\n",
              "            '<a target=\"_blank\" href=https://colab.research.google.com/notebooks/data_table.ipynb>data table notebook</a>'\n",
              "            + ' to learn more about interactive tables.';\n",
              "          element.innerHTML = '';\n",
              "          dataTable['output_type'] = 'display_data';\n",
              "          await google.colab.output.renderOutput(dataTable, element);\n",
              "          const docLink = document.createElement('div');\n",
              "          docLink.innerHTML = docLinkHtml;\n",
              "          element.appendChild(docLink);\n",
              "        }\n",
              "      </script>\n",
              "    </div>\n",
              "  </div>\n",
              "  "
            ]
          },
          "metadata": {},
          "execution_count": 208
        }
      ],
      "source": [
        "pred_mre = pd.DataFrame({'Actual Values of Cost':y_test,'Predicted Cost':y_pred,'MRE':(y_test-y_pred)/y_test})\n",
        "\n",
        "\n",
        "pred_mre[0:21]"
      ]
    },
    {
      "cell_type": "markdown",
      "metadata": {
        "id": "CCWxo5JClMQL"
      },
      "source": [
        "----------------------------"
      ]
    },
    {
      "cell_type": "markdown",
      "metadata": {
        "id": "86adLKC83Yxt"
      },
      "source": [
        "Decision Tree Implementation"
      ]
    },
    {
      "cell_type": "markdown",
      "metadata": {
        "id": "5oseIRB9gJrB"
      },
      "source": [
        "## Decision Tree Implementation "
      ]
    },
    {
      "cell_type": "code",
      "execution_count": 209,
      "metadata": {
        "colab": {
          "base_uri": "https://localhost:8080/",
          "height": 270
        },
        "id": "AQQvoYbjgICx",
        "outputId": "c9ed88ba-c06d-4266-88c8-78896c8e11d1"
      },
      "outputs": [
        {
          "output_type": "execute_result",
          "data": {
            "text/plain": [
              "   Effort   Vi      D    V  Sprint_Size  Work_days  Team_Salary  Act_Time  \\\n",
              "0     156  4.2  0.687  2.7           10         22       230000        63   \n",
              "1     202  3.7  0.701  2.5           10         21       260000        92   \n",
              "2     173  4.0  0.878  3.3           10         22       250000        56   \n",
              "3     331  4.5  0.886  3.8           10         22       300000        86   \n",
              "4     124  4.9  0.903  4.2           10         22       300000        32   \n",
              "\n",
              "   Actual_Cost  \n",
              "0      1200000  \n",
              "1      1600000  \n",
              "2      1000000  \n",
              "3      2100000  \n",
              "4       750000  "
            ],
            "text/html": [
              "\n",
              "  <div id=\"df-af3fffb5-494e-4655-817d-a7b9527f01ac\">\n",
              "    <div class=\"colab-df-container\">\n",
              "      <div>\n",
              "<style scoped>\n",
              "    .dataframe tbody tr th:only-of-type {\n",
              "        vertical-align: middle;\n",
              "    }\n",
              "\n",
              "    .dataframe tbody tr th {\n",
              "        vertical-align: top;\n",
              "    }\n",
              "\n",
              "    .dataframe thead th {\n",
              "        text-align: right;\n",
              "    }\n",
              "</style>\n",
              "<table border=\"1\" class=\"dataframe\">\n",
              "  <thead>\n",
              "    <tr style=\"text-align: right;\">\n",
              "      <th></th>\n",
              "      <th>Effort</th>\n",
              "      <th>Vi</th>\n",
              "      <th>D</th>\n",
              "      <th>V</th>\n",
              "      <th>Sprint_Size</th>\n",
              "      <th>Work_days</th>\n",
              "      <th>Team_Salary</th>\n",
              "      <th>Act_Time</th>\n",
              "      <th>Actual_Cost</th>\n",
              "    </tr>\n",
              "  </thead>\n",
              "  <tbody>\n",
              "    <tr>\n",
              "      <th>0</th>\n",
              "      <td>156</td>\n",
              "      <td>4.2</td>\n",
              "      <td>0.687</td>\n",
              "      <td>2.7</td>\n",
              "      <td>10</td>\n",
              "      <td>22</td>\n",
              "      <td>230000</td>\n",
              "      <td>63</td>\n",
              "      <td>1200000</td>\n",
              "    </tr>\n",
              "    <tr>\n",
              "      <th>1</th>\n",
              "      <td>202</td>\n",
              "      <td>3.7</td>\n",
              "      <td>0.701</td>\n",
              "      <td>2.5</td>\n",
              "      <td>10</td>\n",
              "      <td>21</td>\n",
              "      <td>260000</td>\n",
              "      <td>92</td>\n",
              "      <td>1600000</td>\n",
              "    </tr>\n",
              "    <tr>\n",
              "      <th>2</th>\n",
              "      <td>173</td>\n",
              "      <td>4.0</td>\n",
              "      <td>0.878</td>\n",
              "      <td>3.3</td>\n",
              "      <td>10</td>\n",
              "      <td>22</td>\n",
              "      <td>250000</td>\n",
              "      <td>56</td>\n",
              "      <td>1000000</td>\n",
              "    </tr>\n",
              "    <tr>\n",
              "      <th>3</th>\n",
              "      <td>331</td>\n",
              "      <td>4.5</td>\n",
              "      <td>0.886</td>\n",
              "      <td>3.8</td>\n",
              "      <td>10</td>\n",
              "      <td>22</td>\n",
              "      <td>300000</td>\n",
              "      <td>86</td>\n",
              "      <td>2100000</td>\n",
              "    </tr>\n",
              "    <tr>\n",
              "      <th>4</th>\n",
              "      <td>124</td>\n",
              "      <td>4.9</td>\n",
              "      <td>0.903</td>\n",
              "      <td>4.2</td>\n",
              "      <td>10</td>\n",
              "      <td>22</td>\n",
              "      <td>300000</td>\n",
              "      <td>32</td>\n",
              "      <td>750000</td>\n",
              "    </tr>\n",
              "  </tbody>\n",
              "</table>\n",
              "</div>\n",
              "      <button class=\"colab-df-convert\" onclick=\"convertToInteractive('df-af3fffb5-494e-4655-817d-a7b9527f01ac')\"\n",
              "              title=\"Convert this dataframe to an interactive table.\"\n",
              "              style=\"display:none;\">\n",
              "        \n",
              "  <svg xmlns=\"http://www.w3.org/2000/svg\" height=\"24px\"viewBox=\"0 0 24 24\"\n",
              "       width=\"24px\">\n",
              "    <path d=\"M0 0h24v24H0V0z\" fill=\"none\"/>\n",
              "    <path d=\"M18.56 5.44l.94 2.06.94-2.06 2.06-.94-2.06-.94-.94-2.06-.94 2.06-2.06.94zm-11 1L8.5 8.5l.94-2.06 2.06-.94-2.06-.94L8.5 2.5l-.94 2.06-2.06.94zm10 10l.94 2.06.94-2.06 2.06-.94-2.06-.94-.94-2.06-.94 2.06-2.06.94z\"/><path d=\"M17.41 7.96l-1.37-1.37c-.4-.4-.92-.59-1.43-.59-.52 0-1.04.2-1.43.59L10.3 9.45l-7.72 7.72c-.78.78-.78 2.05 0 2.83L4 21.41c.39.39.9.59 1.41.59.51 0 1.02-.2 1.41-.59l7.78-7.78 2.81-2.81c.8-.78.8-2.07 0-2.86zM5.41 20L4 18.59l7.72-7.72 1.47 1.35L5.41 20z\"/>\n",
              "  </svg>\n",
              "      </button>\n",
              "      \n",
              "  <style>\n",
              "    .colab-df-container {\n",
              "      display:flex;\n",
              "      flex-wrap:wrap;\n",
              "      gap: 12px;\n",
              "    }\n",
              "\n",
              "    .colab-df-convert {\n",
              "      background-color: #E8F0FE;\n",
              "      border: none;\n",
              "      border-radius: 50%;\n",
              "      cursor: pointer;\n",
              "      display: none;\n",
              "      fill: #1967D2;\n",
              "      height: 32px;\n",
              "      padding: 0 0 0 0;\n",
              "      width: 32px;\n",
              "    }\n",
              "\n",
              "    .colab-df-convert:hover {\n",
              "      background-color: #E2EBFA;\n",
              "      box-shadow: 0px 1px 2px rgba(60, 64, 67, 0.3), 0px 1px 3px 1px rgba(60, 64, 67, 0.15);\n",
              "      fill: #174EA6;\n",
              "    }\n",
              "\n",
              "    [theme=dark] .colab-df-convert {\n",
              "      background-color: #3B4455;\n",
              "      fill: #D2E3FC;\n",
              "    }\n",
              "\n",
              "    [theme=dark] .colab-df-convert:hover {\n",
              "      background-color: #434B5C;\n",
              "      box-shadow: 0px 1px 3px 1px rgba(0, 0, 0, 0.15);\n",
              "      filter: drop-shadow(0px 1px 2px rgba(0, 0, 0, 0.3));\n",
              "      fill: #FFFFFF;\n",
              "    }\n",
              "  </style>\n",
              "\n",
              "      <script>\n",
              "        const buttonEl =\n",
              "          document.querySelector('#df-af3fffb5-494e-4655-817d-a7b9527f01ac button.colab-df-convert');\n",
              "        buttonEl.style.display =\n",
              "          google.colab.kernel.accessAllowed ? 'block' : 'none';\n",
              "\n",
              "        async function convertToInteractive(key) {\n",
              "          const element = document.querySelector('#df-af3fffb5-494e-4655-817d-a7b9527f01ac');\n",
              "          const dataTable =\n",
              "            await google.colab.kernel.invokeFunction('convertToInteractive',\n",
              "                                                     [key], {});\n",
              "          if (!dataTable) return;\n",
              "\n",
              "          const docLinkHtml = 'Like what you see? Visit the ' +\n",
              "            '<a target=\"_blank\" href=https://colab.research.google.com/notebooks/data_table.ipynb>data table notebook</a>'\n",
              "            + ' to learn more about interactive tables.';\n",
              "          element.innerHTML = '';\n",
              "          dataTable['output_type'] = 'display_data';\n",
              "          await google.colab.output.renderOutput(dataTable, element);\n",
              "          const docLink = document.createElement('div');\n",
              "          docLink.innerHTML = docLinkHtml;\n",
              "          element.appendChild(docLink);\n",
              "        }\n",
              "      </script>\n",
              "    </div>\n",
              "  </div>\n",
              "  "
            ]
          },
          "metadata": {},
          "execution_count": 209
        }
      ],
      "source": [
        "data_read.head()"
      ]
    },
    {
      "cell_type": "code",
      "execution_count": 210,
      "metadata": {
        "colab": {
          "base_uri": "https://localhost:8080/"
        },
        "id": "4v0RFhlXlQT5",
        "outputId": "176efb46-1ad2-4cdb-cc76-0b59f9e0c742"
      },
      "outputs": [
        {
          "output_type": "execute_result",
          "data": {
            "text/plain": [
              "(21, 8)"
            ]
          },
          "metadata": {},
          "execution_count": 210
        }
      ],
      "source": [
        "#Now to Prepare the Input and Output Features\n",
        "X= data_read.drop(['Effort'],axis=1)\n",
        "X.shape"
      ]
    },
    {
      "cell_type": "code",
      "execution_count": 211,
      "metadata": {
        "id": "AzRe_yB8mbev"
      },
      "outputs": [],
      "source": [
        "#Splitting the dataset into Trainingfset and test set\n",
        "\n",
        "#Splitting the dataset\n",
        "X_train,X_test,y_train,y_test = train_test_split(Cat_1,Cat_2, test_size=0.20 ,random_state=0)\n"
      ]
    },
    {
      "cell_type": "code",
      "execution_count": 212,
      "metadata": {
        "id": "bDmoXMWDnT1i"
      },
      "outputs": [],
      "source": [
        "from sklearn.tree import DecisionTreeRegressor\n",
        "from sklearn.model_selection import train_test_split\n",
        "import pandas as pd\n",
        "#Creating and Fitting the model\n",
        "regressor1 = DecisionTreeRegressor().fit(X_train,y_train)"
      ]
    },
    {
      "cell_type": "code",
      "execution_count": 213,
      "metadata": {
        "id": "wE5QYOZRntm8"
      },
      "outputs": [],
      "source": []
    },
    {
      "cell_type": "code",
      "execution_count": 214,
      "metadata": {
        "id": "YzkecUyJo3B5"
      },
      "outputs": [],
      "source": [
        "# For the training model EVALUATION\n",
        "from  sklearn.metrics import mean_absolute_error , mean_squared_error, explained_variance_score , r2_score"
      ]
    },
    {
      "cell_type": "code",
      "execution_count": 215,
      "metadata": {
        "id": "oSTfOuIjoDoP"
      },
      "outputs": [],
      "source": [
        "#prediction on the training Dataset\n",
        "y_train_pred = regressor1.predict(X_train)\n",
        "y_test_pred_dt = regressor1.predict(X_test)\n",
        "\n"
      ]
    },
    {
      "cell_type": "code",
      "execution_count": 217,
      "metadata": {
        "id": "YGpfe7bOrWs2"
      },
      "outputs": [],
      "source": [
        "# For the training model EVALUATION\n",
        "from  sklearn.metrics import mean_absolute_error , mean_squared_error, explained_variance_score , r2_score"
      ]
    },
    {
      "cell_type": "code",
      "execution_count": 218,
      "metadata": {
        "colab": {
          "base_uri": "https://localhost:8080/"
        },
        "id": "bJZV9cB2rkWA",
        "outputId": "aa604535-7829-4f50-97d7-acd7d9fb54b7"
      },
      "outputs": [
        {
          "output_type": "stream",
          "name": "stdout",
          "text": [
            "The r Score on the predictrd trained Set: 0.66\n",
            "MMRE 0.03379698951481129\n",
            "MdMRE 0.032432432432432434\n",
            "PRED 25% 100.0\n",
            "PRED MMRE 60.0\n",
            "Model Accuracy 91.81923363144162\n"
          ]
        }
      ],
      "source": [
        "# The r_sq\n",
        "print('The r Score on the predictrd trained Set: %.2f'% r2_score(y_test,y_test_pred_dt))\n",
        "\n",
        "diff=np.absolute(y_test-y_test_pred_dt)\n",
        "MRE=(diff/y_test)/MRE.size\n",
        "MMRE=np.mean(MRE)\n",
        "MdMRE=np.median(MRE)\n",
        "P=MRE[MRE<.25]\n",
        "P2=MRE[MRE<MMRE]\n",
        "\n",
        "Pred2=(P2.size/MRE.size) * 100\n",
        "Pred=(P.size/MRE.size) * 100\n",
        "print(\"MMRE\",MMRE)\n",
        "print(\"MdMRE\",MdMRE)\n",
        "print(\"PRED 25%\",Pred)\n",
        "print(\"PRED MMRE\",Pred2)\n",
        "print(\"Model Accuracy\",Accuracy)\n"
      ]
    },
    {
      "cell_type": "code",
      "execution_count": 219,
      "metadata": {
        "colab": {
          "base_uri": "https://localhost:8080/",
          "height": 499
        },
        "id": "f9r28Y3hQV2l",
        "outputId": "2601b5be-d14d-4ca8-f932-14a46d9b82d0"
      },
      "outputs": [
        {
          "output_type": "execute_result",
          "data": {
            "text/plain": [
              "<function matplotlib.pyplot.show(close=None, block=None)>"
            ]
          },
          "metadata": {},
          "execution_count": 219
        },
        {
          "output_type": "display_data",
          "data": {
            "text/plain": [
              "<Figure size 1000x600 with 1 Axes>"
            ],
            "image/png": "[encoded data removed]"
          },
          "metadata": {}
        }
      ],
      "source": [
        "# plotting the observed and predicted values \n",
        "\n",
        "\n",
        "# Setting the boundaries and parameters\n",
        "\n",
        "plt.rcParams['figure.figsize'] = (10,6)\n",
        "x_ax =range(len(X_test))\n",
        "#x_ax2 =range(len(y_test))\n",
        "#plotting \n",
        "plt.plot(x_ax, y_test , label='Actual Observed Value', color='yellow',linestyle='-')\n",
        "plt.plot(x_ax,y_test_pred_dt , label='Predicted values ' , color='red' , linestyle ='--')\n",
        "plt.grid()\n",
        "plt.xlabel('Agile Projects')\n",
        "plt.ylabel('Cost Parameter')\n",
        "plt.title('Effort Prediction witn Decision Tree Regression')\n",
        "plt.legend(bbox_to_anchor =(0.5,-0.2), loc= 'upper center',ncol=2, frameon = True)\n",
        "\n",
        "plt.show"
      ]
    },
    {
      "cell_type": "code",
      "source": [
        "from yellowbrick.model_selection import ValidationCurve\n",
        "\n",
        "\n",
        "\n",
        "# Creating the validation curve\n",
        "import numpy as np\n",
        "visualizer = ValidationCurve(DecisionTreeRegressor(), \n",
        "                             param_name=\"max_depth\", n_jobs=-1,\n",
        "                             param_range=np.arange(1, 22), \n",
        "                             cv=10, scoring=\"accuracy\")\n",
        "\n",
        "visualizer.fit(y_train, y_train_pred)\n",
        "\n",
        "# Saving plot in PNG format\n",
        "visualizer.show(outpath=\"Validation_Curve.png\")"
      ],
      "metadata": {
        "colab": {
          "base_uri": "https://localhost:8080/",
          "height": 451
        },
        "id": "2_3lzxrUiLgC",
        "outputId": "3b262c43-21bc-4ec7-f57d-4f86a8e8e8dc"
      },
      "execution_count": 220,
      "outputs": [
        {
          "output_type": "execute_result",
          "data": {
            "text/plain": [
              "<Axes: title={'center': 'Validation Curve for DecisionTreeRegressor'}, xlabel='max_depth', ylabel='score'>"
            ]
          },
          "metadata": {},
          "execution_count": 220
        },
        {
          "output_type": "display_data",
          "data": {
            "text/plain": [
              "<Figure size 1000x600 with 1 Axes>"
            ],
            "image/png": "[encoded data removed]"
          },
          "metadata": {}
        }
      ]
    },
    {
      "cell_type": "code",
      "execution_count": 221,
      "metadata": {
        "colab": {
          "base_uri": "https://localhost:8080/",
          "height": 206
        },
        "id": "mye5sB4hkdDW",
        "outputId": "1398eb9a-b73c-465b-9f69-3fb10df8061a"
      },
      "outputs": [
        {
          "output_type": "execute_result",
          "data": {
            "text/plain": [
              "    Actual Values of Effort  Predicted Effort       MRE\n",
              "8                        84             101.0 -0.202381\n",
              "13                       74              62.0  0.162162\n",
              "20                       91             101.0 -0.109890\n",
              "1                       202             257.0 -0.272277\n",
              "11                      112             101.0  0.098214"
            ],
            "text/html": [
              "\n",
              "  <div id=\"df-8a2a31eb-1c93-4b4e-a00e-c5793f724112\">\n",
              "    <div class=\"colab-df-container\">\n",
              "      <div>\n",
              "<style scoped>\n",
              "    .dataframe tbody tr th:only-of-type {\n",
              "        vertical-align: middle;\n",
              "    }\n",
              "\n",
              "    .dataframe tbody tr th {\n",
              "        vertical-align: top;\n",
              "    }\n",
              "\n",
              "    .dataframe thead th {\n",
              "        text-align: right;\n",
              "    }\n",
              "</style>\n",
              "<table border=\"1\" class=\"dataframe\">\n",
              "  <thead>\n",
              "    <tr style=\"text-align: right;\">\n",
              "      <th></th>\n",
              "      <th>Actual Values of Effort</th>\n",
              "      <th>Predicted Effort</th>\n",
              "      <th>MRE</th>\n",
              "    </tr>\n",
              "  </thead>\n",
              "  <tbody>\n",
              "    <tr>\n",
              "      <th>8</th>\n",
              "      <td>84</td>\n",
              "      <td>101.0</td>\n",
              "      <td>-0.202381</td>\n",
              "    </tr>\n",
              "    <tr>\n",
              "      <th>13</th>\n",
              "      <td>74</td>\n",
              "      <td>62.0</td>\n",
              "      <td>0.162162</td>\n",
              "    </tr>\n",
              "    <tr>\n",
              "      <th>20</th>\n",
              "      <td>91</td>\n",
              "      <td>101.0</td>\n",
              "      <td>-0.109890</td>\n",
              "    </tr>\n",
              "    <tr>\n",
              "      <th>1</th>\n",
              "      <td>202</td>\n",
              "      <td>257.0</td>\n",
              "      <td>-0.272277</td>\n",
              "    </tr>\n",
              "    <tr>\n",
              "      <th>11</th>\n",
              "      <td>112</td>\n",
              "      <td>101.0</td>\n",
              "      <td>0.098214</td>\n",
              "    </tr>\n",
              "  </tbody>\n",
              "</table>\n",
              "</div>\n",
              "      <button class=\"colab-df-convert\" onclick=\"convertToInteractive('df-8a2a31eb-1c93-4b4e-a00e-c5793f724112')\"\n",
              "              title=\"Convert this dataframe to an interactive table.\"\n",
              "              style=\"display:none;\">\n",
              "        \n",
              "  <svg xmlns=\"http://www.w3.org/2000/svg\" height=\"24px\"viewBox=\"0 0 24 24\"\n",
              "       width=\"24px\">\n",
              "    <path d=\"M0 0h24v24H0V0z\" fill=\"none\"/>\n",
              "    <path d=\"M18.56 5.44l.94 2.06.94-2.06 2.06-.94-2.06-.94-.94-2.06-.94 2.06-2.06.94zm-11 1L8.5 8.5l.94-2.06 2.06-.94-2.06-.94L8.5 2.5l-.94 2.06-2.06.94zm10 10l.94 2.06.94-2.06 2.06-.94-2.06-.94-.94-2.06-.94 2.06-2.06.94z\"/><path d=\"M17.41 7.96l-1.37-1.37c-.4-.4-.92-.59-1.43-.59-.52 0-1.04.2-1.43.59L10.3 9.45l-7.72 7.72c-.78.78-.78 2.05 0 2.83L4 21.41c.39.39.9.59 1.41.59.51 0 1.02-.2 1.41-.59l7.78-7.78 2.81-2.81c.8-.78.8-2.07 0-2.86zM5.41 20L4 18.59l7.72-7.72 1.47 1.35L5.41 20z\"/>\n",
              "  </svg>\n",
              "      </button>\n",
              "      \n",
              "  <style>\n",
              "    .colab-df-container {\n",
              "      display:flex;\n",
              "      flex-wrap:wrap;\n",
              "      gap: 12px;\n",
              "    }\n",
              "\n",
              "    .colab-df-convert {\n",
              "      background-color: #E8F0FE;\n",
              "      border: none;\n",
              "      border-radius: 50%;\n",
              "      cursor: pointer;\n",
              "      display: none;\n",
              "      fill: #1967D2;\n",
              "      height: 32px;\n",
              "      padding: 0 0 0 0;\n",
              "      width: 32px;\n",
              "    }\n",
              "\n",
              "    .colab-df-convert:hover {\n",
              "      background-color: #E2EBFA;\n",
              "      box-shadow: 0px 1px 2px rgba(60, 64, 67, 0.3), 0px 1px 3px 1px rgba(60, 64, 67, 0.15);\n",
              "      fill: #174EA6;\n",
              "    }\n",
              "\n",
              "    [theme=dark] .colab-df-convert {\n",
              "      background-color: #3B4455;\n",
              "      fill: #D2E3FC;\n",
              "    }\n",
              "\n",
              "    [theme=dark] .colab-df-convert:hover {\n",
              "      background-color: #434B5C;\n",
              "      box-shadow: 0px 1px 3px 1px rgba(0, 0, 0, 0.15);\n",
              "      filter: drop-shadow(0px 1px 2px rgba(0, 0, 0, 0.3));\n",
              "      fill: #FFFFFF;\n",
              "    }\n",
              "  </style>\n",
              "\n",
              "      <script>\n",
              "        const buttonEl =\n",
              "          document.querySelector('#df-8a2a31eb-1c93-4b4e-a00e-c5793f724112 button.colab-df-convert');\n",
              "        buttonEl.style.display =\n",
              "          google.colab.kernel.accessAllowed ? 'block' : 'none';\n",
              "\n",
              "        async function convertToInteractive(key) {\n",
              "          const element = document.querySelector('#df-8a2a31eb-1c93-4b4e-a00e-c5793f724112');\n",
              "          const dataTable =\n",
              "            await google.colab.kernel.invokeFunction('convertToInteractive',\n",
              "                                                     [key], {});\n",
              "          if (!dataTable) return;\n",
              "\n",
              "          const docLinkHtml = 'Like what you see? Visit the ' +\n",
              "            '<a target=\"_blank\" href=https://colab.research.google.com/notebooks/data_table.ipynb>data table notebook</a>'\n",
              "            + ' to learn more about interactive tables.';\n",
              "          element.innerHTML = '';\n",
              "          dataTable['output_type'] = 'display_data';\n",
              "          await google.colab.output.renderOutput(dataTable, element);\n",
              "          const docLink = document.createElement('div');\n",
              "          docLink.innerHTML = docLinkHtml;\n",
              "          element.appendChild(docLink);\n",
              "        }\n",
              "      </script>\n",
              "    </div>\n",
              "  </div>\n",
              "  "
            ]
          },
          "metadata": {},
          "execution_count": 221
        }
      ],
      "source": [
        "pred_mre = pd.DataFrame({'Actual Values of Effort':y_test,'Predicted Effort':y_test_pred_dt,'MRE':(y_test-y_test_pred_dt)/y_test})\n",
        "#rel=(xyy/5)\n",
        "#print(sum(rel)/5)\n",
        "pred_mre[0:21]"
      ]
    },
    {
      "cell_type": "markdown",
      "metadata": {
        "id": "0vCgKq63i8Eg"
      },
      "source": []
    },
    {
      "cell_type": "code",
      "execution_count": 222,
      "metadata": {
        "colab": {
          "base_uri": "https://localhost:8080/",
          "height": 206
        },
        "id": "XpqelMtISdhw",
        "outputId": "e50bd474-8a62-4329-8722-0c35e40ba705"
      },
      "outputs": [
        {
          "output_type": "execute_result",
          "data": {
            "text/plain": [
              "    Actual Values of Effort  Predicted Effort  Difference\n",
              "8                        84             101.0       -17.0\n",
              "13                       74              62.0        12.0\n",
              "20                       91             101.0       -10.0\n",
              "1                       202             257.0       -55.0\n",
              "11                      112             101.0        11.0"
            ],
            "text/html": [
              "\n",
              "  <div id=\"df-2f2e984a-1cbf-4c2a-a2b0-5b1d2257947d\">\n",
              "    <div class=\"colab-df-container\">\n",
              "      <div>\n",
              "<style scoped>\n",
              "    .dataframe tbody tr th:only-of-type {\n",
              "        vertical-align: middle;\n",
              "    }\n",
              "\n",
              "    .dataframe tbody tr th {\n",
              "        vertical-align: top;\n",
              "    }\n",
              "\n",
              "    .dataframe thead th {\n",
              "        text-align: right;\n",
              "    }\n",
              "</style>\n",
              "<table border=\"1\" class=\"dataframe\">\n",
              "  <thead>\n",
              "    <tr style=\"text-align: right;\">\n",
              "      <th></th>\n",
              "      <th>Actual Values of Effort</th>\n",
              "      <th>Predicted Effort</th>\n",
              "      <th>Difference</th>\n",
              "    </tr>\n",
              "  </thead>\n",
              "  <tbody>\n",
              "    <tr>\n",
              "      <th>8</th>\n",
              "      <td>84</td>\n",
              "      <td>101.0</td>\n",
              "      <td>-17.0</td>\n",
              "    </tr>\n",
              "    <tr>\n",
              "      <th>13</th>\n",
              "      <td>74</td>\n",
              "      <td>62.0</td>\n",
              "      <td>12.0</td>\n",
              "    </tr>\n",
              "    <tr>\n",
              "      <th>20</th>\n",
              "      <td>91</td>\n",
              "      <td>101.0</td>\n",
              "      <td>-10.0</td>\n",
              "    </tr>\n",
              "    <tr>\n",
              "      <th>1</th>\n",
              "      <td>202</td>\n",
              "      <td>257.0</td>\n",
              "      <td>-55.0</td>\n",
              "    </tr>\n",
              "    <tr>\n",
              "      <th>11</th>\n",
              "      <td>112</td>\n",
              "      <td>101.0</td>\n",
              "      <td>11.0</td>\n",
              "    </tr>\n",
              "  </tbody>\n",
              "</table>\n",
              "</div>\n",
              "      <button class=\"colab-df-convert\" onclick=\"convertToInteractive('df-2f2e984a-1cbf-4c2a-a2b0-5b1d2257947d')\"\n",
              "              title=\"Convert this dataframe to an interactive table.\"\n",
              "              style=\"display:none;\">\n",
              "        \n",
              "  <svg xmlns=\"http://www.w3.org/2000/svg\" height=\"24px\"viewBox=\"0 0 24 24\"\n",
              "       width=\"24px\">\n",
              "    <path d=\"M0 0h24v24H0V0z\" fill=\"none\"/>\n",
              "    <path d=\"M18.56 5.44l.94 2.06.94-2.06 2.06-.94-2.06-.94-.94-2.06-.94 2.06-2.06.94zm-11 1L8.5 8.5l.94-2.06 2.06-.94-2.06-.94L8.5 2.5l-.94 2.06-2.06.94zm10 10l.94 2.06.94-2.06 2.06-.94-2.06-.94-.94-2.06-.94 2.06-2.06.94z\"/><path d=\"M17.41 7.96l-1.37-1.37c-.4-.4-.92-.59-1.43-.59-.52 0-1.04.2-1.43.59L10.3 9.45l-7.72 7.72c-.78.78-.78 2.05 0 2.83L4 21.41c.39.39.9.59 1.41.59.51 0 1.02-.2 1.41-.59l7.78-7.78 2.81-2.81c.8-.78.8-2.07 0-2.86zM5.41 20L4 18.59l7.72-7.72 1.47 1.35L5.41 20z\"/>\n",
              "  </svg>\n",
              "      </button>\n",
              "      \n",
              "  <style>\n",
              "    .colab-df-container {\n",
              "      display:flex;\n",
              "      flex-wrap:wrap;\n",
              "      gap: 12px;\n",
              "    }\n",
              "\n",
              "    .colab-df-convert {\n",
              "      background-color: #E8F0FE;\n",
              "      border: none;\n",
              "      border-radius: 50%;\n",
              "      cursor: pointer;\n",
              "      display: none;\n",
              "      fill: #1967D2;\n",
              "      height: 32px;\n",
              "      padding: 0 0 0 0;\n",
              "      width: 32px;\n",
              "    }\n",
              "\n",
              "    .colab-df-convert:hover {\n",
              "      background-color: #E2EBFA;\n",
              "      box-shadow: 0px 1px 2px rgba(60, 64, 67, 0.3), 0px 1px 3px 1px rgba(60, 64, 67, 0.15);\n",
              "      fill: #174EA6;\n",
              "    }\n",
              "\n",
              "    [theme=dark] .colab-df-convert {\n",
              "      background-color: #3B4455;\n",
              "      fill: #D2E3FC;\n",
              "    }\n",
              "\n",
              "    [theme=dark] .colab-df-convert:hover {\n",
              "      background-color: #434B5C;\n",
              "      box-shadow: 0px 1px 3px 1px rgba(0, 0, 0, 0.15);\n",
              "      filter: drop-shadow(0px 1px 2px rgba(0, 0, 0, 0.3));\n",
              "      fill: #FFFFFF;\n",
              "    }\n",
              "  </style>\n",
              "\n",
              "      <script>\n",
              "        const buttonEl =\n",
              "          document.querySelector('#df-2f2e984a-1cbf-4c2a-a2b0-5b1d2257947d button.colab-df-convert');\n",
              "        buttonEl.style.display =\n",
              "          google.colab.kernel.accessAllowed ? 'block' : 'none';\n",
              "\n",
              "        async function convertToInteractive(key) {\n",
              "          const element = document.querySelector('#df-2f2e984a-1cbf-4c2a-a2b0-5b1d2257947d');\n",
              "          const dataTable =\n",
              "            await google.colab.kernel.invokeFunction('convertToInteractive',\n",
              "                                                     [key], {});\n",
              "          if (!dataTable) return;\n",
              "\n",
              "          const docLinkHtml = 'Like what you see? Visit the ' +\n",
              "            '<a target=\"_blank\" href=https://colab.research.google.com/notebooks/data_table.ipynb>data table notebook</a>'\n",
              "            + ' to learn more about interactive tables.';\n",
              "          element.innerHTML = '';\n",
              "          dataTable['output_type'] = 'display_data';\n",
              "          await google.colab.output.renderOutput(dataTable, element);\n",
              "          const docLink = document.createElement('div');\n",
              "          docLink.innerHTML = docLinkHtml;\n",
              "          element.appendChild(docLink);\n",
              "        }\n",
              "      </script>\n",
              "    </div>\n",
              "  </div>\n",
              "  "
            ]
          },
          "metadata": {},
          "execution_count": 222
        }
      ],
      "source": [
        "import pandas as pd\n",
        "pred_y_diff = pd.DataFrame({'Actual Values of Effort':y_test,'Predicted Effort':y_test_pred_dt,'Difference':y_test-y_test_pred_dt})\n",
        "\n",
        "pred_y_diff[0:21]"
      ]
    },
    {
      "cell_type": "code",
      "execution_count": 223,
      "metadata": {
        "id": "fJeqxV19fax7"
      },
      "outputs": [],
      "source": [
        "#@title Random Forest Regresssor Implementation\n",
        "from sklearn.model_selection  import train_test_split\n",
        "X_train,X_test,y_train,y_test = train_test_split(Cat_1,Cat_2, test_size=0.20 ,random_state=0)"
      ]
    },
    {
      "cell_type": "code",
      "execution_count": 224,
      "metadata": {
        "id": "70cl5VRGkF0m"
      },
      "outputs": [],
      "source": [
        "from sklearn.ensemble import RandomForestRegressor\n",
        "model2= RandomForestRegressor(n_estimators=30, random_state=30)"
      ]
    },
    {
      "cell_type": "code",
      "execution_count": 225,
      "metadata": {
        "id": "1IkSjieqkrfY"
      },
      "outputs": [],
      "source": [
        "#Fitting the  model \n",
        "LL_rf = model2.fit(X_train,y_train)\n"
      ]
    },
    {
      "cell_type": "code",
      "execution_count": 226,
      "metadata": {
        "id": "cWg9LDnG7yrX"
      },
      "outputs": [],
      "source": [
        "#prediction on testing the data\n",
        "y_test_pred_rf = model2.predict(X_test)"
      ]
    },
    {
      "cell_type": "code",
      "execution_count": 227,
      "metadata": {
        "colab": {
          "base_uri": "https://localhost:8080/"
        },
        "id": "CvcUXMCmlQXO",
        "outputId": "2bdbfcf1-9bcc-4cf0-de86-b9ce026c49f8"
      },
      "outputs": [
        {
          "output_type": "stream",
          "name": "stdout",
          "text": [
            "The Model Score on the predictrd training Set: 0.98\n",
            "r2 Score  0.7232651014191247\n"
          ]
        }
      ],
      "source": [
        "#Training Model Evaluation\n",
        "\n",
        "\n",
        "print('The Model Score on the predictrd training Set: %.2f'% LL_rf.score(X_train,y_train))\n",
        "print('r2 Score ', r2_score(y_test,y_test_pred_rf))"
      ]
    },
    {
      "cell_type": "code",
      "execution_count": 228,
      "metadata": {
        "id": "o_-j_NeZmZIV"
      },
      "outputs": [],
      "source": [
        "# print(\"Mean Squared Error::\",mean_squared_error(y_test,y_test_pred_rf))\n",
        "# print(\"Mean Absolute Error::\",mean_absolute_error(y_test,y_test_pred_rf))\n",
        "# xv= math.sqrt(mean_squared_error(y_test,y_test_pred_rf))\n",
        "# print(\"Root Mean Squared Error::\",xv)"
      ]
    },
    {
      "cell_type": "code",
      "execution_count": 229,
      "metadata": {
        "colab": {
          "base_uri": "https://localhost:8080/",
          "height": 499
        },
        "id": "rfPaPzj4mMYN",
        "outputId": "b795f149-60e1-4a6b-e7b8-d0bed6b2e47d"
      },
      "outputs": [
        {
          "output_type": "execute_result",
          "data": {
            "text/plain": [
              "<matplotlib.legend.Legend at 0x7f463a414e80>"
            ]
          },
          "metadata": {},
          "execution_count": 229
        },
        {
          "output_type": "display_data",
          "data": {
            "text/plain": [
              "<Figure size 1000x600 with 1 Axes>"
            ],
            "image/png": "[encoded data removed]"
          },
          "metadata": {}
        }
      ],
      "source": [
        "# plotting the observed and predicted values \n",
        "\n",
        "\n",
        "# Setting the boundaries and parameters\n",
        "\n",
        "plt.rcParams['figure.figsize'] = (10,6)\n",
        "x_ax =range(len(X_test))\n",
        "\n",
        "#plotting \n",
        "plt.plot(x_ax, y_test , label='Actual Observed Value', color='yellow',linestyle='-')\n",
        "plt.plot(x_ax,y_test_pred_rf , label='Predicted values ' , color='red' , linestyle ='--')\n",
        "plt.grid()\n",
        "plt.xlabel('Agile Projects')\n",
        "plt.ylabel('Cost Parameter')\n",
        "plt.title('Cost Prediction with Random Forest')\n",
        "plt.legend(bbox_to_anchor =(0.5,-0.2), loc= 'upper center',ncol=2, frameon = True)"
      ]
    },
    {
      "cell_type": "code",
      "execution_count": 230,
      "metadata": {
        "colab": {
          "base_uri": "https://localhost:8080/",
          "height": 206
        },
        "id": "sNu3gUwClavx",
        "outputId": "b73e71ca-b323-4bcf-c4e1-7718963116bc"
      },
      "outputs": [
        {
          "output_type": "execute_result",
          "data": {
            "text/plain": [
              "    Actual Values of Cost  Predicted Cost       MRE\n",
              "8                      84       94.000000 -0.119048\n",
              "13                     74       85.533333 -0.155856\n",
              "20                     91       96.766667 -0.063370\n",
              "1                     202      250.000000 -0.237624\n",
              "11                    112       91.766667  0.180655"
            ],
            "text/html": [
              "\n",
              "  <div id=\"df-38ca0f34-4182-4c40-a083-07e701b4e833\">\n",
              "    <div class=\"colab-df-container\">\n",
              "      <div>\n",
              "<style scoped>\n",
              "    .dataframe tbody tr th:only-of-type {\n",
              "        vertical-align: middle;\n",
              "    }\n",
              "\n",
              "    .dataframe tbody tr th {\n",
              "        vertical-align: top;\n",
              "    }\n",
              "\n",
              "    .dataframe thead th {\n",
              "        text-align: right;\n",
              "    }\n",
              "</style>\n",
              "<table border=\"1\" class=\"dataframe\">\n",
              "  <thead>\n",
              "    <tr style=\"text-align: right;\">\n",
              "      <th></th>\n",
              "      <th>Actual Values of Cost</th>\n",
              "      <th>Predicted Cost</th>\n",
              "      <th>MRE</th>\n",
              "    </tr>\n",
              "  </thead>\n",
              "  <tbody>\n",
              "    <tr>\n",
              "      <th>8</th>\n",
              "      <td>84</td>\n",
              "      <td>94.000000</td>\n",
              "      <td>-0.119048</td>\n",
              "    </tr>\n",
              "    <tr>\n",
              "      <th>13</th>\n",
              "      <td>74</td>\n",
              "      <td>85.533333</td>\n",
              "      <td>-0.155856</td>\n",
              "    </tr>\n",
              "    <tr>\n",
              "      <th>20</th>\n",
              "      <td>91</td>\n",
              "      <td>96.766667</td>\n",
              "      <td>-0.063370</td>\n",
              "    </tr>\n",
              "    <tr>\n",
              "      <th>1</th>\n",
              "      <td>202</td>\n",
              "      <td>250.000000</td>\n",
              "      <td>-0.237624</td>\n",
              "    </tr>\n",
              "    <tr>\n",
              "      <th>11</th>\n",
              "      <td>112</td>\n",
              "      <td>91.766667</td>\n",
              "      <td>0.180655</td>\n",
              "    </tr>\n",
              "  </tbody>\n",
              "</table>\n",
              "</div>\n",
              "      <button class=\"colab-df-convert\" onclick=\"convertToInteractive('df-38ca0f34-4182-4c40-a083-07e701b4e833')\"\n",
              "              title=\"Convert this dataframe to an interactive table.\"\n",
              "              style=\"display:none;\">\n",
              "        \n",
              "  <svg xmlns=\"http://www.w3.org/2000/svg\" height=\"24px\"viewBox=\"0 0 24 24\"\n",
              "       width=\"24px\">\n",
              "    <path d=\"M0 0h24v24H0V0z\" fill=\"none\"/>\n",
              "    <path d=\"M18.56 5.44l.94 2.06.94-2.06 2.06-.94-2.06-.94-.94-2.06-.94 2.06-2.06.94zm-11 1L8.5 8.5l.94-2.06 2.06-.94-2.06-.94L8.5 2.5l-.94 2.06-2.06.94zm10 10l.94 2.06.94-2.06 2.06-.94-2.06-.94-.94-2.06-.94 2.06-2.06.94z\"/><path d=\"M17.41 7.96l-1.37-1.37c-.4-.4-.92-.59-1.43-.59-.52 0-1.04.2-1.43.59L10.3 9.45l-7.72 7.72c-.78.78-.78 2.05 0 2.83L4 21.41c.39.39.9.59 1.41.59.51 0 1.02-.2 1.41-.59l7.78-7.78 2.81-2.81c.8-.78.8-2.07 0-2.86zM5.41 20L4 18.59l7.72-7.72 1.47 1.35L5.41 20z\"/>\n",
              "  </svg>\n",
              "      </button>\n",
              "      \n",
              "  <style>\n",
              "    .colab-df-container {\n",
              "      display:flex;\n",
              "      flex-wrap:wrap;\n",
              "      gap: 12px;\n",
              "    }\n",
              "\n",
              "    .colab-df-convert {\n",
              "      background-color: #E8F0FE;\n",
              "      border: none;\n",
              "      border-radius: 50%;\n",
              "      cursor: pointer;\n",
              "      display: none;\n",
              "      fill: #1967D2;\n",
              "      height: 32px;\n",
              "      padding: 0 0 0 0;\n",
              "      width: 32px;\n",
              "    }\n",
              "\n",
              "    .colab-df-convert:hover {\n",
              "      background-color: #E2EBFA;\n",
              "      box-shadow: 0px 1px 2px rgba(60, 64, 67, 0.3), 0px 1px 3px 1px rgba(60, 64, 67, 0.15);\n",
              "      fill: #174EA6;\n",
              "    }\n",
              "\n",
              "    [theme=dark] .colab-df-convert {\n",
              "      background-color: #3B4455;\n",
              "      fill: #D2E3FC;\n",
              "    }\n",
              "\n",
              "    [theme=dark] .colab-df-convert:hover {\n",
              "      background-color: #434B5C;\n",
              "      box-shadow: 0px 1px 3px 1px rgba(0, 0, 0, 0.15);\n",
              "      filter: drop-shadow(0px 1px 2px rgba(0, 0, 0, 0.3));\n",
              "      fill: #FFFFFF;\n",
              "    }\n",
              "  </style>\n",
              "\n",
              "      <script>\n",
              "        const buttonEl =\n",
              "          document.querySelector('#df-38ca0f34-4182-4c40-a083-07e701b4e833 button.colab-df-convert');\n",
              "        buttonEl.style.display =\n",
              "          google.colab.kernel.accessAllowed ? 'block' : 'none';\n",
              "\n",
              "        async function convertToInteractive(key) {\n",
              "          const element = document.querySelector('#df-38ca0f34-4182-4c40-a083-07e701b4e833');\n",
              "          const dataTable =\n",
              "            await google.colab.kernel.invokeFunction('convertToInteractive',\n",
              "                                                     [key], {});\n",
              "          if (!dataTable) return;\n",
              "\n",
              "          const docLinkHtml = 'Like what you see? Visit the ' +\n",
              "            '<a target=\"_blank\" href=https://colab.research.google.com/notebooks/data_table.ipynb>data table notebook</a>'\n",
              "            + ' to learn more about interactive tables.';\n",
              "          element.innerHTML = '';\n",
              "          dataTable['output_type'] = 'display_data';\n",
              "          await google.colab.output.renderOutput(dataTable, element);\n",
              "          const docLink = document.createElement('div');\n",
              "          docLink.innerHTML = docLinkHtml;\n",
              "          element.appendChild(docLink);\n",
              "        }\n",
              "      </script>\n",
              "    </div>\n",
              "  </div>\n",
              "  "
            ]
          },
          "metadata": {},
          "execution_count": 230
        }
      ],
      "source": [
        "pred_mre = pd.DataFrame({'Actual Values of Cost':y_test,'Predicted Cost':y_test_pred_rf,'MRE':(y_test-y_test_pred_rf)/y_test})\n",
        "#rel=(xyy/5)\n",
        "#print(sum(rel)/5)\n",
        "pred_mre[0:21]"
      ]
    },
    {
      "cell_type": "markdown",
      "metadata": {
        "id": "eS3No_HTChNs"
      },
      "source": [
        "Evaluation Parameters"
      ]
    },
    {
      "cell_type": "code",
      "execution_count": 231,
      "metadata": {
        "colab": {
          "base_uri": "https://localhost:8080/"
        },
        "id": "d3HFXFgtlcfF",
        "outputId": "53d42c1e-cb5c-4f42-e0dd-9f1e49ed4e18"
      },
      "outputs": [
        {
          "output_type": "stream",
          "name": "stdout",
          "text": [
            "The r Score on the predictrd trained Set: 0.72\n",
            "MMRE 0.03026207850217751\n",
            "MdMRE 0.031171171171171165\n",
            "PRED 25% 100.0\n",
            "PRED MMRE 60.0\n",
            "Model Accuracy 96.97379214978224\n"
          ]
        }
      ],
      "source": [
        "\n",
        "# The r_sq\n",
        "print('The r Score on the predictrd trained Set: %.2f'% r2_score(y_test,y_test_pred_rf))\n",
        "diff=np.absolute(y_test-y_test_pred_rf)\n",
        "MRE=diff/y_test\n",
        "\n",
        "\n",
        "MRE=(diff/y_test)/MRE.size\n",
        "MMRE=np.mean(MRE)\n",
        "MdMRE=np.median(MRE)\n",
        "P=MRE[MRE<.25]\n",
        "Pred=(P.size/MRE.size) * 100\n",
        "print(\"MMRE\",MMRE)\n",
        "print(\"MdMRE\",MdMRE)\n",
        "print(\"PRED 25%\",Pred)\n",
        "Accuracy=(1-MRE)*100\n",
        "Accuracy=(Accuracy.mean())\n",
        "MRE=(diff/y_test)/MRE.size\n",
        "P2=MRE[MRE<MMRE]\n",
        "print(\"PRED MMRE\",Pred2)\n",
        "print(\"Model Accuracy\",Accuracy)\n",
        "#"
      ]
    },
    {
      "cell_type": "code",
      "execution_count": 232,
      "metadata": {
        "colab": {
          "base_uri": "https://localhost:8080/"
        },
        "id": "BtVrYQ_wwzL7",
        "outputId": "82c08d4a-f218-4d33-8bf3-534a889ed619"
      },
      "outputs": [
        {
          "output_type": "stream",
          "name": "stdout",
          "text": [
            "The r Score on the predictrd test Set: 0.62\n",
            "MMRE 0.039742935460757245\n",
            "MdMRE 0.04047619047619048\n",
            "PRED 25% 100.0\n",
            "PRED MMRE 60.0\n",
            "Model Accuracy 96.02570645392426\n"
          ]
        }
      ],
      "source": [
        "#@title ADA BOOST\n",
        "from sklearn.ensemble import AdaBoostRegressor\n",
        "\n",
        "\n",
        "# Categorical To continious \n",
        "X_train_ada,X_test_ada,y_train_ada,y_test_ada = train_test_split(Cat_1,Cat_2, test_size=0.20, random_state=0)\n",
        "\n",
        "\n",
        "ada = AdaBoostRegressor()\n",
        "ada.fit(X_train_ada,y_train_ada)\n",
        "\n",
        "#clf = svm.SVC()\n",
        "#clf.fit(Cat_1, Cat_2)\n",
        "y_train_pred_ada=ada.predict(X_train_ada)\n",
        "y_pred_ada=ada.predict(X_test_ada)\n",
        "\n",
        "\n",
        "\n",
        "# The r_sq\n",
        "print('The r Score on the predictrd test Set: %.2f'% r2_score(y_test_ada,y_pred_ada))\n",
        "#print('The r Score on the predictrd trained Set: %.2f'% r2_score(y_train_ada,y_train_pred_ada))\n",
        "\n",
        "diff=np.absolute(y_test_ada-y_pred_ada)\n",
        "# MRE=diff/y_test\n",
        "MRE=(diff/y_test)/MRE.size\n",
        "MMRE=np.mean(MRE)\n",
        "MdMRE=np.median(MRE)\n",
        "P=MRE[MRE<.25]\n",
        "Pred=(P.size/MRE.size) * 100\n",
        "print(\"MMRE\",MMRE)\n",
        "print(\"MdMRE\",MdMRE)\n",
        "print(\"PRED 25%\",Pred)\n",
        "Accuracy=(1-MRE)*100\n",
        "Accuracy=(Accuracy.mean())\n",
        "MRE=(diff/y_test)/MRE.size\n",
        "P2=MRE[MRE<MMRE]\n",
        "print(\"PRED MMRE\",Pred2)\n",
        "print(\"Model Accuracy\",Accuracy)\n",
        "#\n"
      ]
    },
    {
      "cell_type": "code",
      "execution_count": 233,
      "metadata": {
        "colab": {
          "base_uri": "https://localhost:8080/",
          "height": 422
        },
        "id": "fAUR20Aa8UT_",
        "outputId": "6722bb87-2794-4744-da10-b9a5d5a5d45e"
      },
      "outputs": [
        {
          "output_type": "display_data",
          "data": {
            "text/plain": [
              "<Figure size 1000x600 with 1 Axes>"
            ],
            "image/png": "[encoded data removed]"
          },
          "metadata": {}
        }
      ],
      "source": [
        "import matplotlib.pyplot as plt\n",
        "import seaborn as sns\n",
        "\n",
        "colors = sns.color_palette(\"colorblind\")\n",
        "# X_train_ada,X_test_ada,y_train_ada,y_test_ada\n",
        "plt.figure()\n",
        "plt.scatter(y_train_pred_ada,y_train_ada , label=\"training samples\")\n",
        "#plt.plot(X_test_ada,y_test_ada, color=colors[1], label=\"n_estimators=1\", linewidth=2)\n",
        "# plt.plot(X, y_2, color=colors[2], label=\"n_estimators=300\", linewidth=2)\n",
        "plt.xlabel(\"data\")\n",
        "plt.ylabel(\"target\")\n",
        "plt.title(\"ADA BOOST REGRESSOR - Cost\")\n",
        "plt.legend()\n",
        "plt.show()"
      ]
    },
    {
      "cell_type": "code",
      "execution_count": 234,
      "metadata": {
        "id": "74lnbked_FaZ"
      },
      "outputs": [],
      "source": [
        "#prediction on testing the data\n",
        "#y_test_pred_svm = y_pred111.predict(y_test,y_test_pred_svm)"
      ]
    },
    {
      "cell_type": "code",
      "execution_count": 235,
      "metadata": {
        "id": "9J3ckdlWseCG",
        "colab": {
          "base_uri": "https://localhost:8080/",
          "height": 270
        },
        "outputId": "6c4784c5-2bf8-4d16-ab09-985228999104"
      },
      "outputs": [
        {
          "output_type": "execute_result",
          "data": {
            "text/plain": [
              "   Effort   Vi      D    V  Sprint_Size  Work_days  Team_Salary  Act_Time  \\\n",
              "0     156  4.2  0.687  2.7           10         22       230000        63   \n",
              "1     202  3.7  0.701  2.5           10         21       260000        92   \n",
              "2     173  4.0  0.878  3.3           10         22       250000        56   \n",
              "3     331  4.5  0.886  3.8           10         22       300000        86   \n",
              "4     124  4.9  0.903  4.2           10         22       300000        32   \n",
              "\n",
              "   Actual_Cost  \n",
              "0      1200000  \n",
              "1      1600000  \n",
              "2      1000000  \n",
              "3      2100000  \n",
              "4       750000  "
            ],
            "text/html": [
              "\n",
              "  <div id=\"df-a6e14bf8-d2d0-48a0-875b-c0b6c2fffb3a\">\n",
              "    <div class=\"colab-df-container\">\n",
              "      <div>\n",
              "<style scoped>\n",
              "    .dataframe tbody tr th:only-of-type {\n",
              "        vertical-align: middle;\n",
              "    }\n",
              "\n",
              "    .dataframe tbody tr th {\n",
              "        vertical-align: top;\n",
              "    }\n",
              "\n",
              "    .dataframe thead th {\n",
              "        text-align: right;\n",
              "    }\n",
              "</style>\n",
              "<table border=\"1\" class=\"dataframe\">\n",
              "  <thead>\n",
              "    <tr style=\"text-align: right;\">\n",
              "      <th></th>\n",
              "      <th>Effort</th>\n",
              "      <th>Vi</th>\n",
              "      <th>D</th>\n",
              "      <th>V</th>\n",
              "      <th>Sprint_Size</th>\n",
              "      <th>Work_days</th>\n",
              "      <th>Team_Salary</th>\n",
              "      <th>Act_Time</th>\n",
              "      <th>Actual_Cost</th>\n",
              "    </tr>\n",
              "  </thead>\n",
              "  <tbody>\n",
              "    <tr>\n",
              "      <th>0</th>\n",
              "      <td>156</td>\n",
              "      <td>4.2</td>\n",
              "      <td>0.687</td>\n",
              "      <td>2.7</td>\n",
              "      <td>10</td>\n",
              "      <td>22</td>\n",
              "      <td>230000</td>\n",
              "      <td>63</td>\n",
              "      <td>1200000</td>\n",
              "    </tr>\n",
              "    <tr>\n",
              "      <th>1</th>\n",
              "      <td>202</td>\n",
              "      <td>3.7</td>\n",
              "      <td>0.701</td>\n",
              "      <td>2.5</td>\n",
              "      <td>10</td>\n",
              "      <td>21</td>\n",
              "      <td>260000</td>\n",
              "      <td>92</td>\n",
              "      <td>1600000</td>\n",
              "    </tr>\n",
              "    <tr>\n",
              "      <th>2</th>\n",
              "      <td>173</td>\n",
              "      <td>4.0</td>\n",
              "      <td>0.878</td>\n",
              "      <td>3.3</td>\n",
              "      <td>10</td>\n",
              "      <td>22</td>\n",
              "      <td>250000</td>\n",
              "      <td>56</td>\n",
              "      <td>1000000</td>\n",
              "    </tr>\n",
              "    <tr>\n",
              "      <th>3</th>\n",
              "      <td>331</td>\n",
              "      <td>4.5</td>\n",
              "      <td>0.886</td>\n",
              "      <td>3.8</td>\n",
              "      <td>10</td>\n",
              "      <td>22</td>\n",
              "      <td>300000</td>\n",
              "      <td>86</td>\n",
              "      <td>2100000</td>\n",
              "    </tr>\n",
              "    <tr>\n",
              "      <th>4</th>\n",
              "      <td>124</td>\n",
              "      <td>4.9</td>\n",
              "      <td>0.903</td>\n",
              "      <td>4.2</td>\n",
              "      <td>10</td>\n",
              "      <td>22</td>\n",
              "      <td>300000</td>\n",
              "      <td>32</td>\n",
              "      <td>750000</td>\n",
              "    </tr>\n",
              "  </tbody>\n",
              "</table>\n",
              "</div>\n",
              "      <button class=\"colab-df-convert\" onclick=\"convertToInteractive('df-a6e14bf8-d2d0-48a0-875b-c0b6c2fffb3a')\"\n",
              "              title=\"Convert this dataframe to an interactive table.\"\n",
              "              style=\"display:none;\">\n",
              "        \n",
              "  <svg xmlns=\"http://www.w3.org/2000/svg\" height=\"24px\"viewBox=\"0 0 24 24\"\n",
              "       width=\"24px\">\n",
              "    <path d=\"M0 0h24v24H0V0z\" fill=\"none\"/>\n",
              "    <path d=\"M18.56 5.44l.94 2.06.94-2.06 2.06-.94-2.06-.94-.94-2.06-.94 2.06-2.06.94zm-11 1L8.5 8.5l.94-2.06 2.06-.94-2.06-.94L8.5 2.5l-.94 2.06-2.06.94zm10 10l.94 2.06.94-2.06 2.06-.94-2.06-.94-.94-2.06-.94 2.06-2.06.94z\"/><path d=\"M17.41 7.96l-1.37-1.37c-.4-.4-.92-.59-1.43-.59-.52 0-1.04.2-1.43.59L10.3 9.45l-7.72 7.72c-.78.78-.78 2.05 0 2.83L4 21.41c.39.39.9.59 1.41.59.51 0 1.02-.2 1.41-.59l7.78-7.78 2.81-2.81c.8-.78.8-2.07 0-2.86zM5.41 20L4 18.59l7.72-7.72 1.47 1.35L5.41 20z\"/>\n",
              "  </svg>\n",
              "      </button>\n",
              "      \n",
              "  <style>\n",
              "    .colab-df-container {\n",
              "      display:flex;\n",
              "      flex-wrap:wrap;\n",
              "      gap: 12px;\n",
              "    }\n",
              "\n",
              "    .colab-df-convert {\n",
              "      background-color: #E8F0FE;\n",
              "      border: none;\n",
              "      border-radius: 50%;\n",
              "      cursor: pointer;\n",
              "      display: none;\n",
              "      fill: #1967D2;\n",
              "      height: 32px;\n",
              "      padding: 0 0 0 0;\n",
              "      width: 32px;\n",
              "    }\n",
              "\n",
              "    .colab-df-convert:hover {\n",
              "      background-color: #E2EBFA;\n",
              "      box-shadow: 0px 1px 2px rgba(60, 64, 67, 0.3), 0px 1px 3px 1px rgba(60, 64, 67, 0.15);\n",
              "      fill: #174EA6;\n",
              "    }\n",
              "\n",
              "    [theme=dark] .colab-df-convert {\n",
              "      background-color: #3B4455;\n",
              "      fill: #D2E3FC;\n",
              "    }\n",
              "\n",
              "    [theme=dark] .colab-df-convert:hover {\n",
              "      background-color: #434B5C;\n",
              "      box-shadow: 0px 1px 3px 1px rgba(0, 0, 0, 0.15);\n",
              "      filter: drop-shadow(0px 1px 2px rgba(0, 0, 0, 0.3));\n",
              "      fill: #FFFFFF;\n",
              "    }\n",
              "  </style>\n",
              "\n",
              "      <script>\n",
              "        const buttonEl =\n",
              "          document.querySelector('#df-a6e14bf8-d2d0-48a0-875b-c0b6c2fffb3a button.colab-df-convert');\n",
              "        buttonEl.style.display =\n",
              "          google.colab.kernel.accessAllowed ? 'block' : 'none';\n",
              "\n",
              "        async function convertToInteractive(key) {\n",
              "          const element = document.querySelector('#df-a6e14bf8-d2d0-48a0-875b-c0b6c2fffb3a');\n",
              "          const dataTable =\n",
              "            await google.colab.kernel.invokeFunction('convertToInteractive',\n",
              "                                                     [key], {});\n",
              "          if (!dataTable) return;\n",
              "\n",
              "          const docLinkHtml = 'Like what you see? Visit the ' +\n",
              "            '<a target=\"_blank\" href=https://colab.research.google.com/notebooks/data_table.ipynb>data table notebook</a>'\n",
              "            + ' to learn more about interactive tables.';\n",
              "          element.innerHTML = '';\n",
              "          dataTable['output_type'] = 'display_data';\n",
              "          await google.colab.output.renderOutput(dataTable, element);\n",
              "          const docLink = document.createElement('div');\n",
              "          docLink.innerHTML = docLinkHtml;\n",
              "          element.appendChild(docLink);\n",
              "        }\n",
              "      </script>\n",
              "    </div>\n",
              "  </div>\n",
              "  "
            ]
          },
          "metadata": {},
          "execution_count": 235
        }
      ],
      "source": [
        "#@title Ensemble Learning \n",
        "\n",
        "data_read.head()"
      ]
    },
    {
      "cell_type": "code",
      "execution_count": 236,
      "metadata": {
        "id": "Oh5UUBnYhg42"
      },
      "outputs": [],
      "source": [
        "from sklearn.preprocessing import LabelEncoder\n",
        "\n",
        "# encoder = LabelEncoder()\n",
        "\n",
        "# data_read['Actual_Cost'] = encoder.fit_transform(data_read['Actual_Cost'])"
      ]
    },
    {
      "cell_type": "code",
      "execution_count": 237,
      "metadata": {
        "id": "Fx56nrLSiLqt"
      },
      "outputs": [],
      "source": [
        "dff = data_read.sample(21)\n",
        "dff_train = dff.iloc[:14,:].sample(10)\n",
        "dff_val = dff.iloc[14:18,:].sample(4)\n",
        "dff_test = dff.iloc[17:,:].sample(3)"
      ]
    },
    {
      "cell_type": "code",
      "execution_count": 238,
      "metadata": {
        "id": "zC2bIQUmjwH2",
        "colab": {
          "base_uri": "https://localhost:8080/",
          "height": 427
        },
        "outputId": "15091a78-3612-43eb-f01e-6a32bfb439b4"
      },
      "outputs": [
        {
          "output_type": "execute_result",
          "data": {
            "text/plain": [
              "    Effort   Vi      D    V  Sprint_Size  Work_days  Team_Salary  Act_Time  \\\n",
              "10     131  4.6  0.758  3.2           10         22       250000        45   \n",
              "13      74  3.9  0.773  2.9           10         22       200000        30   \n",
              "2      173  4.0  0.878  3.3           10         22       250000        56   \n",
              "12     101  3.9  0.773  2.9           10         22       200000        32   \n",
              "19     137  3.7  0.758  2.7           10         22       220000        56   \n",
              "9      211  4.6  0.758  3.2           10         22       250000        62   \n",
              "17     141  4.0  0.742  2.8           10         22       250000        52   \n",
              "8       84  3.9  0.646  2.4           10         22       190000        36   \n",
              "16     113  4.0  0.742  2.8           10         22       250000        39   \n",
              "4      124  4.9  0.903  4.2           10         22       300000        32   \n",
              "\n",
              "    Actual_Cost  \n",
              "10       800000  \n",
              "13       400000  \n",
              "2       1000000  \n",
              "12       600000  \n",
              "19       800000  \n",
              "9       1200000  \n",
              "17      1000000  \n",
              "8        500000  \n",
              "16       800000  \n",
              "4        750000  "
            ],
            "text/html": [
              "\n",
              "  <div id=\"df-878b4d9c-96f3-47ab-82ad-3551d21fa4a5\">\n",
              "    <div class=\"colab-df-container\">\n",
              "      <div>\n",
              "<style scoped>\n",
              "    .dataframe tbody tr th:only-of-type {\n",
              "        vertical-align: middle;\n",
              "    }\n",
              "\n",
              "    .dataframe tbody tr th {\n",
              "        vertical-align: top;\n",
              "    }\n",
              "\n",
              "    .dataframe thead th {\n",
              "        text-align: right;\n",
              "    }\n",
              "</style>\n",
              "<table border=\"1\" class=\"dataframe\">\n",
              "  <thead>\n",
              "    <tr style=\"text-align: right;\">\n",
              "      <th></th>\n",
              "      <th>Effort</th>\n",
              "      <th>Vi</th>\n",
              "      <th>D</th>\n",
              "      <th>V</th>\n",
              "      <th>Sprint_Size</th>\n",
              "      <th>Work_days</th>\n",
              "      <th>Team_Salary</th>\n",
              "      <th>Act_Time</th>\n",
              "      <th>Actual_Cost</th>\n",
              "    </tr>\n",
              "  </thead>\n",
              "  <tbody>\n",
              "    <tr>\n",
              "      <th>10</th>\n",
              "      <td>131</td>\n",
              "      <td>4.6</td>\n",
              "      <td>0.758</td>\n",
              "      <td>3.2</td>\n",
              "      <td>10</td>\n",
              "      <td>22</td>\n",
              "      <td>250000</td>\n",
              "      <td>45</td>\n",
              "      <td>800000</td>\n",
              "    </tr>\n",
              "    <tr>\n",
              "      <th>13</th>\n",
              "      <td>74</td>\n",
              "      <td>3.9</td>\n",
              "      <td>0.773</td>\n",
              "      <td>2.9</td>\n",
              "      <td>10</td>\n",
              "      <td>22</td>\n",
              "      <td>200000</td>\n",
              "      <td>30</td>\n",
              "      <td>400000</td>\n",
              "    </tr>\n",
              "    <tr>\n",
              "      <th>2</th>\n",
              "      <td>173</td>\n",
              "      <td>4.0</td>\n",
              "      <td>0.878</td>\n",
              "      <td>3.3</td>\n",
              "      <td>10</td>\n",
              "      <td>22</td>\n",
              "      <td>250000</td>\n",
              "      <td>56</td>\n",
              "      <td>1000000</td>\n",
              "    </tr>\n",
              "    <tr>\n",
              "      <th>12</th>\n",
              "      <td>101</td>\n",
              "      <td>3.9</td>\n",
              "      <td>0.773</td>\n",
              "      <td>2.9</td>\n",
              "      <td>10</td>\n",
              "      <td>22</td>\n",
              "      <td>200000</td>\n",
              "      <td>32</td>\n",
              "      <td>600000</td>\n",
              "    </tr>\n",
              "    <tr>\n",
              "      <th>19</th>\n",
              "      <td>137</td>\n",
              "      <td>3.7</td>\n",
              "      <td>0.758</td>\n",
              "      <td>2.7</td>\n",
              "      <td>10</td>\n",
              "      <td>22</td>\n",
              "      <td>220000</td>\n",
              "      <td>56</td>\n",
              "      <td>800000</td>\n",
              "    </tr>\n",
              "    <tr>\n",
              "      <th>9</th>\n",
              "      <td>211</td>\n",
              "      <td>4.6</td>\n",
              "      <td>0.758</td>\n",
              "      <td>3.2</td>\n",
              "      <td>10</td>\n",
              "      <td>22</td>\n",
              "      <td>250000</td>\n",
              "      <td>62</td>\n",
              "      <td>1200000</td>\n",
              "    </tr>\n",
              "    <tr>\n",
              "      <th>17</th>\n",
              "      <td>141</td>\n",
              "      <td>4.0</td>\n",
              "      <td>0.742</td>\n",
              "      <td>2.8</td>\n",
              "      <td>10</td>\n",
              "      <td>22</td>\n",
              "      <td>250000</td>\n",
              "      <td>52</td>\n",
              "      <td>1000000</td>\n",
              "    </tr>\n",
              "    <tr>\n",
              "      <th>8</th>\n",
              "      <td>84</td>\n",
              "      <td>3.9</td>\n",
              "      <td>0.646</td>\n",
              "      <td>2.4</td>\n",
              "      <td>10</td>\n",
              "      <td>22</td>\n",
              "      <td>190000</td>\n",
              "      <td>36</td>\n",
              "      <td>500000</td>\n",
              "    </tr>\n",
              "    <tr>\n",
              "      <th>16</th>\n",
              "      <td>113</td>\n",
              "      <td>4.0</td>\n",
              "      <td>0.742</td>\n",
              "      <td>2.8</td>\n",
              "      <td>10</td>\n",
              "      <td>22</td>\n",
              "      <td>250000</td>\n",
              "      <td>39</td>\n",
              "      <td>800000</td>\n",
              "    </tr>\n",
              "    <tr>\n",
              "      <th>4</th>\n",
              "      <td>124</td>\n",
              "      <td>4.9</td>\n",
              "      <td>0.903</td>\n",
              "      <td>4.2</td>\n",
              "      <td>10</td>\n",
              "      <td>22</td>\n",
              "      <td>300000</td>\n",
              "      <td>32</td>\n",
              "      <td>750000</td>\n",
              "    </tr>\n",
              "  </tbody>\n",
              "</table>\n",
              "</div>\n",
              "      <button class=\"colab-df-convert\" onclick=\"convertToInteractive('df-878b4d9c-96f3-47ab-82ad-3551d21fa4a5')\"\n",
              "              title=\"Convert this dataframe to an interactive table.\"\n",
              "              style=\"display:none;\">\n",
              "        \n",
              "  <svg xmlns=\"http://www.w3.org/2000/svg\" height=\"24px\"viewBox=\"0 0 24 24\"\n",
              "       width=\"24px\">\n",
              "    <path d=\"M0 0h24v24H0V0z\" fill=\"none\"/>\n",
              "    <path d=\"M18.56 5.44l.94 2.06.94-2.06 2.06-.94-2.06-.94-.94-2.06-.94 2.06-2.06.94zm-11 1L8.5 8.5l.94-2.06 2.06-.94-2.06-.94L8.5 2.5l-.94 2.06-2.06.94zm10 10l.94 2.06.94-2.06 2.06-.94-2.06-.94-.94-2.06-.94 2.06-2.06.94z\"/><path d=\"M17.41 7.96l-1.37-1.37c-.4-.4-.92-.59-1.43-.59-.52 0-1.04.2-1.43.59L10.3 9.45l-7.72 7.72c-.78.78-.78 2.05 0 2.83L4 21.41c.39.39.9.59 1.41.59.51 0 1.02-.2 1.41-.59l7.78-7.78 2.81-2.81c.8-.78.8-2.07 0-2.86zM5.41 20L4 18.59l7.72-7.72 1.47 1.35L5.41 20z\"/>\n",
              "  </svg>\n",
              "      </button>\n",
              "      \n",
              "  <style>\n",
              "    .colab-df-container {\n",
              "      display:flex;\n",
              "      flex-wrap:wrap;\n",
              "      gap: 12px;\n",
              "    }\n",
              "\n",
              "    .colab-df-convert {\n",
              "      background-color: #E8F0FE;\n",
              "      border: none;\n",
              "      border-radius: 50%;\n",
              "      cursor: pointer;\n",
              "      display: none;\n",
              "      fill: #1967D2;\n",
              "      height: 32px;\n",
              "      padding: 0 0 0 0;\n",
              "      width: 32px;\n",
              "    }\n",
              "\n",
              "    .colab-df-convert:hover {\n",
              "      background-color: #E2EBFA;\n",
              "      box-shadow: 0px 1px 2px rgba(60, 64, 67, 0.3), 0px 1px 3px 1px rgba(60, 64, 67, 0.15);\n",
              "      fill: #174EA6;\n",
              "    }\n",
              "\n",
              "    [theme=dark] .colab-df-convert {\n",
              "      background-color: #3B4455;\n",
              "      fill: #D2E3FC;\n",
              "    }\n",
              "\n",
              "    [theme=dark] .colab-df-convert:hover {\n",
              "      background-color: #434B5C;\n",
              "      box-shadow: 0px 1px 3px 1px rgba(0, 0, 0, 0.15);\n",
              "      filter: drop-shadow(0px 1px 2px rgba(0, 0, 0, 0.3));\n",
              "      fill: #FFFFFF;\n",
              "    }\n",
              "  </style>\n",
              "\n",
              "      <script>\n",
              "        const buttonEl =\n",
              "          document.querySelector('#df-878b4d9c-96f3-47ab-82ad-3551d21fa4a5 button.colab-df-convert');\n",
              "        buttonEl.style.display =\n",
              "          google.colab.kernel.accessAllowed ? 'block' : 'none';\n",
              "\n",
              "        async function convertToInteractive(key) {\n",
              "          const element = document.querySelector('#df-878b4d9c-96f3-47ab-82ad-3551d21fa4a5');\n",
              "          const dataTable =\n",
              "            await google.colab.kernel.invokeFunction('convertToInteractive',\n",
              "                                                     [key], {});\n",
              "          if (!dataTable) return;\n",
              "\n",
              "          const docLinkHtml = 'Like what you see? Visit the ' +\n",
              "            '<a target=\"_blank\" href=https://colab.research.google.com/notebooks/data_table.ipynb>data table notebook</a>'\n",
              "            + ' to learn more about interactive tables.';\n",
              "          element.innerHTML = '';\n",
              "          dataTable['output_type'] = 'display_data';\n",
              "          await google.colab.output.renderOutput(dataTable, element);\n",
              "          const docLink = document.createElement('div');\n",
              "          docLink.innerHTML = docLinkHtml;\n",
              "          element.appendChild(docLink);\n",
              "        }\n",
              "      </script>\n",
              "    </div>\n",
              "  </div>\n",
              "  "
            ]
          },
          "metadata": {},
          "execution_count": 238
        }
      ],
      "source": [
        "dff_train"
      ]
    },
    {
      "cell_type": "code",
      "execution_count": 239,
      "metadata": {
        "id": "_HoZwGwPj816"
      },
      "outputs": [],
      "source": [
        "X_test = dff_val.iloc[:,0:8].values\n",
        "y_test = dff_val.iloc[:-1].values\n",
        "\n",
        "# len(X_test)\n",
        "# len(y_test)\n"
      ]
    },
    {
      "cell_type": "code",
      "execution_count": 240,
      "metadata": {
        "id": "oial23drkpAX",
        "colab": {
          "base_uri": "https://localhost:8080/",
          "height": 333
        },
        "outputId": "dc7411ae-a645-4a79-962c-79a641df332b"
      },
      "outputs": [
        {
          "output_type": "execute_result",
          "data": {
            "text/plain": [
              "    Effort   Vi      D    V  Sprint_Size  Work_days  Team_Salary  Act_Time  \\\n",
              "4      124  4.9  0.903  4.2           10         22       300000        32   \n",
              "19     137  3.7  0.758  2.7           10         22       220000        56   \n",
              "13      74  3.9  0.773  2.9           10         22       200000        30   \n",
              "9      211  4.6  0.758  3.2           10         22       250000        62   \n",
              "10     131  4.6  0.758  3.2           10         22       250000        45   \n",
              "17     141  4.0  0.742  2.8           10         22       250000        52   \n",
              "9      211  4.6  0.758  3.2           10         22       250000        62   \n",
              "\n",
              "    Actual_Cost  \n",
              "4        750000  \n",
              "19       800000  \n",
              "13       400000  \n",
              "9       1200000  \n",
              "10       800000  \n",
              "17      1000000  \n",
              "9       1200000  "
            ],
            "text/html": [
              "\n",
              "  <div id=\"df-f0b9ea07-c343-4f41-a81c-e34b81301e46\">\n",
              "    <div class=\"colab-df-container\">\n",
              "      <div>\n",
              "<style scoped>\n",
              "    .dataframe tbody tr th:only-of-type {\n",
              "        vertical-align: middle;\n",
              "    }\n",
              "\n",
              "    .dataframe tbody tr th {\n",
              "        vertical-align: top;\n",
              "    }\n",
              "\n",
              "    .dataframe thead th {\n",
              "        text-align: right;\n",
              "    }\n",
              "</style>\n",
              "<table border=\"1\" class=\"dataframe\">\n",
              "  <thead>\n",
              "    <tr style=\"text-align: right;\">\n",
              "      <th></th>\n",
              "      <th>Effort</th>\n",
              "      <th>Vi</th>\n",
              "      <th>D</th>\n",
              "      <th>V</th>\n",
              "      <th>Sprint_Size</th>\n",
              "      <th>Work_days</th>\n",
              "      <th>Team_Salary</th>\n",
              "      <th>Act_Time</th>\n",
              "      <th>Actual_Cost</th>\n",
              "    </tr>\n",
              "  </thead>\n",
              "  <tbody>\n",
              "    <tr>\n",
              "      <th>4</th>\n",
              "      <td>124</td>\n",
              "      <td>4.9</td>\n",
              "      <td>0.903</td>\n",
              "      <td>4.2</td>\n",
              "      <td>10</td>\n",
              "      <td>22</td>\n",
              "      <td>300000</td>\n",
              "      <td>32</td>\n",
              "      <td>750000</td>\n",
              "    </tr>\n",
              "    <tr>\n",
              "      <th>19</th>\n",
              "      <td>137</td>\n",
              "      <td>3.7</td>\n",
              "      <td>0.758</td>\n",
              "      <td>2.7</td>\n",
              "      <td>10</td>\n",
              "      <td>22</td>\n",
              "      <td>220000</td>\n",
              "      <td>56</td>\n",
              "      <td>800000</td>\n",
              "    </tr>\n",
              "    <tr>\n",
              "      <th>13</th>\n",
              "      <td>74</td>\n",
              "      <td>3.9</td>\n",
              "      <td>0.773</td>\n",
              "      <td>2.9</td>\n",
              "      <td>10</td>\n",
              "      <td>22</td>\n",
              "      <td>200000</td>\n",
              "      <td>30</td>\n",
              "      <td>400000</td>\n",
              "    </tr>\n",
              "    <tr>\n",
              "      <th>9</th>\n",
              "      <td>211</td>\n",
              "      <td>4.6</td>\n",
              "      <td>0.758</td>\n",
              "      <td>3.2</td>\n",
              "      <td>10</td>\n",
              "      <td>22</td>\n",
              "      <td>250000</td>\n",
              "      <td>62</td>\n",
              "      <td>1200000</td>\n",
              "    </tr>\n",
              "    <tr>\n",
              "      <th>10</th>\n",
              "      <td>131</td>\n",
              "      <td>4.6</td>\n",
              "      <td>0.758</td>\n",
              "      <td>3.2</td>\n",
              "      <td>10</td>\n",
              "      <td>22</td>\n",
              "      <td>250000</td>\n",
              "      <td>45</td>\n",
              "      <td>800000</td>\n",
              "    </tr>\n",
              "    <tr>\n",
              "      <th>17</th>\n",
              "      <td>141</td>\n",
              "      <td>4.0</td>\n",
              "      <td>0.742</td>\n",
              "      <td>2.8</td>\n",
              "      <td>10</td>\n",
              "      <td>22</td>\n",
              "      <td>250000</td>\n",
              "      <td>52</td>\n",
              "      <td>1000000</td>\n",
              "    </tr>\n",
              "    <tr>\n",
              "      <th>9</th>\n",
              "      <td>211</td>\n",
              "      <td>4.6</td>\n",
              "      <td>0.758</td>\n",
              "      <td>3.2</td>\n",
              "      <td>10</td>\n",
              "      <td>22</td>\n",
              "      <td>250000</td>\n",
              "      <td>62</td>\n",
              "      <td>1200000</td>\n",
              "    </tr>\n",
              "  </tbody>\n",
              "</table>\n",
              "</div>\n",
              "      <button class=\"colab-df-convert\" onclick=\"convertToInteractive('df-f0b9ea07-c343-4f41-a81c-e34b81301e46')\"\n",
              "              title=\"Convert this dataframe to an interactive table.\"\n",
              "              style=\"display:none;\">\n",
              "        \n",
              "  <svg xmlns=\"http://www.w3.org/2000/svg\" height=\"24px\"viewBox=\"0 0 24 24\"\n",
              "       width=\"24px\">\n",
              "    <path d=\"M0 0h24v24H0V0z\" fill=\"none\"/>\n",
              "    <path d=\"M18.56 5.44l.94 2.06.94-2.06 2.06-.94-2.06-.94-.94-2.06-.94 2.06-2.06.94zm-11 1L8.5 8.5l.94-2.06 2.06-.94-2.06-.94L8.5 2.5l-.94 2.06-2.06.94zm10 10l.94 2.06.94-2.06 2.06-.94-2.06-.94-.94-2.06-.94 2.06-2.06.94z\"/><path d=\"M17.41 7.96l-1.37-1.37c-.4-.4-.92-.59-1.43-.59-.52 0-1.04.2-1.43.59L10.3 9.45l-7.72 7.72c-.78.78-.78 2.05 0 2.83L4 21.41c.39.39.9.59 1.41.59.51 0 1.02-.2 1.41-.59l7.78-7.78 2.81-2.81c.8-.78.8-2.07 0-2.86zM5.41 20L4 18.59l7.72-7.72 1.47 1.35L5.41 20z\"/>\n",
              "  </svg>\n",
              "      </button>\n",
              "      \n",
              "  <style>\n",
              "    .colab-df-container {\n",
              "      display:flex;\n",
              "      flex-wrap:wrap;\n",
              "      gap: 12px;\n",
              "    }\n",
              "\n",
              "    .colab-df-convert {\n",
              "      background-color: #E8F0FE;\n",
              "      border: none;\n",
              "      border-radius: 50%;\n",
              "      cursor: pointer;\n",
              "      display: none;\n",
              "      fill: #1967D2;\n",
              "      height: 32px;\n",
              "      padding: 0 0 0 0;\n",
              "      width: 32px;\n",
              "    }\n",
              "\n",
              "    .colab-df-convert:hover {\n",
              "      background-color: #E2EBFA;\n",
              "      box-shadow: 0px 1px 2px rgba(60, 64, 67, 0.3), 0px 1px 3px 1px rgba(60, 64, 67, 0.15);\n",
              "      fill: #174EA6;\n",
              "    }\n",
              "\n",
              "    [theme=dark] .colab-df-convert {\n",
              "      background-color: #3B4455;\n",
              "      fill: #D2E3FC;\n",
              "    }\n",
              "\n",
              "    [theme=dark] .colab-df-convert:hover {\n",
              "      background-color: #434B5C;\n",
              "      box-shadow: 0px 1px 3px 1px rgba(0, 0, 0, 0.15);\n",
              "      filter: drop-shadow(0px 1px 2px rgba(0, 0, 0, 0.3));\n",
              "      fill: #FFFFFF;\n",
              "    }\n",
              "  </style>\n",
              "\n",
              "      <script>\n",
              "        const buttonEl =\n",
              "          document.querySelector('#df-f0b9ea07-c343-4f41-a81c-e34b81301e46 button.colab-df-convert');\n",
              "        buttonEl.style.display =\n",
              "          google.colab.kernel.accessAllowed ? 'block' : 'none';\n",
              "\n",
              "        async function convertToInteractive(key) {\n",
              "          const element = document.querySelector('#df-f0b9ea07-c343-4f41-a81c-e34b81301e46');\n",
              "          const dataTable =\n",
              "            await google.colab.kernel.invokeFunction('convertToInteractive',\n",
              "                                                     [key], {});\n",
              "          if (!dataTable) return;\n",
              "\n",
              "          const docLinkHtml = 'Like what you see? Visit the ' +\n",
              "            '<a target=\"_blank\" href=https://colab.research.google.com/notebooks/data_table.ipynb>data table notebook</a>'\n",
              "            + ' to learn more about interactive tables.';\n",
              "          element.innerHTML = '';\n",
              "          dataTable['output_type'] = 'display_data';\n",
              "          await google.colab.output.renderOutput(dataTable, element);\n",
              "          const docLink = document.createElement('div');\n",
              "          docLink.innerHTML = docLinkHtml;\n",
              "          element.appendChild(docLink);\n",
              "        }\n",
              "      </script>\n",
              "    </div>\n",
              "  </div>\n",
              "  "
            ]
          },
          "metadata": {},
          "execution_count": 240
        }
      ],
      "source": [
        "#@title Bagging with 3 Decision Trees \n",
        "df_bag = dff_train.sample(7,replace=True) \n",
        "\n",
        "X= df_bag.iloc[:,0:8]\n",
        "Y= df_bag.iloc[:,-1]\n",
        "\n",
        "df_bag"
      ]
    },
    {
      "cell_type": "code",
      "execution_count": 241,
      "metadata": {
        "id": "BcYTZC5-y_d7",
        "colab": {
          "base_uri": "https://localhost:8080/",
          "height": 269
        },
        "outputId": "88ad1c7d-f6a4-4521-890b-06cb53470661"
      },
      "outputs": [
        {
          "output_type": "execute_result",
          "data": {
            "text/plain": [
              "    Effort   Vi      D    V  Sprint_Size  Work_days  Team_Salary  Act_Time\n",
              "4      124  4.9  0.903  4.2           10         22       300000        32\n",
              "19     137  3.7  0.758  2.7           10         22       220000        56\n",
              "13      74  3.9  0.773  2.9           10         22       200000        30\n",
              "9      211  4.6  0.758  3.2           10         22       250000        62\n",
              "10     131  4.6  0.758  3.2           10         22       250000        45\n",
              "17     141  4.0  0.742  2.8           10         22       250000        52\n",
              "9      211  4.6  0.758  3.2           10         22       250000        62"
            ],
            "text/html": [
              "\n",
              "  <div id=\"df-dcd327ad-dcdf-4660-bac7-2c5e2ddf998d\">\n",
              "    <div class=\"colab-df-container\">\n",
              "      <div>\n",
              "<style scoped>\n",
              "    .dataframe tbody tr th:only-of-type {\n",
              "        vertical-align: middle;\n",
              "    }\n",
              "\n",
              "    .dataframe tbody tr th {\n",
              "        vertical-align: top;\n",
              "    }\n",
              "\n",
              "    .dataframe thead th {\n",
              "        text-align: right;\n",
              "    }\n",
              "</style>\n",
              "<table border=\"1\" class=\"dataframe\">\n",
              "  <thead>\n",
              "    <tr style=\"text-align: right;\">\n",
              "      <th></th>\n",
              "      <th>Effort</th>\n",
              "      <th>Vi</th>\n",
              "      <th>D</th>\n",
              "      <th>V</th>\n",
              "      <th>Sprint_Size</th>\n",
              "      <th>Work_days</th>\n",
              "      <th>Team_Salary</th>\n",
              "      <th>Act_Time</th>\n",
              "    </tr>\n",
              "  </thead>\n",
              "  <tbody>\n",
              "    <tr>\n",
              "      <th>4</th>\n",
              "      <td>124</td>\n",
              "      <td>4.9</td>\n",
              "      <td>0.903</td>\n",
              "      <td>4.2</td>\n",
              "      <td>10</td>\n",
              "      <td>22</td>\n",
              "      <td>300000</td>\n",
              "      <td>32</td>\n",
              "    </tr>\n",
              "    <tr>\n",
              "      <th>19</th>\n",
              "      <td>137</td>\n",
              "      <td>3.7</td>\n",
              "      <td>0.758</td>\n",
              "      <td>2.7</td>\n",
              "      <td>10</td>\n",
              "      <td>22</td>\n",
              "      <td>220000</td>\n",
              "      <td>56</td>\n",
              "    </tr>\n",
              "    <tr>\n",
              "      <th>13</th>\n",
              "      <td>74</td>\n",
              "      <td>3.9</td>\n",
              "      <td>0.773</td>\n",
              "      <td>2.9</td>\n",
              "      <td>10</td>\n",
              "      <td>22</td>\n",
              "      <td>200000</td>\n",
              "      <td>30</td>\n",
              "    </tr>\n",
              "    <tr>\n",
              "      <th>9</th>\n",
              "      <td>211</td>\n",
              "      <td>4.6</td>\n",
              "      <td>0.758</td>\n",
              "      <td>3.2</td>\n",
              "      <td>10</td>\n",
              "      <td>22</td>\n",
              "      <td>250000</td>\n",
              "      <td>62</td>\n",
              "    </tr>\n",
              "    <tr>\n",
              "      <th>10</th>\n",
              "      <td>131</td>\n",
              "      <td>4.6</td>\n",
              "      <td>0.758</td>\n",
              "      <td>3.2</td>\n",
              "      <td>10</td>\n",
              "      <td>22</td>\n",
              "      <td>250000</td>\n",
              "      <td>45</td>\n",
              "    </tr>\n",
              "    <tr>\n",
              "      <th>17</th>\n",
              "      <td>141</td>\n",
              "      <td>4.0</td>\n",
              "      <td>0.742</td>\n",
              "      <td>2.8</td>\n",
              "      <td>10</td>\n",
              "      <td>22</td>\n",
              "      <td>250000</td>\n",
              "      <td>52</td>\n",
              "    </tr>\n",
              "    <tr>\n",
              "      <th>9</th>\n",
              "      <td>211</td>\n",
              "      <td>4.6</td>\n",
              "      <td>0.758</td>\n",
              "      <td>3.2</td>\n",
              "      <td>10</td>\n",
              "      <td>22</td>\n",
              "      <td>250000</td>\n",
              "      <td>62</td>\n",
              "    </tr>\n",
              "  </tbody>\n",
              "</table>\n",
              "</div>\n",
              "      <button class=\"colab-df-convert\" onclick=\"convertToInteractive('df-dcd327ad-dcdf-4660-bac7-2c5e2ddf998d')\"\n",
              "              title=\"Convert this dataframe to an interactive table.\"\n",
              "              style=\"display:none;\">\n",
              "        \n",
              "  <svg xmlns=\"http://www.w3.org/2000/svg\" height=\"24px\"viewBox=\"0 0 24 24\"\n",
              "       width=\"24px\">\n",
              "    <path d=\"M0 0h24v24H0V0z\" fill=\"none\"/>\n",
              "    <path d=\"M18.56 5.44l.94 2.06.94-2.06 2.06-.94-2.06-.94-.94-2.06-.94 2.06-2.06.94zm-11 1L8.5 8.5l.94-2.06 2.06-.94-2.06-.94L8.5 2.5l-.94 2.06-2.06.94zm10 10l.94 2.06.94-2.06 2.06-.94-2.06-.94-.94-2.06-.94 2.06-2.06.94z\"/><path d=\"M17.41 7.96l-1.37-1.37c-.4-.4-.92-.59-1.43-.59-.52 0-1.04.2-1.43.59L10.3 9.45l-7.72 7.72c-.78.78-.78 2.05 0 2.83L4 21.41c.39.39.9.59 1.41.59.51 0 1.02-.2 1.41-.59l7.78-7.78 2.81-2.81c.8-.78.8-2.07 0-2.86zM5.41 20L4 18.59l7.72-7.72 1.47 1.35L5.41 20z\"/>\n",
              "  </svg>\n",
              "      </button>\n",
              "      \n",
              "  <style>\n",
              "    .colab-df-container {\n",
              "      display:flex;\n",
              "      flex-wrap:wrap;\n",
              "      gap: 12px;\n",
              "    }\n",
              "\n",
              "    .colab-df-convert {\n",
              "      background-color: #E8F0FE;\n",
              "      border: none;\n",
              "      border-radius: 50%;\n",
              "      cursor: pointer;\n",
              "      display: none;\n",
              "      fill: #1967D2;\n",
              "      height: 32px;\n",
              "      padding: 0 0 0 0;\n",
              "      width: 32px;\n",
              "    }\n",
              "\n",
              "    .colab-df-convert:hover {\n",
              "      background-color: #E2EBFA;\n",
              "      box-shadow: 0px 1px 2px rgba(60, 64, 67, 0.3), 0px 1px 3px 1px rgba(60, 64, 67, 0.15);\n",
              "      fill: #174EA6;\n",
              "    }\n",
              "\n",
              "    [theme=dark] .colab-df-convert {\n",
              "      background-color: #3B4455;\n",
              "      fill: #D2E3FC;\n",
              "    }\n",
              "\n",
              "    [theme=dark] .colab-df-convert:hover {\n",
              "      background-color: #434B5C;\n",
              "      box-shadow: 0px 1px 3px 1px rgba(0, 0, 0, 0.15);\n",
              "      filter: drop-shadow(0px 1px 2px rgba(0, 0, 0, 0.3));\n",
              "      fill: #FFFFFF;\n",
              "    }\n",
              "  </style>\n",
              "\n",
              "      <script>\n",
              "        const buttonEl =\n",
              "          document.querySelector('#df-dcd327ad-dcdf-4660-bac7-2c5e2ddf998d button.colab-df-convert');\n",
              "        buttonEl.style.display =\n",
              "          google.colab.kernel.accessAllowed ? 'block' : 'none';\n",
              "\n",
              "        async function convertToInteractive(key) {\n",
              "          const element = document.querySelector('#df-dcd327ad-dcdf-4660-bac7-2c5e2ddf998d');\n",
              "          const dataTable =\n",
              "            await google.colab.kernel.invokeFunction('convertToInteractive',\n",
              "                                                     [key], {});\n",
              "          if (!dataTable) return;\n",
              "\n",
              "          const docLinkHtml = 'Like what you see? Visit the ' +\n",
              "            '<a target=\"_blank\" href=https://colab.research.google.com/notebooks/data_table.ipynb>data table notebook</a>'\n",
              "            + ' to learn more about interactive tables.';\n",
              "          element.innerHTML = '';\n",
              "          dataTable['output_type'] = 'display_data';\n",
              "          await google.colab.output.renderOutput(dataTable, element);\n",
              "          const docLink = document.createElement('div');\n",
              "          docLink.innerHTML = docLinkHtml;\n",
              "          element.appendChild(docLink);\n",
              "        }\n",
              "      </script>\n",
              "    </div>\n",
              "  </div>\n",
              "  "
            ]
          },
          "metadata": {},
          "execution_count": 241
        }
      ],
      "source": [
        "X"
      ]
    },
    {
      "cell_type": "code",
      "execution_count": 242,
      "metadata": {
        "id": "x51TwHX5zFdw",
        "colab": {
          "base_uri": "https://localhost:8080/"
        },
        "outputId": "dc1dea8a-7c29-4242-f984-bafcf6319c49"
      },
      "outputs": [
        {
          "output_type": "execute_result",
          "data": {
            "text/plain": [
              "4      750000\n",
              "19     800000\n",
              "13     400000\n",
              "9     1200000\n",
              "10     800000\n",
              "17    1000000\n",
              "9     1200000\n",
              "Name: Actual_Cost, dtype: int64"
            ]
          },
          "metadata": {},
          "execution_count": 242
        }
      ],
      "source": [
        "Y"
      ]
    },
    {
      "cell_type": "code",
      "execution_count": 243,
      "metadata": {
        "id": "mjdDe75ml46b"
      },
      "outputs": [],
      "source": [
        "from sklearn.tree import DecisionTreeRegressor\n",
        "from sklearn.tree import DecisionTreeClassifier\n",
        "from sklearn.tree import plot_tree\n",
        "from mlxtend.plotting import plot_decision_regions\n",
        "from sklearn.metrics import accuracy_score "
      ]
    },
    {
      "cell_type": "code",
      "execution_count": 244,
      "metadata": {
        "id": "n_06AXV_oawg"
      },
      "outputs": [],
      "source": [
        "def evaluate(clf,X,Y):\n",
        "  clf.fit(X,Y)\n",
        "  plot_tree(clf)\n",
        "  plt.show()\n",
        "  # plot_decision_regions(X.values,Y.values, clf=clf , legend=2)\n",
        "  y_pred=clf.predict(X_test)\n",
        "  y_pred\n",
        "  #print(accuracy_score(y_test,y_pred))"
      ]
    },
    {
      "cell_type": "code",
      "execution_count": 245,
      "metadata": {
        "id": "BlxoP7gMmuxr"
      },
      "outputs": [],
      "source": [
        "#@title Default title text\n",
        "dt_bag1 = DecisionTreeRegressor()\n",
        "dt_bag11 = DecisionTreeClassifier()\n",
        "#"
      ]
    },
    {
      "cell_type": "markdown",
      "metadata": {
        "id": "vxwyFQWQnEcd"
      },
      "source": [
        "We're adding out Bag 1 to make a low bias and high variance model"
      ]
    },
    {
      "cell_type": "code",
      "execution_count": 246,
      "metadata": {
        "id": "0xXx5b46m3CM",
        "colab": {
          "base_uri": "https://localhost:8080/",
          "height": 399
        },
        "outputId": "b3ffd31b-45f0-4975-b206-cdb8b930169c"
      },
      "outputs": [
        {
          "output_type": "display_data",
          "data": {
            "text/plain": [
              "<Figure size 1000x600 with 1 Axes>"
            ],
            "image/png": "[encoded data removed]"
          },
          "metadata": {}
        }
      ],
      "source": [
        "# Decision tree Classifier \n",
        "\n",
        "evaluate(dt_bag11,X,Y)"
      ]
    },
    {
      "cell_type": "code",
      "execution_count": 247,
      "metadata": {
        "id": "a1rdMS3F17dB"
      },
      "outputs": [],
      "source": [
        "#accuracy_score(y_pred,y_test)"
      ]
    },
    {
      "cell_type": "code",
      "execution_count": 248,
      "metadata": {
        "id": "s_2ybwGqpj7_",
        "colab": {
          "base_uri": "https://localhost:8080/",
          "height": 399
        },
        "outputId": "118bae3a-3aee-4afd-cff9-6dec1a703090"
      },
      "outputs": [
        {
          "output_type": "display_data",
          "data": {
            "text/plain": [
              "<Figure size 1000x600 with 1 Axes>"
            ],
            "image/png": "[encoded data removed]"
          },
          "metadata": {}
        }
      ],
      "source": [
        "evaluate(dt_bag1,X,Y)"
      ]
    },
    {
      "cell_type": "code",
      "execution_count": 249,
      "metadata": {
        "id": "cbSgefmQq9VA",
        "colab": {
          "base_uri": "https://localhost:8080/",
          "height": 333
        },
        "outputId": "8dbb4cab-5779-4b7a-897a-68629b34a8ec"
      },
      "outputs": [
        {
          "output_type": "execute_result",
          "data": {
            "text/plain": [
              "    Effort   Vi      D    V  Sprint_Size  Work_days  Team_Salary  Act_Time  \\\n",
              "4      124  4.9  0.903  4.2           10         22       300000        32   \n",
              "12     101  3.9  0.773  2.9           10         22       200000        32   \n",
              "16     113  4.0  0.742  2.8           10         22       250000        39   \n",
              "10     131  4.6  0.758  3.2           10         22       250000        45   \n",
              "2      173  4.0  0.878  3.3           10         22       250000        56   \n",
              "16     113  4.0  0.742  2.8           10         22       250000        39   \n",
              "8       84  3.9  0.646  2.4           10         22       190000        36   \n",
              "\n",
              "    Actual_Cost  \n",
              "4        750000  \n",
              "12       600000  \n",
              "16       800000  \n",
              "10       800000  \n",
              "2       1000000  \n",
              "16       800000  \n",
              "8        500000  "
            ],
            "text/html": [
              "\n",
              "  <div id=\"df-8af63c79-af3c-4eab-afad-e3df4197fcdb\">\n",
              "    <div class=\"colab-df-container\">\n",
              "      <div>\n",
              "<style scoped>\n",
              "    .dataframe tbody tr th:only-of-type {\n",
              "        vertical-align: middle;\n",
              "    }\n",
              "\n",
              "    .dataframe tbody tr th {\n",
              "        vertical-align: top;\n",
              "    }\n",
              "\n",
              "    .dataframe thead th {\n",
              "        text-align: right;\n",
              "    }\n",
              "</style>\n",
              "<table border=\"1\" class=\"dataframe\">\n",
              "  <thead>\n",
              "    <tr style=\"text-align: right;\">\n",
              "      <th></th>\n",
              "      <th>Effort</th>\n",
              "      <th>Vi</th>\n",
              "      <th>D</th>\n",
              "      <th>V</th>\n",
              "      <th>Sprint_Size</th>\n",
              "      <th>Work_days</th>\n",
              "      <th>Team_Salary</th>\n",
              "      <th>Act_Time</th>\n",
              "      <th>Actual_Cost</th>\n",
              "    </tr>\n",
              "  </thead>\n",
              "  <tbody>\n",
              "    <tr>\n",
              "      <th>4</th>\n",
              "      <td>124</td>\n",
              "      <td>4.9</td>\n",
              "      <td>0.903</td>\n",
              "      <td>4.2</td>\n",
              "      <td>10</td>\n",
              "      <td>22</td>\n",
              "      <td>300000</td>\n",
              "      <td>32</td>\n",
              "      <td>750000</td>\n",
              "    </tr>\n",
              "    <tr>\n",
              "      <th>12</th>\n",
              "      <td>101</td>\n",
              "      <td>3.9</td>\n",
              "      <td>0.773</td>\n",
              "      <td>2.9</td>\n",
              "      <td>10</td>\n",
              "      <td>22</td>\n",
              "      <td>200000</td>\n",
              "      <td>32</td>\n",
              "      <td>600000</td>\n",
              "    </tr>\n",
              "    <tr>\n",
              "      <th>16</th>\n",
              "      <td>113</td>\n",
              "      <td>4.0</td>\n",
              "      <td>0.742</td>\n",
              "      <td>2.8</td>\n",
              "      <td>10</td>\n",
              "      <td>22</td>\n",
              "      <td>250000</td>\n",
              "      <td>39</td>\n",
              "      <td>800000</td>\n",
              "    </tr>\n",
              "    <tr>\n",
              "      <th>10</th>\n",
              "      <td>131</td>\n",
              "      <td>4.6</td>\n",
              "      <td>0.758</td>\n",
              "      <td>3.2</td>\n",
              "      <td>10</td>\n",
              "      <td>22</td>\n",
              "      <td>250000</td>\n",
              "      <td>45</td>\n",
              "      <td>800000</td>\n",
              "    </tr>\n",
              "    <tr>\n",
              "      <th>2</th>\n",
              "      <td>173</td>\n",
              "      <td>4.0</td>\n",
              "      <td>0.878</td>\n",
              "      <td>3.3</td>\n",
              "      <td>10</td>\n",
              "      <td>22</td>\n",
              "      <td>250000</td>\n",
              "      <td>56</td>\n",
              "      <td>1000000</td>\n",
              "    </tr>\n",
              "    <tr>\n",
              "      <th>16</th>\n",
              "      <td>113</td>\n",
              "      <td>4.0</td>\n",
              "      <td>0.742</td>\n",
              "      <td>2.8</td>\n",
              "      <td>10</td>\n",
              "      <td>22</td>\n",
              "      <td>250000</td>\n",
              "      <td>39</td>\n",
              "      <td>800000</td>\n",
              "    </tr>\n",
              "    <tr>\n",
              "      <th>8</th>\n",
              "      <td>84</td>\n",
              "      <td>3.9</td>\n",
              "      <td>0.646</td>\n",
              "      <td>2.4</td>\n",
              "      <td>10</td>\n",
              "      <td>22</td>\n",
              "      <td>190000</td>\n",
              "      <td>36</td>\n",
              "      <td>500000</td>\n",
              "    </tr>\n",
              "  </tbody>\n",
              "</table>\n",
              "</div>\n",
              "      <button class=\"colab-df-convert\" onclick=\"convertToInteractive('df-8af63c79-af3c-4eab-afad-e3df4197fcdb')\"\n",
              "              title=\"Convert this dataframe to an interactive table.\"\n",
              "              style=\"display:none;\">\n",
              "        \n",
              "  <svg xmlns=\"http://www.w3.org/2000/svg\" height=\"24px\"viewBox=\"0 0 24 24\"\n",
              "       width=\"24px\">\n",
              "    <path d=\"M0 0h24v24H0V0z\" fill=\"none\"/>\n",
              "    <path d=\"M18.56 5.44l.94 2.06.94-2.06 2.06-.94-2.06-.94-.94-2.06-.94 2.06-2.06.94zm-11 1L8.5 8.5l.94-2.06 2.06-.94-2.06-.94L8.5 2.5l-.94 2.06-2.06.94zm10 10l.94 2.06.94-2.06 2.06-.94-2.06-.94-.94-2.06-.94 2.06-2.06.94z\"/><path d=\"M17.41 7.96l-1.37-1.37c-.4-.4-.92-.59-1.43-.59-.52 0-1.04.2-1.43.59L10.3 9.45l-7.72 7.72c-.78.78-.78 2.05 0 2.83L4 21.41c.39.39.9.59 1.41.59.51 0 1.02-.2 1.41-.59l7.78-7.78 2.81-2.81c.8-.78.8-2.07 0-2.86zM5.41 20L4 18.59l7.72-7.72 1.47 1.35L5.41 20z\"/>\n",
              "  </svg>\n",
              "      </button>\n",
              "      \n",
              "  <style>\n",
              "    .colab-df-container {\n",
              "      display:flex;\n",
              "      flex-wrap:wrap;\n",
              "      gap: 12px;\n",
              "    }\n",
              "\n",
              "    .colab-df-convert {\n",
              "      background-color: #E8F0FE;\n",
              "      border: none;\n",
              "      border-radius: 50%;\n",
              "      cursor: pointer;\n",
              "      display: none;\n",
              "      fill: #1967D2;\n",
              "      height: 32px;\n",
              "      padding: 0 0 0 0;\n",
              "      width: 32px;\n",
              "    }\n",
              "\n",
              "    .colab-df-convert:hover {\n",
              "      background-color: #E2EBFA;\n",
              "      box-shadow: 0px 1px 2px rgba(60, 64, 67, 0.3), 0px 1px 3px 1px rgba(60, 64, 67, 0.15);\n",
              "      fill: #174EA6;\n",
              "    }\n",
              "\n",
              "    [theme=dark] .colab-df-convert {\n",
              "      background-color: #3B4455;\n",
              "      fill: #D2E3FC;\n",
              "    }\n",
              "\n",
              "    [theme=dark] .colab-df-convert:hover {\n",
              "      background-color: #434B5C;\n",
              "      box-shadow: 0px 1px 3px 1px rgba(0, 0, 0, 0.15);\n",
              "      filter: drop-shadow(0px 1px 2px rgba(0, 0, 0, 0.3));\n",
              "      fill: #FFFFFF;\n",
              "    }\n",
              "  </style>\n",
              "\n",
              "      <script>\n",
              "        const buttonEl =\n",
              "          document.querySelector('#df-8af63c79-af3c-4eab-afad-e3df4197fcdb button.colab-df-convert');\n",
              "        buttonEl.style.display =\n",
              "          google.colab.kernel.accessAllowed ? 'block' : 'none';\n",
              "\n",
              "        async function convertToInteractive(key) {\n",
              "          const element = document.querySelector('#df-8af63c79-af3c-4eab-afad-e3df4197fcdb');\n",
              "          const dataTable =\n",
              "            await google.colab.kernel.invokeFunction('convertToInteractive',\n",
              "                                                     [key], {});\n",
              "          if (!dataTable) return;\n",
              "\n",
              "          const docLinkHtml = 'Like what you see? Visit the ' +\n",
              "            '<a target=\"_blank\" href=https://colab.research.google.com/notebooks/data_table.ipynb>data table notebook</a>'\n",
              "            + ' to learn more about interactive tables.';\n",
              "          element.innerHTML = '';\n",
              "          dataTable['output_type'] = 'display_data';\n",
              "          await google.colab.output.renderOutput(dataTable, element);\n",
              "          const docLink = document.createElement('div');\n",
              "          docLink.innerHTML = docLinkHtml;\n",
              "          element.appendChild(docLink);\n",
              "        }\n",
              "      </script>\n",
              "    </div>\n",
              "  </div>\n",
              "  "
            ]
          },
          "metadata": {},
          "execution_count": 249
        }
      ],
      "source": [
        "#@title Bagging with 3 Decision Trees \n",
        "df_bag = dff_train.sample(7,replace=True) \n",
        "\n",
        "X= df_bag.iloc[:,0:8]\n",
        "Y= df_bag.iloc[:,-1]\n",
        "\n",
        "df_bag"
      ]
    },
    {
      "cell_type": "code",
      "execution_count": 250,
      "metadata": {
        "id": "VZG666BRrmhX",
        "colab": {
          "base_uri": "https://localhost:8080/",
          "height": 269
        },
        "outputId": "e92ded94-6ddf-42d7-99fc-8e030abd0bb8"
      },
      "outputs": [
        {
          "output_type": "execute_result",
          "data": {
            "text/plain": [
              "    Effort   Vi      D    V  Sprint_Size  Work_days  Team_Salary  Act_Time\n",
              "4      124  4.9  0.903  4.2           10         22       300000        32\n",
              "12     101  3.9  0.773  2.9           10         22       200000        32\n",
              "16     113  4.0  0.742  2.8           10         22       250000        39\n",
              "10     131  4.6  0.758  3.2           10         22       250000        45\n",
              "2      173  4.0  0.878  3.3           10         22       250000        56\n",
              "16     113  4.0  0.742  2.8           10         22       250000        39\n",
              "8       84  3.9  0.646  2.4           10         22       190000        36"
            ],
            "text/html": [
              "\n",
              "  <div id=\"df-dc2d6674-2fa3-4384-96ec-5f44fdd77d79\">\n",
              "    <div class=\"colab-df-container\">\n",
              "      <div>\n",
              "<style scoped>\n",
              "    .dataframe tbody tr th:only-of-type {\n",
              "        vertical-align: middle;\n",
              "    }\n",
              "\n",
              "    .dataframe tbody tr th {\n",
              "        vertical-align: top;\n",
              "    }\n",
              "\n",
              "    .dataframe thead th {\n",
              "        text-align: right;\n",
              "    }\n",
              "</style>\n",
              "<table border=\"1\" class=\"dataframe\">\n",
              "  <thead>\n",
              "    <tr style=\"text-align: right;\">\n",
              "      <th></th>\n",
              "      <th>Effort</th>\n",
              "      <th>Vi</th>\n",
              "      <th>D</th>\n",
              "      <th>V</th>\n",
              "      <th>Sprint_Size</th>\n",
              "      <th>Work_days</th>\n",
              "      <th>Team_Salary</th>\n",
              "      <th>Act_Time</th>\n",
              "    </tr>\n",
              "  </thead>\n",
              "  <tbody>\n",
              "    <tr>\n",
              "      <th>4</th>\n",
              "      <td>124</td>\n",
              "      <td>4.9</td>\n",
              "      <td>0.903</td>\n",
              "      <td>4.2</td>\n",
              "      <td>10</td>\n",
              "      <td>22</td>\n",
              "      <td>300000</td>\n",
              "      <td>32</td>\n",
              "    </tr>\n",
              "    <tr>\n",
              "      <th>12</th>\n",
              "      <td>101</td>\n",
              "      <td>3.9</td>\n",
              "      <td>0.773</td>\n",
              "      <td>2.9</td>\n",
              "      <td>10</td>\n",
              "      <td>22</td>\n",
              "      <td>200000</td>\n",
              "      <td>32</td>\n",
              "    </tr>\n",
              "    <tr>\n",
              "      <th>16</th>\n",
              "      <td>113</td>\n",
              "      <td>4.0</td>\n",
              "      <td>0.742</td>\n",
              "      <td>2.8</td>\n",
              "      <td>10</td>\n",
              "      <td>22</td>\n",
              "      <td>250000</td>\n",
              "      <td>39</td>\n",
              "    </tr>\n",
              "    <tr>\n",
              "      <th>10</th>\n",
              "      <td>131</td>\n",
              "      <td>4.6</td>\n",
              "      <td>0.758</td>\n",
              "      <td>3.2</td>\n",
              "      <td>10</td>\n",
              "      <td>22</td>\n",
              "      <td>250000</td>\n",
              "      <td>45</td>\n",
              "    </tr>\n",
              "    <tr>\n",
              "      <th>2</th>\n",
              "      <td>173</td>\n",
              "      <td>4.0</td>\n",
              "      <td>0.878</td>\n",
              "      <td>3.3</td>\n",
              "      <td>10</td>\n",
              "      <td>22</td>\n",
              "      <td>250000</td>\n",
              "      <td>56</td>\n",
              "    </tr>\n",
              "    <tr>\n",
              "      <th>16</th>\n",
              "      <td>113</td>\n",
              "      <td>4.0</td>\n",
              "      <td>0.742</td>\n",
              "      <td>2.8</td>\n",
              "      <td>10</td>\n",
              "      <td>22</td>\n",
              "      <td>250000</td>\n",
              "      <td>39</td>\n",
              "    </tr>\n",
              "    <tr>\n",
              "      <th>8</th>\n",
              "      <td>84</td>\n",
              "      <td>3.9</td>\n",
              "      <td>0.646</td>\n",
              "      <td>2.4</td>\n",
              "      <td>10</td>\n",
              "      <td>22</td>\n",
              "      <td>190000</td>\n",
              "      <td>36</td>\n",
              "    </tr>\n",
              "  </tbody>\n",
              "</table>\n",
              "</div>\n",
              "      <button class=\"colab-df-convert\" onclick=\"convertToInteractive('df-dc2d6674-2fa3-4384-96ec-5f44fdd77d79')\"\n",
              "              title=\"Convert this dataframe to an interactive table.\"\n",
              "              style=\"display:none;\">\n",
              "        \n",
              "  <svg xmlns=\"http://www.w3.org/2000/svg\" height=\"24px\"viewBox=\"0 0 24 24\"\n",
              "       width=\"24px\">\n",
              "    <path d=\"M0 0h24v24H0V0z\" fill=\"none\"/>\n",
              "    <path d=\"M18.56 5.44l.94 2.06.94-2.06 2.06-.94-2.06-.94-.94-2.06-.94 2.06-2.06.94zm-11 1L8.5 8.5l.94-2.06 2.06-.94-2.06-.94L8.5 2.5l-.94 2.06-2.06.94zm10 10l.94 2.06.94-2.06 2.06-.94-2.06-.94-.94-2.06-.94 2.06-2.06.94z\"/><path d=\"M17.41 7.96l-1.37-1.37c-.4-.4-.92-.59-1.43-.59-.52 0-1.04.2-1.43.59L10.3 9.45l-7.72 7.72c-.78.78-.78 2.05 0 2.83L4 21.41c.39.39.9.59 1.41.59.51 0 1.02-.2 1.41-.59l7.78-7.78 2.81-2.81c.8-.78.8-2.07 0-2.86zM5.41 20L4 18.59l7.72-7.72 1.47 1.35L5.41 20z\"/>\n",
              "  </svg>\n",
              "      </button>\n",
              "      \n",
              "  <style>\n",
              "    .colab-df-container {\n",
              "      display:flex;\n",
              "      flex-wrap:wrap;\n",
              "      gap: 12px;\n",
              "    }\n",
              "\n",
              "    .colab-df-convert {\n",
              "      background-color: #E8F0FE;\n",
              "      border: none;\n",
              "      border-radius: 50%;\n",
              "      cursor: pointer;\n",
              "      display: none;\n",
              "      fill: #1967D2;\n",
              "      height: 32px;\n",
              "      padding: 0 0 0 0;\n",
              "      width: 32px;\n",
              "    }\n",
              "\n",
              "    .colab-df-convert:hover {\n",
              "      background-color: #E2EBFA;\n",
              "      box-shadow: 0px 1px 2px rgba(60, 64, 67, 0.3), 0px 1px 3px 1px rgba(60, 64, 67, 0.15);\n",
              "      fill: #174EA6;\n",
              "    }\n",
              "\n",
              "    [theme=dark] .colab-df-convert {\n",
              "      background-color: #3B4455;\n",
              "      fill: #D2E3FC;\n",
              "    }\n",
              "\n",
              "    [theme=dark] .colab-df-convert:hover {\n",
              "      background-color: #434B5C;\n",
              "      box-shadow: 0px 1px 3px 1px rgba(0, 0, 0, 0.15);\n",
              "      filter: drop-shadow(0px 1px 2px rgba(0, 0, 0, 0.3));\n",
              "      fill: #FFFFFF;\n",
              "    }\n",
              "  </style>\n",
              "\n",
              "      <script>\n",
              "        const buttonEl =\n",
              "          document.querySelector('#df-dc2d6674-2fa3-4384-96ec-5f44fdd77d79 button.colab-df-convert');\n",
              "        buttonEl.style.display =\n",
              "          google.colab.kernel.accessAllowed ? 'block' : 'none';\n",
              "\n",
              "        async function convertToInteractive(key) {\n",
              "          const element = document.querySelector('#df-dc2d6674-2fa3-4384-96ec-5f44fdd77d79');\n",
              "          const dataTable =\n",
              "            await google.colab.kernel.invokeFunction('convertToInteractive',\n",
              "                                                     [key], {});\n",
              "          if (!dataTable) return;\n",
              "\n",
              "          const docLinkHtml = 'Like what you see? Visit the ' +\n",
              "            '<a target=\"_blank\" href=https://colab.research.google.com/notebooks/data_table.ipynb>data table notebook</a>'\n",
              "            + ' to learn more about interactive tables.';\n",
              "          element.innerHTML = '';\n",
              "          dataTable['output_type'] = 'display_data';\n",
              "          await google.colab.output.renderOutput(dataTable, element);\n",
              "          const docLink = document.createElement('div');\n",
              "          docLink.innerHTML = docLinkHtml;\n",
              "          element.appendChild(docLink);\n",
              "        }\n",
              "      </script>\n",
              "    </div>\n",
              "  </div>\n",
              "  "
            ]
          },
          "metadata": {},
          "execution_count": 250
        }
      ],
      "source": [
        "X"
      ]
    },
    {
      "cell_type": "code",
      "execution_count": 252,
      "metadata": {
        "id": "IJV28Clot9bt",
        "colab": {
          "base_uri": "https://localhost:8080/",
          "height": 333
        },
        "outputId": "e25e74f5-6250-43c8-dabe-5001aa1d68ba"
      },
      "outputs": [
        {
          "output_type": "execute_result",
          "data": {
            "text/plain": [
              "    Effort   Vi      D    V  Sprint_Size  Work_days  Team_Salary  Act_Time  \\\n",
              "4      124  4.9  0.903  4.2           10         22       300000        32   \n",
              "12     101  3.9  0.773  2.9           10         22       200000        32   \n",
              "16     113  4.0  0.742  2.8           10         22       250000        39   \n",
              "10     131  4.6  0.758  3.2           10         22       250000        45   \n",
              "2      173  4.0  0.878  3.3           10         22       250000        56   \n",
              "16     113  4.0  0.742  2.8           10         22       250000        39   \n",
              "8       84  3.9  0.646  2.4           10         22       190000        36   \n",
              "\n",
              "    Actual_Cost  \n",
              "4        750000  \n",
              "12       600000  \n",
              "16       800000  \n",
              "10       800000  \n",
              "2       1000000  \n",
              "16       800000  \n",
              "8        500000  "
            ],
            "text/html": [
              "\n",
              "  <div id=\"df-49844c1f-7e57-46e0-88d2-7a2c6994ce02\">\n",
              "    <div class=\"colab-df-container\">\n",
              "      <div>\n",
              "<style scoped>\n",
              "    .dataframe tbody tr th:only-of-type {\n",
              "        vertical-align: middle;\n",
              "    }\n",
              "\n",
              "    .dataframe tbody tr th {\n",
              "        vertical-align: top;\n",
              "    }\n",
              "\n",
              "    .dataframe thead th {\n",
              "        text-align: right;\n",
              "    }\n",
              "</style>\n",
              "<table border=\"1\" class=\"dataframe\">\n",
              "  <thead>\n",
              "    <tr style=\"text-align: right;\">\n",
              "      <th></th>\n",
              "      <th>Effort</th>\n",
              "      <th>Vi</th>\n",
              "      <th>D</th>\n",
              "      <th>V</th>\n",
              "      <th>Sprint_Size</th>\n",
              "      <th>Work_days</th>\n",
              "      <th>Team_Salary</th>\n",
              "      <th>Act_Time</th>\n",
              "      <th>Actual_Cost</th>\n",
              "    </tr>\n",
              "  </thead>\n",
              "  <tbody>\n",
              "    <tr>\n",
              "      <th>4</th>\n",
              "      <td>124</td>\n",
              "      <td>4.9</td>\n",
              "      <td>0.903</td>\n",
              "      <td>4.2</td>\n",
              "      <td>10</td>\n",
              "      <td>22</td>\n",
              "      <td>300000</td>\n",
              "      <td>32</td>\n",
              "      <td>750000</td>\n",
              "    </tr>\n",
              "    <tr>\n",
              "      <th>12</th>\n",
              "      <td>101</td>\n",
              "      <td>3.9</td>\n",
              "      <td>0.773</td>\n",
              "      <td>2.9</td>\n",
              "      <td>10</td>\n",
              "      <td>22</td>\n",
              "      <td>200000</td>\n",
              "      <td>32</td>\n",
              "      <td>600000</td>\n",
              "    </tr>\n",
              "    <tr>\n",
              "      <th>16</th>\n",
              "      <td>113</td>\n",
              "      <td>4.0</td>\n",
              "      <td>0.742</td>\n",
              "      <td>2.8</td>\n",
              "      <td>10</td>\n",
              "      <td>22</td>\n",
              "      <td>250000</td>\n",
              "      <td>39</td>\n",
              "      <td>800000</td>\n",
              "    </tr>\n",
              "    <tr>\n",
              "      <th>10</th>\n",
              "      <td>131</td>\n",
              "      <td>4.6</td>\n",
              "      <td>0.758</td>\n",
              "      <td>3.2</td>\n",
              "      <td>10</td>\n",
              "      <td>22</td>\n",
              "      <td>250000</td>\n",
              "      <td>45</td>\n",
              "      <td>800000</td>\n",
              "    </tr>\n",
              "    <tr>\n",
              "      <th>2</th>\n",
              "      <td>173</td>\n",
              "      <td>4.0</td>\n",
              "      <td>0.878</td>\n",
              "      <td>3.3</td>\n",
              "      <td>10</td>\n",
              "      <td>22</td>\n",
              "      <td>250000</td>\n",
              "      <td>56</td>\n",
              "      <td>1000000</td>\n",
              "    </tr>\n",
              "    <tr>\n",
              "      <th>16</th>\n",
              "      <td>113</td>\n",
              "      <td>4.0</td>\n",
              "      <td>0.742</td>\n",
              "      <td>2.8</td>\n",
              "      <td>10</td>\n",
              "      <td>22</td>\n",
              "      <td>250000</td>\n",
              "      <td>39</td>\n",
              "      <td>800000</td>\n",
              "    </tr>\n",
              "    <tr>\n",
              "      <th>8</th>\n",
              "      <td>84</td>\n",
              "      <td>3.9</td>\n",
              "      <td>0.646</td>\n",
              "      <td>2.4</td>\n",
              "      <td>10</td>\n",
              "      <td>22</td>\n",
              "      <td>190000</td>\n",
              "      <td>36</td>\n",
              "      <td>500000</td>\n",
              "    </tr>\n",
              "  </tbody>\n",
              "</table>\n",
              "</div>\n",
              "      <button class=\"colab-df-convert\" onclick=\"convertToInteractive('df-49844c1f-7e57-46e0-88d2-7a2c6994ce02')\"\n",
              "              title=\"Convert this dataframe to an interactive table.\"\n",
              "              style=\"display:none;\">\n",
              "        \n",
              "  <svg xmlns=\"http://www.w3.org/2000/svg\" height=\"24px\"viewBox=\"0 0 24 24\"\n",
              "       width=\"24px\">\n",
              "    <path d=\"M0 0h24v24H0V0z\" fill=\"none\"/>\n",
              "    <path d=\"M18.56 5.44l.94 2.06.94-2.06 2.06-.94-2.06-.94-.94-2.06-.94 2.06-2.06.94zm-11 1L8.5 8.5l.94-2.06 2.06-.94-2.06-.94L8.5 2.5l-.94 2.06-2.06.94zm10 10l.94 2.06.94-2.06 2.06-.94-2.06-.94-.94-2.06-.94 2.06-2.06.94z\"/><path d=\"M17.41 7.96l-1.37-1.37c-.4-.4-.92-.59-1.43-.59-.52 0-1.04.2-1.43.59L10.3 9.45l-7.72 7.72c-.78.78-.78 2.05 0 2.83L4 21.41c.39.39.9.59 1.41.59.51 0 1.02-.2 1.41-.59l7.78-7.78 2.81-2.81c.8-.78.8-2.07 0-2.86zM5.41 20L4 18.59l7.72-7.72 1.47 1.35L5.41 20z\"/>\n",
              "  </svg>\n",
              "      </button>\n",
              "      \n",
              "  <style>\n",
              "    .colab-df-container {\n",
              "      display:flex;\n",
              "      flex-wrap:wrap;\n",
              "      gap: 12px;\n",
              "    }\n",
              "\n",
              "    .colab-df-convert {\n",
              "      background-color: #E8F0FE;\n",
              "      border: none;\n",
              "      border-radius: 50%;\n",
              "      cursor: pointer;\n",
              "      display: none;\n",
              "      fill: #1967D2;\n",
              "      height: 32px;\n",
              "      padding: 0 0 0 0;\n",
              "      width: 32px;\n",
              "    }\n",
              "\n",
              "    .colab-df-convert:hover {\n",
              "      background-color: #E2EBFA;\n",
              "      box-shadow: 0px 1px 2px rgba(60, 64, 67, 0.3), 0px 1px 3px 1px rgba(60, 64, 67, 0.15);\n",
              "      fill: #174EA6;\n",
              "    }\n",
              "\n",
              "    [theme=dark] .colab-df-convert {\n",
              "      background-color: #3B4455;\n",
              "      fill: #D2E3FC;\n",
              "    }\n",
              "\n",
              "    [theme=dark] .colab-df-convert:hover {\n",
              "      background-color: #434B5C;\n",
              "      box-shadow: 0px 1px 3px 1px rgba(0, 0, 0, 0.15);\n",
              "      filter: drop-shadow(0px 1px 2px rgba(0, 0, 0, 0.3));\n",
              "      fill: #FFFFFF;\n",
              "    }\n",
              "  </style>\n",
              "\n",
              "      <script>\n",
              "        const buttonEl =\n",
              "          document.querySelector('#df-49844c1f-7e57-46e0-88d2-7a2c6994ce02 button.colab-df-convert');\n",
              "        buttonEl.style.display =\n",
              "          google.colab.kernel.accessAllowed ? 'block' : 'none';\n",
              "\n",
              "        async function convertToInteractive(key) {\n",
              "          const element = document.querySelector('#df-49844c1f-7e57-46e0-88d2-7a2c6994ce02');\n",
              "          const dataTable =\n",
              "            await google.colab.kernel.invokeFunction('convertToInteractive',\n",
              "                                                     [key], {});\n",
              "          if (!dataTable) return;\n",
              "\n",
              "          const docLinkHtml = 'Like what you see? Visit the ' +\n",
              "            '<a target=\"_blank\" href=https://colab.research.google.com/notebooks/data_table.ipynb>data table notebook</a>'\n",
              "            + ' to learn more about interactive tables.';\n",
              "          element.innerHTML = '';\n",
              "          dataTable['output_type'] = 'display_data';\n",
              "          await google.colab.output.renderOutput(dataTable, element);\n",
              "          const docLink = document.createElement('div');\n",
              "          docLink.innerHTML = docLinkHtml;\n",
              "          element.appendChild(docLink);\n",
              "        }\n",
              "      </script>\n",
              "    </div>\n",
              "  </div>\n",
              "  "
            ]
          },
          "metadata": {},
          "execution_count": 252
        }
      ],
      "source": [
        "#@title Bagging with 3 Decision Trees 2nd Bag\n",
        "df_bag2 = dff_train.sample(7,replace=True) \n",
        "\n",
        "X= df_bag2.iloc[:,0:8]\n",
        "Y= df_bag2.iloc[:,-1]\n",
        "\n",
        "df_bag"
      ]
    },
    {
      "cell_type": "code",
      "execution_count": 253,
      "metadata": {
        "id": "dyEyItLDtDcI",
        "colab": {
          "base_uri": "https://localhost:8080/",
          "height": 399
        },
        "outputId": "63d7a0cb-110e-405d-a96c-a14e9b06f7af"
      },
      "outputs": [
        {
          "output_type": "display_data",
          "data": {
            "text/plain": [
              "<Figure size 1000x600 with 1 Axes>"
            ],
            "image/png": "[encoded data removed]"
          },
          "metadata": {}
        }
      ],
      "source": [
        "dt_bag2 = DecisionTreeRegressor()\n",
        "evaluate(dt_bag2,X,Y)"
      ]
    },
    {
      "cell_type": "code",
      "execution_count": 254,
      "metadata": {
        "id": "RvzAo2NWtY84",
        "colab": {
          "base_uri": "https://localhost:8080/",
          "height": 399
        },
        "outputId": "e23f0cc8-fe3f-4981-c99a-a893fc47202e"
      },
      "outputs": [
        {
          "output_type": "display_data",
          "data": {
            "text/plain": [
              "<Figure size 1000x600 with 1 Axes>"
            ],
            "image/png": "[encoded data removed]"
          },
          "metadata": {}
        }
      ],
      "source": [
        "dt_bag22 = DecisionTreeClassifier()\n",
        "evaluate(dt_bag22,X,Y)"
      ]
    },
    {
      "cell_type": "code",
      "execution_count": 255,
      "metadata": {
        "id": "qj-OW-dTu2-V",
        "colab": {
          "base_uri": "https://localhost:8080/",
          "height": 333
        },
        "outputId": "a9a2d6cb-4836-4105-c614-4de5b5a8760a"
      },
      "outputs": [
        {
          "output_type": "execute_result",
          "data": {
            "text/plain": [
              "    Effort   Vi      D    V  Sprint_Size  Work_days  Team_Salary  Act_Time  \\\n",
              "16     113  4.0  0.742  2.8           10         22       250000        39   \n",
              "13      74  3.9  0.773  2.9           10         22       200000        30   \n",
              "8       84  3.9  0.646  2.4           10         22       190000        36   \n",
              "17     141  4.0  0.742  2.8           10         22       250000        52   \n",
              "4      124  4.9  0.903  4.2           10         22       300000        32   \n",
              "13      74  3.9  0.773  2.9           10         22       200000        30   \n",
              "16     113  4.0  0.742  2.8           10         22       250000        39   \n",
              "\n",
              "    Actual_Cost  \n",
              "16       800000  \n",
              "13       400000  \n",
              "8        500000  \n",
              "17      1000000  \n",
              "4        750000  \n",
              "13       400000  \n",
              "16       800000  "
            ],
            "text/html": [
              "\n",
              "  <div id=\"df-12243a32-f5be-4aac-92fe-751eb421e093\">\n",
              "    <div class=\"colab-df-container\">\n",
              "      <div>\n",
              "<style scoped>\n",
              "    .dataframe tbody tr th:only-of-type {\n",
              "        vertical-align: middle;\n",
              "    }\n",
              "\n",
              "    .dataframe tbody tr th {\n",
              "        vertical-align: top;\n",
              "    }\n",
              "\n",
              "    .dataframe thead th {\n",
              "        text-align: right;\n",
              "    }\n",
              "</style>\n",
              "<table border=\"1\" class=\"dataframe\">\n",
              "  <thead>\n",
              "    <tr style=\"text-align: right;\">\n",
              "      <th></th>\n",
              "      <th>Effort</th>\n",
              "      <th>Vi</th>\n",
              "      <th>D</th>\n",
              "      <th>V</th>\n",
              "      <th>Sprint_Size</th>\n",
              "      <th>Work_days</th>\n",
              "      <th>Team_Salary</th>\n",
              "      <th>Act_Time</th>\n",
              "      <th>Actual_Cost</th>\n",
              "    </tr>\n",
              "  </thead>\n",
              "  <tbody>\n",
              "    <tr>\n",
              "      <th>16</th>\n",
              "      <td>113</td>\n",
              "      <td>4.0</td>\n",
              "      <td>0.742</td>\n",
              "      <td>2.8</td>\n",
              "      <td>10</td>\n",
              "      <td>22</td>\n",
              "      <td>250000</td>\n",
              "      <td>39</td>\n",
              "      <td>800000</td>\n",
              "    </tr>\n",
              "    <tr>\n",
              "      <th>13</th>\n",
              "      <td>74</td>\n",
              "      <td>3.9</td>\n",
              "      <td>0.773</td>\n",
              "      <td>2.9</td>\n",
              "      <td>10</td>\n",
              "      <td>22</td>\n",
              "      <td>200000</td>\n",
              "      <td>30</td>\n",
              "      <td>400000</td>\n",
              "    </tr>\n",
              "    <tr>\n",
              "      <th>8</th>\n",
              "      <td>84</td>\n",
              "      <td>3.9</td>\n",
              "      <td>0.646</td>\n",
              "      <td>2.4</td>\n",
              "      <td>10</td>\n",
              "      <td>22</td>\n",
              "      <td>190000</td>\n",
              "      <td>36</td>\n",
              "      <td>500000</td>\n",
              "    </tr>\n",
              "    <tr>\n",
              "      <th>17</th>\n",
              "      <td>141</td>\n",
              "      <td>4.0</td>\n",
              "      <td>0.742</td>\n",
              "      <td>2.8</td>\n",
              "      <td>10</td>\n",
              "      <td>22</td>\n",
              "      <td>250000</td>\n",
              "      <td>52</td>\n",
              "      <td>1000000</td>\n",
              "    </tr>\n",
              "    <tr>\n",
              "      <th>4</th>\n",
              "      <td>124</td>\n",
              "      <td>4.9</td>\n",
              "      <td>0.903</td>\n",
              "      <td>4.2</td>\n",
              "      <td>10</td>\n",
              "      <td>22</td>\n",
              "      <td>300000</td>\n",
              "      <td>32</td>\n",
              "      <td>750000</td>\n",
              "    </tr>\n",
              "    <tr>\n",
              "      <th>13</th>\n",
              "      <td>74</td>\n",
              "      <td>3.9</td>\n",
              "      <td>0.773</td>\n",
              "      <td>2.9</td>\n",
              "      <td>10</td>\n",
              "      <td>22</td>\n",
              "      <td>200000</td>\n",
              "      <td>30</td>\n",
              "      <td>400000</td>\n",
              "    </tr>\n",
              "    <tr>\n",
              "      <th>16</th>\n",
              "      <td>113</td>\n",
              "      <td>4.0</td>\n",
              "      <td>0.742</td>\n",
              "      <td>2.8</td>\n",
              "      <td>10</td>\n",
              "      <td>22</td>\n",
              "      <td>250000</td>\n",
              "      <td>39</td>\n",
              "      <td>800000</td>\n",
              "    </tr>\n",
              "  </tbody>\n",
              "</table>\n",
              "</div>\n",
              "      <button class=\"colab-df-convert\" onclick=\"convertToInteractive('df-12243a32-f5be-4aac-92fe-751eb421e093')\"\n",
              "              title=\"Convert this dataframe to an interactive table.\"\n",
              "              style=\"display:none;\">\n",
              "        \n",
              "  <svg xmlns=\"http://www.w3.org/2000/svg\" height=\"24px\"viewBox=\"0 0 24 24\"\n",
              "       width=\"24px\">\n",
              "    <path d=\"M0 0h24v24H0V0z\" fill=\"none\"/>\n",
              "    <path d=\"M18.56 5.44l.94 2.06.94-2.06 2.06-.94-2.06-.94-.94-2.06-.94 2.06-2.06.94zm-11 1L8.5 8.5l.94-2.06 2.06-.94-2.06-.94L8.5 2.5l-.94 2.06-2.06.94zm10 10l.94 2.06.94-2.06 2.06-.94-2.06-.94-.94-2.06-.94 2.06-2.06.94z\"/><path d=\"M17.41 7.96l-1.37-1.37c-.4-.4-.92-.59-1.43-.59-.52 0-1.04.2-1.43.59L10.3 9.45l-7.72 7.72c-.78.78-.78 2.05 0 2.83L4 21.41c.39.39.9.59 1.41.59.51 0 1.02-.2 1.41-.59l7.78-7.78 2.81-2.81c.8-.78.8-2.07 0-2.86zM5.41 20L4 18.59l7.72-7.72 1.47 1.35L5.41 20z\"/>\n",
              "  </svg>\n",
              "      </button>\n",
              "      \n",
              "  <style>\n",
              "    .colab-df-container {\n",
              "      display:flex;\n",
              "      flex-wrap:wrap;\n",
              "      gap: 12px;\n",
              "    }\n",
              "\n",
              "    .colab-df-convert {\n",
              "      background-color: #E8F0FE;\n",
              "      border: none;\n",
              "      border-radius: 50%;\n",
              "      cursor: pointer;\n",
              "      display: none;\n",
              "      fill: #1967D2;\n",
              "      height: 32px;\n",
              "      padding: 0 0 0 0;\n",
              "      width: 32px;\n",
              "    }\n",
              "\n",
              "    .colab-df-convert:hover {\n",
              "      background-color: #E2EBFA;\n",
              "      box-shadow: 0px 1px 2px rgba(60, 64, 67, 0.3), 0px 1px 3px 1px rgba(60, 64, 67, 0.15);\n",
              "      fill: #174EA6;\n",
              "    }\n",
              "\n",
              "    [theme=dark] .colab-df-convert {\n",
              "      background-color: #3B4455;\n",
              "      fill: #D2E3FC;\n",
              "    }\n",
              "\n",
              "    [theme=dark] .colab-df-convert:hover {\n",
              "      background-color: #434B5C;\n",
              "      box-shadow: 0px 1px 3px 1px rgba(0, 0, 0, 0.15);\n",
              "      filter: drop-shadow(0px 1px 2px rgba(0, 0, 0, 0.3));\n",
              "      fill: #FFFFFF;\n",
              "    }\n",
              "  </style>\n",
              "\n",
              "      <script>\n",
              "        const buttonEl =\n",
              "          document.querySelector('#df-12243a32-f5be-4aac-92fe-751eb421e093 button.colab-df-convert');\n",
              "        buttonEl.style.display =\n",
              "          google.colab.kernel.accessAllowed ? 'block' : 'none';\n",
              "\n",
              "        async function convertToInteractive(key) {\n",
              "          const element = document.querySelector('#df-12243a32-f5be-4aac-92fe-751eb421e093');\n",
              "          const dataTable =\n",
              "            await google.colab.kernel.invokeFunction('convertToInteractive',\n",
              "                                                     [key], {});\n",
              "          if (!dataTable) return;\n",
              "\n",
              "          const docLinkHtml = 'Like what you see? Visit the ' +\n",
              "            '<a target=\"_blank\" href=https://colab.research.google.com/notebooks/data_table.ipynb>data table notebook</a>'\n",
              "            + ' to learn more about interactive tables.';\n",
              "          element.innerHTML = '';\n",
              "          dataTable['output_type'] = 'display_data';\n",
              "          await google.colab.output.renderOutput(dataTable, element);\n",
              "          const docLink = document.createElement('div');\n",
              "          docLink.innerHTML = docLinkHtml;\n",
              "          element.appendChild(docLink);\n",
              "        }\n",
              "      </script>\n",
              "    </div>\n",
              "  </div>\n",
              "  "
            ]
          },
          "metadata": {},
          "execution_count": 255
        }
      ],
      "source": [
        "#@title Bagging with 3 Decision Trees 3rd Bag\n",
        "df_bag3 = dff_train.sample(7,replace=True) \n",
        "\n",
        "X= df_bag3.iloc[:,0:8]\n",
        "Y= df_bag3.iloc[:,-1]\n",
        "\n",
        "df_bag3"
      ]
    },
    {
      "cell_type": "code",
      "execution_count": 256,
      "metadata": {
        "id": "vUDDZqeoxeU2",
        "colab": {
          "base_uri": "https://localhost:8080/",
          "height": 399
        },
        "outputId": "5677c105-0546-4e5a-b498-5e070e5fc444"
      },
      "outputs": [
        {
          "output_type": "display_data",
          "data": {
            "text/plain": [
              "<Figure size 1000x600 with 1 Axes>"
            ],
            "image/png": "[encoded data removed]"
          },
          "metadata": {}
        }
      ],
      "source": [
        "df_bag3 = DecisionTreeRegressor()\n",
        "evaluate(df_bag3,X,Y)"
      ]
    },
    {
      "cell_type": "code",
      "source": [
        "from sklearn.ensemble import BaggingRegressor\n",
        "X_train,X_test,Y_train,Y_test = train_test_split(Cat_1,Cat_2,test_size=0.25,random_state=0)\n",
        "\n",
        "# now printing the overall sizes of our splitted result\n",
        "print(\"Train / Test Sets sizes: \", x_train.shape,x_test.shape,y_train.shape,y_test.shape )"
      ],
      "metadata": {
        "colab": {
          "base_uri": "https://localhost:8080/"
        },
        "id": "xifizakcKb2U",
        "outputId": "403180a7-591c-466b-a945-264da1d21918"
      },
      "execution_count": 257,
      "outputs": [
        {
          "output_type": "stream",
          "name": "stdout",
          "text": [
            "Train / Test Sets sizes:  (16, 7) (5, 7) (16,) (3, 9)\n"
          ]
        }
      ]
    },
    {
      "cell_type": "code",
      "source": [
        "%%time\n",
        "\n",
        "# n_samples = data_read.data.shape[0]\n",
        "# n_features = data_read.data.shape[1]\n",
        "\n",
        "params = {'base_estimator': [None, df_bag3,df_bag2,df_bag],\n",
        "          'n_estimators': [10,15,21],\n",
        "          'max_samples': [0.25,0.5],\n",
        "          'max_features': [0.5,1.0],\n",
        "          'bootstrap': [True, False],\n",
        "          'bootstrap_features': [True, False]}\n",
        "\n",
        "bagging_regressor_grid = GridSearchCV(BaggingRegressor(random_state=1, n_jobs=-1), param_grid =params, cv=2, n_jobs=-1, verbose=1)\n",
        "import warnings\n",
        "warnings.filterwarnings('ignore')\n",
        "bagging_regressor_grid.fit(X_train, Y_train)\n",
        "\n",
        "print('Train R^2 Score : %.3f'%bagging_regressor_grid.best_estimator_.score(X_train, Y_train))\n",
        "\n",
        "print('Overall R^2 Score : %.3f'%bagging_regressor_grid.best_estimator_.score(Cat_1,Cat_2))\n",
        "print('Best Parameters : ',bagging_regressor_grid.best_params_)\n",
        "\n",
        "\n",
        "     "
      ],
      "metadata": {
        "colab": {
          "base_uri": "https://localhost:8080/"
        },
        "id": "sX_23Msc9WKw",
        "outputId": "cb4e4ab9-d486-444c-9e6a-78bd2d19661d"
      },
      "execution_count": 258,
      "outputs": [
        {
          "output_type": "stream",
          "name": "stdout",
          "text": [
            "Fitting 2 folds for each of 192 candidates, totalling 384 fits\n",
            "Train R^2 Score : 0.935\n",
            "Overall R^2 Score : 0.940\n",
            "Best Parameters :  {'base_estimator': None, 'bootstrap': False, 'bootstrap_features': False, 'max_features': 0.5, 'max_samples': 0.5, 'n_estimators': 15}\n",
            "CPU times: user 290 ms, sys: 14.4 ms, total: 304 ms\n",
            "Wall time: 5.9 s\n"
          ]
        }
      ]
    },
    {
      "cell_type": "code",
      "source": [
        "result=bagging_regressor_grid.predict(Cat_1) \n",
        "result"
      ],
      "metadata": {
        "colab": {
          "base_uri": "https://localhost:8080/"
        },
        "id": "jh2Oph4T--ZG",
        "outputId": "68efbaac-d2e2-48ea-cedd-1a2fc7a33e95"
      },
      "execution_count": 259,
      "outputs": [
        {
          "output_type": "execute_result",
          "data": {
            "text/plain": [
              "array([177.4       , 209.7       , 175.33333333, 297.73333333,\n",
              "       158.        , 311.4       , 112.8       , 237.5       ,\n",
              "        98.3       , 187.86666667, 125.33333333,  99.1       ,\n",
              "        99.36666667,  94.43333333,  89.23333333, 262.6       ,\n",
              "       128.13333333, 159.46666667, 226.46666667, 129.1       ,\n",
              "       112.5       ])"
            ]
          },
          "metadata": {},
          "execution_count": 259
        }
      ]
    },
    {
      "cell_type": "code",
      "source": [
        "Y_test_pred_BAGGING= bagging_regressor_grid.predict(X_test)\n",
        "Y_train_pred_BAGGING= bagging_regressor_grid.predict(X_train)\n"
      ],
      "metadata": {
        "id": "DUvm2RuMLsEy"
      },
      "execution_count": 260,
      "outputs": []
    },
    {
      "cell_type": "code",
      "source": [
        "#@title Evaluation results  Ensemble Learning Bagging - With Our Hybrid Approach using GridSearchCV  On Multiple Decision Trees\n",
        "\n",
        "diff=np.absolute(Y_test-Y_test_pred_BAGGING)\n",
        "MRE=(diff/Y_test)/MRE.size\n",
        "MMRE=np.mean(MRE)\n",
        "MdMRE=np.median(MRE)\n",
        "P=MRE[MRE<.25]\n",
        "Pred=(P.size/MRE.size) * 100\n",
        "print(\"MMRE\",MMRE)\n",
        "print(\"MdMRE\",MdMRE)\n",
        "print(\"PRED 25%\",Pred)\n",
        "Accuracy=(1-MRE)*100\n",
        "Accuracy=(Accuracy.mean())\n",
        "# MRE=(diff/y_test)/MRE.size\n",
        "P2=MRE[MRE<MMRE]\n",
        "print(\"PRED MMRE\",Pred2)\n",
        "print(\"Model Accuracy\",Accuracy)"
      ],
      "metadata": {
        "colab": {
          "base_uri": "https://localhost:8080/"
        },
        "id": "8yLIHD0pAc-S",
        "outputId": "3c06f888-b998-4e0b-b99f-6699fa042491"
      },
      "execution_count": 261,
      "outputs": [
        {
          "output_type": "stream",
          "name": "stdout",
          "text": [
            "MMRE 0.029306077946439593\n",
            "MdMRE 0.028541666666666667\n",
            "PRED 25% 100.0\n",
            "PRED MMRE 60.0\n",
            "Model Accuracy 97.06939220535604\n"
          ]
        }
      ]
    },
    {
      "cell_type": "code",
      "execution_count": 262,
      "metadata": {
        "id": "TE0yf9V-0AOP"
      },
      "outputs": [],
      "source": [
        "#@title Using Ensemble Technique 1st set of Algorithms\n",
        "\n",
        "# 1\n",
        "from sklearn.ensemble import BaggingRegressor\n",
        "\n"
      ]
    },
    {
      "cell_type": "code",
      "execution_count": 263,
      "metadata": {
        "id": "QSlz9RJL63J7",
        "colab": {
          "base_uri": "https://localhost:8080/"
        },
        "outputId": "aa6f98b8-ad57-4187-f228-4c35282edf2e"
      },
      "outputs": [
        {
          "output_type": "stream",
          "name": "stdout",
          "text": [
            "Train / Test Sets sizes:  (16, 7) (5, 7) (16,) (3, 9)\n"
          ]
        }
      ],
      "source": [
        "X_train,X_test,Y_train,Y_test = train_test_split(Cat_1,Cat_2,test_size=0.25,random_state=0)\n",
        "\n",
        "# now printing the overall sizes of our splitted result\n",
        "print(\"Train / Test Sets sizes: \", x_train.shape,x_test.shape,y_train.shape,y_test.shape )"
      ]
    },
    {
      "cell_type": "code",
      "execution_count": 264,
      "metadata": {
        "id": "Uo3dRzut7SU5"
      },
      "outputs": [],
      "source": [
        "lr = LinearRegression()\n",
        "dt = DecisionTreeRegressor()\n",
        "knn = KNeighborsRegressor()"
      ]
    },
    {
      "cell_type": "code",
      "execution_count": 265,
      "metadata": {
        "id": "Eh0jU5qiBGSg",
        "colab": {
          "base_uri": "https://localhost:8080/",
          "height": 75
        },
        "outputId": "82b30e1d-e247-4903-8170-7edb3c5f6ebb"
      },
      "outputs": [
        {
          "output_type": "execute_result",
          "data": {
            "text/plain": [
              "KNeighborsRegressor()"
            ],
            "text/html": [
              "<style>#sk-container-id-1 {color: black;background-color: white;}#sk-container-id-1 pre{padding: 0;}#sk-container-id-1 div.sk-toggleable {background-color: white;}#sk-container-id-1 label.sk-toggleable__label {cursor: pointer;display: block;width: 100%;margin-bottom: 0;padding: 0.3em;box-sizing: border-box;text-align: center;}#sk-container-id-1 label.sk-toggleable__label-arrow:before {content: \"▸\";float: left;margin-right: 0.25em;color: #696969;}#sk-container-id-1 label.sk-toggleable__label-arrow:hover:before {color: black;}#sk-container-id-1 div.sk-estimator:hover label.sk-toggleable__label-arrow:before {color: black;}#sk-container-id-1 div.sk-toggleable__content {max-height: 0;max-width: 0;overflow: hidden;text-align: left;background-color: #f0f8ff;}#sk-container-id-1 div.sk-toggleable__content pre {margin: 0.2em;color: black;border-radius: 0.25em;background-color: #f0f8ff;}#sk-container-id-1 input.sk-toggleable__control:checked~div.sk-toggleable__content {max-height: 200px;max-width: 100%;overflow: auto;}#sk-container-id-1 input.sk-toggleable__control:checked~label.sk-toggleable__label-arrow:before {content: \"▾\";}#sk-container-id-1 div.sk-estimator input.sk-toggleable__control:checked~label.sk-toggleable__label {background-color: #d4ebff;}#sk-container-id-1 div.sk-label input.sk-toggleable__control:checked~label.sk-toggleable__label {background-color: #d4ebff;}#sk-container-id-1 input.sk-hidden--visually {border: 0;clip: rect(1px 1px 1px 1px);clip: rect(1px, 1px, 1px, 1px);height: 1px;margin: -1px;overflow: hidden;padding: 0;position: absolute;width: 1px;}#sk-container-id-1 div.sk-estimator {font-family: monospace;background-color: #f0f8ff;border: 1px dotted black;border-radius: 0.25em;box-sizing: border-box;margin-bottom: 0.5em;}#sk-container-id-1 div.sk-estimator:hover {background-color: #d4ebff;}#sk-container-id-1 div.sk-parallel-item::after {content: \"\";width: 100%;border-bottom: 1px solid gray;flex-grow: 1;}#sk-container-id-1 div.sk-label:hover label.sk-toggleable__label {background-color: #d4ebff;}#sk-container-id-1 div.sk-serial::before {content: \"\";position: absolute;border-left: 1px solid gray;box-sizing: border-box;top: 0;bottom: 0;left: 50%;z-index: 0;}#sk-container-id-1 div.sk-serial {display: flex;flex-direction: column;align-items: center;background-color: white;padding-right: 0.2em;padding-left: 0.2em;position: relative;}#sk-container-id-1 div.sk-item {position: relative;z-index: 1;}#sk-container-id-1 div.sk-parallel {display: flex;align-items: stretch;justify-content: center;background-color: white;position: relative;}#sk-container-id-1 div.sk-item::before, #sk-container-id-1 div.sk-parallel-item::before {content: \"\";position: absolute;border-left: 1px solid gray;box-sizing: border-box;top: 0;bottom: 0;left: 50%;z-index: -1;}#sk-container-id-1 div.sk-parallel-item {display: flex;flex-direction: column;z-index: 1;position: relative;background-color: white;}#sk-container-id-1 div.sk-parallel-item:first-child::after {align-self: flex-end;width: 50%;}#sk-container-id-1 div.sk-parallel-item:last-child::after {align-self: flex-start;width: 50%;}#sk-container-id-1 div.sk-parallel-item:only-child::after {width: 0;}#sk-container-id-1 div.sk-dashed-wrapped {border: 1px dashed gray;margin: 0 0.4em 0.5em 0.4em;box-sizing: border-box;padding-bottom: 0.4em;background-color: white;}#sk-container-id-1 div.sk-label label {font-family: monospace;font-weight: bold;display: inline-block;line-height: 1.2em;}#sk-container-id-1 div.sk-label-container {text-align: center;}#sk-container-id-1 div.sk-container {/* jupyter's `normalize.less` sets `[hidden] { display: none; }` but bootstrap.min.css set `[hidden] { display: none !important; }` so we also need the `!important` here to be able to override the default hidden behavior on the sphinx rendered scikit-learn.org. See: https://github.com/scikit-learn/scikit-learn/issues/21755 */display: inline-block !important;position: relative;}#sk-container-id-1 div.sk-text-repr-fallback {display: none;}</style><div id=\"sk-container-id-1\" class=\"sk-top-container\"><div class=\"sk-text-repr-fallback\"><pre>KNeighborsRegressor()</pre><b>In a Jupyter environment, please rerun this cell to show the HTML representation or trust the notebook. <br />On GitHub, the HTML representation is unable to render, please try loading this page with nbviewer.org.</b></div><div class=\"sk-container\" hidden><div class=\"sk-item\"><div class=\"sk-estimator sk-toggleable\"><input class=\"sk-toggleable__control sk-hidden--visually\" id=\"sk-estimator-id-1\" type=\"checkbox\" checked><label for=\"sk-estimator-id-1\" class=\"sk-toggleable__label sk-toggleable__label-arrow\">KNeighborsRegressor</label><div class=\"sk-toggleable__content\"><pre>KNeighborsRegressor()</pre></div></div></div></div></div>"
            ]
          },
          "metadata": {},
          "execution_count": 265
        }
      ],
      "source": [
        "lr.fit(X_train,Y_train)\n",
        "dt.fit(X_train,Y_train)\n",
        "knn.fit(X_train,Y_train)"
      ]
    },
    {
      "cell_type": "code",
      "execution_count": 266,
      "metadata": {
        "id": "I761XdcFBKG_"
      },
      "outputs": [],
      "source": [
        "y_pred1 = lr.predict(X_test)\n",
        "y_pred2 = dt.predict(X_test)\n",
        "y_pred3 = knn.predict(X_test)"
      ]
    },
    {
      "cell_type": "code",
      "execution_count": 267,
      "metadata": {
        "id": "rgKpJQq_BOim",
        "colab": {
          "base_uri": "https://localhost:8080/"
        },
        "outputId": "109e3d85-e8d5-4213-a468-16ef2995c057"
      },
      "outputs": [
        {
          "output_type": "stream",
          "name": "stdout",
          "text": [
            "R^2 score for LR 0.9537808682088416\n",
            "R^2 score for DT 0.22646916857728983\n",
            "R^2 score for KNN 0.8088319053939906\n"
          ]
        }
      ],
      "source": [
        "print(\"R^2 score for LR\",r2_score(Y_test,y_pred1))\n",
        "print(\"R^2 score for DT\",r2_score(Y_test,y_pred2))\n",
        "print(\"R^2 score for KNN\",r2_score(Y_test,y_pred3))"
      ]
    },
    {
      "cell_type": "code",
      "execution_count": 268,
      "metadata": {
        "id": "v3VIOwDGBTsh",
        "colab": {
          "base_uri": "https://localhost:8080/",
          "height": 75
        },
        "outputId": "7a2d0187-2901-4783-a5b1-52a2ee03554a"
      },
      "outputs": [
        {
          "output_type": "execute_result",
          "data": {
            "text/plain": [
              "BaggingRegressor(random_state=1)"
            ],
            "text/html": [
              "<style>#sk-container-id-2 {color: black;background-color: white;}#sk-container-id-2 pre{padding: 0;}#sk-container-id-2 div.sk-toggleable {background-color: white;}#sk-container-id-2 label.sk-toggleable__label {cursor: pointer;display: block;width: 100%;margin-bottom: 0;padding: 0.3em;box-sizing: border-box;text-align: center;}#sk-container-id-2 label.sk-toggleable__label-arrow:before {content: \"▸\";float: left;margin-right: 0.25em;color: #696969;}#sk-container-id-2 label.sk-toggleable__label-arrow:hover:before {color: black;}#sk-container-id-2 div.sk-estimator:hover label.sk-toggleable__label-arrow:before {color: black;}#sk-container-id-2 div.sk-toggleable__content {max-height: 0;max-width: 0;overflow: hidden;text-align: left;background-color: #f0f8ff;}#sk-container-id-2 div.sk-toggleable__content pre {margin: 0.2em;color: black;border-radius: 0.25em;background-color: #f0f8ff;}#sk-container-id-2 input.sk-toggleable__control:checked~div.sk-toggleable__content {max-height: 200px;max-width: 100%;overflow: auto;}#sk-container-id-2 input.sk-toggleable__control:checked~label.sk-toggleable__label-arrow:before {content: \"▾\";}#sk-container-id-2 div.sk-estimator input.sk-toggleable__control:checked~label.sk-toggleable__label {background-color: #d4ebff;}#sk-container-id-2 div.sk-label input.sk-toggleable__control:checked~label.sk-toggleable__label {background-color: #d4ebff;}#sk-container-id-2 input.sk-hidden--visually {border: 0;clip: rect(1px 1px 1px 1px);clip: rect(1px, 1px, 1px, 1px);height: 1px;margin: -1px;overflow: hidden;padding: 0;position: absolute;width: 1px;}#sk-container-id-2 div.sk-estimator {font-family: monospace;background-color: #f0f8ff;border: 1px dotted black;border-radius: 0.25em;box-sizing: border-box;margin-bottom: 0.5em;}#sk-container-id-2 div.sk-estimator:hover {background-color: #d4ebff;}#sk-container-id-2 div.sk-parallel-item::after {content: \"\";width: 100%;border-bottom: 1px solid gray;flex-grow: 1;}#sk-container-id-2 div.sk-label:hover label.sk-toggleable__label {background-color: #d4ebff;}#sk-container-id-2 div.sk-serial::before {content: \"\";position: absolute;border-left: 1px solid gray;box-sizing: border-box;top: 0;bottom: 0;left: 50%;z-index: 0;}#sk-container-id-2 div.sk-serial {display: flex;flex-direction: column;align-items: center;background-color: white;padding-right: 0.2em;padding-left: 0.2em;position: relative;}#sk-container-id-2 div.sk-item {position: relative;z-index: 1;}#sk-container-id-2 div.sk-parallel {display: flex;align-items: stretch;justify-content: center;background-color: white;position: relative;}#sk-container-id-2 div.sk-item::before, #sk-container-id-2 div.sk-parallel-item::before {content: \"\";position: absolute;border-left: 1px solid gray;box-sizing: border-box;top: 0;bottom: 0;left: 50%;z-index: -1;}#sk-container-id-2 div.sk-parallel-item {display: flex;flex-direction: column;z-index: 1;position: relative;background-color: white;}#sk-container-id-2 div.sk-parallel-item:first-child::after {align-self: flex-end;width: 50%;}#sk-container-id-2 div.sk-parallel-item:last-child::after {align-self: flex-start;width: 50%;}#sk-container-id-2 div.sk-parallel-item:only-child::after {width: 0;}#sk-container-id-2 div.sk-dashed-wrapped {border: 1px dashed gray;margin: 0 0.4em 0.5em 0.4em;box-sizing: border-box;padding-bottom: 0.4em;background-color: white;}#sk-container-id-2 div.sk-label label {font-family: monospace;font-weight: bold;display: inline-block;line-height: 1.2em;}#sk-container-id-2 div.sk-label-container {text-align: center;}#sk-container-id-2 div.sk-container {/* jupyter's `normalize.less` sets `[hidden] { display: none; }` but bootstrap.min.css set `[hidden] { display: none !important; }` so we also need the `!important` here to be able to override the default hidden behavior on the sphinx rendered scikit-learn.org. See: https://github.com/scikit-learn/scikit-learn/issues/21755 */display: inline-block !important;position: relative;}#sk-container-id-2 div.sk-text-repr-fallback {display: none;}</style><div id=\"sk-container-id-2\" class=\"sk-top-container\"><div class=\"sk-text-repr-fallback\"><pre>BaggingRegressor(random_state=1)</pre><b>In a Jupyter environment, please rerun this cell to show the HTML representation or trust the notebook. <br />On GitHub, the HTML representation is unable to render, please try loading this page with nbviewer.org.</b></div><div class=\"sk-container\" hidden><div class=\"sk-item\"><div class=\"sk-estimator sk-toggleable\"><input class=\"sk-toggleable__control sk-hidden--visually\" id=\"sk-estimator-id-2\" type=\"checkbox\" checked><label for=\"sk-estimator-id-2\" class=\"sk-toggleable__label sk-toggleable__label-arrow\">BaggingRegressor</label><div class=\"sk-toggleable__content\"><pre>BaggingRegressor(random_state=1)</pre></div></div></div></div></div>"
            ]
          },
          "metadata": {},
          "execution_count": 268
        }
      ],
      "source": [
        "from sklearn.ensemble import BaggingRegressor\n",
        "\n",
        "bag_regressor = BaggingRegressor(random_state=1)\n",
        "bag_regressor.fit(X_train, Y_train)"
      ]
    },
    {
      "cell_type": "code",
      "execution_count": 303,
      "metadata": {
        "id": "2jh69J_lBX1m",
        "colab": {
          "base_uri": "https://localhost:8080/"
        },
        "outputId": "64a109f2-b9a0-4b84-b46c-aa16af8b19b0"
      },
      "outputs": [
        {
          "output_type": "stream",
          "name": "stdout",
          "text": [
            "Training Coefficient of R^2 : 0.972\n"
          ]
        }
      ],
      "source": [
        "Y_preds = bag_regressor.predict(X_test)\n",
        "\n",
        "print('Training Coefficient of R^2 : %.3f'%bag_regressor.score(X_train, Y_train))\n"
      ]
    },
    {
      "cell_type": "code",
      "execution_count": 270,
      "metadata": {
        "id": "-HQQAY5fzlr5"
      },
      "outputs": [],
      "source": [
        "from sklearn.linear_model import Lasso"
      ]
    },
    {
      "cell_type": "code",
      "execution_count": 271,
      "metadata": {
        "id": "rA_Jg0jFBbnz",
        "colab": {
          "base_uri": "https://localhost:8080/"
        },
        "outputId": "7d1cc3a4-01ab-4cc6-e217-1d56ee92da3b"
      },
      "outputs": [
        {
          "output_type": "stream",
          "name": "stdout",
          "text": [
            "Fitting 2 folds for each of 144 candidates, totalling 288 fits\n",
            "Train R^2 Score : 0.876\n",
            "Test R^2 Score : 0.890\n",
            "Final R^2 Score : 0.895\n",
            "Best Parameters :  {'base_estimator': LinearRegression(), 'bootstrap': True, 'bootstrap_features': False, 'max_features': 1.0, 'max_samples': 0.5, 'n_estimators': 10}\n",
            "CPU times: user 249 ms, sys: 11.9 ms, total: 261 ms\n",
            "Wall time: 8.28 s\n"
          ]
        }
      ],
      "source": [
        "%%time\n",
        "\n",
        "# n_samples = data_read.data.shape[0]\n",
        "# n_features = data_read.data.shape[1]\n",
        "\n",
        "params = {'base_estimator': [None, LinearRegression(), KNeighborsRegressor()],\n",
        "          'n_estimators': [10,15,21],\n",
        "          'max_samples': [0.5,0.95],\n",
        "          'max_features': [0.5,1.0],\n",
        "          'bootstrap': [True, False],\n",
        "          'bootstrap_features': [True, False]}\n",
        "\n",
        "bagging_regressor_grid = GridSearchCV(BaggingRegressor(random_state=1, n_jobs=-1), param_grid =params, cv=2, n_jobs=-1, verbose=1)\n",
        "bagging_regressor_grid.fit(X_train, Y_train)\n",
        "\n",
        "print('Train R^2 Score : %.3f'%bagging_regressor_grid.best_estimator_.score(X_train, Y_train))\n",
        "print('Test R^2 Score : %.3f'%bagging_regressor_grid.best_estimator_.score(X_test, Y_test))\n",
        "print('Final R^2 Score : %.3f'%bagging_regressor_grid.best_estimator_.score(Cat_1,Cat_2))\n",
        "print('Best Parameters : ',bagging_regressor_grid.best_params_)\n",
        "\n",
        "\n",
        "     "
      ]
    },
    {
      "cell_type": "code",
      "execution_count": 272,
      "metadata": {
        "id": "wUVWX3S3BXwl"
      },
      "outputs": [],
      "source": [
        "Y_test_pred_BAGGING= bagging_regressor_grid.predict(X_test)\n",
        "Y_train_pred_BAGGING= bagging_regressor_grid.predict(X_train)\n"
      ]
    },
    {
      "cell_type": "code",
      "execution_count": 273,
      "metadata": {
        "id": "1Q354tg-Dmgg",
        "colab": {
          "base_uri": "https://localhost:8080/"
        },
        "outputId": "d075e99b-4d1e-4f58-be60-bfafbe4e1122"
      },
      "outputs": [
        {
          "output_type": "execute_result",
          "data": {
            "text/plain": [
              "array([196.42859088, 207.92185761, 160.12475399, 331.63533177,\n",
              "       157.42957841, 431.02658921, 113.66217498, 261.53913654,\n",
              "        97.72423853, 212.16468276, 153.3721731 , 127.66234817,\n",
              "       121.56357967,  89.34057045,  84.98134312, 289.93187358,\n",
              "       123.12182102, 150.56109204, 221.11625339, 119.58185816,\n",
              "        87.34847452])"
            ]
          },
          "metadata": {},
          "execution_count": 273
        }
      ],
      "source": [
        "result=bagging_regressor_grid.predict(Cat_1) \n",
        "result"
      ]
    },
    {
      "cell_type": "code",
      "execution_count": 274,
      "metadata": {
        "id": "2B3G5BEKDy6-",
        "colab": {
          "base_uri": "https://localhost:8080/"
        },
        "outputId": "5d82cb1f-ed0a-415d-c228-74b866a30add"
      },
      "outputs": [
        {
          "output_type": "execute_result",
          "data": {
            "text/plain": [
              "array([ 84.98134312, 221.11625339, 113.66217498, 119.58185816,\n",
              "       157.42957841, 160.12475399, 431.02658921, 123.12182102,\n",
              "       212.16468276, 261.53913654, 150.56109204, 331.63533177,\n",
              "       196.42859088, 289.93187358, 121.56357967])"
            ]
          },
          "metadata": {},
          "execution_count": 274
        }
      ],
      "source": [
        "Y_train_pred_BAGGING"
      ]
    },
    {
      "cell_type": "code",
      "execution_count": 275,
      "metadata": {
        "id": "5OzmN8yWD3IV",
        "colab": {
          "base_uri": "https://localhost:8080/"
        },
        "outputId": "b62c9516-7dbe-4057-aac1-12ab76ab02cc"
      },
      "outputs": [
        {
          "output_type": "stream",
          "name": "stdout",
          "text": [
            "MMRE 0.02085427555704712\n",
            "MdMRE 0.025268848859996203\n",
            "PRED 25% 100.0\n",
            "PRED MMRE 60.0\n",
            "Model Accuracy 97.91457244429529\n"
          ]
        }
      ],
      "source": [
        "#@title Evaluation results  Ensemble Learning Bagging - With Our Hybrid Approach using GridSearchCV \n",
        "\n",
        "diff=np.absolute(Y_test-Y_test_pred_BAGGING)\n",
        "MRE=(diff/Y_test)/MRE.size\n",
        "MMRE=np.mean(MRE)\n",
        "MdMRE=np.median(MRE)\n",
        "P=MRE[MRE<.25]\n",
        "Pred=(P.size/MRE.size) * 100\n",
        "print(\"MMRE\",MMRE)\n",
        "print(\"MdMRE\",MdMRE)\n",
        "print(\"PRED 25%\",Pred)\n",
        "Accuracy=(1-MRE)*100\n",
        "Accuracy=(Accuracy.mean())\n",
        "# MRE=(diff/y_test)/MRE.size\n",
        "P2=MRE[MRE<MMRE]\n",
        "print(\"PRED MMRE\",Pred2)\n",
        "print(\"Model Accuracy\",Accuracy)"
      ]
    },
    {
      "cell_type": "code",
      "execution_count": 276,
      "metadata": {
        "id": "LMYm0ME8E5tf"
      },
      "outputs": [],
      "source": [
        "#@title Third Approach Using Ensemble Learning - Bagging with use of Bootstrapping \n",
        "\n",
        " \n"
      ]
    },
    {
      "cell_type": "code",
      "execution_count": 277,
      "metadata": {
        "id": "5_1YtDh-Lkka"
      },
      "outputs": [],
      "source": [
        "#@title Using Ensemble Technique Second set of Algorithms\n",
        "from sklearn.ensemble import BaggingRegressor\n",
        "from sklearn.ensemble import AdaBoostRegressor\n",
        "from sklearn.preprocessing import KBinsDiscretizer"
      ]
    },
    {
      "cell_type": "code",
      "execution_count": 278,
      "metadata": {
        "id": "ckzKqH0TLkkc",
        "colab": {
          "base_uri": "https://localhost:8080/"
        },
        "outputId": "8962fdae-c04a-4479-dda4-daf39d07c1fc"
      },
      "outputs": [
        {
          "output_type": "stream",
          "name": "stdout",
          "text": [
            "Train / Test Sets sizes:  (16, 7) (5, 7) (16,) (3, 9)\n"
          ]
        }
      ],
      "source": [
        "X_train,X_test,Y_train,Y_test = train_test_split(Cat_1,Cat_2,test_size=0.30,random_state=0)\n",
        "\n",
        "# now printing the overall sizes of our splitted result\n",
        "print(\"Train / Test Sets sizes: \", x_train.shape,x_test.shape,y_train.shape,y_test.shape )"
      ]
    },
    {
      "cell_type": "code",
      "execution_count": 279,
      "metadata": {
        "id": "a2cdbrxCLkkd"
      },
      "outputs": [],
      "source": [
        "rkf = RandomForestRegressor()\n",
        "dt = DecisionTreeRegressor()\n",
        "ada = AdaBoostRegressor()"
      ]
    },
    {
      "cell_type": "code",
      "execution_count": 280,
      "metadata": {
        "id": "aMjTLDNfLkke",
        "colab": {
          "base_uri": "https://localhost:8080/",
          "height": 75
        },
        "outputId": "59658835-f563-4068-bac6-a5f87a9ff292"
      },
      "outputs": [
        {
          "output_type": "execute_result",
          "data": {
            "text/plain": [
              "AdaBoostRegressor()"
            ],
            "text/html": [
              "<style>#sk-container-id-3 {color: black;background-color: white;}#sk-container-id-3 pre{padding: 0;}#sk-container-id-3 div.sk-toggleable {background-color: white;}#sk-container-id-3 label.sk-toggleable__label {cursor: pointer;display: block;width: 100%;margin-bottom: 0;padding: 0.3em;box-sizing: border-box;text-align: center;}#sk-container-id-3 label.sk-toggleable__label-arrow:before {content: \"▸\";float: left;margin-right: 0.25em;color: #696969;}#sk-container-id-3 label.sk-toggleable__label-arrow:hover:before {color: black;}#sk-container-id-3 div.sk-estimator:hover label.sk-toggleable__label-arrow:before {color: black;}#sk-container-id-3 div.sk-toggleable__content {max-height: 0;max-width: 0;overflow: hidden;text-align: left;background-color: #f0f8ff;}#sk-container-id-3 div.sk-toggleable__content pre {margin: 0.2em;color: black;border-radius: 0.25em;background-color: #f0f8ff;}#sk-container-id-3 input.sk-toggleable__control:checked~div.sk-toggleable__content {max-height: 200px;max-width: 100%;overflow: auto;}#sk-container-id-3 input.sk-toggleable__control:checked~label.sk-toggleable__label-arrow:before {content: \"▾\";}#sk-container-id-3 div.sk-estimator input.sk-toggleable__control:checked~label.sk-toggleable__label {background-color: #d4ebff;}#sk-container-id-3 div.sk-label input.sk-toggleable__control:checked~label.sk-toggleable__label {background-color: #d4ebff;}#sk-container-id-3 input.sk-hidden--visually {border: 0;clip: rect(1px 1px 1px 1px);clip: rect(1px, 1px, 1px, 1px);height: 1px;margin: -1px;overflow: hidden;padding: 0;position: absolute;width: 1px;}#sk-container-id-3 div.sk-estimator {font-family: monospace;background-color: #f0f8ff;border: 1px dotted black;border-radius: 0.25em;box-sizing: border-box;margin-bottom: 0.5em;}#sk-container-id-3 div.sk-estimator:hover {background-color: #d4ebff;}#sk-container-id-3 div.sk-parallel-item::after {content: \"\";width: 100%;border-bottom: 1px solid gray;flex-grow: 1;}#sk-container-id-3 div.sk-label:hover label.sk-toggleable__label {background-color: #d4ebff;}#sk-container-id-3 div.sk-serial::before {content: \"\";position: absolute;border-left: 1px solid gray;box-sizing: border-box;top: 0;bottom: 0;left: 50%;z-index: 0;}#sk-container-id-3 div.sk-serial {display: flex;flex-direction: column;align-items: center;background-color: white;padding-right: 0.2em;padding-left: 0.2em;position: relative;}#sk-container-id-3 div.sk-item {position: relative;z-index: 1;}#sk-container-id-3 div.sk-parallel {display: flex;align-items: stretch;justify-content: center;background-color: white;position: relative;}#sk-container-id-3 div.sk-item::before, #sk-container-id-3 div.sk-parallel-item::before {content: \"\";position: absolute;border-left: 1px solid gray;box-sizing: border-box;top: 0;bottom: 0;left: 50%;z-index: -1;}#sk-container-id-3 div.sk-parallel-item {display: flex;flex-direction: column;z-index: 1;position: relative;background-color: white;}#sk-container-id-3 div.sk-parallel-item:first-child::after {align-self: flex-end;width: 50%;}#sk-container-id-3 div.sk-parallel-item:last-child::after {align-self: flex-start;width: 50%;}#sk-container-id-3 div.sk-parallel-item:only-child::after {width: 0;}#sk-container-id-3 div.sk-dashed-wrapped {border: 1px dashed gray;margin: 0 0.4em 0.5em 0.4em;box-sizing: border-box;padding-bottom: 0.4em;background-color: white;}#sk-container-id-3 div.sk-label label {font-family: monospace;font-weight: bold;display: inline-block;line-height: 1.2em;}#sk-container-id-3 div.sk-label-container {text-align: center;}#sk-container-id-3 div.sk-container {/* jupyter's `normalize.less` sets `[hidden] { display: none; }` but bootstrap.min.css set `[hidden] { display: none !important; }` so we also need the `!important` here to be able to override the default hidden behavior on the sphinx rendered scikit-learn.org. See: https://github.com/scikit-learn/scikit-learn/issues/21755 */display: inline-block !important;position: relative;}#sk-container-id-3 div.sk-text-repr-fallback {display: none;}</style><div id=\"sk-container-id-3\" class=\"sk-top-container\"><div class=\"sk-text-repr-fallback\"><pre>AdaBoostRegressor()</pre><b>In a Jupyter environment, please rerun this cell to show the HTML representation or trust the notebook. <br />On GitHub, the HTML representation is unable to render, please try loading this page with nbviewer.org.</b></div><div class=\"sk-container\" hidden><div class=\"sk-item\"><div class=\"sk-estimator sk-toggleable\"><input class=\"sk-toggleable__control sk-hidden--visually\" id=\"sk-estimator-id-3\" type=\"checkbox\" checked><label for=\"sk-estimator-id-3\" class=\"sk-toggleable__label sk-toggleable__label-arrow\">AdaBoostRegressor</label><div class=\"sk-toggleable__content\"><pre>AdaBoostRegressor()</pre></div></div></div></div></div>"
            ]
          },
          "metadata": {},
          "execution_count": 280
        }
      ],
      "source": [
        "from logging import addLevelName\n",
        "rkf.fit(X_train,Y_train)\n",
        "dt.fit(X_train,Y_train)\n",
        "ada.fit(X_train,Y_train)"
      ]
    },
    {
      "cell_type": "code",
      "execution_count": 281,
      "metadata": {
        "id": "RYDmp13QLkkf"
      },
      "outputs": [],
      "source": [
        "y_pred1 = rkf.predict(X_test)\n",
        "y_pred2 = dt.predict(X_test)\n",
        "y_pred3 = ada.predict(X_test)"
      ]
    },
    {
      "cell_type": "code",
      "execution_count": 282,
      "metadata": {
        "id": "lObeax9JLkkf",
        "colab": {
          "base_uri": "https://localhost:8080/"
        },
        "outputId": "346caffe-b200-4544-fdf4-07d8a3680d8f"
      },
      "outputs": [
        {
          "output_type": "stream",
          "name": "stdout",
          "text": [
            "R^2 score for RF 0.5905305592543275\n",
            "R^2 score for DT 0.5480840361000148\n",
            "R^2 score for ADA_B 0.5022850191514194\n"
          ]
        }
      ],
      "source": [
        "print(\"R^2 score for RF\",r2_score(Y_test,y_pred1))\n",
        "print(\"R^2 score for DT\",r2_score(Y_test,y_pred2))\n",
        "print(\"R^2 score for ADA_B\",r2_score(Y_test,y_pred3))"
      ]
    },
    {
      "cell_type": "code",
      "execution_count": 283,
      "metadata": {
        "id": "O5EyNEp0Lkkg",
        "colab": {
          "base_uri": "https://localhost:8080/",
          "height": 75
        },
        "outputId": "94e32682-16e1-4ca8-f72a-95a844e77b03"
      },
      "outputs": [
        {
          "output_type": "execute_result",
          "data": {
            "text/plain": [
              "BaggingRegressor(random_state=1)"
            ],
            "text/html": [
              "<style>#sk-container-id-4 {color: black;background-color: white;}#sk-container-id-4 pre{padding: 0;}#sk-container-id-4 div.sk-toggleable {background-color: white;}#sk-container-id-4 label.sk-toggleable__label {cursor: pointer;display: block;width: 100%;margin-bottom: 0;padding: 0.3em;box-sizing: border-box;text-align: center;}#sk-container-id-4 label.sk-toggleable__label-arrow:before {content: \"▸\";float: left;margin-right: 0.25em;color: #696969;}#sk-container-id-4 label.sk-toggleable__label-arrow:hover:before {color: black;}#sk-container-id-4 div.sk-estimator:hover label.sk-toggleable__label-arrow:before {color: black;}#sk-container-id-4 div.sk-toggleable__content {max-height: 0;max-width: 0;overflow: hidden;text-align: left;background-color: #f0f8ff;}#sk-container-id-4 div.sk-toggleable__content pre {margin: 0.2em;color: black;border-radius: 0.25em;background-color: #f0f8ff;}#sk-container-id-4 input.sk-toggleable__control:checked~div.sk-toggleable__content {max-height: 200px;max-width: 100%;overflow: auto;}#sk-container-id-4 input.sk-toggleable__control:checked~label.sk-toggleable__label-arrow:before {content: \"▾\";}#sk-container-id-4 div.sk-estimator input.sk-toggleable__control:checked~label.sk-toggleable__label {background-color: #d4ebff;}#sk-container-id-4 div.sk-label input.sk-toggleable__control:checked~label.sk-toggleable__label {background-color: #d4ebff;}#sk-container-id-4 input.sk-hidden--visually {border: 0;clip: rect(1px 1px 1px 1px);clip: rect(1px, 1px, 1px, 1px);height: 1px;margin: -1px;overflow: hidden;padding: 0;position: absolute;width: 1px;}#sk-container-id-4 div.sk-estimator {font-family: monospace;background-color: #f0f8ff;border: 1px dotted black;border-radius: 0.25em;box-sizing: border-box;margin-bottom: 0.5em;}#sk-container-id-4 div.sk-estimator:hover {background-color: #d4ebff;}#sk-container-id-4 div.sk-parallel-item::after {content: \"\";width: 100%;border-bottom: 1px solid gray;flex-grow: 1;}#sk-container-id-4 div.sk-label:hover label.sk-toggleable__label {background-color: #d4ebff;}#sk-container-id-4 div.sk-serial::before {content: \"\";position: absolute;border-left: 1px solid gray;box-sizing: border-box;top: 0;bottom: 0;left: 50%;z-index: 0;}#sk-container-id-4 div.sk-serial {display: flex;flex-direction: column;align-items: center;background-color: white;padding-right: 0.2em;padding-left: 0.2em;position: relative;}#sk-container-id-4 div.sk-item {position: relative;z-index: 1;}#sk-container-id-4 div.sk-parallel {display: flex;align-items: stretch;justify-content: center;background-color: white;position: relative;}#sk-container-id-4 div.sk-item::before, #sk-container-id-4 div.sk-parallel-item::before {content: \"\";position: absolute;border-left: 1px solid gray;box-sizing: border-box;top: 0;bottom: 0;left: 50%;z-index: -1;}#sk-container-id-4 div.sk-parallel-item {display: flex;flex-direction: column;z-index: 1;position: relative;background-color: white;}#sk-container-id-4 div.sk-parallel-item:first-child::after {align-self: flex-end;width: 50%;}#sk-container-id-4 div.sk-parallel-item:last-child::after {align-self: flex-start;width: 50%;}#sk-container-id-4 div.sk-parallel-item:only-child::after {width: 0;}#sk-container-id-4 div.sk-dashed-wrapped {border: 1px dashed gray;margin: 0 0.4em 0.5em 0.4em;box-sizing: border-box;padding-bottom: 0.4em;background-color: white;}#sk-container-id-4 div.sk-label label {font-family: monospace;font-weight: bold;display: inline-block;line-height: 1.2em;}#sk-container-id-4 div.sk-label-container {text-align: center;}#sk-container-id-4 div.sk-container {/* jupyter's `normalize.less` sets `[hidden] { display: none; }` but bootstrap.min.css set `[hidden] { display: none !important; }` so we also need the `!important` here to be able to override the default hidden behavior on the sphinx rendered scikit-learn.org. See: https://github.com/scikit-learn/scikit-learn/issues/21755 */display: inline-block !important;position: relative;}#sk-container-id-4 div.sk-text-repr-fallback {display: none;}</style><div id=\"sk-container-id-4\" class=\"sk-top-container\"><div class=\"sk-text-repr-fallback\"><pre>BaggingRegressor(random_state=1)</pre><b>In a Jupyter environment, please rerun this cell to show the HTML representation or trust the notebook. <br />On GitHub, the HTML representation is unable to render, please try loading this page with nbviewer.org.</b></div><div class=\"sk-container\" hidden><div class=\"sk-item\"><div class=\"sk-estimator sk-toggleable\"><input class=\"sk-toggleable__control sk-hidden--visually\" id=\"sk-estimator-id-4\" type=\"checkbox\" checked><label for=\"sk-estimator-id-4\" class=\"sk-toggleable__label sk-toggleable__label-arrow\">BaggingRegressor</label><div class=\"sk-toggleable__content\"><pre>BaggingRegressor(random_state=1)</pre></div></div></div></div></div>"
            ]
          },
          "metadata": {},
          "execution_count": 283
        }
      ],
      "source": [
        "from sklearn.ensemble import BaggingRegressor\n",
        "\n",
        "bag_regressor = BaggingRegressor(random_state=1)\n",
        "bag_regressor.fit(X_train, Y_train)"
      ]
    },
    {
      "cell_type": "code",
      "execution_count": 284,
      "metadata": {
        "id": "0sTc1jrtLkkh",
        "colab": {
          "base_uri": "https://localhost:8080/"
        },
        "outputId": "f7d19650-23e4-4c43-da5d-5eb2c64242c4"
      },
      "outputs": [
        {
          "output_type": "stream",
          "name": "stdout",
          "text": [
            "Coefficient of R^2 : 0.972\n"
          ]
        }
      ],
      "source": [
        "Y_preds = bag_regressor.predict(X_test)\n",
        "\n",
        "print('Coefficient of R^2 : %.3f'%bag_regressor.score(X_train, Y_train))\n",
        "# print('Test Coefficient of R^2 : %.3f'%bag_regressor.score(X_test, Y_test))"
      ]
    },
    {
      "cell_type": "code",
      "execution_count": 304,
      "metadata": {
        "id": "XisQmroILkki",
        "colab": {
          "base_uri": "https://localhost:8080/"
        },
        "outputId": "32761435-c2c6-4e34-9b1e-d31023657560"
      },
      "outputs": [
        {
          "output_type": "stream",
          "name": "stdout",
          "text": [
            "Fitting 3 folds for each of 192 candidates, totalling 576 fits\n",
            "Train R^2 Score : 0.918\n",
            "Overall R^2 Score : 0.930\n",
            "Best Parameters :  {'base_estimator': LinearRegression(), 'bootstrap': True, 'bootstrap_features': False, 'max_features': 0.5, 'max_samples': 1.0, 'n_estimators': 14}\n",
            "CPU times: user 552 ms, sys: 52.8 ms, total: 605 ms\n",
            "Wall time: 19.7 s\n"
          ]
        }
      ],
      "source": [
        "%%time\n",
        "\n",
        "# n_samples = data_read.data.shape[0]\n",
        "# n_features = data_read.data.shape[1]\n",
        "\n",
        "params = {'base_estimator': [None, LinearRegression(), KNeighborsRegressor(),DecisionTreeRegressor()],\n",
        "          'n_estimators': [10,14,21],\n",
        "          'max_samples': [0.5,1.0],\n",
        "          'max_features': [0.5,1.0],\n",
        "          'bootstrap': [True, False],\n",
        "          'bootstrap_features': [True, False]}\n",
        "\n",
        "bagging_regressor_grid = GridSearchCV(BaggingRegressor(random_state=1, n_jobs=-1), param_grid =params, cv=3, n_jobs=-1, verbose=1)\n",
        "bagging_regressor_grid.fit(X_train, Y_train)\n",
        "\n",
        "print('Train R^2 Score : %.3f'%bagging_regressor_grid.best_estimator_.score(X_train, Y_train))\n",
        "\n",
        "print('Overall R^2 Score : %.3f'%bagging_regressor_grid.best_estimator_.score(Cat_1,Cat_2))\n",
        "print('Best Parameters : ',bagging_regressor_grid.best_params_)\n",
        "\n",
        "\n",
        "     "
      ]
    },
    {
      "cell_type": "code",
      "execution_count": 305,
      "metadata": {
        "id": "HfAN8i_jLkkj"
      },
      "outputs": [],
      "source": [
        "Y_test_pred_BAGGING= bagging_regressor_grid.predict(X_test)\n",
        "Y_train_pred_BAGGING= bagging_regressor_grid.predict(X_train)"
      ]
    },
    {
      "cell_type": "code",
      "execution_count": 306,
      "metadata": {
        "id": "9nJEQ-vWLkkk",
        "colab": {
          "base_uri": "https://localhost:8080/"
        },
        "outputId": "4fd3d6b5-1fe6-4976-fe0b-5954e0512cb3"
      },
      "outputs": [
        {
          "output_type": "execute_result",
          "data": {
            "text/plain": [
              "array([179.02488588, 235.94879614, 167.47176606, 289.57122618,\n",
              "       144.4371761 , 391.13167171, 120.30860531, 256.76967636,\n",
              "        95.2029998 , 185.34519994, 140.32944398, 115.0204702 ,\n",
              "       107.16984658,  89.68936054,  78.74495726, 284.69458929,\n",
              "       132.63153331, 158.6199134 , 220.11036152, 142.01136289,\n",
              "       105.85202444])"
            ]
          },
          "metadata": {},
          "execution_count": 306
        }
      ],
      "source": [
        "result=bagging_regressor_grid.predict(Cat_1) \n",
        "result"
      ]
    },
    {
      "cell_type": "code",
      "execution_count": 307,
      "metadata": {
        "id": "I7bBIO6JLkkl",
        "colab": {
          "base_uri": "https://localhost:8080/"
        },
        "outputId": "5426eb95-49bb-4273-9fa9-6481447ee734"
      },
      "outputs": [
        {
          "output_type": "execute_result",
          "data": {
            "text/plain": [
              "array([220.11036152, 120.30860531, 142.01136289, 144.4371761 ,\n",
              "       167.47176606, 391.13167171, 132.63153331, 185.34519994,\n",
              "       256.76967636, 158.6199134 , 289.57122618, 179.02488588,\n",
              "       284.69458929, 107.16984658])"
            ]
          },
          "metadata": {},
          "execution_count": 307
        }
      ],
      "source": [
        "Y_train_pred_BAGGING"
      ]
    },
    {
      "cell_type": "code",
      "execution_count": 308,
      "metadata": {
        "id": "AeaqnqwTLkkm",
        "colab": {
          "base_uri": "https://localhost:8080/"
        },
        "outputId": "3fb7cc8b-258f-421b-bfe5-bea883db1c18"
      },
      "outputs": [
        {
          "output_type": "stream",
          "name": "stdout",
          "text": [
            "MMRE 0.021325008312617053\n",
            "MdMRE 0.02331557996700096\n",
            "PRED 25% 100.0\n",
            "PRED MMRE 60.0\n",
            "Model Accuracy 97.86749916873829\n"
          ]
        }
      ],
      "source": [
        "#@title Evaluation results  Ensemble Learning Bagging - With Our Hybrid Approach using GridSearchCV \n",
        "\n",
        "diff=np.absolute(Y_test-Y_test_pred_BAGGING)\n",
        "MRE=(diff/Y_test)/MRE.size\n",
        "MMRE=np.mean(MRE)\n",
        "MdMRE=np.median(MRE)\n",
        "P=MRE[MRE<.25]\n",
        "Pred=(P.size/MRE.size) * 100\n",
        "print(\"MMRE\",MMRE)\n",
        "print(\"MdMRE\",MdMRE)\n",
        "print(\"PRED 25%\",Pred)\n",
        "Accuracy=(1-MRE)*100\n",
        "Accuracy=(Accuracy.mean())\n",
        "#MRE=(diff/y_test)/MRE.size\n",
        "P2=MRE[MRE<MMRE]\n",
        "print(\"PRED MMRE\",Pred2)\n",
        "print(\"Model Accuracy\",Accuracy)"
      ]
    },
    {
      "cell_type": "code",
      "execution_count": 290,
      "metadata": {
        "id": "NWbNPEcFTKoF"
      },
      "outputs": [],
      "source": [
        "#@title Ensemble "
      ]
    },
    {
      "cell_type": "code",
      "execution_count": 291,
      "metadata": {
        "id": "o6RrBZYmTLby",
        "colab": {
          "base_uri": "https://localhost:8080/"
        },
        "outputId": "f818c098-88af-49c8-d635-570a5c923f52"
      },
      "outputs": [
        {
          "output_type": "stream",
          "name": "stdout",
          "text": [
            "Fitting 3 folds for each of 144 candidates, totalling 432 fits\n",
            "Train R^2 Score : 0.929\n",
            "Overall R^2 Score : 0.937\n",
            "Best Parameters :  {'base_estimator': LinearRegression(), 'bootstrap': True, 'bootstrap_features': False, 'max_features': 0.5, 'max_samples': 1.0, 'n_estimators': 15}\n",
            "CPU times: user 370 ms, sys: 25.1 ms, total: 395 ms\n",
            "Wall time: 10.7 s\n"
          ]
        }
      ],
      "source": [
        "%%time\n",
        "\n",
        "# n_samples = data_read.data.shape[0]\n",
        "# n_features = data_read.data.shape[1]\n",
        "\n",
        "params = {'base_estimator': [None, LinearRegression(), KNeighborsRegressor()],\n",
        "          'n_estimators': [10,15,21],\n",
        "          'max_samples': [0.5,1.0],\n",
        "          'max_features': [0.5,1.0],\n",
        "          'bootstrap': [True, False],\n",
        "          'bootstrap_features': [True, False]}\n",
        "\n",
        "bagging_regressor_grid = GridSearchCV(BaggingRegressor(random_state=1, n_jobs=-1), param_grid =params, cv=3, n_jobs=-1, verbose=1)\n",
        "bagging_regressor_grid.fit(X_train, Y_train)\n",
        "\n",
        "print('Train R^2 Score : %.3f'%bagging_regressor_grid.best_estimator_.score(X_train, Y_train))\n",
        "\n",
        "print('Overall R^2 Score : %.3f'%bagging_regressor_grid.best_estimator_.score(Cat_1,Cat_2))\n",
        "print('Best Parameters : ',bagging_regressor_grid.best_params_)\n",
        "\n",
        "\n",
        "     "
      ]
    },
    {
      "cell_type": "code",
      "execution_count": 292,
      "metadata": {
        "id": "NVCEXAWqTjlq",
        "colab": {
          "base_uri": "https://localhost:8080/"
        },
        "outputId": "cafc7af2-04f6-4b76-b45a-c26607be3edb"
      },
      "outputs": [
        {
          "output_type": "stream",
          "name": "stdout",
          "text": [
            "Fitting 3 folds for each of 144 candidates, totalling 432 fits\n",
            "Train R^2 Score : 0.929\n",
            "Test R^2 Score : 0.846\n",
            "Overall R^2 Score : 0.937\n",
            "Best Parameters :  {'base_estimator': LinearRegression(), 'bootstrap': True, 'bootstrap_features': False, 'max_features': 0.5, 'max_samples': 1.0, 'n_estimators': 15}\n",
            "CPU times: user 376 ms, sys: 20.7 ms, total: 397 ms\n",
            "Wall time: 11.6 s\n"
          ]
        }
      ],
      "source": [
        "%%time\n",
        "\n",
        "# n_samples = data_read.data.shape[0]\n",
        "# n_features = data_read.data.shape[1]\n",
        "\n",
        "params = {'base_estimator': [None, LinearRegression(), KNeighborsRegressor()],\n",
        "          'n_estimators': [10,15,21],\n",
        "          'max_samples': [0.5,1.0],\n",
        "          'max_features': [0.5,1.0],\n",
        "          'bootstrap': [True, False],\n",
        "          'bootstrap_features': [True, False]}\n",
        "\n",
        "bagging_regressor_grid = GridSearchCV(BaggingRegressor(random_state=1, n_jobs=-1), param_grid =params, cv=3, n_jobs=-1, verbose=1)\n",
        "bagging_regressor_grid.fit(X_train, Y_train)\n",
        "\n",
        "print('Train R^2 Score : %.3f'%bagging_regressor_grid.best_estimator_.score(X_train, Y_train))\n",
        "print('Test R^2 Score : %.3f'%bagging_regressor_grid.best_estimator_.score(X_test, Y_test))\n",
        "print('Overall R^2 Score : %.3f'%bagging_regressor_grid.best_estimator_.score(Cat_1,Cat_2))\n",
        "print('Best Parameters : ',bagging_regressor_grid.best_params_)\n",
        "\n",
        "\n",
        "     "
      ]
    },
    {
      "cell_type": "code",
      "execution_count": 293,
      "metadata": {
        "id": "oOVJdwC2Tjls"
      },
      "outputs": [],
      "source": [
        "Y_test_pred_BAGGING= bagging_regressor_grid.predict(X_test)\n",
        "Y_train_pred_BAGGING= bagging_regressor_grid.predict(X_train)"
      ]
    },
    {
      "cell_type": "code",
      "execution_count": 294,
      "metadata": {
        "id": "AgRVut4ITjlt",
        "colab": {
          "base_uri": "https://localhost:8080/"
        },
        "outputId": "521b7d49-7716-496e-ce1c-3ec8cde7c207"
      },
      "outputs": [
        {
          "output_type": "execute_result",
          "data": {
            "text/plain": [
              "array([180.79363206, 239.60124921, 167.21559053, 291.56787284,\n",
              "       143.17669243, 385.94290479, 118.3646554 , 259.75064321,\n",
              "        93.87262738, 188.19689689, 141.55144306, 112.64133004,\n",
              "       103.95209655,  87.09218233,  74.42583332, 291.87778846,\n",
              "       130.06729169, 157.86427355, 222.88247325, 142.12002107,\n",
              "       102.65096909])"
            ]
          },
          "metadata": {},
          "execution_count": 294
        }
      ],
      "source": [
        "result=bagging_regressor_grid.predict(Cat_1) \n",
        "result"
      ]
    },
    {
      "cell_type": "code",
      "execution_count": 295,
      "metadata": {
        "id": "s_dOrblVTjlt",
        "colab": {
          "base_uri": "https://localhost:8080/"
        },
        "outputId": "7078c0c7-4752-4e1c-9459-eeb73a3cf560"
      },
      "outputs": [
        {
          "output_type": "execute_result",
          "data": {
            "text/plain": [
              "array([222.88247325, 118.3646554 , 142.12002107, 143.17669243,\n",
              "       167.21559053, 385.94290479, 130.06729169, 188.19689689,\n",
              "       259.75064321, 157.86427355, 291.56787284, 180.79363206,\n",
              "       291.87778846, 103.95209655])"
            ]
          },
          "metadata": {},
          "execution_count": 295
        }
      ],
      "source": [
        "Y_train_pred_BAGGING"
      ]
    },
    {
      "cell_type": "code",
      "execution_count": 296,
      "metadata": {
        "id": "w1JzSVlHTjlu",
        "colab": {
          "base_uri": "https://localhost:8080/"
        },
        "outputId": "3da988d8-196c-4aa1-96b4-36ea0f35700d"
      },
      "outputs": [
        {
          "output_type": "stream",
          "name": "stdout",
          "text": [
            "MMRE 0.018271801654423953\n",
            "MdMRE 0.018290375330236714\n",
            "PRED 25% 100.0\n",
            "PRED MMRE 60.0\n",
            "Model Accuracy 98.1728198345576\n"
          ]
        }
      ],
      "source": [
        "#@title Evaluation results  Ensemble Learning Bagging - With Our Hybrid Approach using GridSearchCV \n",
        "\n",
        "diff=np.absolute(Y_test-Y_test_pred_BAGGING)\n",
        "MRE=(diff/Y_test)/MRE.size\n",
        "MMRE=np.mean(MRE)\n",
        "MdMRE=np.median(MRE)\n",
        "P=MRE[MRE<.25]\n",
        "Pred=(P.size/MRE.size) * 100\n",
        "print(\"MMRE\",MMRE)\n",
        "print(\"MdMRE\",MdMRE)\n",
        "print(\"PRED 25%\",Pred)\n",
        "Accuracy=(1-MRE)*100\n",
        "Accuracy=(Accuracy.mean())\n",
        "#MRE=(diff/y_test)/MRE.size\n",
        "P2=MRE[MRE<MMRE]\n",
        "print(\"PRED MMRE\",Pred2)\n",
        "print(\"Model Accuracy\",Accuracy)"
      ]
    },
    {
      "cell_type": "code",
      "execution_count": 297,
      "metadata": {
        "id": "K1-Qp6swTT_o",
        "colab": {
          "base_uri": "https://localhost:8080/"
        },
        "outputId": "600c385b-fe29-493e-bcae-1e166ed88fed"
      },
      "outputs": [
        {
          "output_type": "stream",
          "name": "stdout",
          "text": [
            "Fitting 2 folds for each of 144 candidates, totalling 288 fits\n",
            "Train R^2 Score : 0.989\n",
            "Overall R^2 Score : 0.948\n",
            "Best Parameters :  {'bootstrap': False, 'bootstrap_features': False, 'estimator': AdaBoostRegressor(), 'max_features': 0.5, 'max_samples': 1.0, 'n_estimators': 15}\n",
            "CPU times: user 1.06 s, sys: 72.5 ms, total: 1.14 s\n",
            "Wall time: 1min 33s\n"
          ]
        }
      ],
      "source": [
        "%%time\n",
        "\n",
        "# n_samples = data_read.data.shape[0]\n",
        "# n_features = data_read.data.shape[1]\n",
        "\n",
        "params = {'estimator': [RandomForestRegressor(), DecisionTreeRegressor(), AdaBoostRegressor()],\n",
        "          'n_estimators': [10,15,21],\n",
        "          'max_samples': [0.5,1.0],\n",
        "          'max_features': [0.5,8],\n",
        "          'bootstrap': [True, False],\n",
        "          'bootstrap_features': [True, False]}\n",
        "\n",
        "bagging_regressor_grid = GridSearchCV(BaggingRegressor(random_state=1, n_jobs=-1), param_grid =params, cv=2, n_jobs=-1, verbose=1)\n",
        "import warnings\n",
        "warnings.filterwarnings('ignore')\n",
        "bagging_regressor_grid.fit(X_train, Y_train)\n",
        "\n",
        "print('Train R^2 Score : %.3f'%bagging_regressor_grid.best_estimator_.score(X_train, Y_train))\n",
        "#print('Test R^2 Score : %.3f'%bagging_regressor_grid.best_estimator_.score(X_test, Y_test))\n",
        "print('Overall R^2 Score : %.3f'%bagging_regressor_grid.best_estimator_.score(Cat_1,Cat_2))\n",
        "print('Best Parameters : ',bagging_regressor_grid.best_params_)\n",
        "\n",
        "\n",
        "     "
      ]
    },
    {
      "cell_type": "code",
      "execution_count": 298,
      "metadata": {
        "id": "D6yDznMQTT_q"
      },
      "outputs": [],
      "source": [
        "Y_test_pred_BAGGING= bagging_regressor_grid.predict(X_test)\n",
        "Y_train_pred_BAGGING= bagging_regressor_grid.predict(X_train)"
      ]
    },
    {
      "cell_type": "code",
      "execution_count": 299,
      "metadata": {
        "id": "QpHofsYATT_q",
        "colab": {
          "base_uri": "https://localhost:8080/"
        },
        "outputId": "e97ce0da-d332-438c-cc76-4777de712f90"
      },
      "outputs": [
        {
          "output_type": "execute_result",
          "data": {
            "text/plain": [
              "array([162.29031746, 225.47407407, 168.97190476, 331.        ,\n",
              "       123.82222222, 335.26666667, 107.42539683, 255.42962963,\n",
              "       117.5005291 , 207.11111111, 134.54444444, 110.44206349,\n",
              "       111.25873016, 111.25873016, 111.25873016, 277.59259259,\n",
              "       131.63481481, 157.02338624, 211.16666667, 137.85238095,\n",
              "       114.36349206])"
            ]
          },
          "metadata": {},
          "execution_count": 299
        }
      ],
      "source": [
        "result=bagging_regressor_grid.predict(Cat_1) \n",
        "result"
      ]
    },
    {
      "cell_type": "code",
      "execution_count": 300,
      "metadata": {
        "id": "qDu59By0TT_r",
        "colab": {
          "base_uri": "https://localhost:8080/"
        },
        "outputId": "fe06aec2-7e7e-4b9a-df52-862fe7a5aae8"
      },
      "outputs": [
        {
          "output_type": "stream",
          "name": "stdout",
          "text": [
            "MMRE 0.04307601546078433\n",
            "MdMRE 0.03667738157534075\n",
            "PRED 25% 100.0\n",
            "PRED MMRE 60.0\n",
            "Model Accuracy 95.69239845392157\n"
          ]
        }
      ],
      "source": [
        "#@title Evaluation results  Ensemble Learning Bagging - With Our Hybrid Approach using GridSearchCV \n",
        "\n",
        "diff=np.absolute(Y_test-Y_test_pred_BAGGING)\n",
        "MRE=(diff/Y_test)/MRE.size\n",
        "MMRE=np.mean(MRE)\n",
        "MdMRE=np.median(MRE)\n",
        "P=MRE[MRE<.25]\n",
        "Pred=(P.size/MRE.size) * 100\n",
        "print(\"MMRE\",MMRE)\n",
        "print(\"MdMRE\",MdMRE)\n",
        "print(\"PRED 25%\",Pred)\n",
        "Accuracy=(1-MRE)*100\n",
        "Accuracy=(Accuracy.mean())\n",
        "#MRE=(diff/y_test)/MRE.size\n",
        "P2=MRE[MRE<MMRE]\n",
        "print(\"PRED MMRE\",Pred2)\n",
        "print(\"Model Accuracy\",Accuracy)"
      ]
    }
  ],
  "metadata": {
    "accelerator": "GPU",
    "colab": {
      "provenance": [],
      "include_colab_link": true
    },
    "gpuClass": "standard",
    "kernelspec": {
      "display_name": "Python 3",
      "name": "python3"
    },
    "language_info": {
      "name": "python"
    }
  },
  "nbformat": 4,
  "nbformat_minor": 0
}