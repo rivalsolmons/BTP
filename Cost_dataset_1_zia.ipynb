{
  "cells": [
    {
      "cell_type": "markdown",
      "metadata": {
        "id": "view-in-github",
        "colab_type": "text"
      },
      "source": [
        "<a href=\"https://colab.research.google.com/github/rivalsolmons/BTP/blob/main/Cost_dataset_1_zia.ipynb\" target=\"_parent\"><img src=\"https://colab.research.google.com/assets/colab-badge.svg\" alt=\"Open In Colab\"/></a>"
      ]
    },
    {
      "cell_type": "markdown",
      "metadata": {
        "id": "Xg-Htvjr-iZl"
      },
      "source": [
        "# Effort and cost Estimation in Agile Software Development"
      ]
    },
    {
      "cell_type": "code",
      "execution_count": 125,
      "metadata": {
        "id": "11ahIf4W9FOI"
      },
      "outputs": [],
      "source": [
        "#@title Cost Estimation on Zia \n",
        "import math\n",
        "import pandas as pd\n",
        "import numpy as np\n",
        "\n",
        "from scipy.stats import pearsonr\n",
        "import matplotlib.pyplot as plt\n",
        "import seaborn as sns\n",
        "from sklearn.model_selection import train_test_split\n",
        "from sklearn.neighbors import KNeighborsRegressor\n",
        "from sklearn.linear_model import LinearRegression\n",
        "from sklearn.svm import SVR\n",
        "from sklearn.model_selection import GridSearchCV\n",
        "from matplotlib.colors import ListedColormap  \n",
        "from sklearn.neighbors import KNeighborsClassifier\n",
        "from sklearn.metrics import confusion_matrix,ConfusionMatrixDisplay\n",
        "from sklearn.metrics import r2_score\n",
        "from sklearn.metrics import classification_report\n",
        "\n"
      ]
    },
    {
      "cell_type": "code",
      "execution_count": 126,
      "metadata": {
        "colab": {
          "base_uri": "https://localhost:8080/"
        },
        "id": "XmfjGo-K5E8J",
        "outputId": "8248c7b2-3f46-4956-9f93-d8cd10ee314a"
      },
      "outputs": [
        {
          "output_type": "stream",
          "name": "stdout",
          "text": [
            "Drive already mounted at /content/drive; to attempt to forcibly remount, call drive.mount(\"/content/drive\", force_remount=True).\n"
          ]
        }
      ],
      "source": [
        "from google.colab import drive\n",
        "drive.mount('/content/drive')\n",
        "\n",
        "data_read = pd.read_csv('/content/drive/MyDrive/Btp/Ultra/Zia_upd2.csv')"
      ]
    },
    {
      "cell_type": "code",
      "execution_count": 127,
      "metadata": {
        "colab": {
          "base_uri": "https://localhost:8080/",
          "height": 270
        },
        "id": "3Uq7ZZUf-bOC",
        "outputId": "fc1e9627-7794-4ac9-e410-4fe3eab148e3"
      },
      "outputs": [
        {
          "output_type": "execute_result",
          "data": {
            "text/plain": [
              "   Effort   Vi      D    V  Sprint_Size  Work_days  Team_Salary  Act_Time  \\\n",
              "0     156  4.2  0.687  2.7           10         22       230000        63   \n",
              "1     202  3.7  0.701  2.5           10         21       260000        92   \n",
              "2     173  4.0  0.878  3.3           10         22       250000        56   \n",
              "3     331  4.5  0.886  3.8           10         22       300000        86   \n",
              "4     124  4.9  0.903  4.2           10         22       300000        32   \n",
              "\n",
              "   Actual_Cost  \n",
              "0      1200000  \n",
              "1      1600000  \n",
              "2      1000000  \n",
              "3      2100000  \n",
              "4       750000  "
            ],
            "text/html": [
              "\n",
              "  <div id=\"df-4a9f76cd-f055-4358-95e1-97ab213db836\">\n",
              "    <div class=\"colab-df-container\">\n",
              "      <div>\n",
              "<style scoped>\n",
              "    .dataframe tbody tr th:only-of-type {\n",
              "        vertical-align: middle;\n",
              "    }\n",
              "\n",
              "    .dataframe tbody tr th {\n",
              "        vertical-align: top;\n",
              "    }\n",
              "\n",
              "    .dataframe thead th {\n",
              "        text-align: right;\n",
              "    }\n",
              "</style>\n",
              "<table border=\"1\" class=\"dataframe\">\n",
              "  <thead>\n",
              "    <tr style=\"text-align: right;\">\n",
              "      <th></th>\n",
              "      <th>Effort</th>\n",
              "      <th>Vi</th>\n",
              "      <th>D</th>\n",
              "      <th>V</th>\n",
              "      <th>Sprint_Size</th>\n",
              "      <th>Work_days</th>\n",
              "      <th>Team_Salary</th>\n",
              "      <th>Act_Time</th>\n",
              "      <th>Actual_Cost</th>\n",
              "    </tr>\n",
              "  </thead>\n",
              "  <tbody>\n",
              "    <tr>\n",
              "      <th>0</th>\n",
              "      <td>156</td>\n",
              "      <td>4.2</td>\n",
              "      <td>0.687</td>\n",
              "      <td>2.7</td>\n",
              "      <td>10</td>\n",
              "      <td>22</td>\n",
              "      <td>230000</td>\n",
              "      <td>63</td>\n",
              "      <td>1200000</td>\n",
              "    </tr>\n",
              "    <tr>\n",
              "      <th>1</th>\n",
              "      <td>202</td>\n",
              "      <td>3.7</td>\n",
              "      <td>0.701</td>\n",
              "      <td>2.5</td>\n",
              "      <td>10</td>\n",
              "      <td>21</td>\n",
              "      <td>260000</td>\n",
              "      <td>92</td>\n",
              "      <td>1600000</td>\n",
              "    </tr>\n",
              "    <tr>\n",
              "      <th>2</th>\n",
              "      <td>173</td>\n",
              "      <td>4.0</td>\n",
              "      <td>0.878</td>\n",
              "      <td>3.3</td>\n",
              "      <td>10</td>\n",
              "      <td>22</td>\n",
              "      <td>250000</td>\n",
              "      <td>56</td>\n",
              "      <td>1000000</td>\n",
              "    </tr>\n",
              "    <tr>\n",
              "      <th>3</th>\n",
              "      <td>331</td>\n",
              "      <td>4.5</td>\n",
              "      <td>0.886</td>\n",
              "      <td>3.8</td>\n",
              "      <td>10</td>\n",
              "      <td>22</td>\n",
              "      <td>300000</td>\n",
              "      <td>86</td>\n",
              "      <td>2100000</td>\n",
              "    </tr>\n",
              "    <tr>\n",
              "      <th>4</th>\n",
              "      <td>124</td>\n",
              "      <td>4.9</td>\n",
              "      <td>0.903</td>\n",
              "      <td>4.2</td>\n",
              "      <td>10</td>\n",
              "      <td>22</td>\n",
              "      <td>300000</td>\n",
              "      <td>32</td>\n",
              "      <td>750000</td>\n",
              "    </tr>\n",
              "  </tbody>\n",
              "</table>\n",
              "</div>\n",
              "      <button class=\"colab-df-convert\" onclick=\"convertToInteractive('df-4a9f76cd-f055-4358-95e1-97ab213db836')\"\n",
              "              title=\"Convert this dataframe to an interactive table.\"\n",
              "              style=\"display:none;\">\n",
              "        \n",
              "  <svg xmlns=\"http://www.w3.org/2000/svg\" height=\"24px\"viewBox=\"0 0 24 24\"\n",
              "       width=\"24px\">\n",
              "    <path d=\"M0 0h24v24H0V0z\" fill=\"none\"/>\n",
              "    <path d=\"M18.56 5.44l.94 2.06.94-2.06 2.06-.94-2.06-.94-.94-2.06-.94 2.06-2.06.94zm-11 1L8.5 8.5l.94-2.06 2.06-.94-2.06-.94L8.5 2.5l-.94 2.06-2.06.94zm10 10l.94 2.06.94-2.06 2.06-.94-2.06-.94-.94-2.06-.94 2.06-2.06.94z\"/><path d=\"M17.41 7.96l-1.37-1.37c-.4-.4-.92-.59-1.43-.59-.52 0-1.04.2-1.43.59L10.3 9.45l-7.72 7.72c-.78.78-.78 2.05 0 2.83L4 21.41c.39.39.9.59 1.41.59.51 0 1.02-.2 1.41-.59l7.78-7.78 2.81-2.81c.8-.78.8-2.07 0-2.86zM5.41 20L4 18.59l7.72-7.72 1.47 1.35L5.41 20z\"/>\n",
              "  </svg>\n",
              "      </button>\n",
              "      \n",
              "  <style>\n",
              "    .colab-df-container {\n",
              "      display:flex;\n",
              "      flex-wrap:wrap;\n",
              "      gap: 12px;\n",
              "    }\n",
              "\n",
              "    .colab-df-convert {\n",
              "      background-color: #E8F0FE;\n",
              "      border: none;\n",
              "      border-radius: 50%;\n",
              "      cursor: pointer;\n",
              "      display: none;\n",
              "      fill: #1967D2;\n",
              "      height: 32px;\n",
              "      padding: 0 0 0 0;\n",
              "      width: 32px;\n",
              "    }\n",
              "\n",
              "    .colab-df-convert:hover {\n",
              "      background-color: #E2EBFA;\n",
              "      box-shadow: 0px 1px 2px rgba(60, 64, 67, 0.3), 0px 1px 3px 1px rgba(60, 64, 67, 0.15);\n",
              "      fill: #174EA6;\n",
              "    }\n",
              "\n",
              "    [theme=dark] .colab-df-convert {\n",
              "      background-color: #3B4455;\n",
              "      fill: #D2E3FC;\n",
              "    }\n",
              "\n",
              "    [theme=dark] .colab-df-convert:hover {\n",
              "      background-color: #434B5C;\n",
              "      box-shadow: 0px 1px 3px 1px rgba(0, 0, 0, 0.15);\n",
              "      filter: drop-shadow(0px 1px 2px rgba(0, 0, 0, 0.3));\n",
              "      fill: #FFFFFF;\n",
              "    }\n",
              "  </style>\n",
              "\n",
              "      <script>\n",
              "        const buttonEl =\n",
              "          document.querySelector('#df-4a9f76cd-f055-4358-95e1-97ab213db836 button.colab-df-convert');\n",
              "        buttonEl.style.display =\n",
              "          google.colab.kernel.accessAllowed ? 'block' : 'none';\n",
              "\n",
              "        async function convertToInteractive(key) {\n",
              "          const element = document.querySelector('#df-4a9f76cd-f055-4358-95e1-97ab213db836');\n",
              "          const dataTable =\n",
              "            await google.colab.kernel.invokeFunction('convertToInteractive',\n",
              "                                                     [key], {});\n",
              "          if (!dataTable) return;\n",
              "\n",
              "          const docLinkHtml = 'Like what you see? Visit the ' +\n",
              "            '<a target=\"_blank\" href=https://colab.research.google.com/notebooks/data_table.ipynb>data table notebook</a>'\n",
              "            + ' to learn more about interactive tables.';\n",
              "          element.innerHTML = '';\n",
              "          dataTable['output_type'] = 'display_data';\n",
              "          await google.colab.output.renderOutput(dataTable, element);\n",
              "          const docLink = document.createElement('div');\n",
              "          docLink.innerHTML = docLinkHtml;\n",
              "          element.appendChild(docLink);\n",
              "        }\n",
              "      </script>\n",
              "    </div>\n",
              "  </div>\n",
              "  "
            ]
          },
          "metadata": {},
          "execution_count": 127
        }
      ],
      "source": [
        "data_read.head()"
      ]
    },
    {
      "cell_type": "code",
      "execution_count": 128,
      "metadata": {
        "id": "zHu2XEHaHcGh"
      },
      "outputs": [],
      "source": [
        "#@title Improving The data Qualitity \n",
        "#@markdown  "
      ]
    },
    {
      "cell_type": "code",
      "execution_count": 129,
      "metadata": {
        "id": "1cIKsFp8SkjN"
      },
      "outputs": [],
      "source": [
        "#@title Defining Category 1 and Category 2\n",
        "\n",
        "\n",
        "features = ['Effort'\t,'Vi',\t'D',\t'V',\t\t'Work_days',\t'Team_Salary',\t'Act_Time']\n",
        "#features = ['Actual_Cost',\t'Vi',\t'D',\t'V',\t'Sprint_Size',\t'Work_days',\t'Act_Time'] \n",
        "\n",
        "\n",
        "\n",
        "Cat_1 = data_read[features]\n",
        "Cat_2 = data_read['Actual_Cost']"
      ]
    },
    {
      "cell_type": "code",
      "execution_count": 130,
      "metadata": {
        "colab": {
          "base_uri": "https://localhost:8080/",
          "height": 364
        },
        "id": "ZB46SrBPCmES",
        "outputId": "b6f6e3a2-5525-4c25-d666-2143106ed750"
      },
      "outputs": [
        {
          "output_type": "execute_result",
          "data": {
            "text/plain": [
              "           Effort         Vi          D          V  Work_days    Team_Salary  \\\n",
              "count   21.000000  21.000000  21.000000  21.000000  21.000000      21.000000   \n",
              "mean   163.714286   4.071429   0.780381   3.023810  21.952381  246190.476190   \n",
              "std     82.743062   0.325796   0.071028   0.438069   0.218218   46419.413016   \n",
              "min     62.000000   3.700000   0.646000   2.400000  21.000000  190000.000000   \n",
              "25%    101.000000   3.900000   0.742000   2.800000  22.000000  220000.000000   \n",
              "50%    137.000000   4.000000   0.758000   2.900000  22.000000  250000.000000   \n",
              "75%    211.000000   4.200000   0.833000   3.200000  22.000000  250000.000000   \n",
              "max    339.000000   4.900000   0.903000   4.200000  22.000000  400000.000000   \n",
              "\n",
              "         Act_Time  \n",
              "count   21.000000  \n",
              "mean    56.428571  \n",
              "std     26.177417  \n",
              "min     21.000000  \n",
              "25%     35.000000  \n",
              "50%     52.000000  \n",
              "75%     80.000000  \n",
              "max    112.000000  "
            ],
            "text/html": [
              "\n",
              "  <div id=\"df-9780b0d6-a657-4013-b1e6-70544e2540ad\">\n",
              "    <div class=\"colab-df-container\">\n",
              "      <div>\n",
              "<style scoped>\n",
              "    .dataframe tbody tr th:only-of-type {\n",
              "        vertical-align: middle;\n",
              "    }\n",
              "\n",
              "    .dataframe tbody tr th {\n",
              "        vertical-align: top;\n",
              "    }\n",
              "\n",
              "    .dataframe thead th {\n",
              "        text-align: right;\n",
              "    }\n",
              "</style>\n",
              "<table border=\"1\" class=\"dataframe\">\n",
              "  <thead>\n",
              "    <tr style=\"text-align: right;\">\n",
              "      <th></th>\n",
              "      <th>Effort</th>\n",
              "      <th>Vi</th>\n",
              "      <th>D</th>\n",
              "      <th>V</th>\n",
              "      <th>Work_days</th>\n",
              "      <th>Team_Salary</th>\n",
              "      <th>Act_Time</th>\n",
              "    </tr>\n",
              "  </thead>\n",
              "  <tbody>\n",
              "    <tr>\n",
              "      <th>count</th>\n",
              "      <td>21.000000</td>\n",
              "      <td>21.000000</td>\n",
              "      <td>21.000000</td>\n",
              "      <td>21.000000</td>\n",
              "      <td>21.000000</td>\n",
              "      <td>21.000000</td>\n",
              "      <td>21.000000</td>\n",
              "    </tr>\n",
              "    <tr>\n",
              "      <th>mean</th>\n",
              "      <td>163.714286</td>\n",
              "      <td>4.071429</td>\n",
              "      <td>0.780381</td>\n",
              "      <td>3.023810</td>\n",
              "      <td>21.952381</td>\n",
              "      <td>246190.476190</td>\n",
              "      <td>56.428571</td>\n",
              "    </tr>\n",
              "    <tr>\n",
              "      <th>std</th>\n",
              "      <td>82.743062</td>\n",
              "      <td>0.325796</td>\n",
              "      <td>0.071028</td>\n",
              "      <td>0.438069</td>\n",
              "      <td>0.218218</td>\n",
              "      <td>46419.413016</td>\n",
              "      <td>26.177417</td>\n",
              "    </tr>\n",
              "    <tr>\n",
              "      <th>min</th>\n",
              "      <td>62.000000</td>\n",
              "      <td>3.700000</td>\n",
              "      <td>0.646000</td>\n",
              "      <td>2.400000</td>\n",
              "      <td>21.000000</td>\n",
              "      <td>190000.000000</td>\n",
              "      <td>21.000000</td>\n",
              "    </tr>\n",
              "    <tr>\n",
              "      <th>25%</th>\n",
              "      <td>101.000000</td>\n",
              "      <td>3.900000</td>\n",
              "      <td>0.742000</td>\n",
              "      <td>2.800000</td>\n",
              "      <td>22.000000</td>\n",
              "      <td>220000.000000</td>\n",
              "      <td>35.000000</td>\n",
              "    </tr>\n",
              "    <tr>\n",
              "      <th>50%</th>\n",
              "      <td>137.000000</td>\n",
              "      <td>4.000000</td>\n",
              "      <td>0.758000</td>\n",
              "      <td>2.900000</td>\n",
              "      <td>22.000000</td>\n",
              "      <td>250000.000000</td>\n",
              "      <td>52.000000</td>\n",
              "    </tr>\n",
              "    <tr>\n",
              "      <th>75%</th>\n",
              "      <td>211.000000</td>\n",
              "      <td>4.200000</td>\n",
              "      <td>0.833000</td>\n",
              "      <td>3.200000</td>\n",
              "      <td>22.000000</td>\n",
              "      <td>250000.000000</td>\n",
              "      <td>80.000000</td>\n",
              "    </tr>\n",
              "    <tr>\n",
              "      <th>max</th>\n",
              "      <td>339.000000</td>\n",
              "      <td>4.900000</td>\n",
              "      <td>0.903000</td>\n",
              "      <td>4.200000</td>\n",
              "      <td>22.000000</td>\n",
              "      <td>400000.000000</td>\n",
              "      <td>112.000000</td>\n",
              "    </tr>\n",
              "  </tbody>\n",
              "</table>\n",
              "</div>\n",
              "      <button class=\"colab-df-convert\" onclick=\"convertToInteractive('df-9780b0d6-a657-4013-b1e6-70544e2540ad')\"\n",
              "              title=\"Convert this dataframe to an interactive table.\"\n",
              "              style=\"display:none;\">\n",
              "        \n",
              "  <svg xmlns=\"http://www.w3.org/2000/svg\" height=\"24px\"viewBox=\"0 0 24 24\"\n",
              "       width=\"24px\">\n",
              "    <path d=\"M0 0h24v24H0V0z\" fill=\"none\"/>\n",
              "    <path d=\"M18.56 5.44l.94 2.06.94-2.06 2.06-.94-2.06-.94-.94-2.06-.94 2.06-2.06.94zm-11 1L8.5 8.5l.94-2.06 2.06-.94-2.06-.94L8.5 2.5l-.94 2.06-2.06.94zm10 10l.94 2.06.94-2.06 2.06-.94-2.06-.94-.94-2.06-.94 2.06-2.06.94z\"/><path d=\"M17.41 7.96l-1.37-1.37c-.4-.4-.92-.59-1.43-.59-.52 0-1.04.2-1.43.59L10.3 9.45l-7.72 7.72c-.78.78-.78 2.05 0 2.83L4 21.41c.39.39.9.59 1.41.59.51 0 1.02-.2 1.41-.59l7.78-7.78 2.81-2.81c.8-.78.8-2.07 0-2.86zM5.41 20L4 18.59l7.72-7.72 1.47 1.35L5.41 20z\"/>\n",
              "  </svg>\n",
              "      </button>\n",
              "      \n",
              "  <style>\n",
              "    .colab-df-container {\n",
              "      display:flex;\n",
              "      flex-wrap:wrap;\n",
              "      gap: 12px;\n",
              "    }\n",
              "\n",
              "    .colab-df-convert {\n",
              "      background-color: #E8F0FE;\n",
              "      border: none;\n",
              "      border-radius: 50%;\n",
              "      cursor: pointer;\n",
              "      display: none;\n",
              "      fill: #1967D2;\n",
              "      height: 32px;\n",
              "      padding: 0 0 0 0;\n",
              "      width: 32px;\n",
              "    }\n",
              "\n",
              "    .colab-df-convert:hover {\n",
              "      background-color: #E2EBFA;\n",
              "      box-shadow: 0px 1px 2px rgba(60, 64, 67, 0.3), 0px 1px 3px 1px rgba(60, 64, 67, 0.15);\n",
              "      fill: #174EA6;\n",
              "    }\n",
              "\n",
              "    [theme=dark] .colab-df-convert {\n",
              "      background-color: #3B4455;\n",
              "      fill: #D2E3FC;\n",
              "    }\n",
              "\n",
              "    [theme=dark] .colab-df-convert:hover {\n",
              "      background-color: #434B5C;\n",
              "      box-shadow: 0px 1px 3px 1px rgba(0, 0, 0, 0.15);\n",
              "      filter: drop-shadow(0px 1px 2px rgba(0, 0, 0, 0.3));\n",
              "      fill: #FFFFFF;\n",
              "    }\n",
              "  </style>\n",
              "\n",
              "      <script>\n",
              "        const buttonEl =\n",
              "          document.querySelector('#df-9780b0d6-a657-4013-b1e6-70544e2540ad button.colab-df-convert');\n",
              "        buttonEl.style.display =\n",
              "          google.colab.kernel.accessAllowed ? 'block' : 'none';\n",
              "\n",
              "        async function convertToInteractive(key) {\n",
              "          const element = document.querySelector('#df-9780b0d6-a657-4013-b1e6-70544e2540ad');\n",
              "          const dataTable =\n",
              "            await google.colab.kernel.invokeFunction('convertToInteractive',\n",
              "                                                     [key], {});\n",
              "          if (!dataTable) return;\n",
              "\n",
              "          const docLinkHtml = 'Like what you see? Visit the ' +\n",
              "            '<a target=\"_blank\" href=https://colab.research.google.com/notebooks/data_table.ipynb>data table notebook</a>'\n",
              "            + ' to learn more about interactive tables.';\n",
              "          element.innerHTML = '';\n",
              "          dataTable['output_type'] = 'display_data';\n",
              "          await google.colab.output.renderOutput(dataTable, element);\n",
              "          const docLink = document.createElement('div');\n",
              "          docLink.innerHTML = docLinkHtml;\n",
              "          element.appendChild(docLink);\n",
              "        }\n",
              "      </script>\n",
              "    </div>\n",
              "  </div>\n",
              "  "
            ]
          },
          "metadata": {},
          "execution_count": 130
        }
      ],
      "source": [
        "\n",
        "#@title Describing Categorical Data \n",
        "Cat_1.describe()\n"
      ]
    },
    {
      "cell_type": "code",
      "execution_count": 130,
      "metadata": {
        "id": "ZoPPEu0MTb4q"
      },
      "outputs": [],
      "source": []
    },
    {
      "cell_type": "code",
      "execution_count": 131,
      "metadata": {
        "id": "GEXGsEJbF3oo"
      },
      "outputs": [],
      "source": [
        "#For debugging purpose\n",
        "#print(Cat_1)"
      ]
    },
    {
      "cell_type": "code",
      "execution_count": 132,
      "metadata": {
        "colab": {
          "base_uri": "https://localhost:8080/",
          "height": 708
        },
        "id": "EK8En7n2fnjK",
        "outputId": "3b8d171b-d16c-490c-9a5a-a0275beb2a60"
      },
      "outputs": [
        {
          "output_type": "display_data",
          "data": {
            "text/plain": [
              "    Effort   Vi      D    V  Work_days  Team_Salary  Act_Time\n",
              "0      156  4.2  0.687  2.7         22       230000        63\n",
              "1      202  3.7  0.701  2.5         21       260000        92\n",
              "2      173  4.0  0.878  3.3         22       250000        56\n",
              "3      331  4.5  0.886  3.8         22       300000        86\n",
              "4      124  4.9  0.903  4.2         22       300000        32\n",
              "5      339  4.1  0.903  3.6         22       400000        91\n",
              "6       97  4.2  0.859  3.4         22       250000        35\n",
              "7      257  3.8  0.833  3.0         22       250000        93\n",
              "8       84  3.9  0.646  2.4         22       190000        36\n",
              "9      211  4.6  0.758  3.2         22       250000        62\n",
              "10     131  4.6  0.758  3.2         22       250000        45\n",
              "11     112  3.9  0.773  2.9         22       200000        37\n",
              "12     101  3.9  0.773  2.9         22       200000        32\n",
              "13      74  3.9  0.773  2.9         22       200000        30\n",
              "14      62  3.9  0.773  2.9         22       200000        21\n",
              "15     289  4.0  0.742  2.8         22       250000       112\n",
              "16     113  4.0  0.742  2.8         22       250000        39\n",
              "17     141  4.0  0.742  2.8         22       250000        52\n",
              "18     213  4.0  0.742  2.8         22       250000        80\n",
              "19     137  3.7  0.758  2.7         22       220000        56\n",
              "20      91  3.7  0.758  2.7         22       220000        35"
            ],
            "text/html": [
              "\n",
              "  <div id=\"df-f31a465b-cf0d-455b-890d-2b6027205a56\">\n",
              "    <div class=\"colab-df-container\">\n",
              "      <div>\n",
              "<style scoped>\n",
              "    .dataframe tbody tr th:only-of-type {\n",
              "        vertical-align: middle;\n",
              "    }\n",
              "\n",
              "    .dataframe tbody tr th {\n",
              "        vertical-align: top;\n",
              "    }\n",
              "\n",
              "    .dataframe thead th {\n",
              "        text-align: right;\n",
              "    }\n",
              "</style>\n",
              "<table border=\"1\" class=\"dataframe\">\n",
              "  <thead>\n",
              "    <tr style=\"text-align: right;\">\n",
              "      <th></th>\n",
              "      <th>Effort</th>\n",
              "      <th>Vi</th>\n",
              "      <th>D</th>\n",
              "      <th>V</th>\n",
              "      <th>Work_days</th>\n",
              "      <th>Team_Salary</th>\n",
              "      <th>Act_Time</th>\n",
              "    </tr>\n",
              "  </thead>\n",
              "  <tbody>\n",
              "    <tr>\n",
              "      <th>0</th>\n",
              "      <td>156</td>\n",
              "      <td>4.2</td>\n",
              "      <td>0.687</td>\n",
              "      <td>2.7</td>\n",
              "      <td>22</td>\n",
              "      <td>230000</td>\n",
              "      <td>63</td>\n",
              "    </tr>\n",
              "    <tr>\n",
              "      <th>1</th>\n",
              "      <td>202</td>\n",
              "      <td>3.7</td>\n",
              "      <td>0.701</td>\n",
              "      <td>2.5</td>\n",
              "      <td>21</td>\n",
              "      <td>260000</td>\n",
              "      <td>92</td>\n",
              "    </tr>\n",
              "    <tr>\n",
              "      <th>2</th>\n",
              "      <td>173</td>\n",
              "      <td>4.0</td>\n",
              "      <td>0.878</td>\n",
              "      <td>3.3</td>\n",
              "      <td>22</td>\n",
              "      <td>250000</td>\n",
              "      <td>56</td>\n",
              "    </tr>\n",
              "    <tr>\n",
              "      <th>3</th>\n",
              "      <td>331</td>\n",
              "      <td>4.5</td>\n",
              "      <td>0.886</td>\n",
              "      <td>3.8</td>\n",
              "      <td>22</td>\n",
              "      <td>300000</td>\n",
              "      <td>86</td>\n",
              "    </tr>\n",
              "    <tr>\n",
              "      <th>4</th>\n",
              "      <td>124</td>\n",
              "      <td>4.9</td>\n",
              "      <td>0.903</td>\n",
              "      <td>4.2</td>\n",
              "      <td>22</td>\n",
              "      <td>300000</td>\n",
              "      <td>32</td>\n",
              "    </tr>\n",
              "    <tr>\n",
              "      <th>5</th>\n",
              "      <td>339</td>\n",
              "      <td>4.1</td>\n",
              "      <td>0.903</td>\n",
              "      <td>3.6</td>\n",
              "      <td>22</td>\n",
              "      <td>400000</td>\n",
              "      <td>91</td>\n",
              "    </tr>\n",
              "    <tr>\n",
              "      <th>6</th>\n",
              "      <td>97</td>\n",
              "      <td>4.2</td>\n",
              "      <td>0.859</td>\n",
              "      <td>3.4</td>\n",
              "      <td>22</td>\n",
              "      <td>250000</td>\n",
              "      <td>35</td>\n",
              "    </tr>\n",
              "    <tr>\n",
              "      <th>7</th>\n",
              "      <td>257</td>\n",
              "      <td>3.8</td>\n",
              "      <td>0.833</td>\n",
              "      <td>3.0</td>\n",
              "      <td>22</td>\n",
              "      <td>250000</td>\n",
              "      <td>93</td>\n",
              "    </tr>\n",
              "    <tr>\n",
              "      <th>8</th>\n",
              "      <td>84</td>\n",
              "      <td>3.9</td>\n",
              "      <td>0.646</td>\n",
              "      <td>2.4</td>\n",
              "      <td>22</td>\n",
              "      <td>190000</td>\n",
              "      <td>36</td>\n",
              "    </tr>\n",
              "    <tr>\n",
              "      <th>9</th>\n",
              "      <td>211</td>\n",
              "      <td>4.6</td>\n",
              "      <td>0.758</td>\n",
              "      <td>3.2</td>\n",
              "      <td>22</td>\n",
              "      <td>250000</td>\n",
              "      <td>62</td>\n",
              "    </tr>\n",
              "    <tr>\n",
              "      <th>10</th>\n",
              "      <td>131</td>\n",
              "      <td>4.6</td>\n",
              "      <td>0.758</td>\n",
              "      <td>3.2</td>\n",
              "      <td>22</td>\n",
              "      <td>250000</td>\n",
              "      <td>45</td>\n",
              "    </tr>\n",
              "    <tr>\n",
              "      <th>11</th>\n",
              "      <td>112</td>\n",
              "      <td>3.9</td>\n",
              "      <td>0.773</td>\n",
              "      <td>2.9</td>\n",
              "      <td>22</td>\n",
              "      <td>200000</td>\n",
              "      <td>37</td>\n",
              "    </tr>\n",
              "    <tr>\n",
              "      <th>12</th>\n",
              "      <td>101</td>\n",
              "      <td>3.9</td>\n",
              "      <td>0.773</td>\n",
              "      <td>2.9</td>\n",
              "      <td>22</td>\n",
              "      <td>200000</td>\n",
              "      <td>32</td>\n",
              "    </tr>\n",
              "    <tr>\n",
              "      <th>13</th>\n",
              "      <td>74</td>\n",
              "      <td>3.9</td>\n",
              "      <td>0.773</td>\n",
              "      <td>2.9</td>\n",
              "      <td>22</td>\n",
              "      <td>200000</td>\n",
              "      <td>30</td>\n",
              "    </tr>\n",
              "    <tr>\n",
              "      <th>14</th>\n",
              "      <td>62</td>\n",
              "      <td>3.9</td>\n",
              "      <td>0.773</td>\n",
              "      <td>2.9</td>\n",
              "      <td>22</td>\n",
              "      <td>200000</td>\n",
              "      <td>21</td>\n",
              "    </tr>\n",
              "    <tr>\n",
              "      <th>15</th>\n",
              "      <td>289</td>\n",
              "      <td>4.0</td>\n",
              "      <td>0.742</td>\n",
              "      <td>2.8</td>\n",
              "      <td>22</td>\n",
              "      <td>250000</td>\n",
              "      <td>112</td>\n",
              "    </tr>\n",
              "    <tr>\n",
              "      <th>16</th>\n",
              "      <td>113</td>\n",
              "      <td>4.0</td>\n",
              "      <td>0.742</td>\n",
              "      <td>2.8</td>\n",
              "      <td>22</td>\n",
              "      <td>250000</td>\n",
              "      <td>39</td>\n",
              "    </tr>\n",
              "    <tr>\n",
              "      <th>17</th>\n",
              "      <td>141</td>\n",
              "      <td>4.0</td>\n",
              "      <td>0.742</td>\n",
              "      <td>2.8</td>\n",
              "      <td>22</td>\n",
              "      <td>250000</td>\n",
              "      <td>52</td>\n",
              "    </tr>\n",
              "    <tr>\n",
              "      <th>18</th>\n",
              "      <td>213</td>\n",
              "      <td>4.0</td>\n",
              "      <td>0.742</td>\n",
              "      <td>2.8</td>\n",
              "      <td>22</td>\n",
              "      <td>250000</td>\n",
              "      <td>80</td>\n",
              "    </tr>\n",
              "    <tr>\n",
              "      <th>19</th>\n",
              "      <td>137</td>\n",
              "      <td>3.7</td>\n",
              "      <td>0.758</td>\n",
              "      <td>2.7</td>\n",
              "      <td>22</td>\n",
              "      <td>220000</td>\n",
              "      <td>56</td>\n",
              "    </tr>\n",
              "    <tr>\n",
              "      <th>20</th>\n",
              "      <td>91</td>\n",
              "      <td>3.7</td>\n",
              "      <td>0.758</td>\n",
              "      <td>2.7</td>\n",
              "      <td>22</td>\n",
              "      <td>220000</td>\n",
              "      <td>35</td>\n",
              "    </tr>\n",
              "  </tbody>\n",
              "</table>\n",
              "</div>\n",
              "      <button class=\"colab-df-convert\" onclick=\"convertToInteractive('df-f31a465b-cf0d-455b-890d-2b6027205a56')\"\n",
              "              title=\"Convert this dataframe to an interactive table.\"\n",
              "              style=\"display:none;\">\n",
              "        \n",
              "  <svg xmlns=\"http://www.w3.org/2000/svg\" height=\"24px\"viewBox=\"0 0 24 24\"\n",
              "       width=\"24px\">\n",
              "    <path d=\"M0 0h24v24H0V0z\" fill=\"none\"/>\n",
              "    <path d=\"M18.56 5.44l.94 2.06.94-2.06 2.06-.94-2.06-.94-.94-2.06-.94 2.06-2.06.94zm-11 1L8.5 8.5l.94-2.06 2.06-.94-2.06-.94L8.5 2.5l-.94 2.06-2.06.94zm10 10l.94 2.06.94-2.06 2.06-.94-2.06-.94-.94-2.06-.94 2.06-2.06.94z\"/><path d=\"M17.41 7.96l-1.37-1.37c-.4-.4-.92-.59-1.43-.59-.52 0-1.04.2-1.43.59L10.3 9.45l-7.72 7.72c-.78.78-.78 2.05 0 2.83L4 21.41c.39.39.9.59 1.41.59.51 0 1.02-.2 1.41-.59l7.78-7.78 2.81-2.81c.8-.78.8-2.07 0-2.86zM5.41 20L4 18.59l7.72-7.72 1.47 1.35L5.41 20z\"/>\n",
              "  </svg>\n",
              "      </button>\n",
              "      \n",
              "  <style>\n",
              "    .colab-df-container {\n",
              "      display:flex;\n",
              "      flex-wrap:wrap;\n",
              "      gap: 12px;\n",
              "    }\n",
              "\n",
              "    .colab-df-convert {\n",
              "      background-color: #E8F0FE;\n",
              "      border: none;\n",
              "      border-radius: 50%;\n",
              "      cursor: pointer;\n",
              "      display: none;\n",
              "      fill: #1967D2;\n",
              "      height: 32px;\n",
              "      padding: 0 0 0 0;\n",
              "      width: 32px;\n",
              "    }\n",
              "\n",
              "    .colab-df-convert:hover {\n",
              "      background-color: #E2EBFA;\n",
              "      box-shadow: 0px 1px 2px rgba(60, 64, 67, 0.3), 0px 1px 3px 1px rgba(60, 64, 67, 0.15);\n",
              "      fill: #174EA6;\n",
              "    }\n",
              "\n",
              "    [theme=dark] .colab-df-convert {\n",
              "      background-color: #3B4455;\n",
              "      fill: #D2E3FC;\n",
              "    }\n",
              "\n",
              "    [theme=dark] .colab-df-convert:hover {\n",
              "      background-color: #434B5C;\n",
              "      box-shadow: 0px 1px 3px 1px rgba(0, 0, 0, 0.15);\n",
              "      filter: drop-shadow(0px 1px 2px rgba(0, 0, 0, 0.3));\n",
              "      fill: #FFFFFF;\n",
              "    }\n",
              "  </style>\n",
              "\n",
              "      <script>\n",
              "        const buttonEl =\n",
              "          document.querySelector('#df-f31a465b-cf0d-455b-890d-2b6027205a56 button.colab-df-convert');\n",
              "        buttonEl.style.display =\n",
              "          google.colab.kernel.accessAllowed ? 'block' : 'none';\n",
              "\n",
              "        async function convertToInteractive(key) {\n",
              "          const element = document.querySelector('#df-f31a465b-cf0d-455b-890d-2b6027205a56');\n",
              "          const dataTable =\n",
              "            await google.colab.kernel.invokeFunction('convertToInteractive',\n",
              "                                                     [key], {});\n",
              "          if (!dataTable) return;\n",
              "\n",
              "          const docLinkHtml = 'Like what you see? Visit the ' +\n",
              "            '<a target=\"_blank\" href=https://colab.research.google.com/notebooks/data_table.ipynb>data table notebook</a>'\n",
              "            + ' to learn more about interactive tables.';\n",
              "          element.innerHTML = '';\n",
              "          dataTable['output_type'] = 'display_data';\n",
              "          await google.colab.output.renderOutput(dataTable, element);\n",
              "          const docLink = document.createElement('div');\n",
              "          docLink.innerHTML = docLinkHtml;\n",
              "          element.appendChild(docLink);\n",
              "        }\n",
              "      </script>\n",
              "    </div>\n",
              "  </div>\n",
              "  "
            ]
          },
          "metadata": {}
        }
      ],
      "source": [
        "#@title Describe the raw Data of splitted trained set from the dataframe\n",
        "display(Cat_1)"
      ]
    },
    {
      "cell_type": "code",
      "execution_count": 132,
      "metadata": {
        "id": "QNqBXkqLxY8T"
      },
      "outputs": [],
      "source": []
    },
    {
      "cell_type": "code",
      "execution_count": 133,
      "metadata": {
        "colab": {
          "base_uri": "https://localhost:8080/"
        },
        "id": "g97XTJ12xXe_",
        "outputId": "7bcb1c36-6cf2-4cca-c7c9-b8a99274b4d7"
      },
      "outputs": [
        {
          "output_type": "stream",
          "name": "stdout",
          "text": [
            "The overall nummber of projects are:  21\n"
          ]
        }
      ],
      "source": [
        "print('The overall nummber of projects are: ',len(Cat_2))"
      ]
    },
    {
      "cell_type": "code",
      "execution_count": 134,
      "metadata": {
        "colab": {
          "base_uri": "https://localhost:8080/",
          "height": 399
        },
        "id": "hDINeKSAF-uO",
        "outputId": "516ede40-419b-4879-8524-636f2cda2edb"
      },
      "outputs": [
        {
          "output_type": "display_data",
          "data": {
            "text/plain": [
              "0     1200000\n",
              "1     1600000\n",
              "2     1000000\n",
              "3     2100000\n",
              "4      750000\n",
              "5     3200000\n",
              "6      600000\n",
              "7     1800000\n",
              "8      500000\n",
              "9     1200000\n",
              "10     800000\n",
              "11     650000\n",
              "12     600000\n",
              "13     400000\n",
              "14     350000\n",
              "15    2000000\n",
              "16     800000\n",
              "17    1000000\n",
              "18    1500000\n",
              "19     800000\n",
              "20     550000\n",
              "Name: Actual_Cost, dtype: int64"
            ]
          },
          "metadata": {}
        }
      ],
      "source": [
        "display(Cat_2)"
      ]
    },
    {
      "cell_type": "code",
      "execution_count": 135,
      "metadata": {
        "id": "24lr9lwxGEYY"
      },
      "outputs": [],
      "source": [
        "\n",
        "\n",
        "from sklearn.model_selection import train_test_split\n",
        "\n",
        "x_train,x_test,y_train,y_test = train_test_split(Cat_1,Cat_2,test_size=0.20, random_state=0)\n",
        "from sklearn.linear_model import LinearRegression\n",
        "ml = LinearRegression()\n",
        "ml.fit(x_train,y_train)\n",
        "ml.predict(x_test)\n",
        "y_pred1 = ml.predict(x_test)\n",
        "\n",
        "ypredx=len(x_test)\n",
        "## For Debugging Purpose\n",
        "\n",
        "\n",
        "# print(len(y_pred1))\n",
        "# print('xtrain',len(x_train))\n",
        "# print('xtest',len(x_test))"
      ]
    },
    {
      "cell_type": "code",
      "execution_count": 136,
      "metadata": {
        "colab": {
          "base_uri": "https://localhost:8080/"
        },
        "id": "0lSgG170XhmO",
        "outputId": "118f6079-0195-4e80-debb-ab402e4249cd"
      },
      "outputs": [
        {
          "output_type": "stream",
          "name": "stdout",
          "text": [
            "8      500000\n",
            "13     400000\n",
            "20     550000\n",
            "1     1600000\n",
            "11     650000\n",
            "Name: Actual_Cost, dtype: int64\n"
          ]
        }
      ],
      "source": [
        "import math\n",
        "print(y_test)\n"
      ]
    },
    {
      "cell_type": "code",
      "execution_count": 137,
      "metadata": {
        "colab": {
          "base_uri": "https://localhost:8080/"
        },
        "id": "OaydKt4JYbMs",
        "outputId": "3d3da5af-4a6a-4c69-9f46-d74258e7db18"
      },
      "outputs": [
        {
          "output_type": "stream",
          "name": "stdout",
          "text": [
            "[ 519105.92988206  324019.47957263  678543.59988628 1752066.93586203\n",
            "  547413.02801067]\n"
          ]
        }
      ],
      "source": [
        "print(y_pred1)"
      ]
    },
    {
      "cell_type": "code",
      "execution_count": 138,
      "metadata": {
        "id": "MwXmlqdxKkcU"
      },
      "outputs": [],
      "source": [
        "ml.predict(x_train)\n",
        "x_train_pred_lr= ml.predict(x_train)"
      ]
    },
    {
      "cell_type": "code",
      "execution_count": 139,
      "metadata": {
        "colab": {
          "base_uri": "https://localhost:8080/",
          "height": 658
        },
        "id": "Xm0sykHILvFR",
        "outputId": "9088f757-19a2-42ec-c110-e01098e94e55"
      },
      "outputs": [
        {
          "output_type": "execute_result",
          "data": {
            "text/plain": [
              "Text(0.5, 1.0, 'Cost Actual vs Predicted Linear Regresssion')"
            ]
          },
          "metadata": {},
          "execution_count": 139
        },
        {
          "output_type": "display_data",
          "data": {
            "text/plain": [
              "<Figure size 700x700 with 1 Axes>"
            ],
            "image/png": "[encoded data removed]"
          },
          "metadata": {}
        }
      ],
      "source": [
        "import matplotlib.pyplot as plt\n",
        "\n",
        "plt.figure(figsize=(7,7))\n",
        "plt.scatter(y_train, x_train_pred_lr ,label='Train Data',color='red' )\n",
        "plt.scatter(y_test, y_pred1)\n",
        "\n",
        "\n",
        "#plt.scatter()\n",
        "plt.xlabel('Actual Cost of the project')\n",
        "plt.ylabel('Predicted Cost of the project')\n",
        "plt.title('Cost Actual vs Predicted Linear Regresssion')\n",
        "\n",
        "\n"
      ]
    },
    {
      "cell_type": "code",
      "execution_count": 140,
      "metadata": {
        "id": "fJOcL_cRxXHO"
      },
      "outputs": [],
      "source": [
        "arr =pd.DataFrame({'Actual  Cost':y_test })\n",
        "arr1 =pd.DataFrame({'Predicted Cost':y_pred1})"
      ]
    },
    {
      "cell_type": "markdown",
      "metadata": {
        "id": "0lPoJ6XOcpfF"
      },
      "source": [
        "# Now calculating Diffrence between actual and predicted Values"
      ]
    },
    {
      "cell_type": "code",
      "execution_count": 141,
      "metadata": {
        "colab": {
          "base_uri": "https://localhost:8080/",
          "height": 206
        },
        "id": "pamvLYhRcEtl",
        "outputId": "d1fa59a0-85be-4a01-bc45-9e7587c50cff"
      },
      "outputs": [
        {
          "output_type": "execute_result",
          "data": {
            "text/plain": [
              "    Actual Values of Cost  Predicted Cost     Difference\n",
              "8                  500000    19105.929882  -19105.929882\n",
              "13                 400000    24019.479573   75980.520427\n",
              "20                 550000    78543.599886 -128543.599886\n",
              "1                 1600000    52066.935862 -152066.935862\n",
              "11                 650000    47413.028011  102586.971989"
            ],
            "text/html": [
              "\n",
              "  <div id=\"df-d3ab07f3-51ba-4984-8eee-e30f34cb9f71\">\n",
              "    <div class=\"colab-df-container\">\n",
              "      <div>\n",
              "<style scoped>\n",
              "    .dataframe tbody tr th:only-of-type {\n",
              "        vertical-align: middle;\n",
              "    }\n",
              "\n",
              "    .dataframe tbody tr th {\n",
              "        vertical-align: top;\n",
              "    }\n",
              "\n",
              "    .dataframe thead th {\n",
              "        text-align: right;\n",
              "    }\n",
              "</style>\n",
              "<table border=\"1\" class=\"dataframe\">\n",
              "  <thead>\n",
              "    <tr style=\"text-align: right;\">\n",
              "      <th></th>\n",
              "      <th>Actual Values of Cost</th>\n",
              "      <th>Predicted Cost</th>\n",
              "      <th>Difference</th>\n",
              "    </tr>\n",
              "  </thead>\n",
              "  <tbody>\n",
              "    <tr>\n",
              "      <th>8</th>\n",
              "      <td>500000</td>\n",
              "      <td>19105.929882</td>\n",
              "      <td>-19105.929882</td>\n",
              "    </tr>\n",
              "    <tr>\n",
              "      <th>13</th>\n",
              "      <td>400000</td>\n",
              "      <td>24019.479573</td>\n",
              "      <td>75980.520427</td>\n",
              "    </tr>\n",
              "    <tr>\n",
              "      <th>20</th>\n",
              "      <td>550000</td>\n",
              "      <td>78543.599886</td>\n",
              "      <td>-128543.599886</td>\n",
              "    </tr>\n",
              "    <tr>\n",
              "      <th>1</th>\n",
              "      <td>1600000</td>\n",
              "      <td>52066.935862</td>\n",
              "      <td>-152066.935862</td>\n",
              "    </tr>\n",
              "    <tr>\n",
              "      <th>11</th>\n",
              "      <td>650000</td>\n",
              "      <td>47413.028011</td>\n",
              "      <td>102586.971989</td>\n",
              "    </tr>\n",
              "  </tbody>\n",
              "</table>\n",
              "</div>\n",
              "      <button class=\"colab-df-convert\" onclick=\"convertToInteractive('df-d3ab07f3-51ba-4984-8eee-e30f34cb9f71')\"\n",
              "              title=\"Convert this dataframe to an interactive table.\"\n",
              "              style=\"display:none;\">\n",
              "        \n",
              "  <svg xmlns=\"http://www.w3.org/2000/svg\" height=\"24px\"viewBox=\"0 0 24 24\"\n",
              "       width=\"24px\">\n",
              "    <path d=\"M0 0h24v24H0V0z\" fill=\"none\"/>\n",
              "    <path d=\"M18.56 5.44l.94 2.06.94-2.06 2.06-.94-2.06-.94-.94-2.06-.94 2.06-2.06.94zm-11 1L8.5 8.5l.94-2.06 2.06-.94-2.06-.94L8.5 2.5l-.94 2.06-2.06.94zm10 10l.94 2.06.94-2.06 2.06-.94-2.06-.94-.94-2.06-.94 2.06-2.06.94z\"/><path d=\"M17.41 7.96l-1.37-1.37c-.4-.4-.92-.59-1.43-.59-.52 0-1.04.2-1.43.59L10.3 9.45l-7.72 7.72c-.78.78-.78 2.05 0 2.83L4 21.41c.39.39.9.59 1.41.59.51 0 1.02-.2 1.41-.59l7.78-7.78 2.81-2.81c.8-.78.8-2.07 0-2.86zM5.41 20L4 18.59l7.72-7.72 1.47 1.35L5.41 20z\"/>\n",
              "  </svg>\n",
              "      </button>\n",
              "      \n",
              "  <style>\n",
              "    .colab-df-container {\n",
              "      display:flex;\n",
              "      flex-wrap:wrap;\n",
              "      gap: 12px;\n",
              "    }\n",
              "\n",
              "    .colab-df-convert {\n",
              "      background-color: #E8F0FE;\n",
              "      border: none;\n",
              "      border-radius: 50%;\n",
              "      cursor: pointer;\n",
              "      display: none;\n",
              "      fill: #1967D2;\n",
              "      height: 32px;\n",
              "      padding: 0 0 0 0;\n",
              "      width: 32px;\n",
              "    }\n",
              "\n",
              "    .colab-df-convert:hover {\n",
              "      background-color: #E2EBFA;\n",
              "      box-shadow: 0px 1px 2px rgba(60, 64, 67, 0.3), 0px 1px 3px 1px rgba(60, 64, 67, 0.15);\n",
              "      fill: #174EA6;\n",
              "    }\n",
              "\n",
              "    [theme=dark] .colab-df-convert {\n",
              "      background-color: #3B4455;\n",
              "      fill: #D2E3FC;\n",
              "    }\n",
              "\n",
              "    [theme=dark] .colab-df-convert:hover {\n",
              "      background-color: #434B5C;\n",
              "      box-shadow: 0px 1px 3px 1px rgba(0, 0, 0, 0.15);\n",
              "      filter: drop-shadow(0px 1px 2px rgba(0, 0, 0, 0.3));\n",
              "      fill: #FFFFFF;\n",
              "    }\n",
              "  </style>\n",
              "\n",
              "      <script>\n",
              "        const buttonEl =\n",
              "          document.querySelector('#df-d3ab07f3-51ba-4984-8eee-e30f34cb9f71 button.colab-df-convert');\n",
              "        buttonEl.style.display =\n",
              "          google.colab.kernel.accessAllowed ? 'block' : 'none';\n",
              "\n",
              "        async function convertToInteractive(key) {\n",
              "          const element = document.querySelector('#df-d3ab07f3-51ba-4984-8eee-e30f34cb9f71');\n",
              "          const dataTable =\n",
              "            await google.colab.kernel.invokeFunction('convertToInteractive',\n",
              "                                                     [key], {});\n",
              "          if (!dataTable) return;\n",
              "\n",
              "          const docLinkHtml = 'Like what you see? Visit the ' +\n",
              "            '<a target=\"_blank\" href=https://colab.research.google.com/notebooks/data_table.ipynb>data table notebook</a>'\n",
              "            + ' to learn more about interactive tables.';\n",
              "          element.innerHTML = '';\n",
              "          dataTable['output_type'] = 'display_data';\n",
              "          await google.colab.output.renderOutput(dataTable, element);\n",
              "          const docLink = document.createElement('div');\n",
              "          docLink.innerHTML = docLinkHtml;\n",
              "          element.appendChild(docLink);\n",
              "        }\n",
              "      </script>\n",
              "    </div>\n",
              "  </div>\n",
              "  "
            ]
          },
          "metadata": {},
          "execution_count": 141
        }
      ],
      "source": [
        "import pandas as pd\n",
        "pred_y_diff = pd.DataFrame({'Actual Values of Cost':y_test,'Predicted Cost':y_pred1%10**5,'Difference':y_test-y_pred1})\n",
        "\n",
        "\n",
        "\n",
        "pred_y_diff[0:21]\n"
      ]
    },
    {
      "cell_type": "code",
      "execution_count": 142,
      "metadata": {
        "id": "PDj-qc-6rBfy"
      },
      "outputs": [],
      "source": [
        "#arr = pred_y_diff.to_numpy()\n",
        "arr =pd.DataFrame({'Actual  Cost':y_test })\n",
        "arr1 =pd.DataFrame({'Predicted Cost':y_pred1})\n",
        "arr2 =pd.DataFrame({'Difference':y_test-y_pred1})"
      ]
    },
    {
      "cell_type": "code",
      "execution_count": 143,
      "metadata": {
        "colab": {
          "base_uri": "https://localhost:8080/"
        },
        "id": "xI2UkK8zrnkI",
        "outputId": "5df1efed-30e5-43fd-e925-8bbd7eac8a47"
      },
      "outputs": [
        {
          "output_type": "stream",
          "name": "stdout",
          "text": [
            "    Actual  Cost\n",
            "8         500000\n",
            "13        400000\n",
            "20        550000\n",
            "1        1600000\n",
            "11        650000\n"
          ]
        }
      ],
      "source": [
        "\n",
        "print(arr)"
      ]
    },
    {
      "cell_type": "code",
      "execution_count": 144,
      "metadata": {
        "colab": {
          "base_uri": "https://localhost:8080/"
        },
        "id": "qA91sNePwbCs",
        "outputId": "d3c2d6d8-081a-4073-acfe-fb9befe9f1a7"
      },
      "outputs": [
        {
          "output_type": "stream",
          "name": "stdout",
          "text": [
            "[ 519105.92988206  324019.47957263  678543.59988628 1752066.93586203\n",
            "  547413.02801067]\n"
          ]
        }
      ],
      "source": [
        "print(y_pred1)\n"
      ]
    },
    {
      "cell_type": "code",
      "execution_count": 145,
      "metadata": {
        "colab": {
          "base_uri": "https://localhost:8080/"
        },
        "id": "c3EDOg25w9Gk",
        "outputId": "d5d1d8c9-5754-4379-cce8-d010d2239ff7"
      },
      "outputs": [
        {
          "output_type": "stream",
          "name": "stdout",
          "text": [
            "The r Score on the predictrd trained Set: 0.94\n",
            "MMRE 0.028589869706239522\n",
            "MdMRE 0.03156522215056319\n",
            "PRED 25% 100.0\n",
            "PRED MMRE 40.0\n",
            "Model Accuracy 85.70506514688024\n"
          ]
        }
      ],
      "source": [
        "# The r_sq\n",
        "print('The r Score on the predictrd trained Set: %.2f'% r2_score(y_test,y_pred1))\n",
        "\n",
        "diff=np.absolute(y_test-y_pred1)\n",
        "MRE=np.absolute(diff)/y_test\n",
        "MMRE=np.mean(MRE)\n",
        "\n",
        "\n",
        "Accuracy=(1-MRE)*100\n",
        "Accuracy=(Accuracy.mean())\n",
        "MRE=(diff/y_test)/MRE.size\n",
        "\n",
        "MMRE=np.mean(MRE)\n",
        "MdMRE=np.median(MRE)\n",
        "P=MRE[MRE<.25]\n",
        "P2=MRE[MRE<MMRE]\n",
        "\n",
        "Pred=(P.size/MRE.size) * 100\n",
        "Pred2=(P2.size/MRE.size) * 100\n",
        "print(\"MMRE\",MMRE)\n",
        "print(\"MdMRE\",MdMRE)\n",
        "print(\"PRED 25%\",Pred)\n",
        "print(\"PRED MMRE\",Pred2)\n",
        "print(\"Model Accuracy\",Accuracy)\n",
        "\n",
        "\n",
        "#linear"
      ]
    },
    {
      "cell_type": "code",
      "execution_count": 146,
      "metadata": {
        "colab": {
          "base_uri": "https://localhost:8080/"
        },
        "id": "4ztrf4Fttk_G",
        "outputId": "87273c41-e4bf-48f1-939f-0de329f4ca87"
      },
      "outputs": [
        {
          "output_type": "stream",
          "name": "stdout",
          "text": [
            "5\n",
            "Mean Absolute error::: 195000.0\n",
            "The r Score on the predictrd trained Set: 0.68\n"
          ]
        }
      ],
      "source": [
        "# @title KNeiboursRegressor \n",
        "from sklearn.neighbors import KNeighborsRegressor\n",
        "from sklearn.model_selection import train_test_split\n",
        "\n",
        "#print('x_train length :',len(x_train))\n",
        "x_train,x_test,y_train,y_test = train_test_split(Cat_1,Cat_2, test_size=0.20, random_state=0)\n",
        "#print(len(y_pred1))\n",
        "#print('x_train length:',len(x_train))\n",
        "#print('x_test length:',len(x_test))\n",
        "\n",
        "neigh = KNeighborsRegressor(n_neighbors=2, weights='uniform')\n",
        "neigh.fit(x_train,y_train)\n",
        "y_pred=neigh.predict(x_test) \n",
        "\n",
        "#print(classification_report(y_test,y_pred))\n",
        "\n",
        "#predict =neigh.predict(y_pred)\n",
        "#print(neigh.score(y_test, y_pred))\n",
        "\n",
        "import numpy as np\n",
        "from sklearn.metrics import mean_absolute_error\n",
        "#\n",
        "\n",
        "print(len(y_pred))\n",
        "print(\"Mean Absolute error:::\",mean_absolute_error(y_test,y_pred))\n",
        "#print(\"Mean Absolute error:::\",np.sqrt(mean_absolute_error(y_test,y_pred)))\n",
        "\n",
        "\n",
        "# The r_sq\n",
        "print('The r Score on the predictrd trained Set: %.2f'% r2_score(y_test,y_pred))\n",
        "\n",
        "\n",
        "\n",
        "#knn"
      ]
    },
    {
      "cell_type": "code",
      "execution_count": 147,
      "metadata": {
        "colab": {
          "base_uri": "https://localhost:8080/",
          "height": 501
        },
        "id": "Nz8O0an64kM1",
        "outputId": "5c64f661-c506-46f0-b15b-426be1aedfaf"
      },
      "outputs": [
        {
          "output_type": "execute_result",
          "data": {
            "text/plain": [
              "<function matplotlib.pyplot.show(close=None, block=None)>"
            ]
          },
          "metadata": {},
          "execution_count": 147
        },
        {
          "output_type": "display_data",
          "data": {
            "text/plain": [
              "<Figure size 1000x600 with 1 Axes>"
            ],
            "image/png": "[encoded data removed]"
          },
          "metadata": {}
        }
      ],
      "source": [
        " #plotting the observed and predicted values \n",
        "\n",
        "\n",
        "# Setting the boundaries and parameters\n",
        "\n",
        "plt.rcParams['figure.figsize'] = (10,6)\n",
        "x_ax =range(len(x_test))\n",
        "#x_ax2 =range(len(y_test))\n",
        "#plotting \n",
        "plt.plot(x_ax, y_test , label='Actual Observed Value', color='yellow',linestyle='-')\n",
        "plt.plot(x_ax,y_pred , label='Predicted values ' , color='red' , linestyle ='--')\n",
        "plt.grid()\n",
        "plt.xlabel('Agile Projects')\n",
        "plt.ylabel('Cost of the project')\n",
        "plt.title('Cost Prediction with KNeighbors Regressor')\n",
        "plt.legend(bbox_to_anchor =(0.5,-0.2), loc= 'upper center',ncol=2, frameon = True)\n",
        "\n",
        "plt.show"
      ]
    },
    {
      "cell_type": "code",
      "execution_count": 148,
      "metadata": {
        "colab": {
          "base_uri": "https://localhost:8080/"
        },
        "id": "rX7F4TJY30z1",
        "outputId": "59823da9-b3a9-43c2-9138-9e5befb6335d"
      },
      "outputs": [
        {
          "output_type": "stream",
          "name": "stdout",
          "text": [
            "MMRE 0.05924650349650349\n",
            "MdMRE 0.0375\n",
            "PRED 25% 100.0\n"
          ]
        }
      ],
      "source": [
        "#\n",
        "diff=np.absolute(y_test-y_pred)\n",
        "MRE=diff/y_test\n",
        "MRE=(diff/y_test)/MRE.size\n",
        "MMRE=np.mean(MRE)\n",
        "MdMRE=np.median(MRE)\n",
        "P=MRE[MRE<.25]\n",
        "Pred=(P.size/MRE.size) * 100\n",
        "print(\"MMRE\",MMRE)\n",
        "print(\"MdMRE\",MdMRE)\n",
        "print(\"PRED 25%\",Pred)"
      ]
    },
    {
      "cell_type": "code",
      "execution_count": 149,
      "metadata": {
        "colab": {
          "base_uri": "https://localhost:8080/",
          "height": 206
        },
        "id": "6BAGrKGU8kjD",
        "outputId": "4b69b0b4-b4cc-4eb1-aac9-d806e50c926d"
      },
      "outputs": [
        {
          "output_type": "execute_result",
          "data": {
            "text/plain": [
              "    Actual Values of Cost  Predicted Cost  Difference\n",
              "8                  500000        475000.0     25000.0\n",
              "13                 400000        475000.0    -75000.0\n",
              "20                 550000       1000000.0   -450000.0\n",
              "1                 1600000       1350000.0    250000.0\n",
              "11                 650000        475000.0    175000.0"
            ],
            "text/html": [
              "\n",
              "  <div id=\"df-4882779c-54d5-4f71-8e12-7b447180a61a\">\n",
              "    <div class=\"colab-df-container\">\n",
              "      <div>\n",
              "<style scoped>\n",
              "    .dataframe tbody tr th:only-of-type {\n",
              "        vertical-align: middle;\n",
              "    }\n",
              "\n",
              "    .dataframe tbody tr th {\n",
              "        vertical-align: top;\n",
              "    }\n",
              "\n",
              "    .dataframe thead th {\n",
              "        text-align: right;\n",
              "    }\n",
              "</style>\n",
              "<table border=\"1\" class=\"dataframe\">\n",
              "  <thead>\n",
              "    <tr style=\"text-align: right;\">\n",
              "      <th></th>\n",
              "      <th>Actual Values of Cost</th>\n",
              "      <th>Predicted Cost</th>\n",
              "      <th>Difference</th>\n",
              "    </tr>\n",
              "  </thead>\n",
              "  <tbody>\n",
              "    <tr>\n",
              "      <th>8</th>\n",
              "      <td>500000</td>\n",
              "      <td>475000.0</td>\n",
              "      <td>25000.0</td>\n",
              "    </tr>\n",
              "    <tr>\n",
              "      <th>13</th>\n",
              "      <td>400000</td>\n",
              "      <td>475000.0</td>\n",
              "      <td>-75000.0</td>\n",
              "    </tr>\n",
              "    <tr>\n",
              "      <th>20</th>\n",
              "      <td>550000</td>\n",
              "      <td>1000000.0</td>\n",
              "      <td>-450000.0</td>\n",
              "    </tr>\n",
              "    <tr>\n",
              "      <th>1</th>\n",
              "      <td>1600000</td>\n",
              "      <td>1350000.0</td>\n",
              "      <td>250000.0</td>\n",
              "    </tr>\n",
              "    <tr>\n",
              "      <th>11</th>\n",
              "      <td>650000</td>\n",
              "      <td>475000.0</td>\n",
              "      <td>175000.0</td>\n",
              "    </tr>\n",
              "  </tbody>\n",
              "</table>\n",
              "</div>\n",
              "      <button class=\"colab-df-convert\" onclick=\"convertToInteractive('df-4882779c-54d5-4f71-8e12-7b447180a61a')\"\n",
              "              title=\"Convert this dataframe to an interactive table.\"\n",
              "              style=\"display:none;\">\n",
              "        \n",
              "  <svg xmlns=\"http://www.w3.org/2000/svg\" height=\"24px\"viewBox=\"0 0 24 24\"\n",
              "       width=\"24px\">\n",
              "    <path d=\"M0 0h24v24H0V0z\" fill=\"none\"/>\n",
              "    <path d=\"M18.56 5.44l.94 2.06.94-2.06 2.06-.94-2.06-.94-.94-2.06-.94 2.06-2.06.94zm-11 1L8.5 8.5l.94-2.06 2.06-.94-2.06-.94L8.5 2.5l-.94 2.06-2.06.94zm10 10l.94 2.06.94-2.06 2.06-.94-2.06-.94-.94-2.06-.94 2.06-2.06.94z\"/><path d=\"M17.41 7.96l-1.37-1.37c-.4-.4-.92-.59-1.43-.59-.52 0-1.04.2-1.43.59L10.3 9.45l-7.72 7.72c-.78.78-.78 2.05 0 2.83L4 21.41c.39.39.9.59 1.41.59.51 0 1.02-.2 1.41-.59l7.78-7.78 2.81-2.81c.8-.78.8-2.07 0-2.86zM5.41 20L4 18.59l7.72-7.72 1.47 1.35L5.41 20z\"/>\n",
              "  </svg>\n",
              "      </button>\n",
              "      \n",
              "  <style>\n",
              "    .colab-df-container {\n",
              "      display:flex;\n",
              "      flex-wrap:wrap;\n",
              "      gap: 12px;\n",
              "    }\n",
              "\n",
              "    .colab-df-convert {\n",
              "      background-color: #E8F0FE;\n",
              "      border: none;\n",
              "      border-radius: 50%;\n",
              "      cursor: pointer;\n",
              "      display: none;\n",
              "      fill: #1967D2;\n",
              "      height: 32px;\n",
              "      padding: 0 0 0 0;\n",
              "      width: 32px;\n",
              "    }\n",
              "\n",
              "    .colab-df-convert:hover {\n",
              "      background-color: #E2EBFA;\n",
              "      box-shadow: 0px 1px 2px rgba(60, 64, 67, 0.3), 0px 1px 3px 1px rgba(60, 64, 67, 0.15);\n",
              "      fill: #174EA6;\n",
              "    }\n",
              "\n",
              "    [theme=dark] .colab-df-convert {\n",
              "      background-color: #3B4455;\n",
              "      fill: #D2E3FC;\n",
              "    }\n",
              "\n",
              "    [theme=dark] .colab-df-convert:hover {\n",
              "      background-color: #434B5C;\n",
              "      box-shadow: 0px 1px 3px 1px rgba(0, 0, 0, 0.15);\n",
              "      filter: drop-shadow(0px 1px 2px rgba(0, 0, 0, 0.3));\n",
              "      fill: #FFFFFF;\n",
              "    }\n",
              "  </style>\n",
              "\n",
              "      <script>\n",
              "        const buttonEl =\n",
              "          document.querySelector('#df-4882779c-54d5-4f71-8e12-7b447180a61a button.colab-df-convert');\n",
              "        buttonEl.style.display =\n",
              "          google.colab.kernel.accessAllowed ? 'block' : 'none';\n",
              "\n",
              "        async function convertToInteractive(key) {\n",
              "          const element = document.querySelector('#df-4882779c-54d5-4f71-8e12-7b447180a61a');\n",
              "          const dataTable =\n",
              "            await google.colab.kernel.invokeFunction('convertToInteractive',\n",
              "                                                     [key], {});\n",
              "          if (!dataTable) return;\n",
              "\n",
              "          const docLinkHtml = 'Like what you see? Visit the ' +\n",
              "            '<a target=\"_blank\" href=https://colab.research.google.com/notebooks/data_table.ipynb>data table notebook</a>'\n",
              "            + ' to learn more about interactive tables.';\n",
              "          element.innerHTML = '';\n",
              "          dataTable['output_type'] = 'display_data';\n",
              "          await google.colab.output.renderOutput(dataTable, element);\n",
              "          const docLink = document.createElement('div');\n",
              "          docLink.innerHTML = docLinkHtml;\n",
              "          element.appendChild(docLink);\n",
              "        }\n",
              "      </script>\n",
              "    </div>\n",
              "  </div>\n",
              "  "
            ]
          },
          "metadata": {},
          "execution_count": 149
        }
      ],
      "source": [
        "import pandas as pd\n",
        "\n",
        "pred_y_diff = pd.DataFrame({'Actual Values of Cost':y_test,'Predicted Cost':y_pred,'Difference':y_test-y_pred})\n",
        "xyy=pred_y_diff.Difference.abs()\n",
        "pred_y_diff[0:21]"
      ]
    },
    {
      "cell_type": "code",
      "execution_count": 150,
      "metadata": {
        "colab": {
          "base_uri": "https://localhost:8080/",
          "height": 206
        },
        "id": "oaXo4IIiYi-a",
        "outputId": "6f931df7-c1f6-40c2-a90d-16dc12e0bf51"
      },
      "outputs": [
        {
          "output_type": "execute_result",
          "data": {
            "text/plain": [
              "    Actual Values of Cost  Predicted Cost       MRE\n",
              "8                  500000        475000.0  0.050000\n",
              "13                 400000        475000.0 -0.187500\n",
              "20                 550000       1000000.0 -0.818182\n",
              "1                 1600000       1350000.0  0.156250\n",
              "11                 650000        475000.0  0.269231"
            ],
            "text/html": [
              "\n",
              "  <div id=\"df-acdf0285-d016-41ce-9ea4-2b660a0d2529\">\n",
              "    <div class=\"colab-df-container\">\n",
              "      <div>\n",
              "<style scoped>\n",
              "    .dataframe tbody tr th:only-of-type {\n",
              "        vertical-align: middle;\n",
              "    }\n",
              "\n",
              "    .dataframe tbody tr th {\n",
              "        vertical-align: top;\n",
              "    }\n",
              "\n",
              "    .dataframe thead th {\n",
              "        text-align: right;\n",
              "    }\n",
              "</style>\n",
              "<table border=\"1\" class=\"dataframe\">\n",
              "  <thead>\n",
              "    <tr style=\"text-align: right;\">\n",
              "      <th></th>\n",
              "      <th>Actual Values of Cost</th>\n",
              "      <th>Predicted Cost</th>\n",
              "      <th>MRE</th>\n",
              "    </tr>\n",
              "  </thead>\n",
              "  <tbody>\n",
              "    <tr>\n",
              "      <th>8</th>\n",
              "      <td>500000</td>\n",
              "      <td>475000.0</td>\n",
              "      <td>0.050000</td>\n",
              "    </tr>\n",
              "    <tr>\n",
              "      <th>13</th>\n",
              "      <td>400000</td>\n",
              "      <td>475000.0</td>\n",
              "      <td>-0.187500</td>\n",
              "    </tr>\n",
              "    <tr>\n",
              "      <th>20</th>\n",
              "      <td>550000</td>\n",
              "      <td>1000000.0</td>\n",
              "      <td>-0.818182</td>\n",
              "    </tr>\n",
              "    <tr>\n",
              "      <th>1</th>\n",
              "      <td>1600000</td>\n",
              "      <td>1350000.0</td>\n",
              "      <td>0.156250</td>\n",
              "    </tr>\n",
              "    <tr>\n",
              "      <th>11</th>\n",
              "      <td>650000</td>\n",
              "      <td>475000.0</td>\n",
              "      <td>0.269231</td>\n",
              "    </tr>\n",
              "  </tbody>\n",
              "</table>\n",
              "</div>\n",
              "      <button class=\"colab-df-convert\" onclick=\"convertToInteractive('df-acdf0285-d016-41ce-9ea4-2b660a0d2529')\"\n",
              "              title=\"Convert this dataframe to an interactive table.\"\n",
              "              style=\"display:none;\">\n",
              "        \n",
              "  <svg xmlns=\"http://www.w3.org/2000/svg\" height=\"24px\"viewBox=\"0 0 24 24\"\n",
              "       width=\"24px\">\n",
              "    <path d=\"M0 0h24v24H0V0z\" fill=\"none\"/>\n",
              "    <path d=\"M18.56 5.44l.94 2.06.94-2.06 2.06-.94-2.06-.94-.94-2.06-.94 2.06-2.06.94zm-11 1L8.5 8.5l.94-2.06 2.06-.94-2.06-.94L8.5 2.5l-.94 2.06-2.06.94zm10 10l.94 2.06.94-2.06 2.06-.94-2.06-.94-.94-2.06-.94 2.06-2.06.94z\"/><path d=\"M17.41 7.96l-1.37-1.37c-.4-.4-.92-.59-1.43-.59-.52 0-1.04.2-1.43.59L10.3 9.45l-7.72 7.72c-.78.78-.78 2.05 0 2.83L4 21.41c.39.39.9.59 1.41.59.51 0 1.02-.2 1.41-.59l7.78-7.78 2.81-2.81c.8-.78.8-2.07 0-2.86zM5.41 20L4 18.59l7.72-7.72 1.47 1.35L5.41 20z\"/>\n",
              "  </svg>\n",
              "      </button>\n",
              "      \n",
              "  <style>\n",
              "    .colab-df-container {\n",
              "      display:flex;\n",
              "      flex-wrap:wrap;\n",
              "      gap: 12px;\n",
              "    }\n",
              "\n",
              "    .colab-df-convert {\n",
              "      background-color: #E8F0FE;\n",
              "      border: none;\n",
              "      border-radius: 50%;\n",
              "      cursor: pointer;\n",
              "      display: none;\n",
              "      fill: #1967D2;\n",
              "      height: 32px;\n",
              "      padding: 0 0 0 0;\n",
              "      width: 32px;\n",
              "    }\n",
              "\n",
              "    .colab-df-convert:hover {\n",
              "      background-color: #E2EBFA;\n",
              "      box-shadow: 0px 1px 2px rgba(60, 64, 67, 0.3), 0px 1px 3px 1px rgba(60, 64, 67, 0.15);\n",
              "      fill: #174EA6;\n",
              "    }\n",
              "\n",
              "    [theme=dark] .colab-df-convert {\n",
              "      background-color: #3B4455;\n",
              "      fill: #D2E3FC;\n",
              "    }\n",
              "\n",
              "    [theme=dark] .colab-df-convert:hover {\n",
              "      background-color: #434B5C;\n",
              "      box-shadow: 0px 1px 3px 1px rgba(0, 0, 0, 0.15);\n",
              "      filter: drop-shadow(0px 1px 2px rgba(0, 0, 0, 0.3));\n",
              "      fill: #FFFFFF;\n",
              "    }\n",
              "  </style>\n",
              "\n",
              "      <script>\n",
              "        const buttonEl =\n",
              "          document.querySelector('#df-acdf0285-d016-41ce-9ea4-2b660a0d2529 button.colab-df-convert');\n",
              "        buttonEl.style.display =\n",
              "          google.colab.kernel.accessAllowed ? 'block' : 'none';\n",
              "\n",
              "        async function convertToInteractive(key) {\n",
              "          const element = document.querySelector('#df-acdf0285-d016-41ce-9ea4-2b660a0d2529');\n",
              "          const dataTable =\n",
              "            await google.colab.kernel.invokeFunction('convertToInteractive',\n",
              "                                                     [key], {});\n",
              "          if (!dataTable) return;\n",
              "\n",
              "          const docLinkHtml = 'Like what you see? Visit the ' +\n",
              "            '<a target=\"_blank\" href=https://colab.research.google.com/notebooks/data_table.ipynb>data table notebook</a>'\n",
              "            + ' to learn more about interactive tables.';\n",
              "          element.innerHTML = '';\n",
              "          dataTable['output_type'] = 'display_data';\n",
              "          await google.colab.output.renderOutput(dataTable, element);\n",
              "          const docLink = document.createElement('div');\n",
              "          docLink.innerHTML = docLinkHtml;\n",
              "          element.appendChild(docLink);\n",
              "        }\n",
              "      </script>\n",
              "    </div>\n",
              "  </div>\n",
              "  "
            ]
          },
          "metadata": {},
          "execution_count": 150
        }
      ],
      "source": [
        "pred_mre = pd.DataFrame({'Actual Values of Cost':y_test,'Predicted Cost':y_pred,'MRE':(y_test-y_pred)/y_test})\n",
        "\n",
        "\n",
        "pred_mre[0:21]"
      ]
    },
    {
      "cell_type": "markdown",
      "metadata": {
        "id": "CCWxo5JClMQL"
      },
      "source": [
        "----------------------------"
      ]
    },
    {
      "cell_type": "markdown",
      "metadata": {
        "id": "86adLKC83Yxt"
      },
      "source": [
        "Decision Tree Implementation"
      ]
    },
    {
      "cell_type": "markdown",
      "metadata": {
        "id": "5oseIRB9gJrB"
      },
      "source": [
        "## Decision Tree Implementation "
      ]
    },
    {
      "cell_type": "code",
      "execution_count": 151,
      "metadata": {
        "colab": {
          "base_uri": "https://localhost:8080/",
          "height": 270
        },
        "id": "AQQvoYbjgICx",
        "outputId": "ed107262-b930-4545-b818-f918b2227509"
      },
      "outputs": [
        {
          "output_type": "execute_result",
          "data": {
            "text/plain": [
              "   Effort   Vi      D    V  Sprint_Size  Work_days  Team_Salary  Act_Time  \\\n",
              "0     156  4.2  0.687  2.7           10         22       230000        63   \n",
              "1     202  3.7  0.701  2.5           10         21       260000        92   \n",
              "2     173  4.0  0.878  3.3           10         22       250000        56   \n",
              "3     331  4.5  0.886  3.8           10         22       300000        86   \n",
              "4     124  4.9  0.903  4.2           10         22       300000        32   \n",
              "\n",
              "   Actual_Cost  \n",
              "0      1200000  \n",
              "1      1600000  \n",
              "2      1000000  \n",
              "3      2100000  \n",
              "4       750000  "
            ],
            "text/html": [
              "\n",
              "  <div id=\"df-2f615550-2e78-494c-93db-e2200cb7f7a8\">\n",
              "    <div class=\"colab-df-container\">\n",
              "      <div>\n",
              "<style scoped>\n",
              "    .dataframe tbody tr th:only-of-type {\n",
              "        vertical-align: middle;\n",
              "    }\n",
              "\n",
              "    .dataframe tbody tr th {\n",
              "        vertical-align: top;\n",
              "    }\n",
              "\n",
              "    .dataframe thead th {\n",
              "        text-align: right;\n",
              "    }\n",
              "</style>\n",
              "<table border=\"1\" class=\"dataframe\">\n",
              "  <thead>\n",
              "    <tr style=\"text-align: right;\">\n",
              "      <th></th>\n",
              "      <th>Effort</th>\n",
              "      <th>Vi</th>\n",
              "      <th>D</th>\n",
              "      <th>V</th>\n",
              "      <th>Sprint_Size</th>\n",
              "      <th>Work_days</th>\n",
              "      <th>Team_Salary</th>\n",
              "      <th>Act_Time</th>\n",
              "      <th>Actual_Cost</th>\n",
              "    </tr>\n",
              "  </thead>\n",
              "  <tbody>\n",
              "    <tr>\n",
              "      <th>0</th>\n",
              "      <td>156</td>\n",
              "      <td>4.2</td>\n",
              "      <td>0.687</td>\n",
              "      <td>2.7</td>\n",
              "      <td>10</td>\n",
              "      <td>22</td>\n",
              "      <td>230000</td>\n",
              "      <td>63</td>\n",
              "      <td>1200000</td>\n",
              "    </tr>\n",
              "    <tr>\n",
              "      <th>1</th>\n",
              "      <td>202</td>\n",
              "      <td>3.7</td>\n",
              "      <td>0.701</td>\n",
              "      <td>2.5</td>\n",
              "      <td>10</td>\n",
              "      <td>21</td>\n",
              "      <td>260000</td>\n",
              "      <td>92</td>\n",
              "      <td>1600000</td>\n",
              "    </tr>\n",
              "    <tr>\n",
              "      <th>2</th>\n",
              "      <td>173</td>\n",
              "      <td>4.0</td>\n",
              "      <td>0.878</td>\n",
              "      <td>3.3</td>\n",
              "      <td>10</td>\n",
              "      <td>22</td>\n",
              "      <td>250000</td>\n",
              "      <td>56</td>\n",
              "      <td>1000000</td>\n",
              "    </tr>\n",
              "    <tr>\n",
              "      <th>3</th>\n",
              "      <td>331</td>\n",
              "      <td>4.5</td>\n",
              "      <td>0.886</td>\n",
              "      <td>3.8</td>\n",
              "      <td>10</td>\n",
              "      <td>22</td>\n",
              "      <td>300000</td>\n",
              "      <td>86</td>\n",
              "      <td>2100000</td>\n",
              "    </tr>\n",
              "    <tr>\n",
              "      <th>4</th>\n",
              "      <td>124</td>\n",
              "      <td>4.9</td>\n",
              "      <td>0.903</td>\n",
              "      <td>4.2</td>\n",
              "      <td>10</td>\n",
              "      <td>22</td>\n",
              "      <td>300000</td>\n",
              "      <td>32</td>\n",
              "      <td>750000</td>\n",
              "    </tr>\n",
              "  </tbody>\n",
              "</table>\n",
              "</div>\n",
              "      <button class=\"colab-df-convert\" onclick=\"convertToInteractive('df-2f615550-2e78-494c-93db-e2200cb7f7a8')\"\n",
              "              title=\"Convert this dataframe to an interactive table.\"\n",
              "              style=\"display:none;\">\n",
              "        \n",
              "  <svg xmlns=\"http://www.w3.org/2000/svg\" height=\"24px\"viewBox=\"0 0 24 24\"\n",
              "       width=\"24px\">\n",
              "    <path d=\"M0 0h24v24H0V0z\" fill=\"none\"/>\n",
              "    <path d=\"M18.56 5.44l.94 2.06.94-2.06 2.06-.94-2.06-.94-.94-2.06-.94 2.06-2.06.94zm-11 1L8.5 8.5l.94-2.06 2.06-.94-2.06-.94L8.5 2.5l-.94 2.06-2.06.94zm10 10l.94 2.06.94-2.06 2.06-.94-2.06-.94-.94-2.06-.94 2.06-2.06.94z\"/><path d=\"M17.41 7.96l-1.37-1.37c-.4-.4-.92-.59-1.43-.59-.52 0-1.04.2-1.43.59L10.3 9.45l-7.72 7.72c-.78.78-.78 2.05 0 2.83L4 21.41c.39.39.9.59 1.41.59.51 0 1.02-.2 1.41-.59l7.78-7.78 2.81-2.81c.8-.78.8-2.07 0-2.86zM5.41 20L4 18.59l7.72-7.72 1.47 1.35L5.41 20z\"/>\n",
              "  </svg>\n",
              "      </button>\n",
              "      \n",
              "  <style>\n",
              "    .colab-df-container {\n",
              "      display:flex;\n",
              "      flex-wrap:wrap;\n",
              "      gap: 12px;\n",
              "    }\n",
              "\n",
              "    .colab-df-convert {\n",
              "      background-color: #E8F0FE;\n",
              "      border: none;\n",
              "      border-radius: 50%;\n",
              "      cursor: pointer;\n",
              "      display: none;\n",
              "      fill: #1967D2;\n",
              "      height: 32px;\n",
              "      padding: 0 0 0 0;\n",
              "      width: 32px;\n",
              "    }\n",
              "\n",
              "    .colab-df-convert:hover {\n",
              "      background-color: #E2EBFA;\n",
              "      box-shadow: 0px 1px 2px rgba(60, 64, 67, 0.3), 0px 1px 3px 1px rgba(60, 64, 67, 0.15);\n",
              "      fill: #174EA6;\n",
              "    }\n",
              "\n",
              "    [theme=dark] .colab-df-convert {\n",
              "      background-color: #3B4455;\n",
              "      fill: #D2E3FC;\n",
              "    }\n",
              "\n",
              "    [theme=dark] .colab-df-convert:hover {\n",
              "      background-color: #434B5C;\n",
              "      box-shadow: 0px 1px 3px 1px rgba(0, 0, 0, 0.15);\n",
              "      filter: drop-shadow(0px 1px 2px rgba(0, 0, 0, 0.3));\n",
              "      fill: #FFFFFF;\n",
              "    }\n",
              "  </style>\n",
              "\n",
              "      <script>\n",
              "        const buttonEl =\n",
              "          document.querySelector('#df-2f615550-2e78-494c-93db-e2200cb7f7a8 button.colab-df-convert');\n",
              "        buttonEl.style.display =\n",
              "          google.colab.kernel.accessAllowed ? 'block' : 'none';\n",
              "\n",
              "        async function convertToInteractive(key) {\n",
              "          const element = document.querySelector('#df-2f615550-2e78-494c-93db-e2200cb7f7a8');\n",
              "          const dataTable =\n",
              "            await google.colab.kernel.invokeFunction('convertToInteractive',\n",
              "                                                     [key], {});\n",
              "          if (!dataTable) return;\n",
              "\n",
              "          const docLinkHtml = 'Like what you see? Visit the ' +\n",
              "            '<a target=\"_blank\" href=https://colab.research.google.com/notebooks/data_table.ipynb>data table notebook</a>'\n",
              "            + ' to learn more about interactive tables.';\n",
              "          element.innerHTML = '';\n",
              "          dataTable['output_type'] = 'display_data';\n",
              "          await google.colab.output.renderOutput(dataTable, element);\n",
              "          const docLink = document.createElement('div');\n",
              "          docLink.innerHTML = docLinkHtml;\n",
              "          element.appendChild(docLink);\n",
              "        }\n",
              "      </script>\n",
              "    </div>\n",
              "  </div>\n",
              "  "
            ]
          },
          "metadata": {},
          "execution_count": 151
        }
      ],
      "source": [
        "data_read.head()"
      ]
    },
    {
      "cell_type": "code",
      "execution_count": 152,
      "metadata": {
        "colab": {
          "base_uri": "https://localhost:8080/"
        },
        "id": "4v0RFhlXlQT5",
        "outputId": "07b5baf0-1ee6-419e-9490-2991cef11971"
      },
      "outputs": [
        {
          "output_type": "execute_result",
          "data": {
            "text/plain": [
              "(21, 8)"
            ]
          },
          "metadata": {},
          "execution_count": 152
        }
      ],
      "source": [
        "#Now to Prepare the Input and Output Features\n",
        "X= data_read.drop(['Effort'],axis=1)\n",
        "X.shape"
      ]
    },
    {
      "cell_type": "code",
      "execution_count": 153,
      "metadata": {
        "id": "AzRe_yB8mbev"
      },
      "outputs": [],
      "source": [
        "#Splitting the dataset into Trainingfset and test set\n",
        "\n",
        "#Splitting the dataset\n",
        "X_train,X_test,y_train,y_test = train_test_split(Cat_1,Cat_2, test_size=0.20 ,random_state=0)\n"
      ]
    },
    {
      "cell_type": "code",
      "execution_count": 154,
      "metadata": {
        "id": "bDmoXMWDnT1i"
      },
      "outputs": [],
      "source": [
        "from sklearn.tree import DecisionTreeRegressor\n",
        "from sklearn.model_selection import train_test_split\n",
        "import pandas as pd\n",
        "#Creating and Fitting the model\n",
        "regressor1 = DecisionTreeRegressor().fit(X_train,y_train)"
      ]
    },
    {
      "cell_type": "code",
      "execution_count": 155,
      "metadata": {
        "colab": {
          "base_uri": "https://localhost:8080/"
        },
        "id": "6Zq7ZjMentIn",
        "outputId": "e9076c8e-74af-4625-8611-fab1e84b7218"
      },
      "outputs": [
        {
          "output_type": "stream",
          "name": "stdout",
          "text": [
            "Training R_sq is : 1.00\n"
          ]
        }
      ],
      "source": [
        "#The Coeffitient of Detern=mination \n",
        "print('Training R_sq is : %.2f'% regressor1.score(X_train,y_train))"
      ]
    },
    {
      "cell_type": "code",
      "execution_count": 155,
      "metadata": {
        "id": "wE5QYOZRntm8"
      },
      "outputs": [],
      "source": []
    },
    {
      "cell_type": "code",
      "execution_count": 156,
      "metadata": {
        "id": "YzkecUyJo3B5"
      },
      "outputs": [],
      "source": [
        "# For the training model EVALUATION\n",
        "from  sklearn.metrics import mean_absolute_error , mean_squared_error, explained_variance_score , r2_score"
      ]
    },
    {
      "cell_type": "code",
      "execution_count": 157,
      "metadata": {
        "id": "oSTfOuIjoDoP"
      },
      "outputs": [],
      "source": [
        "#prediction on the training Dataset\n",
        "y_train_pred = regressor1.predict(X_train)\n",
        "y_test_pred_dt = regressor1.predict(X_test)\n",
        "\n"
      ]
    },
    {
      "cell_type": "code",
      "execution_count": 158,
      "metadata": {
        "colab": {
          "base_uri": "https://localhost:8080/"
        },
        "id": "THzjL519r1BL",
        "outputId": "21ee2f4a-1a8e-43ee-a2a9-c229242c5d73"
      },
      "outputs": [
        {
          "output_type": "stream",
          "name": "stdout",
          "text": [
            "The r_sq  is: 1.00\n"
          ]
        }
      ],
      "source": [
        "\n",
        "# The r_sq\n",
        "print('The r_sq  is: %.2f'% r2_score(y_train,y_train_pred))"
      ]
    },
    {
      "cell_type": "code",
      "execution_count": 159,
      "metadata": {
        "id": "YGpfe7bOrWs2"
      },
      "outputs": [],
      "source": [
        "# For the training model EVALUATION\n",
        "from  sklearn.metrics import mean_absolute_error , mean_squared_error, explained_variance_score , r2_score"
      ]
    },
    {
      "cell_type": "code",
      "execution_count": 160,
      "metadata": {
        "colab": {
          "base_uri": "https://localhost:8080/"
        },
        "id": "bJZV9cB2rkWA",
        "outputId": "13543de0-aaf5-4bb7-f113-09a084c5a803"
      },
      "outputs": [
        {
          "output_type": "stream",
          "name": "stdout",
          "text": [
            "The r Score on the predictrd trained Set: 0.92\n",
            "MMRE 0.030867132867132867\n",
            "MdMRE 0.025\n",
            "PRED 25% 100.0\n",
            "PRED MMRE 60.0\n",
            "Model Accuracy 85.70506514688024\n"
          ]
        }
      ],
      "source": [
        "# The r_sq\n",
        "print('The r Score on the predictrd trained Set: %.2f'% r2_score(y_test,y_test_pred_dt))\n",
        "\n",
        "diff=np.absolute(y_test-y_test_pred_dt)\n",
        "MRE=(diff/y_test)/MRE.size\n",
        "MMRE=np.mean(MRE)\n",
        "MdMRE=np.median(MRE)\n",
        "P=MRE[MRE<.25]\n",
        "P2=MRE[MRE<MMRE]\n",
        "\n",
        "Pred2=(P2.size/MRE.size) * 100\n",
        "Pred=(P.size/MRE.size) * 100\n",
        "print(\"MMRE\",MMRE)\n",
        "print(\"MdMRE\",MdMRE)\n",
        "print(\"PRED 25%\",Pred)\n",
        "print(\"PRED MMRE\",Pred2)\n",
        "print(\"Model Accuracy\",Accuracy)\n"
      ]
    },
    {
      "cell_type": "code",
      "execution_count": 161,
      "metadata": {
        "colab": {
          "base_uri": "https://localhost:8080/",
          "height": 501
        },
        "id": "f9r28Y3hQV2l",
        "outputId": "d381f8f2-be24-40c0-8753-bc101ab38f8c"
      },
      "outputs": [
        {
          "output_type": "execute_result",
          "data": {
            "text/plain": [
              "<function matplotlib.pyplot.show(close=None, block=None)>"
            ]
          },
          "metadata": {},
          "execution_count": 161
        },
        {
          "output_type": "display_data",
          "data": {
            "text/plain": [
              "<Figure size 1000x600 with 1 Axes>"
            ],
            "image/png": "[encoded data removed]"
          },
          "metadata": {}
        }
      ],
      "source": [
        "# plotting the observed and predicted values \n",
        "\n",
        "\n",
        "# Setting the boundaries and parameters\n",
        "\n",
        "plt.rcParams['figure.figsize'] = (10,6)\n",
        "x_ax =range(len(X_test))\n",
        "#x_ax2 =range(len(y_test))\n",
        "#plotting \n",
        "plt.plot(x_ax, y_test , label='Actual Observed Value', color='yellow',linestyle='-')\n",
        "plt.plot(x_ax,y_test_pred_dt , label='Predicted values ' , color='red' , linestyle ='--')\n",
        "plt.grid()\n",
        "plt.xlabel('Agile Projects')\n",
        "plt.ylabel('Cost Parameter')\n",
        "plt.title('Cost Prediction witn Decision Tree Regression')\n",
        "plt.legend(bbox_to_anchor =(0.5,-0.2), loc= 'upper center',ncol=2, frameon = True)\n",
        "\n",
        "plt.show"
      ]
    },
    {
      "cell_type": "code",
      "source": [
        "# from yellowbrick.model_selection import ValidationCurve\n",
        "# # Creating the validation curve\n",
        "# import numpy as np\n",
        "# visualizer = ValidationCurve(DecisionTreeRegressor(), \n",
        "#                              param_name=\"max_depth\", n_jobs=-1,\n",
        "#                              param_range=np.arange(1, 22), \n",
        "#                              cv=10, scoring=\"accuracy\")\n",
        "\n",
        "# visualizer.fit(X_train, y_train)\n",
        "\n",
        "# # Saving plot in PNG format\n",
        "# visualizer.show(outpath=\"Validation_Curve.png\")"
      ],
      "metadata": {
        "id": "G8HGruEdgK6f"
      },
      "execution_count": 162,
      "outputs": []
    },
    {
      "cell_type": "code",
      "execution_count": 163,
      "metadata": {
        "colab": {
          "base_uri": "https://localhost:8080/",
          "height": 206
        },
        "id": "mye5sB4hkdDW",
        "outputId": "7014221d-6840-47a2-8892-2be5ead68e27"
      },
      "outputs": [
        {
          "output_type": "execute_result",
          "data": {
            "text/plain": [
              "    Actual Values of Effort  Predicted Effort       MRE\n",
              "8                    500000          600000.0 -0.200000\n",
              "13                   400000          350000.0  0.125000\n",
              "20                   550000          600000.0 -0.090909\n",
              "1                   1600000         1800000.0 -0.125000\n",
              "11                   650000          800000.0 -0.230769"
            ],
            "text/html": [
              "\n",
              "  <div id=\"df-083307ec-b2ad-4fb6-b27f-1998c8855b15\">\n",
              "    <div class=\"colab-df-container\">\n",
              "      <div>\n",
              "<style scoped>\n",
              "    .dataframe tbody tr th:only-of-type {\n",
              "        vertical-align: middle;\n",
              "    }\n",
              "\n",
              "    .dataframe tbody tr th {\n",
              "        vertical-align: top;\n",
              "    }\n",
              "\n",
              "    .dataframe thead th {\n",
              "        text-align: right;\n",
              "    }\n",
              "</style>\n",
              "<table border=\"1\" class=\"dataframe\">\n",
              "  <thead>\n",
              "    <tr style=\"text-align: right;\">\n",
              "      <th></th>\n",
              "      <th>Actual Values of Effort</th>\n",
              "      <th>Predicted Effort</th>\n",
              "      <th>MRE</th>\n",
              "    </tr>\n",
              "  </thead>\n",
              "  <tbody>\n",
              "    <tr>\n",
              "      <th>8</th>\n",
              "      <td>500000</td>\n",
              "      <td>600000.0</td>\n",
              "      <td>-0.200000</td>\n",
              "    </tr>\n",
              "    <tr>\n",
              "      <th>13</th>\n",
              "      <td>400000</td>\n",
              "      <td>350000.0</td>\n",
              "      <td>0.125000</td>\n",
              "    </tr>\n",
              "    <tr>\n",
              "      <th>20</th>\n",
              "      <td>550000</td>\n",
              "      <td>600000.0</td>\n",
              "      <td>-0.090909</td>\n",
              "    </tr>\n",
              "    <tr>\n",
              "      <th>1</th>\n",
              "      <td>1600000</td>\n",
              "      <td>1800000.0</td>\n",
              "      <td>-0.125000</td>\n",
              "    </tr>\n",
              "    <tr>\n",
              "      <th>11</th>\n",
              "      <td>650000</td>\n",
              "      <td>800000.0</td>\n",
              "      <td>-0.230769</td>\n",
              "    </tr>\n",
              "  </tbody>\n",
              "</table>\n",
              "</div>\n",
              "      <button class=\"colab-df-convert\" onclick=\"convertToInteractive('df-083307ec-b2ad-4fb6-b27f-1998c8855b15')\"\n",
              "              title=\"Convert this dataframe to an interactive table.\"\n",
              "              style=\"display:none;\">\n",
              "        \n",
              "  <svg xmlns=\"http://www.w3.org/2000/svg\" height=\"24px\"viewBox=\"0 0 24 24\"\n",
              "       width=\"24px\">\n",
              "    <path d=\"M0 0h24v24H0V0z\" fill=\"none\"/>\n",
              "    <path d=\"M18.56 5.44l.94 2.06.94-2.06 2.06-.94-2.06-.94-.94-2.06-.94 2.06-2.06.94zm-11 1L8.5 8.5l.94-2.06 2.06-.94-2.06-.94L8.5 2.5l-.94 2.06-2.06.94zm10 10l.94 2.06.94-2.06 2.06-.94-2.06-.94-.94-2.06-.94 2.06-2.06.94z\"/><path d=\"M17.41 7.96l-1.37-1.37c-.4-.4-.92-.59-1.43-.59-.52 0-1.04.2-1.43.59L10.3 9.45l-7.72 7.72c-.78.78-.78 2.05 0 2.83L4 21.41c.39.39.9.59 1.41.59.51 0 1.02-.2 1.41-.59l7.78-7.78 2.81-2.81c.8-.78.8-2.07 0-2.86zM5.41 20L4 18.59l7.72-7.72 1.47 1.35L5.41 20z\"/>\n",
              "  </svg>\n",
              "      </button>\n",
              "      \n",
              "  <style>\n",
              "    .colab-df-container {\n",
              "      display:flex;\n",
              "      flex-wrap:wrap;\n",
              "      gap: 12px;\n",
              "    }\n",
              "\n",
              "    .colab-df-convert {\n",
              "      background-color: #E8F0FE;\n",
              "      border: none;\n",
              "      border-radius: 50%;\n",
              "      cursor: pointer;\n",
              "      display: none;\n",
              "      fill: #1967D2;\n",
              "      height: 32px;\n",
              "      padding: 0 0 0 0;\n",
              "      width: 32px;\n",
              "    }\n",
              "\n",
              "    .colab-df-convert:hover {\n",
              "      background-color: #E2EBFA;\n",
              "      box-shadow: 0px 1px 2px rgba(60, 64, 67, 0.3), 0px 1px 3px 1px rgba(60, 64, 67, 0.15);\n",
              "      fill: #174EA6;\n",
              "    }\n",
              "\n",
              "    [theme=dark] .colab-df-convert {\n",
              "      background-color: #3B4455;\n",
              "      fill: #D2E3FC;\n",
              "    }\n",
              "\n",
              "    [theme=dark] .colab-df-convert:hover {\n",
              "      background-color: #434B5C;\n",
              "      box-shadow: 0px 1px 3px 1px rgba(0, 0, 0, 0.15);\n",
              "      filter: drop-shadow(0px 1px 2px rgba(0, 0, 0, 0.3));\n",
              "      fill: #FFFFFF;\n",
              "    }\n",
              "  </style>\n",
              "\n",
              "      <script>\n",
              "        const buttonEl =\n",
              "          document.querySelector('#df-083307ec-b2ad-4fb6-b27f-1998c8855b15 button.colab-df-convert');\n",
              "        buttonEl.style.display =\n",
              "          google.colab.kernel.accessAllowed ? 'block' : 'none';\n",
              "\n",
              "        async function convertToInteractive(key) {\n",
              "          const element = document.querySelector('#df-083307ec-b2ad-4fb6-b27f-1998c8855b15');\n",
              "          const dataTable =\n",
              "            await google.colab.kernel.invokeFunction('convertToInteractive',\n",
              "                                                     [key], {});\n",
              "          if (!dataTable) return;\n",
              "\n",
              "          const docLinkHtml = 'Like what you see? Visit the ' +\n",
              "            '<a target=\"_blank\" href=https://colab.research.google.com/notebooks/data_table.ipynb>data table notebook</a>'\n",
              "            + ' to learn more about interactive tables.';\n",
              "          element.innerHTML = '';\n",
              "          dataTable['output_type'] = 'display_data';\n",
              "          await google.colab.output.renderOutput(dataTable, element);\n",
              "          const docLink = document.createElement('div');\n",
              "          docLink.innerHTML = docLinkHtml;\n",
              "          element.appendChild(docLink);\n",
              "        }\n",
              "      </script>\n",
              "    </div>\n",
              "  </div>\n",
              "  "
            ]
          },
          "metadata": {},
          "execution_count": 163
        }
      ],
      "source": [
        "pred_mre = pd.DataFrame({'Actual Values of Effort':y_test,'Predicted Effort':y_test_pred_dt,'MRE':(y_test-y_test_pred_dt)/y_test})\n",
        "#rel=(xyy/5)\n",
        "#print(sum(rel)/5)\n",
        "pred_mre[0:21]"
      ]
    },
    {
      "cell_type": "markdown",
      "metadata": {
        "id": "0vCgKq63i8Eg"
      },
      "source": []
    },
    {
      "cell_type": "code",
      "execution_count": 164,
      "metadata": {
        "colab": {
          "base_uri": "https://localhost:8080/",
          "height": 206
        },
        "id": "XpqelMtISdhw",
        "outputId": "7f6f768a-4f04-4f87-af73-8eba70102e2e"
      },
      "outputs": [
        {
          "output_type": "execute_result",
          "data": {
            "text/plain": [
              "    Actual Values of Effort  Predicted Effort  Difference\n",
              "8                    500000          600000.0   -100000.0\n",
              "13                   400000          350000.0     50000.0\n",
              "20                   550000          600000.0    -50000.0\n",
              "1                   1600000         1800000.0   -200000.0\n",
              "11                   650000          800000.0   -150000.0"
            ],
            "text/html": [
              "\n",
              "  <div id=\"df-c730466f-911d-440d-84d0-80a9c6e6ba1c\">\n",
              "    <div class=\"colab-df-container\">\n",
              "      <div>\n",
              "<style scoped>\n",
              "    .dataframe tbody tr th:only-of-type {\n",
              "        vertical-align: middle;\n",
              "    }\n",
              "\n",
              "    .dataframe tbody tr th {\n",
              "        vertical-align: top;\n",
              "    }\n",
              "\n",
              "    .dataframe thead th {\n",
              "        text-align: right;\n",
              "    }\n",
              "</style>\n",
              "<table border=\"1\" class=\"dataframe\">\n",
              "  <thead>\n",
              "    <tr style=\"text-align: right;\">\n",
              "      <th></th>\n",
              "      <th>Actual Values of Effort</th>\n",
              "      <th>Predicted Effort</th>\n",
              "      <th>Difference</th>\n",
              "    </tr>\n",
              "  </thead>\n",
              "  <tbody>\n",
              "    <tr>\n",
              "      <th>8</th>\n",
              "      <td>500000</td>\n",
              "      <td>600000.0</td>\n",
              "      <td>-100000.0</td>\n",
              "    </tr>\n",
              "    <tr>\n",
              "      <th>13</th>\n",
              "      <td>400000</td>\n",
              "      <td>350000.0</td>\n",
              "      <td>50000.0</td>\n",
              "    </tr>\n",
              "    <tr>\n",
              "      <th>20</th>\n",
              "      <td>550000</td>\n",
              "      <td>600000.0</td>\n",
              "      <td>-50000.0</td>\n",
              "    </tr>\n",
              "    <tr>\n",
              "      <th>1</th>\n",
              "      <td>1600000</td>\n",
              "      <td>1800000.0</td>\n",
              "      <td>-200000.0</td>\n",
              "    </tr>\n",
              "    <tr>\n",
              "      <th>11</th>\n",
              "      <td>650000</td>\n",
              "      <td>800000.0</td>\n",
              "      <td>-150000.0</td>\n",
              "    </tr>\n",
              "  </tbody>\n",
              "</table>\n",
              "</div>\n",
              "      <button class=\"colab-df-convert\" onclick=\"convertToInteractive('df-c730466f-911d-440d-84d0-80a9c6e6ba1c')\"\n",
              "              title=\"Convert this dataframe to an interactive table.\"\n",
              "              style=\"display:none;\">\n",
              "        \n",
              "  <svg xmlns=\"http://www.w3.org/2000/svg\" height=\"24px\"viewBox=\"0 0 24 24\"\n",
              "       width=\"24px\">\n",
              "    <path d=\"M0 0h24v24H0V0z\" fill=\"none\"/>\n",
              "    <path d=\"M18.56 5.44l.94 2.06.94-2.06 2.06-.94-2.06-.94-.94-2.06-.94 2.06-2.06.94zm-11 1L8.5 8.5l.94-2.06 2.06-.94-2.06-.94L8.5 2.5l-.94 2.06-2.06.94zm10 10l.94 2.06.94-2.06 2.06-.94-2.06-.94-.94-2.06-.94 2.06-2.06.94z\"/><path d=\"M17.41 7.96l-1.37-1.37c-.4-.4-.92-.59-1.43-.59-.52 0-1.04.2-1.43.59L10.3 9.45l-7.72 7.72c-.78.78-.78 2.05 0 2.83L4 21.41c.39.39.9.59 1.41.59.51 0 1.02-.2 1.41-.59l7.78-7.78 2.81-2.81c.8-.78.8-2.07 0-2.86zM5.41 20L4 18.59l7.72-7.72 1.47 1.35L5.41 20z\"/>\n",
              "  </svg>\n",
              "      </button>\n",
              "      \n",
              "  <style>\n",
              "    .colab-df-container {\n",
              "      display:flex;\n",
              "      flex-wrap:wrap;\n",
              "      gap: 12px;\n",
              "    }\n",
              "\n",
              "    .colab-df-convert {\n",
              "      background-color: #E8F0FE;\n",
              "      border: none;\n",
              "      border-radius: 50%;\n",
              "      cursor: pointer;\n",
              "      display: none;\n",
              "      fill: #1967D2;\n",
              "      height: 32px;\n",
              "      padding: 0 0 0 0;\n",
              "      width: 32px;\n",
              "    }\n",
              "\n",
              "    .colab-df-convert:hover {\n",
              "      background-color: #E2EBFA;\n",
              "      box-shadow: 0px 1px 2px rgba(60, 64, 67, 0.3), 0px 1px 3px 1px rgba(60, 64, 67, 0.15);\n",
              "      fill: #174EA6;\n",
              "    }\n",
              "\n",
              "    [theme=dark] .colab-df-convert {\n",
              "      background-color: #3B4455;\n",
              "      fill: #D2E3FC;\n",
              "    }\n",
              "\n",
              "    [theme=dark] .colab-df-convert:hover {\n",
              "      background-color: #434B5C;\n",
              "      box-shadow: 0px 1px 3px 1px rgba(0, 0, 0, 0.15);\n",
              "      filter: drop-shadow(0px 1px 2px rgba(0, 0, 0, 0.3));\n",
              "      fill: #FFFFFF;\n",
              "    }\n",
              "  </style>\n",
              "\n",
              "      <script>\n",
              "        const buttonEl =\n",
              "          document.querySelector('#df-c730466f-911d-440d-84d0-80a9c6e6ba1c button.colab-df-convert');\n",
              "        buttonEl.style.display =\n",
              "          google.colab.kernel.accessAllowed ? 'block' : 'none';\n",
              "\n",
              "        async function convertToInteractive(key) {\n",
              "          const element = document.querySelector('#df-c730466f-911d-440d-84d0-80a9c6e6ba1c');\n",
              "          const dataTable =\n",
              "            await google.colab.kernel.invokeFunction('convertToInteractive',\n",
              "                                                     [key], {});\n",
              "          if (!dataTable) return;\n",
              "\n",
              "          const docLinkHtml = 'Like what you see? Visit the ' +\n",
              "            '<a target=\"_blank\" href=https://colab.research.google.com/notebooks/data_table.ipynb>data table notebook</a>'\n",
              "            + ' to learn more about interactive tables.';\n",
              "          element.innerHTML = '';\n",
              "          dataTable['output_type'] = 'display_data';\n",
              "          await google.colab.output.renderOutput(dataTable, element);\n",
              "          const docLink = document.createElement('div');\n",
              "          docLink.innerHTML = docLinkHtml;\n",
              "          element.appendChild(docLink);\n",
              "        }\n",
              "      </script>\n",
              "    </div>\n",
              "  </div>\n",
              "  "
            ]
          },
          "metadata": {},
          "execution_count": 164
        }
      ],
      "source": [
        "import pandas as pd\n",
        "pred_y_diff = pd.DataFrame({'Actual Values of Effort':y_test,'Predicted Effort':y_test_pred_dt,'Difference':y_test-y_test_pred_dt})\n",
        "\n",
        "pred_y_diff[0:21]"
      ]
    },
    {
      "cell_type": "code",
      "execution_count": 165,
      "metadata": {
        "id": "fJeqxV19fax7"
      },
      "outputs": [],
      "source": [
        "#@title Random Forest Regresssor Implementation\n",
        "from sklearn.model_selection  import train_test_split\n",
        "X_train,X_test,y_train,y_test = train_test_split(Cat_1,Cat_2, test_size=0.20 ,random_state=0)"
      ]
    },
    {
      "cell_type": "code",
      "execution_count": 166,
      "metadata": {
        "id": "70cl5VRGkF0m"
      },
      "outputs": [],
      "source": [
        "from sklearn.ensemble import RandomForestRegressor\n",
        "model2= RandomForestRegressor(n_estimators=30, random_state=30)"
      ]
    },
    {
      "cell_type": "code",
      "execution_count": 167,
      "metadata": {
        "id": "1IkSjieqkrfY"
      },
      "outputs": [],
      "source": [
        "#Fitting the  model \n",
        "LL_rf = model2.fit(X_train,y_train)\n"
      ]
    },
    {
      "cell_type": "code",
      "execution_count": 168,
      "metadata": {
        "id": "cWg9LDnG7yrX"
      },
      "outputs": [],
      "source": [
        "#prediction on testing the data\n",
        "y_test_pred_rf = model2.predict(X_test)"
      ]
    },
    {
      "cell_type": "code",
      "execution_count": 169,
      "metadata": {
        "colab": {
          "base_uri": "https://localhost:8080/"
        },
        "id": "CvcUXMCmlQXO",
        "outputId": "be2a2ede-96ec-4387-dec0-2cee2828ade3"
      },
      "outputs": [
        {
          "output_type": "stream",
          "name": "stdout",
          "text": [
            "The Model Score on the predictrd training Set: 0.98\n",
            "r2 Score  0.9447201904098456\n"
          ]
        }
      ],
      "source": [
        "#Training Model Evaluation\n",
        "\n",
        "\n",
        "print('The Model Score on the predictrd training Set: %.2f'% LL_rf.score(X_train,y_train))\n",
        "print('r2 Score ', r2_score(y_test,y_test_pred_rf))"
      ]
    },
    {
      "cell_type": "code",
      "execution_count": 170,
      "metadata": {
        "id": "o_-j_NeZmZIV"
      },
      "outputs": [],
      "source": [
        "# print(\"Mean Squared Error::\",mean_squared_error(y_test,y_test_pred_rf))\n",
        "# print(\"Mean Absolute Error::\",mean_absolute_error(y_test,y_test_pred_rf))\n",
        "# xv= math.sqrt(mean_squared_error(y_test,y_test_pred_rf))\n",
        "# print(\"Root Mean Squared Error::\",xv)"
      ]
    },
    {
      "cell_type": "code",
      "execution_count": 171,
      "metadata": {
        "colab": {
          "base_uri": "https://localhost:8080/",
          "height": 501
        },
        "id": "rfPaPzj4mMYN",
        "outputId": "b5811b99-5429-4077-e8c8-de775ba87251"
      },
      "outputs": [
        {
          "output_type": "execute_result",
          "data": {
            "text/plain": [
              "<matplotlib.legend.Legend at 0x7fc697993010>"
            ]
          },
          "metadata": {},
          "execution_count": 171
        },
        {
          "output_type": "display_data",
          "data": {
            "text/plain": [
              "<Figure size 1000x600 with 1 Axes>"
            ],
            "image/png": "[encoded data removed]"
          },
          "metadata": {}
        }
      ],
      "source": [
        "# plotting the observed and predicted values \n",
        "\n",
        "\n",
        "# Setting the boundaries and parameters\n",
        "\n",
        "plt.rcParams['figure.figsize'] = (10,6)\n",
        "x_ax =range(len(X_test))\n",
        "\n",
        "#plotting \n",
        "plt.plot(x_ax, y_test , label='Actual Observed Value', color='yellow',linestyle='-')\n",
        "plt.plot(x_ax,y_test_pred_rf , label='Predicted values ' , color='red' , linestyle ='--')\n",
        "plt.grid()\n",
        "plt.xlabel('Agile Projects')\n",
        "plt.ylabel('Cost Parameter')\n",
        "plt.title('Cost Prediction with Random Forest')\n",
        "plt.legend(bbox_to_anchor =(0.5,-0.2), loc= 'upper center',ncol=2, frameon = True)"
      ]
    },
    {
      "cell_type": "code",
      "execution_count": 172,
      "metadata": {
        "colab": {
          "base_uri": "https://localhost:8080/",
          "height": 206
        },
        "id": "sNu3gUwClavx",
        "outputId": "2e4f7424-40c6-4163-da48-b32718c79696"
      },
      "outputs": [
        {
          "output_type": "execute_result",
          "data": {
            "text/plain": [
              "    Actual Values of Cost  Predicted Cost       MRE\n",
              "8                  500000    6.433333e+05 -0.286667\n",
              "13                 400000    5.350000e+05 -0.337500\n",
              "20                 550000    6.166667e+05 -0.121212\n",
              "1                 1600000    1.686667e+06 -0.054167\n",
              "11                 650000    6.966667e+05 -0.071795"
            ],
            "text/html": [
              "\n",
              "  <div id=\"df-14a62002-1d11-435b-aa6f-e513f94fbfa9\">\n",
              "    <div class=\"colab-df-container\">\n",
              "      <div>\n",
              "<style scoped>\n",
              "    .dataframe tbody tr th:only-of-type {\n",
              "        vertical-align: middle;\n",
              "    }\n",
              "\n",
              "    .dataframe tbody tr th {\n",
              "        vertical-align: top;\n",
              "    }\n",
              "\n",
              "    .dataframe thead th {\n",
              "        text-align: right;\n",
              "    }\n",
              "</style>\n",
              "<table border=\"1\" class=\"dataframe\">\n",
              "  <thead>\n",
              "    <tr style=\"text-align: right;\">\n",
              "      <th></th>\n",
              "      <th>Actual Values of Cost</th>\n",
              "      <th>Predicted Cost</th>\n",
              "      <th>MRE</th>\n",
              "    </tr>\n",
              "  </thead>\n",
              "  <tbody>\n",
              "    <tr>\n",
              "      <th>8</th>\n",
              "      <td>500000</td>\n",
              "      <td>6.433333e+05</td>\n",
              "      <td>-0.286667</td>\n",
              "    </tr>\n",
              "    <tr>\n",
              "      <th>13</th>\n",
              "      <td>400000</td>\n",
              "      <td>5.350000e+05</td>\n",
              "      <td>-0.337500</td>\n",
              "    </tr>\n",
              "    <tr>\n",
              "      <th>20</th>\n",
              "      <td>550000</td>\n",
              "      <td>6.166667e+05</td>\n",
              "      <td>-0.121212</td>\n",
              "    </tr>\n",
              "    <tr>\n",
              "      <th>1</th>\n",
              "      <td>1600000</td>\n",
              "      <td>1.686667e+06</td>\n",
              "      <td>-0.054167</td>\n",
              "    </tr>\n",
              "    <tr>\n",
              "      <th>11</th>\n",
              "      <td>650000</td>\n",
              "      <td>6.966667e+05</td>\n",
              "      <td>-0.071795</td>\n",
              "    </tr>\n",
              "  </tbody>\n",
              "</table>\n",
              "</div>\n",
              "      <button class=\"colab-df-convert\" onclick=\"convertToInteractive('df-14a62002-1d11-435b-aa6f-e513f94fbfa9')\"\n",
              "              title=\"Convert this dataframe to an interactive table.\"\n",
              "              style=\"display:none;\">\n",
              "        \n",
              "  <svg xmlns=\"http://www.w3.org/2000/svg\" height=\"24px\"viewBox=\"0 0 24 24\"\n",
              "       width=\"24px\">\n",
              "    <path d=\"M0 0h24v24H0V0z\" fill=\"none\"/>\n",
              "    <path d=\"M18.56 5.44l.94 2.06.94-2.06 2.06-.94-2.06-.94-.94-2.06-.94 2.06-2.06.94zm-11 1L8.5 8.5l.94-2.06 2.06-.94-2.06-.94L8.5 2.5l-.94 2.06-2.06.94zm10 10l.94 2.06.94-2.06 2.06-.94-2.06-.94-.94-2.06-.94 2.06-2.06.94z\"/><path d=\"M17.41 7.96l-1.37-1.37c-.4-.4-.92-.59-1.43-.59-.52 0-1.04.2-1.43.59L10.3 9.45l-7.72 7.72c-.78.78-.78 2.05 0 2.83L4 21.41c.39.39.9.59 1.41.59.51 0 1.02-.2 1.41-.59l7.78-7.78 2.81-2.81c.8-.78.8-2.07 0-2.86zM5.41 20L4 18.59l7.72-7.72 1.47 1.35L5.41 20z\"/>\n",
              "  </svg>\n",
              "      </button>\n",
              "      \n",
              "  <style>\n",
              "    .colab-df-container {\n",
              "      display:flex;\n",
              "      flex-wrap:wrap;\n",
              "      gap: 12px;\n",
              "    }\n",
              "\n",
              "    .colab-df-convert {\n",
              "      background-color: #E8F0FE;\n",
              "      border: none;\n",
              "      border-radius: 50%;\n",
              "      cursor: pointer;\n",
              "      display: none;\n",
              "      fill: #1967D2;\n",
              "      height: 32px;\n",
              "      padding: 0 0 0 0;\n",
              "      width: 32px;\n",
              "    }\n",
              "\n",
              "    .colab-df-convert:hover {\n",
              "      background-color: #E2EBFA;\n",
              "      box-shadow: 0px 1px 2px rgba(60, 64, 67, 0.3), 0px 1px 3px 1px rgba(60, 64, 67, 0.15);\n",
              "      fill: #174EA6;\n",
              "    }\n",
              "\n",
              "    [theme=dark] .colab-df-convert {\n",
              "      background-color: #3B4455;\n",
              "      fill: #D2E3FC;\n",
              "    }\n",
              "\n",
              "    [theme=dark] .colab-df-convert:hover {\n",
              "      background-color: #434B5C;\n",
              "      box-shadow: 0px 1px 3px 1px rgba(0, 0, 0, 0.15);\n",
              "      filter: drop-shadow(0px 1px 2px rgba(0, 0, 0, 0.3));\n",
              "      fill: #FFFFFF;\n",
              "    }\n",
              "  </style>\n",
              "\n",
              "      <script>\n",
              "        const buttonEl =\n",
              "          document.querySelector('#df-14a62002-1d11-435b-aa6f-e513f94fbfa9 button.colab-df-convert');\n",
              "        buttonEl.style.display =\n",
              "          google.colab.kernel.accessAllowed ? 'block' : 'none';\n",
              "\n",
              "        async function convertToInteractive(key) {\n",
              "          const element = document.querySelector('#df-14a62002-1d11-435b-aa6f-e513f94fbfa9');\n",
              "          const dataTable =\n",
              "            await google.colab.kernel.invokeFunction('convertToInteractive',\n",
              "                                                     [key], {});\n",
              "          if (!dataTable) return;\n",
              "\n",
              "          const docLinkHtml = 'Like what you see? Visit the ' +\n",
              "            '<a target=\"_blank\" href=https://colab.research.google.com/notebooks/data_table.ipynb>data table notebook</a>'\n",
              "            + ' to learn more about interactive tables.';\n",
              "          element.innerHTML = '';\n",
              "          dataTable['output_type'] = 'display_data';\n",
              "          await google.colab.output.renderOutput(dataTable, element);\n",
              "          const docLink = document.createElement('div');\n",
              "          docLink.innerHTML = docLinkHtml;\n",
              "          element.appendChild(docLink);\n",
              "        }\n",
              "      </script>\n",
              "    </div>\n",
              "  </div>\n",
              "  "
            ]
          },
          "metadata": {},
          "execution_count": 172
        }
      ],
      "source": [
        "pred_mre = pd.DataFrame({'Actual Values of Cost':y_test,'Predicted Cost':y_test_pred_rf,'MRE':(y_test-y_test_pred_rf)/y_test})\n",
        "#rel=(xyy/5)\n",
        "#print(sum(rel)/5)\n",
        "pred_mre[0:21]"
      ]
    },
    {
      "cell_type": "markdown",
      "metadata": {
        "id": "eS3No_HTChNs"
      },
      "source": [
        "Evaluation Parameters"
      ]
    },
    {
      "cell_type": "code",
      "execution_count": 173,
      "metadata": {
        "colab": {
          "base_uri": "https://localhost:8080/"
        },
        "id": "d3HFXFgtlcfF",
        "outputId": "bfbc9c1b-3281-4b32-dc38-53118a4e3f18"
      },
      "outputs": [
        {
          "output_type": "stream",
          "name": "stdout",
          "text": [
            "The r Score on the predictrd trained Set: 0.94\n",
            "MMRE 0.03485361305361305\n",
            "MdMRE 0.02424242424242423\n",
            "PRED 25% 100.0\n",
            "PRED MMRE 60.0\n",
            "Model Accuracy 96.51463869463869\n"
          ]
        }
      ],
      "source": [
        "\n",
        "# The r_sq\n",
        "print('The r Score on the predictrd trained Set: %.2f'% r2_score(y_test,y_test_pred_rf))\n",
        "\n",
        "diff=np.absolute(y_test-y_test_pred_rf)\n",
        "MRE=diff/y_test\n",
        "\n",
        "\n",
        "MRE=(diff/y_test)/MRE.size\n",
        "MMRE=np.mean(MRE)\n",
        "MdMRE=np.median(MRE)\n",
        "P=MRE[MRE<.25]\n",
        "Pred=(P.size/MRE.size) * 100\n",
        "print(\"MMRE\",MMRE)\n",
        "print(\"MdMRE\",MdMRE)\n",
        "print(\"PRED 25%\",Pred)\n",
        "Accuracy=(1-MRE)*100\n",
        "Accuracy=(Accuracy.mean())\n",
        "MRE=(diff/y_test)/MRE.size\n",
        "P2=MRE[MRE<MMRE]\n",
        "print(\"PRED MMRE\",Pred2)\n",
        "print(\"Model Accuracy\",Accuracy)\n",
        "#"
      ]
    },
    {
      "cell_type": "code",
      "execution_count": 174,
      "metadata": {
        "colab": {
          "base_uri": "https://localhost:8080/"
        },
        "id": "BtVrYQ_wwzL7",
        "outputId": "bd4f4cad-a7cb-4a87-bac6-e4e8546c311a"
      },
      "outputs": [
        {
          "output_type": "stream",
          "name": "stdout",
          "text": [
            "The r Score on the predictrd test Set: 0.93\n",
            "MMRE 0.03821228771228772\n",
            "MdMRE 0.03636363636363636\n",
            "PRED 25% 100.0\n",
            "PRED MMRE 60.0\n",
            "Model Accuracy 96.17877122877124\n"
          ]
        }
      ],
      "source": [
        "#@title ADA BOOST\n",
        "from sklearn.ensemble import AdaBoostRegressor\n",
        "\n",
        "\n",
        "# Categorical To continious \n",
        "X_train_ada,X_test_ada,y_train_ada,y_test_ada = train_test_split(Cat_1,Cat_2, test_size=0.20, random_state=0)\n",
        "\n",
        "\n",
        "ada = AdaBoostRegressor()\n",
        "ada.fit(X_train_ada,y_train_ada)\n",
        "\n",
        "#clf = svm.SVC()\n",
        "#clf.fit(Cat_1, Cat_2)\n",
        "y_train_pred_ada=ada.predict(X_train_ada)\n",
        "y_pred_ada=ada.predict(X_test_ada)\n",
        "\n",
        "\n",
        "\n",
        "# The r_sq\n",
        "print('The r Score on the predictrd test Set: %.2f'% r2_score(y_test_ada,y_pred_ada))\n",
        "#print('The r Score on the predictrd trained Set: %.2f'% r2_score(y_train_ada,y_train_pred_ada))\n",
        "\n",
        "diff=np.absolute(y_test_ada-y_pred_ada)\n",
        "# MRE=diff/y_test\n",
        "MRE=(diff/y_test)/MRE.size\n",
        "MMRE=np.mean(MRE)\n",
        "MdMRE=np.median(MRE)\n",
        "P=MRE[MRE<.25]\n",
        "Pred=(P.size/MRE.size) * 100\n",
        "print(\"MMRE\",MMRE)\n",
        "print(\"MdMRE\",MdMRE)\n",
        "print(\"PRED 25%\",Pred)\n",
        "Accuracy=(1-MRE)*100\n",
        "Accuracy=(Accuracy.mean())\n",
        "MRE=(diff/y_test)/MRE.size\n",
        "P2=MRE[MRE<MMRE]\n",
        "print(\"PRED MMRE\",Pred2)\n",
        "print(\"Model Accuracy\",Accuracy)\n",
        "#\n"
      ]
    },
    {
      "cell_type": "code",
      "execution_count": 175,
      "metadata": {
        "colab": {
          "base_uri": "https://localhost:8080/",
          "height": 424
        },
        "id": "fAUR20Aa8UT_",
        "outputId": "e0abeb22-561f-4341-bfb5-b3accc4fd10b"
      },
      "outputs": [
        {
          "output_type": "display_data",
          "data": {
            "text/plain": [
              "<Figure size 1000x600 with 1 Axes>"
            ],
            "image/png": "[encoded data removed]"
          },
          "metadata": {}
        }
      ],
      "source": [
        "import matplotlib.pyplot as plt\n",
        "import seaborn as sns\n",
        "\n",
        "colors = sns.color_palette(\"colorblind\")\n",
        "# X_train_ada,X_test_ada,y_train_ada,y_test_ada\n",
        "plt.figure()\n",
        "plt.scatter(y_train_pred_ada,y_train_ada , label=\"training samples\")\n",
        "#plt.plot(X_test_ada,y_test_ada, color=colors[1], label=\"n_estimators=1\", linewidth=2)\n",
        "# plt.plot(X, y_2, color=colors[2], label=\"n_estimators=300\", linewidth=2)\n",
        "plt.xlabel(\"data\")\n",
        "plt.ylabel(\"target\")\n",
        "plt.title(\"ADA BOOST REGRESSOR - Cost\")\n",
        "plt.legend()\n",
        "plt.show()"
      ]
    },
    {
      "cell_type": "code",
      "execution_count": 176,
      "metadata": {
        "id": "74lnbked_FaZ"
      },
      "outputs": [],
      "source": [
        "#prediction on testing the data\n",
        "#y_test_pred_svm = y_pred111.predict(y_test,y_test_pred_svm)"
      ]
    },
    {
      "cell_type": "code",
      "execution_count": 177,
      "metadata": {
        "id": "9J3ckdlWseCG",
        "colab": {
          "base_uri": "https://localhost:8080/",
          "height": 270
        },
        "outputId": "7fd58250-7f59-4799-edea-eb88e3d28c3e"
      },
      "outputs": [
        {
          "output_type": "execute_result",
          "data": {
            "text/plain": [
              "   Effort   Vi      D    V  Sprint_Size  Work_days  Team_Salary  Act_Time  \\\n",
              "0     156  4.2  0.687  2.7           10         22       230000        63   \n",
              "1     202  3.7  0.701  2.5           10         21       260000        92   \n",
              "2     173  4.0  0.878  3.3           10         22       250000        56   \n",
              "3     331  4.5  0.886  3.8           10         22       300000        86   \n",
              "4     124  4.9  0.903  4.2           10         22       300000        32   \n",
              "\n",
              "   Actual_Cost  \n",
              "0      1200000  \n",
              "1      1600000  \n",
              "2      1000000  \n",
              "3      2100000  \n",
              "4       750000  "
            ],
            "text/html": [
              "\n",
              "  <div id=\"df-c0f89d0c-062d-4f90-a4d2-16e6f1d880a9\">\n",
              "    <div class=\"colab-df-container\">\n",
              "      <div>\n",
              "<style scoped>\n",
              "    .dataframe tbody tr th:only-of-type {\n",
              "        vertical-align: middle;\n",
              "    }\n",
              "\n",
              "    .dataframe tbody tr th {\n",
              "        vertical-align: top;\n",
              "    }\n",
              "\n",
              "    .dataframe thead th {\n",
              "        text-align: right;\n",
              "    }\n",
              "</style>\n",
              "<table border=\"1\" class=\"dataframe\">\n",
              "  <thead>\n",
              "    <tr style=\"text-align: right;\">\n",
              "      <th></th>\n",
              "      <th>Effort</th>\n",
              "      <th>Vi</th>\n",
              "      <th>D</th>\n",
              "      <th>V</th>\n",
              "      <th>Sprint_Size</th>\n",
              "      <th>Work_days</th>\n",
              "      <th>Team_Salary</th>\n",
              "      <th>Act_Time</th>\n",
              "      <th>Actual_Cost</th>\n",
              "    </tr>\n",
              "  </thead>\n",
              "  <tbody>\n",
              "    <tr>\n",
              "      <th>0</th>\n",
              "      <td>156</td>\n",
              "      <td>4.2</td>\n",
              "      <td>0.687</td>\n",
              "      <td>2.7</td>\n",
              "      <td>10</td>\n",
              "      <td>22</td>\n",
              "      <td>230000</td>\n",
              "      <td>63</td>\n",
              "      <td>1200000</td>\n",
              "    </tr>\n",
              "    <tr>\n",
              "      <th>1</th>\n",
              "      <td>202</td>\n",
              "      <td>3.7</td>\n",
              "      <td>0.701</td>\n",
              "      <td>2.5</td>\n",
              "      <td>10</td>\n",
              "      <td>21</td>\n",
              "      <td>260000</td>\n",
              "      <td>92</td>\n",
              "      <td>1600000</td>\n",
              "    </tr>\n",
              "    <tr>\n",
              "      <th>2</th>\n",
              "      <td>173</td>\n",
              "      <td>4.0</td>\n",
              "      <td>0.878</td>\n",
              "      <td>3.3</td>\n",
              "      <td>10</td>\n",
              "      <td>22</td>\n",
              "      <td>250000</td>\n",
              "      <td>56</td>\n",
              "      <td>1000000</td>\n",
              "    </tr>\n",
              "    <tr>\n",
              "      <th>3</th>\n",
              "      <td>331</td>\n",
              "      <td>4.5</td>\n",
              "      <td>0.886</td>\n",
              "      <td>3.8</td>\n",
              "      <td>10</td>\n",
              "      <td>22</td>\n",
              "      <td>300000</td>\n",
              "      <td>86</td>\n",
              "      <td>2100000</td>\n",
              "    </tr>\n",
              "    <tr>\n",
              "      <th>4</th>\n",
              "      <td>124</td>\n",
              "      <td>4.9</td>\n",
              "      <td>0.903</td>\n",
              "      <td>4.2</td>\n",
              "      <td>10</td>\n",
              "      <td>22</td>\n",
              "      <td>300000</td>\n",
              "      <td>32</td>\n",
              "      <td>750000</td>\n",
              "    </tr>\n",
              "  </tbody>\n",
              "</table>\n",
              "</div>\n",
              "      <button class=\"colab-df-convert\" onclick=\"convertToInteractive('df-c0f89d0c-062d-4f90-a4d2-16e6f1d880a9')\"\n",
              "              title=\"Convert this dataframe to an interactive table.\"\n",
              "              style=\"display:none;\">\n",
              "        \n",
              "  <svg xmlns=\"http://www.w3.org/2000/svg\" height=\"24px\"viewBox=\"0 0 24 24\"\n",
              "       width=\"24px\">\n",
              "    <path d=\"M0 0h24v24H0V0z\" fill=\"none\"/>\n",
              "    <path d=\"M18.56 5.44l.94 2.06.94-2.06 2.06-.94-2.06-.94-.94-2.06-.94 2.06-2.06.94zm-11 1L8.5 8.5l.94-2.06 2.06-.94-2.06-.94L8.5 2.5l-.94 2.06-2.06.94zm10 10l.94 2.06.94-2.06 2.06-.94-2.06-.94-.94-2.06-.94 2.06-2.06.94z\"/><path d=\"M17.41 7.96l-1.37-1.37c-.4-.4-.92-.59-1.43-.59-.52 0-1.04.2-1.43.59L10.3 9.45l-7.72 7.72c-.78.78-.78 2.05 0 2.83L4 21.41c.39.39.9.59 1.41.59.51 0 1.02-.2 1.41-.59l7.78-7.78 2.81-2.81c.8-.78.8-2.07 0-2.86zM5.41 20L4 18.59l7.72-7.72 1.47 1.35L5.41 20z\"/>\n",
              "  </svg>\n",
              "      </button>\n",
              "      \n",
              "  <style>\n",
              "    .colab-df-container {\n",
              "      display:flex;\n",
              "      flex-wrap:wrap;\n",
              "      gap: 12px;\n",
              "    }\n",
              "\n",
              "    .colab-df-convert {\n",
              "      background-color: #E8F0FE;\n",
              "      border: none;\n",
              "      border-radius: 50%;\n",
              "      cursor: pointer;\n",
              "      display: none;\n",
              "      fill: #1967D2;\n",
              "      height: 32px;\n",
              "      padding: 0 0 0 0;\n",
              "      width: 32px;\n",
              "    }\n",
              "\n",
              "    .colab-df-convert:hover {\n",
              "      background-color: #E2EBFA;\n",
              "      box-shadow: 0px 1px 2px rgba(60, 64, 67, 0.3), 0px 1px 3px 1px rgba(60, 64, 67, 0.15);\n",
              "      fill: #174EA6;\n",
              "    }\n",
              "\n",
              "    [theme=dark] .colab-df-convert {\n",
              "      background-color: #3B4455;\n",
              "      fill: #D2E3FC;\n",
              "    }\n",
              "\n",
              "    [theme=dark] .colab-df-convert:hover {\n",
              "      background-color: #434B5C;\n",
              "      box-shadow: 0px 1px 3px 1px rgba(0, 0, 0, 0.15);\n",
              "      filter: drop-shadow(0px 1px 2px rgba(0, 0, 0, 0.3));\n",
              "      fill: #FFFFFF;\n",
              "    }\n",
              "  </style>\n",
              "\n",
              "      <script>\n",
              "        const buttonEl =\n",
              "          document.querySelector('#df-c0f89d0c-062d-4f90-a4d2-16e6f1d880a9 button.colab-df-convert');\n",
              "        buttonEl.style.display =\n",
              "          google.colab.kernel.accessAllowed ? 'block' : 'none';\n",
              "\n",
              "        async function convertToInteractive(key) {\n",
              "          const element = document.querySelector('#df-c0f89d0c-062d-4f90-a4d2-16e6f1d880a9');\n",
              "          const dataTable =\n",
              "            await google.colab.kernel.invokeFunction('convertToInteractive',\n",
              "                                                     [key], {});\n",
              "          if (!dataTable) return;\n",
              "\n",
              "          const docLinkHtml = 'Like what you see? Visit the ' +\n",
              "            '<a target=\"_blank\" href=https://colab.research.google.com/notebooks/data_table.ipynb>data table notebook</a>'\n",
              "            + ' to learn more about interactive tables.';\n",
              "          element.innerHTML = '';\n",
              "          dataTable['output_type'] = 'display_data';\n",
              "          await google.colab.output.renderOutput(dataTable, element);\n",
              "          const docLink = document.createElement('div');\n",
              "          docLink.innerHTML = docLinkHtml;\n",
              "          element.appendChild(docLink);\n",
              "        }\n",
              "      </script>\n",
              "    </div>\n",
              "  </div>\n",
              "  "
            ]
          },
          "metadata": {},
          "execution_count": 177
        }
      ],
      "source": [
        "#@title Ensemble Learning \n",
        "\n",
        "data_read.head()"
      ]
    },
    {
      "cell_type": "code",
      "execution_count": 178,
      "metadata": {
        "id": "Oh5UUBnYhg42"
      },
      "outputs": [],
      "source": [
        "from sklearn.preprocessing import LabelEncoder\n",
        "\n",
        "# encoder = LabelEncoder()\n",
        "\n",
        "# data_read['Actual_Cost'] = encoder.fit_transform(data_read['Actual_Cost'])"
      ]
    },
    {
      "cell_type": "code",
      "execution_count": 179,
      "metadata": {
        "id": "Fx56nrLSiLqt"
      },
      "outputs": [],
      "source": [
        "dff = data_read.sample(21)\n",
        "dff_train = dff.iloc[:14,:].sample(10)\n",
        "dff_val = dff.iloc[14:18,:].sample(4)\n",
        "dff_test = dff.iloc[17:,:].sample(3)"
      ]
    },
    {
      "cell_type": "code",
      "execution_count": 180,
      "metadata": {
        "id": "zC2bIQUmjwH2",
        "colab": {
          "base_uri": "https://localhost:8080/",
          "height": 427
        },
        "outputId": "3ec0ddff-c9c3-4b44-c285-e6781e8eb586"
      },
      "outputs": [
        {
          "output_type": "execute_result",
          "data": {
            "text/plain": [
              "    Effort   Vi      D    V  Sprint_Size  Work_days  Team_Salary  Act_Time  \\\n",
              "1      202  3.7  0.701  2.5           10         21       260000        92   \n",
              "18     213  4.0  0.742  2.8           10         22       250000        80   \n",
              "7      257  3.8  0.833  3.0           10         22       250000        93   \n",
              "13      74  3.9  0.773  2.9           10         22       200000        30   \n",
              "2      173  4.0  0.878  3.3           10         22       250000        56   \n",
              "14      62  3.9  0.773  2.9           10         22       200000        21   \n",
              "16     113  4.0  0.742  2.8           10         22       250000        39   \n",
              "17     141  4.0  0.742  2.8           10         22       250000        52   \n",
              "6       97  4.2  0.859  3.4           10         22       250000        35   \n",
              "20      91  3.7  0.758  2.7           10         22       220000        35   \n",
              "\n",
              "    Actual_Cost  \n",
              "1       1600000  \n",
              "18      1500000  \n",
              "7       1800000  \n",
              "13       400000  \n",
              "2       1000000  \n",
              "14       350000  \n",
              "16       800000  \n",
              "17      1000000  \n",
              "6        600000  \n",
              "20       550000  "
            ],
            "text/html": [
              "\n",
              "  <div id=\"df-cc15f36e-8d15-4e2a-89d2-b722615ddf8a\">\n",
              "    <div class=\"colab-df-container\">\n",
              "      <div>\n",
              "<style scoped>\n",
              "    .dataframe tbody tr th:only-of-type {\n",
              "        vertical-align: middle;\n",
              "    }\n",
              "\n",
              "    .dataframe tbody tr th {\n",
              "        vertical-align: top;\n",
              "    }\n",
              "\n",
              "    .dataframe thead th {\n",
              "        text-align: right;\n",
              "    }\n",
              "</style>\n",
              "<table border=\"1\" class=\"dataframe\">\n",
              "  <thead>\n",
              "    <tr style=\"text-align: right;\">\n",
              "      <th></th>\n",
              "      <th>Effort</th>\n",
              "      <th>Vi</th>\n",
              "      <th>D</th>\n",
              "      <th>V</th>\n",
              "      <th>Sprint_Size</th>\n",
              "      <th>Work_days</th>\n",
              "      <th>Team_Salary</th>\n",
              "      <th>Act_Time</th>\n",
              "      <th>Actual_Cost</th>\n",
              "    </tr>\n",
              "  </thead>\n",
              "  <tbody>\n",
              "    <tr>\n",
              "      <th>1</th>\n",
              "      <td>202</td>\n",
              "      <td>3.7</td>\n",
              "      <td>0.701</td>\n",
              "      <td>2.5</td>\n",
              "      <td>10</td>\n",
              "      <td>21</td>\n",
              "      <td>260000</td>\n",
              "      <td>92</td>\n",
              "      <td>1600000</td>\n",
              "    </tr>\n",
              "    <tr>\n",
              "      <th>18</th>\n",
              "      <td>213</td>\n",
              "      <td>4.0</td>\n",
              "      <td>0.742</td>\n",
              "      <td>2.8</td>\n",
              "      <td>10</td>\n",
              "      <td>22</td>\n",
              "      <td>250000</td>\n",
              "      <td>80</td>\n",
              "      <td>1500000</td>\n",
              "    </tr>\n",
              "    <tr>\n",
              "      <th>7</th>\n",
              "      <td>257</td>\n",
              "      <td>3.8</td>\n",
              "      <td>0.833</td>\n",
              "      <td>3.0</td>\n",
              "      <td>10</td>\n",
              "      <td>22</td>\n",
              "      <td>250000</td>\n",
              "      <td>93</td>\n",
              "      <td>1800000</td>\n",
              "    </tr>\n",
              "    <tr>\n",
              "      <th>13</th>\n",
              "      <td>74</td>\n",
              "      <td>3.9</td>\n",
              "      <td>0.773</td>\n",
              "      <td>2.9</td>\n",
              "      <td>10</td>\n",
              "      <td>22</td>\n",
              "      <td>200000</td>\n",
              "      <td>30</td>\n",
              "      <td>400000</td>\n",
              "    </tr>\n",
              "    <tr>\n",
              "      <th>2</th>\n",
              "      <td>173</td>\n",
              "      <td>4.0</td>\n",
              "      <td>0.878</td>\n",
              "      <td>3.3</td>\n",
              "      <td>10</td>\n",
              "      <td>22</td>\n",
              "      <td>250000</td>\n",
              "      <td>56</td>\n",
              "      <td>1000000</td>\n",
              "    </tr>\n",
              "    <tr>\n",
              "      <th>14</th>\n",
              "      <td>62</td>\n",
              "      <td>3.9</td>\n",
              "      <td>0.773</td>\n",
              "      <td>2.9</td>\n",
              "      <td>10</td>\n",
              "      <td>22</td>\n",
              "      <td>200000</td>\n",
              "      <td>21</td>\n",
              "      <td>350000</td>\n",
              "    </tr>\n",
              "    <tr>\n",
              "      <th>16</th>\n",
              "      <td>113</td>\n",
              "      <td>4.0</td>\n",
              "      <td>0.742</td>\n",
              "      <td>2.8</td>\n",
              "      <td>10</td>\n",
              "      <td>22</td>\n",
              "      <td>250000</td>\n",
              "      <td>39</td>\n",
              "      <td>800000</td>\n",
              "    </tr>\n",
              "    <tr>\n",
              "      <th>17</th>\n",
              "      <td>141</td>\n",
              "      <td>4.0</td>\n",
              "      <td>0.742</td>\n",
              "      <td>2.8</td>\n",
              "      <td>10</td>\n",
              "      <td>22</td>\n",
              "      <td>250000</td>\n",
              "      <td>52</td>\n",
              "      <td>1000000</td>\n",
              "    </tr>\n",
              "    <tr>\n",
              "      <th>6</th>\n",
              "      <td>97</td>\n",
              "      <td>4.2</td>\n",
              "      <td>0.859</td>\n",
              "      <td>3.4</td>\n",
              "      <td>10</td>\n",
              "      <td>22</td>\n",
              "      <td>250000</td>\n",
              "      <td>35</td>\n",
              "      <td>600000</td>\n",
              "    </tr>\n",
              "    <tr>\n",
              "      <th>20</th>\n",
              "      <td>91</td>\n",
              "      <td>3.7</td>\n",
              "      <td>0.758</td>\n",
              "      <td>2.7</td>\n",
              "      <td>10</td>\n",
              "      <td>22</td>\n",
              "      <td>220000</td>\n",
              "      <td>35</td>\n",
              "      <td>550000</td>\n",
              "    </tr>\n",
              "  </tbody>\n",
              "</table>\n",
              "</div>\n",
              "      <button class=\"colab-df-convert\" onclick=\"convertToInteractive('df-cc15f36e-8d15-4e2a-89d2-b722615ddf8a')\"\n",
              "              title=\"Convert this dataframe to an interactive table.\"\n",
              "              style=\"display:none;\">\n",
              "        \n",
              "  <svg xmlns=\"http://www.w3.org/2000/svg\" height=\"24px\"viewBox=\"0 0 24 24\"\n",
              "       width=\"24px\">\n",
              "    <path d=\"M0 0h24v24H0V0z\" fill=\"none\"/>\n",
              "    <path d=\"M18.56 5.44l.94 2.06.94-2.06 2.06-.94-2.06-.94-.94-2.06-.94 2.06-2.06.94zm-11 1L8.5 8.5l.94-2.06 2.06-.94-2.06-.94L8.5 2.5l-.94 2.06-2.06.94zm10 10l.94 2.06.94-2.06 2.06-.94-2.06-.94-.94-2.06-.94 2.06-2.06.94z\"/><path d=\"M17.41 7.96l-1.37-1.37c-.4-.4-.92-.59-1.43-.59-.52 0-1.04.2-1.43.59L10.3 9.45l-7.72 7.72c-.78.78-.78 2.05 0 2.83L4 21.41c.39.39.9.59 1.41.59.51 0 1.02-.2 1.41-.59l7.78-7.78 2.81-2.81c.8-.78.8-2.07 0-2.86zM5.41 20L4 18.59l7.72-7.72 1.47 1.35L5.41 20z\"/>\n",
              "  </svg>\n",
              "      </button>\n",
              "      \n",
              "  <style>\n",
              "    .colab-df-container {\n",
              "      display:flex;\n",
              "      flex-wrap:wrap;\n",
              "      gap: 12px;\n",
              "    }\n",
              "\n",
              "    .colab-df-convert {\n",
              "      background-color: #E8F0FE;\n",
              "      border: none;\n",
              "      border-radius: 50%;\n",
              "      cursor: pointer;\n",
              "      display: none;\n",
              "      fill: #1967D2;\n",
              "      height: 32px;\n",
              "      padding: 0 0 0 0;\n",
              "      width: 32px;\n",
              "    }\n",
              "\n",
              "    .colab-df-convert:hover {\n",
              "      background-color: #E2EBFA;\n",
              "      box-shadow: 0px 1px 2px rgba(60, 64, 67, 0.3), 0px 1px 3px 1px rgba(60, 64, 67, 0.15);\n",
              "      fill: #174EA6;\n",
              "    }\n",
              "\n",
              "    [theme=dark] .colab-df-convert {\n",
              "      background-color: #3B4455;\n",
              "      fill: #D2E3FC;\n",
              "    }\n",
              "\n",
              "    [theme=dark] .colab-df-convert:hover {\n",
              "      background-color: #434B5C;\n",
              "      box-shadow: 0px 1px 3px 1px rgba(0, 0, 0, 0.15);\n",
              "      filter: drop-shadow(0px 1px 2px rgba(0, 0, 0, 0.3));\n",
              "      fill: #FFFFFF;\n",
              "    }\n",
              "  </style>\n",
              "\n",
              "      <script>\n",
              "        const buttonEl =\n",
              "          document.querySelector('#df-cc15f36e-8d15-4e2a-89d2-b722615ddf8a button.colab-df-convert');\n",
              "        buttonEl.style.display =\n",
              "          google.colab.kernel.accessAllowed ? 'block' : 'none';\n",
              "\n",
              "        async function convertToInteractive(key) {\n",
              "          const element = document.querySelector('#df-cc15f36e-8d15-4e2a-89d2-b722615ddf8a');\n",
              "          const dataTable =\n",
              "            await google.colab.kernel.invokeFunction('convertToInteractive',\n",
              "                                                     [key], {});\n",
              "          if (!dataTable) return;\n",
              "\n",
              "          const docLinkHtml = 'Like what you see? Visit the ' +\n",
              "            '<a target=\"_blank\" href=https://colab.research.google.com/notebooks/data_table.ipynb>data table notebook</a>'\n",
              "            + ' to learn more about interactive tables.';\n",
              "          element.innerHTML = '';\n",
              "          dataTable['output_type'] = 'display_data';\n",
              "          await google.colab.output.renderOutput(dataTable, element);\n",
              "          const docLink = document.createElement('div');\n",
              "          docLink.innerHTML = docLinkHtml;\n",
              "          element.appendChild(docLink);\n",
              "        }\n",
              "      </script>\n",
              "    </div>\n",
              "  </div>\n",
              "  "
            ]
          },
          "metadata": {},
          "execution_count": 180
        }
      ],
      "source": [
        "dff_train"
      ]
    },
    {
      "cell_type": "code",
      "execution_count": 181,
      "metadata": {
        "id": "_HoZwGwPj816"
      },
      "outputs": [],
      "source": [
        "X_test = dff_val.iloc[:,0:8].values\n",
        "y_test = dff_val.iloc[:-1].values\n",
        "\n",
        "# len(X_test)\n",
        "# len(y_test)\n"
      ]
    },
    {
      "cell_type": "code",
      "execution_count": 182,
      "metadata": {
        "id": "oial23drkpAX",
        "colab": {
          "base_uri": "https://localhost:8080/",
          "height": 333
        },
        "outputId": "3a787178-d9e5-454e-c8a4-7193f215ed85"
      },
      "outputs": [
        {
          "output_type": "execute_result",
          "data": {
            "text/plain": [
              "    Effort   Vi      D    V  Sprint_Size  Work_days  Team_Salary  Act_Time  \\\n",
              "2      173  4.0  0.878  3.3           10         22       250000        56   \n",
              "6       97  4.2  0.859  3.4           10         22       250000        35   \n",
              "1      202  3.7  0.701  2.5           10         21       260000        92   \n",
              "6       97  4.2  0.859  3.4           10         22       250000        35   \n",
              "6       97  4.2  0.859  3.4           10         22       250000        35   \n",
              "13      74  3.9  0.773  2.9           10         22       200000        30   \n",
              "2      173  4.0  0.878  3.3           10         22       250000        56   \n",
              "\n",
              "    Actual_Cost  \n",
              "2       1000000  \n",
              "6        600000  \n",
              "1       1600000  \n",
              "6        600000  \n",
              "6        600000  \n",
              "13       400000  \n",
              "2       1000000  "
            ],
            "text/html": [
              "\n",
              "  <div id=\"df-68d3b9a5-3a98-45f3-b17f-e6b6a56a553f\">\n",
              "    <div class=\"colab-df-container\">\n",
              "      <div>\n",
              "<style scoped>\n",
              "    .dataframe tbody tr th:only-of-type {\n",
              "        vertical-align: middle;\n",
              "    }\n",
              "\n",
              "    .dataframe tbody tr th {\n",
              "        vertical-align: top;\n",
              "    }\n",
              "\n",
              "    .dataframe thead th {\n",
              "        text-align: right;\n",
              "    }\n",
              "</style>\n",
              "<table border=\"1\" class=\"dataframe\">\n",
              "  <thead>\n",
              "    <tr style=\"text-align: right;\">\n",
              "      <th></th>\n",
              "      <th>Effort</th>\n",
              "      <th>Vi</th>\n",
              "      <th>D</th>\n",
              "      <th>V</th>\n",
              "      <th>Sprint_Size</th>\n",
              "      <th>Work_days</th>\n",
              "      <th>Team_Salary</th>\n",
              "      <th>Act_Time</th>\n",
              "      <th>Actual_Cost</th>\n",
              "    </tr>\n",
              "  </thead>\n",
              "  <tbody>\n",
              "    <tr>\n",
              "      <th>2</th>\n",
              "      <td>173</td>\n",
              "      <td>4.0</td>\n",
              "      <td>0.878</td>\n",
              "      <td>3.3</td>\n",
              "      <td>10</td>\n",
              "      <td>22</td>\n",
              "      <td>250000</td>\n",
              "      <td>56</td>\n",
              "      <td>1000000</td>\n",
              "    </tr>\n",
              "    <tr>\n",
              "      <th>6</th>\n",
              "      <td>97</td>\n",
              "      <td>4.2</td>\n",
              "      <td>0.859</td>\n",
              "      <td>3.4</td>\n",
              "      <td>10</td>\n",
              "      <td>22</td>\n",
              "      <td>250000</td>\n",
              "      <td>35</td>\n",
              "      <td>600000</td>\n",
              "    </tr>\n",
              "    <tr>\n",
              "      <th>1</th>\n",
              "      <td>202</td>\n",
              "      <td>3.7</td>\n",
              "      <td>0.701</td>\n",
              "      <td>2.5</td>\n",
              "      <td>10</td>\n",
              "      <td>21</td>\n",
              "      <td>260000</td>\n",
              "      <td>92</td>\n",
              "      <td>1600000</td>\n",
              "    </tr>\n",
              "    <tr>\n",
              "      <th>6</th>\n",
              "      <td>97</td>\n",
              "      <td>4.2</td>\n",
              "      <td>0.859</td>\n",
              "      <td>3.4</td>\n",
              "      <td>10</td>\n",
              "      <td>22</td>\n",
              "      <td>250000</td>\n",
              "      <td>35</td>\n",
              "      <td>600000</td>\n",
              "    </tr>\n",
              "    <tr>\n",
              "      <th>6</th>\n",
              "      <td>97</td>\n",
              "      <td>4.2</td>\n",
              "      <td>0.859</td>\n",
              "      <td>3.4</td>\n",
              "      <td>10</td>\n",
              "      <td>22</td>\n",
              "      <td>250000</td>\n",
              "      <td>35</td>\n",
              "      <td>600000</td>\n",
              "    </tr>\n",
              "    <tr>\n",
              "      <th>13</th>\n",
              "      <td>74</td>\n",
              "      <td>3.9</td>\n",
              "      <td>0.773</td>\n",
              "      <td>2.9</td>\n",
              "      <td>10</td>\n",
              "      <td>22</td>\n",
              "      <td>200000</td>\n",
              "      <td>30</td>\n",
              "      <td>400000</td>\n",
              "    </tr>\n",
              "    <tr>\n",
              "      <th>2</th>\n",
              "      <td>173</td>\n",
              "      <td>4.0</td>\n",
              "      <td>0.878</td>\n",
              "      <td>3.3</td>\n",
              "      <td>10</td>\n",
              "      <td>22</td>\n",
              "      <td>250000</td>\n",
              "      <td>56</td>\n",
              "      <td>1000000</td>\n",
              "    </tr>\n",
              "  </tbody>\n",
              "</table>\n",
              "</div>\n",
              "      <button class=\"colab-df-convert\" onclick=\"convertToInteractive('df-68d3b9a5-3a98-45f3-b17f-e6b6a56a553f')\"\n",
              "              title=\"Convert this dataframe to an interactive table.\"\n",
              "              style=\"display:none;\">\n",
              "        \n",
              "  <svg xmlns=\"http://www.w3.org/2000/svg\" height=\"24px\"viewBox=\"0 0 24 24\"\n",
              "       width=\"24px\">\n",
              "    <path d=\"M0 0h24v24H0V0z\" fill=\"none\"/>\n",
              "    <path d=\"M18.56 5.44l.94 2.06.94-2.06 2.06-.94-2.06-.94-.94-2.06-.94 2.06-2.06.94zm-11 1L8.5 8.5l.94-2.06 2.06-.94-2.06-.94L8.5 2.5l-.94 2.06-2.06.94zm10 10l.94 2.06.94-2.06 2.06-.94-2.06-.94-.94-2.06-.94 2.06-2.06.94z\"/><path d=\"M17.41 7.96l-1.37-1.37c-.4-.4-.92-.59-1.43-.59-.52 0-1.04.2-1.43.59L10.3 9.45l-7.72 7.72c-.78.78-.78 2.05 0 2.83L4 21.41c.39.39.9.59 1.41.59.51 0 1.02-.2 1.41-.59l7.78-7.78 2.81-2.81c.8-.78.8-2.07 0-2.86zM5.41 20L4 18.59l7.72-7.72 1.47 1.35L5.41 20z\"/>\n",
              "  </svg>\n",
              "      </button>\n",
              "      \n",
              "  <style>\n",
              "    .colab-df-container {\n",
              "      display:flex;\n",
              "      flex-wrap:wrap;\n",
              "      gap: 12px;\n",
              "    }\n",
              "\n",
              "    .colab-df-convert {\n",
              "      background-color: #E8F0FE;\n",
              "      border: none;\n",
              "      border-radius: 50%;\n",
              "      cursor: pointer;\n",
              "      display: none;\n",
              "      fill: #1967D2;\n",
              "      height: 32px;\n",
              "      padding: 0 0 0 0;\n",
              "      width: 32px;\n",
              "    }\n",
              "\n",
              "    .colab-df-convert:hover {\n",
              "      background-color: #E2EBFA;\n",
              "      box-shadow: 0px 1px 2px rgba(60, 64, 67, 0.3), 0px 1px 3px 1px rgba(60, 64, 67, 0.15);\n",
              "      fill: #174EA6;\n",
              "    }\n",
              "\n",
              "    [theme=dark] .colab-df-convert {\n",
              "      background-color: #3B4455;\n",
              "      fill: #D2E3FC;\n",
              "    }\n",
              "\n",
              "    [theme=dark] .colab-df-convert:hover {\n",
              "      background-color: #434B5C;\n",
              "      box-shadow: 0px 1px 3px 1px rgba(0, 0, 0, 0.15);\n",
              "      filter: drop-shadow(0px 1px 2px rgba(0, 0, 0, 0.3));\n",
              "      fill: #FFFFFF;\n",
              "    }\n",
              "  </style>\n",
              "\n",
              "      <script>\n",
              "        const buttonEl =\n",
              "          document.querySelector('#df-68d3b9a5-3a98-45f3-b17f-e6b6a56a553f button.colab-df-convert');\n",
              "        buttonEl.style.display =\n",
              "          google.colab.kernel.accessAllowed ? 'block' : 'none';\n",
              "\n",
              "        async function convertToInteractive(key) {\n",
              "          const element = document.querySelector('#df-68d3b9a5-3a98-45f3-b17f-e6b6a56a553f');\n",
              "          const dataTable =\n",
              "            await google.colab.kernel.invokeFunction('convertToInteractive',\n",
              "                                                     [key], {});\n",
              "          if (!dataTable) return;\n",
              "\n",
              "          const docLinkHtml = 'Like what you see? Visit the ' +\n",
              "            '<a target=\"_blank\" href=https://colab.research.google.com/notebooks/data_table.ipynb>data table notebook</a>'\n",
              "            + ' to learn more about interactive tables.';\n",
              "          element.innerHTML = '';\n",
              "          dataTable['output_type'] = 'display_data';\n",
              "          await google.colab.output.renderOutput(dataTable, element);\n",
              "          const docLink = document.createElement('div');\n",
              "          docLink.innerHTML = docLinkHtml;\n",
              "          element.appendChild(docLink);\n",
              "        }\n",
              "      </script>\n",
              "    </div>\n",
              "  </div>\n",
              "  "
            ]
          },
          "metadata": {},
          "execution_count": 182
        }
      ],
      "source": [
        "#@title Bagging with 3 Decision Trees \n",
        "df_bag = dff_train.sample(7,replace=True) \n",
        "\n",
        "X= df_bag.iloc[:,0:8]\n",
        "\n",
        "Y= df_bag.iloc[:,-1]\n",
        "\n",
        "df_bag"
      ]
    },
    {
      "cell_type": "code",
      "execution_count": 183,
      "metadata": {
        "id": "BcYTZC5-y_d7",
        "colab": {
          "base_uri": "https://localhost:8080/",
          "height": 269
        },
        "outputId": "89168e21-6e93-4a56-d5d2-fc6142a32ce5"
      },
      "outputs": [
        {
          "output_type": "execute_result",
          "data": {
            "text/plain": [
              "    Effort   Vi      D    V  Sprint_Size  Work_days  Team_Salary  Act_Time\n",
              "2      173  4.0  0.878  3.3           10         22       250000        56\n",
              "6       97  4.2  0.859  3.4           10         22       250000        35\n",
              "1      202  3.7  0.701  2.5           10         21       260000        92\n",
              "6       97  4.2  0.859  3.4           10         22       250000        35\n",
              "6       97  4.2  0.859  3.4           10         22       250000        35\n",
              "13      74  3.9  0.773  2.9           10         22       200000        30\n",
              "2      173  4.0  0.878  3.3           10         22       250000        56"
            ],
            "text/html": [
              "\n",
              "  <div id=\"df-46a3f13d-4a3e-4ea3-9a0c-4270fec810f9\">\n",
              "    <div class=\"colab-df-container\">\n",
              "      <div>\n",
              "<style scoped>\n",
              "    .dataframe tbody tr th:only-of-type {\n",
              "        vertical-align: middle;\n",
              "    }\n",
              "\n",
              "    .dataframe tbody tr th {\n",
              "        vertical-align: top;\n",
              "    }\n",
              "\n",
              "    .dataframe thead th {\n",
              "        text-align: right;\n",
              "    }\n",
              "</style>\n",
              "<table border=\"1\" class=\"dataframe\">\n",
              "  <thead>\n",
              "    <tr style=\"text-align: right;\">\n",
              "      <th></th>\n",
              "      <th>Effort</th>\n",
              "      <th>Vi</th>\n",
              "      <th>D</th>\n",
              "      <th>V</th>\n",
              "      <th>Sprint_Size</th>\n",
              "      <th>Work_days</th>\n",
              "      <th>Team_Salary</th>\n",
              "      <th>Act_Time</th>\n",
              "    </tr>\n",
              "  </thead>\n",
              "  <tbody>\n",
              "    <tr>\n",
              "      <th>2</th>\n",
              "      <td>173</td>\n",
              "      <td>4.0</td>\n",
              "      <td>0.878</td>\n",
              "      <td>3.3</td>\n",
              "      <td>10</td>\n",
              "      <td>22</td>\n",
              "      <td>250000</td>\n",
              "      <td>56</td>\n",
              "    </tr>\n",
              "    <tr>\n",
              "      <th>6</th>\n",
              "      <td>97</td>\n",
              "      <td>4.2</td>\n",
              "      <td>0.859</td>\n",
              "      <td>3.4</td>\n",
              "      <td>10</td>\n",
              "      <td>22</td>\n",
              "      <td>250000</td>\n",
              "      <td>35</td>\n",
              "    </tr>\n",
              "    <tr>\n",
              "      <th>1</th>\n",
              "      <td>202</td>\n",
              "      <td>3.7</td>\n",
              "      <td>0.701</td>\n",
              "      <td>2.5</td>\n",
              "      <td>10</td>\n",
              "      <td>21</td>\n",
              "      <td>260000</td>\n",
              "      <td>92</td>\n",
              "    </tr>\n",
              "    <tr>\n",
              "      <th>6</th>\n",
              "      <td>97</td>\n",
              "      <td>4.2</td>\n",
              "      <td>0.859</td>\n",
              "      <td>3.4</td>\n",
              "      <td>10</td>\n",
              "      <td>22</td>\n",
              "      <td>250000</td>\n",
              "      <td>35</td>\n",
              "    </tr>\n",
              "    <tr>\n",
              "      <th>6</th>\n",
              "      <td>97</td>\n",
              "      <td>4.2</td>\n",
              "      <td>0.859</td>\n",
              "      <td>3.4</td>\n",
              "      <td>10</td>\n",
              "      <td>22</td>\n",
              "      <td>250000</td>\n",
              "      <td>35</td>\n",
              "    </tr>\n",
              "    <tr>\n",
              "      <th>13</th>\n",
              "      <td>74</td>\n",
              "      <td>3.9</td>\n",
              "      <td>0.773</td>\n",
              "      <td>2.9</td>\n",
              "      <td>10</td>\n",
              "      <td>22</td>\n",
              "      <td>200000</td>\n",
              "      <td>30</td>\n",
              "    </tr>\n",
              "    <tr>\n",
              "      <th>2</th>\n",
              "      <td>173</td>\n",
              "      <td>4.0</td>\n",
              "      <td>0.878</td>\n",
              "      <td>3.3</td>\n",
              "      <td>10</td>\n",
              "      <td>22</td>\n",
              "      <td>250000</td>\n",
              "      <td>56</td>\n",
              "    </tr>\n",
              "  </tbody>\n",
              "</table>\n",
              "</div>\n",
              "      <button class=\"colab-df-convert\" onclick=\"convertToInteractive('df-46a3f13d-4a3e-4ea3-9a0c-4270fec810f9')\"\n",
              "              title=\"Convert this dataframe to an interactive table.\"\n",
              "              style=\"display:none;\">\n",
              "        \n",
              "  <svg xmlns=\"http://www.w3.org/2000/svg\" height=\"24px\"viewBox=\"0 0 24 24\"\n",
              "       width=\"24px\">\n",
              "    <path d=\"M0 0h24v24H0V0z\" fill=\"none\"/>\n",
              "    <path d=\"M18.56 5.44l.94 2.06.94-2.06 2.06-.94-2.06-.94-.94-2.06-.94 2.06-2.06.94zm-11 1L8.5 8.5l.94-2.06 2.06-.94-2.06-.94L8.5 2.5l-.94 2.06-2.06.94zm10 10l.94 2.06.94-2.06 2.06-.94-2.06-.94-.94-2.06-.94 2.06-2.06.94z\"/><path d=\"M17.41 7.96l-1.37-1.37c-.4-.4-.92-.59-1.43-.59-.52 0-1.04.2-1.43.59L10.3 9.45l-7.72 7.72c-.78.78-.78 2.05 0 2.83L4 21.41c.39.39.9.59 1.41.59.51 0 1.02-.2 1.41-.59l7.78-7.78 2.81-2.81c.8-.78.8-2.07 0-2.86zM5.41 20L4 18.59l7.72-7.72 1.47 1.35L5.41 20z\"/>\n",
              "  </svg>\n",
              "      </button>\n",
              "      \n",
              "  <style>\n",
              "    .colab-df-container {\n",
              "      display:flex;\n",
              "      flex-wrap:wrap;\n",
              "      gap: 12px;\n",
              "    }\n",
              "\n",
              "    .colab-df-convert {\n",
              "      background-color: #E8F0FE;\n",
              "      border: none;\n",
              "      border-radius: 50%;\n",
              "      cursor: pointer;\n",
              "      display: none;\n",
              "      fill: #1967D2;\n",
              "      height: 32px;\n",
              "      padding: 0 0 0 0;\n",
              "      width: 32px;\n",
              "    }\n",
              "\n",
              "    .colab-df-convert:hover {\n",
              "      background-color: #E2EBFA;\n",
              "      box-shadow: 0px 1px 2px rgba(60, 64, 67, 0.3), 0px 1px 3px 1px rgba(60, 64, 67, 0.15);\n",
              "      fill: #174EA6;\n",
              "    }\n",
              "\n",
              "    [theme=dark] .colab-df-convert {\n",
              "      background-color: #3B4455;\n",
              "      fill: #D2E3FC;\n",
              "    }\n",
              "\n",
              "    [theme=dark] .colab-df-convert:hover {\n",
              "      background-color: #434B5C;\n",
              "      box-shadow: 0px 1px 3px 1px rgba(0, 0, 0, 0.15);\n",
              "      filter: drop-shadow(0px 1px 2px rgba(0, 0, 0, 0.3));\n",
              "      fill: #FFFFFF;\n",
              "    }\n",
              "  </style>\n",
              "\n",
              "      <script>\n",
              "        const buttonEl =\n",
              "          document.querySelector('#df-46a3f13d-4a3e-4ea3-9a0c-4270fec810f9 button.colab-df-convert');\n",
              "        buttonEl.style.display =\n",
              "          google.colab.kernel.accessAllowed ? 'block' : 'none';\n",
              "\n",
              "        async function convertToInteractive(key) {\n",
              "          const element = document.querySelector('#df-46a3f13d-4a3e-4ea3-9a0c-4270fec810f9');\n",
              "          const dataTable =\n",
              "            await google.colab.kernel.invokeFunction('convertToInteractive',\n",
              "                                                     [key], {});\n",
              "          if (!dataTable) return;\n",
              "\n",
              "          const docLinkHtml = 'Like what you see? Visit the ' +\n",
              "            '<a target=\"_blank\" href=https://colab.research.google.com/notebooks/data_table.ipynb>data table notebook</a>'\n",
              "            + ' to learn more about interactive tables.';\n",
              "          element.innerHTML = '';\n",
              "          dataTable['output_type'] = 'display_data';\n",
              "          await google.colab.output.renderOutput(dataTable, element);\n",
              "          const docLink = document.createElement('div');\n",
              "          docLink.innerHTML = docLinkHtml;\n",
              "          element.appendChild(docLink);\n",
              "        }\n",
              "      </script>\n",
              "    </div>\n",
              "  </div>\n",
              "  "
            ]
          },
          "metadata": {},
          "execution_count": 183
        }
      ],
      "source": [
        "X"
      ]
    },
    {
      "cell_type": "code",
      "execution_count": 184,
      "metadata": {
        "id": "mjdDe75ml46b"
      },
      "outputs": [],
      "source": [
        "from sklearn.tree import DecisionTreeRegressor\n",
        "from sklearn.tree import DecisionTreeClassifier\n",
        "from sklearn.tree import plot_tree\n",
        "from mlxtend.plotting import plot_decision_regions\n",
        "from sklearn.metrics import accuracy_score "
      ]
    },
    {
      "cell_type": "code",
      "execution_count": 185,
      "metadata": {
        "id": "n_06AXV_oawg"
      },
      "outputs": [],
      "source": [
        "def evaluate(clf,X,Y):\n",
        "  clf.fit(X,Y)\n",
        "  plot_tree(clf)\n",
        "  plt.show()\n",
        "  # plot_decision_regions(X.values,Y.values, clf=clf , legend=2)\n",
        "  y_pred=clf.predict(X_test)\n",
        "  y_pred\n",
        "  #print(accuracy_score(y_test,y_pred))"
      ]
    },
    {
      "cell_type": "code",
      "execution_count": 186,
      "metadata": {
        "id": "BlxoP7gMmuxr"
      },
      "outputs": [],
      "source": [
        "#@title Default title text\n",
        "dt_bag1 = DecisionTreeRegressor()\n",
        "dt_bag11 = DecisionTreeClassifier()\n",
        "#"
      ]
    },
    {
      "cell_type": "markdown",
      "metadata": {
        "id": "vxwyFQWQnEcd"
      },
      "source": [
        "We're adding out Bag 1 to make a low bias and high variance model"
      ]
    },
    {
      "cell_type": "code",
      "execution_count": 187,
      "metadata": {
        "id": "0xXx5b46m3CM",
        "colab": {
          "base_uri": "https://localhost:8080/",
          "height": 399
        },
        "outputId": "f685ef97-41d5-443d-cc2c-116fc0917721"
      },
      "outputs": [
        {
          "output_type": "display_data",
          "data": {
            "text/plain": [
              "<Figure size 1000x600 with 1 Axes>"
            ],
            "image/png": "[encoded data removed]"
          },
          "metadata": {}
        }
      ],
      "source": [
        "# Decision tree Classifier \n",
        "\n",
        "evaluate(dt_bag11,X,Y)"
      ]
    },
    {
      "cell_type": "code",
      "execution_count": 188,
      "metadata": {
        "id": "a1rdMS3F17dB"
      },
      "outputs": [],
      "source": [
        "#accuracy_score(y_pred,y_test)"
      ]
    },
    {
      "cell_type": "code",
      "execution_count": 189,
      "metadata": {
        "id": "s_2ybwGqpj7_",
        "colab": {
          "base_uri": "https://localhost:8080/",
          "height": 399
        },
        "outputId": "3c047d6a-c764-40eb-b2a1-9ca9cd2b36bd"
      },
      "outputs": [
        {
          "output_type": "display_data",
          "data": {
            "text/plain": [
              "<Figure size 1000x600 with 1 Axes>"
            ],
            "image/png": "[encoded data removed]"
          },
          "metadata": {}
        }
      ],
      "source": [
        "evaluate(dt_bag1,X,Y)"
      ]
    },
    {
      "cell_type": "code",
      "execution_count": 190,
      "metadata": {
        "id": "cbSgefmQq9VA",
        "colab": {
          "base_uri": "https://localhost:8080/",
          "height": 333
        },
        "outputId": "7490149f-bf28-4be7-a597-fd0bc4457338"
      },
      "outputs": [
        {
          "output_type": "execute_result",
          "data": {
            "text/plain": [
              "    Effort   Vi      D    V  Sprint_Size  Work_days  Team_Salary  Act_Time  \\\n",
              "13      74  3.9  0.773  2.9           10         22       200000        30   \n",
              "17     141  4.0  0.742  2.8           10         22       250000        52   \n",
              "18     213  4.0  0.742  2.8           10         22       250000        80   \n",
              "1      202  3.7  0.701  2.5           10         21       260000        92   \n",
              "7      257  3.8  0.833  3.0           10         22       250000        93   \n",
              "20      91  3.7  0.758  2.7           10         22       220000        35   \n",
              "17     141  4.0  0.742  2.8           10         22       250000        52   \n",
              "\n",
              "    Actual_Cost  \n",
              "13       400000  \n",
              "17      1000000  \n",
              "18      1500000  \n",
              "1       1600000  \n",
              "7       1800000  \n",
              "20       550000  \n",
              "17      1000000  "
            ],
            "text/html": [
              "\n",
              "  <div id=\"df-db041ade-830a-4cd2-b8fe-6b88bd4f31b5\">\n",
              "    <div class=\"colab-df-container\">\n",
              "      <div>\n",
              "<style scoped>\n",
              "    .dataframe tbody tr th:only-of-type {\n",
              "        vertical-align: middle;\n",
              "    }\n",
              "\n",
              "    .dataframe tbody tr th {\n",
              "        vertical-align: top;\n",
              "    }\n",
              "\n",
              "    .dataframe thead th {\n",
              "        text-align: right;\n",
              "    }\n",
              "</style>\n",
              "<table border=\"1\" class=\"dataframe\">\n",
              "  <thead>\n",
              "    <tr style=\"text-align: right;\">\n",
              "      <th></th>\n",
              "      <th>Effort</th>\n",
              "      <th>Vi</th>\n",
              "      <th>D</th>\n",
              "      <th>V</th>\n",
              "      <th>Sprint_Size</th>\n",
              "      <th>Work_days</th>\n",
              "      <th>Team_Salary</th>\n",
              "      <th>Act_Time</th>\n",
              "      <th>Actual_Cost</th>\n",
              "    </tr>\n",
              "  </thead>\n",
              "  <tbody>\n",
              "    <tr>\n",
              "      <th>13</th>\n",
              "      <td>74</td>\n",
              "      <td>3.9</td>\n",
              "      <td>0.773</td>\n",
              "      <td>2.9</td>\n",
              "      <td>10</td>\n",
              "      <td>22</td>\n",
              "      <td>200000</td>\n",
              "      <td>30</td>\n",
              "      <td>400000</td>\n",
              "    </tr>\n",
              "    <tr>\n",
              "      <th>17</th>\n",
              "      <td>141</td>\n",
              "      <td>4.0</td>\n",
              "      <td>0.742</td>\n",
              "      <td>2.8</td>\n",
              "      <td>10</td>\n",
              "      <td>22</td>\n",
              "      <td>250000</td>\n",
              "      <td>52</td>\n",
              "      <td>1000000</td>\n",
              "    </tr>\n",
              "    <tr>\n",
              "      <th>18</th>\n",
              "      <td>213</td>\n",
              "      <td>4.0</td>\n",
              "      <td>0.742</td>\n",
              "      <td>2.8</td>\n",
              "      <td>10</td>\n",
              "      <td>22</td>\n",
              "      <td>250000</td>\n",
              "      <td>80</td>\n",
              "      <td>1500000</td>\n",
              "    </tr>\n",
              "    <tr>\n",
              "      <th>1</th>\n",
              "      <td>202</td>\n",
              "      <td>3.7</td>\n",
              "      <td>0.701</td>\n",
              "      <td>2.5</td>\n",
              "      <td>10</td>\n",
              "      <td>21</td>\n",
              "      <td>260000</td>\n",
              "      <td>92</td>\n",
              "      <td>1600000</td>\n",
              "    </tr>\n",
              "    <tr>\n",
              "      <th>7</th>\n",
              "      <td>257</td>\n",
              "      <td>3.8</td>\n",
              "      <td>0.833</td>\n",
              "      <td>3.0</td>\n",
              "      <td>10</td>\n",
              "      <td>22</td>\n",
              "      <td>250000</td>\n",
              "      <td>93</td>\n",
              "      <td>1800000</td>\n",
              "    </tr>\n",
              "    <tr>\n",
              "      <th>20</th>\n",
              "      <td>91</td>\n",
              "      <td>3.7</td>\n",
              "      <td>0.758</td>\n",
              "      <td>2.7</td>\n",
              "      <td>10</td>\n",
              "      <td>22</td>\n",
              "      <td>220000</td>\n",
              "      <td>35</td>\n",
              "      <td>550000</td>\n",
              "    </tr>\n",
              "    <tr>\n",
              "      <th>17</th>\n",
              "      <td>141</td>\n",
              "      <td>4.0</td>\n",
              "      <td>0.742</td>\n",
              "      <td>2.8</td>\n",
              "      <td>10</td>\n",
              "      <td>22</td>\n",
              "      <td>250000</td>\n",
              "      <td>52</td>\n",
              "      <td>1000000</td>\n",
              "    </tr>\n",
              "  </tbody>\n",
              "</table>\n",
              "</div>\n",
              "      <button class=\"colab-df-convert\" onclick=\"convertToInteractive('df-db041ade-830a-4cd2-b8fe-6b88bd4f31b5')\"\n",
              "              title=\"Convert this dataframe to an interactive table.\"\n",
              "              style=\"display:none;\">\n",
              "        \n",
              "  <svg xmlns=\"http://www.w3.org/2000/svg\" height=\"24px\"viewBox=\"0 0 24 24\"\n",
              "       width=\"24px\">\n",
              "    <path d=\"M0 0h24v24H0V0z\" fill=\"none\"/>\n",
              "    <path d=\"M18.56 5.44l.94 2.06.94-2.06 2.06-.94-2.06-.94-.94-2.06-.94 2.06-2.06.94zm-11 1L8.5 8.5l.94-2.06 2.06-.94-2.06-.94L8.5 2.5l-.94 2.06-2.06.94zm10 10l.94 2.06.94-2.06 2.06-.94-2.06-.94-.94-2.06-.94 2.06-2.06.94z\"/><path d=\"M17.41 7.96l-1.37-1.37c-.4-.4-.92-.59-1.43-.59-.52 0-1.04.2-1.43.59L10.3 9.45l-7.72 7.72c-.78.78-.78 2.05 0 2.83L4 21.41c.39.39.9.59 1.41.59.51 0 1.02-.2 1.41-.59l7.78-7.78 2.81-2.81c.8-.78.8-2.07 0-2.86zM5.41 20L4 18.59l7.72-7.72 1.47 1.35L5.41 20z\"/>\n",
              "  </svg>\n",
              "      </button>\n",
              "      \n",
              "  <style>\n",
              "    .colab-df-container {\n",
              "      display:flex;\n",
              "      flex-wrap:wrap;\n",
              "      gap: 12px;\n",
              "    }\n",
              "\n",
              "    .colab-df-convert {\n",
              "      background-color: #E8F0FE;\n",
              "      border: none;\n",
              "      border-radius: 50%;\n",
              "      cursor: pointer;\n",
              "      display: none;\n",
              "      fill: #1967D2;\n",
              "      height: 32px;\n",
              "      padding: 0 0 0 0;\n",
              "      width: 32px;\n",
              "    }\n",
              "\n",
              "    .colab-df-convert:hover {\n",
              "      background-color: #E2EBFA;\n",
              "      box-shadow: 0px 1px 2px rgba(60, 64, 67, 0.3), 0px 1px 3px 1px rgba(60, 64, 67, 0.15);\n",
              "      fill: #174EA6;\n",
              "    }\n",
              "\n",
              "    [theme=dark] .colab-df-convert {\n",
              "      background-color: #3B4455;\n",
              "      fill: #D2E3FC;\n",
              "    }\n",
              "\n",
              "    [theme=dark] .colab-df-convert:hover {\n",
              "      background-color: #434B5C;\n",
              "      box-shadow: 0px 1px 3px 1px rgba(0, 0, 0, 0.15);\n",
              "      filter: drop-shadow(0px 1px 2px rgba(0, 0, 0, 0.3));\n",
              "      fill: #FFFFFF;\n",
              "    }\n",
              "  </style>\n",
              "\n",
              "      <script>\n",
              "        const buttonEl =\n",
              "          document.querySelector('#df-db041ade-830a-4cd2-b8fe-6b88bd4f31b5 button.colab-df-convert');\n",
              "        buttonEl.style.display =\n",
              "          google.colab.kernel.accessAllowed ? 'block' : 'none';\n",
              "\n",
              "        async function convertToInteractive(key) {\n",
              "          const element = document.querySelector('#df-db041ade-830a-4cd2-b8fe-6b88bd4f31b5');\n",
              "          const dataTable =\n",
              "            await google.colab.kernel.invokeFunction('convertToInteractive',\n",
              "                                                     [key], {});\n",
              "          if (!dataTable) return;\n",
              "\n",
              "          const docLinkHtml = 'Like what you see? Visit the ' +\n",
              "            '<a target=\"_blank\" href=https://colab.research.google.com/notebooks/data_table.ipynb>data table notebook</a>'\n",
              "            + ' to learn more about interactive tables.';\n",
              "          element.innerHTML = '';\n",
              "          dataTable['output_type'] = 'display_data';\n",
              "          await google.colab.output.renderOutput(dataTable, element);\n",
              "          const docLink = document.createElement('div');\n",
              "          docLink.innerHTML = docLinkHtml;\n",
              "          element.appendChild(docLink);\n",
              "        }\n",
              "      </script>\n",
              "    </div>\n",
              "  </div>\n",
              "  "
            ]
          },
          "metadata": {},
          "execution_count": 190
        }
      ],
      "source": [
        "#@title Bagging with 3 Decision Trees \n",
        "df_bag = dff_train.sample(7,replace=True) \n",
        "\n",
        "X= df_bag.iloc[:,0:8]\n",
        "Y= df_bag.iloc[:,-1]\n",
        "\n",
        "df_bag"
      ]
    },
    {
      "cell_type": "code",
      "execution_count": 191,
      "metadata": {
        "id": "VZG666BRrmhX",
        "colab": {
          "base_uri": "https://localhost:8080/",
          "height": 269
        },
        "outputId": "e04f58b8-27eb-48b7-f285-31b5d9db307f"
      },
      "outputs": [
        {
          "output_type": "execute_result",
          "data": {
            "text/plain": [
              "    Effort   Vi      D    V  Sprint_Size  Work_days  Team_Salary  Act_Time\n",
              "13      74  3.9  0.773  2.9           10         22       200000        30\n",
              "17     141  4.0  0.742  2.8           10         22       250000        52\n",
              "18     213  4.0  0.742  2.8           10         22       250000        80\n",
              "1      202  3.7  0.701  2.5           10         21       260000        92\n",
              "7      257  3.8  0.833  3.0           10         22       250000        93\n",
              "20      91  3.7  0.758  2.7           10         22       220000        35\n",
              "17     141  4.0  0.742  2.8           10         22       250000        52"
            ],
            "text/html": [
              "\n",
              "  <div id=\"df-5c19e8f7-226e-42e5-a6cd-34de5417834e\">\n",
              "    <div class=\"colab-df-container\">\n",
              "      <div>\n",
              "<style scoped>\n",
              "    .dataframe tbody tr th:only-of-type {\n",
              "        vertical-align: middle;\n",
              "    }\n",
              "\n",
              "    .dataframe tbody tr th {\n",
              "        vertical-align: top;\n",
              "    }\n",
              "\n",
              "    .dataframe thead th {\n",
              "        text-align: right;\n",
              "    }\n",
              "</style>\n",
              "<table border=\"1\" class=\"dataframe\">\n",
              "  <thead>\n",
              "    <tr style=\"text-align: right;\">\n",
              "      <th></th>\n",
              "      <th>Effort</th>\n",
              "      <th>Vi</th>\n",
              "      <th>D</th>\n",
              "      <th>V</th>\n",
              "      <th>Sprint_Size</th>\n",
              "      <th>Work_days</th>\n",
              "      <th>Team_Salary</th>\n",
              "      <th>Act_Time</th>\n",
              "    </tr>\n",
              "  </thead>\n",
              "  <tbody>\n",
              "    <tr>\n",
              "      <th>13</th>\n",
              "      <td>74</td>\n",
              "      <td>3.9</td>\n",
              "      <td>0.773</td>\n",
              "      <td>2.9</td>\n",
              "      <td>10</td>\n",
              "      <td>22</td>\n",
              "      <td>200000</td>\n",
              "      <td>30</td>\n",
              "    </tr>\n",
              "    <tr>\n",
              "      <th>17</th>\n",
              "      <td>141</td>\n",
              "      <td>4.0</td>\n",
              "      <td>0.742</td>\n",
              "      <td>2.8</td>\n",
              "      <td>10</td>\n",
              "      <td>22</td>\n",
              "      <td>250000</td>\n",
              "      <td>52</td>\n",
              "    </tr>\n",
              "    <tr>\n",
              "      <th>18</th>\n",
              "      <td>213</td>\n",
              "      <td>4.0</td>\n",
              "      <td>0.742</td>\n",
              "      <td>2.8</td>\n",
              "      <td>10</td>\n",
              "      <td>22</td>\n",
              "      <td>250000</td>\n",
              "      <td>80</td>\n",
              "    </tr>\n",
              "    <tr>\n",
              "      <th>1</th>\n",
              "      <td>202</td>\n",
              "      <td>3.7</td>\n",
              "      <td>0.701</td>\n",
              "      <td>2.5</td>\n",
              "      <td>10</td>\n",
              "      <td>21</td>\n",
              "      <td>260000</td>\n",
              "      <td>92</td>\n",
              "    </tr>\n",
              "    <tr>\n",
              "      <th>7</th>\n",
              "      <td>257</td>\n",
              "      <td>3.8</td>\n",
              "      <td>0.833</td>\n",
              "      <td>3.0</td>\n",
              "      <td>10</td>\n",
              "      <td>22</td>\n",
              "      <td>250000</td>\n",
              "      <td>93</td>\n",
              "    </tr>\n",
              "    <tr>\n",
              "      <th>20</th>\n",
              "      <td>91</td>\n",
              "      <td>3.7</td>\n",
              "      <td>0.758</td>\n",
              "      <td>2.7</td>\n",
              "      <td>10</td>\n",
              "      <td>22</td>\n",
              "      <td>220000</td>\n",
              "      <td>35</td>\n",
              "    </tr>\n",
              "    <tr>\n",
              "      <th>17</th>\n",
              "      <td>141</td>\n",
              "      <td>4.0</td>\n",
              "      <td>0.742</td>\n",
              "      <td>2.8</td>\n",
              "      <td>10</td>\n",
              "      <td>22</td>\n",
              "      <td>250000</td>\n",
              "      <td>52</td>\n",
              "    </tr>\n",
              "  </tbody>\n",
              "</table>\n",
              "</div>\n",
              "      <button class=\"colab-df-convert\" onclick=\"convertToInteractive('df-5c19e8f7-226e-42e5-a6cd-34de5417834e')\"\n",
              "              title=\"Convert this dataframe to an interactive table.\"\n",
              "              style=\"display:none;\">\n",
              "        \n",
              "  <svg xmlns=\"http://www.w3.org/2000/svg\" height=\"24px\"viewBox=\"0 0 24 24\"\n",
              "       width=\"24px\">\n",
              "    <path d=\"M0 0h24v24H0V0z\" fill=\"none\"/>\n",
              "    <path d=\"M18.56 5.44l.94 2.06.94-2.06 2.06-.94-2.06-.94-.94-2.06-.94 2.06-2.06.94zm-11 1L8.5 8.5l.94-2.06 2.06-.94-2.06-.94L8.5 2.5l-.94 2.06-2.06.94zm10 10l.94 2.06.94-2.06 2.06-.94-2.06-.94-.94-2.06-.94 2.06-2.06.94z\"/><path d=\"M17.41 7.96l-1.37-1.37c-.4-.4-.92-.59-1.43-.59-.52 0-1.04.2-1.43.59L10.3 9.45l-7.72 7.72c-.78.78-.78 2.05 0 2.83L4 21.41c.39.39.9.59 1.41.59.51 0 1.02-.2 1.41-.59l7.78-7.78 2.81-2.81c.8-.78.8-2.07 0-2.86zM5.41 20L4 18.59l7.72-7.72 1.47 1.35L5.41 20z\"/>\n",
              "  </svg>\n",
              "      </button>\n",
              "      \n",
              "  <style>\n",
              "    .colab-df-container {\n",
              "      display:flex;\n",
              "      flex-wrap:wrap;\n",
              "      gap: 12px;\n",
              "    }\n",
              "\n",
              "    .colab-df-convert {\n",
              "      background-color: #E8F0FE;\n",
              "      border: none;\n",
              "      border-radius: 50%;\n",
              "      cursor: pointer;\n",
              "      display: none;\n",
              "      fill: #1967D2;\n",
              "      height: 32px;\n",
              "      padding: 0 0 0 0;\n",
              "      width: 32px;\n",
              "    }\n",
              "\n",
              "    .colab-df-convert:hover {\n",
              "      background-color: #E2EBFA;\n",
              "      box-shadow: 0px 1px 2px rgba(60, 64, 67, 0.3), 0px 1px 3px 1px rgba(60, 64, 67, 0.15);\n",
              "      fill: #174EA6;\n",
              "    }\n",
              "\n",
              "    [theme=dark] .colab-df-convert {\n",
              "      background-color: #3B4455;\n",
              "      fill: #D2E3FC;\n",
              "    }\n",
              "\n",
              "    [theme=dark] .colab-df-convert:hover {\n",
              "      background-color: #434B5C;\n",
              "      box-shadow: 0px 1px 3px 1px rgba(0, 0, 0, 0.15);\n",
              "      filter: drop-shadow(0px 1px 2px rgba(0, 0, 0, 0.3));\n",
              "      fill: #FFFFFF;\n",
              "    }\n",
              "  </style>\n",
              "\n",
              "      <script>\n",
              "        const buttonEl =\n",
              "          document.querySelector('#df-5c19e8f7-226e-42e5-a6cd-34de5417834e button.colab-df-convert');\n",
              "        buttonEl.style.display =\n",
              "          google.colab.kernel.accessAllowed ? 'block' : 'none';\n",
              "\n",
              "        async function convertToInteractive(key) {\n",
              "          const element = document.querySelector('#df-5c19e8f7-226e-42e5-a6cd-34de5417834e');\n",
              "          const dataTable =\n",
              "            await google.colab.kernel.invokeFunction('convertToInteractive',\n",
              "                                                     [key], {});\n",
              "          if (!dataTable) return;\n",
              "\n",
              "          const docLinkHtml = 'Like what you see? Visit the ' +\n",
              "            '<a target=\"_blank\" href=https://colab.research.google.com/notebooks/data_table.ipynb>data table notebook</a>'\n",
              "            + ' to learn more about interactive tables.';\n",
              "          element.innerHTML = '';\n",
              "          dataTable['output_type'] = 'display_data';\n",
              "          await google.colab.output.renderOutput(dataTable, element);\n",
              "          const docLink = document.createElement('div');\n",
              "          docLink.innerHTML = docLinkHtml;\n",
              "          element.appendChild(docLink);\n",
              "        }\n",
              "      </script>\n",
              "    </div>\n",
              "  </div>\n",
              "  "
            ]
          },
          "metadata": {},
          "execution_count": 191
        }
      ],
      "source": [
        "X"
      ]
    },
    {
      "cell_type": "code",
      "execution_count": 192,
      "metadata": {
        "id": "IJV28Clot9bt",
        "colab": {
          "base_uri": "https://localhost:8080/",
          "height": 333
        },
        "outputId": "fe5890dd-e362-48e1-8774-61ebd6ff1ad5"
      },
      "outputs": [
        {
          "output_type": "execute_result",
          "data": {
            "text/plain": [
              "    Effort   Vi      D    V  Sprint_Size  Work_days  Team_Salary  Act_Time  \\\n",
              "13      74  3.9  0.773  2.9           10         22       200000        30   \n",
              "17     141  4.0  0.742  2.8           10         22       250000        52   \n",
              "18     213  4.0  0.742  2.8           10         22       250000        80   \n",
              "1      202  3.7  0.701  2.5           10         21       260000        92   \n",
              "7      257  3.8  0.833  3.0           10         22       250000        93   \n",
              "20      91  3.7  0.758  2.7           10         22       220000        35   \n",
              "17     141  4.0  0.742  2.8           10         22       250000        52   \n",
              "\n",
              "    Actual_Cost  \n",
              "13       400000  \n",
              "17      1000000  \n",
              "18      1500000  \n",
              "1       1600000  \n",
              "7       1800000  \n",
              "20       550000  \n",
              "17      1000000  "
            ],
            "text/html": [
              "\n",
              "  <div id=\"df-66bee31d-cad4-423c-99f5-5f6aa5cc6609\">\n",
              "    <div class=\"colab-df-container\">\n",
              "      <div>\n",
              "<style scoped>\n",
              "    .dataframe tbody tr th:only-of-type {\n",
              "        vertical-align: middle;\n",
              "    }\n",
              "\n",
              "    .dataframe tbody tr th {\n",
              "        vertical-align: top;\n",
              "    }\n",
              "\n",
              "    .dataframe thead th {\n",
              "        text-align: right;\n",
              "    }\n",
              "</style>\n",
              "<table border=\"1\" class=\"dataframe\">\n",
              "  <thead>\n",
              "    <tr style=\"text-align: right;\">\n",
              "      <th></th>\n",
              "      <th>Effort</th>\n",
              "      <th>Vi</th>\n",
              "      <th>D</th>\n",
              "      <th>V</th>\n",
              "      <th>Sprint_Size</th>\n",
              "      <th>Work_days</th>\n",
              "      <th>Team_Salary</th>\n",
              "      <th>Act_Time</th>\n",
              "      <th>Actual_Cost</th>\n",
              "    </tr>\n",
              "  </thead>\n",
              "  <tbody>\n",
              "    <tr>\n",
              "      <th>13</th>\n",
              "      <td>74</td>\n",
              "      <td>3.9</td>\n",
              "      <td>0.773</td>\n",
              "      <td>2.9</td>\n",
              "      <td>10</td>\n",
              "      <td>22</td>\n",
              "      <td>200000</td>\n",
              "      <td>30</td>\n",
              "      <td>400000</td>\n",
              "    </tr>\n",
              "    <tr>\n",
              "      <th>17</th>\n",
              "      <td>141</td>\n",
              "      <td>4.0</td>\n",
              "      <td>0.742</td>\n",
              "      <td>2.8</td>\n",
              "      <td>10</td>\n",
              "      <td>22</td>\n",
              "      <td>250000</td>\n",
              "      <td>52</td>\n",
              "      <td>1000000</td>\n",
              "    </tr>\n",
              "    <tr>\n",
              "      <th>18</th>\n",
              "      <td>213</td>\n",
              "      <td>4.0</td>\n",
              "      <td>0.742</td>\n",
              "      <td>2.8</td>\n",
              "      <td>10</td>\n",
              "      <td>22</td>\n",
              "      <td>250000</td>\n",
              "      <td>80</td>\n",
              "      <td>1500000</td>\n",
              "    </tr>\n",
              "    <tr>\n",
              "      <th>1</th>\n",
              "      <td>202</td>\n",
              "      <td>3.7</td>\n",
              "      <td>0.701</td>\n",
              "      <td>2.5</td>\n",
              "      <td>10</td>\n",
              "      <td>21</td>\n",
              "      <td>260000</td>\n",
              "      <td>92</td>\n",
              "      <td>1600000</td>\n",
              "    </tr>\n",
              "    <tr>\n",
              "      <th>7</th>\n",
              "      <td>257</td>\n",
              "      <td>3.8</td>\n",
              "      <td>0.833</td>\n",
              "      <td>3.0</td>\n",
              "      <td>10</td>\n",
              "      <td>22</td>\n",
              "      <td>250000</td>\n",
              "      <td>93</td>\n",
              "      <td>1800000</td>\n",
              "    </tr>\n",
              "    <tr>\n",
              "      <th>20</th>\n",
              "      <td>91</td>\n",
              "      <td>3.7</td>\n",
              "      <td>0.758</td>\n",
              "      <td>2.7</td>\n",
              "      <td>10</td>\n",
              "      <td>22</td>\n",
              "      <td>220000</td>\n",
              "      <td>35</td>\n",
              "      <td>550000</td>\n",
              "    </tr>\n",
              "    <tr>\n",
              "      <th>17</th>\n",
              "      <td>141</td>\n",
              "      <td>4.0</td>\n",
              "      <td>0.742</td>\n",
              "      <td>2.8</td>\n",
              "      <td>10</td>\n",
              "      <td>22</td>\n",
              "      <td>250000</td>\n",
              "      <td>52</td>\n",
              "      <td>1000000</td>\n",
              "    </tr>\n",
              "  </tbody>\n",
              "</table>\n",
              "</div>\n",
              "      <button class=\"colab-df-convert\" onclick=\"convertToInteractive('df-66bee31d-cad4-423c-99f5-5f6aa5cc6609')\"\n",
              "              title=\"Convert this dataframe to an interactive table.\"\n",
              "              style=\"display:none;\">\n",
              "        \n",
              "  <svg xmlns=\"http://www.w3.org/2000/svg\" height=\"24px\"viewBox=\"0 0 24 24\"\n",
              "       width=\"24px\">\n",
              "    <path d=\"M0 0h24v24H0V0z\" fill=\"none\"/>\n",
              "    <path d=\"M18.56 5.44l.94 2.06.94-2.06 2.06-.94-2.06-.94-.94-2.06-.94 2.06-2.06.94zm-11 1L8.5 8.5l.94-2.06 2.06-.94-2.06-.94L8.5 2.5l-.94 2.06-2.06.94zm10 10l.94 2.06.94-2.06 2.06-.94-2.06-.94-.94-2.06-.94 2.06-2.06.94z\"/><path d=\"M17.41 7.96l-1.37-1.37c-.4-.4-.92-.59-1.43-.59-.52 0-1.04.2-1.43.59L10.3 9.45l-7.72 7.72c-.78.78-.78 2.05 0 2.83L4 21.41c.39.39.9.59 1.41.59.51 0 1.02-.2 1.41-.59l7.78-7.78 2.81-2.81c.8-.78.8-2.07 0-2.86zM5.41 20L4 18.59l7.72-7.72 1.47 1.35L5.41 20z\"/>\n",
              "  </svg>\n",
              "      </button>\n",
              "      \n",
              "  <style>\n",
              "    .colab-df-container {\n",
              "      display:flex;\n",
              "      flex-wrap:wrap;\n",
              "      gap: 12px;\n",
              "    }\n",
              "\n",
              "    .colab-df-convert {\n",
              "      background-color: #E8F0FE;\n",
              "      border: none;\n",
              "      border-radius: 50%;\n",
              "      cursor: pointer;\n",
              "      display: none;\n",
              "      fill: #1967D2;\n",
              "      height: 32px;\n",
              "      padding: 0 0 0 0;\n",
              "      width: 32px;\n",
              "    }\n",
              "\n",
              "    .colab-df-convert:hover {\n",
              "      background-color: #E2EBFA;\n",
              "      box-shadow: 0px 1px 2px rgba(60, 64, 67, 0.3), 0px 1px 3px 1px rgba(60, 64, 67, 0.15);\n",
              "      fill: #174EA6;\n",
              "    }\n",
              "\n",
              "    [theme=dark] .colab-df-convert {\n",
              "      background-color: #3B4455;\n",
              "      fill: #D2E3FC;\n",
              "    }\n",
              "\n",
              "    [theme=dark] .colab-df-convert:hover {\n",
              "      background-color: #434B5C;\n",
              "      box-shadow: 0px 1px 3px 1px rgba(0, 0, 0, 0.15);\n",
              "      filter: drop-shadow(0px 1px 2px rgba(0, 0, 0, 0.3));\n",
              "      fill: #FFFFFF;\n",
              "    }\n",
              "  </style>\n",
              "\n",
              "      <script>\n",
              "        const buttonEl =\n",
              "          document.querySelector('#df-66bee31d-cad4-423c-99f5-5f6aa5cc6609 button.colab-df-convert');\n",
              "        buttonEl.style.display =\n",
              "          google.colab.kernel.accessAllowed ? 'block' : 'none';\n",
              "\n",
              "        async function convertToInteractive(key) {\n",
              "          const element = document.querySelector('#df-66bee31d-cad4-423c-99f5-5f6aa5cc6609');\n",
              "          const dataTable =\n",
              "            await google.colab.kernel.invokeFunction('convertToInteractive',\n",
              "                                                     [key], {});\n",
              "          if (!dataTable) return;\n",
              "\n",
              "          const docLinkHtml = 'Like what you see? Visit the ' +\n",
              "            '<a target=\"_blank\" href=https://colab.research.google.com/notebooks/data_table.ipynb>data table notebook</a>'\n",
              "            + ' to learn more about interactive tables.';\n",
              "          element.innerHTML = '';\n",
              "          dataTable['output_type'] = 'display_data';\n",
              "          await google.colab.output.renderOutput(dataTable, element);\n",
              "          const docLink = document.createElement('div');\n",
              "          docLink.innerHTML = docLinkHtml;\n",
              "          element.appendChild(docLink);\n",
              "        }\n",
              "      </script>\n",
              "    </div>\n",
              "  </div>\n",
              "  "
            ]
          },
          "metadata": {},
          "execution_count": 192
        }
      ],
      "source": [
        "#@title Bagging with 3 Decision Trees 2nd Bag\n",
        "df_bag2 = dff_train.sample(7,replace=True) \n",
        "\n",
        "X= df_bag2.iloc[:,0:8]\n",
        "Y= df_bag2.iloc[:,-1]\n",
        "\n",
        "df_bag"
      ]
    },
    {
      "cell_type": "code",
      "execution_count": 193,
      "metadata": {
        "id": "dyEyItLDtDcI",
        "colab": {
          "base_uri": "https://localhost:8080/",
          "height": 399
        },
        "outputId": "d185ed06-b2e5-49a4-8bfa-076ee06c83c9"
      },
      "outputs": [
        {
          "output_type": "display_data",
          "data": {
            "text/plain": [
              "<Figure size 1000x600 with 1 Axes>"
            ],
            "image/png": "[encoded data removed]"
          },
          "metadata": {}
        }
      ],
      "source": [
        "dt_bag2 = DecisionTreeRegressor()\n",
        "evaluate(dt_bag2,X,Y)"
      ]
    },
    {
      "cell_type": "code",
      "execution_count": 194,
      "metadata": {
        "id": "RvzAo2NWtY84",
        "colab": {
          "base_uri": "https://localhost:8080/",
          "height": 399
        },
        "outputId": "0881fd6c-f5d0-45f5-b5f7-81f26017e328"
      },
      "outputs": [
        {
          "output_type": "display_data",
          "data": {
            "text/plain": [
              "<Figure size 1000x600 with 1 Axes>"
            ],
            "image/png": "[encoded data removed]"
          },
          "metadata": {}
        }
      ],
      "source": [
        "dt_bag22 = DecisionTreeClassifier()\n",
        "evaluate(dt_bag22,X,Y)"
      ]
    },
    {
      "cell_type": "code",
      "execution_count": 195,
      "metadata": {
        "id": "qj-OW-dTu2-V",
        "colab": {
          "base_uri": "https://localhost:8080/",
          "height": 333
        },
        "outputId": "ddbed54a-8598-4439-f05d-f89a6a7cb799"
      },
      "outputs": [
        {
          "output_type": "execute_result",
          "data": {
            "text/plain": [
              "    Effort   Vi      D    V  Sprint_Size  Work_days  Team_Salary  Act_Time  \\\n",
              "1      202  3.7  0.701  2.5           10         21       260000        92   \n",
              "13      74  3.9  0.773  2.9           10         22       200000        30   \n",
              "6       97  4.2  0.859  3.4           10         22       250000        35   \n",
              "13      74  3.9  0.773  2.9           10         22       200000        30   \n",
              "1      202  3.7  0.701  2.5           10         21       260000        92   \n",
              "16     113  4.0  0.742  2.8           10         22       250000        39   \n",
              "17     141  4.0  0.742  2.8           10         22       250000        52   \n",
              "\n",
              "    Actual_Cost  \n",
              "1       1600000  \n",
              "13       400000  \n",
              "6        600000  \n",
              "13       400000  \n",
              "1       1600000  \n",
              "16       800000  \n",
              "17      1000000  "
            ],
            "text/html": [
              "\n",
              "  <div id=\"df-c2bc251e-d5d5-4cf7-b507-78e81f35ffcf\">\n",
              "    <div class=\"colab-df-container\">\n",
              "      <div>\n",
              "<style scoped>\n",
              "    .dataframe tbody tr th:only-of-type {\n",
              "        vertical-align: middle;\n",
              "    }\n",
              "\n",
              "    .dataframe tbody tr th {\n",
              "        vertical-align: top;\n",
              "    }\n",
              "\n",
              "    .dataframe thead th {\n",
              "        text-align: right;\n",
              "    }\n",
              "</style>\n",
              "<table border=\"1\" class=\"dataframe\">\n",
              "  <thead>\n",
              "    <tr style=\"text-align: right;\">\n",
              "      <th></th>\n",
              "      <th>Effort</th>\n",
              "      <th>Vi</th>\n",
              "      <th>D</th>\n",
              "      <th>V</th>\n",
              "      <th>Sprint_Size</th>\n",
              "      <th>Work_days</th>\n",
              "      <th>Team_Salary</th>\n",
              "      <th>Act_Time</th>\n",
              "      <th>Actual_Cost</th>\n",
              "    </tr>\n",
              "  </thead>\n",
              "  <tbody>\n",
              "    <tr>\n",
              "      <th>1</th>\n",
              "      <td>202</td>\n",
              "      <td>3.7</td>\n",
              "      <td>0.701</td>\n",
              "      <td>2.5</td>\n",
              "      <td>10</td>\n",
              "      <td>21</td>\n",
              "      <td>260000</td>\n",
              "      <td>92</td>\n",
              "      <td>1600000</td>\n",
              "    </tr>\n",
              "    <tr>\n",
              "      <th>13</th>\n",
              "      <td>74</td>\n",
              "      <td>3.9</td>\n",
              "      <td>0.773</td>\n",
              "      <td>2.9</td>\n",
              "      <td>10</td>\n",
              "      <td>22</td>\n",
              "      <td>200000</td>\n",
              "      <td>30</td>\n",
              "      <td>400000</td>\n",
              "    </tr>\n",
              "    <tr>\n",
              "      <th>6</th>\n",
              "      <td>97</td>\n",
              "      <td>4.2</td>\n",
              "      <td>0.859</td>\n",
              "      <td>3.4</td>\n",
              "      <td>10</td>\n",
              "      <td>22</td>\n",
              "      <td>250000</td>\n",
              "      <td>35</td>\n",
              "      <td>600000</td>\n",
              "    </tr>\n",
              "    <tr>\n",
              "      <th>13</th>\n",
              "      <td>74</td>\n",
              "      <td>3.9</td>\n",
              "      <td>0.773</td>\n",
              "      <td>2.9</td>\n",
              "      <td>10</td>\n",
              "      <td>22</td>\n",
              "      <td>200000</td>\n",
              "      <td>30</td>\n",
              "      <td>400000</td>\n",
              "    </tr>\n",
              "    <tr>\n",
              "      <th>1</th>\n",
              "      <td>202</td>\n",
              "      <td>3.7</td>\n",
              "      <td>0.701</td>\n",
              "      <td>2.5</td>\n",
              "      <td>10</td>\n",
              "      <td>21</td>\n",
              "      <td>260000</td>\n",
              "      <td>92</td>\n",
              "      <td>1600000</td>\n",
              "    </tr>\n",
              "    <tr>\n",
              "      <th>16</th>\n",
              "      <td>113</td>\n",
              "      <td>4.0</td>\n",
              "      <td>0.742</td>\n",
              "      <td>2.8</td>\n",
              "      <td>10</td>\n",
              "      <td>22</td>\n",
              "      <td>250000</td>\n",
              "      <td>39</td>\n",
              "      <td>800000</td>\n",
              "    </tr>\n",
              "    <tr>\n",
              "      <th>17</th>\n",
              "      <td>141</td>\n",
              "      <td>4.0</td>\n",
              "      <td>0.742</td>\n",
              "      <td>2.8</td>\n",
              "      <td>10</td>\n",
              "      <td>22</td>\n",
              "      <td>250000</td>\n",
              "      <td>52</td>\n",
              "      <td>1000000</td>\n",
              "    </tr>\n",
              "  </tbody>\n",
              "</table>\n",
              "</div>\n",
              "      <button class=\"colab-df-convert\" onclick=\"convertToInteractive('df-c2bc251e-d5d5-4cf7-b507-78e81f35ffcf')\"\n",
              "              title=\"Convert this dataframe to an interactive table.\"\n",
              "              style=\"display:none;\">\n",
              "        \n",
              "  <svg xmlns=\"http://www.w3.org/2000/svg\" height=\"24px\"viewBox=\"0 0 24 24\"\n",
              "       width=\"24px\">\n",
              "    <path d=\"M0 0h24v24H0V0z\" fill=\"none\"/>\n",
              "    <path d=\"M18.56 5.44l.94 2.06.94-2.06 2.06-.94-2.06-.94-.94-2.06-.94 2.06-2.06.94zm-11 1L8.5 8.5l.94-2.06 2.06-.94-2.06-.94L8.5 2.5l-.94 2.06-2.06.94zm10 10l.94 2.06.94-2.06 2.06-.94-2.06-.94-.94-2.06-.94 2.06-2.06.94z\"/><path d=\"M17.41 7.96l-1.37-1.37c-.4-.4-.92-.59-1.43-.59-.52 0-1.04.2-1.43.59L10.3 9.45l-7.72 7.72c-.78.78-.78 2.05 0 2.83L4 21.41c.39.39.9.59 1.41.59.51 0 1.02-.2 1.41-.59l7.78-7.78 2.81-2.81c.8-.78.8-2.07 0-2.86zM5.41 20L4 18.59l7.72-7.72 1.47 1.35L5.41 20z\"/>\n",
              "  </svg>\n",
              "      </button>\n",
              "      \n",
              "  <style>\n",
              "    .colab-df-container {\n",
              "      display:flex;\n",
              "      flex-wrap:wrap;\n",
              "      gap: 12px;\n",
              "    }\n",
              "\n",
              "    .colab-df-convert {\n",
              "      background-color: #E8F0FE;\n",
              "      border: none;\n",
              "      border-radius: 50%;\n",
              "      cursor: pointer;\n",
              "      display: none;\n",
              "      fill: #1967D2;\n",
              "      height: 32px;\n",
              "      padding: 0 0 0 0;\n",
              "      width: 32px;\n",
              "    }\n",
              "\n",
              "    .colab-df-convert:hover {\n",
              "      background-color: #E2EBFA;\n",
              "      box-shadow: 0px 1px 2px rgba(60, 64, 67, 0.3), 0px 1px 3px 1px rgba(60, 64, 67, 0.15);\n",
              "      fill: #174EA6;\n",
              "    }\n",
              "\n",
              "    [theme=dark] .colab-df-convert {\n",
              "      background-color: #3B4455;\n",
              "      fill: #D2E3FC;\n",
              "    }\n",
              "\n",
              "    [theme=dark] .colab-df-convert:hover {\n",
              "      background-color: #434B5C;\n",
              "      box-shadow: 0px 1px 3px 1px rgba(0, 0, 0, 0.15);\n",
              "      filter: drop-shadow(0px 1px 2px rgba(0, 0, 0, 0.3));\n",
              "      fill: #FFFFFF;\n",
              "    }\n",
              "  </style>\n",
              "\n",
              "      <script>\n",
              "        const buttonEl =\n",
              "          document.querySelector('#df-c2bc251e-d5d5-4cf7-b507-78e81f35ffcf button.colab-df-convert');\n",
              "        buttonEl.style.display =\n",
              "          google.colab.kernel.accessAllowed ? 'block' : 'none';\n",
              "\n",
              "        async function convertToInteractive(key) {\n",
              "          const element = document.querySelector('#df-c2bc251e-d5d5-4cf7-b507-78e81f35ffcf');\n",
              "          const dataTable =\n",
              "            await google.colab.kernel.invokeFunction('convertToInteractive',\n",
              "                                                     [key], {});\n",
              "          if (!dataTable) return;\n",
              "\n",
              "          const docLinkHtml = 'Like what you see? Visit the ' +\n",
              "            '<a target=\"_blank\" href=https://colab.research.google.com/notebooks/data_table.ipynb>data table notebook</a>'\n",
              "            + ' to learn more about interactive tables.';\n",
              "          element.innerHTML = '';\n",
              "          dataTable['output_type'] = 'display_data';\n",
              "          await google.colab.output.renderOutput(dataTable, element);\n",
              "          const docLink = document.createElement('div');\n",
              "          docLink.innerHTML = docLinkHtml;\n",
              "          element.appendChild(docLink);\n",
              "        }\n",
              "      </script>\n",
              "    </div>\n",
              "  </div>\n",
              "  "
            ]
          },
          "metadata": {},
          "execution_count": 195
        }
      ],
      "source": [
        "#@title Bagging with 3 Decision Trees 3rd Bag\n",
        "df_bag3 = dff_train.sample(7,replace=True) \n",
        "\n",
        "X= df_bag3.iloc[:,0:8]\n",
        "Y= df_bag3.iloc[:,-1]\n",
        "\n",
        "df_bag3"
      ]
    },
    {
      "cell_type": "code",
      "execution_count": 196,
      "metadata": {
        "id": "vUDDZqeoxeU2",
        "colab": {
          "base_uri": "https://localhost:8080/",
          "height": 399
        },
        "outputId": "c1d8ee37-bc0e-400f-9ecd-bbc53a189e61"
      },
      "outputs": [
        {
          "output_type": "display_data",
          "data": {
            "text/plain": [
              "<Figure size 1000x600 with 1 Axes>"
            ],
            "image/png": "[encoded data removed]"
          },
          "metadata": {}
        }
      ],
      "source": [
        "df_bag3 = DecisionTreeRegressor()\n",
        "evaluate(df_bag3,X,Y)"
      ]
    },
    {
      "cell_type": "code",
      "source": [],
      "metadata": {
        "id": "eX6PUFOtTYh2"
      },
      "execution_count": 196,
      "outputs": []
    },
    {
      "cell_type": "code",
      "source": [
        "from sklearn.ensemble import BaggingRegressor\n",
        "X_train,X_test,Y_train,Y_test = train_test_split(Cat_1,Cat_2,test_size=0.25,random_state=0)\n",
        "\n",
        "# now printing the overall sizes of our splitted result\n",
        "print(\"Train / Test Sets sizes: \", x_train.shape,x_test.shape,y_train.shape,y_test.shape )"
      ],
      "metadata": {
        "colab": {
          "base_uri": "https://localhost:8080/"
        },
        "id": "xifizakcKb2U",
        "outputId": "30a73c54-5cd7-4924-b230-d038183c9195"
      },
      "execution_count": 197,
      "outputs": [
        {
          "output_type": "stream",
          "name": "stdout",
          "text": [
            "Train / Test Sets sizes:  (16, 7) (5, 7) (16,) (3, 9)\n"
          ]
        }
      ]
    },
    {
      "cell_type": "code",
      "source": [
        "%%time\n",
        "\n",
        "# n_samples = data_read.data.shape[0]\n",
        "# n_features = data_read.data.shape[1]\n",
        "\n",
        "params = {'base_estimator': [None, df_bag3,df_bag2,df_bag],\n",
        "          'n_estimators': [10,15,21],\n",
        "          'max_samples': [0.25,0.5],\n",
        "          'max_features': [0.5,1.0],\n",
        "          'bootstrap': [True, False],\n",
        "          'bootstrap_features': [True, False]}\n",
        "\n",
        "bagging_regressor_grid = GridSearchCV(BaggingRegressor(random_state=1, n_jobs=-1), param_grid =params, cv=2, n_jobs=-1, verbose=1)\n",
        "import warnings\n",
        "warnings.filterwarnings('ignore')\n",
        "bagging_regressor_grid.fit(X_train, Y_train)\n",
        "\n",
        "print('Train R^2 Score : %.3f'%bagging_regressor_grid.best_estimator_.score(X_train, Y_train))\n",
        "\n",
        "print('Overall R^2 Score : %.3f'%bagging_regressor_grid.best_estimator_.score(Cat_1,Cat_2))\n",
        "print('Best Parameters : ',bagging_regressor_grid.best_params_)\n",
        "\n",
        "\n",
        "     "
      ],
      "metadata": {
        "colab": {
          "base_uri": "https://localhost:8080/"
        },
        "id": "sX_23Msc9WKw",
        "outputId": "305d0075-fc2d-45f9-d082-eae247ea5148"
      },
      "execution_count": 198,
      "outputs": [
        {
          "output_type": "stream",
          "name": "stdout",
          "text": [
            "Fitting 2 folds for each of 192 candidates, totalling 384 fits\n",
            "Train R^2 Score : 0.891\n",
            "Overall R^2 Score : 0.902\n",
            "Best Parameters :  {'base_estimator': None, 'bootstrap': False, 'bootstrap_features': False, 'max_features': 0.5, 'max_samples': 0.5, 'n_estimators': 15}\n",
            "CPU times: user 378 ms, sys: 42.7 ms, total: 421 ms\n",
            "Wall time: 10.3 s\n"
          ]
        }
      ]
    },
    {
      "cell_type": "code",
      "source": [
        "result=bagging_regressor_grid.predict(Cat_1) \n",
        "result"
      ],
      "metadata": {
        "colab": {
          "base_uri": "https://localhost:8080/"
        },
        "id": "jh2Oph4T--ZG",
        "outputId": "b9da72dd-2488-46d5-b320-f3ab531034e1"
      },
      "execution_count": 199,
      "outputs": [
        {
          "output_type": "execute_result",
          "data": {
            "text/plain": [
              "array([1266666.66666667, 1461666.66666667, 1180000.        ,\n",
              "       2116666.66666667, 1310000.        , 2620000.        ,\n",
              "        836666.66666667, 1721666.66666667,  595000.        ,\n",
              "       1400000.        , 1016666.66666667,  608333.33333333,\n",
              "        581666.66666667,  535000.        ,  501666.66666667,\n",
              "       1816666.66666667,  806666.66666667, 1010000.        ,\n",
              "       1450000.        ,  921666.66666667,  691666.66666667])"
            ]
          },
          "metadata": {},
          "execution_count": 199
        }
      ]
    },
    {
      "cell_type": "code",
      "source": [
        "Y_test_pred_BAGGING= bagging_regressor_grid.predict(X_test)\n",
        "Y_train_pred_BAGGING= bagging_regressor_grid.predict(X_train)\n"
      ],
      "metadata": {
        "id": "DUvm2RuMLsEy"
      },
      "execution_count": 200,
      "outputs": []
    },
    {
      "cell_type": "code",
      "source": [
        "#@title Evaluation results  Ensemble Learning Bagging - With Our Hybrid Approach using GridSearchCV  On Multiple Decision Trees\n",
        "\n",
        "diff=np.absolute(Y_test-Y_test_pred_BAGGING)\n",
        "MRE=(diff/Y_test)/MRE.size\n",
        "MMRE=np.mean(MRE)\n",
        "MdMRE=np.median(MRE)\n",
        "P=MRE[MRE<.25]\n",
        "Pred=(P.size/MRE.size) * 100\n",
        "print(\"MMRE\",MMRE)\n",
        "print(\"MdMRE\",MdMRE)\n",
        "print(\"PRED 25%\",Pred)\n",
        "Accuracy=(1-MRE)*100\n",
        "Accuracy=(Accuracy.mean())\n",
        "# MRE=(diff/y_test)/MRE.size\n",
        "P2=MRE[MRE<MMRE]\n",
        "print(\"PRED MMRE\",Pred2)\n",
        "print(\"Model Accuracy\",Accuracy)"
      ],
      "metadata": {
        "colab": {
          "base_uri": "https://localhost:8080/"
        },
        "id": "8yLIHD0pAc-S",
        "outputId": "e678a381-93e4-4c41-8b8c-4089406451b7"
      },
      "execution_count": 201,
      "outputs": [
        {
          "output_type": "stream",
          "name": "stdout",
          "text": [
            "MMRE 0.04021566627816627\n",
            "MdMRE 0.044757575757575746\n",
            "PRED 25% 100.0\n",
            "PRED MMRE 60.0\n",
            "Model Accuracy 95.97843337218336\n"
          ]
        }
      ]
    },
    {
      "cell_type": "code",
      "execution_count": 202,
      "metadata": {
        "id": "TE0yf9V-0AOP"
      },
      "outputs": [],
      "source": [
        "#@title Using Ensemble Technique 1st set of Algorithms\n",
        "\n",
        "# 1\n",
        "from sklearn.ensemble import BaggingRegressor\n",
        "\n"
      ]
    },
    {
      "cell_type": "code",
      "execution_count": 203,
      "metadata": {
        "id": "QSlz9RJL63J7",
        "colab": {
          "base_uri": "https://localhost:8080/"
        },
        "outputId": "e73f53f9-b030-4041-c58e-3e97374f2777"
      },
      "outputs": [
        {
          "output_type": "stream",
          "name": "stdout",
          "text": [
            "Train / Test Sets sizes:  (16, 7) (5, 7) (16,) (3, 9)\n"
          ]
        }
      ],
      "source": [
        "X_train,X_test,Y_train,Y_test = train_test_split(Cat_1,Cat_2,test_size=0.25,random_state=0)\n",
        "\n",
        "# now printing the overall sizes of our splitted result\n",
        "print(\"Train / Test Sets sizes: \", x_train.shape,x_test.shape,y_train.shape,y_test.shape )"
      ]
    },
    {
      "cell_type": "code",
      "execution_count": 204,
      "metadata": {
        "id": "Uo3dRzut7SU5"
      },
      "outputs": [],
      "source": [
        "lr = LinearRegression()\n",
        "dt = DecisionTreeRegressor()\n",
        "knn = KNeighborsRegressor()"
      ]
    },
    {
      "cell_type": "code",
      "execution_count": 205,
      "metadata": {
        "id": "Eh0jU5qiBGSg",
        "colab": {
          "base_uri": "https://localhost:8080/",
          "height": 75
        },
        "outputId": "d2a6c199-d0e2-4948-c2e8-b3e88c9df6a0"
      },
      "outputs": [
        {
          "output_type": "execute_result",
          "data": {
            "text/plain": [
              "KNeighborsRegressor()"
            ],
            "text/html": [
              "<style>#sk-container-id-5 {color: black;background-color: white;}#sk-container-id-5 pre{padding: 0;}#sk-container-id-5 div.sk-toggleable {background-color: white;}#sk-container-id-5 label.sk-toggleable__label {cursor: pointer;display: block;width: 100%;margin-bottom: 0;padding: 0.3em;box-sizing: border-box;text-align: center;}#sk-container-id-5 label.sk-toggleable__label-arrow:before {content: \"▸\";float: left;margin-right: 0.25em;color: #696969;}#sk-container-id-5 label.sk-toggleable__label-arrow:hover:before {color: black;}#sk-container-id-5 div.sk-estimator:hover label.sk-toggleable__label-arrow:before {color: black;}#sk-container-id-5 div.sk-toggleable__content {max-height: 0;max-width: 0;overflow: hidden;text-align: left;background-color: #f0f8ff;}#sk-container-id-5 div.sk-toggleable__content pre {margin: 0.2em;color: black;border-radius: 0.25em;background-color: #f0f8ff;}#sk-container-id-5 input.sk-toggleable__control:checked~div.sk-toggleable__content {max-height: 200px;max-width: 100%;overflow: auto;}#sk-container-id-5 input.sk-toggleable__control:checked~label.sk-toggleable__label-arrow:before {content: \"▾\";}#sk-container-id-5 div.sk-estimator input.sk-toggleable__control:checked~label.sk-toggleable__label {background-color: #d4ebff;}#sk-container-id-5 div.sk-label input.sk-toggleable__control:checked~label.sk-toggleable__label {background-color: #d4ebff;}#sk-container-id-5 input.sk-hidden--visually {border: 0;clip: rect(1px 1px 1px 1px);clip: rect(1px, 1px, 1px, 1px);height: 1px;margin: -1px;overflow: hidden;padding: 0;position: absolute;width: 1px;}#sk-container-id-5 div.sk-estimator {font-family: monospace;background-color: #f0f8ff;border: 1px dotted black;border-radius: 0.25em;box-sizing: border-box;margin-bottom: 0.5em;}#sk-container-id-5 div.sk-estimator:hover {background-color: #d4ebff;}#sk-container-id-5 div.sk-parallel-item::after {content: \"\";width: 100%;border-bottom: 1px solid gray;flex-grow: 1;}#sk-container-id-5 div.sk-label:hover label.sk-toggleable__label {background-color: #d4ebff;}#sk-container-id-5 div.sk-serial::before {content: \"\";position: absolute;border-left: 1px solid gray;box-sizing: border-box;top: 0;bottom: 0;left: 50%;z-index: 0;}#sk-container-id-5 div.sk-serial {display: flex;flex-direction: column;align-items: center;background-color: white;padding-right: 0.2em;padding-left: 0.2em;position: relative;}#sk-container-id-5 div.sk-item {position: relative;z-index: 1;}#sk-container-id-5 div.sk-parallel {display: flex;align-items: stretch;justify-content: center;background-color: white;position: relative;}#sk-container-id-5 div.sk-item::before, #sk-container-id-5 div.sk-parallel-item::before {content: \"\";position: absolute;border-left: 1px solid gray;box-sizing: border-box;top: 0;bottom: 0;left: 50%;z-index: -1;}#sk-container-id-5 div.sk-parallel-item {display: flex;flex-direction: column;z-index: 1;position: relative;background-color: white;}#sk-container-id-5 div.sk-parallel-item:first-child::after {align-self: flex-end;width: 50%;}#sk-container-id-5 div.sk-parallel-item:last-child::after {align-self: flex-start;width: 50%;}#sk-container-id-5 div.sk-parallel-item:only-child::after {width: 0;}#sk-container-id-5 div.sk-dashed-wrapped {border: 1px dashed gray;margin: 0 0.4em 0.5em 0.4em;box-sizing: border-box;padding-bottom: 0.4em;background-color: white;}#sk-container-id-5 div.sk-label label {font-family: monospace;font-weight: bold;display: inline-block;line-height: 1.2em;}#sk-container-id-5 div.sk-label-container {text-align: center;}#sk-container-id-5 div.sk-container {/* jupyter's `normalize.less` sets `[hidden] { display: none; }` but bootstrap.min.css set `[hidden] { display: none !important; }` so we also need the `!important` here to be able to override the default hidden behavior on the sphinx rendered scikit-learn.org. See: https://github.com/scikit-learn/scikit-learn/issues/21755 */display: inline-block !important;position: relative;}#sk-container-id-5 div.sk-text-repr-fallback {display: none;}</style><div id=\"sk-container-id-5\" class=\"sk-top-container\"><div class=\"sk-text-repr-fallback\"><pre>KNeighborsRegressor()</pre><b>In a Jupyter environment, please rerun this cell to show the HTML representation or trust the notebook. <br />On GitHub, the HTML representation is unable to render, please try loading this page with nbviewer.org.</b></div><div class=\"sk-container\" hidden><div class=\"sk-item\"><div class=\"sk-estimator sk-toggleable\"><input class=\"sk-toggleable__control sk-hidden--visually\" id=\"sk-estimator-id-5\" type=\"checkbox\" checked><label for=\"sk-estimator-id-5\" class=\"sk-toggleable__label sk-toggleable__label-arrow\">KNeighborsRegressor</label><div class=\"sk-toggleable__content\"><pre>KNeighborsRegressor()</pre></div></div></div></div></div>"
            ]
          },
          "metadata": {},
          "execution_count": 205
        }
      ],
      "source": [
        "lr.fit(X_train,Y_train)\n",
        "dt.fit(X_train,Y_train)\n",
        "knn.fit(X_train,Y_train)"
      ]
    },
    {
      "cell_type": "code",
      "execution_count": 206,
      "metadata": {
        "id": "I761XdcFBKG_"
      },
      "outputs": [],
      "source": [
        "y_pred1 = lr.predict(X_test)\n",
        "y_pred2 = dt.predict(X_test)\n",
        "y_pred3 = knn.predict(X_test)"
      ]
    },
    {
      "cell_type": "code",
      "execution_count": 207,
      "metadata": {
        "id": "rgKpJQq_BOim",
        "colab": {
          "base_uri": "https://localhost:8080/"
        },
        "outputId": "f84d1843-d69a-457c-cb53-c1cfaaf72877"
      },
      "outputs": [
        {
          "output_type": "stream",
          "name": "stdout",
          "text": [
            "R^2 score for LR 0.9345325652145052\n",
            "R^2 score for DT 0.9192708333333334\n",
            "R^2 score for KNN 0.708125\n"
          ]
        }
      ],
      "source": [
        "print(\"R^2 score for LR\",r2_score(Y_test,y_pred1))\n",
        "print(\"R^2 score for DT\",r2_score(Y_test,y_pred2))\n",
        "print(\"R^2 score for KNN\",r2_score(Y_test,y_pred3))"
      ]
    },
    {
      "cell_type": "code",
      "execution_count": 208,
      "metadata": {
        "id": "v3VIOwDGBTsh",
        "colab": {
          "base_uri": "https://localhost:8080/",
          "height": 75
        },
        "outputId": "37335afd-a9b5-45d2-9751-3fb23b75429a"
      },
      "outputs": [
        {
          "output_type": "execute_result",
          "data": {
            "text/plain": [
              "BaggingRegressor(random_state=1)"
            ],
            "text/html": [
              "<style>#sk-container-id-6 {color: black;background-color: white;}#sk-container-id-6 pre{padding: 0;}#sk-container-id-6 div.sk-toggleable {background-color: white;}#sk-container-id-6 label.sk-toggleable__label {cursor: pointer;display: block;width: 100%;margin-bottom: 0;padding: 0.3em;box-sizing: border-box;text-align: center;}#sk-container-id-6 label.sk-toggleable__label-arrow:before {content: \"▸\";float: left;margin-right: 0.25em;color: #696969;}#sk-container-id-6 label.sk-toggleable__label-arrow:hover:before {color: black;}#sk-container-id-6 div.sk-estimator:hover label.sk-toggleable__label-arrow:before {color: black;}#sk-container-id-6 div.sk-toggleable__content {max-height: 0;max-width: 0;overflow: hidden;text-align: left;background-color: #f0f8ff;}#sk-container-id-6 div.sk-toggleable__content pre {margin: 0.2em;color: black;border-radius: 0.25em;background-color: #f0f8ff;}#sk-container-id-6 input.sk-toggleable__control:checked~div.sk-toggleable__content {max-height: 200px;max-width: 100%;overflow: auto;}#sk-container-id-6 input.sk-toggleable__control:checked~label.sk-toggleable__label-arrow:before {content: \"▾\";}#sk-container-id-6 div.sk-estimator input.sk-toggleable__control:checked~label.sk-toggleable__label {background-color: #d4ebff;}#sk-container-id-6 div.sk-label input.sk-toggleable__control:checked~label.sk-toggleable__label {background-color: #d4ebff;}#sk-container-id-6 input.sk-hidden--visually {border: 0;clip: rect(1px 1px 1px 1px);clip: rect(1px, 1px, 1px, 1px);height: 1px;margin: -1px;overflow: hidden;padding: 0;position: absolute;width: 1px;}#sk-container-id-6 div.sk-estimator {font-family: monospace;background-color: #f0f8ff;border: 1px dotted black;border-radius: 0.25em;box-sizing: border-box;margin-bottom: 0.5em;}#sk-container-id-6 div.sk-estimator:hover {background-color: #d4ebff;}#sk-container-id-6 div.sk-parallel-item::after {content: \"\";width: 100%;border-bottom: 1px solid gray;flex-grow: 1;}#sk-container-id-6 div.sk-label:hover label.sk-toggleable__label {background-color: #d4ebff;}#sk-container-id-6 div.sk-serial::before {content: \"\";position: absolute;border-left: 1px solid gray;box-sizing: border-box;top: 0;bottom: 0;left: 50%;z-index: 0;}#sk-container-id-6 div.sk-serial {display: flex;flex-direction: column;align-items: center;background-color: white;padding-right: 0.2em;padding-left: 0.2em;position: relative;}#sk-container-id-6 div.sk-item {position: relative;z-index: 1;}#sk-container-id-6 div.sk-parallel {display: flex;align-items: stretch;justify-content: center;background-color: white;position: relative;}#sk-container-id-6 div.sk-item::before, #sk-container-id-6 div.sk-parallel-item::before {content: \"\";position: absolute;border-left: 1px solid gray;box-sizing: border-box;top: 0;bottom: 0;left: 50%;z-index: -1;}#sk-container-id-6 div.sk-parallel-item {display: flex;flex-direction: column;z-index: 1;position: relative;background-color: white;}#sk-container-id-6 div.sk-parallel-item:first-child::after {align-self: flex-end;width: 50%;}#sk-container-id-6 div.sk-parallel-item:last-child::after {align-self: flex-start;width: 50%;}#sk-container-id-6 div.sk-parallel-item:only-child::after {width: 0;}#sk-container-id-6 div.sk-dashed-wrapped {border: 1px dashed gray;margin: 0 0.4em 0.5em 0.4em;box-sizing: border-box;padding-bottom: 0.4em;background-color: white;}#sk-container-id-6 div.sk-label label {font-family: monospace;font-weight: bold;display: inline-block;line-height: 1.2em;}#sk-container-id-6 div.sk-label-container {text-align: center;}#sk-container-id-6 div.sk-container {/* jupyter's `normalize.less` sets `[hidden] { display: none; }` but bootstrap.min.css set `[hidden] { display: none !important; }` so we also need the `!important` here to be able to override the default hidden behavior on the sphinx rendered scikit-learn.org. See: https://github.com/scikit-learn/scikit-learn/issues/21755 */display: inline-block !important;position: relative;}#sk-container-id-6 div.sk-text-repr-fallback {display: none;}</style><div id=\"sk-container-id-6\" class=\"sk-top-container\"><div class=\"sk-text-repr-fallback\"><pre>BaggingRegressor(random_state=1)</pre><b>In a Jupyter environment, please rerun this cell to show the HTML representation or trust the notebook. <br />On GitHub, the HTML representation is unable to render, please try loading this page with nbviewer.org.</b></div><div class=\"sk-container\" hidden><div class=\"sk-item\"><div class=\"sk-estimator sk-toggleable\"><input class=\"sk-toggleable__control sk-hidden--visually\" id=\"sk-estimator-id-6\" type=\"checkbox\" checked><label for=\"sk-estimator-id-6\" class=\"sk-toggleable__label sk-toggleable__label-arrow\">BaggingRegressor</label><div class=\"sk-toggleable__content\"><pre>BaggingRegressor(random_state=1)</pre></div></div></div></div></div>"
            ]
          },
          "metadata": {},
          "execution_count": 208
        }
      ],
      "source": [
        "from sklearn.ensemble import BaggingRegressor\n",
        "\n",
        "bag_regressor = BaggingRegressor(random_state=1)\n",
        "bag_regressor.fit(X_train, Y_train)"
      ]
    },
    {
      "cell_type": "code",
      "execution_count": 209,
      "metadata": {
        "id": "2jh69J_lBX1m",
        "colab": {
          "base_uri": "https://localhost:8080/"
        },
        "outputId": "642d8da8-e0bf-46fb-c917-dc32d91a7ffe"
      },
      "outputs": [
        {
          "output_type": "stream",
          "name": "stdout",
          "text": [
            "Training Coefficient of R^2 : 0.972\n",
            "Test Coefficient of R^2 : 0.902\n"
          ]
        }
      ],
      "source": [
        "Y_preds = bag_regressor.predict(X_test)\n",
        "\n",
        "print('Training Coefficient of R^2 : %.3f'%bag_regressor.score(X_train, Y_train))\n",
        "print('Test Coefficient of R^2 : %.3f'%bag_regressor.score(X_test, Y_test))"
      ]
    },
    {
      "cell_type": "code",
      "execution_count": 210,
      "metadata": {
        "id": "-HQQAY5fzlr5"
      },
      "outputs": [],
      "source": [
        "from sklearn.linear_model import Lasso"
      ]
    },
    {
      "cell_type": "code",
      "execution_count": 211,
      "metadata": {
        "id": "rA_Jg0jFBbnz",
        "colab": {
          "base_uri": "https://localhost:8080/"
        },
        "outputId": "82de79b5-b375-427b-c75a-74a67741f79c"
      },
      "outputs": [
        {
          "output_type": "stream",
          "name": "stdout",
          "text": [
            "Fitting 2 folds for each of 144 candidates, totalling 288 fits\n",
            "Train R^2 Score : 0.933\n",
            "Test R^2 Score : 0.972\n",
            "Overall R^2 Score : 0.944\n",
            "Best Parameters :  {'base_estimator': LinearRegression(), 'bootstrap': False, 'bootstrap_features': False, 'max_features': 0.5, 'max_samples': 0.95, 'n_estimators': 21}\n",
            "CPU times: user 273 ms, sys: 17.8 ms, total: 291 ms\n",
            "Wall time: 6.88 s\n"
          ]
        }
      ],
      "source": [
        "%%time\n",
        "\n",
        "# n_samples = data_read.data.shape[0]\n",
        "# n_features = data_read.data.shape[1]\n",
        "\n",
        "params = {'base_estimator': [None, LinearRegression(), KNeighborsRegressor()],\n",
        "          'n_estimators': [10,15,21],\n",
        "          'max_samples': [0.5,0.95],\n",
        "          'max_features': [0.5,1.0],\n",
        "          'bootstrap': [True, False],\n",
        "          'bootstrap_features': [True, False]}\n",
        "\n",
        "bagging_regressor_grid = GridSearchCV(BaggingRegressor(random_state=1, n_jobs=-1), param_grid =params, cv=2, n_jobs=-1, verbose=1)\n",
        "bagging_regressor_grid.fit(X_train, Y_train)\n",
        "\n",
        "print('Train R^2 Score : %.3f'%bagging_regressor_grid.best_estimator_.score(X_train, Y_train))\n",
        "print('Test R^2 Score : %.3f'%bagging_regressor_grid.best_estimator_.score(X_test, Y_test))\n",
        "print('Overall R^2 Score : %.3f'%bagging_regressor_grid.best_estimator_.score(Cat_1,Cat_2))\n",
        "print('Best Parameters : ',bagging_regressor_grid.best_params_)\n",
        "\n",
        "\n",
        "     "
      ]
    },
    {
      "cell_type": "code",
      "execution_count": 212,
      "metadata": {
        "id": "wUVWX3S3BXwl"
      },
      "outputs": [],
      "source": [
        "Y_test_pred_BAGGING= bagging_regressor_grid.predict(X_test)\n",
        "Y_train_pred_BAGGING= bagging_regressor_grid.predict(X_train)\n"
      ]
    },
    {
      "cell_type": "code",
      "execution_count": 213,
      "metadata": {
        "id": "1Q354tg-Dmgg",
        "colab": {
          "base_uri": "https://localhost:8080/"
        },
        "outputId": "5ace9a94-8288-4dbb-a159-dcd0ab742a19"
      },
      "outputs": [
        {
          "output_type": "execute_result",
          "data": {
            "text/plain": [
              "array([1070214.89851496, 1533100.84073905, 1157351.91313456,\n",
              "       2150594.32364737,  952119.81614209, 2586111.4052966 ,\n",
              "        715128.94156744, 1716873.49631141,  512040.48814573,\n",
              "       1349793.26074625,  913571.5691904 ,  649965.5852243 ,\n",
              "        578964.33037778,  447209.98321016,  355078.52062742,\n",
              "       1951445.25736957,  844399.98012696, 1026259.33533244,\n",
              "       1471427.42399424,  930068.80440221,  632778.16984533])"
            ]
          },
          "metadata": {},
          "execution_count": 213
        }
      ],
      "source": [
        "result=bagging_regressor_grid.predict(Cat_1) \n",
        "result"
      ]
    },
    {
      "cell_type": "code",
      "execution_count": 214,
      "metadata": {
        "id": "2B3G5BEKDy6-",
        "colab": {
          "base_uri": "https://localhost:8080/"
        },
        "outputId": "36b2fd88-9ee2-4958-f4f2-65c48651b259"
      },
      "outputs": [
        {
          "output_type": "execute_result",
          "data": {
            "text/plain": [
              "array([ 355078.52062742, 1471427.42399424,  715128.94156744,\n",
              "        930068.80440221,  952119.81614209, 1157351.91313456,\n",
              "       2586111.4052966 ,  844399.98012696, 1349793.26074625,\n",
              "       1716873.49631141, 1026259.33533244, 2150594.32364737,\n",
              "       1070214.89851496, 1951445.25736957,  578964.33037778])"
            ]
          },
          "metadata": {},
          "execution_count": 214
        }
      ],
      "source": [
        "Y_train_pred_BAGGING"
      ]
    },
    {
      "cell_type": "code",
      "execution_count": 215,
      "metadata": {
        "id": "5OzmN8yWD3IV",
        "colab": {
          "base_uri": "https://localhost:8080/"
        },
        "outputId": "6c621083-9a1f-4784-8c8d-521d7377b6bc"
      },
      "outputs": [
        {
          "output_type": "stream",
          "name": "stdout",
          "text": [
            "MMRE 0.013234474430747087\n",
            "MdMRE 0.01331974438029174\n",
            "PRED 25% 100.0\n",
            "PRED MMRE 60.0\n",
            "Model Accuracy 98.6765525569253\n"
          ]
        }
      ],
      "source": [
        "#@title Evaluation results  Ensemble Learning Bagging - With Our Hybrid Approach using GridSearchCV \n",
        "\n",
        "diff=np.absolute(Y_test-Y_test_pred_BAGGING)\n",
        "MRE=(diff/Y_test)/MRE.size\n",
        "MMRE=np.mean(MRE)\n",
        "MdMRE=np.median(MRE)\n",
        "P=MRE[MRE<.25]\n",
        "Pred=(P.size/MRE.size) * 100\n",
        "print(\"MMRE\",MMRE)\n",
        "print(\"MdMRE\",MdMRE)\n",
        "print(\"PRED 25%\",Pred)\n",
        "Accuracy=(1-MRE)*100\n",
        "Accuracy=(Accuracy.mean())\n",
        "# MRE=(diff/y_test)/MRE.size\n",
        "P2=MRE[MRE<MMRE]\n",
        "print(\"PRED MMRE\",Pred2)\n",
        "print(\"Model Accuracy\",Accuracy)"
      ]
    },
    {
      "cell_type": "code",
      "execution_count": 216,
      "metadata": {
        "id": "LMYm0ME8E5tf"
      },
      "outputs": [],
      "source": [
        "#@title Third Approach Using Ensemble Learning - Bagging with use of Bootstrapping \n",
        "\n",
        " \n"
      ]
    },
    {
      "cell_type": "code",
      "execution_count": 217,
      "metadata": {
        "id": "5_1YtDh-Lkka"
      },
      "outputs": [],
      "source": [
        "#@title Using Ensemble Technique Second set of Algorithms\n",
        "from sklearn.ensemble import BaggingRegressor\n",
        "from sklearn.ensemble import AdaBoostRegressor\n",
        "from sklearn.preprocessing import KBinsDiscretizer"
      ]
    },
    {
      "cell_type": "code",
      "execution_count": 218,
      "metadata": {
        "id": "ckzKqH0TLkkc",
        "colab": {
          "base_uri": "https://localhost:8080/"
        },
        "outputId": "93b4b473-5d99-470c-df18-be1b7759b20f"
      },
      "outputs": [
        {
          "output_type": "stream",
          "name": "stdout",
          "text": [
            "Train / Test Sets sizes:  (16, 7) (5, 7) (16,) (3, 9)\n"
          ]
        }
      ],
      "source": [
        "X_train,X_test,Y_train,Y_test = train_test_split(Cat_1,Cat_2,test_size=0.30,random_state=0)\n",
        "\n",
        "# now printing the overall sizes of our splitted result\n",
        "print(\"Train / Test Sets sizes: \", x_train.shape,x_test.shape,y_train.shape,y_test.shape )"
      ]
    },
    {
      "cell_type": "code",
      "execution_count": 219,
      "metadata": {
        "id": "a2cdbrxCLkkd"
      },
      "outputs": [],
      "source": [
        "rkf = RandomForestRegressor()\n",
        "dt = DecisionTreeRegressor()\n",
        "ada = AdaBoostRegressor()"
      ]
    },
    {
      "cell_type": "code",
      "execution_count": 220,
      "metadata": {
        "id": "aMjTLDNfLkke",
        "colab": {
          "base_uri": "https://localhost:8080/",
          "height": 75
        },
        "outputId": "b84d0592-1bf1-4b9e-f6f9-6a2f3e770adb"
      },
      "outputs": [
        {
          "output_type": "execute_result",
          "data": {
            "text/plain": [
              "AdaBoostRegressor()"
            ],
            "text/html": [
              "<style>#sk-container-id-7 {color: black;background-color: white;}#sk-container-id-7 pre{padding: 0;}#sk-container-id-7 div.sk-toggleable {background-color: white;}#sk-container-id-7 label.sk-toggleable__label {cursor: pointer;display: block;width: 100%;margin-bottom: 0;padding: 0.3em;box-sizing: border-box;text-align: center;}#sk-container-id-7 label.sk-toggleable__label-arrow:before {content: \"▸\";float: left;margin-right: 0.25em;color: #696969;}#sk-container-id-7 label.sk-toggleable__label-arrow:hover:before {color: black;}#sk-container-id-7 div.sk-estimator:hover label.sk-toggleable__label-arrow:before {color: black;}#sk-container-id-7 div.sk-toggleable__content {max-height: 0;max-width: 0;overflow: hidden;text-align: left;background-color: #f0f8ff;}#sk-container-id-7 div.sk-toggleable__content pre {margin: 0.2em;color: black;border-radius: 0.25em;background-color: #f0f8ff;}#sk-container-id-7 input.sk-toggleable__control:checked~div.sk-toggleable__content {max-height: 200px;max-width: 100%;overflow: auto;}#sk-container-id-7 input.sk-toggleable__control:checked~label.sk-toggleable__label-arrow:before {content: \"▾\";}#sk-container-id-7 div.sk-estimator input.sk-toggleable__control:checked~label.sk-toggleable__label {background-color: #d4ebff;}#sk-container-id-7 div.sk-label input.sk-toggleable__control:checked~label.sk-toggleable__label {background-color: #d4ebff;}#sk-container-id-7 input.sk-hidden--visually {border: 0;clip: rect(1px 1px 1px 1px);clip: rect(1px, 1px, 1px, 1px);height: 1px;margin: -1px;overflow: hidden;padding: 0;position: absolute;width: 1px;}#sk-container-id-7 div.sk-estimator {font-family: monospace;background-color: #f0f8ff;border: 1px dotted black;border-radius: 0.25em;box-sizing: border-box;margin-bottom: 0.5em;}#sk-container-id-7 div.sk-estimator:hover {background-color: #d4ebff;}#sk-container-id-7 div.sk-parallel-item::after {content: \"\";width: 100%;border-bottom: 1px solid gray;flex-grow: 1;}#sk-container-id-7 div.sk-label:hover label.sk-toggleable__label {background-color: #d4ebff;}#sk-container-id-7 div.sk-serial::before {content: \"\";position: absolute;border-left: 1px solid gray;box-sizing: border-box;top: 0;bottom: 0;left: 50%;z-index: 0;}#sk-container-id-7 div.sk-serial {display: flex;flex-direction: column;align-items: center;background-color: white;padding-right: 0.2em;padding-left: 0.2em;position: relative;}#sk-container-id-7 div.sk-item {position: relative;z-index: 1;}#sk-container-id-7 div.sk-parallel {display: flex;align-items: stretch;justify-content: center;background-color: white;position: relative;}#sk-container-id-7 div.sk-item::before, #sk-container-id-7 div.sk-parallel-item::before {content: \"\";position: absolute;border-left: 1px solid gray;box-sizing: border-box;top: 0;bottom: 0;left: 50%;z-index: -1;}#sk-container-id-7 div.sk-parallel-item {display: flex;flex-direction: column;z-index: 1;position: relative;background-color: white;}#sk-container-id-7 div.sk-parallel-item:first-child::after {align-self: flex-end;width: 50%;}#sk-container-id-7 div.sk-parallel-item:last-child::after {align-self: flex-start;width: 50%;}#sk-container-id-7 div.sk-parallel-item:only-child::after {width: 0;}#sk-container-id-7 div.sk-dashed-wrapped {border: 1px dashed gray;margin: 0 0.4em 0.5em 0.4em;box-sizing: border-box;padding-bottom: 0.4em;background-color: white;}#sk-container-id-7 div.sk-label label {font-family: monospace;font-weight: bold;display: inline-block;line-height: 1.2em;}#sk-container-id-7 div.sk-label-container {text-align: center;}#sk-container-id-7 div.sk-container {/* jupyter's `normalize.less` sets `[hidden] { display: none; }` but bootstrap.min.css set `[hidden] { display: none !important; }` so we also need the `!important` here to be able to override the default hidden behavior on the sphinx rendered scikit-learn.org. See: https://github.com/scikit-learn/scikit-learn/issues/21755 */display: inline-block !important;position: relative;}#sk-container-id-7 div.sk-text-repr-fallback {display: none;}</style><div id=\"sk-container-id-7\" class=\"sk-top-container\"><div class=\"sk-text-repr-fallback\"><pre>AdaBoostRegressor()</pre><b>In a Jupyter environment, please rerun this cell to show the HTML representation or trust the notebook. <br />On GitHub, the HTML representation is unable to render, please try loading this page with nbviewer.org.</b></div><div class=\"sk-container\" hidden><div class=\"sk-item\"><div class=\"sk-estimator sk-toggleable\"><input class=\"sk-toggleable__control sk-hidden--visually\" id=\"sk-estimator-id-7\" type=\"checkbox\" checked><label for=\"sk-estimator-id-7\" class=\"sk-toggleable__label sk-toggleable__label-arrow\">AdaBoostRegressor</label><div class=\"sk-toggleable__content\"><pre>AdaBoostRegressor()</pre></div></div></div></div></div>"
            ]
          },
          "metadata": {},
          "execution_count": 220
        }
      ],
      "source": [
        "from logging import addLevelName\n",
        "rkf.fit(X_train,Y_train)\n",
        "dt.fit(X_train,Y_train)\n",
        "ada.fit(X_train,Y_train)"
      ]
    },
    {
      "cell_type": "code",
      "execution_count": 221,
      "metadata": {
        "id": "RYDmp13QLkkf"
      },
      "outputs": [],
      "source": [
        "y_pred1 = rkf.predict(X_test)\n",
        "y_pred2 = dt.predict(X_test)\n",
        "y_pred3 = ada.predict(X_test)"
      ]
    },
    {
      "cell_type": "code",
      "execution_count": 222,
      "metadata": {
        "id": "lObeax9JLkkf",
        "colab": {
          "base_uri": "https://localhost:8080/"
        },
        "outputId": "2c695b0b-7ba1-4a18-8fda-c48662f82a09"
      },
      "outputs": [
        {
          "output_type": "stream",
          "name": "stdout",
          "text": [
            "R^2 score for RF 0.8399941731770834\n",
            "R^2 score for DT 0.5465494791666667\n",
            "R^2 score for ADA_B 0.6976363570601852\n"
          ]
        }
      ],
      "source": [
        "print(\"R^2 score for RF\",r2_score(Y_test,y_pred1))\n",
        "print(\"R^2 score for DT\",r2_score(Y_test,y_pred2))\n",
        "print(\"R^2 score for ADA_B\",r2_score(Y_test,y_pred3))"
      ]
    },
    {
      "cell_type": "code",
      "execution_count": 223,
      "metadata": {
        "id": "O5EyNEp0Lkkg",
        "colab": {
          "base_uri": "https://localhost:8080/",
          "height": 75
        },
        "outputId": "076aea7f-4d9e-40b4-fcf8-ddc4f4e32b17"
      },
      "outputs": [
        {
          "output_type": "execute_result",
          "data": {
            "text/plain": [
              "BaggingRegressor(random_state=1)"
            ],
            "text/html": [
              "<style>#sk-container-id-8 {color: black;background-color: white;}#sk-container-id-8 pre{padding: 0;}#sk-container-id-8 div.sk-toggleable {background-color: white;}#sk-container-id-8 label.sk-toggleable__label {cursor: pointer;display: block;width: 100%;margin-bottom: 0;padding: 0.3em;box-sizing: border-box;text-align: center;}#sk-container-id-8 label.sk-toggleable__label-arrow:before {content: \"▸\";float: left;margin-right: 0.25em;color: #696969;}#sk-container-id-8 label.sk-toggleable__label-arrow:hover:before {color: black;}#sk-container-id-8 div.sk-estimator:hover label.sk-toggleable__label-arrow:before {color: black;}#sk-container-id-8 div.sk-toggleable__content {max-height: 0;max-width: 0;overflow: hidden;text-align: left;background-color: #f0f8ff;}#sk-container-id-8 div.sk-toggleable__content pre {margin: 0.2em;color: black;border-radius: 0.25em;background-color: #f0f8ff;}#sk-container-id-8 input.sk-toggleable__control:checked~div.sk-toggleable__content {max-height: 200px;max-width: 100%;overflow: auto;}#sk-container-id-8 input.sk-toggleable__control:checked~label.sk-toggleable__label-arrow:before {content: \"▾\";}#sk-container-id-8 div.sk-estimator input.sk-toggleable__control:checked~label.sk-toggleable__label {background-color: #d4ebff;}#sk-container-id-8 div.sk-label input.sk-toggleable__control:checked~label.sk-toggleable__label {background-color: #d4ebff;}#sk-container-id-8 input.sk-hidden--visually {border: 0;clip: rect(1px 1px 1px 1px);clip: rect(1px, 1px, 1px, 1px);height: 1px;margin: -1px;overflow: hidden;padding: 0;position: absolute;width: 1px;}#sk-container-id-8 div.sk-estimator {font-family: monospace;background-color: #f0f8ff;border: 1px dotted black;border-radius: 0.25em;box-sizing: border-box;margin-bottom: 0.5em;}#sk-container-id-8 div.sk-estimator:hover {background-color: #d4ebff;}#sk-container-id-8 div.sk-parallel-item::after {content: \"\";width: 100%;border-bottom: 1px solid gray;flex-grow: 1;}#sk-container-id-8 div.sk-label:hover label.sk-toggleable__label {background-color: #d4ebff;}#sk-container-id-8 div.sk-serial::before {content: \"\";position: absolute;border-left: 1px solid gray;box-sizing: border-box;top: 0;bottom: 0;left: 50%;z-index: 0;}#sk-container-id-8 div.sk-serial {display: flex;flex-direction: column;align-items: center;background-color: white;padding-right: 0.2em;padding-left: 0.2em;position: relative;}#sk-container-id-8 div.sk-item {position: relative;z-index: 1;}#sk-container-id-8 div.sk-parallel {display: flex;align-items: stretch;justify-content: center;background-color: white;position: relative;}#sk-container-id-8 div.sk-item::before, #sk-container-id-8 div.sk-parallel-item::before {content: \"\";position: absolute;border-left: 1px solid gray;box-sizing: border-box;top: 0;bottom: 0;left: 50%;z-index: -1;}#sk-container-id-8 div.sk-parallel-item {display: flex;flex-direction: column;z-index: 1;position: relative;background-color: white;}#sk-container-id-8 div.sk-parallel-item:first-child::after {align-self: flex-end;width: 50%;}#sk-container-id-8 div.sk-parallel-item:last-child::after {align-self: flex-start;width: 50%;}#sk-container-id-8 div.sk-parallel-item:only-child::after {width: 0;}#sk-container-id-8 div.sk-dashed-wrapped {border: 1px dashed gray;margin: 0 0.4em 0.5em 0.4em;box-sizing: border-box;padding-bottom: 0.4em;background-color: white;}#sk-container-id-8 div.sk-label label {font-family: monospace;font-weight: bold;display: inline-block;line-height: 1.2em;}#sk-container-id-8 div.sk-label-container {text-align: center;}#sk-container-id-8 div.sk-container {/* jupyter's `normalize.less` sets `[hidden] { display: none; }` but bootstrap.min.css set `[hidden] { display: none !important; }` so we also need the `!important` here to be able to override the default hidden behavior on the sphinx rendered scikit-learn.org. See: https://github.com/scikit-learn/scikit-learn/issues/21755 */display: inline-block !important;position: relative;}#sk-container-id-8 div.sk-text-repr-fallback {display: none;}</style><div id=\"sk-container-id-8\" class=\"sk-top-container\"><div class=\"sk-text-repr-fallback\"><pre>BaggingRegressor(random_state=1)</pre><b>In a Jupyter environment, please rerun this cell to show the HTML representation or trust the notebook. <br />On GitHub, the HTML representation is unable to render, please try loading this page with nbviewer.org.</b></div><div class=\"sk-container\" hidden><div class=\"sk-item\"><div class=\"sk-estimator sk-toggleable\"><input class=\"sk-toggleable__control sk-hidden--visually\" id=\"sk-estimator-id-8\" type=\"checkbox\" checked><label for=\"sk-estimator-id-8\" class=\"sk-toggleable__label sk-toggleable__label-arrow\">BaggingRegressor</label><div class=\"sk-toggleable__content\"><pre>BaggingRegressor(random_state=1)</pre></div></div></div></div></div>"
            ]
          },
          "metadata": {},
          "execution_count": 223
        }
      ],
      "source": [
        "from sklearn.ensemble import BaggingRegressor\n",
        "\n",
        "bag_regressor = BaggingRegressor(random_state=1)\n",
        "bag_regressor.fit(X_train, Y_train)"
      ]
    },
    {
      "cell_type": "code",
      "execution_count": 224,
      "metadata": {
        "id": "0sTc1jrtLkkh",
        "colab": {
          "base_uri": "https://localhost:8080/"
        },
        "outputId": "06053364-41b9-4965-8bac-227cff5a9969"
      },
      "outputs": [
        {
          "output_type": "stream",
          "name": "stdout",
          "text": [
            "Coefficient of R^2 : 0.965\n"
          ]
        }
      ],
      "source": [
        "Y_preds = bag_regressor.predict(X_test)\n",
        "\n",
        "print('Coefficient of R^2 : %.3f'%bag_regressor.score(X_train, Y_train))\n",
        "# print('Test Coefficient of R^2 : %.3f'%bag_regressor.score(X_test, Y_test))"
      ]
    },
    {
      "cell_type": "code",
      "execution_count": 225,
      "metadata": {
        "id": "XisQmroILkki",
        "colab": {
          "base_uri": "https://localhost:8080/"
        },
        "outputId": "e9412c19-e941-4b3a-d185-039a8d975cf2"
      },
      "outputs": [
        {
          "output_type": "stream",
          "name": "stdout",
          "text": [
            "Fitting 3 folds for each of 144 candidates, totalling 432 fits\n",
            "Train R^2 Score : 0.967\n",
            "Test R^2 Score : 0.863\n",
            "Overall R^2 Score : 0.962\n",
            "Best Parameters :  {'base_estimator': LinearRegression(), 'bootstrap': True, 'bootstrap_features': True, 'max_features': 1.0, 'max_samples': 1.0, 'n_estimators': 10}\n",
            "CPU times: user 423 ms, sys: 20.5 ms, total: 443 ms\n",
            "Wall time: 11.4 s\n"
          ]
        }
      ],
      "source": [
        "%%time\n",
        "\n",
        "# n_samples = data_read.data.shape[0]\n",
        "# n_features = data_read.data.shape[1]\n",
        "\n",
        "params = {'base_estimator': [None, LinearRegression(), KNeighborsRegressor()],\n",
        "          'n_estimators': [10,14,21],\n",
        "          'max_samples': [0.5,1.0],\n",
        "          'max_features': [0.5,1.0],\n",
        "          'bootstrap': [True, False],\n",
        "          'bootstrap_features': [True, False]}\n",
        "\n",
        "bagging_regressor_grid = GridSearchCV(BaggingRegressor(random_state=1, n_jobs=-1), param_grid =params, cv=3, n_jobs=-1, verbose=1)\n",
        "bagging_regressor_grid.fit(X_train, Y_train)\n",
        "\n",
        "print('Train R^2 Score : %.3f'%bagging_regressor_grid.best_estimator_.score(X_train, Y_train))\n",
        "print('Test R^2 Score : %.3f'%bagging_regressor_grid.best_estimator_.score(X_test, Y_test))\n",
        "print('Overall R^2 Score : %.3f'%bagging_regressor_grid.best_estimator_.score(Cat_1,Cat_2))\n",
        "print('Best Parameters : ',bagging_regressor_grid.best_params_)\n",
        "\n",
        "\n",
        "     "
      ]
    },
    {
      "cell_type": "code",
      "execution_count": 226,
      "metadata": {
        "id": "HfAN8i_jLkkj"
      },
      "outputs": [],
      "source": [
        "Y_test_pred_BAGGING= bagging_regressor_grid.predict(X_test)\n",
        "Y_train_pred_BAGGING= bagging_regressor_grid.predict(X_train)"
      ]
    },
    {
      "cell_type": "code",
      "execution_count": 227,
      "metadata": {
        "id": "9nJEQ-vWLkkk",
        "colab": {
          "base_uri": "https://localhost:8080/"
        },
        "outputId": "9119b0e9-2dfa-4399-a10b-efc5a1edc20d"
      },
      "outputs": [
        {
          "output_type": "execute_result",
          "data": {
            "text/plain": [
              "array([1153980.67232929, 1740103.3371204 , 1041140.07363083,\n",
              "       2061138.38107296,  822155.85736814, 2884832.55071164,\n",
              "        602702.38757511, 1698338.19864   ,  461332.28266295,\n",
              "       1365117.94861827,  954684.7854971 ,  442809.50538614,\n",
              "        366761.94769268,  255772.61585066,  146694.46369998,\n",
              "       2062160.94967795,  896964.71554047, 1092549.33079748,\n",
              "       1555492.25614419,  868718.49446388,  550031.76373337])"
            ]
          },
          "metadata": {},
          "execution_count": 227
        }
      ],
      "source": [
        "result=bagging_regressor_grid.predict(Cat_1) \n",
        "result"
      ]
    },
    {
      "cell_type": "code",
      "execution_count": 228,
      "metadata": {
        "id": "I7bBIO6JLkkl",
        "colab": {
          "base_uri": "https://localhost:8080/"
        },
        "outputId": "782da2b2-6555-4e0b-e03c-c20e585c5cf4"
      },
      "outputs": [
        {
          "output_type": "execute_result",
          "data": {
            "text/plain": [
              "array([1555492.25614419,  602702.38757511,  868718.49446388,\n",
              "        822155.85736814, 1041140.07363083, 2884832.55071164,\n",
              "        896964.71554047, 1365117.94861827, 1698338.19864   ,\n",
              "       1092549.33079748, 2061138.38107296, 1153980.67232929,\n",
              "       2062160.94967795,  366761.94769268])"
            ]
          },
          "metadata": {},
          "execution_count": 228
        }
      ],
      "source": [
        "Y_train_pred_BAGGING"
      ]
    },
    {
      "cell_type": "code",
      "execution_count": 229,
      "metadata": {
        "id": "AeaqnqwTLkkm",
        "colab": {
          "base_uri": "https://localhost:8080/"
        },
        "outputId": "0ad1c186-f70b-4f6b-9fea-525b5fe4f461"
      },
      "outputs": [
        {
          "output_type": "stream",
          "name": "stdout",
          "text": [
            "MMRE 0.038535947209928714\n",
            "MdMRE 0.03222599697856155\n",
            "PRED 25% 100.0\n",
            "PRED MMRE 60.0\n",
            "Model Accuracy 96.14640527900711\n"
          ]
        }
      ],
      "source": [
        "#@title Evaluation results  Ensemble Learning Bagging - With Our Hybrid Approach using GridSearchCV \n",
        "\n",
        "diff=np.absolute(Y_test-Y_test_pred_BAGGING)\n",
        "MRE=(diff/Y_test)/MRE.size\n",
        "MMRE=np.mean(MRE)\n",
        "MdMRE=np.median(MRE)\n",
        "P=MRE[MRE<.25]\n",
        "Pred=(P.size/MRE.size) * 100\n",
        "print(\"MMRE\",MMRE)\n",
        "print(\"MdMRE\",MdMRE)\n",
        "print(\"PRED 25%\",Pred)\n",
        "Accuracy=(1-MRE)*100\n",
        "Accuracy=(Accuracy.mean())\n",
        "#MRE=(diff/y_test)/MRE.size\n",
        "P2=MRE[MRE<MMRE]\n",
        "print(\"PRED MMRE\",Pred2)\n",
        "print(\"Model Accuracy\",Accuracy)"
      ]
    },
    {
      "cell_type": "code",
      "execution_count": 230,
      "metadata": {
        "id": "NWbNPEcFTKoF"
      },
      "outputs": [],
      "source": [
        "#@title Bonus Work"
      ]
    },
    {
      "cell_type": "code",
      "execution_count": 231,
      "metadata": {
        "id": "o6RrBZYmTLby",
        "colab": {
          "base_uri": "https://localhost:8080/"
        },
        "outputId": "3cc9c73f-e654-403e-f8d9-6e2f10b62bd6"
      },
      "outputs": [
        {
          "output_type": "stream",
          "name": "stdout",
          "text": [
            "Fitting 3 folds for each of 144 candidates, totalling 432 fits\n",
            "Train R^2 Score : 0.967\n",
            "Test R^2 Score : 0.863\n",
            "Overall R^2 Score : 0.962\n",
            "Best Parameters :  {'base_estimator': LinearRegression(), 'bootstrap': True, 'bootstrap_features': True, 'max_features': 1.0, 'max_samples': 1.0, 'n_estimators': 10}\n",
            "CPU times: user 377 ms, sys: 33.7 ms, total: 410 ms\n",
            "Wall time: 11.8 s\n"
          ]
        }
      ],
      "source": [
        "%%time\n",
        "\n",
        "# n_samples = data_read.data.shape[0]\n",
        "# n_features = data_read.data.shape[1]\n",
        "\n",
        "params = {'base_estimator': [None, LinearRegression(), KNeighborsRegressor()],\n",
        "          'n_estimators': [10,15,21],\n",
        "          'max_samples': [0.5,1.0],\n",
        "          'max_features': [0.5,1.0],\n",
        "          'bootstrap': [True, False],\n",
        "          'bootstrap_features': [True, False]}\n",
        "\n",
        "bagging_regressor_grid = GridSearchCV(BaggingRegressor(random_state=1, n_jobs=-1), param_grid =params, cv=3, n_jobs=-1, verbose=1)\n",
        "bagging_regressor_grid.fit(X_train, Y_train)\n",
        "\n",
        "print('Train R^2 Score : %.3f'%bagging_regressor_grid.best_estimator_.score(X_train, Y_train))\n",
        "print('Test R^2 Score : %.3f'%bagging_regressor_grid.best_estimator_.score(X_test, Y_test))\n",
        "print('Overall R^2 Score : %.3f'%bagging_regressor_grid.best_estimator_.score(Cat_1,Cat_2))\n",
        "print('Best Parameters : ',bagging_regressor_grid.best_params_)\n",
        "\n",
        "\n",
        "     "
      ]
    },
    {
      "cell_type": "code",
      "execution_count": 232,
      "metadata": {
        "id": "NVCEXAWqTjlq",
        "colab": {
          "base_uri": "https://localhost:8080/"
        },
        "outputId": "ff7c5d65-8d4f-4a2c-a38e-8e5b1c8ece2e"
      },
      "outputs": [
        {
          "output_type": "stream",
          "name": "stdout",
          "text": [
            "Fitting 3 folds for each of 144 candidates, totalling 432 fits\n",
            "Train R^2 Score : 0.967\n",
            "Test R^2 Score : 0.863\n",
            "Test R^2 Score : 0.962\n",
            "Best Parameters :  {'base_estimator': LinearRegression(), 'bootstrap': True, 'bootstrap_features': True, 'max_features': 1.0, 'max_samples': 1.0, 'n_estimators': 10}\n",
            "CPU times: user 389 ms, sys: 27.5 ms, total: 416 ms\n",
            "Wall time: 11.7 s\n"
          ]
        }
      ],
      "source": [
        "%%time\n",
        "\n",
        "# n_samples = data_read.data.shape[0]\n",
        "# n_features = data_read.data.shape[1]\n",
        "\n",
        "params = {'base_estimator': [None, LinearRegression(), KNeighborsRegressor()],\n",
        "          'n_estimators': [10,15,21],\n",
        "          'max_samples': [0.5,1.0],\n",
        "          'max_features': [0.5,1.0],\n",
        "          'bootstrap': [True, False],\n",
        "          'bootstrap_features': [True, False]}\n",
        "\n",
        "bagging_regressor_grid = GridSearchCV(BaggingRegressor(random_state=1, n_jobs=-1), param_grid =params, cv=3, n_jobs=-1, verbose=1)\n",
        "bagging_regressor_grid.fit(X_train, Y_train)\n",
        "\n",
        "print('Train R^2 Score : %.3f'%bagging_regressor_grid.best_estimator_.score(X_train, Y_train))\n",
        "print('Test R^2 Score : %.3f'%bagging_regressor_grid.best_estimator_.score(X_test, Y_test))\n",
        "print('Test R^2 Score : %.3f'%bagging_regressor_grid.best_estimator_.score(Cat_1,Cat_2))\n",
        "print('Best Parameters : ',bagging_regressor_grid.best_params_)\n",
        "\n",
        "\n",
        "     "
      ]
    },
    {
      "cell_type": "code",
      "execution_count": 233,
      "metadata": {
        "id": "oOVJdwC2Tjls"
      },
      "outputs": [],
      "source": [
        "Y_test_pred_BAGGING= bagging_regressor_grid.predict(X_test)\n",
        "Y_train_pred_BAGGING= bagging_regressor_grid.predict(X_train)"
      ]
    },
    {
      "cell_type": "code",
      "execution_count": 234,
      "metadata": {
        "id": "AgRVut4ITjlt",
        "colab": {
          "base_uri": "https://localhost:8080/"
        },
        "outputId": "e6a910e2-a958-47b2-e500-bec1b716822e"
      },
      "outputs": [
        {
          "output_type": "execute_result",
          "data": {
            "text/plain": [
              "array([1153980.67232929, 1740103.3371204 , 1041140.07363083,\n",
              "       2061138.38107296,  822155.85736814, 2884832.55071164,\n",
              "        602702.38757511, 1698338.19864   ,  461332.28266295,\n",
              "       1365117.94861827,  954684.7854971 ,  442809.50538614,\n",
              "        366761.94769268,  255772.61585066,  146694.46369998,\n",
              "       2062160.94967795,  896964.71554047, 1092549.33079748,\n",
              "       1555492.25614419,  868718.49446388,  550031.76373337])"
            ]
          },
          "metadata": {},
          "execution_count": 234
        }
      ],
      "source": [
        "result=bagging_regressor_grid.predict(Cat_1) \n",
        "result"
      ]
    },
    {
      "cell_type": "code",
      "source": [
        "Cat_2"
      ],
      "metadata": {
        "colab": {
          "base_uri": "https://localhost:8080/"
        },
        "id": "qs_mGcMa8RCI",
        "outputId": "552924bc-01e5-4cbe-afdb-cc9f7133003f"
      },
      "execution_count": 235,
      "outputs": [
        {
          "output_type": "execute_result",
          "data": {
            "text/plain": [
              "0     1200000\n",
              "1     1600000\n",
              "2     1000000\n",
              "3     2100000\n",
              "4      750000\n",
              "5     3200000\n",
              "6      600000\n",
              "7     1800000\n",
              "8      500000\n",
              "9     1200000\n",
              "10     800000\n",
              "11     650000\n",
              "12     600000\n",
              "13     400000\n",
              "14     350000\n",
              "15    2000000\n",
              "16     800000\n",
              "17    1000000\n",
              "18    1500000\n",
              "19     800000\n",
              "20     550000\n",
              "Name: Actual_Cost, dtype: int64"
            ]
          },
          "metadata": {},
          "execution_count": 235
        }
      ]
    },
    {
      "cell_type": "code",
      "source": [
        "dff= result+Cat_2"
      ],
      "metadata": {
        "id": "mU0Ap2vF_kc6"
      },
      "execution_count": 236,
      "outputs": []
    },
    {
      "cell_type": "code",
      "source": [
        "dff"
      ],
      "metadata": {
        "colab": {
          "base_uri": "https://localhost:8080/"
        },
        "id": "EhfJ27Q6_p87",
        "outputId": "0fc307f6-6b2a-4557-a25c-21844be4b370"
      },
      "execution_count": 237,
      "outputs": [
        {
          "output_type": "execute_result",
          "data": {
            "text/plain": [
              "0     2.353981e+06\n",
              "1     3.340103e+06\n",
              "2     2.041140e+06\n",
              "3     4.161138e+06\n",
              "4     1.572156e+06\n",
              "5     6.084833e+06\n",
              "6     1.202702e+06\n",
              "7     3.498338e+06\n",
              "8     9.613323e+05\n",
              "9     2.565118e+06\n",
              "10    1.754685e+06\n",
              "11    1.092810e+06\n",
              "12    9.667619e+05\n",
              "13    6.557726e+05\n",
              "14    4.966945e+05\n",
              "15    4.062161e+06\n",
              "16    1.696965e+06\n",
              "17    2.092549e+06\n",
              "18    3.055492e+06\n",
              "19    1.668718e+06\n",
              "20    1.100032e+06\n",
              "Name: Actual_Cost, dtype: float64"
            ]
          },
          "metadata": {},
          "execution_count": 237
        }
      ]
    },
    {
      "cell_type": "code",
      "execution_count": 238,
      "metadata": {
        "id": "s_dOrblVTjlt",
        "colab": {
          "base_uri": "https://localhost:8080/"
        },
        "outputId": "5da45254-eb6b-4707-bf56-ad9b2f037f34"
      },
      "outputs": [
        {
          "output_type": "execute_result",
          "data": {
            "text/plain": [
              "array([1555492.25614419,  602702.38757511,  868718.49446388,\n",
              "        822155.85736814, 1041140.07363083, 2884832.55071164,\n",
              "        896964.71554047, 1365117.94861827, 1698338.19864   ,\n",
              "       1092549.33079748, 2061138.38107296, 1153980.67232929,\n",
              "       2062160.94967795,  366761.94769268])"
            ]
          },
          "metadata": {},
          "execution_count": 238
        }
      ],
      "source": [
        "Y_train_pred_BAGGING"
      ]
    },
    {
      "cell_type": "code",
      "execution_count": 239,
      "metadata": {
        "id": "w1JzSVlHTjlu",
        "colab": {
          "base_uri": "https://localhost:8080/"
        },
        "outputId": "d9723204-48cf-4988-82be-5b7f7e8a92cc"
      },
      "outputs": [
        {
          "output_type": "stream",
          "name": "stdout",
          "text": [
            "MMRE 0.00471868741346066\n",
            "MdMRE 0.02762228312448133\n",
            "PRED 25% 100.0\n",
            "PRED MMRE 60.0\n",
            "Model Accuracy 96.69691881057754\n"
          ]
        }
      ],
      "source": [
        "#@title Evaluation results  Ensemble Learning Bagging - With Our Hybrid Approach using GridSearchCV \n",
        "\n",
        "diff=np.absolute(Y_test-Y_test_pred_BAGGING)\n",
        "MRE=diff/Y_test\n",
        "MRE=(diff/Y_test)/MRE.size\n",
        "MMRE=np.mean(MRE)/diff.size\n",
        "MdMRE=np.median(MRE)\n",
        "P=MRE[MRE<.25]\n",
        "Pred=(P.size/MRE.size) * 100\n",
        "print(\"MMRE\",MMRE)\n",
        "print(\"MdMRE\",MdMRE)\n",
        "print(\"PRED 25%\",Pred)\n",
        "Accuracy=(1-MRE)*100\n",
        "Accuracy=(Accuracy.mean())\n",
        "# MRE=(diff/y_test)/MRE.size\n",
        "P2=MRE[MRE<MMRE]\n",
        "print(\"PRED MMRE\",Pred2)\n",
        "print(\"Model Accuracy\",Accuracy)"
      ]
    },
    {
      "cell_type": "code",
      "execution_count": 240,
      "metadata": {
        "id": "K1-Qp6swTT_o",
        "colab": {
          "base_uri": "https://localhost:8080/"
        },
        "outputId": "7a980a73-3183-444c-b4db-3a40b254bd88"
      },
      "outputs": [
        {
          "output_type": "stream",
          "name": "stdout",
          "text": [
            "Fitting 3 folds for each of 192 candidates, totalling 576 fits\n",
            "Train R^2 Score : 0.998\n",
            "Test R^2 Score : 0.840\n",
            "Overall R^2 Score : 0.981\n",
            "Best Parameters :  {'base_estimator': None, 'bootstrap': False, 'bootstrap_features': False, 'max_features': 0.5, 'max_samples': 1.0, 'n_estimators': 15}\n",
            "CPU times: user 1.2 s, sys: 90.2 ms, total: 1.29 s\n",
            "Wall time: 2min 28s\n"
          ]
        }
      ],
      "source": [
        "%%time\n",
        "\n",
        "# n_samples = data_read.data.shape[0]\n",
        "# n_features = data_read.data.shape[1]\n",
        "\n",
        "params = {'base_estimator': [None,RandomForestRegressor(), DecisionTreeRegressor(), AdaBoostRegressor()],\n",
        "          'n_estimators': [10,15,21],\n",
        "          'max_samples': [0.5,1.0],\n",
        "          'max_features': [0.5,8],\n",
        "          'bootstrap': [True, False],\n",
        "          'bootstrap_features': [True, False]}\n",
        "\n",
        "bagging_regressor_grid = GridSearchCV(BaggingRegressor(random_state=1, n_jobs=-1), param_grid =params, cv=3, n_jobs=-1, verbose=1)\n",
        "bagging_regressor_grid.fit(X_train, Y_train)\n",
        "\n",
        "print('Train R^2 Score : %.3f'%bagging_regressor_grid.best_estimator_.score(X_train, Y_train))\n",
        "print('Test R^2 Score : %.3f'%bagging_regressor_grid.best_estimator_.score(X_test, Y_test))\n",
        "print('Overall R^2 Score : %.3f'%bagging_regressor_grid.best_estimator_.score(Cat_1,Cat_2))\n",
        "print('Best Parameters : ',bagging_regressor_grid.best_params_)\n",
        "\n",
        "\n",
        "     "
      ]
    },
    {
      "cell_type": "code",
      "execution_count": 241,
      "metadata": {
        "id": "D6yDznMQTT_q"
      },
      "outputs": [],
      "source": [
        "Y_test_pred_BAGGING= bagging_regressor_grid.predict(X_test)\n",
        "Y_train_pred_BAGGING= bagging_regressor_grid.predict(X_train)"
      ]
    },
    {
      "cell_type": "code",
      "execution_count": 242,
      "metadata": {
        "id": "QpHofsYATT_q",
        "colab": {
          "base_uri": "https://localhost:8080/"
        },
        "outputId": "c6964b40-f401-401d-da67-1ee9aec3e163"
      },
      "outputs": [
        {
          "output_type": "execute_result",
          "data": {
            "text/plain": [
              "array([1200000.        , 1386666.66666667, 1000000.        ,\n",
              "       2100000.        ,  750000.        , 3200000.        ,\n",
              "        600000.        , 1800000.        ,  613333.33333333,\n",
              "       1200000.        ,  846666.66666667,  733333.33333333,\n",
              "        600000.        ,  600000.        ,  600000.        ,\n",
              "       1910000.        ,  870000.        , 1043333.33333333,\n",
              "       1476666.66666667,  800000.        ,  626666.66666667])"
            ]
          },
          "metadata": {},
          "execution_count": 242
        }
      ],
      "source": [
        "result=bagging_regressor_grid.predict(Cat_1) \n",
        "result"
      ]
    },
    {
      "cell_type": "code",
      "execution_count": 243,
      "metadata": {
        "id": "UIWKniLCTT_r",
        "colab": {
          "base_uri": "https://localhost:8080/"
        },
        "outputId": "7c4531c5-6181-4c8c-b7ab-978cc607df78"
      },
      "outputs": [
        {
          "output_type": "execute_result",
          "data": {
            "text/plain": [
              "array([1476666.66666667,  600000.        ,  800000.        ,\n",
              "        750000.        , 1000000.        , 3200000.        ,\n",
              "        870000.        , 1200000.        , 1800000.        ,\n",
              "       1043333.33333333, 2100000.        , 1200000.        ,\n",
              "       1910000.        ,  600000.        ])"
            ]
          },
          "metadata": {},
          "execution_count": 243
        }
      ],
      "source": [
        "Y_train_pred_BAGGING"
      ]
    },
    {
      "cell_type": "code",
      "execution_count": 244,
      "metadata": {
        "id": "qDu59By0TT_r",
        "colab": {
          "base_uri": "https://localhost:8080/"
        },
        "outputId": "235c1cf1-29b5-4301-8348-21af73cc1b73"
      },
      "outputs": [
        {
          "output_type": "stream",
          "name": "stdout",
          "text": [
            "MMRE 0.005539994505009083\n",
            "MdMRE 0.019913419913419904\n",
            "PRED 25% 100.0\n",
            "PRED MMRE 60.0\n",
            "Model Accuracy 96.12200384649364\n"
          ]
        }
      ],
      "source": [
        "#@title Evaluation results  Ensemble Learning Bagging - With Our Hybrid Approach using GridSearchCV \n",
        "\n",
        "diff=np.absolute(Y_test-Y_test_pred_BAGGING)\n",
        "MRE=(diff/Y_test)/MRE.size\n",
        "MMRE=np.mean(MRE)/MRE.size\n",
        "MdMRE=np.median(MRE)\n",
        "P=MRE[MRE<.25]\n",
        "Pred=(P.size/MRE.size) * 100\n",
        "print(\"MMRE\",MMRE)\n",
        "print(\"MdMRE\",MdMRE)\n",
        "print(\"PRED 25%\",Pred)\n",
        "Accuracy=(1-MRE)*100\n",
        "Accuracy=(Accuracy.mean())\n",
        "# MRE=(diff/y_test)/MRE.size\n",
        "P2=MRE[MRE<MMRE]\n",
        "print(\"PRED MMRE\",Pred2)\n",
        "print(\"Model Accuracy\",Accuracy)"
      ]
    }
  ],
  "metadata": {
    "accelerator": "GPU",
    "colab": {
      "provenance": [],
      "include_colab_link": true
    },
    "gpuClass": "standard",
    "kernelspec": {
      "display_name": "Python 3",
      "name": "python3"
    },
    "language_info": {
      "name": "python"
    }
  },
  "nbformat": 4,
  "nbformat_minor": 0
}