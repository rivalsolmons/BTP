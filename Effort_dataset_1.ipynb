{
  "cells": [
    {
      "cell_type": "markdown",
      "metadata": {
        "id": "view-in-github",
        "colab_type": "text"
      },
      "source": [
        "<a href=\"https://colab.research.google.com/github/rivalsolmons/BTP/blob/main/Effort_dataset_1.ipynb\" target=\"_parent\"><img src=\"https://colab.research.google.com/assets/colab-badge.svg\" alt=\"Open In Colab\"/></a>"
      ]
    },
    {
      "cell_type": "markdown",
      "metadata": {
        "id": "Xg-Htvjr-iZl"
      },
      "source": [
        "# Effort and cost Estimation in Agile Software Development"
      ]
    },
    {
      "cell_type": "code",
      "execution_count": null,
      "metadata": {
        "id": "11ahIf4W9FOI"
      },
      "outputs": [],
      "source": [
        "#@title Cost Estimation on Zia \n",
        "import math\n",
        "import pandas as pd\n",
        "from scipy.stats import pearsonr\n",
        "import matplotlib.pyplot as plt\n",
        "import seaborn as sns\n",
        "from sklearn.model_selection import train_test_split\n",
        "from sklearn.neighbors import KNeighborsRegressor\n",
        "from sklearn.linear_model import LinearRegression\n",
        "from sklearn.svm import SVR\n",
        "from sklearn.model_selection import GridSearchCV\n",
        "from matplotlib.colors import ListedColormap  \n",
        "from sklearn.neighbors import KNeighborsClassifier\n",
        "from sklearn.metrics import confusion_matrix,ConfusionMatrixDisplay\n",
        "\n",
        "from sklearn.metrics import classification_report\n",
        "\n"
      ]
    },
    {
      "cell_type": "code",
      "source": [
        "from google.colab import drive\n",
        "drive.mount('/content/drive')\n",
        "\n",
        "data_read = pd.read_csv('/content/drive/MyDrive/Btp/Ultra/special work/Work Ensemble/zia2023.csv')"
      ],
      "metadata": {
        "colab": {
          "base_uri": "https://localhost:8080/"
        },
        "id": "XmfjGo-K5E8J",
        "outputId": "336d3a29-c347-409e-c346-e07fe4e49837"
      },
      "execution_count": null,
      "outputs": [
        {
          "output_type": "stream",
          "name": "stdout",
          "text": [
            "Drive already mounted at /content/drive; to attempt to forcibly remount, call drive.mount(\"/content/drive\", force_remount=True).\n"
          ]
        }
      ]
    },
    {
      "cell_type": "code",
      "execution_count": null,
      "metadata": {
        "colab": {
          "base_uri": "https://localhost:8080/",
          "height": 206
        },
        "id": "3Uq7ZZUf-bOC",
        "outputId": "caa50669-6922-47cd-884d-7f0961ceac30"
      },
      "outputs": [
        {
          "output_type": "execute_result",
          "data": {
            "text/plain": [
              "   sNo  Effort   Vi  ActualTime  ActualCost SizeEffort SizeTime SizeCost\n",
              "0    1     156  4.2          63     1200000          M        L        M\n",
              "1    2     202  3.7          92     1600000          L        L        L\n",
              "2    3     173  4.0          56     1000000          M        M        M\n",
              "3    4     331  4.5          86     2100000          L        L        L\n",
              "4    5     124  4.9          32      750000          M        S        M"
            ],
            "text/html": [
              "\n",
              "  <div id=\"df-2692aad3-8753-400e-9933-8ed39f3207ae\">\n",
              "    <div class=\"colab-df-container\">\n",
              "      <div>\n",
              "<style scoped>\n",
              "    .dataframe tbody tr th:only-of-type {\n",
              "        vertical-align: middle;\n",
              "    }\n",
              "\n",
              "    .dataframe tbody tr th {\n",
              "        vertical-align: top;\n",
              "    }\n",
              "\n",
              "    .dataframe thead th {\n",
              "        text-align: right;\n",
              "    }\n",
              "</style>\n",
              "<table border=\"1\" class=\"dataframe\">\n",
              "  <thead>\n",
              "    <tr style=\"text-align: right;\">\n",
              "      <th></th>\n",
              "      <th>sNo</th>\n",
              "      <th>Effort</th>\n",
              "      <th>Vi</th>\n",
              "      <th>ActualTime</th>\n",
              "      <th>ActualCost</th>\n",
              "      <th>SizeEffort</th>\n",
              "      <th>SizeTime</th>\n",
              "      <th>SizeCost</th>\n",
              "    </tr>\n",
              "  </thead>\n",
              "  <tbody>\n",
              "    <tr>\n",
              "      <th>0</th>\n",
              "      <td>1</td>\n",
              "      <td>156</td>\n",
              "      <td>4.2</td>\n",
              "      <td>63</td>\n",
              "      <td>1200000</td>\n",
              "      <td>M</td>\n",
              "      <td>L</td>\n",
              "      <td>M</td>\n",
              "    </tr>\n",
              "    <tr>\n",
              "      <th>1</th>\n",
              "      <td>2</td>\n",
              "      <td>202</td>\n",
              "      <td>3.7</td>\n",
              "      <td>92</td>\n",
              "      <td>1600000</td>\n",
              "      <td>L</td>\n",
              "      <td>L</td>\n",
              "      <td>L</td>\n",
              "    </tr>\n",
              "    <tr>\n",
              "      <th>2</th>\n",
              "      <td>3</td>\n",
              "      <td>173</td>\n",
              "      <td>4.0</td>\n",
              "      <td>56</td>\n",
              "      <td>1000000</td>\n",
              "      <td>M</td>\n",
              "      <td>M</td>\n",
              "      <td>M</td>\n",
              "    </tr>\n",
              "    <tr>\n",
              "      <th>3</th>\n",
              "      <td>4</td>\n",
              "      <td>331</td>\n",
              "      <td>4.5</td>\n",
              "      <td>86</td>\n",
              "      <td>2100000</td>\n",
              "      <td>L</td>\n",
              "      <td>L</td>\n",
              "      <td>L</td>\n",
              "    </tr>\n",
              "    <tr>\n",
              "      <th>4</th>\n",
              "      <td>5</td>\n",
              "      <td>124</td>\n",
              "      <td>4.9</td>\n",
              "      <td>32</td>\n",
              "      <td>750000</td>\n",
              "      <td>M</td>\n",
              "      <td>S</td>\n",
              "      <td>M</td>\n",
              "    </tr>\n",
              "  </tbody>\n",
              "</table>\n",
              "</div>\n",
              "      <button class=\"colab-df-convert\" onclick=\"convertToInteractive('df-2692aad3-8753-400e-9933-8ed39f3207ae')\"\n",
              "              title=\"Convert this dataframe to an interactive table.\"\n",
              "              style=\"display:none;\">\n",
              "        \n",
              "  <svg xmlns=\"http://www.w3.org/2000/svg\" height=\"24px\"viewBox=\"0 0 24 24\"\n",
              "       width=\"24px\">\n",
              "    <path d=\"M0 0h24v24H0V0z\" fill=\"none\"/>\n",
              "    <path d=\"M18.56 5.44l.94 2.06.94-2.06 2.06-.94-2.06-.94-.94-2.06-.94 2.06-2.06.94zm-11 1L8.5 8.5l.94-2.06 2.06-.94-2.06-.94L8.5 2.5l-.94 2.06-2.06.94zm10 10l.94 2.06.94-2.06 2.06-.94-2.06-.94-.94-2.06-.94 2.06-2.06.94z\"/><path d=\"M17.41 7.96l-1.37-1.37c-.4-.4-.92-.59-1.43-.59-.52 0-1.04.2-1.43.59L10.3 9.45l-7.72 7.72c-.78.78-.78 2.05 0 2.83L4 21.41c.39.39.9.59 1.41.59.51 0 1.02-.2 1.41-.59l7.78-7.78 2.81-2.81c.8-.78.8-2.07 0-2.86zM5.41 20L4 18.59l7.72-7.72 1.47 1.35L5.41 20z\"/>\n",
              "  </svg>\n",
              "      </button>\n",
              "      \n",
              "  <style>\n",
              "    .colab-df-container {\n",
              "      display:flex;\n",
              "      flex-wrap:wrap;\n",
              "      gap: 12px;\n",
              "    }\n",
              "\n",
              "    .colab-df-convert {\n",
              "      background-color: #E8F0FE;\n",
              "      border: none;\n",
              "      border-radius: 50%;\n",
              "      cursor: pointer;\n",
              "      display: none;\n",
              "      fill: #1967D2;\n",
              "      height: 32px;\n",
              "      padding: 0 0 0 0;\n",
              "      width: 32px;\n",
              "    }\n",
              "\n",
              "    .colab-df-convert:hover {\n",
              "      background-color: #E2EBFA;\n",
              "      box-shadow: 0px 1px 2px rgba(60, 64, 67, 0.3), 0px 1px 3px 1px rgba(60, 64, 67, 0.15);\n",
              "      fill: #174EA6;\n",
              "    }\n",
              "\n",
              "    [theme=dark] .colab-df-convert {\n",
              "      background-color: #3B4455;\n",
              "      fill: #D2E3FC;\n",
              "    }\n",
              "\n",
              "    [theme=dark] .colab-df-convert:hover {\n",
              "      background-color: #434B5C;\n",
              "      box-shadow: 0px 1px 3px 1px rgba(0, 0, 0, 0.15);\n",
              "      filter: drop-shadow(0px 1px 2px rgba(0, 0, 0, 0.3));\n",
              "      fill: #FFFFFF;\n",
              "    }\n",
              "  </style>\n",
              "\n",
              "      <script>\n",
              "        const buttonEl =\n",
              "          document.querySelector('#df-2692aad3-8753-400e-9933-8ed39f3207ae button.colab-df-convert');\n",
              "        buttonEl.style.display =\n",
              "          google.colab.kernel.accessAllowed ? 'block' : 'none';\n",
              "\n",
              "        async function convertToInteractive(key) {\n",
              "          const element = document.querySelector('#df-2692aad3-8753-400e-9933-8ed39f3207ae');\n",
              "          const dataTable =\n",
              "            await google.colab.kernel.invokeFunction('convertToInteractive',\n",
              "                                                     [key], {});\n",
              "          if (!dataTable) return;\n",
              "\n",
              "          const docLinkHtml = 'Like what you see? Visit the ' +\n",
              "            '<a target=\"_blank\" href=https://colab.research.google.com/notebooks/data_table.ipynb>data table notebook</a>'\n",
              "            + ' to learn more about interactive tables.';\n",
              "          element.innerHTML = '';\n",
              "          dataTable['output_type'] = 'display_data';\n",
              "          await google.colab.output.renderOutput(dataTable, element);\n",
              "          const docLink = document.createElement('div');\n",
              "          docLink.innerHTML = docLinkHtml;\n",
              "          element.appendChild(docLink);\n",
              "        }\n",
              "      </script>\n",
              "    </div>\n",
              "  </div>\n",
              "  "
            ]
          },
          "metadata": {},
          "execution_count": 367
        }
      ],
      "source": [
        "data_read.head()"
      ]
    },
    {
      "cell_type": "code",
      "source": [
        "data_read.info()"
      ],
      "metadata": {
        "colab": {
          "base_uri": "https://localhost:8080/"
        },
        "id": "XUSielkXhKzH",
        "outputId": "487044ac-5595-4737-bc01-ebfae3701ce9"
      },
      "execution_count": null,
      "outputs": [
        {
          "output_type": "stream",
          "name": "stdout",
          "text": [
            "<class 'pandas.core.frame.DataFrame'>\n",
            "RangeIndex: 21 entries, 0 to 20\n",
            "Data columns (total 8 columns):\n",
            " #   Column      Non-Null Count  Dtype  \n",
            "---  ------      --------------  -----  \n",
            " 0   sNo         21 non-null     int64  \n",
            " 1   Effort      21 non-null     int64  \n",
            " 2   Vi          21 non-null     float64\n",
            " 3   ActualTime  21 non-null     int64  \n",
            " 4   ActualCost  21 non-null     int64  \n",
            " 5   SizeEffort  21 non-null     object \n",
            " 6   SizeTime    21 non-null     object \n",
            " 7   SizeCost    21 non-null     object \n",
            "dtypes: float64(1), int64(4), object(3)\n",
            "memory usage: 1.4+ KB\n"
          ]
        }
      ]
    },
    {
      "cell_type": "code",
      "source": [
        "len(data_read)"
      ],
      "metadata": {
        "colab": {
          "base_uri": "https://localhost:8080/"
        },
        "id": "CYqjQ8yHavdf",
        "outputId": "c16c9431-ad5e-493a-e92d-da22ba3ea1ec"
      },
      "execution_count": null,
      "outputs": [
        {
          "output_type": "execute_result",
          "data": {
            "text/plain": [
              "21"
            ]
          },
          "metadata": {},
          "execution_count": 369
        }
      ]
    },
    {
      "cell_type": "code",
      "source": [
        "#@title Improving The data Qualitity \n",
        "#@markdown  "
      ],
      "metadata": {
        "id": "zHu2XEHaHcGh"
      },
      "execution_count": null,
      "outputs": []
    },
    {
      "cell_type": "code",
      "source": [
        "print(data_read['SizeEffort'].value_counts())\n",
        "print(data_read['SizeTime'].value_counts())\n",
        "print(data_read['SizeCost'].value_counts())\n"
      ],
      "metadata": {
        "colab": {
          "base_uri": "https://localhost:8080/"
        },
        "id": "kAja46GbL2fI",
        "outputId": "fbba9e91-600f-4353-c0cd-b83a184744dd"
      },
      "execution_count": null,
      "outputs": [
        {
          "output_type": "stream",
          "name": "stdout",
          "text": [
            "M    7\n",
            "L    7\n",
            "S    7\n",
            "Name: SizeEffort, dtype: int64\n",
            "L    7\n",
            "M    7\n",
            "S    7\n",
            "Name: SizeTime, dtype: int64\n",
            "M    8\n",
            "S    7\n",
            "L    6\n",
            "Name: SizeCost, dtype: int64\n"
          ]
        }
      ]
    },
    {
      "cell_type": "code",
      "source": [
        "# from sklearn.preprocessing import LabelEncoder\n",
        "\n",
        "# encoder = LabelEncoder()\n",
        "\n",
        "# data_read['SizeEffort',\t'SizeTime',\t'SizeCost'] = encoder.fit_transform(data_read['SizeEffort',\t'SizeTime',\t'SizeCost'])"
      ],
      "metadata": {
        "id": "daf670D3HgnI"
      },
      "execution_count": null,
      "outputs": []
    },
    {
      "cell_type": "code",
      "source": [
        "dataMapping={\"L\":2,\n",
        "             \"M\":1,\n",
        "             \"S\":0\n",
        "             }"
      ],
      "metadata": {
        "id": "VZPPODiwPTfH"
      },
      "execution_count": null,
      "outputs": []
    },
    {
      "cell_type": "code",
      "source": [
        "data_read['SizeEffort']=data_read['SizeEffort'].map(dataMapping)\n",
        "data_read['SizeTime']=data_read['SizeTime'].map(dataMapping)\n",
        "data_read['SizeCost']=data_read['SizeCost'].map(dataMapping)"
      ],
      "metadata": {
        "id": "EJHN9vitQo7L"
      },
      "execution_count": null,
      "outputs": []
    },
    {
      "cell_type": "code",
      "source": [
        "#@title New Updated Data\n",
        "data_read.head()"
      ],
      "metadata": {
        "colab": {
          "base_uri": "https://localhost:8080/",
          "height": 206
        },
        "id": "VQqzc0u-RQo2",
        "outputId": "cd80c3e0-ce3d-4dd9-835d-bab218179dc0"
      },
      "execution_count": null,
      "outputs": [
        {
          "output_type": "execute_result",
          "data": {
            "text/plain": [
              "   sNo  Effort   Vi  ActualTime  ActualCost  SizeEffort  SizeTime  SizeCost\n",
              "0    1     156  4.2          63     1200000           1         2         1\n",
              "1    2     202  3.7          92     1600000           2         2         2\n",
              "2    3     173  4.0          56     1000000           1         1         1\n",
              "3    4     331  4.5          86     2100000           2         2         2\n",
              "4    5     124  4.9          32      750000           1         0         1"
            ],
            "text/html": [
              "\n",
              "  <div id=\"df-33260265-ad5e-4abd-9c0b-8e46a925f3f7\">\n",
              "    <div class=\"colab-df-container\">\n",
              "      <div>\n",
              "<style scoped>\n",
              "    .dataframe tbody tr th:only-of-type {\n",
              "        vertical-align: middle;\n",
              "    }\n",
              "\n",
              "    .dataframe tbody tr th {\n",
              "        vertical-align: top;\n",
              "    }\n",
              "\n",
              "    .dataframe thead th {\n",
              "        text-align: right;\n",
              "    }\n",
              "</style>\n",
              "<table border=\"1\" class=\"dataframe\">\n",
              "  <thead>\n",
              "    <tr style=\"text-align: right;\">\n",
              "      <th></th>\n",
              "      <th>sNo</th>\n",
              "      <th>Effort</th>\n",
              "      <th>Vi</th>\n",
              "      <th>ActualTime</th>\n",
              "      <th>ActualCost</th>\n",
              "      <th>SizeEffort</th>\n",
              "      <th>SizeTime</th>\n",
              "      <th>SizeCost</th>\n",
              "    </tr>\n",
              "  </thead>\n",
              "  <tbody>\n",
              "    <tr>\n",
              "      <th>0</th>\n",
              "      <td>1</td>\n",
              "      <td>156</td>\n",
              "      <td>4.2</td>\n",
              "      <td>63</td>\n",
              "      <td>1200000</td>\n",
              "      <td>1</td>\n",
              "      <td>2</td>\n",
              "      <td>1</td>\n",
              "    </tr>\n",
              "    <tr>\n",
              "      <th>1</th>\n",
              "      <td>2</td>\n",
              "      <td>202</td>\n",
              "      <td>3.7</td>\n",
              "      <td>92</td>\n",
              "      <td>1600000</td>\n",
              "      <td>2</td>\n",
              "      <td>2</td>\n",
              "      <td>2</td>\n",
              "    </tr>\n",
              "    <tr>\n",
              "      <th>2</th>\n",
              "      <td>3</td>\n",
              "      <td>173</td>\n",
              "      <td>4.0</td>\n",
              "      <td>56</td>\n",
              "      <td>1000000</td>\n",
              "      <td>1</td>\n",
              "      <td>1</td>\n",
              "      <td>1</td>\n",
              "    </tr>\n",
              "    <tr>\n",
              "      <th>3</th>\n",
              "      <td>4</td>\n",
              "      <td>331</td>\n",
              "      <td>4.5</td>\n",
              "      <td>86</td>\n",
              "      <td>2100000</td>\n",
              "      <td>2</td>\n",
              "      <td>2</td>\n",
              "      <td>2</td>\n",
              "    </tr>\n",
              "    <tr>\n",
              "      <th>4</th>\n",
              "      <td>5</td>\n",
              "      <td>124</td>\n",
              "      <td>4.9</td>\n",
              "      <td>32</td>\n",
              "      <td>750000</td>\n",
              "      <td>1</td>\n",
              "      <td>0</td>\n",
              "      <td>1</td>\n",
              "    </tr>\n",
              "  </tbody>\n",
              "</table>\n",
              "</div>\n",
              "      <button class=\"colab-df-convert\" onclick=\"convertToInteractive('df-33260265-ad5e-4abd-9c0b-8e46a925f3f7')\"\n",
              "              title=\"Convert this dataframe to an interactive table.\"\n",
              "              style=\"display:none;\">\n",
              "        \n",
              "  <svg xmlns=\"http://www.w3.org/2000/svg\" height=\"24px\"viewBox=\"0 0 24 24\"\n",
              "       width=\"24px\">\n",
              "    <path d=\"M0 0h24v24H0V0z\" fill=\"none\"/>\n",
              "    <path d=\"M18.56 5.44l.94 2.06.94-2.06 2.06-.94-2.06-.94-.94-2.06-.94 2.06-2.06.94zm-11 1L8.5 8.5l.94-2.06 2.06-.94-2.06-.94L8.5 2.5l-.94 2.06-2.06.94zm10 10l.94 2.06.94-2.06 2.06-.94-2.06-.94-.94-2.06-.94 2.06-2.06.94z\"/><path d=\"M17.41 7.96l-1.37-1.37c-.4-.4-.92-.59-1.43-.59-.52 0-1.04.2-1.43.59L10.3 9.45l-7.72 7.72c-.78.78-.78 2.05 0 2.83L4 21.41c.39.39.9.59 1.41.59.51 0 1.02-.2 1.41-.59l7.78-7.78 2.81-2.81c.8-.78.8-2.07 0-2.86zM5.41 20L4 18.59l7.72-7.72 1.47 1.35L5.41 20z\"/>\n",
              "  </svg>\n",
              "      </button>\n",
              "      \n",
              "  <style>\n",
              "    .colab-df-container {\n",
              "      display:flex;\n",
              "      flex-wrap:wrap;\n",
              "      gap: 12px;\n",
              "    }\n",
              "\n",
              "    .colab-df-convert {\n",
              "      background-color: #E8F0FE;\n",
              "      border: none;\n",
              "      border-radius: 50%;\n",
              "      cursor: pointer;\n",
              "      display: none;\n",
              "      fill: #1967D2;\n",
              "      height: 32px;\n",
              "      padding: 0 0 0 0;\n",
              "      width: 32px;\n",
              "    }\n",
              "\n",
              "    .colab-df-convert:hover {\n",
              "      background-color: #E2EBFA;\n",
              "      box-shadow: 0px 1px 2px rgba(60, 64, 67, 0.3), 0px 1px 3px 1px rgba(60, 64, 67, 0.15);\n",
              "      fill: #174EA6;\n",
              "    }\n",
              "\n",
              "    [theme=dark] .colab-df-convert {\n",
              "      background-color: #3B4455;\n",
              "      fill: #D2E3FC;\n",
              "    }\n",
              "\n",
              "    [theme=dark] .colab-df-convert:hover {\n",
              "      background-color: #434B5C;\n",
              "      box-shadow: 0px 1px 3px 1px rgba(0, 0, 0, 0.15);\n",
              "      filter: drop-shadow(0px 1px 2px rgba(0, 0, 0, 0.3));\n",
              "      fill: #FFFFFF;\n",
              "    }\n",
              "  </style>\n",
              "\n",
              "      <script>\n",
              "        const buttonEl =\n",
              "          document.querySelector('#df-33260265-ad5e-4abd-9c0b-8e46a925f3f7 button.colab-df-convert');\n",
              "        buttonEl.style.display =\n",
              "          google.colab.kernel.accessAllowed ? 'block' : 'none';\n",
              "\n",
              "        async function convertToInteractive(key) {\n",
              "          const element = document.querySelector('#df-33260265-ad5e-4abd-9c0b-8e46a925f3f7');\n",
              "          const dataTable =\n",
              "            await google.colab.kernel.invokeFunction('convertToInteractive',\n",
              "                                                     [key], {});\n",
              "          if (!dataTable) return;\n",
              "\n",
              "          const docLinkHtml = 'Like what you see? Visit the ' +\n",
              "            '<a target=\"_blank\" href=https://colab.research.google.com/notebooks/data_table.ipynb>data table notebook</a>'\n",
              "            + ' to learn more about interactive tables.';\n",
              "          element.innerHTML = '';\n",
              "          dataTable['output_type'] = 'display_data';\n",
              "          await google.colab.output.renderOutput(dataTable, element);\n",
              "          const docLink = document.createElement('div');\n",
              "          docLink.innerHTML = docLinkHtml;\n",
              "          element.appendChild(docLink);\n",
              "        }\n",
              "      </script>\n",
              "    </div>\n",
              "  </div>\n",
              "  "
            ]
          },
          "metadata": {},
          "execution_count": 375
        }
      ]
    },
    {
      "cell_type": "code",
      "source": [
        "data_read.info()"
      ],
      "metadata": {
        "colab": {
          "base_uri": "https://localhost:8080/"
        },
        "id": "a1E0wwI2lPp2",
        "outputId": "cdf201a4-757b-43c0-dd88-d75529201776"
      },
      "execution_count": null,
      "outputs": [
        {
          "output_type": "stream",
          "name": "stdout",
          "text": [
            "<class 'pandas.core.frame.DataFrame'>\n",
            "RangeIndex: 21 entries, 0 to 20\n",
            "Data columns (total 8 columns):\n",
            " #   Column      Non-Null Count  Dtype  \n",
            "---  ------      --------------  -----  \n",
            " 0   sNo         21 non-null     int64  \n",
            " 1   Effort      21 non-null     int64  \n",
            " 2   Vi          21 non-null     float64\n",
            " 3   ActualTime  21 non-null     int64  \n",
            " 4   ActualCost  21 non-null     int64  \n",
            " 5   SizeEffort  21 non-null     int64  \n",
            " 6   SizeTime    21 non-null     int64  \n",
            " 7   SizeCost    21 non-null     int64  \n",
            "dtypes: float64(1), int64(7)\n",
            "memory usage: 1.4 KB\n"
          ]
        }
      ]
    },
    {
      "cell_type": "code",
      "execution_count": null,
      "metadata": {
        "id": "1cIKsFp8SkjN"
      },
      "outputs": [],
      "source": [
        "#@title Defining Category 1 and Category 2\n",
        "\n",
        "\n",
        "#features = ['Effort',\t'Vi',\t'ActualTime'\t,\t'SizeEffort',\t'SizeTime',\t'SizeCost']\n",
        "features = ['ActualCost',\t'Vi',\t'ActualTime'\t,\t'SizeEffort',\t'SizeTime',\t'SizeCost']\n",
        "\n",
        "\n",
        "\n",
        "Cat_1 = data_read[features]\n",
        "Cat_2 = data_read['Effort']"
      ]
    },
    {
      "cell_type": "code",
      "execution_count": null,
      "metadata": {
        "colab": {
          "base_uri": "https://localhost:8080/",
          "height": 300
        },
        "id": "ZB46SrBPCmES",
        "outputId": "17b4be88-9312-460b-a1e2-cba14afa6a98"
      },
      "outputs": [
        {
          "output_type": "execute_result",
          "data": {
            "text/plain": [
              "         ActualCost         Vi  ActualTime  SizeEffort  SizeTime   SizeCost\n",
              "count  2.100000e+01  21.000000   21.000000    21.00000  21.00000  21.000000\n",
              "mean   1.114286e+06   4.071429   56.428571     1.00000   1.00000   0.952381\n",
              "std    7.058936e+05   0.325796   26.177417     0.83666   0.83666   0.804748\n",
              "min    3.500000e+05   3.700000   21.000000     0.00000   0.00000   0.000000\n",
              "25%    6.000000e+05   3.900000   35.000000     0.00000   0.00000   0.000000\n",
              "50%    8.000000e+05   4.000000   52.000000     1.00000   1.00000   1.000000\n",
              "75%    1.500000e+06   4.200000   80.000000     2.00000   2.00000   2.000000\n",
              "max    3.200000e+06   4.900000  112.000000     2.00000   2.00000   2.000000"
            ],
            "text/html": [
              "\n",
              "  <div id=\"df-be37130d-91a6-4d19-853f-2e2ca499fda7\">\n",
              "    <div class=\"colab-df-container\">\n",
              "      <div>\n",
              "<style scoped>\n",
              "    .dataframe tbody tr th:only-of-type {\n",
              "        vertical-align: middle;\n",
              "    }\n",
              "\n",
              "    .dataframe tbody tr th {\n",
              "        vertical-align: top;\n",
              "    }\n",
              "\n",
              "    .dataframe thead th {\n",
              "        text-align: right;\n",
              "    }\n",
              "</style>\n",
              "<table border=\"1\" class=\"dataframe\">\n",
              "  <thead>\n",
              "    <tr style=\"text-align: right;\">\n",
              "      <th></th>\n",
              "      <th>ActualCost</th>\n",
              "      <th>Vi</th>\n",
              "      <th>ActualTime</th>\n",
              "      <th>SizeEffort</th>\n",
              "      <th>SizeTime</th>\n",
              "      <th>SizeCost</th>\n",
              "    </tr>\n",
              "  </thead>\n",
              "  <tbody>\n",
              "    <tr>\n",
              "      <th>count</th>\n",
              "      <td>2.100000e+01</td>\n",
              "      <td>21.000000</td>\n",
              "      <td>21.000000</td>\n",
              "      <td>21.00000</td>\n",
              "      <td>21.00000</td>\n",
              "      <td>21.000000</td>\n",
              "    </tr>\n",
              "    <tr>\n",
              "      <th>mean</th>\n",
              "      <td>1.114286e+06</td>\n",
              "      <td>4.071429</td>\n",
              "      <td>56.428571</td>\n",
              "      <td>1.00000</td>\n",
              "      <td>1.00000</td>\n",
              "      <td>0.952381</td>\n",
              "    </tr>\n",
              "    <tr>\n",
              "      <th>std</th>\n",
              "      <td>7.058936e+05</td>\n",
              "      <td>0.325796</td>\n",
              "      <td>26.177417</td>\n",
              "      <td>0.83666</td>\n",
              "      <td>0.83666</td>\n",
              "      <td>0.804748</td>\n",
              "    </tr>\n",
              "    <tr>\n",
              "      <th>min</th>\n",
              "      <td>3.500000e+05</td>\n",
              "      <td>3.700000</td>\n",
              "      <td>21.000000</td>\n",
              "      <td>0.00000</td>\n",
              "      <td>0.00000</td>\n",
              "      <td>0.000000</td>\n",
              "    </tr>\n",
              "    <tr>\n",
              "      <th>25%</th>\n",
              "      <td>6.000000e+05</td>\n",
              "      <td>3.900000</td>\n",
              "      <td>35.000000</td>\n",
              "      <td>0.00000</td>\n",
              "      <td>0.00000</td>\n",
              "      <td>0.000000</td>\n",
              "    </tr>\n",
              "    <tr>\n",
              "      <th>50%</th>\n",
              "      <td>8.000000e+05</td>\n",
              "      <td>4.000000</td>\n",
              "      <td>52.000000</td>\n",
              "      <td>1.00000</td>\n",
              "      <td>1.00000</td>\n",
              "      <td>1.000000</td>\n",
              "    </tr>\n",
              "    <tr>\n",
              "      <th>75%</th>\n",
              "      <td>1.500000e+06</td>\n",
              "      <td>4.200000</td>\n",
              "      <td>80.000000</td>\n",
              "      <td>2.00000</td>\n",
              "      <td>2.00000</td>\n",
              "      <td>2.000000</td>\n",
              "    </tr>\n",
              "    <tr>\n",
              "      <th>max</th>\n",
              "      <td>3.200000e+06</td>\n",
              "      <td>4.900000</td>\n",
              "      <td>112.000000</td>\n",
              "      <td>2.00000</td>\n",
              "      <td>2.00000</td>\n",
              "      <td>2.000000</td>\n",
              "    </tr>\n",
              "  </tbody>\n",
              "</table>\n",
              "</div>\n",
              "      <button class=\"colab-df-convert\" onclick=\"convertToInteractive('df-be37130d-91a6-4d19-853f-2e2ca499fda7')\"\n",
              "              title=\"Convert this dataframe to an interactive table.\"\n",
              "              style=\"display:none;\">\n",
              "        \n",
              "  <svg xmlns=\"http://www.w3.org/2000/svg\" height=\"24px\"viewBox=\"0 0 24 24\"\n",
              "       width=\"24px\">\n",
              "    <path d=\"M0 0h24v24H0V0z\" fill=\"none\"/>\n",
              "    <path d=\"M18.56 5.44l.94 2.06.94-2.06 2.06-.94-2.06-.94-.94-2.06-.94 2.06-2.06.94zm-11 1L8.5 8.5l.94-2.06 2.06-.94-2.06-.94L8.5 2.5l-.94 2.06-2.06.94zm10 10l.94 2.06.94-2.06 2.06-.94-2.06-.94-.94-2.06-.94 2.06-2.06.94z\"/><path d=\"M17.41 7.96l-1.37-1.37c-.4-.4-.92-.59-1.43-.59-.52 0-1.04.2-1.43.59L10.3 9.45l-7.72 7.72c-.78.78-.78 2.05 0 2.83L4 21.41c.39.39.9.59 1.41.59.51 0 1.02-.2 1.41-.59l7.78-7.78 2.81-2.81c.8-.78.8-2.07 0-2.86zM5.41 20L4 18.59l7.72-7.72 1.47 1.35L5.41 20z\"/>\n",
              "  </svg>\n",
              "      </button>\n",
              "      \n",
              "  <style>\n",
              "    .colab-df-container {\n",
              "      display:flex;\n",
              "      flex-wrap:wrap;\n",
              "      gap: 12px;\n",
              "    }\n",
              "\n",
              "    .colab-df-convert {\n",
              "      background-color: #E8F0FE;\n",
              "      border: none;\n",
              "      border-radius: 50%;\n",
              "      cursor: pointer;\n",
              "      display: none;\n",
              "      fill: #1967D2;\n",
              "      height: 32px;\n",
              "      padding: 0 0 0 0;\n",
              "      width: 32px;\n",
              "    }\n",
              "\n",
              "    .colab-df-convert:hover {\n",
              "      background-color: #E2EBFA;\n",
              "      box-shadow: 0px 1px 2px rgba(60, 64, 67, 0.3), 0px 1px 3px 1px rgba(60, 64, 67, 0.15);\n",
              "      fill: #174EA6;\n",
              "    }\n",
              "\n",
              "    [theme=dark] .colab-df-convert {\n",
              "      background-color: #3B4455;\n",
              "      fill: #D2E3FC;\n",
              "    }\n",
              "\n",
              "    [theme=dark] .colab-df-convert:hover {\n",
              "      background-color: #434B5C;\n",
              "      box-shadow: 0px 1px 3px 1px rgba(0, 0, 0, 0.15);\n",
              "      filter: drop-shadow(0px 1px 2px rgba(0, 0, 0, 0.3));\n",
              "      fill: #FFFFFF;\n",
              "    }\n",
              "  </style>\n",
              "\n",
              "      <script>\n",
              "        const buttonEl =\n",
              "          document.querySelector('#df-be37130d-91a6-4d19-853f-2e2ca499fda7 button.colab-df-convert');\n",
              "        buttonEl.style.display =\n",
              "          google.colab.kernel.accessAllowed ? 'block' : 'none';\n",
              "\n",
              "        async function convertToInteractive(key) {\n",
              "          const element = document.querySelector('#df-be37130d-91a6-4d19-853f-2e2ca499fda7');\n",
              "          const dataTable =\n",
              "            await google.colab.kernel.invokeFunction('convertToInteractive',\n",
              "                                                     [key], {});\n",
              "          if (!dataTable) return;\n",
              "\n",
              "          const docLinkHtml = 'Like what you see? Visit the ' +\n",
              "            '<a target=\"_blank\" href=https://colab.research.google.com/notebooks/data_table.ipynb>data table notebook</a>'\n",
              "            + ' to learn more about interactive tables.';\n",
              "          element.innerHTML = '';\n",
              "          dataTable['output_type'] = 'display_data';\n",
              "          await google.colab.output.renderOutput(dataTable, element);\n",
              "          const docLink = document.createElement('div');\n",
              "          docLink.innerHTML = docLinkHtml;\n",
              "          element.appendChild(docLink);\n",
              "        }\n",
              "      </script>\n",
              "    </div>\n",
              "  </div>\n",
              "  "
            ]
          },
          "metadata": {},
          "execution_count": 378
        }
      ],
      "source": [
        "\n",
        "#@title Describing Categorical Data \n",
        "Cat_1.describe()\n"
      ]
    },
    {
      "cell_type": "code",
      "source": [],
      "metadata": {
        "id": "ZoPPEu0MTb4q"
      },
      "execution_count": null,
      "outputs": []
    },
    {
      "cell_type": "code",
      "execution_count": null,
      "metadata": {
        "id": "GEXGsEJbF3oo",
        "colab": {
          "base_uri": "https://localhost:8080/"
        },
        "outputId": "548ee212-d3c9-4c88-d400-f29d7ab9f7de"
      },
      "outputs": [
        {
          "output_type": "stream",
          "name": "stdout",
          "text": [
            "    ActualCost   Vi  ActualTime  SizeEffort  SizeTime  SizeCost\n",
            "0      1200000  4.2          63           1         2         1\n",
            "1      1600000  3.7          92           2         2         2\n",
            "2      1000000  4.0          56           1         1         1\n",
            "3      2100000  4.5          86           2         2         2\n",
            "4       750000  4.9          32           1         0         1\n",
            "5      3200000  4.1          91           2         2         2\n",
            "6       600000  4.2          35           0         0         0\n",
            "7      1800000  3.8          93           2         2         2\n",
            "8       500000  3.9          36           0         0         0\n",
            "9      1200000  4.6          62           2         1         1\n",
            "10      800000  4.6          45           1         1         1\n",
            "11      650000  3.9          37           0         1         0\n",
            "12      600000  3.9          32           0         0         0\n",
            "13      400000  3.9          30           0         0         0\n",
            "14      350000  3.9          21           0         0         0\n",
            "15     2000000  4.0         112           2         2         2\n",
            "16      800000  4.0          39           1         1         1\n",
            "17     1000000  4.0          52           1         1         1\n",
            "18     1500000  4.0          80           2         2         2\n",
            "19      800000  3.7          56           1         1         1\n",
            "20      550000  3.7          35           0         0         0\n"
          ]
        }
      ],
      "source": [
        "#For debugging purpose\n",
        "print(Cat_1)"
      ]
    },
    {
      "cell_type": "code",
      "execution_count": null,
      "metadata": {
        "colab": {
          "base_uri": "https://localhost:8080/",
          "height": 708
        },
        "id": "EK8En7n2fnjK",
        "outputId": "8b09e6be-c033-46ec-9120-7546dde622ae"
      },
      "outputs": [
        {
          "output_type": "display_data",
          "data": {
            "text/plain": [
              "    ActualCost   Vi  ActualTime  SizeEffort  SizeTime  SizeCost\n",
              "0      1200000  4.2          63           1         2         1\n",
              "1      1600000  3.7          92           2         2         2\n",
              "2      1000000  4.0          56           1         1         1\n",
              "3      2100000  4.5          86           2         2         2\n",
              "4       750000  4.9          32           1         0         1\n",
              "5      3200000  4.1          91           2         2         2\n",
              "6       600000  4.2          35           0         0         0\n",
              "7      1800000  3.8          93           2         2         2\n",
              "8       500000  3.9          36           0         0         0\n",
              "9      1200000  4.6          62           2         1         1\n",
              "10      800000  4.6          45           1         1         1\n",
              "11      650000  3.9          37           0         1         0\n",
              "12      600000  3.9          32           0         0         0\n",
              "13      400000  3.9          30           0         0         0\n",
              "14      350000  3.9          21           0         0         0\n",
              "15     2000000  4.0         112           2         2         2\n",
              "16      800000  4.0          39           1         1         1\n",
              "17     1000000  4.0          52           1         1         1\n",
              "18     1500000  4.0          80           2         2         2\n",
              "19      800000  3.7          56           1         1         1\n",
              "20      550000  3.7          35           0         0         0"
            ],
            "text/html": [
              "\n",
              "  <div id=\"df-235a3e07-c178-418d-a839-afd7f84d82bd\">\n",
              "    <div class=\"colab-df-container\">\n",
              "      <div>\n",
              "<style scoped>\n",
              "    .dataframe tbody tr th:only-of-type {\n",
              "        vertical-align: middle;\n",
              "    }\n",
              "\n",
              "    .dataframe tbody tr th {\n",
              "        vertical-align: top;\n",
              "    }\n",
              "\n",
              "    .dataframe thead th {\n",
              "        text-align: right;\n",
              "    }\n",
              "</style>\n",
              "<table border=\"1\" class=\"dataframe\">\n",
              "  <thead>\n",
              "    <tr style=\"text-align: right;\">\n",
              "      <th></th>\n",
              "      <th>ActualCost</th>\n",
              "      <th>Vi</th>\n",
              "      <th>ActualTime</th>\n",
              "      <th>SizeEffort</th>\n",
              "      <th>SizeTime</th>\n",
              "      <th>SizeCost</th>\n",
              "    </tr>\n",
              "  </thead>\n",
              "  <tbody>\n",
              "    <tr>\n",
              "      <th>0</th>\n",
              "      <td>1200000</td>\n",
              "      <td>4.2</td>\n",
              "      <td>63</td>\n",
              "      <td>1</td>\n",
              "      <td>2</td>\n",
              "      <td>1</td>\n",
              "    </tr>\n",
              "    <tr>\n",
              "      <th>1</th>\n",
              "      <td>1600000</td>\n",
              "      <td>3.7</td>\n",
              "      <td>92</td>\n",
              "      <td>2</td>\n",
              "      <td>2</td>\n",
              "      <td>2</td>\n",
              "    </tr>\n",
              "    <tr>\n",
              "      <th>2</th>\n",
              "      <td>1000000</td>\n",
              "      <td>4.0</td>\n",
              "      <td>56</td>\n",
              "      <td>1</td>\n",
              "      <td>1</td>\n",
              "      <td>1</td>\n",
              "    </tr>\n",
              "    <tr>\n",
              "      <th>3</th>\n",
              "      <td>2100000</td>\n",
              "      <td>4.5</td>\n",
              "      <td>86</td>\n",
              "      <td>2</td>\n",
              "      <td>2</td>\n",
              "      <td>2</td>\n",
              "    </tr>\n",
              "    <tr>\n",
              "      <th>4</th>\n",
              "      <td>750000</td>\n",
              "      <td>4.9</td>\n",
              "      <td>32</td>\n",
              "      <td>1</td>\n",
              "      <td>0</td>\n",
              "      <td>1</td>\n",
              "    </tr>\n",
              "    <tr>\n",
              "      <th>5</th>\n",
              "      <td>3200000</td>\n",
              "      <td>4.1</td>\n",
              "      <td>91</td>\n",
              "      <td>2</td>\n",
              "      <td>2</td>\n",
              "      <td>2</td>\n",
              "    </tr>\n",
              "    <tr>\n",
              "      <th>6</th>\n",
              "      <td>600000</td>\n",
              "      <td>4.2</td>\n",
              "      <td>35</td>\n",
              "      <td>0</td>\n",
              "      <td>0</td>\n",
              "      <td>0</td>\n",
              "    </tr>\n",
              "    <tr>\n",
              "      <th>7</th>\n",
              "      <td>1800000</td>\n",
              "      <td>3.8</td>\n",
              "      <td>93</td>\n",
              "      <td>2</td>\n",
              "      <td>2</td>\n",
              "      <td>2</td>\n",
              "    </tr>\n",
              "    <tr>\n",
              "      <th>8</th>\n",
              "      <td>500000</td>\n",
              "      <td>3.9</td>\n",
              "      <td>36</td>\n",
              "      <td>0</td>\n",
              "      <td>0</td>\n",
              "      <td>0</td>\n",
              "    </tr>\n",
              "    <tr>\n",
              "      <th>9</th>\n",
              "      <td>1200000</td>\n",
              "      <td>4.6</td>\n",
              "      <td>62</td>\n",
              "      <td>2</td>\n",
              "      <td>1</td>\n",
              "      <td>1</td>\n",
              "    </tr>\n",
              "    <tr>\n",
              "      <th>10</th>\n",
              "      <td>800000</td>\n",
              "      <td>4.6</td>\n",
              "      <td>45</td>\n",
              "      <td>1</td>\n",
              "      <td>1</td>\n",
              "      <td>1</td>\n",
              "    </tr>\n",
              "    <tr>\n",
              "      <th>11</th>\n",
              "      <td>650000</td>\n",
              "      <td>3.9</td>\n",
              "      <td>37</td>\n",
              "      <td>0</td>\n",
              "      <td>1</td>\n",
              "      <td>0</td>\n",
              "    </tr>\n",
              "    <tr>\n",
              "      <th>12</th>\n",
              "      <td>600000</td>\n",
              "      <td>3.9</td>\n",
              "      <td>32</td>\n",
              "      <td>0</td>\n",
              "      <td>0</td>\n",
              "      <td>0</td>\n",
              "    </tr>\n",
              "    <tr>\n",
              "      <th>13</th>\n",
              "      <td>400000</td>\n",
              "      <td>3.9</td>\n",
              "      <td>30</td>\n",
              "      <td>0</td>\n",
              "      <td>0</td>\n",
              "      <td>0</td>\n",
              "    </tr>\n",
              "    <tr>\n",
              "      <th>14</th>\n",
              "      <td>350000</td>\n",
              "      <td>3.9</td>\n",
              "      <td>21</td>\n",
              "      <td>0</td>\n",
              "      <td>0</td>\n",
              "      <td>0</td>\n",
              "    </tr>\n",
              "    <tr>\n",
              "      <th>15</th>\n",
              "      <td>2000000</td>\n",
              "      <td>4.0</td>\n",
              "      <td>112</td>\n",
              "      <td>2</td>\n",
              "      <td>2</td>\n",
              "      <td>2</td>\n",
              "    </tr>\n",
              "    <tr>\n",
              "      <th>16</th>\n",
              "      <td>800000</td>\n",
              "      <td>4.0</td>\n",
              "      <td>39</td>\n",
              "      <td>1</td>\n",
              "      <td>1</td>\n",
              "      <td>1</td>\n",
              "    </tr>\n",
              "    <tr>\n",
              "      <th>17</th>\n",
              "      <td>1000000</td>\n",
              "      <td>4.0</td>\n",
              "      <td>52</td>\n",
              "      <td>1</td>\n",
              "      <td>1</td>\n",
              "      <td>1</td>\n",
              "    </tr>\n",
              "    <tr>\n",
              "      <th>18</th>\n",
              "      <td>1500000</td>\n",
              "      <td>4.0</td>\n",
              "      <td>80</td>\n",
              "      <td>2</td>\n",
              "      <td>2</td>\n",
              "      <td>2</td>\n",
              "    </tr>\n",
              "    <tr>\n",
              "      <th>19</th>\n",
              "      <td>800000</td>\n",
              "      <td>3.7</td>\n",
              "      <td>56</td>\n",
              "      <td>1</td>\n",
              "      <td>1</td>\n",
              "      <td>1</td>\n",
              "    </tr>\n",
              "    <tr>\n",
              "      <th>20</th>\n",
              "      <td>550000</td>\n",
              "      <td>3.7</td>\n",
              "      <td>35</td>\n",
              "      <td>0</td>\n",
              "      <td>0</td>\n",
              "      <td>0</td>\n",
              "    </tr>\n",
              "  </tbody>\n",
              "</table>\n",
              "</div>\n",
              "      <button class=\"colab-df-convert\" onclick=\"convertToInteractive('df-235a3e07-c178-418d-a839-afd7f84d82bd')\"\n",
              "              title=\"Convert this dataframe to an interactive table.\"\n",
              "              style=\"display:none;\">\n",
              "        \n",
              "  <svg xmlns=\"http://www.w3.org/2000/svg\" height=\"24px\"viewBox=\"0 0 24 24\"\n",
              "       width=\"24px\">\n",
              "    <path d=\"M0 0h24v24H0V0z\" fill=\"none\"/>\n",
              "    <path d=\"M18.56 5.44l.94 2.06.94-2.06 2.06-.94-2.06-.94-.94-2.06-.94 2.06-2.06.94zm-11 1L8.5 8.5l.94-2.06 2.06-.94-2.06-.94L8.5 2.5l-.94 2.06-2.06.94zm10 10l.94 2.06.94-2.06 2.06-.94-2.06-.94-.94-2.06-.94 2.06-2.06.94z\"/><path d=\"M17.41 7.96l-1.37-1.37c-.4-.4-.92-.59-1.43-.59-.52 0-1.04.2-1.43.59L10.3 9.45l-7.72 7.72c-.78.78-.78 2.05 0 2.83L4 21.41c.39.39.9.59 1.41.59.51 0 1.02-.2 1.41-.59l7.78-7.78 2.81-2.81c.8-.78.8-2.07 0-2.86zM5.41 20L4 18.59l7.72-7.72 1.47 1.35L5.41 20z\"/>\n",
              "  </svg>\n",
              "      </button>\n",
              "      \n",
              "  <style>\n",
              "    .colab-df-container {\n",
              "      display:flex;\n",
              "      flex-wrap:wrap;\n",
              "      gap: 12px;\n",
              "    }\n",
              "\n",
              "    .colab-df-convert {\n",
              "      background-color: #E8F0FE;\n",
              "      border: none;\n",
              "      border-radius: 50%;\n",
              "      cursor: pointer;\n",
              "      display: none;\n",
              "      fill: #1967D2;\n",
              "      height: 32px;\n",
              "      padding: 0 0 0 0;\n",
              "      width: 32px;\n",
              "    }\n",
              "\n",
              "    .colab-df-convert:hover {\n",
              "      background-color: #E2EBFA;\n",
              "      box-shadow: 0px 1px 2px rgba(60, 64, 67, 0.3), 0px 1px 3px 1px rgba(60, 64, 67, 0.15);\n",
              "      fill: #174EA6;\n",
              "    }\n",
              "\n",
              "    [theme=dark] .colab-df-convert {\n",
              "      background-color: #3B4455;\n",
              "      fill: #D2E3FC;\n",
              "    }\n",
              "\n",
              "    [theme=dark] .colab-df-convert:hover {\n",
              "      background-color: #434B5C;\n",
              "      box-shadow: 0px 1px 3px 1px rgba(0, 0, 0, 0.15);\n",
              "      filter: drop-shadow(0px 1px 2px rgba(0, 0, 0, 0.3));\n",
              "      fill: #FFFFFF;\n",
              "    }\n",
              "  </style>\n",
              "\n",
              "      <script>\n",
              "        const buttonEl =\n",
              "          document.querySelector('#df-235a3e07-c178-418d-a839-afd7f84d82bd button.colab-df-convert');\n",
              "        buttonEl.style.display =\n",
              "          google.colab.kernel.accessAllowed ? 'block' : 'none';\n",
              "\n",
              "        async function convertToInteractive(key) {\n",
              "          const element = document.querySelector('#df-235a3e07-c178-418d-a839-afd7f84d82bd');\n",
              "          const dataTable =\n",
              "            await google.colab.kernel.invokeFunction('convertToInteractive',\n",
              "                                                     [key], {});\n",
              "          if (!dataTable) return;\n",
              "\n",
              "          const docLinkHtml = 'Like what you see? Visit the ' +\n",
              "            '<a target=\"_blank\" href=https://colab.research.google.com/notebooks/data_table.ipynb>data table notebook</a>'\n",
              "            + ' to learn more about interactive tables.';\n",
              "          element.innerHTML = '';\n",
              "          dataTable['output_type'] = 'display_data';\n",
              "          await google.colab.output.renderOutput(dataTable, element);\n",
              "          const docLink = document.createElement('div');\n",
              "          docLink.innerHTML = docLinkHtml;\n",
              "          element.appendChild(docLink);\n",
              "        }\n",
              "      </script>\n",
              "    </div>\n",
              "  </div>\n",
              "  "
            ]
          },
          "metadata": {}
        }
      ],
      "source": [
        "#@title Describe the raw Data of splitted trained set from the dataframe\n",
        "display(Cat_1)"
      ]
    },
    {
      "cell_type": "code",
      "execution_count": null,
      "metadata": {
        "id": "QNqBXkqLxY8T"
      },
      "outputs": [],
      "source": []
    },
    {
      "cell_type": "code",
      "execution_count": null,
      "metadata": {
        "colab": {
          "base_uri": "https://localhost:8080/"
        },
        "id": "g97XTJ12xXe_",
        "outputId": "5fbe57bf-2dbd-4be9-e449-d21c822575e3"
      },
      "outputs": [
        {
          "output_type": "stream",
          "name": "stdout",
          "text": [
            "The overall nummber of projects are:  21\n"
          ]
        }
      ],
      "source": [
        "print('The overall nummber of projects are: ',len(Cat_2))"
      ]
    },
    {
      "cell_type": "code",
      "execution_count": null,
      "metadata": {
        "colab": {
          "base_uri": "https://localhost:8080/",
          "height": 399
        },
        "id": "hDINeKSAF-uO",
        "outputId": "60d1fec0-7cbe-468e-81c7-7d6dc4cf99f5"
      },
      "outputs": [
        {
          "output_type": "display_data",
          "data": {
            "text/plain": [
              "0     156\n",
              "1     202\n",
              "2     173\n",
              "3     331\n",
              "4     124\n",
              "5     339\n",
              "6      97\n",
              "7     257\n",
              "8      84\n",
              "9     211\n",
              "10    131\n",
              "11    112\n",
              "12    101\n",
              "13     74\n",
              "14     62\n",
              "15    289\n",
              "16    113\n",
              "17    141\n",
              "18    213\n",
              "19    137\n",
              "20     91\n",
              "Name: Effort, dtype: int64"
            ]
          },
          "metadata": {}
        }
      ],
      "source": [
        "display(Cat_2)"
      ]
    },
    {
      "cell_type": "code",
      "execution_count": null,
      "metadata": {
        "id": "24lr9lwxGEYY"
      },
      "outputs": [],
      "source": [
        "\n",
        "\n",
        "from sklearn.model_selection import train_test_split\n",
        "\n",
        "x_train,x_test,y_train,y_test = train_test_split(Cat_1,Cat_2,test_size=0.20, random_state=0)\n",
        "from sklearn.linear_model import LinearRegression\n",
        "ml = LinearRegression()\n",
        "ml.fit(x_train,y_train)\n",
        "ml.predict(x_test)\n",
        "y_pred1 = ml.predict(x_test)\n",
        "\n",
        "ypredx=len(x_test)\n",
        "## For Debugging Purpose\n",
        "\n",
        "\n",
        "# print(len(y_pred1))\n",
        "# print('xtrain',len(x_train))\n",
        "# print('xtest',len(x_test))"
      ]
    },
    {
      "cell_type": "code",
      "execution_count": null,
      "metadata": {
        "colab": {
          "base_uri": "https://localhost:8080/"
        },
        "id": "0lSgG170XhmO",
        "outputId": "76549bab-a451-4e16-ade0-38c72903fbf7"
      },
      "outputs": [
        {
          "output_type": "stream",
          "name": "stdout",
          "text": [
            "8      84\n",
            "13     74\n",
            "20     91\n",
            "1     202\n",
            "11    112\n",
            "Name: Effort, dtype: int64\n"
          ]
        }
      ],
      "source": [
        "import math\n",
        "print(y_test)\n"
      ]
    },
    {
      "cell_type": "code",
      "execution_count": null,
      "metadata": {
        "colab": {
          "base_uri": "https://localhost:8080/"
        },
        "id": "OaydKt4JYbMs",
        "outputId": "2d57ccc4-fd6b-49f7-9b24-cc35673ed594"
      },
      "outputs": [
        {
          "output_type": "stream",
          "name": "stdout",
          "text": [
            "[ 89.51802055  73.96429219  86.49912267 239.67789228  87.31606445]\n"
          ]
        }
      ],
      "source": [
        "print(y_pred1)"
      ]
    },
    {
      "cell_type": "code",
      "execution_count": null,
      "metadata": {
        "id": "MwXmlqdxKkcU"
      },
      "outputs": [],
      "source": [
        "ml.predict(x_train)\n",
        "x_train_pred_lr= ml.predict(x_train)"
      ]
    },
    {
      "cell_type": "code",
      "execution_count": null,
      "metadata": {
        "id": "76pId02oLNmz"
      },
      "outputs": [],
      "source": [
        "\n",
        "from sklearn.metrics import r2_score\n",
        "\n",
        "\n",
        "import numpy as np\n",
        "from sklearn.metrics import mean_absolute_error\n",
        "from sklearn.metrics import mean_squared_error\n",
        "import math\n",
        "\n",
        "\n",
        "\n",
        "# print('r2 Score::',r2_score(y_test,y_pred1))\n",
        "# print(\"Mean Absolute Diffrence:::\",np.mean(abs(y_test-y_pred1)))\n",
        "# print('MAE', mean_absolute_error(y_test,y_pred1))\n",
        "# print('MSE', mean_squared_error(y_test,y_pred1))\n",
        "# xv= math.sqrt(mean_squared_error(y_test,y_pred1))\n",
        "# print(\"Root Mean Squared Error::\",xv)"
      ]
    },
    {
      "cell_type": "code",
      "source": [],
      "metadata": {
        "id": "-ov7f1apS7T1"
      },
      "execution_count": null,
      "outputs": []
    },
    {
      "cell_type": "code",
      "execution_count": null,
      "metadata": {
        "colab": {
          "base_uri": "https://localhost:8080/",
          "height": 658
        },
        "id": "Xm0sykHILvFR",
        "outputId": "96145ce1-f0fa-47dc-c841-9d39ea4dfb3f"
      },
      "outputs": [
        {
          "output_type": "execute_result",
          "data": {
            "text/plain": [
              "Text(0.5, 1.0, 'Cost Actual vs Predicted Linear Regresssion')"
            ]
          },
          "metadata": {},
          "execution_count": 388
        },
        {
          "output_type": "display_data",
          "data": {
            "text/plain": [
              "<Figure size 700x700 with 1 Axes>"
            ],
            "image/png": "[encoded data removed]"
          },
          "metadata": {}
        }
      ],
      "source": [
        "import matplotlib.pyplot as plt\n",
        "\n",
        "plt.figure(figsize=(7,7))\n",
        "plt.scatter(y_train, x_train_pred_lr ,label='Train Data',color='red' )\n",
        "plt.scatter(y_test, y_pred1)\n",
        "\n",
        "\n",
        "#plt.scatter()\n",
        "plt.xlabel('Actual Effort of the project')\n",
        "plt.ylabel('Predicted Effort of the project')\n",
        "plt.title('Cost Actual vs Predicted Linear Regresssion')\n",
        "\n",
        "\n"
      ]
    },
    {
      "cell_type": "code",
      "execution_count": null,
      "metadata": {
        "id": "fJOcL_cRxXHO"
      },
      "outputs": [],
      "source": [
        "arr =pd.DataFrame({'Actual  Cost':y_test })\n",
        "arr1 =pd.DataFrame({'Predicted Effort':y_pred1})"
      ]
    },
    {
      "cell_type": "markdown",
      "metadata": {
        "id": "0lPoJ6XOcpfF"
      },
      "source": [
        "# Now calculating Diffrence between actual and predicted Values"
      ]
    },
    {
      "cell_type": "code",
      "execution_count": null,
      "metadata": {
        "colab": {
          "base_uri": "https://localhost:8080/",
          "height": 206
        },
        "id": "pamvLYhRcEtl",
        "outputId": "0cd2693e-1eb9-4ee4-b91e-a1b61d0618ed"
      },
      "outputs": [
        {
          "output_type": "execute_result",
          "data": {
            "text/plain": [
              "    Actual Values of Cost  Predicted Effort  Difference\n",
              "8                      84         89.518021   -5.518021\n",
              "13                     74         73.964292    0.035708\n",
              "20                     91         86.499123    4.500877\n",
              "1                     202        239.677892  -37.677892\n",
              "11                    112         87.316064   24.683936"
            ],
            "text/html": [
              "\n",
              "  <div id=\"df-234a7455-2ace-4b48-8aa6-5e1611ef2f55\">\n",
              "    <div class=\"colab-df-container\">\n",
              "      <div>\n",
              "<style scoped>\n",
              "    .dataframe tbody tr th:only-of-type {\n",
              "        vertical-align: middle;\n",
              "    }\n",
              "\n",
              "    .dataframe tbody tr th {\n",
              "        vertical-align: top;\n",
              "    }\n",
              "\n",
              "    .dataframe thead th {\n",
              "        text-align: right;\n",
              "    }\n",
              "</style>\n",
              "<table border=\"1\" class=\"dataframe\">\n",
              "  <thead>\n",
              "    <tr style=\"text-align: right;\">\n",
              "      <th></th>\n",
              "      <th>Actual Values of Cost</th>\n",
              "      <th>Predicted Effort</th>\n",
              "      <th>Difference</th>\n",
              "    </tr>\n",
              "  </thead>\n",
              "  <tbody>\n",
              "    <tr>\n",
              "      <th>8</th>\n",
              "      <td>84</td>\n",
              "      <td>89.518021</td>\n",
              "      <td>-5.518021</td>\n",
              "    </tr>\n",
              "    <tr>\n",
              "      <th>13</th>\n",
              "      <td>74</td>\n",
              "      <td>73.964292</td>\n",
              "      <td>0.035708</td>\n",
              "    </tr>\n",
              "    <tr>\n",
              "      <th>20</th>\n",
              "      <td>91</td>\n",
              "      <td>86.499123</td>\n",
              "      <td>4.500877</td>\n",
              "    </tr>\n",
              "    <tr>\n",
              "      <th>1</th>\n",
              "      <td>202</td>\n",
              "      <td>239.677892</td>\n",
              "      <td>-37.677892</td>\n",
              "    </tr>\n",
              "    <tr>\n",
              "      <th>11</th>\n",
              "      <td>112</td>\n",
              "      <td>87.316064</td>\n",
              "      <td>24.683936</td>\n",
              "    </tr>\n",
              "  </tbody>\n",
              "</table>\n",
              "</div>\n",
              "      <button class=\"colab-df-convert\" onclick=\"convertToInteractive('df-234a7455-2ace-4b48-8aa6-5e1611ef2f55')\"\n",
              "              title=\"Convert this dataframe to an interactive table.\"\n",
              "              style=\"display:none;\">\n",
              "        \n",
              "  <svg xmlns=\"http://www.w3.org/2000/svg\" height=\"24px\"viewBox=\"0 0 24 24\"\n",
              "       width=\"24px\">\n",
              "    <path d=\"M0 0h24v24H0V0z\" fill=\"none\"/>\n",
              "    <path d=\"M18.56 5.44l.94 2.06.94-2.06 2.06-.94-2.06-.94-.94-2.06-.94 2.06-2.06.94zm-11 1L8.5 8.5l.94-2.06 2.06-.94-2.06-.94L8.5 2.5l-.94 2.06-2.06.94zm10 10l.94 2.06.94-2.06 2.06-.94-2.06-.94-.94-2.06-.94 2.06-2.06.94z\"/><path d=\"M17.41 7.96l-1.37-1.37c-.4-.4-.92-.59-1.43-.59-.52 0-1.04.2-1.43.59L10.3 9.45l-7.72 7.72c-.78.78-.78 2.05 0 2.83L4 21.41c.39.39.9.59 1.41.59.51 0 1.02-.2 1.41-.59l7.78-7.78 2.81-2.81c.8-.78.8-2.07 0-2.86zM5.41 20L4 18.59l7.72-7.72 1.47 1.35L5.41 20z\"/>\n",
              "  </svg>\n",
              "      </button>\n",
              "      \n",
              "  <style>\n",
              "    .colab-df-container {\n",
              "      display:flex;\n",
              "      flex-wrap:wrap;\n",
              "      gap: 12px;\n",
              "    }\n",
              "\n",
              "    .colab-df-convert {\n",
              "      background-color: #E8F0FE;\n",
              "      border: none;\n",
              "      border-radius: 50%;\n",
              "      cursor: pointer;\n",
              "      display: none;\n",
              "      fill: #1967D2;\n",
              "      height: 32px;\n",
              "      padding: 0 0 0 0;\n",
              "      width: 32px;\n",
              "    }\n",
              "\n",
              "    .colab-df-convert:hover {\n",
              "      background-color: #E2EBFA;\n",
              "      box-shadow: 0px 1px 2px rgba(60, 64, 67, 0.3), 0px 1px 3px 1px rgba(60, 64, 67, 0.15);\n",
              "      fill: #174EA6;\n",
              "    }\n",
              "\n",
              "    [theme=dark] .colab-df-convert {\n",
              "      background-color: #3B4455;\n",
              "      fill: #D2E3FC;\n",
              "    }\n",
              "\n",
              "    [theme=dark] .colab-df-convert:hover {\n",
              "      background-color: #434B5C;\n",
              "      box-shadow: 0px 1px 3px 1px rgba(0, 0, 0, 0.15);\n",
              "      filter: drop-shadow(0px 1px 2px rgba(0, 0, 0, 0.3));\n",
              "      fill: #FFFFFF;\n",
              "    }\n",
              "  </style>\n",
              "\n",
              "      <script>\n",
              "        const buttonEl =\n",
              "          document.querySelector('#df-234a7455-2ace-4b48-8aa6-5e1611ef2f55 button.colab-df-convert');\n",
              "        buttonEl.style.display =\n",
              "          google.colab.kernel.accessAllowed ? 'block' : 'none';\n",
              "\n",
              "        async function convertToInteractive(key) {\n",
              "          const element = document.querySelector('#df-234a7455-2ace-4b48-8aa6-5e1611ef2f55');\n",
              "          const dataTable =\n",
              "            await google.colab.kernel.invokeFunction('convertToInteractive',\n",
              "                                                     [key], {});\n",
              "          if (!dataTable) return;\n",
              "\n",
              "          const docLinkHtml = 'Like what you see? Visit the ' +\n",
              "            '<a target=\"_blank\" href=https://colab.research.google.com/notebooks/data_table.ipynb>data table notebook</a>'\n",
              "            + ' to learn more about interactive tables.';\n",
              "          element.innerHTML = '';\n",
              "          dataTable['output_type'] = 'display_data';\n",
              "          await google.colab.output.renderOutput(dataTable, element);\n",
              "          const docLink = document.createElement('div');\n",
              "          docLink.innerHTML = docLinkHtml;\n",
              "          element.appendChild(docLink);\n",
              "        }\n",
              "      </script>\n",
              "    </div>\n",
              "  </div>\n",
              "  "
            ]
          },
          "metadata": {},
          "execution_count": 390
        }
      ],
      "source": [
        "import pandas as pd\n",
        "pred_y_diff = pd.DataFrame({'Actual Values of Cost':y_test,'Predicted Effort':y_pred1%10**5,'Difference':y_test-y_pred1})\n",
        "\n",
        "\n",
        "\n",
        "pred_y_diff[0:21]\n"
      ]
    },
    {
      "cell_type": "code",
      "execution_count": null,
      "metadata": {
        "id": "PDj-qc-6rBfy"
      },
      "outputs": [],
      "source": [
        "#arr = pred_y_diff.to_numpy()\n",
        "arr =pd.DataFrame({'Actual  Cost':y_test })\n",
        "arr1 =pd.DataFrame({'Predicted Effort':y_pred1})\n",
        "arr2 =pd.DataFrame({'Difference':y_test-y_pred1})"
      ]
    },
    {
      "cell_type": "code",
      "execution_count": null,
      "metadata": {
        "colab": {
          "base_uri": "https://localhost:8080/"
        },
        "id": "xI2UkK8zrnkI",
        "outputId": "b7335f17-39da-494c-d1e8-89c1e776d269"
      },
      "outputs": [
        {
          "output_type": "stream",
          "name": "stdout",
          "text": [
            "    Actual  Cost\n",
            "8             84\n",
            "13            74\n",
            "20            91\n",
            "1            202\n",
            "11           112\n"
          ]
        }
      ],
      "source": [
        "\n",
        "print(arr)"
      ]
    },
    {
      "cell_type": "code",
      "execution_count": null,
      "metadata": {
        "id": "qA91sNePwbCs",
        "colab": {
          "base_uri": "https://localhost:8080/"
        },
        "outputId": "002a21a0-9ec2-4440-a1fe-d0d091718ae8"
      },
      "outputs": [
        {
          "output_type": "stream",
          "name": "stdout",
          "text": [
            "[ 89.51802055  73.96429219  86.49912267 239.67789228  87.31606445]\n"
          ]
        }
      ],
      "source": [
        "print(y_pred1)\n"
      ]
    },
    {
      "cell_type": "code",
      "execution_count": null,
      "metadata": {
        "colab": {
          "base_uri": "https://localhost:8080/"
        },
        "id": "VjQkdeBSU6yK",
        "outputId": "fb6a21b0-6b41-4474-9d26-f8918d8d1d62"
      },
      "outputs": [
        {
          "output_type": "stream",
          "name": "stdout",
          "text": [
            "    Difference\n",
            "8     5.518021\n",
            "13    0.035708\n",
            "20    4.500877\n",
            "1    37.677892\n",
            "11   24.683936\n"
          ]
        }
      ],
      "source": [
        "print(np.absolute(arr2))"
      ]
    },
    {
      "cell_type": "code",
      "source": [
        "# The r_sq\n",
        "print('The r Score on the predictrd trained Set: %.2f'% r2_score(y_test,y_pred1))\n",
        "\n",
        "diff=np.absolute(y_test-y_pred1)\n",
        "MRE=diff/y_test\n",
        "MMRE=np.mean(MRE)\n",
        "MdMRE=np.median(MRE)\n",
        "P=MRE[MRE<.25]\n",
        "Pred=(P.size/MRE.size) * 100\n",
        "print(\"MMRE\",MMRE)\n",
        "print(\"MdMRE\",MdMRE)\n",
        "print(\"PRED 25%\",Pred)\n",
        "\n",
        "#linear"
      ],
      "metadata": {
        "colab": {
          "base_uri": "https://localhost:8080/"
        },
        "id": "c3EDOg25w9Gk",
        "outputId": "9c526174-eae2-44e3-9b74-2ab7b3f127d5"
      },
      "execution_count": null,
      "outputs": [
        {
          "output_type": "stream",
          "name": "stdout",
          "text": [
            "The r Score on the predictrd trained Set: 0.81\n",
            "MMRE 0.10450999003820138\n",
            "MdMRE 0.06569072079779727\n",
            "PRED 25% 100.0\n"
          ]
        }
      ]
    },
    {
      "cell_type": "code",
      "execution_count": null,
      "metadata": {
        "colab": {
          "base_uri": "https://localhost:8080/"
        },
        "id": "4ztrf4Fttk_G",
        "outputId": "c1cb4853-0e46-4cac-b914-cdc03498a50b"
      },
      "outputs": [
        {
          "output_type": "stream",
          "name": "stdout",
          "text": [
            "5\n",
            "Mean Absolute error::: 15.3\n",
            "The r Score on the predictrd trained Set: 0.85\n"
          ]
        }
      ],
      "source": [
        "# @title KNeiboursRegressor \n",
        "from sklearn.neighbors import KNeighborsRegressor\n",
        "from sklearn.model_selection import train_test_split\n",
        "\n",
        "#print('x_train length :',len(x_train))\n",
        "x_train,x_test,y_train,y_test = train_test_split(Cat_1,Cat_2, test_size=0.20, random_state=0)\n",
        "#print(len(y_pred1))\n",
        "#print('x_train length:',len(x_train))\n",
        "#print('x_test length:',len(x_test))\n",
        "\n",
        "neigh = KNeighborsRegressor(n_neighbors=2, weights='uniform')\n",
        "neigh.fit(x_train,y_train)\n",
        "y_pred=neigh.predict(x_test) \n",
        "\n",
        "#print(classification_report(y_test,y_pred))\n",
        "\n",
        "#predict =neigh.predict(y_pred)\n",
        "#print(neigh.score(y_test, y_pred))\n",
        "\n",
        "import numpy as np\n",
        "from sklearn.metrics import mean_absolute_error\n",
        "#\n",
        "\n",
        "print(len(y_pred))\n",
        "print(\"Mean Absolute error:::\",mean_absolute_error(y_test,y_pred))\n",
        "#print(\"Mean Absolute error:::\",np.sqrt(mean_absolute_error(y_test,y_pred)))\n",
        "\n",
        "\n",
        "# The r_sq\n",
        "print('The r Score on the predictrd trained Set: %.2f'% r2_score(y_test,y_pred))\n",
        "\n",
        "\n",
        "\n",
        "#knn"
      ]
    },
    {
      "cell_type": "code",
      "source": [
        " #plotting the observed and predicted values \n",
        "\n",
        "\n",
        "# Setting the boundaries and parameters\n",
        "\n",
        "plt.rcParams['figure.figsize'] = (10,6)\n",
        "x_ax =range(len(x_test))\n",
        "#x_ax2 =range(len(y_test))\n",
        "#plotting \n",
        "plt.plot(x_ax, y_test , label='Actual Observed Value', color='yellow',linestyle='-')\n",
        "plt.plot(x_ax,y_pred , label='Predicted values ' , color='red' , linestyle ='--')\n",
        "plt.grid()\n",
        "plt.xlabel('Agile Projects')\n",
        "plt.ylabel('Cost of the project')\n",
        "plt.title('Cost Prediction with KNeighbors Regressor')\n",
        "plt.legend(bbox_to_anchor =(0.5,-0.2), loc= 'upper center',ncol=2, frameon = True)\n",
        "\n",
        "plt.show"
      ],
      "metadata": {
        "colab": {
          "base_uri": "https://localhost:8080/",
          "height": 499
        },
        "id": "Nz8O0an64kM1",
        "outputId": "8eb78879-71d7-4455-fc54-a0c80c3691f2"
      },
      "execution_count": null,
      "outputs": [
        {
          "output_type": "execute_result",
          "data": {
            "text/plain": [
              "<function matplotlib.pyplot.show(close=None, block=None)>"
            ]
          },
          "metadata": {},
          "execution_count": 397
        },
        {
          "output_type": "display_data",
          "data": {
            "text/plain": [
              "<Figure size 1000x600 with 1 Axes>"
            ],
            "image/png": "[encoded data removed]"
          },
          "metadata": {}
        }
      ]
    },
    {
      "cell_type": "code",
      "source": [
        "#\n",
        "diff=np.absolute(y_test-y_pred)\n",
        "MRE=diff/y_test\n",
        "MMRE=np.mean(MRE)\n",
        "MdMRE=np.median(MRE)\n",
        "P=MRE[MRE<.25]\n",
        "Pred=(P.size/MRE.size) * 100\n",
        "print(\"MMRE\",MMRE)\n",
        "print(\"MdMRE\",MdMRE)\n",
        "print(\"PRED 25%\",Pred)"
      ],
      "metadata": {
        "colab": {
          "base_uri": "https://localhost:8080/"
        },
        "id": "rX7F4TJY30z1",
        "outputId": "8ab544c3-5bae-4f06-d9ab-837353d26d08"
      },
      "execution_count": null,
      "outputs": [
        {
          "output_type": "stream",
          "name": "stdout",
          "text": [
            "MMRE 0.12945452660799198\n",
            "MdMRE 0.11607142857142858\n",
            "PRED 25% 100.0\n"
          ]
        }
      ]
    },
    {
      "cell_type": "code",
      "execution_count": null,
      "metadata": {
        "id": "6BAGrKGU8kjD",
        "colab": {
          "base_uri": "https://localhost:8080/",
          "height": 206
        },
        "outputId": "57377529-1e06-4e51-dd59-9365836e1791"
      },
      "outputs": [
        {
          "output_type": "execute_result",
          "data": {
            "text/plain": [
              "    Actual Values of Cost  Predicted Effort  Difference\n",
              "8                      84              99.0       -15.0\n",
              "13                     74              81.5        -7.5\n",
              "20                     91              99.0        -8.0\n",
              "1                     202             235.0       -33.0\n",
              "11                    112              99.0        13.0"
            ],
            "text/html": [
              "\n",
              "  <div id=\"df-b4aecd22-90a5-49ae-bdba-ef16708c2797\">\n",
              "    <div class=\"colab-df-container\">\n",
              "      <div>\n",
              "<style scoped>\n",
              "    .dataframe tbody tr th:only-of-type {\n",
              "        vertical-align: middle;\n",
              "    }\n",
              "\n",
              "    .dataframe tbody tr th {\n",
              "        vertical-align: top;\n",
              "    }\n",
              "\n",
              "    .dataframe thead th {\n",
              "        text-align: right;\n",
              "    }\n",
              "</style>\n",
              "<table border=\"1\" class=\"dataframe\">\n",
              "  <thead>\n",
              "    <tr style=\"text-align: right;\">\n",
              "      <th></th>\n",
              "      <th>Actual Values of Cost</th>\n",
              "      <th>Predicted Effort</th>\n",
              "      <th>Difference</th>\n",
              "    </tr>\n",
              "  </thead>\n",
              "  <tbody>\n",
              "    <tr>\n",
              "      <th>8</th>\n",
              "      <td>84</td>\n",
              "      <td>99.0</td>\n",
              "      <td>-15.0</td>\n",
              "    </tr>\n",
              "    <tr>\n",
              "      <th>13</th>\n",
              "      <td>74</td>\n",
              "      <td>81.5</td>\n",
              "      <td>-7.5</td>\n",
              "    </tr>\n",
              "    <tr>\n",
              "      <th>20</th>\n",
              "      <td>91</td>\n",
              "      <td>99.0</td>\n",
              "      <td>-8.0</td>\n",
              "    </tr>\n",
              "    <tr>\n",
              "      <th>1</th>\n",
              "      <td>202</td>\n",
              "      <td>235.0</td>\n",
              "      <td>-33.0</td>\n",
              "    </tr>\n",
              "    <tr>\n",
              "      <th>11</th>\n",
              "      <td>112</td>\n",
              "      <td>99.0</td>\n",
              "      <td>13.0</td>\n",
              "    </tr>\n",
              "  </tbody>\n",
              "</table>\n",
              "</div>\n",
              "      <button class=\"colab-df-convert\" onclick=\"convertToInteractive('df-b4aecd22-90a5-49ae-bdba-ef16708c2797')\"\n",
              "              title=\"Convert this dataframe to an interactive table.\"\n",
              "              style=\"display:none;\">\n",
              "        \n",
              "  <svg xmlns=\"http://www.w3.org/2000/svg\" height=\"24px\"viewBox=\"0 0 24 24\"\n",
              "       width=\"24px\">\n",
              "    <path d=\"M0 0h24v24H0V0z\" fill=\"none\"/>\n",
              "    <path d=\"M18.56 5.44l.94 2.06.94-2.06 2.06-.94-2.06-.94-.94-2.06-.94 2.06-2.06.94zm-11 1L8.5 8.5l.94-2.06 2.06-.94-2.06-.94L8.5 2.5l-.94 2.06-2.06.94zm10 10l.94 2.06.94-2.06 2.06-.94-2.06-.94-.94-2.06-.94 2.06-2.06.94z\"/><path d=\"M17.41 7.96l-1.37-1.37c-.4-.4-.92-.59-1.43-.59-.52 0-1.04.2-1.43.59L10.3 9.45l-7.72 7.72c-.78.78-.78 2.05 0 2.83L4 21.41c.39.39.9.59 1.41.59.51 0 1.02-.2 1.41-.59l7.78-7.78 2.81-2.81c.8-.78.8-2.07 0-2.86zM5.41 20L4 18.59l7.72-7.72 1.47 1.35L5.41 20z\"/>\n",
              "  </svg>\n",
              "      </button>\n",
              "      \n",
              "  <style>\n",
              "    .colab-df-container {\n",
              "      display:flex;\n",
              "      flex-wrap:wrap;\n",
              "      gap: 12px;\n",
              "    }\n",
              "\n",
              "    .colab-df-convert {\n",
              "      background-color: #E8F0FE;\n",
              "      border: none;\n",
              "      border-radius: 50%;\n",
              "      cursor: pointer;\n",
              "      display: none;\n",
              "      fill: #1967D2;\n",
              "      height: 32px;\n",
              "      padding: 0 0 0 0;\n",
              "      width: 32px;\n",
              "    }\n",
              "\n",
              "    .colab-df-convert:hover {\n",
              "      background-color: #E2EBFA;\n",
              "      box-shadow: 0px 1px 2px rgba(60, 64, 67, 0.3), 0px 1px 3px 1px rgba(60, 64, 67, 0.15);\n",
              "      fill: #174EA6;\n",
              "    }\n",
              "\n",
              "    [theme=dark] .colab-df-convert {\n",
              "      background-color: #3B4455;\n",
              "      fill: #D2E3FC;\n",
              "    }\n",
              "\n",
              "    [theme=dark] .colab-df-convert:hover {\n",
              "      background-color: #434B5C;\n",
              "      box-shadow: 0px 1px 3px 1px rgba(0, 0, 0, 0.15);\n",
              "      filter: drop-shadow(0px 1px 2px rgba(0, 0, 0, 0.3));\n",
              "      fill: #FFFFFF;\n",
              "    }\n",
              "  </style>\n",
              "\n",
              "      <script>\n",
              "        const buttonEl =\n",
              "          document.querySelector('#df-b4aecd22-90a5-49ae-bdba-ef16708c2797 button.colab-df-convert');\n",
              "        buttonEl.style.display =\n",
              "          google.colab.kernel.accessAllowed ? 'block' : 'none';\n",
              "\n",
              "        async function convertToInteractive(key) {\n",
              "          const element = document.querySelector('#df-b4aecd22-90a5-49ae-bdba-ef16708c2797');\n",
              "          const dataTable =\n",
              "            await google.colab.kernel.invokeFunction('convertToInteractive',\n",
              "                                                     [key], {});\n",
              "          if (!dataTable) return;\n",
              "\n",
              "          const docLinkHtml = 'Like what you see? Visit the ' +\n",
              "            '<a target=\"_blank\" href=https://colab.research.google.com/notebooks/data_table.ipynb>data table notebook</a>'\n",
              "            + ' to learn more about interactive tables.';\n",
              "          element.innerHTML = '';\n",
              "          dataTable['output_type'] = 'display_data';\n",
              "          await google.colab.output.renderOutput(dataTable, element);\n",
              "          const docLink = document.createElement('div');\n",
              "          docLink.innerHTML = docLinkHtml;\n",
              "          element.appendChild(docLink);\n",
              "        }\n",
              "      </script>\n",
              "    </div>\n",
              "  </div>\n",
              "  "
            ]
          },
          "metadata": {},
          "execution_count": 399
        }
      ],
      "source": [
        "import pandas as pd\n",
        "\n",
        "pred_y_diff = pd.DataFrame({'Actual Values of Cost':y_test,'Predicted Effort':y_pred,'Difference':y_test-y_pred})\n",
        "xyy=pred_y_diff.Difference.abs()\n",
        "pred_y_diff[0:21]"
      ]
    },
    {
      "cell_type": "code",
      "execution_count": null,
      "metadata": {
        "id": "oaXo4IIiYi-a",
        "colab": {
          "base_uri": "https://localhost:8080/",
          "height": 206
        },
        "outputId": "f1a5694b-d79f-4560-95f1-a3c6b82bd16d"
      },
      "outputs": [
        {
          "output_type": "execute_result",
          "data": {
            "text/plain": [
              "    Actual Values of Cost  Predicted Effort       MRE\n",
              "8                      84              99.0 -0.178571\n",
              "13                     74              81.5 -0.101351\n",
              "20                     91              99.0 -0.087912\n",
              "1                     202             235.0 -0.163366\n",
              "11                    112              99.0  0.116071"
            ],
            "text/html": [
              "\n",
              "  <div id=\"df-add732ed-94b3-4764-a67f-ffe965645724\">\n",
              "    <div class=\"colab-df-container\">\n",
              "      <div>\n",
              "<style scoped>\n",
              "    .dataframe tbody tr th:only-of-type {\n",
              "        vertical-align: middle;\n",
              "    }\n",
              "\n",
              "    .dataframe tbody tr th {\n",
              "        vertical-align: top;\n",
              "    }\n",
              "\n",
              "    .dataframe thead th {\n",
              "        text-align: right;\n",
              "    }\n",
              "</style>\n",
              "<table border=\"1\" class=\"dataframe\">\n",
              "  <thead>\n",
              "    <tr style=\"text-align: right;\">\n",
              "      <th></th>\n",
              "      <th>Actual Values of Cost</th>\n",
              "      <th>Predicted Effort</th>\n",
              "      <th>MRE</th>\n",
              "    </tr>\n",
              "  </thead>\n",
              "  <tbody>\n",
              "    <tr>\n",
              "      <th>8</th>\n",
              "      <td>84</td>\n",
              "      <td>99.0</td>\n",
              "      <td>-0.178571</td>\n",
              "    </tr>\n",
              "    <tr>\n",
              "      <th>13</th>\n",
              "      <td>74</td>\n",
              "      <td>81.5</td>\n",
              "      <td>-0.101351</td>\n",
              "    </tr>\n",
              "    <tr>\n",
              "      <th>20</th>\n",
              "      <td>91</td>\n",
              "      <td>99.0</td>\n",
              "      <td>-0.087912</td>\n",
              "    </tr>\n",
              "    <tr>\n",
              "      <th>1</th>\n",
              "      <td>202</td>\n",
              "      <td>235.0</td>\n",
              "      <td>-0.163366</td>\n",
              "    </tr>\n",
              "    <tr>\n",
              "      <th>11</th>\n",
              "      <td>112</td>\n",
              "      <td>99.0</td>\n",
              "      <td>0.116071</td>\n",
              "    </tr>\n",
              "  </tbody>\n",
              "</table>\n",
              "</div>\n",
              "      <button class=\"colab-df-convert\" onclick=\"convertToInteractive('df-add732ed-94b3-4764-a67f-ffe965645724')\"\n",
              "              title=\"Convert this dataframe to an interactive table.\"\n",
              "              style=\"display:none;\">\n",
              "        \n",
              "  <svg xmlns=\"http://www.w3.org/2000/svg\" height=\"24px\"viewBox=\"0 0 24 24\"\n",
              "       width=\"24px\">\n",
              "    <path d=\"M0 0h24v24H0V0z\" fill=\"none\"/>\n",
              "    <path d=\"M18.56 5.44l.94 2.06.94-2.06 2.06-.94-2.06-.94-.94-2.06-.94 2.06-2.06.94zm-11 1L8.5 8.5l.94-2.06 2.06-.94-2.06-.94L8.5 2.5l-.94 2.06-2.06.94zm10 10l.94 2.06.94-2.06 2.06-.94-2.06-.94-.94-2.06-.94 2.06-2.06.94z\"/><path d=\"M17.41 7.96l-1.37-1.37c-.4-.4-.92-.59-1.43-.59-.52 0-1.04.2-1.43.59L10.3 9.45l-7.72 7.72c-.78.78-.78 2.05 0 2.83L4 21.41c.39.39.9.59 1.41.59.51 0 1.02-.2 1.41-.59l7.78-7.78 2.81-2.81c.8-.78.8-2.07 0-2.86zM5.41 20L4 18.59l7.72-7.72 1.47 1.35L5.41 20z\"/>\n",
              "  </svg>\n",
              "      </button>\n",
              "      \n",
              "  <style>\n",
              "    .colab-df-container {\n",
              "      display:flex;\n",
              "      flex-wrap:wrap;\n",
              "      gap: 12px;\n",
              "    }\n",
              "\n",
              "    .colab-df-convert {\n",
              "      background-color: #E8F0FE;\n",
              "      border: none;\n",
              "      border-radius: 50%;\n",
              "      cursor: pointer;\n",
              "      display: none;\n",
              "      fill: #1967D2;\n",
              "      height: 32px;\n",
              "      padding: 0 0 0 0;\n",
              "      width: 32px;\n",
              "    }\n",
              "\n",
              "    .colab-df-convert:hover {\n",
              "      background-color: #E2EBFA;\n",
              "      box-shadow: 0px 1px 2px rgba(60, 64, 67, 0.3), 0px 1px 3px 1px rgba(60, 64, 67, 0.15);\n",
              "      fill: #174EA6;\n",
              "    }\n",
              "\n",
              "    [theme=dark] .colab-df-convert {\n",
              "      background-color: #3B4455;\n",
              "      fill: #D2E3FC;\n",
              "    }\n",
              "\n",
              "    [theme=dark] .colab-df-convert:hover {\n",
              "      background-color: #434B5C;\n",
              "      box-shadow: 0px 1px 3px 1px rgba(0, 0, 0, 0.15);\n",
              "      filter: drop-shadow(0px 1px 2px rgba(0, 0, 0, 0.3));\n",
              "      fill: #FFFFFF;\n",
              "    }\n",
              "  </style>\n",
              "\n",
              "      <script>\n",
              "        const buttonEl =\n",
              "          document.querySelector('#df-add732ed-94b3-4764-a67f-ffe965645724 button.colab-df-convert');\n",
              "        buttonEl.style.display =\n",
              "          google.colab.kernel.accessAllowed ? 'block' : 'none';\n",
              "\n",
              "        async function convertToInteractive(key) {\n",
              "          const element = document.querySelector('#df-add732ed-94b3-4764-a67f-ffe965645724');\n",
              "          const dataTable =\n",
              "            await google.colab.kernel.invokeFunction('convertToInteractive',\n",
              "                                                     [key], {});\n",
              "          if (!dataTable) return;\n",
              "\n",
              "          const docLinkHtml = 'Like what you see? Visit the ' +\n",
              "            '<a target=\"_blank\" href=https://colab.research.google.com/notebooks/data_table.ipynb>data table notebook</a>'\n",
              "            + ' to learn more about interactive tables.';\n",
              "          element.innerHTML = '';\n",
              "          dataTable['output_type'] = 'display_data';\n",
              "          await google.colab.output.renderOutput(dataTable, element);\n",
              "          const docLink = document.createElement('div');\n",
              "          docLink.innerHTML = docLinkHtml;\n",
              "          element.appendChild(docLink);\n",
              "        }\n",
              "      </script>\n",
              "    </div>\n",
              "  </div>\n",
              "  "
            ]
          },
          "metadata": {},
          "execution_count": 400
        }
      ],
      "source": [
        "pred_mre = pd.DataFrame({'Actual Values of Cost':y_test,'Predicted Effort':y_pred,'MRE':(y_test-y_pred)/y_test})\n",
        "\n",
        "\n",
        "pred_mre[0:21]"
      ]
    },
    {
      "cell_type": "markdown",
      "metadata": {
        "id": "CCWxo5JClMQL"
      },
      "source": [
        "----------------------------"
      ]
    },
    {
      "cell_type": "markdown",
      "metadata": {
        "id": "86adLKC83Yxt"
      },
      "source": [
        "Decision Tree Implementation"
      ]
    },
    {
      "cell_type": "markdown",
      "metadata": {
        "id": "5oseIRB9gJrB"
      },
      "source": [
        "## Decision Tree Implementation "
      ]
    },
    {
      "cell_type": "code",
      "execution_count": null,
      "metadata": {
        "colab": {
          "base_uri": "https://localhost:8080/",
          "height": 206
        },
        "id": "AQQvoYbjgICx",
        "outputId": "9c048a81-9881-427d-96ed-eda258951bae"
      },
      "outputs": [
        {
          "output_type": "execute_result",
          "data": {
            "text/plain": [
              "   sNo  Effort   Vi  ActualTime  ActualCost  SizeEffort  SizeTime  SizeCost\n",
              "0    1     156  4.2          63     1200000           1         2         1\n",
              "1    2     202  3.7          92     1600000           2         2         2\n",
              "2    3     173  4.0          56     1000000           1         1         1\n",
              "3    4     331  4.5          86     2100000           2         2         2\n",
              "4    5     124  4.9          32      750000           1         0         1"
            ],
            "text/html": [
              "\n",
              "  <div id=\"df-1da80d23-5671-40a0-811f-038aad1215e2\">\n",
              "    <div class=\"colab-df-container\">\n",
              "      <div>\n",
              "<style scoped>\n",
              "    .dataframe tbody tr th:only-of-type {\n",
              "        vertical-align: middle;\n",
              "    }\n",
              "\n",
              "    .dataframe tbody tr th {\n",
              "        vertical-align: top;\n",
              "    }\n",
              "\n",
              "    .dataframe thead th {\n",
              "        text-align: right;\n",
              "    }\n",
              "</style>\n",
              "<table border=\"1\" class=\"dataframe\">\n",
              "  <thead>\n",
              "    <tr style=\"text-align: right;\">\n",
              "      <th></th>\n",
              "      <th>sNo</th>\n",
              "      <th>Effort</th>\n",
              "      <th>Vi</th>\n",
              "      <th>ActualTime</th>\n",
              "      <th>ActualCost</th>\n",
              "      <th>SizeEffort</th>\n",
              "      <th>SizeTime</th>\n",
              "      <th>SizeCost</th>\n",
              "    </tr>\n",
              "  </thead>\n",
              "  <tbody>\n",
              "    <tr>\n",
              "      <th>0</th>\n",
              "      <td>1</td>\n",
              "      <td>156</td>\n",
              "      <td>4.2</td>\n",
              "      <td>63</td>\n",
              "      <td>1200000</td>\n",
              "      <td>1</td>\n",
              "      <td>2</td>\n",
              "      <td>1</td>\n",
              "    </tr>\n",
              "    <tr>\n",
              "      <th>1</th>\n",
              "      <td>2</td>\n",
              "      <td>202</td>\n",
              "      <td>3.7</td>\n",
              "      <td>92</td>\n",
              "      <td>1600000</td>\n",
              "      <td>2</td>\n",
              "      <td>2</td>\n",
              "      <td>2</td>\n",
              "    </tr>\n",
              "    <tr>\n",
              "      <th>2</th>\n",
              "      <td>3</td>\n",
              "      <td>173</td>\n",
              "      <td>4.0</td>\n",
              "      <td>56</td>\n",
              "      <td>1000000</td>\n",
              "      <td>1</td>\n",
              "      <td>1</td>\n",
              "      <td>1</td>\n",
              "    </tr>\n",
              "    <tr>\n",
              "      <th>3</th>\n",
              "      <td>4</td>\n",
              "      <td>331</td>\n",
              "      <td>4.5</td>\n",
              "      <td>86</td>\n",
              "      <td>2100000</td>\n",
              "      <td>2</td>\n",
              "      <td>2</td>\n",
              "      <td>2</td>\n",
              "    </tr>\n",
              "    <tr>\n",
              "      <th>4</th>\n",
              "      <td>5</td>\n",
              "      <td>124</td>\n",
              "      <td>4.9</td>\n",
              "      <td>32</td>\n",
              "      <td>750000</td>\n",
              "      <td>1</td>\n",
              "      <td>0</td>\n",
              "      <td>1</td>\n",
              "    </tr>\n",
              "  </tbody>\n",
              "</table>\n",
              "</div>\n",
              "      <button class=\"colab-df-convert\" onclick=\"convertToInteractive('df-1da80d23-5671-40a0-811f-038aad1215e2')\"\n",
              "              title=\"Convert this dataframe to an interactive table.\"\n",
              "              style=\"display:none;\">\n",
              "        \n",
              "  <svg xmlns=\"http://www.w3.org/2000/svg\" height=\"24px\"viewBox=\"0 0 24 24\"\n",
              "       width=\"24px\">\n",
              "    <path d=\"M0 0h24v24H0V0z\" fill=\"none\"/>\n",
              "    <path d=\"M18.56 5.44l.94 2.06.94-2.06 2.06-.94-2.06-.94-.94-2.06-.94 2.06-2.06.94zm-11 1L8.5 8.5l.94-2.06 2.06-.94-2.06-.94L8.5 2.5l-.94 2.06-2.06.94zm10 10l.94 2.06.94-2.06 2.06-.94-2.06-.94-.94-2.06-.94 2.06-2.06.94z\"/><path d=\"M17.41 7.96l-1.37-1.37c-.4-.4-.92-.59-1.43-.59-.52 0-1.04.2-1.43.59L10.3 9.45l-7.72 7.72c-.78.78-.78 2.05 0 2.83L4 21.41c.39.39.9.59 1.41.59.51 0 1.02-.2 1.41-.59l7.78-7.78 2.81-2.81c.8-.78.8-2.07 0-2.86zM5.41 20L4 18.59l7.72-7.72 1.47 1.35L5.41 20z\"/>\n",
              "  </svg>\n",
              "      </button>\n",
              "      \n",
              "  <style>\n",
              "    .colab-df-container {\n",
              "      display:flex;\n",
              "      flex-wrap:wrap;\n",
              "      gap: 12px;\n",
              "    }\n",
              "\n",
              "    .colab-df-convert {\n",
              "      background-color: #E8F0FE;\n",
              "      border: none;\n",
              "      border-radius: 50%;\n",
              "      cursor: pointer;\n",
              "      display: none;\n",
              "      fill: #1967D2;\n",
              "      height: 32px;\n",
              "      padding: 0 0 0 0;\n",
              "      width: 32px;\n",
              "    }\n",
              "\n",
              "    .colab-df-convert:hover {\n",
              "      background-color: #E2EBFA;\n",
              "      box-shadow: 0px 1px 2px rgba(60, 64, 67, 0.3), 0px 1px 3px 1px rgba(60, 64, 67, 0.15);\n",
              "      fill: #174EA6;\n",
              "    }\n",
              "\n",
              "    [theme=dark] .colab-df-convert {\n",
              "      background-color: #3B4455;\n",
              "      fill: #D2E3FC;\n",
              "    }\n",
              "\n",
              "    [theme=dark] .colab-df-convert:hover {\n",
              "      background-color: #434B5C;\n",
              "      box-shadow: 0px 1px 3px 1px rgba(0, 0, 0, 0.15);\n",
              "      filter: drop-shadow(0px 1px 2px rgba(0, 0, 0, 0.3));\n",
              "      fill: #FFFFFF;\n",
              "    }\n",
              "  </style>\n",
              "\n",
              "      <script>\n",
              "        const buttonEl =\n",
              "          document.querySelector('#df-1da80d23-5671-40a0-811f-038aad1215e2 button.colab-df-convert');\n",
              "        buttonEl.style.display =\n",
              "          google.colab.kernel.accessAllowed ? 'block' : 'none';\n",
              "\n",
              "        async function convertToInteractive(key) {\n",
              "          const element = document.querySelector('#df-1da80d23-5671-40a0-811f-038aad1215e2');\n",
              "          const dataTable =\n",
              "            await google.colab.kernel.invokeFunction('convertToInteractive',\n",
              "                                                     [key], {});\n",
              "          if (!dataTable) return;\n",
              "\n",
              "          const docLinkHtml = 'Like what you see? Visit the ' +\n",
              "            '<a target=\"_blank\" href=https://colab.research.google.com/notebooks/data_table.ipynb>data table notebook</a>'\n",
              "            + ' to learn more about interactive tables.';\n",
              "          element.innerHTML = '';\n",
              "          dataTable['output_type'] = 'display_data';\n",
              "          await google.colab.output.renderOutput(dataTable, element);\n",
              "          const docLink = document.createElement('div');\n",
              "          docLink.innerHTML = docLinkHtml;\n",
              "          element.appendChild(docLink);\n",
              "        }\n",
              "      </script>\n",
              "    </div>\n",
              "  </div>\n",
              "  "
            ]
          },
          "metadata": {},
          "execution_count": 401
        }
      ],
      "source": [
        "data_read.head()"
      ]
    },
    {
      "cell_type": "code",
      "execution_count": null,
      "metadata": {
        "id": "4v0RFhlXlQT5",
        "colab": {
          "base_uri": "https://localhost:8080/"
        },
        "outputId": "bd40400f-70d3-478b-cd67-5ff4fbd6f390"
      },
      "outputs": [
        {
          "output_type": "execute_result",
          "data": {
            "text/plain": [
              "(21, 7)"
            ]
          },
          "metadata": {},
          "execution_count": 402
        }
      ],
      "source": [
        "#Now to Prepare the Input and Output Features\n",
        "X= data_read.drop(['Effort'],axis=1)\n",
        "X.shape"
      ]
    },
    {
      "cell_type": "code",
      "execution_count": null,
      "metadata": {
        "id": "AzRe_yB8mbev"
      },
      "outputs": [],
      "source": [
        "#Splitting the dataset into Trainingfset and test set\n",
        "\n",
        "#Splitting the dataset\n",
        "X_train,X_test,y_train,y_test = train_test_split(Cat_1,Cat_2, test_size=0.20 ,random_state=0)\n"
      ]
    },
    {
      "cell_type": "code",
      "execution_count": null,
      "metadata": {
        "id": "bDmoXMWDnT1i"
      },
      "outputs": [],
      "source": [
        "from sklearn.tree import DecisionTreeRegressor\n",
        "from sklearn.model_selection import train_test_split\n",
        "import pandas as pd\n",
        "#Creating and Fitting the model\n",
        "regressor1 = DecisionTreeRegressor().fit(X_train,y_train)"
      ]
    },
    {
      "cell_type": "code",
      "execution_count": null,
      "metadata": {
        "colab": {
          "base_uri": "https://localhost:8080/"
        },
        "id": "6Zq7ZjMentIn",
        "outputId": "773e952a-3164-4d16-8894-e15c95908abd"
      },
      "outputs": [
        {
          "output_type": "stream",
          "name": "stdout",
          "text": [
            "Training R_sq is : 1.00\n"
          ]
        }
      ],
      "source": [
        "#The Coeffitient of Detern=mination \n",
        "print('Training R_sq is : %.2f'% regressor1.score(X_train,y_train))"
      ]
    },
    {
      "cell_type": "code",
      "execution_count": null,
      "metadata": {
        "id": "wE5QYOZRntm8"
      },
      "outputs": [],
      "source": []
    },
    {
      "cell_type": "code",
      "execution_count": null,
      "metadata": {
        "id": "YzkecUyJo3B5"
      },
      "outputs": [],
      "source": [
        "# For the training model EVALUATION\n",
        "from  sklearn.metrics import mean_absolute_error , mean_squared_error, explained_variance_score , r2_score"
      ]
    },
    {
      "cell_type": "code",
      "execution_count": null,
      "metadata": {
        "id": "oSTfOuIjoDoP"
      },
      "outputs": [],
      "source": [
        "#prediction on the training Dataset\n",
        "y_train_pred = regressor1.predict(X_train)\n",
        "\n"
      ]
    },
    {
      "cell_type": "code",
      "execution_count": null,
      "metadata": {
        "colab": {
          "base_uri": "https://localhost:8080/"
        },
        "id": "THzjL519r1BL",
        "outputId": "511368d2-1846-408c-b13d-92faf13450e6"
      },
      "outputs": [
        {
          "output_type": "stream",
          "name": "stdout",
          "text": [
            "The r_sq  is: 1.00\n"
          ]
        }
      ],
      "source": [
        "\n",
        "# The r_sq\n",
        "print('The r_sq  is: %.2f'% r2_score(y_train,y_train_pred))"
      ]
    },
    {
      "cell_type": "code",
      "execution_count": null,
      "metadata": {
        "id": "YGpfe7bOrWs2"
      },
      "outputs": [],
      "source": []
    },
    {
      "cell_type": "code",
      "execution_count": null,
      "metadata": {
        "id": "sD4p0K1grSXP",
        "colab": {
          "base_uri": "https://localhost:8080/"
        },
        "outputId": "acc61da4-11bf-4f3a-f218-621af808c47a"
      },
      "outputs": [
        {
          "output_type": "stream",
          "name": "stdout",
          "text": [
            "Mean Squared Error:: 735.8\n",
            "Mean Absolute Error:: 21.0\n",
            "Root Mean Squared Error:: 27.12563363315224\n"
          ]
        }
      ],
      "source": [
        "#prediction on testing the data\n",
        "y_test_pred_dt = regressor1.predict(X_test)\n",
        "print(\"Mean Squared Error::\",mean_squared_error(y_test,y_test_pred_dt))\n",
        "print(\"Mean Absolute Error::\",mean_absolute_error(y_test,y_test_pred_dt))\n",
        "xv= math.sqrt(mean_squared_error(y_test,y_test_pred_dt))\n",
        "print(\"Root Mean Squared Error::\",xv)"
      ]
    },
    {
      "cell_type": "code",
      "execution_count": null,
      "metadata": {
        "colab": {
          "base_uri": "https://localhost:8080/"
        },
        "id": "bJZV9cB2rkWA",
        "outputId": "2ad984fb-abdf-4a27-91d8-0c623acefc2f"
      },
      "outputs": [
        {
          "output_type": "stream",
          "name": "stdout",
          "text": [
            "The r Score on the predictrd trained Set: 0.66\n",
            "MMRE 0.1689849475740565\n",
            "MdMRE 0.16216216216216217\n",
            "PRED 25% 80.0\n"
          ]
        }
      ],
      "source": [
        "# The r_sq\n",
        "print('The r Score on the predictrd trained Set: %.2f'% r2_score(y_test,y_test_pred_dt))\n",
        "\n",
        "diff=np.absolute(y_test-y_test_pred_dt)\n",
        "MRE=diff/y_test\n",
        "MMRE=np.mean(MRE)\n",
        "MdMRE=np.median(MRE)\n",
        "P=MRE[MRE<.25]\n",
        "Pred=(P.size/MRE.size) * 100\n",
        "print(\"MMRE\",MMRE)\n",
        "print(\"MdMRE\",MdMRE)\n",
        "print(\"PRED 25%\",Pred)\n",
        "\n"
      ]
    },
    {
      "cell_type": "code",
      "source": [],
      "metadata": {
        "id": "9J98XTCblvJD"
      },
      "execution_count": null,
      "outputs": []
    },
    {
      "cell_type": "code",
      "source": [],
      "metadata": {
        "id": "GG7AuhqvlvN7"
      },
      "execution_count": null,
      "outputs": []
    },
    {
      "cell_type": "code",
      "execution_count": null,
      "metadata": {
        "colab": {
          "base_uri": "https://localhost:8080/",
          "height": 499
        },
        "id": "f9r28Y3hQV2l",
        "outputId": "a14cb131-13b6-4066-9d10-b1c8be74d38d"
      },
      "outputs": [
        {
          "output_type": "execute_result",
          "data": {
            "text/plain": [
              "<function matplotlib.pyplot.show(close=None, block=None)>"
            ]
          },
          "metadata": {},
          "execution_count": 411
        },
        {
          "output_type": "display_data",
          "data": {
            "text/plain": [
              "<Figure size 1000x600 with 1 Axes>"
            ],
            "image/png": "[encoded data removed]"
          },
          "metadata": {}
        }
      ],
      "source": [
        "# plotting the observed and predicted values \n",
        "\n",
        "\n",
        "# Setting the boundaries and parameters\n",
        "\n",
        "plt.rcParams['figure.figsize'] = (10,6)\n",
        "x_ax =range(len(X_test))\n",
        "#x_ax2 =range(len(y_test))\n",
        "#plotting \n",
        "plt.plot(x_ax, y_test , label='Actual Observed Value', color='yellow',linestyle='-')\n",
        "plt.plot(x_ax,y_test_pred_dt , label='Predicted values ' , color='red' , linestyle ='--')\n",
        "plt.grid()\n",
        "plt.xlabel('Agile Projects')\n",
        "plt.ylabel('Cost Parameter')\n",
        "plt.title('Effort Prediction witn Decision Tree Regression')\n",
        "plt.legend(bbox_to_anchor =(0.5,-0.2), loc= 'upper center',ncol=2, frameon = True)\n",
        "\n",
        "plt.show"
      ]
    },
    {
      "cell_type": "code",
      "execution_count": null,
      "metadata": {
        "id": "mye5sB4hkdDW",
        "colab": {
          "base_uri": "https://localhost:8080/",
          "height": 206
        },
        "outputId": "f82acff0-f37f-407e-b544-afbdb1d37197"
      },
      "outputs": [
        {
          "output_type": "execute_result",
          "data": {
            "text/plain": [
              "    Actual Values of Effort  Predicted Effort       MRE\n",
              "8                        84             101.0 -0.202381\n",
              "13                       74              62.0  0.162162\n",
              "20                       91             101.0 -0.109890\n",
              "1                       202             257.0 -0.272277\n",
              "11                      112             101.0  0.098214"
            ],
            "text/html": [
              "\n",
              "  <div id=\"df-d6fd6c71-9127-4151-b9e2-2ab6b643cd87\">\n",
              "    <div class=\"colab-df-container\">\n",
              "      <div>\n",
              "<style scoped>\n",
              "    .dataframe tbody tr th:only-of-type {\n",
              "        vertical-align: middle;\n",
              "    }\n",
              "\n",
              "    .dataframe tbody tr th {\n",
              "        vertical-align: top;\n",
              "    }\n",
              "\n",
              "    .dataframe thead th {\n",
              "        text-align: right;\n",
              "    }\n",
              "</style>\n",
              "<table border=\"1\" class=\"dataframe\">\n",
              "  <thead>\n",
              "    <tr style=\"text-align: right;\">\n",
              "      <th></th>\n",
              "      <th>Actual Values of Effort</th>\n",
              "      <th>Predicted Effort</th>\n",
              "      <th>MRE</th>\n",
              "    </tr>\n",
              "  </thead>\n",
              "  <tbody>\n",
              "    <tr>\n",
              "      <th>8</th>\n",
              "      <td>84</td>\n",
              "      <td>101.0</td>\n",
              "      <td>-0.202381</td>\n",
              "    </tr>\n",
              "    <tr>\n",
              "      <th>13</th>\n",
              "      <td>74</td>\n",
              "      <td>62.0</td>\n",
              "      <td>0.162162</td>\n",
              "    </tr>\n",
              "    <tr>\n",
              "      <th>20</th>\n",
              "      <td>91</td>\n",
              "      <td>101.0</td>\n",
              "      <td>-0.109890</td>\n",
              "    </tr>\n",
              "    <tr>\n",
              "      <th>1</th>\n",
              "      <td>202</td>\n",
              "      <td>257.0</td>\n",
              "      <td>-0.272277</td>\n",
              "    </tr>\n",
              "    <tr>\n",
              "      <th>11</th>\n",
              "      <td>112</td>\n",
              "      <td>101.0</td>\n",
              "      <td>0.098214</td>\n",
              "    </tr>\n",
              "  </tbody>\n",
              "</table>\n",
              "</div>\n",
              "      <button class=\"colab-df-convert\" onclick=\"convertToInteractive('df-d6fd6c71-9127-4151-b9e2-2ab6b643cd87')\"\n",
              "              title=\"Convert this dataframe to an interactive table.\"\n",
              "              style=\"display:none;\">\n",
              "        \n",
              "  <svg xmlns=\"http://www.w3.org/2000/svg\" height=\"24px\"viewBox=\"0 0 24 24\"\n",
              "       width=\"24px\">\n",
              "    <path d=\"M0 0h24v24H0V0z\" fill=\"none\"/>\n",
              "    <path d=\"M18.56 5.44l.94 2.06.94-2.06 2.06-.94-2.06-.94-.94-2.06-.94 2.06-2.06.94zm-11 1L8.5 8.5l.94-2.06 2.06-.94-2.06-.94L8.5 2.5l-.94 2.06-2.06.94zm10 10l.94 2.06.94-2.06 2.06-.94-2.06-.94-.94-2.06-.94 2.06-2.06.94z\"/><path d=\"M17.41 7.96l-1.37-1.37c-.4-.4-.92-.59-1.43-.59-.52 0-1.04.2-1.43.59L10.3 9.45l-7.72 7.72c-.78.78-.78 2.05 0 2.83L4 21.41c.39.39.9.59 1.41.59.51 0 1.02-.2 1.41-.59l7.78-7.78 2.81-2.81c.8-.78.8-2.07 0-2.86zM5.41 20L4 18.59l7.72-7.72 1.47 1.35L5.41 20z\"/>\n",
              "  </svg>\n",
              "      </button>\n",
              "      \n",
              "  <style>\n",
              "    .colab-df-container {\n",
              "      display:flex;\n",
              "      flex-wrap:wrap;\n",
              "      gap: 12px;\n",
              "    }\n",
              "\n",
              "    .colab-df-convert {\n",
              "      background-color: #E8F0FE;\n",
              "      border: none;\n",
              "      border-radius: 50%;\n",
              "      cursor: pointer;\n",
              "      display: none;\n",
              "      fill: #1967D2;\n",
              "      height: 32px;\n",
              "      padding: 0 0 0 0;\n",
              "      width: 32px;\n",
              "    }\n",
              "\n",
              "    .colab-df-convert:hover {\n",
              "      background-color: #E2EBFA;\n",
              "      box-shadow: 0px 1px 2px rgba(60, 64, 67, 0.3), 0px 1px 3px 1px rgba(60, 64, 67, 0.15);\n",
              "      fill: #174EA6;\n",
              "    }\n",
              "\n",
              "    [theme=dark] .colab-df-convert {\n",
              "      background-color: #3B4455;\n",
              "      fill: #D2E3FC;\n",
              "    }\n",
              "\n",
              "    [theme=dark] .colab-df-convert:hover {\n",
              "      background-color: #434B5C;\n",
              "      box-shadow: 0px 1px 3px 1px rgba(0, 0, 0, 0.15);\n",
              "      filter: drop-shadow(0px 1px 2px rgba(0, 0, 0, 0.3));\n",
              "      fill: #FFFFFF;\n",
              "    }\n",
              "  </style>\n",
              "\n",
              "      <script>\n",
              "        const buttonEl =\n",
              "          document.querySelector('#df-d6fd6c71-9127-4151-b9e2-2ab6b643cd87 button.colab-df-convert');\n",
              "        buttonEl.style.display =\n",
              "          google.colab.kernel.accessAllowed ? 'block' : 'none';\n",
              "\n",
              "        async function convertToInteractive(key) {\n",
              "          const element = document.querySelector('#df-d6fd6c71-9127-4151-b9e2-2ab6b643cd87');\n",
              "          const dataTable =\n",
              "            await google.colab.kernel.invokeFunction('convertToInteractive',\n",
              "                                                     [key], {});\n",
              "          if (!dataTable) return;\n",
              "\n",
              "          const docLinkHtml = 'Like what you see? Visit the ' +\n",
              "            '<a target=\"_blank\" href=https://colab.research.google.com/notebooks/data_table.ipynb>data table notebook</a>'\n",
              "            + ' to learn more about interactive tables.';\n",
              "          element.innerHTML = '';\n",
              "          dataTable['output_type'] = 'display_data';\n",
              "          await google.colab.output.renderOutput(dataTable, element);\n",
              "          const docLink = document.createElement('div');\n",
              "          docLink.innerHTML = docLinkHtml;\n",
              "          element.appendChild(docLink);\n",
              "        }\n",
              "      </script>\n",
              "    </div>\n",
              "  </div>\n",
              "  "
            ]
          },
          "metadata": {},
          "execution_count": 412
        }
      ],
      "source": [
        "pred_mre = pd.DataFrame({'Actual Values of Effort':y_test,'Predicted Effort':y_test_pred_dt,'MRE':(y_test-y_test_pred_dt)/y_test})\n",
        "#rel=(xyy/5)\n",
        "#print(sum(rel)/5)\n",
        "pred_mre[0:21]"
      ]
    },
    {
      "cell_type": "markdown",
      "metadata": {
        "id": "0vCgKq63i8Eg"
      },
      "source": []
    },
    {
      "cell_type": "code",
      "execution_count": null,
      "metadata": {
        "id": "XpqelMtISdhw",
        "colab": {
          "base_uri": "https://localhost:8080/",
          "height": 206
        },
        "outputId": "abf4718a-23aa-4fc7-eff2-89a7b47407e3"
      },
      "outputs": [
        {
          "output_type": "execute_result",
          "data": {
            "text/plain": [
              "    Actual Values of Effort  Predicted Effort  Difference\n",
              "8                        84             101.0       -17.0\n",
              "13                       74              62.0        12.0\n",
              "20                       91             101.0       -10.0\n",
              "1                       202             257.0       -55.0\n",
              "11                      112             101.0        11.0"
            ],
            "text/html": [
              "\n",
              "  <div id=\"df-3a6980f6-e0d3-4608-9e54-fb223ca714f4\">\n",
              "    <div class=\"colab-df-container\">\n",
              "      <div>\n",
              "<style scoped>\n",
              "    .dataframe tbody tr th:only-of-type {\n",
              "        vertical-align: middle;\n",
              "    }\n",
              "\n",
              "    .dataframe tbody tr th {\n",
              "        vertical-align: top;\n",
              "    }\n",
              "\n",
              "    .dataframe thead th {\n",
              "        text-align: right;\n",
              "    }\n",
              "</style>\n",
              "<table border=\"1\" class=\"dataframe\">\n",
              "  <thead>\n",
              "    <tr style=\"text-align: right;\">\n",
              "      <th></th>\n",
              "      <th>Actual Values of Effort</th>\n",
              "      <th>Predicted Effort</th>\n",
              "      <th>Difference</th>\n",
              "    </tr>\n",
              "  </thead>\n",
              "  <tbody>\n",
              "    <tr>\n",
              "      <th>8</th>\n",
              "      <td>84</td>\n",
              "      <td>101.0</td>\n",
              "      <td>-17.0</td>\n",
              "    </tr>\n",
              "    <tr>\n",
              "      <th>13</th>\n",
              "      <td>74</td>\n",
              "      <td>62.0</td>\n",
              "      <td>12.0</td>\n",
              "    </tr>\n",
              "    <tr>\n",
              "      <th>20</th>\n",
              "      <td>91</td>\n",
              "      <td>101.0</td>\n",
              "      <td>-10.0</td>\n",
              "    </tr>\n",
              "    <tr>\n",
              "      <th>1</th>\n",
              "      <td>202</td>\n",
              "      <td>257.0</td>\n",
              "      <td>-55.0</td>\n",
              "    </tr>\n",
              "    <tr>\n",
              "      <th>11</th>\n",
              "      <td>112</td>\n",
              "      <td>101.0</td>\n",
              "      <td>11.0</td>\n",
              "    </tr>\n",
              "  </tbody>\n",
              "</table>\n",
              "</div>\n",
              "      <button class=\"colab-df-convert\" onclick=\"convertToInteractive('df-3a6980f6-e0d3-4608-9e54-fb223ca714f4')\"\n",
              "              title=\"Convert this dataframe to an interactive table.\"\n",
              "              style=\"display:none;\">\n",
              "        \n",
              "  <svg xmlns=\"http://www.w3.org/2000/svg\" height=\"24px\"viewBox=\"0 0 24 24\"\n",
              "       width=\"24px\">\n",
              "    <path d=\"M0 0h24v24H0V0z\" fill=\"none\"/>\n",
              "    <path d=\"M18.56 5.44l.94 2.06.94-2.06 2.06-.94-2.06-.94-.94-2.06-.94 2.06-2.06.94zm-11 1L8.5 8.5l.94-2.06 2.06-.94-2.06-.94L8.5 2.5l-.94 2.06-2.06.94zm10 10l.94 2.06.94-2.06 2.06-.94-2.06-.94-.94-2.06-.94 2.06-2.06.94z\"/><path d=\"M17.41 7.96l-1.37-1.37c-.4-.4-.92-.59-1.43-.59-.52 0-1.04.2-1.43.59L10.3 9.45l-7.72 7.72c-.78.78-.78 2.05 0 2.83L4 21.41c.39.39.9.59 1.41.59.51 0 1.02-.2 1.41-.59l7.78-7.78 2.81-2.81c.8-.78.8-2.07 0-2.86zM5.41 20L4 18.59l7.72-7.72 1.47 1.35L5.41 20z\"/>\n",
              "  </svg>\n",
              "      </button>\n",
              "      \n",
              "  <style>\n",
              "    .colab-df-container {\n",
              "      display:flex;\n",
              "      flex-wrap:wrap;\n",
              "      gap: 12px;\n",
              "    }\n",
              "\n",
              "    .colab-df-convert {\n",
              "      background-color: #E8F0FE;\n",
              "      border: none;\n",
              "      border-radius: 50%;\n",
              "      cursor: pointer;\n",
              "      display: none;\n",
              "      fill: #1967D2;\n",
              "      height: 32px;\n",
              "      padding: 0 0 0 0;\n",
              "      width: 32px;\n",
              "    }\n",
              "\n",
              "    .colab-df-convert:hover {\n",
              "      background-color: #E2EBFA;\n",
              "      box-shadow: 0px 1px 2px rgba(60, 64, 67, 0.3), 0px 1px 3px 1px rgba(60, 64, 67, 0.15);\n",
              "      fill: #174EA6;\n",
              "    }\n",
              "\n",
              "    [theme=dark] .colab-df-convert {\n",
              "      background-color: #3B4455;\n",
              "      fill: #D2E3FC;\n",
              "    }\n",
              "\n",
              "    [theme=dark] .colab-df-convert:hover {\n",
              "      background-color: #434B5C;\n",
              "      box-shadow: 0px 1px 3px 1px rgba(0, 0, 0, 0.15);\n",
              "      filter: drop-shadow(0px 1px 2px rgba(0, 0, 0, 0.3));\n",
              "      fill: #FFFFFF;\n",
              "    }\n",
              "  </style>\n",
              "\n",
              "      <script>\n",
              "        const buttonEl =\n",
              "          document.querySelector('#df-3a6980f6-e0d3-4608-9e54-fb223ca714f4 button.colab-df-convert');\n",
              "        buttonEl.style.display =\n",
              "          google.colab.kernel.accessAllowed ? 'block' : 'none';\n",
              "\n",
              "        async function convertToInteractive(key) {\n",
              "          const element = document.querySelector('#df-3a6980f6-e0d3-4608-9e54-fb223ca714f4');\n",
              "          const dataTable =\n",
              "            await google.colab.kernel.invokeFunction('convertToInteractive',\n",
              "                                                     [key], {});\n",
              "          if (!dataTable) return;\n",
              "\n",
              "          const docLinkHtml = 'Like what you see? Visit the ' +\n",
              "            '<a target=\"_blank\" href=https://colab.research.google.com/notebooks/data_table.ipynb>data table notebook</a>'\n",
              "            + ' to learn more about interactive tables.';\n",
              "          element.innerHTML = '';\n",
              "          dataTable['output_type'] = 'display_data';\n",
              "          await google.colab.output.renderOutput(dataTable, element);\n",
              "          const docLink = document.createElement('div');\n",
              "          docLink.innerHTML = docLinkHtml;\n",
              "          element.appendChild(docLink);\n",
              "        }\n",
              "      </script>\n",
              "    </div>\n",
              "  </div>\n",
              "  "
            ]
          },
          "metadata": {},
          "execution_count": 413
        }
      ],
      "source": [
        "import pandas as pd\n",
        "pred_y_diff = pd.DataFrame({'Actual Values of Effort':y_test,'Predicted Effort':y_test_pred_dt,'Difference':y_test-y_test_pred_dt})\n",
        "\n",
        "pred_y_diff[0:21]"
      ]
    },
    {
      "cell_type": "code",
      "execution_count": null,
      "metadata": {
        "id": "fJeqxV19fax7"
      },
      "outputs": [],
      "source": [
        "#@title Random Forest Regresssor Implementation\n",
        "from sklearn.model_selection  import train_test_split\n",
        "X_train,X_test,y_train,y_test = train_test_split(Cat_1,Cat_2, test_size=0.20 ,random_state=0)"
      ]
    },
    {
      "cell_type": "code",
      "execution_count": null,
      "metadata": {
        "id": "70cl5VRGkF0m"
      },
      "outputs": [],
      "source": [
        "from sklearn.ensemble import RandomForestRegressor\n",
        "model2= RandomForestRegressor(n_estimators=30, random_state=30)"
      ]
    },
    {
      "cell_type": "code",
      "execution_count": null,
      "metadata": {
        "id": "1IkSjieqkrfY"
      },
      "outputs": [],
      "source": [
        "#Fitting the  model \n",
        "LL_rf = model2.fit(X_train,y_train)\n"
      ]
    },
    {
      "cell_type": "code",
      "execution_count": null,
      "metadata": {
        "id": "cWg9LDnG7yrX"
      },
      "outputs": [],
      "source": [
        "#prediction on testing the data\n",
        "y_test_pred_rf = model2.predict(X_test)"
      ]
    },
    {
      "cell_type": "code",
      "execution_count": null,
      "metadata": {
        "colab": {
          "base_uri": "https://localhost:8080/"
        },
        "id": "CvcUXMCmlQXO",
        "outputId": "fe46baa5-727c-4b29-e72c-024f613fa636"
      },
      "outputs": [
        {
          "output_type": "stream",
          "name": "stdout",
          "text": [
            "The Model Score on the predictrd training Set: 0.98\n",
            "r2 Score  0.5617694892306675\n"
          ]
        }
      ],
      "source": [
        "#Training Model Evaluation\n",
        "\n",
        "\n",
        "print('The Model Score on the predictrd training Set: %.2f'% LL_rf.score(X_train,y_train))\n",
        "print('r2 Score ', r2_score(y_test,y_test_pred_rf))"
      ]
    },
    {
      "cell_type": "code",
      "execution_count": null,
      "metadata": {
        "id": "o_-j_NeZmZIV"
      },
      "outputs": [],
      "source": [
        "# print(\"Mean Squared Error::\",mean_squared_error(y_test,y_test_pred_rf))\n",
        "# print(\"Mean Absolute Error::\",mean_absolute_error(y_test,y_test_pred_rf))\n",
        "# xv= math.sqrt(mean_squared_error(y_test,y_test_pred_rf))\n",
        "# print(\"Root Mean Squared Error::\",xv)"
      ]
    },
    {
      "cell_type": "code",
      "execution_count": null,
      "metadata": {
        "colab": {
          "base_uri": "https://localhost:8080/",
          "height": 499
        },
        "id": "rfPaPzj4mMYN",
        "outputId": "da1d0a3a-0923-45cf-c2e4-52c2792554f8"
      },
      "outputs": [
        {
          "output_type": "execute_result",
          "data": {
            "text/plain": [
              "<matplotlib.legend.Legend at 0x7f96583d3610>"
            ]
          },
          "metadata": {},
          "execution_count": 420
        },
        {
          "output_type": "display_data",
          "data": {
            "text/plain": [
              "<Figure size 1000x600 with 1 Axes>"
            ],
            "image/png": "[encoded data removed]"
          },
          "metadata": {}
        }
      ],
      "source": [
        "# plotting the observed and predicted values \n",
        "\n",
        "\n",
        "# Setting the boundaries and parameters\n",
        "\n",
        "plt.rcParams['figure.figsize'] = (10,6)\n",
        "x_ax =range(len(X_test))\n",
        "\n",
        "#plotting \n",
        "plt.plot(x_ax, y_test , label='Actual Observed Value', color='yellow',linestyle='-')\n",
        "plt.plot(x_ax,y_test_pred_rf , label='Predicted values ' , color='red' , linestyle ='--')\n",
        "plt.grid()\n",
        "plt.xlabel('Agile Projects')\n",
        "plt.ylabel('Cost Parameter')\n",
        "plt.title('Cost Prediction with Random Forest')\n",
        "plt.legend(bbox_to_anchor =(0.5,-0.2), loc= 'upper center',ncol=2, frameon = True)"
      ]
    },
    {
      "cell_type": "code",
      "execution_count": null,
      "metadata": {
        "colab": {
          "base_uri": "https://localhost:8080/",
          "height": 206
        },
        "id": "sNu3gUwClavx",
        "outputId": "42ee2b7a-d3dc-4285-9ac9-0addc676be29"
      },
      "outputs": [
        {
          "output_type": "execute_result",
          "data": {
            "text/plain": [
              "    Actual Values of Cost  Predicted Effort       MRE\n",
              "8                      84         94.966667 -0.130556\n",
              "13                     74         86.033333 -0.162613\n",
              "20                     91         94.966667 -0.043590\n",
              "1                     202        266.866667 -0.321122\n",
              "11                    112         96.833333  0.135417"
            ],
            "text/html": [
              "\n",
              "  <div id=\"df-890f6904-15e4-4813-8980-93ebfe93bd66\">\n",
              "    <div class=\"colab-df-container\">\n",
              "      <div>\n",
              "<style scoped>\n",
              "    .dataframe tbody tr th:only-of-type {\n",
              "        vertical-align: middle;\n",
              "    }\n",
              "\n",
              "    .dataframe tbody tr th {\n",
              "        vertical-align: top;\n",
              "    }\n",
              "\n",
              "    .dataframe thead th {\n",
              "        text-align: right;\n",
              "    }\n",
              "</style>\n",
              "<table border=\"1\" class=\"dataframe\">\n",
              "  <thead>\n",
              "    <tr style=\"text-align: right;\">\n",
              "      <th></th>\n",
              "      <th>Actual Values of Cost</th>\n",
              "      <th>Predicted Effort</th>\n",
              "      <th>MRE</th>\n",
              "    </tr>\n",
              "  </thead>\n",
              "  <tbody>\n",
              "    <tr>\n",
              "      <th>8</th>\n",
              "      <td>84</td>\n",
              "      <td>94.966667</td>\n",
              "      <td>-0.130556</td>\n",
              "    </tr>\n",
              "    <tr>\n",
              "      <th>13</th>\n",
              "      <td>74</td>\n",
              "      <td>86.033333</td>\n",
              "      <td>-0.162613</td>\n",
              "    </tr>\n",
              "    <tr>\n",
              "      <th>20</th>\n",
              "      <td>91</td>\n",
              "      <td>94.966667</td>\n",
              "      <td>-0.043590</td>\n",
              "    </tr>\n",
              "    <tr>\n",
              "      <th>1</th>\n",
              "      <td>202</td>\n",
              "      <td>266.866667</td>\n",
              "      <td>-0.321122</td>\n",
              "    </tr>\n",
              "    <tr>\n",
              "      <th>11</th>\n",
              "      <td>112</td>\n",
              "      <td>96.833333</td>\n",
              "      <td>0.135417</td>\n",
              "    </tr>\n",
              "  </tbody>\n",
              "</table>\n",
              "</div>\n",
              "      <button class=\"colab-df-convert\" onclick=\"convertToInteractive('df-890f6904-15e4-4813-8980-93ebfe93bd66')\"\n",
              "              title=\"Convert this dataframe to an interactive table.\"\n",
              "              style=\"display:none;\">\n",
              "        \n",
              "  <svg xmlns=\"http://www.w3.org/2000/svg\" height=\"24px\"viewBox=\"0 0 24 24\"\n",
              "       width=\"24px\">\n",
              "    <path d=\"M0 0h24v24H0V0z\" fill=\"none\"/>\n",
              "    <path d=\"M18.56 5.44l.94 2.06.94-2.06 2.06-.94-2.06-.94-.94-2.06-.94 2.06-2.06.94zm-11 1L8.5 8.5l.94-2.06 2.06-.94-2.06-.94L8.5 2.5l-.94 2.06-2.06.94zm10 10l.94 2.06.94-2.06 2.06-.94-2.06-.94-.94-2.06-.94 2.06-2.06.94z\"/><path d=\"M17.41 7.96l-1.37-1.37c-.4-.4-.92-.59-1.43-.59-.52 0-1.04.2-1.43.59L10.3 9.45l-7.72 7.72c-.78.78-.78 2.05 0 2.83L4 21.41c.39.39.9.59 1.41.59.51 0 1.02-.2 1.41-.59l7.78-7.78 2.81-2.81c.8-.78.8-2.07 0-2.86zM5.41 20L4 18.59l7.72-7.72 1.47 1.35L5.41 20z\"/>\n",
              "  </svg>\n",
              "      </button>\n",
              "      \n",
              "  <style>\n",
              "    .colab-df-container {\n",
              "      display:flex;\n",
              "      flex-wrap:wrap;\n",
              "      gap: 12px;\n",
              "    }\n",
              "\n",
              "    .colab-df-convert {\n",
              "      background-color: #E8F0FE;\n",
              "      border: none;\n",
              "      border-radius: 50%;\n",
              "      cursor: pointer;\n",
              "      display: none;\n",
              "      fill: #1967D2;\n",
              "      height: 32px;\n",
              "      padding: 0 0 0 0;\n",
              "      width: 32px;\n",
              "    }\n",
              "\n",
              "    .colab-df-convert:hover {\n",
              "      background-color: #E2EBFA;\n",
              "      box-shadow: 0px 1px 2px rgba(60, 64, 67, 0.3), 0px 1px 3px 1px rgba(60, 64, 67, 0.15);\n",
              "      fill: #174EA6;\n",
              "    }\n",
              "\n",
              "    [theme=dark] .colab-df-convert {\n",
              "      background-color: #3B4455;\n",
              "      fill: #D2E3FC;\n",
              "    }\n",
              "\n",
              "    [theme=dark] .colab-df-convert:hover {\n",
              "      background-color: #434B5C;\n",
              "      box-shadow: 0px 1px 3px 1px rgba(0, 0, 0, 0.15);\n",
              "      filter: drop-shadow(0px 1px 2px rgba(0, 0, 0, 0.3));\n",
              "      fill: #FFFFFF;\n",
              "    }\n",
              "  </style>\n",
              "\n",
              "      <script>\n",
              "        const buttonEl =\n",
              "          document.querySelector('#df-890f6904-15e4-4813-8980-93ebfe93bd66 button.colab-df-convert');\n",
              "        buttonEl.style.display =\n",
              "          google.colab.kernel.accessAllowed ? 'block' : 'none';\n",
              "\n",
              "        async function convertToInteractive(key) {\n",
              "          const element = document.querySelector('#df-890f6904-15e4-4813-8980-93ebfe93bd66');\n",
              "          const dataTable =\n",
              "            await google.colab.kernel.invokeFunction('convertToInteractive',\n",
              "                                                     [key], {});\n",
              "          if (!dataTable) return;\n",
              "\n",
              "          const docLinkHtml = 'Like what you see? Visit the ' +\n",
              "            '<a target=\"_blank\" href=https://colab.research.google.com/notebooks/data_table.ipynb>data table notebook</a>'\n",
              "            + ' to learn more about interactive tables.';\n",
              "          element.innerHTML = '';\n",
              "          dataTable['output_type'] = 'display_data';\n",
              "          await google.colab.output.renderOutput(dataTable, element);\n",
              "          const docLink = document.createElement('div');\n",
              "          docLink.innerHTML = docLinkHtml;\n",
              "          element.appendChild(docLink);\n",
              "        }\n",
              "      </script>\n",
              "    </div>\n",
              "  </div>\n",
              "  "
            ]
          },
          "metadata": {},
          "execution_count": 421
        }
      ],
      "source": [
        "pred_mre = pd.DataFrame({'Actual Values of Cost':y_test,'Predicted Effort':y_test_pred_rf,'MRE':(y_test-y_test_pred_rf)/y_test})\n",
        "#rel=(xyy/5)\n",
        "#print(sum(rel)/5)\n",
        "pred_mre[0:21]"
      ]
    },
    {
      "cell_type": "markdown",
      "source": [
        "Evaluation Parameters"
      ],
      "metadata": {
        "id": "eS3No_HTChNs"
      }
    },
    {
      "cell_type": "code",
      "execution_count": null,
      "metadata": {
        "id": "d3HFXFgtlcfF",
        "colab": {
          "base_uri": "https://localhost:8080/"
        },
        "outputId": "c51e9d24-198b-41bc-ef4e-b40792dc5248"
      },
      "outputs": [
        {
          "output_type": "stream",
          "name": "stdout",
          "text": [
            "The r Score on the predictrd trained Set: 0.56\n",
            "MMRE 0.15865933812715993\n",
            "MdMRE 0.1354166666666667\n",
            "PRED 25% 80.0\n"
          ]
        }
      ],
      "source": [
        "\n",
        "# The r_sq\n",
        "print('The r Score on the predictrd trained Set: %.2f'% r2_score(y_test,y_test_pred_rf))\n",
        "\n",
        "diff=np.absolute(y_test-y_test_pred_rf)\n",
        "MRE=diff/y_test\n",
        "MMRE=np.mean(MRE)\n",
        "MdMRE=np.median(MRE)\n",
        "P=MRE[MRE<.25]\n",
        "Pred=(P.size/MRE.size) * 100\n",
        "print(\"MMRE\",MMRE)\n",
        "print(\"MdMRE\",MdMRE)\n",
        "print(\"PRED 25%\",Pred)\n",
        "\n",
        "#"
      ]
    },
    {
      "cell_type": "markdown",
      "metadata": {
        "id": "glXd2erg2WB0"
      },
      "source": [
        "# Support Vector Machine"
      ]
    },
    {
      "cell_type": "code",
      "execution_count": null,
      "metadata": {
        "id": "NQQ_gzr9sNr6"
      },
      "outputs": [],
      "source": [
        "def RBF(X, gamma):\n",
        "    \n",
        "    # Free parameter gamma\n",
        "    if gamma == None:\n",
        "        gamma = 1.0/X.shape[1]\n",
        "        \n",
        "    # RBF kernel Equation\n",
        "    K = np.exp(-gamma * np.sum((X - X[:,np.newaxis])**2, axis = -1))\n",
        "    \n",
        "    return K"
      ]
    },
    {
      "cell_type": "code",
      "execution_count": null,
      "metadata": {
        "id": "BtVrYQ_wwzL7",
        "colab": {
          "base_uri": "https://localhost:8080/"
        },
        "outputId": "273673bc-4c8a-4b9a-a9e4-6d33752f5b0f"
      },
      "outputs": [
        {
          "output_type": "stream",
          "name": "stdout",
          "text": [
            "Mean Absolute error::: 3.3763886032268267\n",
            "Mean Squared Error:: 139.0\n",
            "Root Mean Squared Error:: 11.789826122551595\n"
          ]
        }
      ],
      "source": [
        "# #@title Support Vector\n",
        "# #import warnings\n",
        "# from sklearn import svm\n",
        "# from sklearn.svm import SVC\n",
        "# from sklearn.model_selection import train_test_split\n",
        "# import pandas as pd\n",
        "# from sklearn.model_selection import GridSearchCV\n",
        "\n",
        "\n",
        "# # Categorical To continious \n",
        "# X_train,X_test,y_train,y_test = train_test_split(Cat_1,Cat_2, test_size=0.20, random_state=0)\n",
        "\n",
        "\n",
        "# svm = SVC(kernel=\"linear\",C=1)\n",
        "# svm.fit(X_train,y_train)\n",
        "\n",
        "# #clf = svm.SVC()\n",
        "# #clf.fit(Cat_1, Cat_2)\n",
        "\n",
        "# y_pred_svm=svm.predict(X_test)\n",
        "# import numpy as np\n",
        "# from sklearn.metrics import mean_absolute_error\n",
        "# from sklearn.metrics import mean_squared_error\n",
        "# #\n",
        "# print(\"Mean Absolute error:::\",np.sqrt(mean_absolute_error(y_test,y_pred_svm)))\n",
        "\n",
        "# print(\"Mean Squared Error::\",mean_squared_error(y_test,y_pred_svm))\n",
        "# xv= math.sqrt(mean_squared_error(y_test,y_pred_svm))\n",
        "# print(\"Root Mean Squared Error::\",xv)\n"
      ]
    },
    {
      "cell_type": "code",
      "source": [
        "#@title ADA BOOST\n",
        "from sklearn.ensemble import AdaBoostRegressor\n",
        "\n",
        "\n",
        "# Categorical To continious \n",
        "X_train_ada,X_test_ada,y_train_ada,y_test_ada = train_test_split(Cat_1,Cat_2, test_size=0.20, random_state=0)\n",
        "\n",
        "\n",
        "ada = AdaBoostRegressor()\n",
        "ada.fit(X_train_ada,y_train_ada)\n",
        "\n",
        "#clf = svm.SVC()\n",
        "#clf.fit(Cat_1, Cat_2)\n",
        "y_train_pred_ada=ada.predict(X_train_ada)\n",
        "y_pred_ada=ada.predict(X_test_ada)\n",
        "\n",
        "\n",
        "\n",
        "# The r_sq\n",
        "print('The r Score on the predictrd test Set: %.2f'% r2_score(y_test_ada,y_pred_ada))\n",
        "print('The r Score on the predictrd trained Set: %.2f'% r2_score(y_train_ada,y_train_pred_ada))\n",
        "\n",
        "diff=np.absolute(y_test_ada-y_pred_ada)\n",
        "MRE=diff/y_test_ada\n",
        "MMRE=np.mean(MRE)\n",
        "MdMRE=np.median(MRE)\n",
        "P=MRE[MRE<.25]\n",
        "Pred=(P.size/MRE.size) * 100\n",
        "print(\"MMRE\",MMRE)\n",
        "print(\"MdMRE\",MdMRE)\n",
        "print(\"PRED 25%\",Pred)\n",
        "\n",
        "#\n"
      ],
      "metadata": {
        "colab": {
          "base_uri": "https://localhost:8080/"
        },
        "id": "fAUR20Aa8UT_",
        "outputId": "070fa989-f82b-49c5-df3d-b67e202b9345"
      },
      "execution_count": 518,
      "outputs": [
        {
          "output_type": "stream",
          "name": "stdout",
          "text": [
            "The r Score on the predictrd test Set: 0.67\n",
            "The r Score on the predictrd trained Set: 1.00\n",
            "MMRE 0.16184209043119935\n",
            "MdMRE 0.16216216216216217\n",
            "PRED 25% 80.0\n"
          ]
        }
      ]
    },
    {
      "cell_type": "code",
      "source": [
        "# #@title ADA BOOST\n",
        "# from sklearn.ensemble import AdaBoostRegressor\n",
        "\n",
        "\n",
        "\n",
        "\n",
        "# # Categorical To continious \n",
        "# X_train_ada,X_test_ada,y_train_ada,y_test_sv = train_test_split(Cat_1,Cat_2, test_size=0.20, random_state=0)\n",
        "\n",
        "\n",
        "# svm = SVR(kernel=\"linear\",gamma=0.1, C=0.02)\n",
        "# svm.fit(X_train_ada,y_train_ada)\n",
        "\n",
        "# #clf = svm.SVC()\n",
        "# #clf.fit(Cat_1, Cat_2)\n",
        "# y_train_pred_svm=svm.predict(X_train_ada)\n",
        "# y_pred_svm=svm.predict(X_test_ada)\n",
        "\n",
        "\n",
        "\n",
        "# # The r_sq\n",
        "# print('The r Score on the predictrd trained Set: %.2f'% r2_score(y_test_sv,y_pred_svm))\n",
        "\n",
        "# diff=np.absolute(y_test_sv-y_pred_svm)\n",
        "# MRE=diff/y_test_sv\n",
        "# MMRE=np.mean(MRE)\n",
        "# MdMRE=np.median(MRE)\n",
        "# P=MRE[MRE<.25]\n",
        "# Pred=(P.size/MRE.size) * 100\n",
        "# print(\"MMRE\",MMRE)\n",
        "# print(\"MdMRE\",MdMRE)\n",
        "# print(\"PRED 25%\",Pred)\n",
        "\n",
        "# #\n"
      ],
      "metadata": {
        "id": "nD4p_7SyDihw"
      },
      "execution_count": null,
      "outputs": []
    },
    {
      "cell_type": "code",
      "execution_count": null,
      "metadata": {
        "id": "74lnbked_FaZ"
      },
      "outputs": [],
      "source": [
        "#prediction on testing the data\n",
        "#y_test_pred_svm = y_pred111.predict(y_test,y_test_pred_svm)"
      ]
    },
    {
      "cell_type": "code",
      "execution_count": 520,
      "metadata": {
        "id": "r2jxfZrG9qhV",
        "colab": {
          "base_uri": "https://localhost:8080/",
          "height": 206
        },
        "outputId": "e6459a52-cbd7-487e-8bb3-9bd191dd7207"
      },
      "outputs": [
        {
          "output_type": "execute_result",
          "data": {
            "text/plain": [
              "    Actual Values of Effort  Predicted Effort  Difference\n",
              "8                        84             101.0       -17.0\n",
              "13                       74              62.0        12.0\n",
              "20                       91             101.0       -10.0\n",
              "1                       202             257.0       -55.0\n",
              "11                      112             105.0         7.0"
            ],
            "text/html": [
              "\n",
              "  <div id=\"df-d8c110cf-9046-4339-b116-653a1dc8af99\">\n",
              "    <div class=\"colab-df-container\">\n",
              "      <div>\n",
              "<style scoped>\n",
              "    .dataframe tbody tr th:only-of-type {\n",
              "        vertical-align: middle;\n",
              "    }\n",
              "\n",
              "    .dataframe tbody tr th {\n",
              "        vertical-align: top;\n",
              "    }\n",
              "\n",
              "    .dataframe thead th {\n",
              "        text-align: right;\n",
              "    }\n",
              "</style>\n",
              "<table border=\"1\" class=\"dataframe\">\n",
              "  <thead>\n",
              "    <tr style=\"text-align: right;\">\n",
              "      <th></th>\n",
              "      <th>Actual Values of Effort</th>\n",
              "      <th>Predicted Effort</th>\n",
              "      <th>Difference</th>\n",
              "    </tr>\n",
              "  </thead>\n",
              "  <tbody>\n",
              "    <tr>\n",
              "      <th>8</th>\n",
              "      <td>84</td>\n",
              "      <td>101.0</td>\n",
              "      <td>-17.0</td>\n",
              "    </tr>\n",
              "    <tr>\n",
              "      <th>13</th>\n",
              "      <td>74</td>\n",
              "      <td>62.0</td>\n",
              "      <td>12.0</td>\n",
              "    </tr>\n",
              "    <tr>\n",
              "      <th>20</th>\n",
              "      <td>91</td>\n",
              "      <td>101.0</td>\n",
              "      <td>-10.0</td>\n",
              "    </tr>\n",
              "    <tr>\n",
              "      <th>1</th>\n",
              "      <td>202</td>\n",
              "      <td>257.0</td>\n",
              "      <td>-55.0</td>\n",
              "    </tr>\n",
              "    <tr>\n",
              "      <th>11</th>\n",
              "      <td>112</td>\n",
              "      <td>105.0</td>\n",
              "      <td>7.0</td>\n",
              "    </tr>\n",
              "  </tbody>\n",
              "</table>\n",
              "</div>\n",
              "      <button class=\"colab-df-convert\" onclick=\"convertToInteractive('df-d8c110cf-9046-4339-b116-653a1dc8af99')\"\n",
              "              title=\"Convert this dataframe to an interactive table.\"\n",
              "              style=\"display:none;\">\n",
              "        \n",
              "  <svg xmlns=\"http://www.w3.org/2000/svg\" height=\"24px\"viewBox=\"0 0 24 24\"\n",
              "       width=\"24px\">\n",
              "    <path d=\"M0 0h24v24H0V0z\" fill=\"none\"/>\n",
              "    <path d=\"M18.56 5.44l.94 2.06.94-2.06 2.06-.94-2.06-.94-.94-2.06-.94 2.06-2.06.94zm-11 1L8.5 8.5l.94-2.06 2.06-.94-2.06-.94L8.5 2.5l-.94 2.06-2.06.94zm10 10l.94 2.06.94-2.06 2.06-.94-2.06-.94-.94-2.06-.94 2.06-2.06.94z\"/><path d=\"M17.41 7.96l-1.37-1.37c-.4-.4-.92-.59-1.43-.59-.52 0-1.04.2-1.43.59L10.3 9.45l-7.72 7.72c-.78.78-.78 2.05 0 2.83L4 21.41c.39.39.9.59 1.41.59.51 0 1.02-.2 1.41-.59l7.78-7.78 2.81-2.81c.8-.78.8-2.07 0-2.86zM5.41 20L4 18.59l7.72-7.72 1.47 1.35L5.41 20z\"/>\n",
              "  </svg>\n",
              "      </button>\n",
              "      \n",
              "  <style>\n",
              "    .colab-df-container {\n",
              "      display:flex;\n",
              "      flex-wrap:wrap;\n",
              "      gap: 12px;\n",
              "    }\n",
              "\n",
              "    .colab-df-convert {\n",
              "      background-color: #E8F0FE;\n",
              "      border: none;\n",
              "      border-radius: 50%;\n",
              "      cursor: pointer;\n",
              "      display: none;\n",
              "      fill: #1967D2;\n",
              "      height: 32px;\n",
              "      padding: 0 0 0 0;\n",
              "      width: 32px;\n",
              "    }\n",
              "\n",
              "    .colab-df-convert:hover {\n",
              "      background-color: #E2EBFA;\n",
              "      box-shadow: 0px 1px 2px rgba(60, 64, 67, 0.3), 0px 1px 3px 1px rgba(60, 64, 67, 0.15);\n",
              "      fill: #174EA6;\n",
              "    }\n",
              "\n",
              "    [theme=dark] .colab-df-convert {\n",
              "      background-color: #3B4455;\n",
              "      fill: #D2E3FC;\n",
              "    }\n",
              "\n",
              "    [theme=dark] .colab-df-convert:hover {\n",
              "      background-color: #434B5C;\n",
              "      box-shadow: 0px 1px 3px 1px rgba(0, 0, 0, 0.15);\n",
              "      filter: drop-shadow(0px 1px 2px rgba(0, 0, 0, 0.3));\n",
              "      fill: #FFFFFF;\n",
              "    }\n",
              "  </style>\n",
              "\n",
              "      <script>\n",
              "        const buttonEl =\n",
              "          document.querySelector('#df-d8c110cf-9046-4339-b116-653a1dc8af99 button.colab-df-convert');\n",
              "        buttonEl.style.display =\n",
              "          google.colab.kernel.accessAllowed ? 'block' : 'none';\n",
              "\n",
              "        async function convertToInteractive(key) {\n",
              "          const element = document.querySelector('#df-d8c110cf-9046-4339-b116-653a1dc8af99');\n",
              "          const dataTable =\n",
              "            await google.colab.kernel.invokeFunction('convertToInteractive',\n",
              "                                                     [key], {});\n",
              "          if (!dataTable) return;\n",
              "\n",
              "          const docLinkHtml = 'Like what you see? Visit the ' +\n",
              "            '<a target=\"_blank\" href=https://colab.research.google.com/notebooks/data_table.ipynb>data table notebook</a>'\n",
              "            + ' to learn more about interactive tables.';\n",
              "          element.innerHTML = '';\n",
              "          dataTable['output_type'] = 'display_data';\n",
              "          await google.colab.output.renderOutput(dataTable, element);\n",
              "          const docLink = document.createElement('div');\n",
              "          docLink.innerHTML = docLinkHtml;\n",
              "          element.appendChild(docLink);\n",
              "        }\n",
              "      </script>\n",
              "    </div>\n",
              "  </div>\n",
              "  "
            ]
          },
          "metadata": {},
          "execution_count": 520
        }
      ],
      "source": [
        "import pandas as pd\n",
        "pred_y_diff = pd.DataFrame({'Actual Values of Effort':y_test_ada,'Predicted Effort':y_pred_ada,'Difference':y_test_ada-y_pred_ada})\n",
        "\n",
        "pred_y_diff[0:21]"
      ]
    },
    {
      "cell_type": "code",
      "execution_count": 527,
      "metadata": {
        "id": "URwB6qyE8vCV",
        "colab": {
          "base_uri": "https://localhost:8080/",
          "height": 422
        },
        "outputId": "b8b5d34d-a727-4be2-9823-f5e6c80b66a5"
      },
      "outputs": [
        {
          "output_type": "display_data",
          "data": {
            "text/plain": [
              "<Figure size 1000x600 with 1 Axes>"
            ],
            "image/png": "[encoded data removed]"
          },
          "metadata": {}
        }
      ],
      "source": [
        "import matplotlib.pyplot as plt\n",
        "import seaborn as sns\n",
        "\n",
        "colors = sns.color_palette(\"colorblind\")\n",
        "# X_train_ada,X_test_ada,y_train_ada,y_test_ada\n",
        "plt.figure()\n",
        "plt.scatter(y_train_pred_ada,y_train_ada , label=\"training samples\")\n",
        "#plt.plot(X_test_ada,y_test_ada, color=colors[1], label=\"n_estimators=1\", linewidth=2)\n",
        "# plt.plot(X, y_2, color=colors[2], label=\"n_estimators=300\", linewidth=2)\n",
        "plt.xlabel(\"data\")\n",
        "plt.ylabel(\"target\")\n",
        "plt.title(\"ADA BOOST REGRESSOR\")\n",
        "plt.legend()\n",
        "plt.show()"
      ]
    },
    {
      "cell_type": "code",
      "execution_count": null,
      "metadata": {
        "id": "9J3ckdlWseCG",
        "colab": {
          "base_uri": "https://localhost:8080/",
          "height": 206
        },
        "outputId": "4a178aa2-a5e7-437a-ae83-a1ddd0fd4009"
      },
      "outputs": [
        {
          "output_type": "execute_result",
          "data": {
            "text/plain": [
              "   sNo  Effort   Vi  ActualTime  ActualCost  SizeEffort  SizeTime  SizeCost\n",
              "0    1     156  4.2          63     1200000           1         2         1\n",
              "1    2     202  3.7          92     1600000           2         2         2\n",
              "2    3     173  4.0          56     1000000           1         1         1\n",
              "3    4     331  4.5          86     2100000           2         2         2\n",
              "4    5     124  4.9          32      750000           1         0         1"
            ],
            "text/html": [
              "\n",
              "  <div id=\"df-25f98634-0ba0-48d0-ae54-9839a44090c3\">\n",
              "    <div class=\"colab-df-container\">\n",
              "      <div>\n",
              "<style scoped>\n",
              "    .dataframe tbody tr th:only-of-type {\n",
              "        vertical-align: middle;\n",
              "    }\n",
              "\n",
              "    .dataframe tbody tr th {\n",
              "        vertical-align: top;\n",
              "    }\n",
              "\n",
              "    .dataframe thead th {\n",
              "        text-align: right;\n",
              "    }\n",
              "</style>\n",
              "<table border=\"1\" class=\"dataframe\">\n",
              "  <thead>\n",
              "    <tr style=\"text-align: right;\">\n",
              "      <th></th>\n",
              "      <th>sNo</th>\n",
              "      <th>Effort</th>\n",
              "      <th>Vi</th>\n",
              "      <th>ActualTime</th>\n",
              "      <th>ActualCost</th>\n",
              "      <th>SizeEffort</th>\n",
              "      <th>SizeTime</th>\n",
              "      <th>SizeCost</th>\n",
              "    </tr>\n",
              "  </thead>\n",
              "  <tbody>\n",
              "    <tr>\n",
              "      <th>0</th>\n",
              "      <td>1</td>\n",
              "      <td>156</td>\n",
              "      <td>4.2</td>\n",
              "      <td>63</td>\n",
              "      <td>1200000</td>\n",
              "      <td>1</td>\n",
              "      <td>2</td>\n",
              "      <td>1</td>\n",
              "    </tr>\n",
              "    <tr>\n",
              "      <th>1</th>\n",
              "      <td>2</td>\n",
              "      <td>202</td>\n",
              "      <td>3.7</td>\n",
              "      <td>92</td>\n",
              "      <td>1600000</td>\n",
              "      <td>2</td>\n",
              "      <td>2</td>\n",
              "      <td>2</td>\n",
              "    </tr>\n",
              "    <tr>\n",
              "      <th>2</th>\n",
              "      <td>3</td>\n",
              "      <td>173</td>\n",
              "      <td>4.0</td>\n",
              "      <td>56</td>\n",
              "      <td>1000000</td>\n",
              "      <td>1</td>\n",
              "      <td>1</td>\n",
              "      <td>1</td>\n",
              "    </tr>\n",
              "    <tr>\n",
              "      <th>3</th>\n",
              "      <td>4</td>\n",
              "      <td>331</td>\n",
              "      <td>4.5</td>\n",
              "      <td>86</td>\n",
              "      <td>2100000</td>\n",
              "      <td>2</td>\n",
              "      <td>2</td>\n",
              "      <td>2</td>\n",
              "    </tr>\n",
              "    <tr>\n",
              "      <th>4</th>\n",
              "      <td>5</td>\n",
              "      <td>124</td>\n",
              "      <td>4.9</td>\n",
              "      <td>32</td>\n",
              "      <td>750000</td>\n",
              "      <td>1</td>\n",
              "      <td>0</td>\n",
              "      <td>1</td>\n",
              "    </tr>\n",
              "  </tbody>\n",
              "</table>\n",
              "</div>\n",
              "      <button class=\"colab-df-convert\" onclick=\"convertToInteractive('df-25f98634-0ba0-48d0-ae54-9839a44090c3')\"\n",
              "              title=\"Convert this dataframe to an interactive table.\"\n",
              "              style=\"display:none;\">\n",
              "        \n",
              "  <svg xmlns=\"http://www.w3.org/2000/svg\" height=\"24px\"viewBox=\"0 0 24 24\"\n",
              "       width=\"24px\">\n",
              "    <path d=\"M0 0h24v24H0V0z\" fill=\"none\"/>\n",
              "    <path d=\"M18.56 5.44l.94 2.06.94-2.06 2.06-.94-2.06-.94-.94-2.06-.94 2.06-2.06.94zm-11 1L8.5 8.5l.94-2.06 2.06-.94-2.06-.94L8.5 2.5l-.94 2.06-2.06.94zm10 10l.94 2.06.94-2.06 2.06-.94-2.06-.94-.94-2.06-.94 2.06-2.06.94z\"/><path d=\"M17.41 7.96l-1.37-1.37c-.4-.4-.92-.59-1.43-.59-.52 0-1.04.2-1.43.59L10.3 9.45l-7.72 7.72c-.78.78-.78 2.05 0 2.83L4 21.41c.39.39.9.59 1.41.59.51 0 1.02-.2 1.41-.59l7.78-7.78 2.81-2.81c.8-.78.8-2.07 0-2.86zM5.41 20L4 18.59l7.72-7.72 1.47 1.35L5.41 20z\"/>\n",
              "  </svg>\n",
              "      </button>\n",
              "      \n",
              "  <style>\n",
              "    .colab-df-container {\n",
              "      display:flex;\n",
              "      flex-wrap:wrap;\n",
              "      gap: 12px;\n",
              "    }\n",
              "\n",
              "    .colab-df-convert {\n",
              "      background-color: #E8F0FE;\n",
              "      border: none;\n",
              "      border-radius: 50%;\n",
              "      cursor: pointer;\n",
              "      display: none;\n",
              "      fill: #1967D2;\n",
              "      height: 32px;\n",
              "      padding: 0 0 0 0;\n",
              "      width: 32px;\n",
              "    }\n",
              "\n",
              "    .colab-df-convert:hover {\n",
              "      background-color: #E2EBFA;\n",
              "      box-shadow: 0px 1px 2px rgba(60, 64, 67, 0.3), 0px 1px 3px 1px rgba(60, 64, 67, 0.15);\n",
              "      fill: #174EA6;\n",
              "    }\n",
              "\n",
              "    [theme=dark] .colab-df-convert {\n",
              "      background-color: #3B4455;\n",
              "      fill: #D2E3FC;\n",
              "    }\n",
              "\n",
              "    [theme=dark] .colab-df-convert:hover {\n",
              "      background-color: #434B5C;\n",
              "      box-shadow: 0px 1px 3px 1px rgba(0, 0, 0, 0.15);\n",
              "      filter: drop-shadow(0px 1px 2px rgba(0, 0, 0, 0.3));\n",
              "      fill: #FFFFFF;\n",
              "    }\n",
              "  </style>\n",
              "\n",
              "      <script>\n",
              "        const buttonEl =\n",
              "          document.querySelector('#df-25f98634-0ba0-48d0-ae54-9839a44090c3 button.colab-df-convert');\n",
              "        buttonEl.style.display =\n",
              "          google.colab.kernel.accessAllowed ? 'block' : 'none';\n",
              "\n",
              "        async function convertToInteractive(key) {\n",
              "          const element = document.querySelector('#df-25f98634-0ba0-48d0-ae54-9839a44090c3');\n",
              "          const dataTable =\n",
              "            await google.colab.kernel.invokeFunction('convertToInteractive',\n",
              "                                                     [key], {});\n",
              "          if (!dataTable) return;\n",
              "\n",
              "          const docLinkHtml = 'Like what you see? Visit the ' +\n",
              "            '<a target=\"_blank\" href=https://colab.research.google.com/notebooks/data_table.ipynb>data table notebook</a>'\n",
              "            + ' to learn more about interactive tables.';\n",
              "          element.innerHTML = '';\n",
              "          dataTable['output_type'] = 'display_data';\n",
              "          await google.colab.output.renderOutput(dataTable, element);\n",
              "          const docLink = document.createElement('div');\n",
              "          docLink.innerHTML = docLinkHtml;\n",
              "          element.appendChild(docLink);\n",
              "        }\n",
              "      </script>\n",
              "    </div>\n",
              "  </div>\n",
              "  "
            ]
          },
          "metadata": {},
          "execution_count": 429
        }
      ],
      "source": [
        "#@title Ensemble Learning \n",
        "\n",
        "data_read.head()"
      ]
    },
    {
      "cell_type": "code",
      "source": [
        "from sklearn.preprocessing import LabelEncoder\n",
        "\n",
        "# encoder = LabelEncoder()\n",
        "\n",
        "# data_read['ActualCost'] = encoder.fit_transform(data_read['ActualCost'])\n",
        "# data_read"
      ],
      "metadata": {
        "id": "Oh5UUBnYhg42"
      },
      "execution_count": null,
      "outputs": []
    },
    {
      "cell_type": "code",
      "source": [
        "dff = data_read.sample(21)\n",
        "dff_train = dff.iloc[:14,:].sample(10)\n",
        "dff_val = dff.iloc[14:18,:].sample(4)\n",
        "dff_test = dff.iloc[17:,:].sample(3)"
      ],
      "metadata": {
        "id": "Fx56nrLSiLqt"
      },
      "execution_count": null,
      "outputs": []
    },
    {
      "cell_type": "code",
      "source": [
        "dff_train"
      ],
      "metadata": {
        "colab": {
          "base_uri": "https://localhost:8080/",
          "height": 363
        },
        "id": "zC2bIQUmjwH2",
        "outputId": "d4a1f8bf-f16c-4094-8310-28e93dcea9d8"
      },
      "execution_count": null,
      "outputs": [
        {
          "output_type": "execute_result",
          "data": {
            "text/plain": [
              "    sNo  Effort   Vi  ActualTime  ActualCost  SizeEffort  SizeTime  SizeCost\n",
              "17   18     141  4.0          52     1000000           1         1         1\n",
              "12   13     101  3.9          32      600000           0         0         0\n",
              "6     7      97  4.2          35      600000           0         0         0\n",
              "3     4     331  4.5          86     2100000           2         2         2\n",
              "14   15      62  3.9          21      350000           0         0         0\n",
              "2     3     173  4.0          56     1000000           1         1         1\n",
              "18   19     213  4.0          80     1500000           2         2         2\n",
              "15   16     289  4.0         112     2000000           2         2         2\n",
              "8     9      84  3.9          36      500000           0         0         0\n",
              "4     5     124  4.9          32      750000           1         0         1"
            ],
            "text/html": [
              "\n",
              "  <div id=\"df-5cb3a802-bbe5-4d2a-8f12-da27df10fa0b\">\n",
              "    <div class=\"colab-df-container\">\n",
              "      <div>\n",
              "<style scoped>\n",
              "    .dataframe tbody tr th:only-of-type {\n",
              "        vertical-align: middle;\n",
              "    }\n",
              "\n",
              "    .dataframe tbody tr th {\n",
              "        vertical-align: top;\n",
              "    }\n",
              "\n",
              "    .dataframe thead th {\n",
              "        text-align: right;\n",
              "    }\n",
              "</style>\n",
              "<table border=\"1\" class=\"dataframe\">\n",
              "  <thead>\n",
              "    <tr style=\"text-align: right;\">\n",
              "      <th></th>\n",
              "      <th>sNo</th>\n",
              "      <th>Effort</th>\n",
              "      <th>Vi</th>\n",
              "      <th>ActualTime</th>\n",
              "      <th>ActualCost</th>\n",
              "      <th>SizeEffort</th>\n",
              "      <th>SizeTime</th>\n",
              "      <th>SizeCost</th>\n",
              "    </tr>\n",
              "  </thead>\n",
              "  <tbody>\n",
              "    <tr>\n",
              "      <th>17</th>\n",
              "      <td>18</td>\n",
              "      <td>141</td>\n",
              "      <td>4.0</td>\n",
              "      <td>52</td>\n",
              "      <td>1000000</td>\n",
              "      <td>1</td>\n",
              "      <td>1</td>\n",
              "      <td>1</td>\n",
              "    </tr>\n",
              "    <tr>\n",
              "      <th>12</th>\n",
              "      <td>13</td>\n",
              "      <td>101</td>\n",
              "      <td>3.9</td>\n",
              "      <td>32</td>\n",
              "      <td>600000</td>\n",
              "      <td>0</td>\n",
              "      <td>0</td>\n",
              "      <td>0</td>\n",
              "    </tr>\n",
              "    <tr>\n",
              "      <th>6</th>\n",
              "      <td>7</td>\n",
              "      <td>97</td>\n",
              "      <td>4.2</td>\n",
              "      <td>35</td>\n",
              "      <td>600000</td>\n",
              "      <td>0</td>\n",
              "      <td>0</td>\n",
              "      <td>0</td>\n",
              "    </tr>\n",
              "    <tr>\n",
              "      <th>3</th>\n",
              "      <td>4</td>\n",
              "      <td>331</td>\n",
              "      <td>4.5</td>\n",
              "      <td>86</td>\n",
              "      <td>2100000</td>\n",
              "      <td>2</td>\n",
              "      <td>2</td>\n",
              "      <td>2</td>\n",
              "    </tr>\n",
              "    <tr>\n",
              "      <th>14</th>\n",
              "      <td>15</td>\n",
              "      <td>62</td>\n",
              "      <td>3.9</td>\n",
              "      <td>21</td>\n",
              "      <td>350000</td>\n",
              "      <td>0</td>\n",
              "      <td>0</td>\n",
              "      <td>0</td>\n",
              "    </tr>\n",
              "    <tr>\n",
              "      <th>2</th>\n",
              "      <td>3</td>\n",
              "      <td>173</td>\n",
              "      <td>4.0</td>\n",
              "      <td>56</td>\n",
              "      <td>1000000</td>\n",
              "      <td>1</td>\n",
              "      <td>1</td>\n",
              "      <td>1</td>\n",
              "    </tr>\n",
              "    <tr>\n",
              "      <th>18</th>\n",
              "      <td>19</td>\n",
              "      <td>213</td>\n",
              "      <td>4.0</td>\n",
              "      <td>80</td>\n",
              "      <td>1500000</td>\n",
              "      <td>2</td>\n",
              "      <td>2</td>\n",
              "      <td>2</td>\n",
              "    </tr>\n",
              "    <tr>\n",
              "      <th>15</th>\n",
              "      <td>16</td>\n",
              "      <td>289</td>\n",
              "      <td>4.0</td>\n",
              "      <td>112</td>\n",
              "      <td>2000000</td>\n",
              "      <td>2</td>\n",
              "      <td>2</td>\n",
              "      <td>2</td>\n",
              "    </tr>\n",
              "    <tr>\n",
              "      <th>8</th>\n",
              "      <td>9</td>\n",
              "      <td>84</td>\n",
              "      <td>3.9</td>\n",
              "      <td>36</td>\n",
              "      <td>500000</td>\n",
              "      <td>0</td>\n",
              "      <td>0</td>\n",
              "      <td>0</td>\n",
              "    </tr>\n",
              "    <tr>\n",
              "      <th>4</th>\n",
              "      <td>5</td>\n",
              "      <td>124</td>\n",
              "      <td>4.9</td>\n",
              "      <td>32</td>\n",
              "      <td>750000</td>\n",
              "      <td>1</td>\n",
              "      <td>0</td>\n",
              "      <td>1</td>\n",
              "    </tr>\n",
              "  </tbody>\n",
              "</table>\n",
              "</div>\n",
              "      <button class=\"colab-df-convert\" onclick=\"convertToInteractive('df-5cb3a802-bbe5-4d2a-8f12-da27df10fa0b')\"\n",
              "              title=\"Convert this dataframe to an interactive table.\"\n",
              "              style=\"display:none;\">\n",
              "        \n",
              "  <svg xmlns=\"http://www.w3.org/2000/svg\" height=\"24px\"viewBox=\"0 0 24 24\"\n",
              "       width=\"24px\">\n",
              "    <path d=\"M0 0h24v24H0V0z\" fill=\"none\"/>\n",
              "    <path d=\"M18.56 5.44l.94 2.06.94-2.06 2.06-.94-2.06-.94-.94-2.06-.94 2.06-2.06.94zm-11 1L8.5 8.5l.94-2.06 2.06-.94-2.06-.94L8.5 2.5l-.94 2.06-2.06.94zm10 10l.94 2.06.94-2.06 2.06-.94-2.06-.94-.94-2.06-.94 2.06-2.06.94z\"/><path d=\"M17.41 7.96l-1.37-1.37c-.4-.4-.92-.59-1.43-.59-.52 0-1.04.2-1.43.59L10.3 9.45l-7.72 7.72c-.78.78-.78 2.05 0 2.83L4 21.41c.39.39.9.59 1.41.59.51 0 1.02-.2 1.41-.59l7.78-7.78 2.81-2.81c.8-.78.8-2.07 0-2.86zM5.41 20L4 18.59l7.72-7.72 1.47 1.35L5.41 20z\"/>\n",
              "  </svg>\n",
              "      </button>\n",
              "      \n",
              "  <style>\n",
              "    .colab-df-container {\n",
              "      display:flex;\n",
              "      flex-wrap:wrap;\n",
              "      gap: 12px;\n",
              "    }\n",
              "\n",
              "    .colab-df-convert {\n",
              "      background-color: #E8F0FE;\n",
              "      border: none;\n",
              "      border-radius: 50%;\n",
              "      cursor: pointer;\n",
              "      display: none;\n",
              "      fill: #1967D2;\n",
              "      height: 32px;\n",
              "      padding: 0 0 0 0;\n",
              "      width: 32px;\n",
              "    }\n",
              "\n",
              "    .colab-df-convert:hover {\n",
              "      background-color: #E2EBFA;\n",
              "      box-shadow: 0px 1px 2px rgba(60, 64, 67, 0.3), 0px 1px 3px 1px rgba(60, 64, 67, 0.15);\n",
              "      fill: #174EA6;\n",
              "    }\n",
              "\n",
              "    [theme=dark] .colab-df-convert {\n",
              "      background-color: #3B4455;\n",
              "      fill: #D2E3FC;\n",
              "    }\n",
              "\n",
              "    [theme=dark] .colab-df-convert:hover {\n",
              "      background-color: #434B5C;\n",
              "      box-shadow: 0px 1px 3px 1px rgba(0, 0, 0, 0.15);\n",
              "      filter: drop-shadow(0px 1px 2px rgba(0, 0, 0, 0.3));\n",
              "      fill: #FFFFFF;\n",
              "    }\n",
              "  </style>\n",
              "\n",
              "      <script>\n",
              "        const buttonEl =\n",
              "          document.querySelector('#df-5cb3a802-bbe5-4d2a-8f12-da27df10fa0b button.colab-df-convert');\n",
              "        buttonEl.style.display =\n",
              "          google.colab.kernel.accessAllowed ? 'block' : 'none';\n",
              "\n",
              "        async function convertToInteractive(key) {\n",
              "          const element = document.querySelector('#df-5cb3a802-bbe5-4d2a-8f12-da27df10fa0b');\n",
              "          const dataTable =\n",
              "            await google.colab.kernel.invokeFunction('convertToInteractive',\n",
              "                                                     [key], {});\n",
              "          if (!dataTable) return;\n",
              "\n",
              "          const docLinkHtml = 'Like what you see? Visit the ' +\n",
              "            '<a target=\"_blank\" href=https://colab.research.google.com/notebooks/data_table.ipynb>data table notebook</a>'\n",
              "            + ' to learn more about interactive tables.';\n",
              "          element.innerHTML = '';\n",
              "          dataTable['output_type'] = 'display_data';\n",
              "          await google.colab.output.renderOutput(dataTable, element);\n",
              "          const docLink = document.createElement('div');\n",
              "          docLink.innerHTML = docLinkHtml;\n",
              "          element.appendChild(docLink);\n",
              "        }\n",
              "      </script>\n",
              "    </div>\n",
              "  </div>\n",
              "  "
            ]
          },
          "metadata": {},
          "execution_count": 432
        }
      ]
    },
    {
      "cell_type": "code",
      "source": [
        "X_test = dff_val.iloc[:,0:8].values\n",
        "y_test = dff_val.iloc[:-1].values\n",
        "\n",
        "# len(X_test)\n",
        "# len(y_test)\n"
      ],
      "metadata": {
        "id": "_HoZwGwPj816"
      },
      "execution_count": null,
      "outputs": []
    },
    {
      "cell_type": "code",
      "source": [
        "#@title Bagging with 3 Decision Trees \n",
        "df_bag = dff_train.sample(7,replace=True) \n",
        "\n",
        "X= df_bag.iloc[:,0:8]\n",
        "Y= df_bag.iloc[:,-1]\n",
        "\n",
        "df_bag"
      ],
      "metadata": {
        "colab": {
          "base_uri": "https://localhost:8080/",
          "height": 269
        },
        "id": "oial23drkpAX",
        "outputId": "644fa47a-15fb-48e6-defe-4fb31419f7f2"
      },
      "execution_count": null,
      "outputs": [
        {
          "output_type": "execute_result",
          "data": {
            "text/plain": [
              "    sNo  Effort   Vi  ActualTime  ActualCost  SizeEffort  SizeTime  SizeCost\n",
              "4     5     124  4.9          32      750000           1         0         1\n",
              "4     5     124  4.9          32      750000           1         0         1\n",
              "12   13     101  3.9          32      600000           0         0         0\n",
              "2     3     173  4.0          56     1000000           1         1         1\n",
              "6     7      97  4.2          35      600000           0         0         0\n",
              "14   15      62  3.9          21      350000           0         0         0\n",
              "2     3     173  4.0          56     1000000           1         1         1"
            ],
            "text/html": [
              "\n",
              "  <div id=\"df-567fbb6b-277e-489a-8d0c-c075715c69d3\">\n",
              "    <div class=\"colab-df-container\">\n",
              "      <div>\n",
              "<style scoped>\n",
              "    .dataframe tbody tr th:only-of-type {\n",
              "        vertical-align: middle;\n",
              "    }\n",
              "\n",
              "    .dataframe tbody tr th {\n",
              "        vertical-align: top;\n",
              "    }\n",
              "\n",
              "    .dataframe thead th {\n",
              "        text-align: right;\n",
              "    }\n",
              "</style>\n",
              "<table border=\"1\" class=\"dataframe\">\n",
              "  <thead>\n",
              "    <tr style=\"text-align: right;\">\n",
              "      <th></th>\n",
              "      <th>sNo</th>\n",
              "      <th>Effort</th>\n",
              "      <th>Vi</th>\n",
              "      <th>ActualTime</th>\n",
              "      <th>ActualCost</th>\n",
              "      <th>SizeEffort</th>\n",
              "      <th>SizeTime</th>\n",
              "      <th>SizeCost</th>\n",
              "    </tr>\n",
              "  </thead>\n",
              "  <tbody>\n",
              "    <tr>\n",
              "      <th>4</th>\n",
              "      <td>5</td>\n",
              "      <td>124</td>\n",
              "      <td>4.9</td>\n",
              "      <td>32</td>\n",
              "      <td>750000</td>\n",
              "      <td>1</td>\n",
              "      <td>0</td>\n",
              "      <td>1</td>\n",
              "    </tr>\n",
              "    <tr>\n",
              "      <th>4</th>\n",
              "      <td>5</td>\n",
              "      <td>124</td>\n",
              "      <td>4.9</td>\n",
              "      <td>32</td>\n",
              "      <td>750000</td>\n",
              "      <td>1</td>\n",
              "      <td>0</td>\n",
              "      <td>1</td>\n",
              "    </tr>\n",
              "    <tr>\n",
              "      <th>12</th>\n",
              "      <td>13</td>\n",
              "      <td>101</td>\n",
              "      <td>3.9</td>\n",
              "      <td>32</td>\n",
              "      <td>600000</td>\n",
              "      <td>0</td>\n",
              "      <td>0</td>\n",
              "      <td>0</td>\n",
              "    </tr>\n",
              "    <tr>\n",
              "      <th>2</th>\n",
              "      <td>3</td>\n",
              "      <td>173</td>\n",
              "      <td>4.0</td>\n",
              "      <td>56</td>\n",
              "      <td>1000000</td>\n",
              "      <td>1</td>\n",
              "      <td>1</td>\n",
              "      <td>1</td>\n",
              "    </tr>\n",
              "    <tr>\n",
              "      <th>6</th>\n",
              "      <td>7</td>\n",
              "      <td>97</td>\n",
              "      <td>4.2</td>\n",
              "      <td>35</td>\n",
              "      <td>600000</td>\n",
              "      <td>0</td>\n",
              "      <td>0</td>\n",
              "      <td>0</td>\n",
              "    </tr>\n",
              "    <tr>\n",
              "      <th>14</th>\n",
              "      <td>15</td>\n",
              "      <td>62</td>\n",
              "      <td>3.9</td>\n",
              "      <td>21</td>\n",
              "      <td>350000</td>\n",
              "      <td>0</td>\n",
              "      <td>0</td>\n",
              "      <td>0</td>\n",
              "    </tr>\n",
              "    <tr>\n",
              "      <th>2</th>\n",
              "      <td>3</td>\n",
              "      <td>173</td>\n",
              "      <td>4.0</td>\n",
              "      <td>56</td>\n",
              "      <td>1000000</td>\n",
              "      <td>1</td>\n",
              "      <td>1</td>\n",
              "      <td>1</td>\n",
              "    </tr>\n",
              "  </tbody>\n",
              "</table>\n",
              "</div>\n",
              "      <button class=\"colab-df-convert\" onclick=\"convertToInteractive('df-567fbb6b-277e-489a-8d0c-c075715c69d3')\"\n",
              "              title=\"Convert this dataframe to an interactive table.\"\n",
              "              style=\"display:none;\">\n",
              "        \n",
              "  <svg xmlns=\"http://www.w3.org/2000/svg\" height=\"24px\"viewBox=\"0 0 24 24\"\n",
              "       width=\"24px\">\n",
              "    <path d=\"M0 0h24v24H0V0z\" fill=\"none\"/>\n",
              "    <path d=\"M18.56 5.44l.94 2.06.94-2.06 2.06-.94-2.06-.94-.94-2.06-.94 2.06-2.06.94zm-11 1L8.5 8.5l.94-2.06 2.06-.94-2.06-.94L8.5 2.5l-.94 2.06-2.06.94zm10 10l.94 2.06.94-2.06 2.06-.94-2.06-.94-.94-2.06-.94 2.06-2.06.94z\"/><path d=\"M17.41 7.96l-1.37-1.37c-.4-.4-.92-.59-1.43-.59-.52 0-1.04.2-1.43.59L10.3 9.45l-7.72 7.72c-.78.78-.78 2.05 0 2.83L4 21.41c.39.39.9.59 1.41.59.51 0 1.02-.2 1.41-.59l7.78-7.78 2.81-2.81c.8-.78.8-2.07 0-2.86zM5.41 20L4 18.59l7.72-7.72 1.47 1.35L5.41 20z\"/>\n",
              "  </svg>\n",
              "      </button>\n",
              "      \n",
              "  <style>\n",
              "    .colab-df-container {\n",
              "      display:flex;\n",
              "      flex-wrap:wrap;\n",
              "      gap: 12px;\n",
              "    }\n",
              "\n",
              "    .colab-df-convert {\n",
              "      background-color: #E8F0FE;\n",
              "      border: none;\n",
              "      border-radius: 50%;\n",
              "      cursor: pointer;\n",
              "      display: none;\n",
              "      fill: #1967D2;\n",
              "      height: 32px;\n",
              "      padding: 0 0 0 0;\n",
              "      width: 32px;\n",
              "    }\n",
              "\n",
              "    .colab-df-convert:hover {\n",
              "      background-color: #E2EBFA;\n",
              "      box-shadow: 0px 1px 2px rgba(60, 64, 67, 0.3), 0px 1px 3px 1px rgba(60, 64, 67, 0.15);\n",
              "      fill: #174EA6;\n",
              "    }\n",
              "\n",
              "    [theme=dark] .colab-df-convert {\n",
              "      background-color: #3B4455;\n",
              "      fill: #D2E3FC;\n",
              "    }\n",
              "\n",
              "    [theme=dark] .colab-df-convert:hover {\n",
              "      background-color: #434B5C;\n",
              "      box-shadow: 0px 1px 3px 1px rgba(0, 0, 0, 0.15);\n",
              "      filter: drop-shadow(0px 1px 2px rgba(0, 0, 0, 0.3));\n",
              "      fill: #FFFFFF;\n",
              "    }\n",
              "  </style>\n",
              "\n",
              "      <script>\n",
              "        const buttonEl =\n",
              "          document.querySelector('#df-567fbb6b-277e-489a-8d0c-c075715c69d3 button.colab-df-convert');\n",
              "        buttonEl.style.display =\n",
              "          google.colab.kernel.accessAllowed ? 'block' : 'none';\n",
              "\n",
              "        async function convertToInteractive(key) {\n",
              "          const element = document.querySelector('#df-567fbb6b-277e-489a-8d0c-c075715c69d3');\n",
              "          const dataTable =\n",
              "            await google.colab.kernel.invokeFunction('convertToInteractive',\n",
              "                                                     [key], {});\n",
              "          if (!dataTable) return;\n",
              "\n",
              "          const docLinkHtml = 'Like what you see? Visit the ' +\n",
              "            '<a target=\"_blank\" href=https://colab.research.google.com/notebooks/data_table.ipynb>data table notebook</a>'\n",
              "            + ' to learn more about interactive tables.';\n",
              "          element.innerHTML = '';\n",
              "          dataTable['output_type'] = 'display_data';\n",
              "          await google.colab.output.renderOutput(dataTable, element);\n",
              "          const docLink = document.createElement('div');\n",
              "          docLink.innerHTML = docLinkHtml;\n",
              "          element.appendChild(docLink);\n",
              "        }\n",
              "      </script>\n",
              "    </div>\n",
              "  </div>\n",
              "  "
            ]
          },
          "metadata": {},
          "execution_count": 434
        }
      ]
    },
    {
      "cell_type": "code",
      "source": [
        "X"
      ],
      "metadata": {
        "colab": {
          "base_uri": "https://localhost:8080/",
          "height": 269
        },
        "id": "BcYTZC5-y_d7",
        "outputId": "b1ac7471-2c1c-4e2c-8552-d1a8810ab208"
      },
      "execution_count": null,
      "outputs": [
        {
          "output_type": "execute_result",
          "data": {
            "text/plain": [
              "    sNo  Effort   Vi  ActualTime  ActualCost  SizeEffort  SizeTime  SizeCost\n",
              "4     5     124  4.9          32      750000           1         0         1\n",
              "4     5     124  4.9          32      750000           1         0         1\n",
              "12   13     101  3.9          32      600000           0         0         0\n",
              "2     3     173  4.0          56     1000000           1         1         1\n",
              "6     7      97  4.2          35      600000           0         0         0\n",
              "14   15      62  3.9          21      350000           0         0         0\n",
              "2     3     173  4.0          56     1000000           1         1         1"
            ],
            "text/html": [
              "\n",
              "  <div id=\"df-dd98abba-baee-411e-a6e4-db88d52c9e0a\">\n",
              "    <div class=\"colab-df-container\">\n",
              "      <div>\n",
              "<style scoped>\n",
              "    .dataframe tbody tr th:only-of-type {\n",
              "        vertical-align: middle;\n",
              "    }\n",
              "\n",
              "    .dataframe tbody tr th {\n",
              "        vertical-align: top;\n",
              "    }\n",
              "\n",
              "    .dataframe thead th {\n",
              "        text-align: right;\n",
              "    }\n",
              "</style>\n",
              "<table border=\"1\" class=\"dataframe\">\n",
              "  <thead>\n",
              "    <tr style=\"text-align: right;\">\n",
              "      <th></th>\n",
              "      <th>sNo</th>\n",
              "      <th>Effort</th>\n",
              "      <th>Vi</th>\n",
              "      <th>ActualTime</th>\n",
              "      <th>ActualCost</th>\n",
              "      <th>SizeEffort</th>\n",
              "      <th>SizeTime</th>\n",
              "      <th>SizeCost</th>\n",
              "    </tr>\n",
              "  </thead>\n",
              "  <tbody>\n",
              "    <tr>\n",
              "      <th>4</th>\n",
              "      <td>5</td>\n",
              "      <td>124</td>\n",
              "      <td>4.9</td>\n",
              "      <td>32</td>\n",
              "      <td>750000</td>\n",
              "      <td>1</td>\n",
              "      <td>0</td>\n",
              "      <td>1</td>\n",
              "    </tr>\n",
              "    <tr>\n",
              "      <th>4</th>\n",
              "      <td>5</td>\n",
              "      <td>124</td>\n",
              "      <td>4.9</td>\n",
              "      <td>32</td>\n",
              "      <td>750000</td>\n",
              "      <td>1</td>\n",
              "      <td>0</td>\n",
              "      <td>1</td>\n",
              "    </tr>\n",
              "    <tr>\n",
              "      <th>12</th>\n",
              "      <td>13</td>\n",
              "      <td>101</td>\n",
              "      <td>3.9</td>\n",
              "      <td>32</td>\n",
              "      <td>600000</td>\n",
              "      <td>0</td>\n",
              "      <td>0</td>\n",
              "      <td>0</td>\n",
              "    </tr>\n",
              "    <tr>\n",
              "      <th>2</th>\n",
              "      <td>3</td>\n",
              "      <td>173</td>\n",
              "      <td>4.0</td>\n",
              "      <td>56</td>\n",
              "      <td>1000000</td>\n",
              "      <td>1</td>\n",
              "      <td>1</td>\n",
              "      <td>1</td>\n",
              "    </tr>\n",
              "    <tr>\n",
              "      <th>6</th>\n",
              "      <td>7</td>\n",
              "      <td>97</td>\n",
              "      <td>4.2</td>\n",
              "      <td>35</td>\n",
              "      <td>600000</td>\n",
              "      <td>0</td>\n",
              "      <td>0</td>\n",
              "      <td>0</td>\n",
              "    </tr>\n",
              "    <tr>\n",
              "      <th>14</th>\n",
              "      <td>15</td>\n",
              "      <td>62</td>\n",
              "      <td>3.9</td>\n",
              "      <td>21</td>\n",
              "      <td>350000</td>\n",
              "      <td>0</td>\n",
              "      <td>0</td>\n",
              "      <td>0</td>\n",
              "    </tr>\n",
              "    <tr>\n",
              "      <th>2</th>\n",
              "      <td>3</td>\n",
              "      <td>173</td>\n",
              "      <td>4.0</td>\n",
              "      <td>56</td>\n",
              "      <td>1000000</td>\n",
              "      <td>1</td>\n",
              "      <td>1</td>\n",
              "      <td>1</td>\n",
              "    </tr>\n",
              "  </tbody>\n",
              "</table>\n",
              "</div>\n",
              "      <button class=\"colab-df-convert\" onclick=\"convertToInteractive('df-dd98abba-baee-411e-a6e4-db88d52c9e0a')\"\n",
              "              title=\"Convert this dataframe to an interactive table.\"\n",
              "              style=\"display:none;\">\n",
              "        \n",
              "  <svg xmlns=\"http://www.w3.org/2000/svg\" height=\"24px\"viewBox=\"0 0 24 24\"\n",
              "       width=\"24px\">\n",
              "    <path d=\"M0 0h24v24H0V0z\" fill=\"none\"/>\n",
              "    <path d=\"M18.56 5.44l.94 2.06.94-2.06 2.06-.94-2.06-.94-.94-2.06-.94 2.06-2.06.94zm-11 1L8.5 8.5l.94-2.06 2.06-.94-2.06-.94L8.5 2.5l-.94 2.06-2.06.94zm10 10l.94 2.06.94-2.06 2.06-.94-2.06-.94-.94-2.06-.94 2.06-2.06.94z\"/><path d=\"M17.41 7.96l-1.37-1.37c-.4-.4-.92-.59-1.43-.59-.52 0-1.04.2-1.43.59L10.3 9.45l-7.72 7.72c-.78.78-.78 2.05 0 2.83L4 21.41c.39.39.9.59 1.41.59.51 0 1.02-.2 1.41-.59l7.78-7.78 2.81-2.81c.8-.78.8-2.07 0-2.86zM5.41 20L4 18.59l7.72-7.72 1.47 1.35L5.41 20z\"/>\n",
              "  </svg>\n",
              "      </button>\n",
              "      \n",
              "  <style>\n",
              "    .colab-df-container {\n",
              "      display:flex;\n",
              "      flex-wrap:wrap;\n",
              "      gap: 12px;\n",
              "    }\n",
              "\n",
              "    .colab-df-convert {\n",
              "      background-color: #E8F0FE;\n",
              "      border: none;\n",
              "      border-radius: 50%;\n",
              "      cursor: pointer;\n",
              "      display: none;\n",
              "      fill: #1967D2;\n",
              "      height: 32px;\n",
              "      padding: 0 0 0 0;\n",
              "      width: 32px;\n",
              "    }\n",
              "\n",
              "    .colab-df-convert:hover {\n",
              "      background-color: #E2EBFA;\n",
              "      box-shadow: 0px 1px 2px rgba(60, 64, 67, 0.3), 0px 1px 3px 1px rgba(60, 64, 67, 0.15);\n",
              "      fill: #174EA6;\n",
              "    }\n",
              "\n",
              "    [theme=dark] .colab-df-convert {\n",
              "      background-color: #3B4455;\n",
              "      fill: #D2E3FC;\n",
              "    }\n",
              "\n",
              "    [theme=dark] .colab-df-convert:hover {\n",
              "      background-color: #434B5C;\n",
              "      box-shadow: 0px 1px 3px 1px rgba(0, 0, 0, 0.15);\n",
              "      filter: drop-shadow(0px 1px 2px rgba(0, 0, 0, 0.3));\n",
              "      fill: #FFFFFF;\n",
              "    }\n",
              "  </style>\n",
              "\n",
              "      <script>\n",
              "        const buttonEl =\n",
              "          document.querySelector('#df-dd98abba-baee-411e-a6e4-db88d52c9e0a button.colab-df-convert');\n",
              "        buttonEl.style.display =\n",
              "          google.colab.kernel.accessAllowed ? 'block' : 'none';\n",
              "\n",
              "        async function convertToInteractive(key) {\n",
              "          const element = document.querySelector('#df-dd98abba-baee-411e-a6e4-db88d52c9e0a');\n",
              "          const dataTable =\n",
              "            await google.colab.kernel.invokeFunction('convertToInteractive',\n",
              "                                                     [key], {});\n",
              "          if (!dataTable) return;\n",
              "\n",
              "          const docLinkHtml = 'Like what you see? Visit the ' +\n",
              "            '<a target=\"_blank\" href=https://colab.research.google.com/notebooks/data_table.ipynb>data table notebook</a>'\n",
              "            + ' to learn more about interactive tables.';\n",
              "          element.innerHTML = '';\n",
              "          dataTable['output_type'] = 'display_data';\n",
              "          await google.colab.output.renderOutput(dataTable, element);\n",
              "          const docLink = document.createElement('div');\n",
              "          docLink.innerHTML = docLinkHtml;\n",
              "          element.appendChild(docLink);\n",
              "        }\n",
              "      </script>\n",
              "    </div>\n",
              "  </div>\n",
              "  "
            ]
          },
          "metadata": {},
          "execution_count": 435
        }
      ]
    },
    {
      "cell_type": "code",
      "source": [
        "Y"
      ],
      "metadata": {
        "colab": {
          "base_uri": "https://localhost:8080/"
        },
        "id": "x51TwHX5zFdw",
        "outputId": "77646065-1315-4044-ac06-d1705bc450a2"
      },
      "execution_count": null,
      "outputs": [
        {
          "output_type": "execute_result",
          "data": {
            "text/plain": [
              "4     1\n",
              "4     1\n",
              "12    0\n",
              "2     1\n",
              "6     0\n",
              "14    0\n",
              "2     1\n",
              "Name: SizeCost, dtype: int64"
            ]
          },
          "metadata": {},
          "execution_count": 436
        }
      ]
    },
    {
      "cell_type": "code",
      "source": [
        "from sklearn.tree import DecisionTreeRegressor\n",
        "from sklearn.tree import DecisionTreeClassifier\n",
        "from sklearn.tree import plot_tree\n",
        "from mlxtend.plotting import plot_decision_regions\n",
        "from sklearn.metrics import accuracy_score "
      ],
      "metadata": {
        "id": "mjdDe75ml46b"
      },
      "execution_count": null,
      "outputs": []
    },
    {
      "cell_type": "code",
      "source": [
        "def evaluate(clf,X,Y):\n",
        "  clf.fit(X,Y)\n",
        "  plot_tree(clf)\n",
        "  plt.show()\n",
        "  # plot_decision_regions(X.values,Y.values, clf=clf , legend=2)\n",
        "  y_pred=clf.predict(X_test)\n",
        "  y_pred\n",
        "  #print(accuracy_score(y_test,y_pred))"
      ],
      "metadata": {
        "id": "n_06AXV_oawg"
      },
      "execution_count": null,
      "outputs": []
    },
    {
      "cell_type": "code",
      "source": [
        "#@title Default title text\n",
        "dt_bag1 = DecisionTreeRegressor()\n",
        "dt_bag11 = DecisionTreeClassifier()\n",
        "#"
      ],
      "metadata": {
        "id": "BlxoP7gMmuxr"
      },
      "execution_count": null,
      "outputs": []
    },
    {
      "cell_type": "markdown",
      "source": [
        "We're adding out Bag 1 to make a low bias and high variance model"
      ],
      "metadata": {
        "id": "vxwyFQWQnEcd"
      }
    },
    {
      "cell_type": "code",
      "source": [
        "# Decision tree Classifier \n",
        "\n",
        "evaluate(dt_bag11,X,Y)"
      ],
      "metadata": {
        "colab": {
          "base_uri": "https://localhost:8080/",
          "height": 454
        },
        "id": "0xXx5b46m3CM",
        "outputId": "886e6292-0974-464a-b4b2-0e81f1ed5bef"
      },
      "execution_count": null,
      "outputs": [
        {
          "output_type": "display_data",
          "data": {
            "text/plain": [
              "<Figure size 1000x600 with 1 Axes>"
            ],
            "image/png": "[encoded data removed]"
          },
          "metadata": {}
        },
        {
          "output_type": "stream",
          "name": "stderr",
          "text": [
            "/usr/local/lib/python3.9/dist-packages/sklearn/base.py:439: UserWarning: X does not have valid feature names, but DecisionTreeClassifier was fitted with feature names\n",
            "  warnings.warn(\n"
          ]
        }
      ]
    },
    {
      "cell_type": "code",
      "source": [
        "#accuracy_score(y_pred,y_test)"
      ],
      "metadata": {
        "id": "a1rdMS3F17dB"
      },
      "execution_count": null,
      "outputs": []
    },
    {
      "cell_type": "code",
      "source": [
        "evaluate(dt_bag1,X,Y)"
      ],
      "metadata": {
        "colab": {
          "base_uri": "https://localhost:8080/",
          "height": 454
        },
        "id": "s_2ybwGqpj7_",
        "outputId": "18754489-4ea5-447b-bcff-8a8d765fdbbe"
      },
      "execution_count": null,
      "outputs": [
        {
          "output_type": "display_data",
          "data": {
            "text/plain": [
              "<Figure size 1000x600 with 1 Axes>"
            ],
            "image/png": "[encoded data removed]"
          },
          "metadata": {}
        },
        {
          "output_type": "stream",
          "name": "stderr",
          "text": [
            "/usr/local/lib/python3.9/dist-packages/sklearn/base.py:439: UserWarning: X does not have valid feature names, but DecisionTreeRegressor was fitted with feature names\n",
            "  warnings.warn(\n"
          ]
        }
      ]
    },
    {
      "cell_type": "code",
      "source": [
        "#@title Bagging with 3 Decision Trees \n",
        "df_bag = dff_train.sample(7,replace=True) \n",
        "\n",
        "X= df_bag.iloc[:,0:8]\n",
        "Y= df_bag.iloc[:,-1]\n",
        "\n",
        "df_bag"
      ],
      "metadata": {
        "colab": {
          "base_uri": "https://localhost:8080/",
          "height": 269
        },
        "id": "cbSgefmQq9VA",
        "outputId": "7c61a8f2-2f44-4e5b-9bd4-c8746c074318"
      },
      "execution_count": null,
      "outputs": [
        {
          "output_type": "execute_result",
          "data": {
            "text/plain": [
              "    sNo  Effort   Vi  ActualTime  ActualCost  SizeEffort  SizeTime  SizeCost\n",
              "8     9      84  3.9          36      500000           0         0         0\n",
              "17   18     141  4.0          52     1000000           1         1         1\n",
              "2     3     173  4.0          56     1000000           1         1         1\n",
              "8     9      84  3.9          36      500000           0         0         0\n",
              "6     7      97  4.2          35      600000           0         0         0\n",
              "17   18     141  4.0          52     1000000           1         1         1\n",
              "17   18     141  4.0          52     1000000           1         1         1"
            ],
            "text/html": [
              "\n",
              "  <div id=\"df-c1218cc9-27a3-4f9d-a205-3c84576e2a9f\">\n",
              "    <div class=\"colab-df-container\">\n",
              "      <div>\n",
              "<style scoped>\n",
              "    .dataframe tbody tr th:only-of-type {\n",
              "        vertical-align: middle;\n",
              "    }\n",
              "\n",
              "    .dataframe tbody tr th {\n",
              "        vertical-align: top;\n",
              "    }\n",
              "\n",
              "    .dataframe thead th {\n",
              "        text-align: right;\n",
              "    }\n",
              "</style>\n",
              "<table border=\"1\" class=\"dataframe\">\n",
              "  <thead>\n",
              "    <tr style=\"text-align: right;\">\n",
              "      <th></th>\n",
              "      <th>sNo</th>\n",
              "      <th>Effort</th>\n",
              "      <th>Vi</th>\n",
              "      <th>ActualTime</th>\n",
              "      <th>ActualCost</th>\n",
              "      <th>SizeEffort</th>\n",
              "      <th>SizeTime</th>\n",
              "      <th>SizeCost</th>\n",
              "    </tr>\n",
              "  </thead>\n",
              "  <tbody>\n",
              "    <tr>\n",
              "      <th>8</th>\n",
              "      <td>9</td>\n",
              "      <td>84</td>\n",
              "      <td>3.9</td>\n",
              "      <td>36</td>\n",
              "      <td>500000</td>\n",
              "      <td>0</td>\n",
              "      <td>0</td>\n",
              "      <td>0</td>\n",
              "    </tr>\n",
              "    <tr>\n",
              "      <th>17</th>\n",
              "      <td>18</td>\n",
              "      <td>141</td>\n",
              "      <td>4.0</td>\n",
              "      <td>52</td>\n",
              "      <td>1000000</td>\n",
              "      <td>1</td>\n",
              "      <td>1</td>\n",
              "      <td>1</td>\n",
              "    </tr>\n",
              "    <tr>\n",
              "      <th>2</th>\n",
              "      <td>3</td>\n",
              "      <td>173</td>\n",
              "      <td>4.0</td>\n",
              "      <td>56</td>\n",
              "      <td>1000000</td>\n",
              "      <td>1</td>\n",
              "      <td>1</td>\n",
              "      <td>1</td>\n",
              "    </tr>\n",
              "    <tr>\n",
              "      <th>8</th>\n",
              "      <td>9</td>\n",
              "      <td>84</td>\n",
              "      <td>3.9</td>\n",
              "      <td>36</td>\n",
              "      <td>500000</td>\n",
              "      <td>0</td>\n",
              "      <td>0</td>\n",
              "      <td>0</td>\n",
              "    </tr>\n",
              "    <tr>\n",
              "      <th>6</th>\n",
              "      <td>7</td>\n",
              "      <td>97</td>\n",
              "      <td>4.2</td>\n",
              "      <td>35</td>\n",
              "      <td>600000</td>\n",
              "      <td>0</td>\n",
              "      <td>0</td>\n",
              "      <td>0</td>\n",
              "    </tr>\n",
              "    <tr>\n",
              "      <th>17</th>\n",
              "      <td>18</td>\n",
              "      <td>141</td>\n",
              "      <td>4.0</td>\n",
              "      <td>52</td>\n",
              "      <td>1000000</td>\n",
              "      <td>1</td>\n",
              "      <td>1</td>\n",
              "      <td>1</td>\n",
              "    </tr>\n",
              "    <tr>\n",
              "      <th>17</th>\n",
              "      <td>18</td>\n",
              "      <td>141</td>\n",
              "      <td>4.0</td>\n",
              "      <td>52</td>\n",
              "      <td>1000000</td>\n",
              "      <td>1</td>\n",
              "      <td>1</td>\n",
              "      <td>1</td>\n",
              "    </tr>\n",
              "  </tbody>\n",
              "</table>\n",
              "</div>\n",
              "      <button class=\"colab-df-convert\" onclick=\"convertToInteractive('df-c1218cc9-27a3-4f9d-a205-3c84576e2a9f')\"\n",
              "              title=\"Convert this dataframe to an interactive table.\"\n",
              "              style=\"display:none;\">\n",
              "        \n",
              "  <svg xmlns=\"http://www.w3.org/2000/svg\" height=\"24px\"viewBox=\"0 0 24 24\"\n",
              "       width=\"24px\">\n",
              "    <path d=\"M0 0h24v24H0V0z\" fill=\"none\"/>\n",
              "    <path d=\"M18.56 5.44l.94 2.06.94-2.06 2.06-.94-2.06-.94-.94-2.06-.94 2.06-2.06.94zm-11 1L8.5 8.5l.94-2.06 2.06-.94-2.06-.94L8.5 2.5l-.94 2.06-2.06.94zm10 10l.94 2.06.94-2.06 2.06-.94-2.06-.94-.94-2.06-.94 2.06-2.06.94z\"/><path d=\"M17.41 7.96l-1.37-1.37c-.4-.4-.92-.59-1.43-.59-.52 0-1.04.2-1.43.59L10.3 9.45l-7.72 7.72c-.78.78-.78 2.05 0 2.83L4 21.41c.39.39.9.59 1.41.59.51 0 1.02-.2 1.41-.59l7.78-7.78 2.81-2.81c.8-.78.8-2.07 0-2.86zM5.41 20L4 18.59l7.72-7.72 1.47 1.35L5.41 20z\"/>\n",
              "  </svg>\n",
              "      </button>\n",
              "      \n",
              "  <style>\n",
              "    .colab-df-container {\n",
              "      display:flex;\n",
              "      flex-wrap:wrap;\n",
              "      gap: 12px;\n",
              "    }\n",
              "\n",
              "    .colab-df-convert {\n",
              "      background-color: #E8F0FE;\n",
              "      border: none;\n",
              "      border-radius: 50%;\n",
              "      cursor: pointer;\n",
              "      display: none;\n",
              "      fill: #1967D2;\n",
              "      height: 32px;\n",
              "      padding: 0 0 0 0;\n",
              "      width: 32px;\n",
              "    }\n",
              "\n",
              "    .colab-df-convert:hover {\n",
              "      background-color: #E2EBFA;\n",
              "      box-shadow: 0px 1px 2px rgba(60, 64, 67, 0.3), 0px 1px 3px 1px rgba(60, 64, 67, 0.15);\n",
              "      fill: #174EA6;\n",
              "    }\n",
              "\n",
              "    [theme=dark] .colab-df-convert {\n",
              "      background-color: #3B4455;\n",
              "      fill: #D2E3FC;\n",
              "    }\n",
              "\n",
              "    [theme=dark] .colab-df-convert:hover {\n",
              "      background-color: #434B5C;\n",
              "      box-shadow: 0px 1px 3px 1px rgba(0, 0, 0, 0.15);\n",
              "      filter: drop-shadow(0px 1px 2px rgba(0, 0, 0, 0.3));\n",
              "      fill: #FFFFFF;\n",
              "    }\n",
              "  </style>\n",
              "\n",
              "      <script>\n",
              "        const buttonEl =\n",
              "          document.querySelector('#df-c1218cc9-27a3-4f9d-a205-3c84576e2a9f button.colab-df-convert');\n",
              "        buttonEl.style.display =\n",
              "          google.colab.kernel.accessAllowed ? 'block' : 'none';\n",
              "\n",
              "        async function convertToInteractive(key) {\n",
              "          const element = document.querySelector('#df-c1218cc9-27a3-4f9d-a205-3c84576e2a9f');\n",
              "          const dataTable =\n",
              "            await google.colab.kernel.invokeFunction('convertToInteractive',\n",
              "                                                     [key], {});\n",
              "          if (!dataTable) return;\n",
              "\n",
              "          const docLinkHtml = 'Like what you see? Visit the ' +\n",
              "            '<a target=\"_blank\" href=https://colab.research.google.com/notebooks/data_table.ipynb>data table notebook</a>'\n",
              "            + ' to learn more about interactive tables.';\n",
              "          element.innerHTML = '';\n",
              "          dataTable['output_type'] = 'display_data';\n",
              "          await google.colab.output.renderOutput(dataTable, element);\n",
              "          const docLink = document.createElement('div');\n",
              "          docLink.innerHTML = docLinkHtml;\n",
              "          element.appendChild(docLink);\n",
              "        }\n",
              "      </script>\n",
              "    </div>\n",
              "  </div>\n",
              "  "
            ]
          },
          "metadata": {},
          "execution_count": 443
        }
      ]
    },
    {
      "cell_type": "code",
      "source": [
        "X"
      ],
      "metadata": {
        "colab": {
          "base_uri": "https://localhost:8080/",
          "height": 269
        },
        "id": "VZG666BRrmhX",
        "outputId": "01eec3ac-a6d4-4720-aba7-bb4733fa700b"
      },
      "execution_count": null,
      "outputs": [
        {
          "output_type": "execute_result",
          "data": {
            "text/plain": [
              "    sNo  Effort   Vi  ActualTime  ActualCost  SizeEffort  SizeTime  SizeCost\n",
              "8     9      84  3.9          36      500000           0         0         0\n",
              "17   18     141  4.0          52     1000000           1         1         1\n",
              "2     3     173  4.0          56     1000000           1         1         1\n",
              "8     9      84  3.9          36      500000           0         0         0\n",
              "6     7      97  4.2          35      600000           0         0         0\n",
              "17   18     141  4.0          52     1000000           1         1         1\n",
              "17   18     141  4.0          52     1000000           1         1         1"
            ],
            "text/html": [
              "\n",
              "  <div id=\"df-eaea6fca-0dc8-47c9-b7c8-d1a3caad4b25\">\n",
              "    <div class=\"colab-df-container\">\n",
              "      <div>\n",
              "<style scoped>\n",
              "    .dataframe tbody tr th:only-of-type {\n",
              "        vertical-align: middle;\n",
              "    }\n",
              "\n",
              "    .dataframe tbody tr th {\n",
              "        vertical-align: top;\n",
              "    }\n",
              "\n",
              "    .dataframe thead th {\n",
              "        text-align: right;\n",
              "    }\n",
              "</style>\n",
              "<table border=\"1\" class=\"dataframe\">\n",
              "  <thead>\n",
              "    <tr style=\"text-align: right;\">\n",
              "      <th></th>\n",
              "      <th>sNo</th>\n",
              "      <th>Effort</th>\n",
              "      <th>Vi</th>\n",
              "      <th>ActualTime</th>\n",
              "      <th>ActualCost</th>\n",
              "      <th>SizeEffort</th>\n",
              "      <th>SizeTime</th>\n",
              "      <th>SizeCost</th>\n",
              "    </tr>\n",
              "  </thead>\n",
              "  <tbody>\n",
              "    <tr>\n",
              "      <th>8</th>\n",
              "      <td>9</td>\n",
              "      <td>84</td>\n",
              "      <td>3.9</td>\n",
              "      <td>36</td>\n",
              "      <td>500000</td>\n",
              "      <td>0</td>\n",
              "      <td>0</td>\n",
              "      <td>0</td>\n",
              "    </tr>\n",
              "    <tr>\n",
              "      <th>17</th>\n",
              "      <td>18</td>\n",
              "      <td>141</td>\n",
              "      <td>4.0</td>\n",
              "      <td>52</td>\n",
              "      <td>1000000</td>\n",
              "      <td>1</td>\n",
              "      <td>1</td>\n",
              "      <td>1</td>\n",
              "    </tr>\n",
              "    <tr>\n",
              "      <th>2</th>\n",
              "      <td>3</td>\n",
              "      <td>173</td>\n",
              "      <td>4.0</td>\n",
              "      <td>56</td>\n",
              "      <td>1000000</td>\n",
              "      <td>1</td>\n",
              "      <td>1</td>\n",
              "      <td>1</td>\n",
              "    </tr>\n",
              "    <tr>\n",
              "      <th>8</th>\n",
              "      <td>9</td>\n",
              "      <td>84</td>\n",
              "      <td>3.9</td>\n",
              "      <td>36</td>\n",
              "      <td>500000</td>\n",
              "      <td>0</td>\n",
              "      <td>0</td>\n",
              "      <td>0</td>\n",
              "    </tr>\n",
              "    <tr>\n",
              "      <th>6</th>\n",
              "      <td>7</td>\n",
              "      <td>97</td>\n",
              "      <td>4.2</td>\n",
              "      <td>35</td>\n",
              "      <td>600000</td>\n",
              "      <td>0</td>\n",
              "      <td>0</td>\n",
              "      <td>0</td>\n",
              "    </tr>\n",
              "    <tr>\n",
              "      <th>17</th>\n",
              "      <td>18</td>\n",
              "      <td>141</td>\n",
              "      <td>4.0</td>\n",
              "      <td>52</td>\n",
              "      <td>1000000</td>\n",
              "      <td>1</td>\n",
              "      <td>1</td>\n",
              "      <td>1</td>\n",
              "    </tr>\n",
              "    <tr>\n",
              "      <th>17</th>\n",
              "      <td>18</td>\n",
              "      <td>141</td>\n",
              "      <td>4.0</td>\n",
              "      <td>52</td>\n",
              "      <td>1000000</td>\n",
              "      <td>1</td>\n",
              "      <td>1</td>\n",
              "      <td>1</td>\n",
              "    </tr>\n",
              "  </tbody>\n",
              "</table>\n",
              "</div>\n",
              "      <button class=\"colab-df-convert\" onclick=\"convertToInteractive('df-eaea6fca-0dc8-47c9-b7c8-d1a3caad4b25')\"\n",
              "              title=\"Convert this dataframe to an interactive table.\"\n",
              "              style=\"display:none;\">\n",
              "        \n",
              "  <svg xmlns=\"http://www.w3.org/2000/svg\" height=\"24px\"viewBox=\"0 0 24 24\"\n",
              "       width=\"24px\">\n",
              "    <path d=\"M0 0h24v24H0V0z\" fill=\"none\"/>\n",
              "    <path d=\"M18.56 5.44l.94 2.06.94-2.06 2.06-.94-2.06-.94-.94-2.06-.94 2.06-2.06.94zm-11 1L8.5 8.5l.94-2.06 2.06-.94-2.06-.94L8.5 2.5l-.94 2.06-2.06.94zm10 10l.94 2.06.94-2.06 2.06-.94-2.06-.94-.94-2.06-.94 2.06-2.06.94z\"/><path d=\"M17.41 7.96l-1.37-1.37c-.4-.4-.92-.59-1.43-.59-.52 0-1.04.2-1.43.59L10.3 9.45l-7.72 7.72c-.78.78-.78 2.05 0 2.83L4 21.41c.39.39.9.59 1.41.59.51 0 1.02-.2 1.41-.59l7.78-7.78 2.81-2.81c.8-.78.8-2.07 0-2.86zM5.41 20L4 18.59l7.72-7.72 1.47 1.35L5.41 20z\"/>\n",
              "  </svg>\n",
              "      </button>\n",
              "      \n",
              "  <style>\n",
              "    .colab-df-container {\n",
              "      display:flex;\n",
              "      flex-wrap:wrap;\n",
              "      gap: 12px;\n",
              "    }\n",
              "\n",
              "    .colab-df-convert {\n",
              "      background-color: #E8F0FE;\n",
              "      border: none;\n",
              "      border-radius: 50%;\n",
              "      cursor: pointer;\n",
              "      display: none;\n",
              "      fill: #1967D2;\n",
              "      height: 32px;\n",
              "      padding: 0 0 0 0;\n",
              "      width: 32px;\n",
              "    }\n",
              "\n",
              "    .colab-df-convert:hover {\n",
              "      background-color: #E2EBFA;\n",
              "      box-shadow: 0px 1px 2px rgba(60, 64, 67, 0.3), 0px 1px 3px 1px rgba(60, 64, 67, 0.15);\n",
              "      fill: #174EA6;\n",
              "    }\n",
              "\n",
              "    [theme=dark] .colab-df-convert {\n",
              "      background-color: #3B4455;\n",
              "      fill: #D2E3FC;\n",
              "    }\n",
              "\n",
              "    [theme=dark] .colab-df-convert:hover {\n",
              "      background-color: #434B5C;\n",
              "      box-shadow: 0px 1px 3px 1px rgba(0, 0, 0, 0.15);\n",
              "      filter: drop-shadow(0px 1px 2px rgba(0, 0, 0, 0.3));\n",
              "      fill: #FFFFFF;\n",
              "    }\n",
              "  </style>\n",
              "\n",
              "      <script>\n",
              "        const buttonEl =\n",
              "          document.querySelector('#df-eaea6fca-0dc8-47c9-b7c8-d1a3caad4b25 button.colab-df-convert');\n",
              "        buttonEl.style.display =\n",
              "          google.colab.kernel.accessAllowed ? 'block' : 'none';\n",
              "\n",
              "        async function convertToInteractive(key) {\n",
              "          const element = document.querySelector('#df-eaea6fca-0dc8-47c9-b7c8-d1a3caad4b25');\n",
              "          const dataTable =\n",
              "            await google.colab.kernel.invokeFunction('convertToInteractive',\n",
              "                                                     [key], {});\n",
              "          if (!dataTable) return;\n",
              "\n",
              "          const docLinkHtml = 'Like what you see? Visit the ' +\n",
              "            '<a target=\"_blank\" href=https://colab.research.google.com/notebooks/data_table.ipynb>data table notebook</a>'\n",
              "            + ' to learn more about interactive tables.';\n",
              "          element.innerHTML = '';\n",
              "          dataTable['output_type'] = 'display_data';\n",
              "          await google.colab.output.renderOutput(dataTable, element);\n",
              "          const docLink = document.createElement('div');\n",
              "          docLink.innerHTML = docLinkHtml;\n",
              "          element.appendChild(docLink);\n",
              "        }\n",
              "      </script>\n",
              "    </div>\n",
              "  </div>\n",
              "  "
            ]
          },
          "metadata": {},
          "execution_count": 444
        }
      ]
    },
    {
      "cell_type": "code",
      "source": [
        "Y"
      ],
      "metadata": {
        "colab": {
          "base_uri": "https://localhost:8080/"
        },
        "id": "T9aTHmYbrsHL",
        "outputId": "2ffe950a-9b8e-4858-c561-8c67d22e3c38"
      },
      "execution_count": null,
      "outputs": [
        {
          "output_type": "execute_result",
          "data": {
            "text/plain": [
              "8     0\n",
              "17    1\n",
              "2     1\n",
              "8     0\n",
              "6     0\n",
              "17    1\n",
              "17    1\n",
              "Name: SizeCost, dtype: int64"
            ]
          },
          "metadata": {},
          "execution_count": 445
        }
      ]
    },
    {
      "cell_type": "code",
      "source": [
        "#@title Bagging with 3 Decision Trees 2nd Bag\n",
        "df_bag2 = dff_train.sample(7,replace=True) \n",
        "\n",
        "X= df_bag2.iloc[:,0:8]\n",
        "Y= df_bag2.iloc[:,-1]\n",
        "\n",
        "df_bag"
      ],
      "metadata": {
        "colab": {
          "base_uri": "https://localhost:8080/",
          "height": 269
        },
        "id": "IJV28Clot9bt",
        "outputId": "df02b145-15a5-45ff-dc17-eaedec9846fa"
      },
      "execution_count": null,
      "outputs": [
        {
          "output_type": "execute_result",
          "data": {
            "text/plain": [
              "    sNo  Effort   Vi  ActualTime  ActualCost  SizeEffort  SizeTime  SizeCost\n",
              "8     9      84  3.9          36      500000           0         0         0\n",
              "17   18     141  4.0          52     1000000           1         1         1\n",
              "2     3     173  4.0          56     1000000           1         1         1\n",
              "8     9      84  3.9          36      500000           0         0         0\n",
              "6     7      97  4.2          35      600000           0         0         0\n",
              "17   18     141  4.0          52     1000000           1         1         1\n",
              "17   18     141  4.0          52     1000000           1         1         1"
            ],
            "text/html": [
              "\n",
              "  <div id=\"df-8f318fde-955a-41b5-a3f3-14b25bc443db\">\n",
              "    <div class=\"colab-df-container\">\n",
              "      <div>\n",
              "<style scoped>\n",
              "    .dataframe tbody tr th:only-of-type {\n",
              "        vertical-align: middle;\n",
              "    }\n",
              "\n",
              "    .dataframe tbody tr th {\n",
              "        vertical-align: top;\n",
              "    }\n",
              "\n",
              "    .dataframe thead th {\n",
              "        text-align: right;\n",
              "    }\n",
              "</style>\n",
              "<table border=\"1\" class=\"dataframe\">\n",
              "  <thead>\n",
              "    <tr style=\"text-align: right;\">\n",
              "      <th></th>\n",
              "      <th>sNo</th>\n",
              "      <th>Effort</th>\n",
              "      <th>Vi</th>\n",
              "      <th>ActualTime</th>\n",
              "      <th>ActualCost</th>\n",
              "      <th>SizeEffort</th>\n",
              "      <th>SizeTime</th>\n",
              "      <th>SizeCost</th>\n",
              "    </tr>\n",
              "  </thead>\n",
              "  <tbody>\n",
              "    <tr>\n",
              "      <th>8</th>\n",
              "      <td>9</td>\n",
              "      <td>84</td>\n",
              "      <td>3.9</td>\n",
              "      <td>36</td>\n",
              "      <td>500000</td>\n",
              "      <td>0</td>\n",
              "      <td>0</td>\n",
              "      <td>0</td>\n",
              "    </tr>\n",
              "    <tr>\n",
              "      <th>17</th>\n",
              "      <td>18</td>\n",
              "      <td>141</td>\n",
              "      <td>4.0</td>\n",
              "      <td>52</td>\n",
              "      <td>1000000</td>\n",
              "      <td>1</td>\n",
              "      <td>1</td>\n",
              "      <td>1</td>\n",
              "    </tr>\n",
              "    <tr>\n",
              "      <th>2</th>\n",
              "      <td>3</td>\n",
              "      <td>173</td>\n",
              "      <td>4.0</td>\n",
              "      <td>56</td>\n",
              "      <td>1000000</td>\n",
              "      <td>1</td>\n",
              "      <td>1</td>\n",
              "      <td>1</td>\n",
              "    </tr>\n",
              "    <tr>\n",
              "      <th>8</th>\n",
              "      <td>9</td>\n",
              "      <td>84</td>\n",
              "      <td>3.9</td>\n",
              "      <td>36</td>\n",
              "      <td>500000</td>\n",
              "      <td>0</td>\n",
              "      <td>0</td>\n",
              "      <td>0</td>\n",
              "    </tr>\n",
              "    <tr>\n",
              "      <th>6</th>\n",
              "      <td>7</td>\n",
              "      <td>97</td>\n",
              "      <td>4.2</td>\n",
              "      <td>35</td>\n",
              "      <td>600000</td>\n",
              "      <td>0</td>\n",
              "      <td>0</td>\n",
              "      <td>0</td>\n",
              "    </tr>\n",
              "    <tr>\n",
              "      <th>17</th>\n",
              "      <td>18</td>\n",
              "      <td>141</td>\n",
              "      <td>4.0</td>\n",
              "      <td>52</td>\n",
              "      <td>1000000</td>\n",
              "      <td>1</td>\n",
              "      <td>1</td>\n",
              "      <td>1</td>\n",
              "    </tr>\n",
              "    <tr>\n",
              "      <th>17</th>\n",
              "      <td>18</td>\n",
              "      <td>141</td>\n",
              "      <td>4.0</td>\n",
              "      <td>52</td>\n",
              "      <td>1000000</td>\n",
              "      <td>1</td>\n",
              "      <td>1</td>\n",
              "      <td>1</td>\n",
              "    </tr>\n",
              "  </tbody>\n",
              "</table>\n",
              "</div>\n",
              "      <button class=\"colab-df-convert\" onclick=\"convertToInteractive('df-8f318fde-955a-41b5-a3f3-14b25bc443db')\"\n",
              "              title=\"Convert this dataframe to an interactive table.\"\n",
              "              style=\"display:none;\">\n",
              "        \n",
              "  <svg xmlns=\"http://www.w3.org/2000/svg\" height=\"24px\"viewBox=\"0 0 24 24\"\n",
              "       width=\"24px\">\n",
              "    <path d=\"M0 0h24v24H0V0z\" fill=\"none\"/>\n",
              "    <path d=\"M18.56 5.44l.94 2.06.94-2.06 2.06-.94-2.06-.94-.94-2.06-.94 2.06-2.06.94zm-11 1L8.5 8.5l.94-2.06 2.06-.94-2.06-.94L8.5 2.5l-.94 2.06-2.06.94zm10 10l.94 2.06.94-2.06 2.06-.94-2.06-.94-.94-2.06-.94 2.06-2.06.94z\"/><path d=\"M17.41 7.96l-1.37-1.37c-.4-.4-.92-.59-1.43-.59-.52 0-1.04.2-1.43.59L10.3 9.45l-7.72 7.72c-.78.78-.78 2.05 0 2.83L4 21.41c.39.39.9.59 1.41.59.51 0 1.02-.2 1.41-.59l7.78-7.78 2.81-2.81c.8-.78.8-2.07 0-2.86zM5.41 20L4 18.59l7.72-7.72 1.47 1.35L5.41 20z\"/>\n",
              "  </svg>\n",
              "      </button>\n",
              "      \n",
              "  <style>\n",
              "    .colab-df-container {\n",
              "      display:flex;\n",
              "      flex-wrap:wrap;\n",
              "      gap: 12px;\n",
              "    }\n",
              "\n",
              "    .colab-df-convert {\n",
              "      background-color: #E8F0FE;\n",
              "      border: none;\n",
              "      border-radius: 50%;\n",
              "      cursor: pointer;\n",
              "      display: none;\n",
              "      fill: #1967D2;\n",
              "      height: 32px;\n",
              "      padding: 0 0 0 0;\n",
              "      width: 32px;\n",
              "    }\n",
              "\n",
              "    .colab-df-convert:hover {\n",
              "      background-color: #E2EBFA;\n",
              "      box-shadow: 0px 1px 2px rgba(60, 64, 67, 0.3), 0px 1px 3px 1px rgba(60, 64, 67, 0.15);\n",
              "      fill: #174EA6;\n",
              "    }\n",
              "\n",
              "    [theme=dark] .colab-df-convert {\n",
              "      background-color: #3B4455;\n",
              "      fill: #D2E3FC;\n",
              "    }\n",
              "\n",
              "    [theme=dark] .colab-df-convert:hover {\n",
              "      background-color: #434B5C;\n",
              "      box-shadow: 0px 1px 3px 1px rgba(0, 0, 0, 0.15);\n",
              "      filter: drop-shadow(0px 1px 2px rgba(0, 0, 0, 0.3));\n",
              "      fill: #FFFFFF;\n",
              "    }\n",
              "  </style>\n",
              "\n",
              "      <script>\n",
              "        const buttonEl =\n",
              "          document.querySelector('#df-8f318fde-955a-41b5-a3f3-14b25bc443db button.colab-df-convert');\n",
              "        buttonEl.style.display =\n",
              "          google.colab.kernel.accessAllowed ? 'block' : 'none';\n",
              "\n",
              "        async function convertToInteractive(key) {\n",
              "          const element = document.querySelector('#df-8f318fde-955a-41b5-a3f3-14b25bc443db');\n",
              "          const dataTable =\n",
              "            await google.colab.kernel.invokeFunction('convertToInteractive',\n",
              "                                                     [key], {});\n",
              "          if (!dataTable) return;\n",
              "\n",
              "          const docLinkHtml = 'Like what you see? Visit the ' +\n",
              "            '<a target=\"_blank\" href=https://colab.research.google.com/notebooks/data_table.ipynb>data table notebook</a>'\n",
              "            + ' to learn more about interactive tables.';\n",
              "          element.innerHTML = '';\n",
              "          dataTable['output_type'] = 'display_data';\n",
              "          await google.colab.output.renderOutput(dataTable, element);\n",
              "          const docLink = document.createElement('div');\n",
              "          docLink.innerHTML = docLinkHtml;\n",
              "          element.appendChild(docLink);\n",
              "        }\n",
              "      </script>\n",
              "    </div>\n",
              "  </div>\n",
              "  "
            ]
          },
          "metadata": {},
          "execution_count": 446
        }
      ]
    },
    {
      "cell_type": "code",
      "source": [
        "dt_bag2 = DecisionTreeRegressor()\n",
        "evaluate(dt_bag2,X,Y)"
      ],
      "metadata": {
        "colab": {
          "base_uri": "https://localhost:8080/",
          "height": 454
        },
        "id": "dyEyItLDtDcI",
        "outputId": "cbb6f41e-d2aa-48c3-8371-802bf7a4d5f1"
      },
      "execution_count": null,
      "outputs": [
        {
          "output_type": "display_data",
          "data": {
            "text/plain": [
              "<Figure size 1000x600 with 1 Axes>"
            ],
            "image/png": "[encoded data removed]"
          },
          "metadata": {}
        },
        {
          "output_type": "stream",
          "name": "stderr",
          "text": [
            "/usr/local/lib/python3.9/dist-packages/sklearn/base.py:439: UserWarning: X does not have valid feature names, but DecisionTreeRegressor was fitted with feature names\n",
            "  warnings.warn(\n"
          ]
        }
      ]
    },
    {
      "cell_type": "code",
      "source": [
        "dt_bag22 = DecisionTreeClassifier()\n",
        "evaluate(dt_bag22,X,Y)"
      ],
      "metadata": {
        "colab": {
          "base_uri": "https://localhost:8080/",
          "height": 454
        },
        "id": "RvzAo2NWtY84",
        "outputId": "79d956fb-b366-46dd-9603-fada71503a70"
      },
      "execution_count": null,
      "outputs": [
        {
          "output_type": "display_data",
          "data": {
            "text/plain": [
              "<Figure size 1000x600 with 1 Axes>"
            ],
            "image/png": "[encoded data removed]"
          },
          "metadata": {}
        },
        {
          "output_type": "stream",
          "name": "stderr",
          "text": [
            "/usr/local/lib/python3.9/dist-packages/sklearn/base.py:439: UserWarning: X does not have valid feature names, but DecisionTreeClassifier was fitted with feature names\n",
            "  warnings.warn(\n"
          ]
        }
      ]
    },
    {
      "cell_type": "code",
      "source": [
        "#@title Bagging with 3 Decision Trees 3rd Bag\n",
        "df_bag3 = dff_train.sample(7,replace=True) \n",
        "\n",
        "X= df_bag3.iloc[:,0:8]\n",
        "Y= df_bag3.iloc[:,-1]\n",
        "\n",
        "df_bag3"
      ],
      "metadata": {
        "colab": {
          "base_uri": "https://localhost:8080/",
          "height": 269
        },
        "id": "qj-OW-dTu2-V",
        "outputId": "d97ca047-0cb8-4783-887c-5cc5009d2278"
      },
      "execution_count": null,
      "outputs": [
        {
          "output_type": "execute_result",
          "data": {
            "text/plain": [
              "    sNo  Effort   Vi  ActualTime  ActualCost  SizeEffort  SizeTime  SizeCost\n",
              "18   19     213  4.0          80     1500000           2         2         2\n",
              "6     7      97  4.2          35      600000           0         0         0\n",
              "6     7      97  4.2          35      600000           0         0         0\n",
              "3     4     331  4.5          86     2100000           2         2         2\n",
              "4     5     124  4.9          32      750000           1         0         1\n",
              "3     4     331  4.5          86     2100000           2         2         2\n",
              "18   19     213  4.0          80     1500000           2         2         2"
            ],
            "text/html": [
              "\n",
              "  <div id=\"df-cf2639cb-fc47-4ff6-9441-513396381171\">\n",
              "    <div class=\"colab-df-container\">\n",
              "      <div>\n",
              "<style scoped>\n",
              "    .dataframe tbody tr th:only-of-type {\n",
              "        vertical-align: middle;\n",
              "    }\n",
              "\n",
              "    .dataframe tbody tr th {\n",
              "        vertical-align: top;\n",
              "    }\n",
              "\n",
              "    .dataframe thead th {\n",
              "        text-align: right;\n",
              "    }\n",
              "</style>\n",
              "<table border=\"1\" class=\"dataframe\">\n",
              "  <thead>\n",
              "    <tr style=\"text-align: right;\">\n",
              "      <th></th>\n",
              "      <th>sNo</th>\n",
              "      <th>Effort</th>\n",
              "      <th>Vi</th>\n",
              "      <th>ActualTime</th>\n",
              "      <th>ActualCost</th>\n",
              "      <th>SizeEffort</th>\n",
              "      <th>SizeTime</th>\n",
              "      <th>SizeCost</th>\n",
              "    </tr>\n",
              "  </thead>\n",
              "  <tbody>\n",
              "    <tr>\n",
              "      <th>18</th>\n",
              "      <td>19</td>\n",
              "      <td>213</td>\n",
              "      <td>4.0</td>\n",
              "      <td>80</td>\n",
              "      <td>1500000</td>\n",
              "      <td>2</td>\n",
              "      <td>2</td>\n",
              "      <td>2</td>\n",
              "    </tr>\n",
              "    <tr>\n",
              "      <th>6</th>\n",
              "      <td>7</td>\n",
              "      <td>97</td>\n",
              "      <td>4.2</td>\n",
              "      <td>35</td>\n",
              "      <td>600000</td>\n",
              "      <td>0</td>\n",
              "      <td>0</td>\n",
              "      <td>0</td>\n",
              "    </tr>\n",
              "    <tr>\n",
              "      <th>6</th>\n",
              "      <td>7</td>\n",
              "      <td>97</td>\n",
              "      <td>4.2</td>\n",
              "      <td>35</td>\n",
              "      <td>600000</td>\n",
              "      <td>0</td>\n",
              "      <td>0</td>\n",
              "      <td>0</td>\n",
              "    </tr>\n",
              "    <tr>\n",
              "      <th>3</th>\n",
              "      <td>4</td>\n",
              "      <td>331</td>\n",
              "      <td>4.5</td>\n",
              "      <td>86</td>\n",
              "      <td>2100000</td>\n",
              "      <td>2</td>\n",
              "      <td>2</td>\n",
              "      <td>2</td>\n",
              "    </tr>\n",
              "    <tr>\n",
              "      <th>4</th>\n",
              "      <td>5</td>\n",
              "      <td>124</td>\n",
              "      <td>4.9</td>\n",
              "      <td>32</td>\n",
              "      <td>750000</td>\n",
              "      <td>1</td>\n",
              "      <td>0</td>\n",
              "      <td>1</td>\n",
              "    </tr>\n",
              "    <tr>\n",
              "      <th>3</th>\n",
              "      <td>4</td>\n",
              "      <td>331</td>\n",
              "      <td>4.5</td>\n",
              "      <td>86</td>\n",
              "      <td>2100000</td>\n",
              "      <td>2</td>\n",
              "      <td>2</td>\n",
              "      <td>2</td>\n",
              "    </tr>\n",
              "    <tr>\n",
              "      <th>18</th>\n",
              "      <td>19</td>\n",
              "      <td>213</td>\n",
              "      <td>4.0</td>\n",
              "      <td>80</td>\n",
              "      <td>1500000</td>\n",
              "      <td>2</td>\n",
              "      <td>2</td>\n",
              "      <td>2</td>\n",
              "    </tr>\n",
              "  </tbody>\n",
              "</table>\n",
              "</div>\n",
              "      <button class=\"colab-df-convert\" onclick=\"convertToInteractive('df-cf2639cb-fc47-4ff6-9441-513396381171')\"\n",
              "              title=\"Convert this dataframe to an interactive table.\"\n",
              "              style=\"display:none;\">\n",
              "        \n",
              "  <svg xmlns=\"http://www.w3.org/2000/svg\" height=\"24px\"viewBox=\"0 0 24 24\"\n",
              "       width=\"24px\">\n",
              "    <path d=\"M0 0h24v24H0V0z\" fill=\"none\"/>\n",
              "    <path d=\"M18.56 5.44l.94 2.06.94-2.06 2.06-.94-2.06-.94-.94-2.06-.94 2.06-2.06.94zm-11 1L8.5 8.5l.94-2.06 2.06-.94-2.06-.94L8.5 2.5l-.94 2.06-2.06.94zm10 10l.94 2.06.94-2.06 2.06-.94-2.06-.94-.94-2.06-.94 2.06-2.06.94z\"/><path d=\"M17.41 7.96l-1.37-1.37c-.4-.4-.92-.59-1.43-.59-.52 0-1.04.2-1.43.59L10.3 9.45l-7.72 7.72c-.78.78-.78 2.05 0 2.83L4 21.41c.39.39.9.59 1.41.59.51 0 1.02-.2 1.41-.59l7.78-7.78 2.81-2.81c.8-.78.8-2.07 0-2.86zM5.41 20L4 18.59l7.72-7.72 1.47 1.35L5.41 20z\"/>\n",
              "  </svg>\n",
              "      </button>\n",
              "      \n",
              "  <style>\n",
              "    .colab-df-container {\n",
              "      display:flex;\n",
              "      flex-wrap:wrap;\n",
              "      gap: 12px;\n",
              "    }\n",
              "\n",
              "    .colab-df-convert {\n",
              "      background-color: #E8F0FE;\n",
              "      border: none;\n",
              "      border-radius: 50%;\n",
              "      cursor: pointer;\n",
              "      display: none;\n",
              "      fill: #1967D2;\n",
              "      height: 32px;\n",
              "      padding: 0 0 0 0;\n",
              "      width: 32px;\n",
              "    }\n",
              "\n",
              "    .colab-df-convert:hover {\n",
              "      background-color: #E2EBFA;\n",
              "      box-shadow: 0px 1px 2px rgba(60, 64, 67, 0.3), 0px 1px 3px 1px rgba(60, 64, 67, 0.15);\n",
              "      fill: #174EA6;\n",
              "    }\n",
              "\n",
              "    [theme=dark] .colab-df-convert {\n",
              "      background-color: #3B4455;\n",
              "      fill: #D2E3FC;\n",
              "    }\n",
              "\n",
              "    [theme=dark] .colab-df-convert:hover {\n",
              "      background-color: #434B5C;\n",
              "      box-shadow: 0px 1px 3px 1px rgba(0, 0, 0, 0.15);\n",
              "      filter: drop-shadow(0px 1px 2px rgba(0, 0, 0, 0.3));\n",
              "      fill: #FFFFFF;\n",
              "    }\n",
              "  </style>\n",
              "\n",
              "      <script>\n",
              "        const buttonEl =\n",
              "          document.querySelector('#df-cf2639cb-fc47-4ff6-9441-513396381171 button.colab-df-convert');\n",
              "        buttonEl.style.display =\n",
              "          google.colab.kernel.accessAllowed ? 'block' : 'none';\n",
              "\n",
              "        async function convertToInteractive(key) {\n",
              "          const element = document.querySelector('#df-cf2639cb-fc47-4ff6-9441-513396381171');\n",
              "          const dataTable =\n",
              "            await google.colab.kernel.invokeFunction('convertToInteractive',\n",
              "                                                     [key], {});\n",
              "          if (!dataTable) return;\n",
              "\n",
              "          const docLinkHtml = 'Like what you see? Visit the ' +\n",
              "            '<a target=\"_blank\" href=https://colab.research.google.com/notebooks/data_table.ipynb>data table notebook</a>'\n",
              "            + ' to learn more about interactive tables.';\n",
              "          element.innerHTML = '';\n",
              "          dataTable['output_type'] = 'display_data';\n",
              "          await google.colab.output.renderOutput(dataTable, element);\n",
              "          const docLink = document.createElement('div');\n",
              "          docLink.innerHTML = docLinkHtml;\n",
              "          element.appendChild(docLink);\n",
              "        }\n",
              "      </script>\n",
              "    </div>\n",
              "  </div>\n",
              "  "
            ]
          },
          "metadata": {},
          "execution_count": 449
        }
      ]
    },
    {
      "cell_type": "code",
      "source": [
        "dt_bag3 = DecisionTreeClassifier()\n",
        "evaluate(dt_bag3,X,Y)"
      ],
      "metadata": {
        "colab": {
          "base_uri": "https://localhost:8080/",
          "height": 454
        },
        "id": "vUDDZqeoxeU2",
        "outputId": "f445a92c-d483-4978-989b-e4f2bb830b16"
      },
      "execution_count": null,
      "outputs": [
        {
          "output_type": "display_data",
          "data": {
            "text/plain": [
              "<Figure size 1000x600 with 1 Axes>"
            ],
            "image/png": "[encoded data removed]"
          },
          "metadata": {}
        },
        {
          "output_type": "stream",
          "name": "stderr",
          "text": [
            "/usr/local/lib/python3.9/dist-packages/sklearn/base.py:439: UserWarning: X does not have valid feature names, but DecisionTreeClassifier was fitted with feature names\n",
            "  warnings.warn(\n"
          ]
        }
      ]
    },
    {
      "cell_type": "code",
      "source": [
        "#@title Using Ensemble Technique 1st set of Algorithms\n",
        "\n",
        "# 1\n",
        "from sklearn.ensemble import BaggingRegressor\n",
        "\n"
      ],
      "metadata": {
        "id": "TE0yf9V-0AOP"
      },
      "execution_count": null,
      "outputs": []
    },
    {
      "cell_type": "code",
      "source": [
        "X_train,X_test,Y_train,Y_test = train_test_split(Cat_1,Cat_2,test_size=0.25,random_state=0)\n",
        "\n",
        "# now printing the overall sizes of our splitted result\n",
        "print(\"Train / Test Sets sizes: \", x_train.shape,x_test.shape,y_train.shape,y_test.shape )"
      ],
      "metadata": {
        "colab": {
          "base_uri": "https://localhost:8080/"
        },
        "id": "QSlz9RJL63J7",
        "outputId": "511b273f-a1b5-442b-aec3-f1d2fa0ba880"
      },
      "execution_count": null,
      "outputs": [
        {
          "output_type": "stream",
          "name": "stdout",
          "text": [
            "Train / Test Sets sizes:  (16, 6) (5, 6) (16,) (3, 8)\n"
          ]
        }
      ]
    },
    {
      "cell_type": "code",
      "source": [
        "lr = LinearRegression()\n",
        "dt = DecisionTreeRegressor()\n",
        "knn = KNeighborsRegressor()"
      ],
      "metadata": {
        "id": "Uo3dRzut7SU5"
      },
      "execution_count": null,
      "outputs": []
    },
    {
      "cell_type": "code",
      "source": [
        "lr.fit(X_train,Y_train)\n",
        "dt.fit(X_train,Y_train)\n",
        "knn.fit(X_train,Y_train)"
      ],
      "metadata": {
        "colab": {
          "base_uri": "https://localhost:8080/",
          "height": 75
        },
        "id": "Eh0jU5qiBGSg",
        "outputId": "893a1065-86f6-4bea-dee8-14f046d29b9d"
      },
      "execution_count": null,
      "outputs": [
        {
          "output_type": "execute_result",
          "data": {
            "text/plain": [
              "KNeighborsRegressor()"
            ],
            "text/html": [
              "<style>#sk-container-id-9 {color: black;background-color: white;}#sk-container-id-9 pre{padding: 0;}#sk-container-id-9 div.sk-toggleable {background-color: white;}#sk-container-id-9 label.sk-toggleable__label {cursor: pointer;display: block;width: 100%;margin-bottom: 0;padding: 0.3em;box-sizing: border-box;text-align: center;}#sk-container-id-9 label.sk-toggleable__label-arrow:before {content: \"▸\";float: left;margin-right: 0.25em;color: #696969;}#sk-container-id-9 label.sk-toggleable__label-arrow:hover:before {color: black;}#sk-container-id-9 div.sk-estimator:hover label.sk-toggleable__label-arrow:before {color: black;}#sk-container-id-9 div.sk-toggleable__content {max-height: 0;max-width: 0;overflow: hidden;text-align: left;background-color: #f0f8ff;}#sk-container-id-9 div.sk-toggleable__content pre {margin: 0.2em;color: black;border-radius: 0.25em;background-color: #f0f8ff;}#sk-container-id-9 input.sk-toggleable__control:checked~div.sk-toggleable__content {max-height: 200px;max-width: 100%;overflow: auto;}#sk-container-id-9 input.sk-toggleable__control:checked~label.sk-toggleable__label-arrow:before {content: \"▾\";}#sk-container-id-9 div.sk-estimator input.sk-toggleable__control:checked~label.sk-toggleable__label {background-color: #d4ebff;}#sk-container-id-9 div.sk-label input.sk-toggleable__control:checked~label.sk-toggleable__label {background-color: #d4ebff;}#sk-container-id-9 input.sk-hidden--visually {border: 0;clip: rect(1px 1px 1px 1px);clip: rect(1px, 1px, 1px, 1px);height: 1px;margin: -1px;overflow: hidden;padding: 0;position: absolute;width: 1px;}#sk-container-id-9 div.sk-estimator {font-family: monospace;background-color: #f0f8ff;border: 1px dotted black;border-radius: 0.25em;box-sizing: border-box;margin-bottom: 0.5em;}#sk-container-id-9 div.sk-estimator:hover {background-color: #d4ebff;}#sk-container-id-9 div.sk-parallel-item::after {content: \"\";width: 100%;border-bottom: 1px solid gray;flex-grow: 1;}#sk-container-id-9 div.sk-label:hover label.sk-toggleable__label {background-color: #d4ebff;}#sk-container-id-9 div.sk-serial::before {content: \"\";position: absolute;border-left: 1px solid gray;box-sizing: border-box;top: 0;bottom: 0;left: 50%;z-index: 0;}#sk-container-id-9 div.sk-serial {display: flex;flex-direction: column;align-items: center;background-color: white;padding-right: 0.2em;padding-left: 0.2em;position: relative;}#sk-container-id-9 div.sk-item {position: relative;z-index: 1;}#sk-container-id-9 div.sk-parallel {display: flex;align-items: stretch;justify-content: center;background-color: white;position: relative;}#sk-container-id-9 div.sk-item::before, #sk-container-id-9 div.sk-parallel-item::before {content: \"\";position: absolute;border-left: 1px solid gray;box-sizing: border-box;top: 0;bottom: 0;left: 50%;z-index: -1;}#sk-container-id-9 div.sk-parallel-item {display: flex;flex-direction: column;z-index: 1;position: relative;background-color: white;}#sk-container-id-9 div.sk-parallel-item:first-child::after {align-self: flex-end;width: 50%;}#sk-container-id-9 div.sk-parallel-item:last-child::after {align-self: flex-start;width: 50%;}#sk-container-id-9 div.sk-parallel-item:only-child::after {width: 0;}#sk-container-id-9 div.sk-dashed-wrapped {border: 1px dashed gray;margin: 0 0.4em 0.5em 0.4em;box-sizing: border-box;padding-bottom: 0.4em;background-color: white;}#sk-container-id-9 div.sk-label label {font-family: monospace;font-weight: bold;display: inline-block;line-height: 1.2em;}#sk-container-id-9 div.sk-label-container {text-align: center;}#sk-container-id-9 div.sk-container {/* jupyter's `normalize.less` sets `[hidden] { display: none; }` but bootstrap.min.css set `[hidden] { display: none !important; }` so we also need the `!important` here to be able to override the default hidden behavior on the sphinx rendered scikit-learn.org. See: https://github.com/scikit-learn/scikit-learn/issues/21755 */display: inline-block !important;position: relative;}#sk-container-id-9 div.sk-text-repr-fallback {display: none;}</style><div id=\"sk-container-id-9\" class=\"sk-top-container\"><div class=\"sk-text-repr-fallback\"><pre>KNeighborsRegressor()</pre><b>In a Jupyter environment, please rerun this cell to show the HTML representation or trust the notebook. <br />On GitHub, the HTML representation is unable to render, please try loading this page with nbviewer.org.</b></div><div class=\"sk-container\" hidden><div class=\"sk-item\"><div class=\"sk-estimator sk-toggleable\"><input class=\"sk-toggleable__control sk-hidden--visually\" id=\"sk-estimator-id-9\" type=\"checkbox\" checked><label for=\"sk-estimator-id-9\" class=\"sk-toggleable__label sk-toggleable__label-arrow\">KNeighborsRegressor</label><div class=\"sk-toggleable__content\"><pre>KNeighborsRegressor()</pre></div></div></div></div></div>"
            ]
          },
          "metadata": {},
          "execution_count": 454
        }
      ]
    },
    {
      "cell_type": "code",
      "source": [
        "y_pred1 = lr.predict(X_test)\n",
        "y_pred2 = dt.predict(X_test)\n",
        "y_pred3 = knn.predict(X_test)"
      ],
      "metadata": {
        "id": "I761XdcFBKG_"
      },
      "execution_count": null,
      "outputs": []
    },
    {
      "cell_type": "code",
      "source": [
        "print(\"R^2 score for LR\",r2_score(Y_test,y_pred1))\n",
        "print(\"R^2 score for DT\",r2_score(Y_test,y_pred2))\n",
        "print(\"R^2 score for KNN\",r2_score(Y_test,y_pred3))"
      ],
      "metadata": {
        "colab": {
          "base_uri": "https://localhost:8080/"
        },
        "id": "rgKpJQq_BOim",
        "outputId": "24fa2572-aa5f-40a1-e63c-43b3b0040f54"
      },
      "execution_count": null,
      "outputs": [
        {
          "output_type": "stream",
          "name": "stdout",
          "text": [
            "R^2 score for LR 0.8112846520107492\n",
            "R^2 score for DT 0.5847713285869434\n",
            "R^2 score for KNN 0.857833956799807\n"
          ]
        }
      ]
    },
    {
      "cell_type": "code",
      "source": [
        "from sklearn.ensemble import BaggingRegressor\n",
        "\n",
        "bag_regressor = BaggingRegressor(random_state=1)\n",
        "bag_regressor.fit(X_train, Y_train)"
      ],
      "metadata": {
        "colab": {
          "base_uri": "https://localhost:8080/",
          "height": 75
        },
        "id": "v3VIOwDGBTsh",
        "outputId": "59097bdf-1230-4552-d253-59863911270b"
      },
      "execution_count": null,
      "outputs": [
        {
          "output_type": "execute_result",
          "data": {
            "text/plain": [
              "BaggingRegressor(random_state=1)"
            ],
            "text/html": [
              "<style>#sk-container-id-10 {color: black;background-color: white;}#sk-container-id-10 pre{padding: 0;}#sk-container-id-10 div.sk-toggleable {background-color: white;}#sk-container-id-10 label.sk-toggleable__label {cursor: pointer;display: block;width: 100%;margin-bottom: 0;padding: 0.3em;box-sizing: border-box;text-align: center;}#sk-container-id-10 label.sk-toggleable__label-arrow:before {content: \"▸\";float: left;margin-right: 0.25em;color: #696969;}#sk-container-id-10 label.sk-toggleable__label-arrow:hover:before {color: black;}#sk-container-id-10 div.sk-estimator:hover label.sk-toggleable__label-arrow:before {color: black;}#sk-container-id-10 div.sk-toggleable__content {max-height: 0;max-width: 0;overflow: hidden;text-align: left;background-color: #f0f8ff;}#sk-container-id-10 div.sk-toggleable__content pre {margin: 0.2em;color: black;border-radius: 0.25em;background-color: #f0f8ff;}#sk-container-id-10 input.sk-toggleable__control:checked~div.sk-toggleable__content {max-height: 200px;max-width: 100%;overflow: auto;}#sk-container-id-10 input.sk-toggleable__control:checked~label.sk-toggleable__label-arrow:before {content: \"▾\";}#sk-container-id-10 div.sk-estimator input.sk-toggleable__control:checked~label.sk-toggleable__label {background-color: #d4ebff;}#sk-container-id-10 div.sk-label input.sk-toggleable__control:checked~label.sk-toggleable__label {background-color: #d4ebff;}#sk-container-id-10 input.sk-hidden--visually {border: 0;clip: rect(1px 1px 1px 1px);clip: rect(1px, 1px, 1px, 1px);height: 1px;margin: -1px;overflow: hidden;padding: 0;position: absolute;width: 1px;}#sk-container-id-10 div.sk-estimator {font-family: monospace;background-color: #f0f8ff;border: 1px dotted black;border-radius: 0.25em;box-sizing: border-box;margin-bottom: 0.5em;}#sk-container-id-10 div.sk-estimator:hover {background-color: #d4ebff;}#sk-container-id-10 div.sk-parallel-item::after {content: \"\";width: 100%;border-bottom: 1px solid gray;flex-grow: 1;}#sk-container-id-10 div.sk-label:hover label.sk-toggleable__label {background-color: #d4ebff;}#sk-container-id-10 div.sk-serial::before {content: \"\";position: absolute;border-left: 1px solid gray;box-sizing: border-box;top: 0;bottom: 0;left: 50%;z-index: 0;}#sk-container-id-10 div.sk-serial {display: flex;flex-direction: column;align-items: center;background-color: white;padding-right: 0.2em;padding-left: 0.2em;position: relative;}#sk-container-id-10 div.sk-item {position: relative;z-index: 1;}#sk-container-id-10 div.sk-parallel {display: flex;align-items: stretch;justify-content: center;background-color: white;position: relative;}#sk-container-id-10 div.sk-item::before, #sk-container-id-10 div.sk-parallel-item::before {content: \"\";position: absolute;border-left: 1px solid gray;box-sizing: border-box;top: 0;bottom: 0;left: 50%;z-index: -1;}#sk-container-id-10 div.sk-parallel-item {display: flex;flex-direction: column;z-index: 1;position: relative;background-color: white;}#sk-container-id-10 div.sk-parallel-item:first-child::after {align-self: flex-end;width: 50%;}#sk-container-id-10 div.sk-parallel-item:last-child::after {align-self: flex-start;width: 50%;}#sk-container-id-10 div.sk-parallel-item:only-child::after {width: 0;}#sk-container-id-10 div.sk-dashed-wrapped {border: 1px dashed gray;margin: 0 0.4em 0.5em 0.4em;box-sizing: border-box;padding-bottom: 0.4em;background-color: white;}#sk-container-id-10 div.sk-label label {font-family: monospace;font-weight: bold;display: inline-block;line-height: 1.2em;}#sk-container-id-10 div.sk-label-container {text-align: center;}#sk-container-id-10 div.sk-container {/* jupyter's `normalize.less` sets `[hidden] { display: none; }` but bootstrap.min.css set `[hidden] { display: none !important; }` so we also need the `!important` here to be able to override the default hidden behavior on the sphinx rendered scikit-learn.org. See: https://github.com/scikit-learn/scikit-learn/issues/21755 */display: inline-block !important;position: relative;}#sk-container-id-10 div.sk-text-repr-fallback {display: none;}</style><div id=\"sk-container-id-10\" class=\"sk-top-container\"><div class=\"sk-text-repr-fallback\"><pre>BaggingRegressor(random_state=1)</pre><b>In a Jupyter environment, please rerun this cell to show the HTML representation or trust the notebook. <br />On GitHub, the HTML representation is unable to render, please try loading this page with nbviewer.org.</b></div><div class=\"sk-container\" hidden><div class=\"sk-item\"><div class=\"sk-estimator sk-toggleable\"><input class=\"sk-toggleable__control sk-hidden--visually\" id=\"sk-estimator-id-10\" type=\"checkbox\" checked><label for=\"sk-estimator-id-10\" class=\"sk-toggleable__label sk-toggleable__label-arrow\">BaggingRegressor</label><div class=\"sk-toggleable__content\"><pre>BaggingRegressor(random_state=1)</pre></div></div></div></div></div>"
            ]
          },
          "metadata": {},
          "execution_count": 457
        }
      ]
    },
    {
      "cell_type": "code",
      "source": [
        "Y_preds = bag_regressor.predict(X_test)\n",
        "\n",
        "print('Training Coefficient of R^2 : %.3f'%bag_regressor.score(X_train, Y_train))\n",
        "print('Test Coefficient of R^2 : %.3f'%bag_regressor.score(X_test, Y_test))"
      ],
      "metadata": {
        "colab": {
          "base_uri": "https://localhost:8080/"
        },
        "id": "2jh69J_lBX1m",
        "outputId": "578652e7-a750-496d-d7d7-cde6f5948f5c"
      },
      "execution_count": null,
      "outputs": [
        {
          "output_type": "stream",
          "name": "stdout",
          "text": [
            "Training Coefficient of R^2 : 0.964\n",
            "Test Coefficient of R^2 : 0.446\n"
          ]
        }
      ]
    },
    {
      "cell_type": "code",
      "source": [
        "from sklearn.linear_model import Lasso"
      ],
      "metadata": {
        "id": "-HQQAY5fzlr5"
      },
      "execution_count": null,
      "outputs": []
    },
    {
      "cell_type": "code",
      "source": [
        "%%time\n",
        "\n",
        "# n_samples = data_read.data.shape[0]\n",
        "# n_features = data_read.data.shape[1]\n",
        "\n",
        "params = {'base_estimator': [None, LinearRegression(), KNeighborsRegressor()],\n",
        "          'n_estimators': [10,15,21],\n",
        "          'max_samples': [0.5,0.95],\n",
        "          'max_features': [0.5,1.0],\n",
        "          'bootstrap': [True, False],\n",
        "          'bootstrap_features': [True, False]}\n",
        "\n",
        "bagging_regressor_grid = GridSearchCV(BaggingRegressor(random_state=1, n_jobs=-1), param_grid =params, cv=2, n_jobs=-1, verbose=1)\n",
        "bagging_regressor_grid.fit(X_train, Y_train)\n",
        "\n",
        "print('Train R^2 Score : %.3f'%bagging_regressor_grid.best_estimator_.score(X_train, Y_train))\n",
        "print('Test R^2 Score : %.3f'%bagging_regressor_grid.best_estimator_.score(X_test, Y_test))\n",
        "print('Best R^2 Score Through Grid Search : %.3f'%bagging_regressor_grid.best_score_)\n",
        "print('Best Parameters : ',bagging_regressor_grid.best_params_)\n",
        "\n",
        "\n",
        "     "
      ],
      "metadata": {
        "colab": {
          "base_uri": "https://localhost:8080/"
        },
        "id": "rA_Jg0jFBbnz",
        "outputId": "6de3ff50-91fa-4f87-8627-45d438e05b10"
      },
      "execution_count": null,
      "outputs": [
        {
          "output_type": "stream",
          "name": "stdout",
          "text": [
            "Fitting 2 folds for each of 144 candidates, totalling 288 fits\n",
            "Train R^2 Score : 0.939\n",
            "Test R^2 Score : 0.536\n",
            "Best R^2 Score Through Grid Search : 0.902\n",
            "Best Parameters :  {'base_estimator': LinearRegression(), 'bootstrap': False, 'bootstrap_features': True, 'max_features': 1.0, 'max_samples': 0.5, 'n_estimators': 15}\n",
            "CPU times: user 270 ms, sys: 17.4 ms, total: 287 ms\n",
            "Wall time: 6.98 s\n"
          ]
        },
        {
          "output_type": "stream",
          "name": "stderr",
          "text": [
            "/usr/local/lib/python3.9/dist-packages/sklearn/model_selection/_search.py:952: UserWarning: One or more of the test scores are non-finite: [ 4.82650024e-01  5.31554957e-01  4.90736146e-01  7.25238563e-01\n",
            "  7.93510541e-01  8.10349813e-01  6.56687735e-01  7.13056339e-01\n",
            "  7.29654219e-01  8.64718226e-01  8.64383908e-01  8.60027626e-01\n",
            "  7.63101224e-01  7.75475131e-01  7.72844072e-01  8.88733660e-01\n",
            "  8.73898741e-01  8.55292137e-01  5.41744181e-01  4.44334518e-01\n",
            "  5.12131822e-01  7.78980650e-01  7.72966450e-01  7.75276964e-01\n",
            "  5.23389621e-01  4.88528458e-01  5.80799609e-01  7.97525021e-01\n",
            "  7.94045442e-01  8.31727534e-01  5.73005213e-01  6.85724471e-01\n",
            "  7.30160963e-01  7.62514320e-01  7.93947619e-01  8.23162277e-01\n",
            "  7.39449028e-01  7.55443610e-01  7.48170661e-01  8.75350396e-01\n",
            "  8.76107846e-01  8.68392473e-01  6.76415000e-01  6.60370736e-01\n",
            "  6.05198450e-01  8.84524361e-01  8.63312508e-01  8.60430361e-01\n",
            "  7.72491589e-01  8.23313010e-01  6.90989106e-01  7.87991740e-01\n",
            "  8.17345372e-01  8.82377256e-01  6.65208750e-01  8.03297731e-01\n",
            "  7.03018038e-01  8.31147882e-01  8.02156621e-01  8.26608233e-01\n",
            " -6.44003513e-02  2.13493046e-01  5.53512473e-01 -9.77924072e+00\n",
            " -3.11532861e+00 -1.18981914e+00  8.27733715e-01  8.10946129e-01\n",
            "  6.46183113e-01  3.33309046e-01  4.45335429e-01  3.74272462e-01\n",
            "  6.77079865e-01  3.07974809e-01  4.84533267e-01  7.79145757e-01\n",
            "  7.93652335e-01  8.79275814e-01  6.66240250e-01  9.02031050e-01\n",
            "  5.11306016e-02  8.65852489e-01  8.73124055e-01  8.43835906e-01\n",
            "  3.61992856e-01 -1.33343470e+00 -1.41973755e-01  6.38420717e-01\n",
            "  6.62486282e-01  7.58914257e-01 -2.10890420e+00 -4.84087590e+00\n",
            " -3.85116462e+00  4.46815378e-01  4.00643919e-01  4.13463514e-01\n",
            "             nan             nan             nan -4.53630132e-02\n",
            "  5.61779992e-02  5.45737320e-02             nan             nan\n",
            "             nan -1.56374922e-02 -9.90065521e-03  1.34790071e-02\n",
            "             nan             nan             nan  5.15863139e-02\n",
            "  8.98952980e-02  1.30933899e-01             nan             nan\n",
            "             nan -1.11450548e-01 -1.88848009e-01 -1.30522212e-01\n",
            "             nan             nan             nan  6.00431147e-03\n",
            " -1.31725828e-02 -1.60406063e-03             nan             nan\n",
            "             nan -7.79843136e-02 -6.05977280e-02 -3.95201700e-02\n",
            "             nan             nan             nan -4.28015367e-02\n",
            " -6.06008152e-02 -8.98608324e-02             nan             nan\n",
            "             nan -7.01715913e-02 -5.16122554e-02 -5.04057210e-02]\n",
            "  warnings.warn(\n",
            "/usr/local/lib/python3.9/dist-packages/sklearn/ensemble/_base.py:166: FutureWarning: `base_estimator` was renamed to `estimator` in version 1.2 and will be removed in 1.4.\n",
            "  warnings.warn(\n"
          ]
        }
      ]
    },
    {
      "cell_type": "code",
      "source": [
        "Y_test_pred_BAGGING= bagging_regressor_grid.predict(X_test)\n",
        "Y_train_pred_BAGGING= bagging_regressor_grid.predict(X_train)"
      ],
      "metadata": {
        "id": "wUVWX3S3BXwl"
      },
      "execution_count": null,
      "outputs": []
    },
    {
      "cell_type": "code",
      "source": [
        "Y_test_pred_BAGGING"
      ],
      "metadata": {
        "colab": {
          "base_uri": "https://localhost:8080/"
        },
        "id": "1Q354tg-Dmgg",
        "outputId": "ef00de48-12be-4de0-e2e3-ab943c515a92"
      },
      "execution_count": null,
      "outputs": [
        {
          "output_type": "execute_result",
          "data": {
            "text/plain": [
              "array([ 78.51461233,  66.53156358,  68.80060603, 242.79988803,\n",
              "        73.89727156, 168.87442962])"
            ]
          },
          "metadata": {},
          "execution_count": 462
        }
      ]
    },
    {
      "cell_type": "code",
      "source": [
        "Y_train_pred_BAGGING"
      ],
      "metadata": {
        "colab": {
          "base_uri": "https://localhost:8080/"
        },
        "id": "2B3G5BEKDy6-",
        "outputId": "2a932256-42f7-41b9-a47d-cf0dfef771a3"
      },
      "execution_count": null,
      "outputs": [
        {
          "output_type": "execute_result",
          "data": {
            "text/plain": [
              "array([ 53.14584279, 239.58674246,  98.0351982 , 133.93815758,\n",
              "       179.4563295 , 159.27996186, 336.54129219, 129.152034  ,\n",
              "       215.88932346, 258.59799198, 154.35049758, 301.45421891,\n",
              "       175.12731007, 301.96671837,  78.1740004 ])"
            ]
          },
          "metadata": {},
          "execution_count": 463
        }
      ]
    },
    {
      "cell_type": "code",
      "source": [
        "#@title Evaluation results  Ensemble Learning Bagging - With Our Hybrid Approach using GridSearchCV \n",
        "\n",
        "diff=np.absolute(Y_test-Y_test_pred_BAGGING)\n",
        "MRE=diff/Y_test\n",
        "MMRE=np.mean(MRE)\n",
        "MdMRE=np.median(MRE)\n",
        "P=MRE[MRE<.25]\n",
        "Pred=(P.size/MRE.size) * 100\n",
        "print(\"MMRE\",MMRE)\n",
        "print(\"MdMRE\",MdMRE)\n",
        "print(\"PRED 25%\",Pred)"
      ],
      "metadata": {
        "colab": {
          "base_uri": "https://localhost:8080/"
        },
        "id": "5OzmN8yWD3IV",
        "outputId": "c8a2b188-d14c-43dd-da0d-4b4e2843255b"
      },
      "execution_count": null,
      "outputs": [
        {
          "output_type": "stream",
          "name": "stdout",
          "text": [
            "MMRE 0.27230750235139356\n",
            "MdMRE 0.1957095709570957\n",
            "PRED 25% 57.14285714285714\n"
          ]
        }
      ]
    },
    {
      "cell_type": "code",
      "source": [
        "#@title Third Approach Using Ensemble Learning - Bagging with use of Bootstrapping \n",
        "\n",
        " \n"
      ],
      "metadata": {
        "id": "LMYm0ME8E5tf"
      },
      "execution_count": null,
      "outputs": []
    },
    {
      "cell_type": "code",
      "source": [
        "#@title Using Ensemble Technique Second set of Algorithms\n",
        "from sklearn.ensemble import BaggingRegressor\n",
        "from sklearn.ensemble import AdaBoostRegressor\n",
        "from sklearn.preprocessing import KBinsDiscretizer"
      ],
      "metadata": {
        "id": "5_1YtDh-Lkka"
      },
      "execution_count": null,
      "outputs": []
    },
    {
      "cell_type": "code",
      "source": [
        "X_train,X_test,Y_train,Y_test = train_test_split(Cat_1,Cat_2,test_size=0.30,random_state=0)\n",
        "\n",
        "# now printing the overall sizes of our splitted result\n",
        "print(\"Train / Test Sets sizes: \", x_train.shape,x_test.shape,y_train.shape,y_test.shape )"
      ],
      "metadata": {
        "colab": {
          "base_uri": "https://localhost:8080/"
        },
        "outputId": "3d90f063-c310-4b05-a9c6-64c41ecc2acd",
        "id": "ckzKqH0TLkkc"
      },
      "execution_count": null,
      "outputs": [
        {
          "output_type": "stream",
          "name": "stdout",
          "text": [
            "Train / Test Sets sizes:  (16, 6) (5, 6) (16,) (3, 8)\n"
          ]
        }
      ]
    },
    {
      "cell_type": "code",
      "source": [
        "rkf = RandomForestRegressor()\n",
        "dt = DecisionTreeRegressor()\n",
        "ada = AdaBoostRegressor()"
      ],
      "metadata": {
        "id": "a2cdbrxCLkkd"
      },
      "execution_count": null,
      "outputs": []
    },
    {
      "cell_type": "code",
      "source": [
        "from logging import addLevelName\n",
        "rkf.fit(X_train,Y_train)\n",
        "dt.fit(X_train,Y_train)\n",
        "ada.fit(X_train,Y_train)"
      ],
      "metadata": {
        "colab": {
          "base_uri": "https://localhost:8080/",
          "height": 75
        },
        "outputId": "ee0bae2b-f6c4-4d1f-c0b9-9fa089416950",
        "id": "aMjTLDNfLkke"
      },
      "execution_count": null,
      "outputs": [
        {
          "output_type": "execute_result",
          "data": {
            "text/plain": [
              "AdaBoostRegressor()"
            ],
            "text/html": [
              "<style>#sk-container-id-11 {color: black;background-color: white;}#sk-container-id-11 pre{padding: 0;}#sk-container-id-11 div.sk-toggleable {background-color: white;}#sk-container-id-11 label.sk-toggleable__label {cursor: pointer;display: block;width: 100%;margin-bottom: 0;padding: 0.3em;box-sizing: border-box;text-align: center;}#sk-container-id-11 label.sk-toggleable__label-arrow:before {content: \"▸\";float: left;margin-right: 0.25em;color: #696969;}#sk-container-id-11 label.sk-toggleable__label-arrow:hover:before {color: black;}#sk-container-id-11 div.sk-estimator:hover label.sk-toggleable__label-arrow:before {color: black;}#sk-container-id-11 div.sk-toggleable__content {max-height: 0;max-width: 0;overflow: hidden;text-align: left;background-color: #f0f8ff;}#sk-container-id-11 div.sk-toggleable__content pre {margin: 0.2em;color: black;border-radius: 0.25em;background-color: #f0f8ff;}#sk-container-id-11 input.sk-toggleable__control:checked~div.sk-toggleable__content {max-height: 200px;max-width: 100%;overflow: auto;}#sk-container-id-11 input.sk-toggleable__control:checked~label.sk-toggleable__label-arrow:before {content: \"▾\";}#sk-container-id-11 div.sk-estimator input.sk-toggleable__control:checked~label.sk-toggleable__label {background-color: #d4ebff;}#sk-container-id-11 div.sk-label input.sk-toggleable__control:checked~label.sk-toggleable__label {background-color: #d4ebff;}#sk-container-id-11 input.sk-hidden--visually {border: 0;clip: rect(1px 1px 1px 1px);clip: rect(1px, 1px, 1px, 1px);height: 1px;margin: -1px;overflow: hidden;padding: 0;position: absolute;width: 1px;}#sk-container-id-11 div.sk-estimator {font-family: monospace;background-color: #f0f8ff;border: 1px dotted black;border-radius: 0.25em;box-sizing: border-box;margin-bottom: 0.5em;}#sk-container-id-11 div.sk-estimator:hover {background-color: #d4ebff;}#sk-container-id-11 div.sk-parallel-item::after {content: \"\";width: 100%;border-bottom: 1px solid gray;flex-grow: 1;}#sk-container-id-11 div.sk-label:hover label.sk-toggleable__label {background-color: #d4ebff;}#sk-container-id-11 div.sk-serial::before {content: \"\";position: absolute;border-left: 1px solid gray;box-sizing: border-box;top: 0;bottom: 0;left: 50%;z-index: 0;}#sk-container-id-11 div.sk-serial {display: flex;flex-direction: column;align-items: center;background-color: white;padding-right: 0.2em;padding-left: 0.2em;position: relative;}#sk-container-id-11 div.sk-item {position: relative;z-index: 1;}#sk-container-id-11 div.sk-parallel {display: flex;align-items: stretch;justify-content: center;background-color: white;position: relative;}#sk-container-id-11 div.sk-item::before, #sk-container-id-11 div.sk-parallel-item::before {content: \"\";position: absolute;border-left: 1px solid gray;box-sizing: border-box;top: 0;bottom: 0;left: 50%;z-index: -1;}#sk-container-id-11 div.sk-parallel-item {display: flex;flex-direction: column;z-index: 1;position: relative;background-color: white;}#sk-container-id-11 div.sk-parallel-item:first-child::after {align-self: flex-end;width: 50%;}#sk-container-id-11 div.sk-parallel-item:last-child::after {align-self: flex-start;width: 50%;}#sk-container-id-11 div.sk-parallel-item:only-child::after {width: 0;}#sk-container-id-11 div.sk-dashed-wrapped {border: 1px dashed gray;margin: 0 0.4em 0.5em 0.4em;box-sizing: border-box;padding-bottom: 0.4em;background-color: white;}#sk-container-id-11 div.sk-label label {font-family: monospace;font-weight: bold;display: inline-block;line-height: 1.2em;}#sk-container-id-11 div.sk-label-container {text-align: center;}#sk-container-id-11 div.sk-container {/* jupyter's `normalize.less` sets `[hidden] { display: none; }` but bootstrap.min.css set `[hidden] { display: none !important; }` so we also need the `!important` here to be able to override the default hidden behavior on the sphinx rendered scikit-learn.org. See: https://github.com/scikit-learn/scikit-learn/issues/21755 */display: inline-block !important;position: relative;}#sk-container-id-11 div.sk-text-repr-fallback {display: none;}</style><div id=\"sk-container-id-11\" class=\"sk-top-container\"><div class=\"sk-text-repr-fallback\"><pre>AdaBoostRegressor()</pre><b>In a Jupyter environment, please rerun this cell to show the HTML representation or trust the notebook. <br />On GitHub, the HTML representation is unable to render, please try loading this page with nbviewer.org.</b></div><div class=\"sk-container\" hidden><div class=\"sk-item\"><div class=\"sk-estimator sk-toggleable\"><input class=\"sk-toggleable__control sk-hidden--visually\" id=\"sk-estimator-id-11\" type=\"checkbox\" checked><label for=\"sk-estimator-id-11\" class=\"sk-toggleable__label sk-toggleable__label-arrow\">AdaBoostRegressor</label><div class=\"sk-toggleable__content\"><pre>AdaBoostRegressor()</pre></div></div></div></div></div>"
            ]
          },
          "metadata": {},
          "execution_count": 469
        }
      ]
    },
    {
      "cell_type": "code",
      "source": [
        "y_pred1 = rkf.predict(X_test)\n",
        "y_pred2 = dt.predict(X_test)\n",
        "y_pred3 = ada.predict(X_test)"
      ],
      "metadata": {
        "id": "RYDmp13QLkkf"
      },
      "execution_count": null,
      "outputs": []
    },
    {
      "cell_type": "code",
      "source": [
        "print(\"R^2 score for RF\",r2_score(Y_test,y_pred1))\n",
        "print(\"R^2 score for DT\",r2_score(Y_test,y_pred2))\n",
        "print(\"R^2 score for ADA_B\",r2_score(Y_test,y_pred3))"
      ],
      "metadata": {
        "colab": {
          "base_uri": "https://localhost:8080/"
        },
        "outputId": "1e89bbe1-4e16-4898-d3b8-32a11b888450",
        "id": "lObeax9JLkkf"
      },
      "execution_count": null,
      "outputs": [
        {
          "output_type": "stream",
          "name": "stdout",
          "text": [
            "R^2 score for RF 0.560268279331262\n",
            "R^2 score for DT 0.7891699955614736\n",
            "R^2 score for ADA_B 0.4823198698032253\n"
          ]
        }
      ]
    },
    {
      "cell_type": "code",
      "source": [
        "from sklearn.ensemble import BaggingRegressor\n",
        "\n",
        "bag_regressor = BaggingRegressor(random_state=1)\n",
        "bag_regressor.fit(X_train, Y_train)"
      ],
      "metadata": {
        "colab": {
          "base_uri": "https://localhost:8080/",
          "height": 75
        },
        "outputId": "4b3836a9-eed7-4d28-df21-05f24a87c3dd",
        "id": "O5EyNEp0Lkkg"
      },
      "execution_count": null,
      "outputs": [
        {
          "output_type": "execute_result",
          "data": {
            "text/plain": [
              "BaggingRegressor(random_state=1)"
            ],
            "text/html": [
              "<style>#sk-container-id-12 {color: black;background-color: white;}#sk-container-id-12 pre{padding: 0;}#sk-container-id-12 div.sk-toggleable {background-color: white;}#sk-container-id-12 label.sk-toggleable__label {cursor: pointer;display: block;width: 100%;margin-bottom: 0;padding: 0.3em;box-sizing: border-box;text-align: center;}#sk-container-id-12 label.sk-toggleable__label-arrow:before {content: \"▸\";float: left;margin-right: 0.25em;color: #696969;}#sk-container-id-12 label.sk-toggleable__label-arrow:hover:before {color: black;}#sk-container-id-12 div.sk-estimator:hover label.sk-toggleable__label-arrow:before {color: black;}#sk-container-id-12 div.sk-toggleable__content {max-height: 0;max-width: 0;overflow: hidden;text-align: left;background-color: #f0f8ff;}#sk-container-id-12 div.sk-toggleable__content pre {margin: 0.2em;color: black;border-radius: 0.25em;background-color: #f0f8ff;}#sk-container-id-12 input.sk-toggleable__control:checked~div.sk-toggleable__content {max-height: 200px;max-width: 100%;overflow: auto;}#sk-container-id-12 input.sk-toggleable__control:checked~label.sk-toggleable__label-arrow:before {content: \"▾\";}#sk-container-id-12 div.sk-estimator input.sk-toggleable__control:checked~label.sk-toggleable__label {background-color: #d4ebff;}#sk-container-id-12 div.sk-label input.sk-toggleable__control:checked~label.sk-toggleable__label {background-color: #d4ebff;}#sk-container-id-12 input.sk-hidden--visually {border: 0;clip: rect(1px 1px 1px 1px);clip: rect(1px, 1px, 1px, 1px);height: 1px;margin: -1px;overflow: hidden;padding: 0;position: absolute;width: 1px;}#sk-container-id-12 div.sk-estimator {font-family: monospace;background-color: #f0f8ff;border: 1px dotted black;border-radius: 0.25em;box-sizing: border-box;margin-bottom: 0.5em;}#sk-container-id-12 div.sk-estimator:hover {background-color: #d4ebff;}#sk-container-id-12 div.sk-parallel-item::after {content: \"\";width: 100%;border-bottom: 1px solid gray;flex-grow: 1;}#sk-container-id-12 div.sk-label:hover label.sk-toggleable__label {background-color: #d4ebff;}#sk-container-id-12 div.sk-serial::before {content: \"\";position: absolute;border-left: 1px solid gray;box-sizing: border-box;top: 0;bottom: 0;left: 50%;z-index: 0;}#sk-container-id-12 div.sk-serial {display: flex;flex-direction: column;align-items: center;background-color: white;padding-right: 0.2em;padding-left: 0.2em;position: relative;}#sk-container-id-12 div.sk-item {position: relative;z-index: 1;}#sk-container-id-12 div.sk-parallel {display: flex;align-items: stretch;justify-content: center;background-color: white;position: relative;}#sk-container-id-12 div.sk-item::before, #sk-container-id-12 div.sk-parallel-item::before {content: \"\";position: absolute;border-left: 1px solid gray;box-sizing: border-box;top: 0;bottom: 0;left: 50%;z-index: -1;}#sk-container-id-12 div.sk-parallel-item {display: flex;flex-direction: column;z-index: 1;position: relative;background-color: white;}#sk-container-id-12 div.sk-parallel-item:first-child::after {align-self: flex-end;width: 50%;}#sk-container-id-12 div.sk-parallel-item:last-child::after {align-self: flex-start;width: 50%;}#sk-container-id-12 div.sk-parallel-item:only-child::after {width: 0;}#sk-container-id-12 div.sk-dashed-wrapped {border: 1px dashed gray;margin: 0 0.4em 0.5em 0.4em;box-sizing: border-box;padding-bottom: 0.4em;background-color: white;}#sk-container-id-12 div.sk-label label {font-family: monospace;font-weight: bold;display: inline-block;line-height: 1.2em;}#sk-container-id-12 div.sk-label-container {text-align: center;}#sk-container-id-12 div.sk-container {/* jupyter's `normalize.less` sets `[hidden] { display: none; }` but bootstrap.min.css set `[hidden] { display: none !important; }` so we also need the `!important` here to be able to override the default hidden behavior on the sphinx rendered scikit-learn.org. See: https://github.com/scikit-learn/scikit-learn/issues/21755 */display: inline-block !important;position: relative;}#sk-container-id-12 div.sk-text-repr-fallback {display: none;}</style><div id=\"sk-container-id-12\" class=\"sk-top-container\"><div class=\"sk-text-repr-fallback\"><pre>BaggingRegressor(random_state=1)</pre><b>In a Jupyter environment, please rerun this cell to show the HTML representation or trust the notebook. <br />On GitHub, the HTML representation is unable to render, please try loading this page with nbviewer.org.</b></div><div class=\"sk-container\" hidden><div class=\"sk-item\"><div class=\"sk-estimator sk-toggleable\"><input class=\"sk-toggleable__control sk-hidden--visually\" id=\"sk-estimator-id-12\" type=\"checkbox\" checked><label for=\"sk-estimator-id-12\" class=\"sk-toggleable__label sk-toggleable__label-arrow\">BaggingRegressor</label><div class=\"sk-toggleable__content\"><pre>BaggingRegressor(random_state=1)</pre></div></div></div></div></div>"
            ]
          },
          "metadata": {},
          "execution_count": 472
        }
      ]
    },
    {
      "cell_type": "code",
      "source": [
        "Y_preds = bag_regressor.predict(X_test)\n",
        "\n",
        "print('Training Coefficient of R^2 : %.3f'%bag_regressor.score(X_train, Y_train))\n",
        "print('Test Coefficient of R^2 : %.3f'%bag_regressor.score(X_test, Y_test))"
      ],
      "metadata": {
        "colab": {
          "base_uri": "https://localhost:8080/"
        },
        "outputId": "0837dac4-74c7-48f9-ca25-64a3caef502d",
        "id": "0sTc1jrtLkkh"
      },
      "execution_count": null,
      "outputs": [
        {
          "output_type": "stream",
          "name": "stdout",
          "text": [
            "Training Coefficient of R^2 : 0.952\n",
            "Test Coefficient of R^2 : 0.145\n"
          ]
        }
      ]
    },
    {
      "cell_type": "code",
      "source": [
        "%%time\n",
        "\n",
        "# n_samples = data_read.data.shape[0]\n",
        "# n_features = data_read.data.shape[1]\n",
        "\n",
        "params = {'base_estimator': [None, LinearRegression(), KNeighborsRegressor()],\n",
        "          'n_estimators': [10,14,21],\n",
        "          'max_samples': [0.5,1.0],\n",
        "          'max_features': [0.5,1.0],\n",
        "          'bootstrap': [True, False],\n",
        "          'bootstrap_features': [True, False]}\n",
        "\n",
        "bagging_regressor_grid = GridSearchCV(BaggingRegressor(random_state=1, n_jobs=-1), param_grid =params, cv=3, n_jobs=-1, verbose=1)\n",
        "bagging_regressor_grid.fit(X_train, Y_train)\n",
        "\n",
        "print('Train R^2 Score : %.3f'%bagging_regressor_grid.best_estimator_.score(X_train, Y_train))\n",
        "print('Test R^2 Score : %.3f'%bagging_regressor_grid.best_estimator_.score(X_test, Y_test))\n",
        "print('Best R^2 Score Through Grid Search : %.3f'%bagging_regressor_grid.best_score_)\n",
        "print('Best Parameters : ',bagging_regressor_grid.best_params_)\n",
        "\n",
        "\n",
        "     "
      ],
      "metadata": {
        "colab": {
          "base_uri": "https://localhost:8080/"
        },
        "outputId": "6589e943-4ea1-4a26-c238-06b5aa5e5b62",
        "id": "XisQmroILkki"
      },
      "execution_count": null,
      "outputs": [
        {
          "output_type": "stream",
          "name": "stdout",
          "text": [
            "Fitting 3 folds for each of 144 candidates, totalling 432 fits\n",
            "Train R^2 Score : 0.946\n",
            "Test R^2 Score : 0.859\n",
            "Best R^2 Score Through Grid Search : 0.886\n",
            "Best Parameters :  {'base_estimator': LinearRegression(), 'bootstrap': True, 'bootstrap_features': False, 'max_features': 0.5, 'max_samples': 1.0, 'n_estimators': 14}\n",
            "CPU times: user 379 ms, sys: 12.7 ms, total: 391 ms\n",
            "Wall time: 9.21 s\n"
          ]
        },
        {
          "output_type": "stream",
          "name": "stderr",
          "text": [
            "/usr/local/lib/python3.9/dist-packages/sklearn/model_selection/_search.py:952: UserWarning: One or more of the test scores are non-finite: [ 4.90947201e-01  4.14861757e-01  4.29552528e-01  5.22925277e-01\n",
            "  4.69017384e-01  5.65669174e-01  7.10830461e-01  6.83314711e-01\n",
            "  6.51229433e-01  7.79823420e-01  7.60767170e-01  7.46761721e-01\n",
            "  6.35347228e-01  6.40480174e-01  5.50237804e-01  7.72699844e-01\n",
            "  7.29931635e-01  7.18013303e-01  6.24839767e-01  4.88906973e-01\n",
            "  4.85779460e-01  6.54063897e-01  6.52862485e-01  6.35291631e-01\n",
            "  2.93994768e-01  3.68875569e-01  5.21948168e-01  4.72092176e-01\n",
            "  4.53932694e-01  5.79312706e-01  5.66739733e-01  6.01940500e-01\n",
            "  5.99276883e-01  6.32501726e-01  6.48470527e-01  6.69309640e-01\n",
            "  6.16198719e-01  6.49306663e-01  6.34849094e-01  7.81776240e-01\n",
            "  7.73185126e-01  7.59892203e-01  2.79301300e-01  2.52265563e-01\n",
            "  4.71855122e-01  4.71393199e-01  4.22363901e-01  4.16389452e-01\n",
            " -3.48768040e-01 -1.77684365e-01 -3.96363136e-02  7.09836737e-01\n",
            "  6.27782293e-01  6.37863918e-01 -3.09968367e+23 -1.58147126e+23\n",
            " -7.02876117e+22  7.19107931e-01  8.22498116e-01  8.31183876e-01\n",
            "  7.50236802e-01 -5.12931469e-01  1.82811839e-01  8.79395214e-01\n",
            "  8.86010580e-01  8.55890551e-01 -4.49199907e-01  2.82880502e-01\n",
            "  5.25575171e-01  6.07821046e-01  5.42785908e-01  5.71808252e-01\n",
            "  3.41837139e-01  4.66315007e-01  6.00338080e-01  5.81712191e-01\n",
            "  5.67782005e-01  7.03673293e-01  6.56970039e-01  8.47304107e-01\n",
            "  6.67299634e-01  6.75790327e-01  6.74545726e-01  6.78666854e-01\n",
            "  1.53113274e-01 -8.17098865e-02  3.73586399e-01  7.18284185e-01\n",
            "  7.53678008e-01  7.84830235e-01  1.09539723e-01  3.35414733e-01\n",
            "  5.88487533e-01 -3.42892827e-01 -3.42892827e-01 -3.42892827e-01\n",
            "             nan             nan             nan  3.77138142e-01\n",
            "  3.04064275e-01  2.91180558e-01             nan             nan\n",
            "             nan  5.52815259e-01  5.44295796e-01  4.75503990e-01\n",
            "             nan             nan             nan  5.06659231e-01\n",
            "  5.03427971e-01  4.69878059e-01             nan             nan\n",
            "             nan  5.07196898e-01  4.65913282e-01  4.38985478e-01\n",
            "             nan             nan             nan  4.04341046e-01\n",
            "  3.90645775e-01  4.64910976e-01             nan             nan\n",
            "             nan  5.66578302e-01  5.64513701e-01  5.66968550e-01\n",
            "             nan             nan             nan  5.51191202e-01\n",
            "  5.54709338e-01  5.60388831e-01             nan             nan\n",
            "             nan  5.41919137e-01  5.41919137e-01  5.41919137e-01]\n",
            "  warnings.warn(\n",
            "/usr/local/lib/python3.9/dist-packages/sklearn/ensemble/_base.py:166: FutureWarning: `base_estimator` was renamed to `estimator` in version 1.2 and will be removed in 1.4.\n",
            "  warnings.warn(\n"
          ]
        }
      ]
    },
    {
      "cell_type": "code",
      "source": [
        "Y_test_pred_BAGGING= bagging_regressor_grid.predict(X_test)\n",
        "Y_train_pred_BAGGING= bagging_regressor_grid.predict(X_train)"
      ],
      "metadata": {
        "id": "HfAN8i_jLkkj"
      },
      "execution_count": null,
      "outputs": []
    },
    {
      "cell_type": "code",
      "source": [
        "Y_test_pred_BAGGING"
      ],
      "metadata": {
        "colab": {
          "base_uri": "https://localhost:8080/"
        },
        "outputId": "591717fa-c6be-4f60-a60d-a4abea12c60b",
        "id": "9nJEQ-vWLkkk"
      },
      "execution_count": null,
      "outputs": [
        {
          "output_type": "execute_result",
          "data": {
            "text/plain": [
              "array([ 84.37542543,  72.84541696,  84.93393227, 240.03877723,\n",
              "        95.4072142 , 142.73251342,  63.63774583])"
            ]
          },
          "metadata": {},
          "execution_count": 476
        }
      ]
    },
    {
      "cell_type": "code",
      "source": [
        "Y_train_pred_BAGGING"
      ],
      "metadata": {
        "colab": {
          "base_uri": "https://localhost:8080/"
        },
        "outputId": "72717b29-811f-4b5e-f2ad-559490841f8d",
        "id": "I7bBIO6JLkkl"
      },
      "execution_count": null,
      "outputs": [
        {
          "output_type": "execute_result",
          "data": {
            "text/plain": [
              "array([229.43318106,  96.25606837, 135.94283181, 137.26981161,\n",
              "       156.48459414, 374.68523677, 130.55568813, 203.42483911,\n",
              "       258.24293125, 154.18948288, 288.67836269, 177.91410673,\n",
              "       288.23077902,  90.16765573])"
            ]
          },
          "metadata": {},
          "execution_count": 477
        }
      ]
    },
    {
      "cell_type": "code",
      "source": [
        "#@title Evaluation results  Ensemble Learning Bagging - With Our Hybrid Approach using GridSearchCV \n",
        "\n",
        "diff=np.absolute(Y_test-Y_test_pred_BAGGING)\n",
        "MRE=diff/Y_test\n",
        "MMRE=np.mean(MRE)\n",
        "MdMRE=np.median(MRE)\n",
        "P=MRE[MRE<.25]\n",
        "Pred=(P.size/MRE.size) * 100\n",
        "print(\"MMRE\",MMRE)\n",
        "print(\"MdMRE\",MdMRE)\n",
        "print(\"PRED 25%\",Pred)"
      ],
      "metadata": {
        "colab": {
          "base_uri": "https://localhost:8080/"
        },
        "outputId": "6e7c0386-e9f6-4772-cd76-49982af96555",
        "id": "AeaqnqwTLkkm"
      },
      "execution_count": null,
      "outputs": [
        {
          "output_type": "stream",
          "name": "stdout",
          "text": [
            "MMRE 0.07702414097648938\n",
            "MdMRE 0.06666008497111141\n",
            "PRED 25% 100.0\n"
          ]
        }
      ]
    },
    {
      "cell_type": "code",
      "source": [
        "#@title Our GS_CV ENSEMBLE LI KNN"
      ],
      "metadata": {
        "id": "NWbNPEcFTKoF"
      },
      "execution_count": null,
      "outputs": []
    },
    {
      "cell_type": "code",
      "source": [
        "%%time\n",
        "\n",
        "# n_samples = data_read.data.shape[0]\n",
        "# n_features = data_read.data.shape[1]\n",
        "\n",
        "params = {'base_estimator': [None, LinearRegression(), KNeighborsRegressor()],\n",
        "          'n_estimators': [10,15,21],\n",
        "          'max_samples': [0.5,1.0],\n",
        "          'max_features': [0.5,1.0],\n",
        "          'bootstrap': [True, False],\n",
        "          'bootstrap_features': [True, False]}\n",
        "\n",
        "bagging_regressor_grid = GridSearchCV(BaggingRegressor(random_state=1, n_jobs=-1), param_grid =params, cv=3, n_jobs=-1, verbose=1)\n",
        "bagging_regressor_grid.fit(X_train, Y_train)\n",
        "\n",
        "print('Train R^2 Score : %.3f'%bagging_regressor_grid.best_estimator_.score(X_train, Y_train))\n",
        "print('Test R^2 Score : %.3f'%bagging_regressor_grid.best_estimator_.score(X_test, Y_test))\n",
        "print('Best R^2 Score Through Grid Search : %.3f'%bagging_regressor_grid.best_score_)\n",
        "print('Best Parameters : ',bagging_regressor_grid.best_params_)\n",
        "\n",
        "\n",
        "     "
      ],
      "metadata": {
        "colab": {
          "base_uri": "https://localhost:8080/"
        },
        "outputId": "5d1bce32-36a4-419c-8c5a-70b53c238408",
        "id": "o6RrBZYmTLby"
      },
      "execution_count": null,
      "outputs": [
        {
          "output_type": "stream",
          "name": "stdout",
          "text": [
            "Fitting 3 folds for each of 144 candidates, totalling 432 fits\n",
            "Train R^2 Score : 0.944\n",
            "Test R^2 Score : 0.837\n",
            "Best R^2 Score Through Grid Search : 0.879\n",
            "Best Parameters :  {'base_estimator': LinearRegression(), 'bootstrap': True, 'bootstrap_features': False, 'max_features': 0.5, 'max_samples': 1.0, 'n_estimators': 10}\n",
            "CPU times: user 382 ms, sys: 21.5 ms, total: 404 ms\n",
            "Wall time: 10.1 s\n"
          ]
        },
        {
          "output_type": "stream",
          "name": "stderr",
          "text": [
            "/usr/local/lib/python3.9/dist-packages/sklearn/model_selection/_search.py:952: UserWarning: One or more of the test scores are non-finite: [ 4.90947201e-01  3.83547416e-01  4.29552528e-01  5.22925277e-01\n",
            "  4.65452945e-01  5.65669174e-01  7.10830461e-01  6.51617827e-01\n",
            "  6.51229433e-01  7.79823420e-01  7.65405457e-01  7.46761721e-01\n",
            "  6.35347228e-01  6.31435937e-01  5.50237804e-01  7.72699844e-01\n",
            "  7.44583200e-01  7.18013303e-01  6.24839767e-01  4.29440918e-01\n",
            "  4.85779460e-01  6.54063897e-01  6.52366075e-01  6.35291631e-01\n",
            "  2.93994768e-01  4.52310616e-01  5.21948168e-01  4.72092176e-01\n",
            "  4.58312148e-01  5.79312706e-01  5.66739733e-01  6.00903331e-01\n",
            "  5.99276883e-01  6.32501726e-01  6.39445332e-01  6.69309640e-01\n",
            "  6.16198719e-01  6.59066427e-01  6.34849094e-01  7.81776240e-01\n",
            "  7.84695357e-01  7.59892203e-01  2.79301300e-01  3.31262544e-01\n",
            "  4.71855122e-01  4.71393199e-01  4.26006515e-01  4.16389452e-01\n",
            " -3.48768040e-01 -9.25581652e-01 -3.96363136e-02  7.09836737e-01\n",
            "  5.01515590e-01  6.37863918e-01 -3.09968367e+23 -1.37763719e+23\n",
            " -7.02876117e+22  7.19107931e-01  8.22268581e-01  8.31183876e-01\n",
            "  7.50236802e-01 -3.37986400e-01  1.82811839e-01  8.79395214e-01\n",
            "  8.74188305e-01  8.55890551e-01 -4.49199907e-01  3.91796757e-01\n",
            "  5.25575171e-01  6.07821046e-01  5.27670018e-01  5.71808252e-01\n",
            "  3.41837139e-01  5.17918866e-01  6.00338080e-01  5.81712191e-01\n",
            "  5.77074118e-01  7.03673293e-01  6.56970039e-01  5.89057159e-01\n",
            "  6.67299634e-01  6.75790327e-01  7.00711925e-01  6.78666854e-01\n",
            "  1.53113274e-01  8.46440137e-03  3.73586399e-01  7.18284185e-01\n",
            "  7.44553743e-01  7.84830235e-01  1.09539723e-01  1.80490956e-01\n",
            "  5.88487533e-01 -3.42892827e-01 -3.42892827e-01 -3.42892827e-01\n",
            "             nan             nan             nan  3.77138142e-01\n",
            "  2.28305293e-01  2.91180558e-01             nan             nan\n",
            "             nan  5.52815259e-01  5.21686948e-01  4.75503990e-01\n",
            "             nan             nan             nan  5.06659231e-01\n",
            "  4.78769470e-01  4.69878059e-01             nan             nan\n",
            "             nan  5.07196898e-01  4.35564799e-01  4.38985478e-01\n",
            "             nan             nan             nan  4.04341046e-01\n",
            "  4.03932077e-01  4.64910976e-01             nan             nan\n",
            "             nan  5.66578302e-01  5.65756301e-01  5.66968550e-01\n",
            "             nan             nan             nan  5.51191202e-01\n",
            "  5.53928516e-01  5.60388831e-01             nan             nan\n",
            "             nan  5.41919137e-01  5.41919137e-01  5.41919137e-01]\n",
            "  warnings.warn(\n",
            "/usr/local/lib/python3.9/dist-packages/sklearn/ensemble/_base.py:166: FutureWarning: `base_estimator` was renamed to `estimator` in version 1.2 and will be removed in 1.4.\n",
            "  warnings.warn(\n"
          ]
        }
      ]
    },
    {
      "cell_type": "code",
      "source": [
        "%%time\n",
        "\n",
        "# n_samples = data_read.data.shape[0]\n",
        "# n_features = data_read.data.shape[1]\n",
        "\n",
        "params = {'base_estimator': [None, LinearRegression(), KNeighborsRegressor()],\n",
        "          'n_estimators': [10,15,21],\n",
        "          'max_samples': [0.5,1.0],\n",
        "          'max_features': [0.5,1.0],\n",
        "          'bootstrap': [True, False],\n",
        "          'bootstrap_features': [True, False]}\n",
        "\n",
        "bagging_regressor_grid = GridSearchCV(BaggingRegressor(random_state=1, n_jobs=-1), param_grid =params, cv=3, n_jobs=-1, verbose=1)\n",
        "bagging_regressor_grid.fit(X_train, Y_train)\n",
        "\n",
        "print('Train R^2 Score : %.3f'%bagging_regressor_grid.best_estimator_.score(X_train, Y_train))\n",
        "print('Test R^2 Score : %.3f'%bagging_regressor_grid.best_estimator_.score(X_test, Y_test))\n",
        "print('Best R^2 Score Through Grid Search : %.3f'%bagging_regressor_grid.best_score_)\n",
        "print('Best Parameters : ',bagging_regressor_grid.best_params_)\n",
        "\n",
        "\n",
        "     "
      ],
      "metadata": {
        "colab": {
          "base_uri": "https://localhost:8080/"
        },
        "outputId": "b74ac224-65af-4a41-afdd-3a1e29f4a39c",
        "id": "NVCEXAWqTjlq"
      },
      "execution_count": null,
      "outputs": [
        {
          "output_type": "stream",
          "name": "stdout",
          "text": [
            "Fitting 3 folds for each of 144 candidates, totalling 432 fits\n",
            "Train R^2 Score : 0.944\n",
            "Test R^2 Score : 0.837\n",
            "Best R^2 Score Through Grid Search : 0.879\n",
            "Best Parameters :  {'base_estimator': LinearRegression(), 'bootstrap': True, 'bootstrap_features': False, 'max_features': 0.5, 'max_samples': 1.0, 'n_estimators': 10}\n",
            "CPU times: user 382 ms, sys: 19.5 ms, total: 401 ms\n",
            "Wall time: 10 s\n"
          ]
        },
        {
          "output_type": "stream",
          "name": "stderr",
          "text": [
            "/usr/local/lib/python3.9/dist-packages/sklearn/model_selection/_search.py:952: UserWarning: One or more of the test scores are non-finite: [ 4.90947201e-01  3.83547416e-01  4.29552528e-01  5.22925277e-01\n",
            "  4.65452945e-01  5.65669174e-01  7.10830461e-01  6.51617827e-01\n",
            "  6.51229433e-01  7.79823420e-01  7.65405457e-01  7.46761721e-01\n",
            "  6.35347228e-01  6.31435937e-01  5.50237804e-01  7.72699844e-01\n",
            "  7.44583200e-01  7.18013303e-01  6.24839767e-01  4.29440918e-01\n",
            "  4.85779460e-01  6.54063897e-01  6.52366075e-01  6.35291631e-01\n",
            "  2.93994768e-01  4.52310616e-01  5.21948168e-01  4.72092176e-01\n",
            "  4.58312148e-01  5.79312706e-01  5.66739733e-01  6.00903331e-01\n",
            "  5.99276883e-01  6.32501726e-01  6.39445332e-01  6.69309640e-01\n",
            "  6.16198719e-01  6.59066427e-01  6.34849094e-01  7.81776240e-01\n",
            "  7.84695357e-01  7.59892203e-01  2.79301300e-01  3.31262544e-01\n",
            "  4.71855122e-01  4.71393199e-01  4.26006515e-01  4.16389452e-01\n",
            " -3.48768040e-01 -9.25581652e-01 -3.96363136e-02  7.09836737e-01\n",
            "  5.01515590e-01  6.37863918e-01 -3.09968367e+23 -1.37763719e+23\n",
            " -7.02876117e+22  7.19107931e-01  8.22268581e-01  8.31183876e-01\n",
            "  7.50236802e-01 -3.37986400e-01  1.82811839e-01  8.79395214e-01\n",
            "  8.74188305e-01  8.55890551e-01 -4.49199907e-01  3.91796757e-01\n",
            "  5.25575171e-01  6.07821046e-01  5.27670018e-01  5.71808252e-01\n",
            "  3.41837139e-01  5.17918866e-01  6.00338080e-01  5.81712191e-01\n",
            "  5.77074118e-01  7.03673293e-01  6.56970039e-01  5.89057159e-01\n",
            "  6.67299634e-01  6.75790327e-01  7.00711925e-01  6.78666854e-01\n",
            "  1.53113274e-01  8.46440137e-03  3.73586399e-01  7.18284185e-01\n",
            "  7.44553743e-01  7.84830235e-01  1.09539723e-01  1.80490956e-01\n",
            "  5.88487533e-01 -3.42892827e-01 -3.42892827e-01 -3.42892827e-01\n",
            "             nan             nan             nan  3.77138142e-01\n",
            "  2.28305293e-01  2.91180558e-01             nan             nan\n",
            "             nan  5.52815259e-01  5.21686948e-01  4.75503990e-01\n",
            "             nan             nan             nan  5.06659231e-01\n",
            "  4.78769470e-01  4.69878059e-01             nan             nan\n",
            "             nan  5.07196898e-01  4.35564799e-01  4.38985478e-01\n",
            "             nan             nan             nan  4.04341046e-01\n",
            "  4.03932077e-01  4.64910976e-01             nan             nan\n",
            "             nan  5.66578302e-01  5.65756301e-01  5.66968550e-01\n",
            "             nan             nan             nan  5.51191202e-01\n",
            "  5.53928516e-01  5.60388831e-01             nan             nan\n",
            "             nan  5.41919137e-01  5.41919137e-01  5.41919137e-01]\n",
            "  warnings.warn(\n",
            "/usr/local/lib/python3.9/dist-packages/sklearn/ensemble/_base.py:166: FutureWarning: `base_estimator` was renamed to `estimator` in version 1.2 and will be removed in 1.4.\n",
            "  warnings.warn(\n"
          ]
        }
      ]
    },
    {
      "cell_type": "code",
      "source": [
        "Y_test_pred_BAGGING= bagging_regressor_grid.predict(X_test)\n",
        "Y_train_pred_BAGGING= bagging_regressor_grid.predict(X_train)"
      ],
      "metadata": {
        "id": "oOVJdwC2Tjls"
      },
      "execution_count": null,
      "outputs": []
    },
    {
      "cell_type": "code",
      "source": [
        "Y_test_pred_BAGGING"
      ],
      "metadata": {
        "colab": {
          "base_uri": "https://localhost:8080/"
        },
        "outputId": "3c39a02c-7bc0-4053-8e09-c7e92fd23920",
        "id": "AgRVut4ITjlt"
      },
      "execution_count": null,
      "outputs": [
        {
          "output_type": "execute_result",
          "data": {
            "text/plain": [
              "array([ 80.7809542 ,  70.22071714,  80.88322871, 240.63866923,\n",
              "        92.96794085, 146.0132055 ,  62.23838171])"
            ]
          },
          "metadata": {},
          "execution_count": 483
        }
      ]
    },
    {
      "cell_type": "code",
      "source": [
        "Y_train_pred_BAGGING"
      ],
      "metadata": {
        "colab": {
          "base_uri": "https://localhost:8080/"
        },
        "outputId": "bf823153-f97e-4ed2-8f53-cfea80dc9a74",
        "id": "s_dOrblVTjlt"
      },
      "execution_count": null,
      "outputs": [
        {
          "output_type": "execute_result",
          "data": {
            "text/plain": [
              "array([232.44076441,  93.25315403, 135.77362239, 141.34435436,\n",
              "       156.55421186, 372.6693546 , 133.18189032, 206.4680096 ,\n",
              "       258.49326209, 154.75273393, 290.73201754, 178.74879158,\n",
              "       286.14268869,  86.83749644])"
            ]
          },
          "metadata": {},
          "execution_count": 484
        }
      ]
    },
    {
      "cell_type": "code",
      "source": [
        "#@title Evaluation results  Ensemble Learning Bagging - With Our Hybrid Approach using GridSearchCV \n",
        "\n",
        "diff=np.absolute(Y_test-Y_test_pred_BAGGING)\n",
        "MRE=diff/Y_test\n",
        "MMRE=np.mean(MRE)\n",
        "MdMRE=np.median(MRE)\n",
        "P=MRE[MRE<.25]\n",
        "Pred=(P.size/MRE.size) * 100\n",
        "print(\"MMRE\",MMRE)\n",
        "print(\"MdMRE\",MdMRE)\n",
        "print(\"PRED 25%\",Pred)"
      ],
      "metadata": {
        "colab": {
          "base_uri": "https://localhost:8080/"
        },
        "outputId": "2b16b55d-0c63-4e6e-fc8b-c7f9ed535e02",
        "id": "w1JzSVlHTjlu"
      },
      "execution_count": null,
      "outputs": [
        {
          "output_type": "stream",
          "name": "stdout",
          "text": [
            "MMRE 0.09717511476169909\n",
            "MdMRE 0.11117331087798622\n",
            "PRED 25% 100.0\n"
          ]
        }
      ]
    },
    {
      "cell_type": "code",
      "source": [
        "%%time\n",
        "\n",
        "# n_samples = data_read.data.shape[0]\n",
        "# n_features = data_read.data.shape[1]\n",
        "\n",
        "params = {'base_estimator': [RandomForestRegressor(), DecisionTreeRegressor(), AdaBoostRegressor()],\n",
        "          'n_estimators': [10,15,21],\n",
        "          'max_samples': [0.5,1.0],\n",
        "          'max_features': [0.5,8],\n",
        "          'bootstrap': [True, False],\n",
        "          'bootstrap_features': [True, False]}\n",
        "\n",
        "bagging_regressor_grid = GridSearchCV(BaggingRegressor(random_state=1, n_jobs=-1), param_grid =params, cv=3, n_jobs=-1, verbose=1)\n",
        "bagging_regressor_grid.fit(X_train, Y_train)\n",
        "\n",
        "print('Train R^2 Score : %.3f'%bagging_regressor_grid.best_estimator_.score(X_train, Y_train))\n",
        "print('Test R^2 Score : %.3f'%bagging_regressor_grid.best_estimator_.score(X_test, Y_test))\n",
        "print('Best R^2 Score Through Grid Search : %.3f'%bagging_regressor_grid.best_score_)\n",
        "print('Best Parameters : ',bagging_regressor_grid.best_params_)\n",
        "\n",
        "\n",
        "     "
      ],
      "metadata": {
        "colab": {
          "base_uri": "https://localhost:8080/"
        },
        "outputId": "248162e7-6420-49f3-f8d7-3883c9dbc5f5",
        "id": "K1-Qp6swTT_o"
      },
      "execution_count": null,
      "outputs": [
        {
          "output_type": "stream",
          "name": "stdout",
          "text": [
            "Fitting 3 folds for each of 144 candidates, totalling 432 fits\n"
          ]
        },
        {
          "output_type": "stream",
          "name": "stderr",
          "text": [
            "/usr/local/lib/python3.9/dist-packages/sklearn/model_selection/_validation.py:378: FitFailedWarning: \n",
            "216 fits failed out of a total of 432.\n",
            "The score on these train-test partitions for these parameters will be set to nan.\n",
            "If these failures are not expected, you can try to debug them by setting error_score='raise'.\n",
            "\n",
            "Below are more details about the failures:\n",
            "--------------------------------------------------------------------------------\n",
            "216 fits failed with the following error:\n",
            "Traceback (most recent call last):\n",
            "  File \"/usr/local/lib/python3.9/dist-packages/sklearn/model_selection/_validation.py\", line 686, in _fit_and_score\n",
            "    estimator.fit(X_train, y_train, **fit_params)\n",
            "  File \"/usr/local/lib/python3.9/dist-packages/sklearn/ensemble/_bagging.py\", line 337, in fit\n",
            "    return self._fit(X, y, self.max_samples, sample_weight=sample_weight)\n",
            "  File \"/usr/local/lib/python3.9/dist-packages/sklearn/ensemble/_bagging.py\", line 420, in _fit\n",
            "    raise ValueError(\"max_features must be <= n_features\")\n",
            "ValueError: max_features must be <= n_features\n",
            "\n",
            "  warnings.warn(some_fits_failed_message, FitFailedWarning)\n",
            "/usr/local/lib/python3.9/dist-packages/sklearn/model_selection/_search.py:952: UserWarning: One or more of the test scores are non-finite: [       nan        nan        nan 0.50862731 0.45794824 0.55033962\n",
            "        nan        nan        nan        nan        nan        nan\n",
            "        nan        nan        nan 0.72009241 0.69799447 0.68765911\n",
            "        nan        nan        nan        nan        nan        nan\n",
            "        nan        nan        nan 0.48123704 0.48490308 0.5794404\n",
            "        nan        nan        nan        nan        nan        nan\n",
            "        nan        nan        nan 0.80405723 0.79901167 0.77178794\n",
            "        nan        nan        nan        nan        nan        nan\n",
            " 0.4909472  0.38354742 0.42955253 0.52292528 0.46545295 0.56566917\n",
            "        nan        nan        nan        nan        nan        nan\n",
            " 0.63534723 0.63143594 0.5502378  0.77269984 0.7445832  0.7180133\n",
            "        nan        nan        nan        nan        nan        nan\n",
            " 0.29399477 0.45231062 0.52194817 0.47209218 0.45831215 0.57931271\n",
            "        nan        nan        nan        nan        nan        nan\n",
            " 0.61619872 0.65906643 0.63484909 0.78177624 0.78469536 0.7598922\n",
            "        nan        nan        nan        nan        nan        nan\n",
            " 0.48628265 0.39403518 0.47184204 0.54222323 0.48472315 0.54746798\n",
            "        nan        nan        nan        nan        nan        nan\n",
            " 0.51111195 0.55595577 0.54360295 0.77310016 0.7430563  0.76255276\n",
            "        nan        nan        nan        nan        nan        nan\n",
            " 0.26440535 0.54786973 0.56312228 0.44909088 0.45531043 0.56636514\n",
            "        nan        nan        nan        nan        nan        nan\n",
            " 0.62680908 0.66369087 0.66244614 0.80435167 0.80457642 0.78097133\n",
            "        nan        nan        nan        nan        nan        nan]\n",
            "  warnings.warn(\n",
            "/usr/local/lib/python3.9/dist-packages/sklearn/ensemble/_base.py:166: FutureWarning: `base_estimator` was renamed to `estimator` in version 1.2 and will be removed in 1.4.\n",
            "  warnings.warn(\n"
          ]
        },
        {
          "output_type": "stream",
          "name": "stdout",
          "text": [
            "Train R^2 Score : 0.993\n",
            "Test R^2 Score : 0.585\n",
            "Best R^2 Score Through Grid Search : 0.805\n",
            "Best Parameters :  {'base_estimator': AdaBoostRegressor(), 'bootstrap': False, 'bootstrap_features': False, 'max_features': 0.5, 'max_samples': 1.0, 'n_estimators': 15}\n",
            "CPU times: user 1.24 s, sys: 106 ms, total: 1.35 s\n",
            "Wall time: 1min 57s\n"
          ]
        }
      ]
    },
    {
      "cell_type": "code",
      "source": [
        "Y_test_pred_BAGGING= bagging_regressor_grid.predict(X_test)\n",
        "Y_train_pred_BAGGING= bagging_regressor_grid.predict(X_train)"
      ],
      "metadata": {
        "id": "D6yDznMQTT_q"
      },
      "execution_count": null,
      "outputs": []
    },
    {
      "cell_type": "code",
      "source": [
        "Y_test_pred_BAGGING"
      ],
      "metadata": {
        "colab": {
          "base_uri": "https://localhost:8080/"
        },
        "outputId": "37e6034e-c128-4fad-b7e8-02ae58686e10",
        "id": "QpHofsYATT_q"
      },
      "execution_count": null,
      "outputs": [
        {
          "output_type": "execute_result",
          "data": {
            "text/plain": [
              "array([107.36666667, 107.57777778, 107.21111111, 241.53333333,\n",
              "       109.48888889, 125.39      , 107.57777778])"
            ]
          },
          "metadata": {},
          "execution_count": 488
        }
      ]
    },
    {
      "cell_type": "code",
      "source": [
        "Y_train_pred_BAGGING"
      ],
      "metadata": {
        "colab": {
          "base_uri": "https://localhost:8080/"
        },
        "outputId": "6a74c5aa-e0cd-4256-c501-e2219cc6c3d4",
        "id": "UIWKniLCTT_r"
      },
      "execution_count": null,
      "outputs": [
        {
          "output_type": "execute_result",
          "data": {
            "text/plain": [
              "array([212.91111111, 106.94444444, 133.27222222, 123.19555556,\n",
              "       160.25111111, 335.8       , 122.2       , 208.81555556,\n",
              "       257.        , 153.22333333, 331.        , 163.19904762,\n",
              "       289.        , 107.57777778])"
            ]
          },
          "metadata": {},
          "execution_count": 489
        }
      ]
    },
    {
      "cell_type": "code",
      "source": [
        "#@title Evaluation results  Ensemble Learning Bagging - With Our Hybrid Approach using GridSearchCV \n",
        "# print('The r Score on the predictrd trained Set: %.2f'% r2_score(Y_test,Y_test_pred_BAGGING))\n",
        "\n",
        "diff=np.absolute(Y_test-Y_test_pred_BAGGING)\n",
        "MRE=diff/Y_test\n",
        "MMRE=np.mean(MRE)\n",
        "MdMRE=np.median(MRE)\n",
        "P=MRE[MRE<.25]\n",
        "Pred=(P.size/MRE.size) * 100\n",
        "print(\"MMRE\",MMRE)\n",
        "print(\"MdMRE\",MdMRE)\n",
        "print(\"PRED 25%\",Pred)"
      ],
      "metadata": {
        "colab": {
          "base_uri": "https://localhost:8080/"
        },
        "outputId": "f89652ee-a4af-43a0-cd7d-5b5db93eca72",
        "id": "qDu59By0TT_r"
      },
      "execution_count": null,
      "outputs": [
        {
          "output_type": "stream",
          "name": "stdout",
          "text": [
            "MMRE 0.27230750235139356\n",
            "MdMRE 0.1957095709570957\n",
            "PRED 25% 57.14285714285714\n"
          ]
        }
      ]
    },
    {
      "cell_type": "code",
      "source": [],
      "metadata": {
        "id": "wP6fIjpdvLE6"
      },
      "execution_count": null,
      "outputs": []
    },
    {
      "cell_type": "code",
      "execution_count": null,
      "metadata": {
        "id": "UWHyyiQGmQ4O"
      },
      "outputs": [],
      "source": [
        "#@title Decision tree\n",
        "# from sklearn import svm\n",
        "# from sklearn.tree import DecisionTreeRegressor\n",
        "\n",
        "# #from sklearn.model_selection import train_test_split\n",
        "# import pandas as pd\n",
        "# import numpy as np\n",
        "# import matplotlib.pyplot as plt\n",
        "\n",
        "\n",
        "# data_read = pd.read_csv('Zia_upd22.csv')\n",
        "\n",
        "# X = data_read.iloc[:,0:8].values\n",
        "# y = data_read.iloc[:,:-1].values\n",
        "# regressor = DecisionTreeRegressor(random_state =0)\n",
        "# regressor.fit(X, y)\n",
        "\n",
        "\n"
      ]
    },
    {
      "cell_type": "code",
      "execution_count": null,
      "metadata": {
        "id": "p7fAwTYQdI9Y"
      },
      "outputs": [],
      "source": []
    },
    {
      "cell_type": "code",
      "execution_count": null,
      "metadata": {
        "id": "KLqR7yFudqCR"
      },
      "outputs": [],
      "source": []
    },
    {
      "cell_type": "code",
      "execution_count": null,
      "metadata": {
        "id": "le8Yk9F05Wvl"
      },
      "outputs": [],
      "source": [
        "# # @title Let Us calculate Estimated Cost With Raw Data\n",
        "# x=regressor.predict([[154,4.2,0.77,2.7,12,22,310000,63]])\n",
        "# print(\"Estimated Cost:\",x[0]*100000)\n",
        "\n"
      ]
    },
    {
      "cell_type": "code",
      "execution_count": null,
      "metadata": {
        "id": "tlJBjlMgGs_l"
      },
      "outputs": [],
      "source": [
        "# #@title Decision Tree Regression \n",
        "# from sklearn.model_selection import train_test_split\n",
        "# from sklearn import svm\n",
        "# from sklearn.tree import DecisionTreeRegressor\n",
        "\n",
        "# #from sklearn.model_selection import train_test_split\n",
        "# import pandas as pd\n",
        "# import numpy as np\n",
        "# import matplotlib.pyplot as plt\n",
        "\n",
        "\n",
        "# #data_read = pd.read_csv('Zia_upd22.csv')\n",
        "\n",
        "# #X = data_read.iloc[:,1:8].values\n",
        "# #y = data_read.iloc[:,-1].values\n",
        "# #X_train,X_test,y_train,y_test = train_test_split(X,y, test_size=0.20 )\n",
        "\n"
      ]
    },
    {
      "cell_type": "code",
      "execution_count": null,
      "metadata": {
        "id": "t8lbAs_LbZSo"
      },
      "outputs": [],
      "source": [
        "# X.shape"
      ]
    },
    {
      "cell_type": "code",
      "execution_count": null,
      "metadata": {
        "id": "ElDZpJn4oAig"
      },
      "outputs": [],
      "source": [
        "# print(X_train.shape,X_test.shape,y_train.shape,y_test.shape)"
      ]
    },
    {
      "cell_type": "code",
      "execution_count": null,
      "metadata": {
        "id": "UZHkrzd_oeJy"
      },
      "outputs": [],
      "source": [
        "# regressor1 = DecisionTreeRegressor().fit(X_train,y_train)\n",
        "\n",
        "#coefficient of determination \n",
        "# print('Training R_sq is : %.2f'% regressor1.score(X_train,y_train))"
      ]
    },
    {
      "cell_type": "code",
      "execution_count": null,
      "metadata": {
        "id": "BK7ybo6DpyFy"
      },
      "outputs": [],
      "source": [
        "# For the training model EVALUATION\n",
        "# from  sklearn.metrics import mean_absolute_error , mean_squared_error, explained_variance_score , r2_score"
      ]
    },
    {
      "cell_type": "code",
      "execution_count": null,
      "metadata": {
        "id": "eW4d-VMmqy6n"
      },
      "outputs": [],
      "source": [
        "#Prediction on the training dataset\n",
        "y_train_pred= regressor1.predict(X_train)\n",
        "#y_train= regressor1.predict(X_train)"
      ]
    },
    {
      "cell_type": "code",
      "execution_count": null,
      "metadata": {
        "id": "1cnhe1TjrP27"
      },
      "outputs": [],
      "source": [
        "# The r_sq\n",
        "# print('The r_sq ,is :',r2_score(y_train,y_train_pred))"
      ]
    },
    {
      "cell_type": "markdown",
      "metadata": {
        "id": "_S2MXlnpxsdq"
      },
      "source": [
        "Now Calculating r_score "
      ]
    },
    {
      "cell_type": "code",
      "execution_count": null,
      "metadata": {
        "id": "oeu3Ewduxr7X"
      },
      "outputs": [],
      "source": [
        "# The r_sq\n",
        "#print('The r_sq y_test , y_test_pred is: %.2f'% r2_score(y_test,y_test_pred))"
      ]
    },
    {
      "cell_type": "code",
      "execution_count": null,
      "metadata": {
        "id": "lI8AeiO9zrtA"
      },
      "outputs": [],
      "source": [
        "# # plotting the observed and predicted values \n",
        "\n",
        "\n",
        "# # Setting the boundaries and parameters\n",
        "\n",
        "# plt.rcParams['figure.figsize'] = (10,6)\n",
        "# x_ax =range(len(X_test))\n",
        "\n",
        "# #plotting \n",
        "# plt.plot(x_ax, y_test , label='Actual Observed Value', color='yellow',linestyle='-')\n",
        "# plt.plot(x_ax,y_test_pred , label='Predicted values ' , color='red' , linestyle ='--')\n",
        "# plt.grid()\n",
        "# plt.ylabel('dcscfvfdscd')\n",
        "# plt.xlabel('fffdcdcscfvfdscd')\n",
        "# plt.legend(bbox_to_anchor =(0.5,-0.2), loc= 'upper center',ncol=2, frameon = True)"
      ]
    },
    {
      "cell_type": "code",
      "execution_count": null,
      "metadata": {
        "id": "VbEcibp6JDVH",
        "colab": {
          "base_uri": "https://localhost:8080/",
          "height": 487
        },
        "outputId": "8a8c8840-3e6a-40cd-91e9-ef12c2ead962"
      },
      "outputs": [
        {
          "output_type": "stream",
          "name": "stderr",
          "text": [
            "/usr/local/lib/python3.9/dist-packages/sklearn/base.py:439: UserWarning: X does not have valid feature names, but DecisionTreeRegressor was fitted with feature names\n",
            "  warnings.warn(\n",
            "/usr/local/lib/python3.9/dist-packages/sklearn/base.py:439: UserWarning: X does not have valid feature names, but DecisionTreeRegressor was fitted with feature names\n",
            "  warnings.warn(\n"
          ]
        },
        {
          "output_type": "error",
          "ename": "ValueError",
          "evalue": "ignored",
          "traceback": [
            "\u001b[0;31m---------------------------------------------------------------------------\u001b[0m",
            "\u001b[0;31mValueError\u001b[0m                                Traceback (most recent call last)",
            "\u001b[0;32m<ipython-input-502-834fedbd81b5>\u001b[0m in \u001b[0;36m<cell line: 5>\u001b[0;34m()\u001b[0m\n\u001b[1;32m      3\u001b[0m \u001b[0mvisualizer\u001b[0m\u001b[0;34m.\u001b[0m\u001b[0mfit\u001b[0m\u001b[0;34m(\u001b[0m\u001b[0mX_train\u001b[0m\u001b[0;34m,\u001b[0m \u001b[0my_train\u001b[0m\u001b[0;34m)\u001b[0m\u001b[0;34m\u001b[0m\u001b[0;34m\u001b[0m\u001b[0m\n\u001b[1;32m      4\u001b[0m \u001b[0mvisualizer\u001b[0m\u001b[0;34m.\u001b[0m\u001b[0mfit\u001b[0m\u001b[0;34m(\u001b[0m\u001b[0mX_test\u001b[0m\u001b[0;34m,\u001b[0m\u001b[0my_test\u001b[0m\u001b[0;34m)\u001b[0m\u001b[0;34m\u001b[0m\u001b[0;34m\u001b[0m\u001b[0m\n\u001b[0;32m----> 5\u001b[0;31m \u001b[0mvisualizer\u001b[0m\u001b[0;34m.\u001b[0m\u001b[0mscore\u001b[0m\u001b[0;34m(\u001b[0m\u001b[0mX_test\u001b[0m\u001b[0;34m,\u001b[0m\u001b[0my_test\u001b[0m\u001b[0;34m)\u001b[0m\u001b[0;34m\u001b[0m\u001b[0;34m\u001b[0m\u001b[0m\n\u001b[0m\u001b[1;32m      6\u001b[0m \u001b[0mvisualizer\u001b[0m\u001b[0;34m.\u001b[0m\u001b[0mpoof\u001b[0m\u001b[0;34m(\u001b[0m\u001b[0;34m)\u001b[0m\u001b[0;34m\u001b[0m\u001b[0;34m\u001b[0m\u001b[0m\n",
            "\u001b[0;32m/usr/local/lib/python3.9/dist-packages/yellowbrick/regressor/prediction_error.py\u001b[0m in \u001b[0;36mscore\u001b[0;34m(self, X, y, **kwargs)\u001b[0m\n\u001b[1;32m    163\u001b[0m         \"\"\"\n\u001b[1;32m    164\u001b[0m         \u001b[0;31m# super will set score_ on the visualizer\u001b[0m\u001b[0;34m\u001b[0m\u001b[0;34m\u001b[0m\u001b[0m\n\u001b[0;32m--> 165\u001b[0;31m         \u001b[0msuper\u001b[0m\u001b[0;34m(\u001b[0m\u001b[0mPredictionError\u001b[0m\u001b[0;34m,\u001b[0m \u001b[0mself\u001b[0m\u001b[0;34m)\u001b[0m\u001b[0;34m.\u001b[0m\u001b[0mscore\u001b[0m\u001b[0;34m(\u001b[0m\u001b[0mX\u001b[0m\u001b[0;34m,\u001b[0m \u001b[0my\u001b[0m\u001b[0;34m,\u001b[0m \u001b[0;34m**\u001b[0m\u001b[0mkwargs\u001b[0m\u001b[0;34m)\u001b[0m\u001b[0;34m\u001b[0m\u001b[0;34m\u001b[0m\u001b[0m\n\u001b[0m\u001b[1;32m    166\u001b[0m \u001b[0;34m\u001b[0m\u001b[0m\n\u001b[1;32m    167\u001b[0m         \u001b[0my_pred\u001b[0m \u001b[0;34m=\u001b[0m \u001b[0mself\u001b[0m\u001b[0;34m.\u001b[0m\u001b[0mpredict\u001b[0m\u001b[0;34m(\u001b[0m\u001b[0mX\u001b[0m\u001b[0;34m)\u001b[0m\u001b[0;34m\u001b[0m\u001b[0;34m\u001b[0m\u001b[0m\n",
            "\u001b[0;32m/usr/local/lib/python3.9/dist-packages/yellowbrick/regressor/base.py\u001b[0m in \u001b[0;36mscore\u001b[0;34m(self, X, y, **kwargs)\u001b[0m\n\u001b[1;32m    108\u001b[0m             \u001b[0mThe\u001b[0m \u001b[0mR\u001b[0m\u001b[0;34m^\u001b[0m\u001b[0;36m2\u001b[0m \u001b[0mscore\u001b[0m \u001b[0mof\u001b[0m \u001b[0mthe\u001b[0m \u001b[0munderlying\u001b[0m \u001b[0mregressor\u001b[0m\u001b[0;34m\u001b[0m\u001b[0;34m\u001b[0m\u001b[0m\n\u001b[1;32m    109\u001b[0m         \"\"\"\n\u001b[0;32m--> 110\u001b[0;31m         \u001b[0mself\u001b[0m\u001b[0;34m.\u001b[0m\u001b[0mscore_\u001b[0m \u001b[0;34m=\u001b[0m \u001b[0mself\u001b[0m\u001b[0;34m.\u001b[0m\u001b[0mestimator\u001b[0m\u001b[0;34m.\u001b[0m\u001b[0mscore\u001b[0m\u001b[0;34m(\u001b[0m\u001b[0mX\u001b[0m\u001b[0;34m,\u001b[0m \u001b[0my\u001b[0m\u001b[0;34m)\u001b[0m\u001b[0;34m\u001b[0m\u001b[0;34m\u001b[0m\u001b[0m\n\u001b[0m\u001b[1;32m    111\u001b[0m         \u001b[0;32mreturn\u001b[0m \u001b[0mself\u001b[0m\u001b[0;34m.\u001b[0m\u001b[0mscore_\u001b[0m\u001b[0;34m\u001b[0m\u001b[0;34m\u001b[0m\u001b[0m\n",
            "\u001b[0;32m/usr/local/lib/python3.9/dist-packages/sklearn/base.py\u001b[0m in \u001b[0;36mscore\u001b[0;34m(self, X, y, sample_weight)\u001b[0m\n\u001b[1;32m    721\u001b[0m \u001b[0;34m\u001b[0m\u001b[0m\n\u001b[1;32m    722\u001b[0m         \u001b[0my_pred\u001b[0m \u001b[0;34m=\u001b[0m \u001b[0mself\u001b[0m\u001b[0;34m.\u001b[0m\u001b[0mpredict\u001b[0m\u001b[0;34m(\u001b[0m\u001b[0mX\u001b[0m\u001b[0;34m)\u001b[0m\u001b[0;34m\u001b[0m\u001b[0;34m\u001b[0m\u001b[0m\n\u001b[0;32m--> 723\u001b[0;31m         \u001b[0;32mreturn\u001b[0m \u001b[0mr2_score\u001b[0m\u001b[0;34m(\u001b[0m\u001b[0my\u001b[0m\u001b[0;34m,\u001b[0m \u001b[0my_pred\u001b[0m\u001b[0;34m,\u001b[0m \u001b[0msample_weight\u001b[0m\u001b[0;34m=\u001b[0m\u001b[0msample_weight\u001b[0m\u001b[0;34m)\u001b[0m\u001b[0;34m\u001b[0m\u001b[0;34m\u001b[0m\u001b[0m\n\u001b[0m\u001b[1;32m    724\u001b[0m \u001b[0;34m\u001b[0m\u001b[0m\n\u001b[1;32m    725\u001b[0m     \u001b[0;32mdef\u001b[0m \u001b[0m_more_tags\u001b[0m\u001b[0;34m(\u001b[0m\u001b[0mself\u001b[0m\u001b[0;34m)\u001b[0m\u001b[0;34m:\u001b[0m\u001b[0;34m\u001b[0m\u001b[0;34m\u001b[0m\u001b[0m\n",
            "\u001b[0;32m/usr/local/lib/python3.9/dist-packages/sklearn/metrics/_regression.py\u001b[0m in \u001b[0;36mr2_score\u001b[0;34m(y_true, y_pred, sample_weight, multioutput, force_finite)\u001b[0m\n\u001b[1;32m    909\u001b[0m     \u001b[0;34m-\u001b[0m\u001b[0minf\u001b[0m\u001b[0;34m\u001b[0m\u001b[0;34m\u001b[0m\u001b[0m\n\u001b[1;32m    910\u001b[0m     \"\"\"\n\u001b[0;32m--> 911\u001b[0;31m     y_type, y_true, y_pred, multioutput = _check_reg_targets(\n\u001b[0m\u001b[1;32m    912\u001b[0m         \u001b[0my_true\u001b[0m\u001b[0;34m,\u001b[0m \u001b[0my_pred\u001b[0m\u001b[0;34m,\u001b[0m \u001b[0mmultioutput\u001b[0m\u001b[0;34m\u001b[0m\u001b[0;34m\u001b[0m\u001b[0m\n\u001b[1;32m    913\u001b[0m     )\n",
            "\u001b[0;32m/usr/local/lib/python3.9/dist-packages/sklearn/metrics/_regression.py\u001b[0m in \u001b[0;36m_check_reg_targets\u001b[0;34m(y_true, y_pred, multioutput, dtype)\u001b[0m\n\u001b[1;32m     98\u001b[0m         \u001b[0mcorrect\u001b[0m \u001b[0mkeyword\u001b[0m\u001b[0;34m.\u001b[0m\u001b[0;34m\u001b[0m\u001b[0;34m\u001b[0m\u001b[0m\n\u001b[1;32m     99\u001b[0m     \"\"\"\n\u001b[0;32m--> 100\u001b[0;31m     \u001b[0mcheck_consistent_length\u001b[0m\u001b[0;34m(\u001b[0m\u001b[0my_true\u001b[0m\u001b[0;34m,\u001b[0m \u001b[0my_pred\u001b[0m\u001b[0;34m)\u001b[0m\u001b[0;34m\u001b[0m\u001b[0;34m\u001b[0m\u001b[0m\n\u001b[0m\u001b[1;32m    101\u001b[0m     \u001b[0my_true\u001b[0m \u001b[0;34m=\u001b[0m \u001b[0mcheck_array\u001b[0m\u001b[0;34m(\u001b[0m\u001b[0my_true\u001b[0m\u001b[0;34m,\u001b[0m \u001b[0mensure_2d\u001b[0m\u001b[0;34m=\u001b[0m\u001b[0;32mFalse\u001b[0m\u001b[0;34m,\u001b[0m \u001b[0mdtype\u001b[0m\u001b[0;34m=\u001b[0m\u001b[0mdtype\u001b[0m\u001b[0;34m)\u001b[0m\u001b[0;34m\u001b[0m\u001b[0;34m\u001b[0m\u001b[0m\n\u001b[1;32m    102\u001b[0m     \u001b[0my_pred\u001b[0m \u001b[0;34m=\u001b[0m \u001b[0mcheck_array\u001b[0m\u001b[0;34m(\u001b[0m\u001b[0my_pred\u001b[0m\u001b[0;34m,\u001b[0m \u001b[0mensure_2d\u001b[0m\u001b[0;34m=\u001b[0m\u001b[0;32mFalse\u001b[0m\u001b[0;34m,\u001b[0m \u001b[0mdtype\u001b[0m\u001b[0;34m=\u001b[0m\u001b[0mdtype\u001b[0m\u001b[0;34m)\u001b[0m\u001b[0;34m\u001b[0m\u001b[0;34m\u001b[0m\u001b[0m\n",
            "\u001b[0;32m/usr/local/lib/python3.9/dist-packages/sklearn/utils/validation.py\u001b[0m in \u001b[0;36mcheck_consistent_length\u001b[0;34m(*arrays)\u001b[0m\n\u001b[1;32m    395\u001b[0m     \u001b[0muniques\u001b[0m \u001b[0;34m=\u001b[0m \u001b[0mnp\u001b[0m\u001b[0;34m.\u001b[0m\u001b[0munique\u001b[0m\u001b[0;34m(\u001b[0m\u001b[0mlengths\u001b[0m\u001b[0;34m)\u001b[0m\u001b[0;34m\u001b[0m\u001b[0;34m\u001b[0m\u001b[0m\n\u001b[1;32m    396\u001b[0m     \u001b[0;32mif\u001b[0m \u001b[0mlen\u001b[0m\u001b[0;34m(\u001b[0m\u001b[0muniques\u001b[0m\u001b[0;34m)\u001b[0m \u001b[0;34m>\u001b[0m \u001b[0;36m1\u001b[0m\u001b[0;34m:\u001b[0m\u001b[0;34m\u001b[0m\u001b[0;34m\u001b[0m\u001b[0m\n\u001b[0;32m--> 397\u001b[0;31m         raise ValueError(\n\u001b[0m\u001b[1;32m    398\u001b[0m             \u001b[0;34m\"Found input variables with inconsistent numbers of samples: %r\"\u001b[0m\u001b[0;34m\u001b[0m\u001b[0;34m\u001b[0m\u001b[0m\n\u001b[1;32m    399\u001b[0m             \u001b[0;34m%\u001b[0m \u001b[0;34m[\u001b[0m\u001b[0mint\u001b[0m\u001b[0;34m(\u001b[0m\u001b[0ml\u001b[0m\u001b[0;34m)\u001b[0m \u001b[0;32mfor\u001b[0m \u001b[0ml\u001b[0m \u001b[0;32min\u001b[0m \u001b[0mlengths\u001b[0m\u001b[0;34m]\u001b[0m\u001b[0;34m\u001b[0m\u001b[0;34m\u001b[0m\u001b[0m\n",
            "\u001b[0;31mValueError\u001b[0m: Found input variables with inconsistent numbers of samples: [3, 7]"
          ]
        }
      ],
      "source": [
        "from yellowbrick.regressor import PredictionError \n",
        "visualizer = PredictionError(regressor1)\n",
        "visualizer.fit(X_train, y_train)\n",
        "visualizer.fit(X_test,y_test)\n",
        "visualizer.score(X_test,y_test)\n",
        "visualizer.poof()"
      ]
    },
    {
      "cell_type": "markdown",
      "metadata": {
        "id": "eiLDU6jGQFxB"
      },
      "source": []
    },
    {
      "cell_type": "code",
      "execution_count": null,
      "metadata": {
        "id": "KseWX0L0zsTk"
      },
      "outputs": [],
      "source": [
        "# The MAE\n",
        "print('The MAE is :  ', mean_absolute_error(y_test,y_test_pred ))"
      ]
    },
    {
      "cell_type": "code",
      "execution_count": null,
      "metadata": {
        "id": "QbnJkEVEI5Ok"
      },
      "outputs": [],
      "source": [
        "#pip install yellowbrick"
      ]
    },
    {
      "cell_type": "code",
      "execution_count": null,
      "metadata": {
        "id": "B_BeharmKH2f"
      },
      "outputs": [],
      "source": [
        "# Residuals plot \n",
        "from yellowbrick.regressor import ResidualsPlot\n",
        "visualizer = ResidualsPlot(regressor1)\n",
        "visualizer.fit(X_train,y_train)\n",
        "visualizer.score(X_test,y_test)\n",
        "visualizer.poof()"
      ]
    },
    {
      "cell_type": "code",
      "execution_count": null,
      "metadata": {
        "id": "wK1NQhJ4LD23"
      },
      "outputs": [],
      "source": [
        "# testing the Model Evaluation\n",
        "\n"
      ]
    },
    {
      "cell_type": "code",
      "execution_count": null,
      "metadata": {
        "id": "tUFEVxKNLuBN"
      },
      "outputs": [],
      "source": [
        "# MAE \n",
        "print('The MAE is :%.2f'% mean_absolute_error(y_test,y_test_pred))"
      ]
    },
    {
      "cell_type": "code",
      "execution_count": null,
      "metadata": {
        "id": "voJqYfSYMSoB"
      },
      "outputs": [],
      "source": [
        "# The MSE \n",
        "print('The MSE is : %.2f'% mean_squared_error(y_test,y_test_pred))"
      ]
    },
    {
      "cell_type": "code",
      "execution_count": null,
      "metadata": {
        "id": "89T3EjETMwDO"
      },
      "outputs": [],
      "source": [
        "print('The RMSE is : %.2f'% np.sqrt(mean_squared_error(y_test,y_test_pred)))"
      ]
    },
    {
      "cell_type": "code",
      "execution_count": null,
      "metadata": {
        "id": "b0rWyVHUN6GF"
      },
      "outputs": [],
      "source": [
        "# k-fold cross-validation\n",
        "from sklearn.model_selection import cross_val_score"
      ]
    },
    {
      "cell_type": "code",
      "execution_count": null,
      "metadata": {
        "id": "3NJLR-nwOLSu"
      },
      "outputs": [],
      "source": [
        "#On the training Dataset\n",
        "from sklearn.model_selection import cross_val_score\n",
        "score_train = cross_val_score(regressor1,X_train,y_train,scoring = 'neg_mean_squared_error' , cv= 10)"
      ]
    },
    {
      "cell_type": "code",
      "execution_count": null,
      "metadata": {
        "id": "12nkAoQpPivF"
      },
      "outputs": [],
      "source": [
        "score_train"
      ]
    },
    {
      "cell_type": "code",
      "execution_count": null,
      "metadata": {
        "id": "rsAZEcGjP7Ju"
      },
      "outputs": [],
      "source": [
        "score_train = np.mean(score_train)\n",
        "print(score_train)"
      ]
    },
    {
      "cell_type": "code",
      "execution_count": null,
      "metadata": {
        "id": "5xRMubWuRE7T"
      },
      "outputs": [],
      "source": [
        "# To make make it Positivme \n",
        "from numpy import absolute\n",
        "score_train = absolute(score_train)\n",
        "score_train"
      ]
    },
    {
      "cell_type": "code",
      "execution_count": null,
      "metadata": {
        "id": "AUQpfnkyRdOT"
      },
      "outputs": [],
      "source": [
        "# CV on thee testing data \n",
        "score_test = cross_val_score(regressor1, X_test, y_test, scoring ='neg_mean_squared_error' , cv= 5)"
      ]
    },
    {
      "cell_type": "code",
      "execution_count": null,
      "metadata": {
        "id": "8tKJC670SeNo"
      },
      "outputs": [],
      "source": [
        "print(score_test)"
      ]
    },
    {
      "cell_type": "code",
      "execution_count": null,
      "metadata": {
        "id": "w_TkkypySm0_"
      },
      "outputs": [],
      "source": [
        "#The Mean sCORE \n",
        "score_test = np.mean(score_test)\n",
        "score_test"
      ]
    },
    {
      "cell_type": "code",
      "execution_count": null,
      "metadata": {
        "id": "bX71DdHN-A56"
      },
      "outputs": [],
      "source": [
        "import pandas as pd\n",
        "pred_y_diff = pd.DataFrame({'Actual Values of Cost':y_test,'Predicted Effort':y_test_pred,'Difference':y_test-y_test_pred})\n",
        "\n",
        "pred_y_diff[0:21]"
      ]
    },
    {
      "cell_type": "markdown",
      "metadata": {
        "id": "2XY7zQz5c6wI"
      },
      "source": [
        "# New Work "
      ]
    },
    {
      "cell_type": "code",
      "execution_count": null,
      "metadata": {
        "id": "Jq3-_QjtdJsK"
      },
      "outputs": [],
      "source": [
        "# Let us first import The\n",
        "\n"
      ]
    },
    {
      "cell_type": "code",
      "execution_count": null,
      "metadata": {
        "id": "qviLcRVIQynI"
      },
      "outputs": [],
      "source": [
        "from sklearn.preprocessing import PolynomialFeatures\n",
        "pf=PolynomialFeatures()\n",
        "#linear Equation of Degree two\n",
        "\n",
        "Y=data_read.Actual_Cost\n",
        "X_poly=pf.fit_transform(Cat_1)\n",
        "\n",
        "ml.fit(X_poly,Y)\n",
        "\n",
        "\n",
        "\n",
        "# x_train=data_read.drop('Actual_Cost',axis =1)\n",
        "# y_train=data_read['Actual_Cost']\n",
        "\n",
        "# x_test=test.drop('Actual_Cost',axis =1)\n",
        "# y_test=test['Actual_Cost']\n",
        "\n",
        "\n",
        "# x=x_test.as_matrix()\n",
        "# y=y_test.as_matrix()\n",
        "\n",
        "\n",
        "# yp=ml.predict(X_poly,Y)\n",
        "# mean_absolute_error(y_test,yp)"
      ]
    }
  ],
  "metadata": {
    "colab": {
      "provenance": [],
      "include_colab_link": true
    },
    "kernelspec": {
      "display_name": "Python 3",
      "name": "python3"
    },
    "language_info": {
      "name": "python"
    },
    "gpuClass": "standard"
  },
  "nbformat": 4,
  "nbformat_minor": 0
}